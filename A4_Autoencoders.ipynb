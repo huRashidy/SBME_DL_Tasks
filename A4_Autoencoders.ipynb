{
  "cells": [
    {
      "cell_type": "markdown",
      "metadata": {},
      "source": [
        "---\n",
        "# Cairo University Faculty of Engineering\n",
        "## Deep Learning \n",
        "## Assignment 4\n",
        "\n",
        "---"
      ]
    },
    {
      "cell_type": "markdown",
      "metadata": {},
      "source": [
        "Please write your full name here\n",
        "- **Name** : \"-----------\""
      ]
    },
    {
      "cell_type": "markdown",
      "metadata": {
        "id": "mdQLJE6OnCGi"
      },
      "source": [
        "# Imports"
      ]
    },
    {
      "cell_type": "code",
      "execution_count": null,
      "metadata": {
        "id": "5zvUMjkBmwzz"
      },
      "outputs": [],
      "source": [
        "import matplotlib.pyplot as plt\n",
        "import numpy as np\n",
        "import pandas as pd\n",
        "import tensorflow as tf\n",
        "\n",
        "from sklearn.metrics import accuracy_score, precision_score, recall_score\n",
        "from sklearn.model_selection import train_test_split\n",
        "from tensorflow.keras import layers, losses\n",
        "import tensorflow_datasets as tfds\n",
        "from tensorflow.keras.datasets import fashion_mnist\n",
        "from tensorflow.keras.models import Model\n",
        "\n",
        "# to make this notebook's output stable across runs\n",
        "np.random.seed(42)\n",
        "tf.random.set_seed(42)"
      ]
    },
    {
      "cell_type": "markdown",
      "metadata": {
        "id": "UNd1fty3m2Kd"
      },
      "source": [
        "# Part 1 Autoencoders"
      ]
    },
    {
      "cell_type": "markdown",
      "metadata": {
        "id": "9oFSIjGVxPud"
      },
      "source": [
        "## 1.1 Autoencoders Latent Space"
      ]
    },
    {
      "cell_type": "markdown",
      "metadata": {
        "id": "w6NxYiQI0qiw"
      },
      "source": [
        "The beauty of autoencoders is the possibility to see these internal representations. The bottleneck layer enforces data compression by having fewer units than input and output layers. Further limiting this layer to two or three units enables us to see how the autoencoder is organizing the data internally in two or three-dimensional latent space."
      ]
    },
    {
      "cell_type": "markdown",
      "metadata": {
        "id": "KzW-OkOI1mWp"
      },
      "source": [
        "### Dataset"
      ]
    },
    {
      "cell_type": "markdown",
      "metadata": {
        "id": "1dXkJQrb1v0q"
      },
      "source": [
        "We will use the MNIST numbers dataset but load it using a different method\n",
        "- Use tfds (tensorflow_datasets) to load the mnist numbers dataset\n",
        "- In the tfds.load function:\n",
        "  - Split the data into test and train \n",
        "  - Shuffle the data\n",
        "  - Make sure to load the labels with the data ('as_supervised' flag)\n"
      ]
    },
    {
      "cell_type": "code",
      "execution_count": null,
      "metadata": {
        "id": "AKkydr_52sSz"
      },
      "outputs": [],
      "source": [
        "# Your code here\n",
        "(ds_train, ds_test_) = ###\n"
      ]
    },
    {
      "cell_type": "markdown",
      "metadata": {
        "id": "OuLCsrhj5wf7"
      },
      "source": [
        "**For ds_train**"
      ]
    },
    {
      "cell_type": "markdown",
      "metadata": {
        "id": "Q7bkGpQW23Ju"
      },
      "source": [
        "- Fill in the missing code in 'preprocess function' to:\n",
        "  - Cast the image to tf.float32\n",
        "  - Normalize the image by dividing it by 255.0\n",
        "- Batch the dataset\n",
        "- Apply preprocess function to ds_train using 'map'\n",
        "- cache and prefetch ds_train  (use tf.data.AUTOTONE)\n",
        "  -  [What's caching and prefething?](https://www.tensorflow.org/guide/data_performance#prefetching)\n"
      ]
    },
    {
      "cell_type": "code",
      "execution_count": null,
      "metadata": {
        "id": "nP1xYYesxVlD"
      },
      "outputs": [],
      "source": [
        "batch_size = 256\n",
        "\n",
        "\n",
        "def preprocess(image, label):\n",
        "    # cast image to tf.float32\n",
        "    image = \n",
        "    # normalize image\n",
        "    image = \n",
        "    \n",
        "    return image, image\n",
        "\n",
        "# batch dataset\n",
        "ds_train = \n",
        "# apply preprocess using map\n",
        "ds_train = \n",
        "# cache data\n",
        "ds_train = \n",
        "# prefetch data\n",
        "ds_train = "
      ]
    },
    {
      "cell_type": "markdown",
      "metadata": {
        "id": "P0-dFyfr52Oz"
      },
      "source": [
        "**For ds_test**"
      ]
    },
    {
      "cell_type": "markdown",
      "metadata": {
        "id": "nt8P8tL958FY"
      },
      "source": [
        "- Apply the same previous transformations to ds_test"
      ]
    },
    {
      "cell_type": "code",
      "execution_count": null,
      "metadata": {
        "id": "GraqHpXu53aZ"
      },
      "outputs": [],
      "source": [
        "## Your Code here\n",
        "# batch dataset\n",
        "ds_test = \n",
        "# apply preprocess using map\n",
        "ds_test = \n",
        "# cache data\n",
        "ds_test = \n",
        "# prefetch data\n",
        "ds_test = "
      ]
    },
    {
      "cell_type": "markdown",
      "metadata": {
        "id": "GZmrzhBo6PPW"
      },
      "source": [
        "- Fill the missing code for the following function to return image and label for testing"
      ]
    },
    {
      "cell_type": "code",
      "execution_count": null,
      "metadata": {
        "id": "nORHdnPJ6UQX"
      },
      "outputs": [],
      "source": [
        "# return label for testing\n",
        "def preprocess_with_label(image, label):\n",
        "  #cast image to tf.float32\n",
        "  image = \n",
        "  # Normalize image by dividing by 255.0\n",
        "  image = \n",
        "  # return image and label\n",
        "  return\n",
        "\n",
        "# Use map to apply the above function to ds_test_ then batch (size=1000), cache and prefectch it\n",
        "ds_test_label = "
      ]
    },
    {
      "cell_type": "markdown",
      "metadata": {
        "id": "V0GXQkfq7UWY"
      },
      "source": [
        "### Latent Space Visualization"
      ]
    },
    {
      "cell_type": "markdown",
      "metadata": {
        "id": "csNmVORa7YK6"
      },
      "source": [
        "The plotting functions help visualize the encoding of inputs from high dimension into 2D latent space, and decoding back to the original dimension. The functions produces two plots:\n",
        "\n",
        "- **Encoder map** shows the mapping from input images to coordinates (z1,z2) in latent space, with digit labels displayed in colorbar\n",
        "\n",
        "- **Decoder** **grid** shows reconstructions from a grid of latent space coordinates (z1,z2)"
      ]
    },
    {
      "cell_type": "markdown",
      "metadata": {
        "id": "JCRq61U_8zNn"
      },
      "source": [
        "![Latent space visualization](https://github.com/mpbrigham/colaboratory-figures/raw/master/nma/autoencoders/latent_space_plots_noaxis.png)"
      ]
    },
    {
      "cell_type": "markdown",
      "metadata": {
        "id": "doa7VkPm9OCv"
      },
      "source": [
        "Build **TWO** fully connected models:\n",
        "1. Encoder: (1 layer only)\n",
        "  - layer 0 reshape input image to a vector\n",
        "  - layer 1: 64 neurons\n",
        "  - layer 2: 32 neurons\n",
        "  - layer 3: 16 neurons\n",
        "  - layer 4/encoding_dim : 2 neurons (no activation)\n",
        "  - layer 5: Batch Normalization [What?](https://towardsdatascience.com/batch-normalization-in-3-levels-of-understanding-14c2da90a338) \n",
        "2. Decoder: (1 layer only)\n",
        "  - layer 0 : 16 neurons\n",
        "  - layer 1 : 32 neurons\n",
        "  - layer 2 : 64 neurons\n",
        "  - layer 3 : output image vector shape (sigmoid)\n",
        "  - layer 4: reshape vector to a 2D image\n",
        "\n",
        "- All layers use ReLu activation unless stated otherwise."
      ]
    },
    {
      "cell_type": "code",
      "execution_count": null,
      "metadata": {
        "id": "FErjbvMx8Gwj"
      },
      "outputs": [],
      "source": [
        "encoder = \n",
        "\n",
        "decoder = \n",
        "\n",
        "autoencoder = tf.keras.Sequential([encoder, decoder])"
      ]
    },
    {
      "cell_type": "markdown",
      "metadata": {
        "id": "fbDvzQOI-vlK"
      },
      "source": [
        "Compile the model using adam optimizer and binary cross entropy error loss function"
      ]
    },
    {
      "cell_type": "code",
      "execution_count": null,
      "metadata": {
        "id": "RtwnJVmY-vlK"
      },
      "outputs": [],
      "source": []
    },
    {
      "cell_type": "markdown",
      "metadata": {
        "id": "5hrlHYTB-UWU"
      },
      "source": [
        "- Train the network for `epochs=50` epochs and `validation_data=ds_test`, and visualize a few reconstructed samples.\n",
        "    - Load the weights in ./checkpoints/autoencoder to your model as initial weights BEFORE training"
      ]
    },
    {
      "cell_type": "code",
      "execution_count": null,
      "metadata": {
        "colab": {
          "base_uri": "https://localhost:8080/"
        },
        "id": "EFGQ_pDN-kTJ",
        "outputId": "d0eaac79-7612-411b-8a2b-76302f9ea341"
      },
      "outputs": [],
      "source": [
        "#### Your Code Here \n",
        "# load the weights in ./checkpoints/autoencoder to ur built model\n",
        "\n",
        "# train model\n",
        "history="
      ]
    },
    {
      "cell_type": "markdown",
      "metadata": {
        "id": "X-2e5mvJBPcn"
      },
      "source": [
        "- Load a batch of images from test set (ds_test) and display 10 of them\n",
        "  - Display the original images in 1 row\n",
        "  - Display their reconstruction from autoencoder in 2nd row"
      ]
    },
    {
      "cell_type": "code",
      "execution_count": null,
      "metadata": {
        "colab": {
          "base_uri": "https://localhost:8080/",
          "height": 208
        },
        "id": "3zwnO8FfBcjY",
        "outputId": "46cb0ade-4670-48ec-db64-310d9ee842fc"
      },
      "outputs": [],
      "source": [
        "## Your Code Here"
      ]
    },
    {
      "cell_type": "markdown",
      "metadata": {
        "id": "ooiM1FH7QgPX"
      },
      "source": [
        "We can use autoencoder to generate images!! Now that we have a trained autoencoder, we can ignore the encoder and use only the \n",
        "decoder to sample from the latent variables to generate images. As we \n",
        "did not use any activation in the last layer before the latent variables, the latent space is \n",
        "unbounded and can be any real floating numbers, and there are hundreds of them!"
      ]
    },
    {
      "cell_type": "markdown",
      "metadata": {
        "id": "AenflgAZPHJ1"
      },
      "source": [
        "Let's look at the latent space.\n",
        "- Load a batch of images from test data with their labels (ds_test_label)\n",
        "- Use the encoder model to predict their latent space dimensions"
      ]
    },
    {
      "cell_type": "markdown",
      "metadata": {
        "id": "p5xGEmtTRWfk"
      },
      "source": [
        "The color bar on the right indicates the intensity of \n",
        "the digit labels."
      ]
    },
    {
      "cell_type": "code",
      "execution_count": null,
      "metadata": {
        "colab": {
          "base_uri": "https://localhost:8080/",
          "height": 522
        },
        "id": "oHhfmr29Mk85",
        "outputId": "317de9d2-2050-4025-83f5-aa6d2199e2c8"
      },
      "outputs": [],
      "source": [
        "## Your code here\n",
        "\n",
        "images, labels = \n",
        "z_dims = \n",
        "\n",
        "\n",
        "plt.figure(figsize=(8,8))\n",
        "plt.scatter(z_dims[:,0], z_dims[:,1], c=labels, cmap='RdYlBu', s=3)\n",
        "plt.colorbar()"
      ]
    },
    {
      "cell_type": "markdown",
      "metadata": {
        "id": "3wpJ3cteHnyk"
      },
      "source": [
        "The classes are not distributed uniformly. You can see clusters that are well separated from other classes"
      ]
    },
    {
      "cell_type": "markdown",
      "metadata": {
        "id": "yiMrfhGKR0wy"
      },
      "source": [
        "You might be able to see the non-uniformity better in the following images, which we will \n",
        "generat by sweeping the latent variables from start of above axis to its end with a 1.0 interval"
      ]
    },
    {
      "cell_type": "markdown",
      "metadata": {
        "id": "wKLzcNp8So0_"
      },
      "source": [
        "- z_samples: Create a 2D numpy array of shape (100, 2) that contains [z1, z2] values in the range (-5, 5) a 1.0 interval \n",
        "- images: Use the decoder model to construct images from those embeddings (z_samples)"
      ]
    },
    {
      "cell_type": "code",
      "execution_count": null,
      "metadata": {
        "colab": {
          "base_uri": "https://localhost:8080/",
          "height": 784
        },
        "id": "kRJ339pdSWl0",
        "outputId": "22c02377-f611-403a-e6fa-94b3fd36c9c6"
      },
      "outputs": [],
      "source": [
        "## Your code here\n",
        "z__samples=\n",
        "\n",
        "images = \n",
        "\n",
        "\n",
        "grid_col = 10\n",
        "grid_row = 10\n",
        "\n",
        "f, axarr = plt.subplots(grid_row, grid_col, figsize=(grid_col, grid_row))\n",
        "\n",
        "i = 0\n",
        "for row in range(grid_row):\n",
        "    for col in range(grid_col):\n",
        "        axarr[row,col].imshow(images[i,:,:], cmap='gray')\n",
        "        axarr[row,col].axis('off')   \n",
        "        i += 1\n",
        "f.tight_layout(0.1, h_pad=0.2, w_pad=0.1)        \n",
        "plt.show() "
      ]
    },
    {
      "cell_type": "markdown",
      "metadata": {
        "id": "OYIw40qxfxq7"
      },
      "source": [
        "This widget allows you to slide the latent variable \n",
        "bars to generate images interactively. Have fun!"
      ]
    },
    {
      "cell_type": "code",
      "execution_count": null,
      "metadata": {
        "colab": {
          "base_uri": "https://localhost:8080/",
          "height": 258,
          "referenced_widgets": [
            "22009c1beb5a4dd09fe641be7889c592",
            "82fd95ec5aaf4d49a603efe6d3f61928",
            "10a60cc41eae4a349826f5a49c78b1bb",
            "7f375b18d0c9483aa4ac487bfdbfb1d3",
            "2a5596ad293c4c1aaae8f6fe63d9f272",
            "09db1d00a919485f9de4a0405e9cb857",
            "0b7f328a82874dfe892677e5139c58cf",
            "407910e1682746bcb2003f7f4c3860ef",
            "2ee4a6754fa24678b5bade8d670540da",
            "3993627081d84206b07088062213744f"
          ]
        },
        "id": "DKXh_USafiOY",
        "outputId": "e9620eb1-3816-4b7c-d900-e2268f10a512"
      },
      "outputs": [],
      "source": [
        "import ipywidgets as widgets\n",
        "from ipywidgets import interact, interact_manual\n",
        "@interact\n",
        "def explore_latent_variable(z1 = (-5,5,0.1),\n",
        "                            z2 = (-5,5,0.1)):\n",
        "    z_samples = [[z1, z2]]\n",
        "    images = decoder.predict(z_samples)\n",
        "    plt.figure(figsize=(2,2))\n",
        "    plt.imshow(images[0,:,:], cmap='gray')"
      ]
    },
    {
      "cell_type": "markdown",
      "metadata": {
        "id": "kJoaPKhcUUmD"
      },
      "source": [
        "We can see that some digits are well represented in the sample distribution and they \n",
        "are nicely drawn too. It is not the case for some other digits, which are blurry, and some \n",
        "digits are even missing from the samples. The latter shows the shortcoming where there is \n",
        "very little variation in generated images for those classes."
      ]
    },
    {
      "cell_type": "markdown",
      "metadata": {
        "id": "1Lwl6870xD2S"
      },
      "source": [
        "## 1.2 Anomaly Detection"
      ]
    },
    {
      "cell_type": "markdown",
      "metadata": {
        "id": "2ThdwgoZnGaf"
      },
      "source": [
        "### Dataset"
      ]
    },
    {
      "cell_type": "markdown",
      "metadata": {
        "id": "zF67u25snPmD"
      },
      "source": [
        "In this example, you will train an autoencoder to detect anomalies on the ECG5000 dataset. This dataset contains 5,000 Electrocardiograms, each with 140 data points. You will use a simplified version of the dataset, where each example has been labeled either 0 (corresponding to an abnormal rhythm), or 1 (corresponding to a normal rhythm). You are interested in identifying the abnormal rhythms.\n",
        "\n",
        "Note: This is a labeled dataset, so you could phrase this as a supervised learning problem. The goal of this example is to illustrate **anomaly detection** concepts you can apply to larger datasets, where you do not have labels available (for example, if you had many thousands of normal rhythms, and only a small number of abnormal rhythms).\n",
        "\n",
        "How will you detect anomalies using an autoencoder? Recall that an autoencoder is trained to minimize reconstruction error. *You will train an autoencoder on the normal rhythms only, then use it to reconstruct all the data. Our hypothesis is that the abnormal rhythms will have higher reconstruction error. You will then classify a rhythm as an anomaly if the reconstruction error surpasses a fixed threshold.*"
      ]
    },
    {
      "cell_type": "markdown",
      "metadata": {
        "id": "cQMuX4e1nhbM"
      },
      "source": [
        "The dataset you will use is based on one from [timeseriesclassification.com](http://www.timeseriesclassification.com/description.php?Dataset=ECG5000).\n"
      ]
    },
    {
      "cell_type": "code",
      "execution_count": null,
      "metadata": {
        "colab": {
          "base_uri": "https://localhost:8080/",
          "height": 299
        },
        "id": "d6YtexjLnPIX",
        "outputId": "19b0b43a-a0f6-4e95-a42c-dbba68ace658"
      },
      "outputs": [],
      "source": [
        "# Download the dataset\n",
        "dataframe = pd.read_csv('http://storage.googleapis.com/download.tensorflow.org/data/ecg.csv', header=None)\n",
        "raw_data = dataframe.values\n",
        "dataframe.head()"
      ]
    },
    {
      "cell_type": "markdown",
      "metadata": {
        "id": "pi-D9026n04f"
      },
      "source": [
        "The last column contains the labels. The other data points are the electrocadriogram data"
      ]
    },
    {
      "cell_type": "markdown",
      "metadata": {
        "id": "X05dZWfNn7XR"
      },
      "source": [
        "- Read the labels and ECG data into different variables\n",
        "- Use sklearn train_test_split to split the data into **20%** test and **80%** train data\n",
        "- Use random state = 21"
      ]
    },
    {
      "cell_type": "code",
      "execution_count": null,
      "metadata": {
        "id": "4sPFNa0vnvM7"
      },
      "outputs": [],
      "source": [
        "#### Your Code Here #####\n",
        "labels = ######\n",
        "data = #####\n",
        "train_data, test_data, train_labels, test_labels = #########"
      ]
    },
    {
      "cell_type": "markdown",
      "metadata": {
        "id": "7Pw1GrcnosJH"
      },
      "source": [
        "Normalize the data to [0,1] using min max normaliztion\n",
        "- you might need to cast data to tf.float32\n",
        "- avoid data leak"
      ]
    },
    {
      "cell_type": "code",
      "execution_count": null,
      "metadata": {
        "id": "eeiMIySKo0UD"
      },
      "outputs": [],
      "source": [
        "######## Your Code Here #######\n",
        "min_val = \n",
        "max_val = \n",
        "\n",
        "train_data = \n",
        "test_data = "
      ]
    },
    {
      "cell_type": "markdown",
      "metadata": {
        "id": "2rDgccj5pQ7q"
      },
      "source": [
        "You will train the autoencoder using only the normal rhythms, which are labeled in this dataset as 1. \n",
        "- Separate the normal rhythms data row from the abnormal rhythms into different variables.\n",
        "- Do this for both test and train data"
      ]
    },
    {
      "cell_type": "code",
      "execution_count": null,
      "metadata": {
        "colab": {
          "base_uri": "https://localhost:8080/"
        },
        "id": "jwvCPsCkpUat",
        "outputId": "d8b2f098-2ae1-4af2-c9ed-4a47db9d4f62"
      },
      "outputs": [],
      "source": [
        "######### Your Code Here ##########\n",
        "train_labels = train_labels.astype(bool)\n",
        "test_labels = test_labels.astype(bool)\n",
        "\n",
        "normal_train_data = \n",
        "normal_test_data = \n",
        "\n",
        "anomalous_train_data = \n",
        "anomalous_test_data = "
      ]
    },
    {
      "cell_type": "markdown",
      "metadata": {
        "id": "B9GORMbHp-rl"
      },
      "source": [
        "Plot a normal ECG. "
      ]
    },
    {
      "cell_type": "code",
      "execution_count": null,
      "metadata": {
        "colab": {
          "base_uri": "https://localhost:8080/",
          "height": 281
        },
        "id": "k0zN1TV1p8-1",
        "outputId": "b13f6eba-b463-496f-caeb-46377e71cafe"
      },
      "outputs": [],
      "source": [
        "plt.grid()\n",
        "plt.plot(np.arange(140), normal_train_data[0])\n",
        "plt.title(\"A Normal ECG\")\n",
        "plt.show()"
      ]
    },
    {
      "cell_type": "markdown",
      "metadata": {
        "id": "0Lxk8NKMqDFK"
      },
      "source": [
        "Plot an anomalous ECG."
      ]
    },
    {
      "cell_type": "code",
      "execution_count": null,
      "metadata": {
        "colab": {
          "base_uri": "https://localhost:8080/",
          "height": 281
        },
        "id": "-B6P0OBNqFSS",
        "outputId": "c8e1360d-e96e-4d87-b81d-a710e3046987"
      },
      "outputs": [],
      "source": [
        "plt.grid()\n",
        "plt.plot(np.arange(140), anomalous_train_data[0])\n",
        "plt.title(\"An Anomalous ECG\")\n",
        "plt.show()"
      ]
    },
    {
      "cell_type": "markdown",
      "metadata": {
        "id": "9VCAVbFQqMlb"
      },
      "source": [
        "### Model"
      ]
    },
    {
      "cell_type": "markdown",
      "metadata": {
        "id": "g0itn7QqqOhy"
      },
      "source": [
        "Build **TWO** fully connected models:\n",
        "1. Encoder:\n",
        "  - layer 1 : 32 neurons\n",
        "  - layer 2 : 16 neurons\n",
        "  - layer 3 : 8 neurons\n",
        "2. Decoder:\n",
        "  - layer 1: 16 neurons\n",
        "  - layer 2: 32 neurons\n",
        "  - layer 3: 140 neurons\n",
        "\n",
        "- All layers use ReLu activation except last layer should have a sigmoid avtivation."
      ]
    },
    {
      "cell_type": "code",
      "execution_count": null,
      "metadata": {
        "id": "XXe7RR9GqOGI"
      },
      "outputs": [],
      "source": [
        "#### Your Code Here \n",
        "encoder=\n",
        "decoder=\n",
        "autoencoder="
      ]
    },
    {
      "cell_type": "markdown",
      "metadata": {
        "id": "_X1ekL8zrlsl"
      },
      "source": [
        "Compile the model using adam optimizer and mean absolute error loss function"
      ]
    },
    {
      "cell_type": "code",
      "execution_count": null,
      "metadata": {
        "id": "ji3yMkv7rdXg"
      },
      "outputs": [],
      "source": [
        "# Your code here"
      ]
    },
    {
      "cell_type": "markdown",
      "metadata": {
        "id": "jzTeb3zVrvmh"
      },
      "source": [
        "- Train the autoencoder using only the normal ECGs data\n",
        "- Use entire test data for validation\n",
        "- Use a batch size = 512\n",
        "- epochs = 20\n",
        "- shuffe the data"
      ]
    },
    {
      "cell_type": "code",
      "execution_count": null,
      "metadata": {
        "colab": {
          "base_uri": "https://localhost:8080/"
        },
        "id": "mshDfqi9r-IN",
        "outputId": "901111bb-e6b3-4918-c4b7-c0304288add3"
      },
      "outputs": [],
      "source": [
        "#### Your Code Here \n",
        "history="
      ]
    },
    {
      "cell_type": "code",
      "execution_count": null,
      "metadata": {
        "colab": {
          "base_uri": "https://localhost:8080/",
          "height": 282
        },
        "id": "bvxhaAU4sNdA",
        "outputId": "a3cd8e38-208b-4205-b1ec-49504c5dadcd"
      },
      "outputs": [],
      "source": [
        "plt.plot(history.history[\"loss\"], label=\"Training Loss\")\n",
        "plt.plot(history.history[\"val_loss\"], label=\"Validation Loss\")\n",
        "plt.legend()"
      ]
    },
    {
      "cell_type": "markdown",
      "metadata": {
        "id": "EvGkf4UDszqg"
      },
      "source": [
        "### Detect Anamolies"
      ]
    },
    {
      "cell_type": "markdown",
      "metadata": {
        "id": "kgYlfkZhsQ2J"
      },
      "source": [
        "You will classify an ECG as anomalous if the reconstruction error is greater than **one standard deviation** from the normal training examples. "
      ]
    },
    {
      "cell_type": "markdown",
      "metadata": {
        "id": "hSmvY6lqsVhb"
      },
      "source": [
        "First, let's plot a normal ECG from the training set, the reconstruction after it's encoded and decoded by the autoencoder, and the reconstruction error."
      ]
    },
    {
      "cell_type": "code",
      "execution_count": null,
      "metadata": {
        "colab": {
          "base_uri": "https://localhost:8080/",
          "height": 265
        },
        "id": "ZYpV5j0zsXZl",
        "outputId": "a57a4b78-4dcb-42bf-87ed-acc7168db34b"
      },
      "outputs": [],
      "source": [
        "encoded_data = encoder(normal_test_data).numpy()\n",
        "decoded_data = decoder(encoded_data).numpy()\n",
        "\n",
        "plt.plot(normal_test_data[0], 'b')\n",
        "plt.plot(decoded_data[0], 'r')\n",
        "plt.fill_between(np.arange(140), decoded_data[0], normal_test_data[0], color='lightcoral')\n",
        "plt.legend(labels=[\"Input\", \"Reconstruction\", \"Error\"])\n",
        "plt.show()"
      ]
    },
    {
      "cell_type": "markdown",
      "metadata": {
        "id": "Py7zxoPjsryo"
      },
      "source": [
        "Create a similar plot, this time for an anomalous test example."
      ]
    },
    {
      "cell_type": "code",
      "execution_count": null,
      "metadata": {
        "colab": {
          "base_uri": "https://localhost:8080/",
          "height": 266
        },
        "id": "kIyBkeqass07",
        "outputId": "72bcf925-ca31-445f-e251-026af5c04f7d"
      },
      "outputs": [],
      "source": [
        "##### Your Code here"
      ]
    },
    {
      "cell_type": "markdown",
      "metadata": {
        "id": "w2dSoi37s532"
      },
      "source": [
        "Calculate the **mean average error** for normal examples from the training set, then classify future examples as anomalous if the *reconstruction error is higher than one standard deviation from the training set*."
      ]
    },
    {
      "cell_type": "markdown",
      "metadata": {
        "id": "jcFwxPqbtiW8"
      },
      "source": [
        "- Predict the ECG reconstructions for **normal ECG train data** only\n",
        "- Calculate the mean absolute error between the predicted reconstructions and the true ECG data (use tf.keras.losses)"
      ]
    },
    {
      "cell_type": "code",
      "execution_count": null,
      "metadata": {
        "colab": {
          "base_uri": "https://localhost:8080/",
          "height": 296
        },
        "id": "NnEwJG8ntG9n",
        "outputId": "e8a9ef01-d1ed-46f9-f05a-743cb50b4638"
      },
      "outputs": [],
      "source": [
        "##### Your Code Here\n",
        "reconstructions = \n",
        "train_loss = \n",
        "\n",
        "\n",
        "\n",
        "plt.hist(train_loss[None,:], bins=50)\n",
        "plt.xlabel(\"Train loss\")\n",
        "plt.ylabel(\"No of examples\")\n",
        "plt.show()"
      ]
    },
    {
      "cell_type": "markdown",
      "metadata": {
        "id": "tSiO1XLatXVw"
      },
      "source": [
        "- Choose a threshold value that is one standard deviations above the mean of the train_loss you just calculated\n",
        "\n",
        "\n"
      ]
    },
    {
      "cell_type": "code",
      "execution_count": null,
      "metadata": {
        "colab": {
          "base_uri": "https://localhost:8080/"
        },
        "id": "gPET5Vi7tXE6",
        "outputId": "8d9dbff6-8ad1-41ec-afdc-f5d4a095ee59"
      },
      "outputs": [],
      "source": [
        "##### Your Code Here\n",
        "mean = \n",
        "std = \n",
        "threshold= \n",
        "\n",
        "print(\"Threshold: \", threshold)"
      ]
    },
    {
      "cell_type": "markdown",
      "metadata": {
        "id": "_-GtcXVwtDUD"
      },
      "source": [
        "Note: There are other strategies you could use to select a threshold value above which test examples should be classified as anomalous, the correct approach will depend on your dataset. You can learn more with the links at the end of this assignment."
      ]
    },
    {
      "cell_type": "markdown",
      "metadata": {
        "id": "fuAjwwMGuhAh"
      },
      "source": [
        "If you examine the reconstruction error for the anomalous examples in the test set, you'll notice most have greater reconstruction error than the threshold. By varing the threshold, you can adjust the [precision](https://developers.google.com/machine-learning/glossary#precision) and [recall](https://developers.google.com/machine-learning/glossary#recall) of your classifier. "
      ]
    },
    {
      "cell_type": "markdown",
      "metadata": {
        "id": "NxTdefOiuj-l"
      },
      "source": [
        "- Predict the ECG reconstructions for **abnormal ECG test data** only\n",
        "- Calculate the mean absolute error between the predicted reconstructions and the true ECG data (use tf.keras.losses)"
      ]
    },
    {
      "cell_type": "code",
      "execution_count": null,
      "metadata": {
        "colab": {
          "base_uri": "https://localhost:8080/",
          "height": 296
        },
        "id": "V5C8BzvjuuU1",
        "outputId": "39c840a4-4a3d-486e-d07f-69d3215acb28"
      },
      "outputs": [],
      "source": [
        "### Your Code Here\n",
        "reconstructions = \n",
        "test_loss = \n",
        "\n",
        "\n",
        "plt.hist(test_loss[None, :], bins=50)\n",
        "plt.xlabel(\"Test loss\")\n",
        "plt.ylabel(\"No of examples\")\n",
        "plt.show()"
      ]
    },
    {
      "cell_type": "markdown",
      "metadata": {
        "id": "36vvhwjNu7mP"
      },
      "source": [
        "Classify an ECG as an anomaly if the reconstruction error is greater than the threshold.\n",
        "- Fill in the missing code for the predict function to do so"
      ]
    },
    {
      "cell_type": "code",
      "execution_count": null,
      "metadata": {
        "id": "p5P78UybvFir"
      },
      "outputs": [],
      "source": [
        "def predict(model, data, threshold):\n",
        "  '''\n",
        "  input: the model\n",
        "  data: test data (contains raw data)\n",
        "  threshold for anomaly classification\n",
        "  '''\n",
        "  ## Use model to predict reconstructions for data\n",
        "  reconstructions =\n",
        "  ## Calculate mae loss between reconstructions and true data\n",
        "  loss = \n",
        "  ## Anomaly should contain 1 if loss >= threshold and 0 otherwise\n",
        "  anomaly =\n",
        "\n",
        "  \n",
        "  return anomaly"
      ]
    },
    {
      "cell_type": "code",
      "execution_count": null,
      "metadata": {
        "id": "UhXvmSlyv-nK"
      },
      "outputs": [],
      "source": [
        "def print_stats(predictions, labels):\n",
        "  print(\"Accuracy = {}\".format(accuracy_score(labels, predictions)))\n",
        "  print(\"Precision = {}\".format(precision_score(labels, predictions)))\n",
        "  print(\"Recall = {}\".format(recall_score(labels, predictions)))"
      ]
    },
    {
      "cell_type": "markdown",
      "metadata": {
        "id": "3ODTi0yNwXc6"
      },
      "source": [
        "Run the following cell to look at the classification acccuracy of your anomaly detection model"
      ]
    },
    {
      "cell_type": "code",
      "execution_count": null,
      "metadata": {
        "colab": {
          "base_uri": "https://localhost:8080/"
        },
        "id": "YdU3wZ57wU3n",
        "outputId": "5ec65087-cd38-4914-b0a5-ecbc768d2f1f"
      },
      "outputs": [],
      "source": [
        "preds = predict(autoencoder, test_data, threshold)\n",
        "print_stats(preds, test_labels)"
      ]
    },
    {
      "cell_type": "markdown",
      "metadata": {
        "id": "6LiiNQoFwx6C"
      },
      "source": [
        "# Extra Sources\n",
        "- Anomaly Detection\n",
        "  - To learn more about anomaly detection with autoencoders, look at [interactive example](https://anomagram.fastforwardlabs.com/#/) built with TensorFlow.js by Victor Dibia. \n",
        "  - For a real-world use case, you can learn how [Airbus Detects Anomalies in ISS Telemetry Data](https://blog.tensorflow.org/2020/04/how-airbus-detects-anomalies-iss-telemetry-data-tfx.html) using TensorFlow."
      ]
    }
  ],
  "metadata": {
    "accelerator": "GPU",
    "colab": {
      "collapsed_sections": [
        "2ThdwgoZnGaf"
      ],
      "provenance": []
    },
    "gpuClass": "standard",
    "kernelspec": {
      "display_name": "Python 3",
      "name": "python3"
    },
    "language_info": {
      "name": "python"
    },
    "widgets": {
      "application/vnd.jupyter.widget-state+json": {
        "09db1d00a919485f9de4a0405e9cb857": {
          "model_module": "@jupyter-widgets/base",
          "model_module_version": "1.2.0",
          "model_name": "LayoutModel",
          "state": {
            "_model_module": "@jupyter-widgets/base",
            "_model_module_version": "1.2.0",
            "_model_name": "LayoutModel",
            "_view_count": null,
            "_view_module": "@jupyter-widgets/base",
            "_view_module_version": "1.2.0",
            "_view_name": "LayoutView",
            "align_content": null,
            "align_items": null,
            "align_self": null,
            "border": null,
            "bottom": null,
            "display": null,
            "flex": null,
            "flex_flow": null,
            "grid_area": null,
            "grid_auto_columns": null,
            "grid_auto_flow": null,
            "grid_auto_rows": null,
            "grid_column": null,
            "grid_gap": null,
            "grid_row": null,
            "grid_template_areas": null,
            "grid_template_columns": null,
            "grid_template_rows": null,
            "height": null,
            "justify_content": null,
            "justify_items": null,
            "left": null,
            "margin": null,
            "max_height": null,
            "max_width": null,
            "min_height": null,
            "min_width": null,
            "object_fit": null,
            "object_position": null,
            "order": null,
            "overflow": null,
            "overflow_x": null,
            "overflow_y": null,
            "padding": null,
            "right": null,
            "top": null,
            "visibility": null,
            "width": null
          }
        },
        "0b7f328a82874dfe892677e5139c58cf": {
          "model_module": "@jupyter-widgets/controls",
          "model_module_version": "1.5.0",
          "model_name": "SliderStyleModel",
          "state": {
            "_model_module": "@jupyter-widgets/controls",
            "_model_module_version": "1.5.0",
            "_model_name": "SliderStyleModel",
            "_view_count": null,
            "_view_module": "@jupyter-widgets/base",
            "_view_module_version": "1.2.0",
            "_view_name": "StyleView",
            "description_width": "",
            "handle_color": null
          }
        },
        "10a60cc41eae4a349826f5a49c78b1bb": {
          "model_module": "@jupyter-widgets/controls",
          "model_module_version": "1.5.0",
          "model_name": "FloatSliderModel",
          "state": {
            "_dom_classes": [],
            "_model_module": "@jupyter-widgets/controls",
            "_model_module_version": "1.5.0",
            "_model_name": "FloatSliderModel",
            "_view_count": null,
            "_view_module": "@jupyter-widgets/controls",
            "_view_module_version": "1.5.0",
            "_view_name": "FloatSliderView",
            "continuous_update": true,
            "description": "z2",
            "description_tooltip": null,
            "disabled": false,
            "layout": "IPY_MODEL_407910e1682746bcb2003f7f4c3860ef",
            "max": 5,
            "min": -5,
            "orientation": "horizontal",
            "readout": true,
            "readout_format": ".2f",
            "step": 0.1,
            "style": "IPY_MODEL_2ee4a6754fa24678b5bade8d670540da",
            "value": 2.5
          }
        },
        "22009c1beb5a4dd09fe641be7889c592": {
          "model_module": "@jupyter-widgets/controls",
          "model_module_version": "1.5.0",
          "model_name": "VBoxModel",
          "state": {
            "_dom_classes": [
              "widget-interact"
            ],
            "_model_module": "@jupyter-widgets/controls",
            "_model_module_version": "1.5.0",
            "_model_name": "VBoxModel",
            "_view_count": null,
            "_view_module": "@jupyter-widgets/controls",
            "_view_module_version": "1.5.0",
            "_view_name": "VBoxView",
            "box_style": "",
            "children": [
              "IPY_MODEL_82fd95ec5aaf4d49a603efe6d3f61928",
              "IPY_MODEL_10a60cc41eae4a349826f5a49c78b1bb",
              "IPY_MODEL_7f375b18d0c9483aa4ac487bfdbfb1d3"
            ],
            "layout": "IPY_MODEL_2a5596ad293c4c1aaae8f6fe63d9f272"
          }
        },
        "2a5596ad293c4c1aaae8f6fe63d9f272": {
          "model_module": "@jupyter-widgets/base",
          "model_module_version": "1.2.0",
          "model_name": "LayoutModel",
          "state": {
            "_model_module": "@jupyter-widgets/base",
            "_model_module_version": "1.2.0",
            "_model_name": "LayoutModel",
            "_view_count": null,
            "_view_module": "@jupyter-widgets/base",
            "_view_module_version": "1.2.0",
            "_view_name": "LayoutView",
            "align_content": null,
            "align_items": null,
            "align_self": null,
            "border": null,
            "bottom": null,
            "display": null,
            "flex": null,
            "flex_flow": null,
            "grid_area": null,
            "grid_auto_columns": null,
            "grid_auto_flow": null,
            "grid_auto_rows": null,
            "grid_column": null,
            "grid_gap": null,
            "grid_row": null,
            "grid_template_areas": null,
            "grid_template_columns": null,
            "grid_template_rows": null,
            "height": null,
            "justify_content": null,
            "justify_items": null,
            "left": null,
            "margin": null,
            "max_height": null,
            "max_width": null,
            "min_height": null,
            "min_width": null,
            "object_fit": null,
            "object_position": null,
            "order": null,
            "overflow": null,
            "overflow_x": null,
            "overflow_y": null,
            "padding": null,
            "right": null,
            "top": null,
            "visibility": null,
            "width": null
          }
        },
        "2ee4a6754fa24678b5bade8d670540da": {
          "model_module": "@jupyter-widgets/controls",
          "model_module_version": "1.5.0",
          "model_name": "SliderStyleModel",
          "state": {
            "_model_module": "@jupyter-widgets/controls",
            "_model_module_version": "1.5.0",
            "_model_name": "SliderStyleModel",
            "_view_count": null,
            "_view_module": "@jupyter-widgets/base",
            "_view_module_version": "1.2.0",
            "_view_name": "StyleView",
            "description_width": "",
            "handle_color": null
          }
        },
        "3993627081d84206b07088062213744f": {
          "model_module": "@jupyter-widgets/base",
          "model_module_version": "1.2.0",
          "model_name": "LayoutModel",
          "state": {
            "_model_module": "@jupyter-widgets/base",
            "_model_module_version": "1.2.0",
            "_model_name": "LayoutModel",
            "_view_count": null,
            "_view_module": "@jupyter-widgets/base",
            "_view_module_version": "1.2.0",
            "_view_name": "LayoutView",
            "align_content": null,
            "align_items": null,
            "align_self": null,
            "border": null,
            "bottom": null,
            "display": null,
            "flex": null,
            "flex_flow": null,
            "grid_area": null,
            "grid_auto_columns": null,
            "grid_auto_flow": null,
            "grid_auto_rows": null,
            "grid_column": null,
            "grid_gap": null,
            "grid_row": null,
            "grid_template_areas": null,
            "grid_template_columns": null,
            "grid_template_rows": null,
            "height": null,
            "justify_content": null,
            "justify_items": null,
            "left": null,
            "margin": null,
            "max_height": null,
            "max_width": null,
            "min_height": null,
            "min_width": null,
            "object_fit": null,
            "object_position": null,
            "order": null,
            "overflow": null,
            "overflow_x": null,
            "overflow_y": null,
            "padding": null,
            "right": null,
            "top": null,
            "visibility": null,
            "width": null
          }
        },
        "407910e1682746bcb2003f7f4c3860ef": {
          "model_module": "@jupyter-widgets/base",
          "model_module_version": "1.2.0",
          "model_name": "LayoutModel",
          "state": {
            "_model_module": "@jupyter-widgets/base",
            "_model_module_version": "1.2.0",
            "_model_name": "LayoutModel",
            "_view_count": null,
            "_view_module": "@jupyter-widgets/base",
            "_view_module_version": "1.2.0",
            "_view_name": "LayoutView",
            "align_content": null,
            "align_items": null,
            "align_self": null,
            "border": null,
            "bottom": null,
            "display": null,
            "flex": null,
            "flex_flow": null,
            "grid_area": null,
            "grid_auto_columns": null,
            "grid_auto_flow": null,
            "grid_auto_rows": null,
            "grid_column": null,
            "grid_gap": null,
            "grid_row": null,
            "grid_template_areas": null,
            "grid_template_columns": null,
            "grid_template_rows": null,
            "height": null,
            "justify_content": null,
            "justify_items": null,
            "left": null,
            "margin": null,
            "max_height": null,
            "max_width": null,
            "min_height": null,
            "min_width": null,
            "object_fit": null,
            "object_position": null,
            "order": null,
            "overflow": null,
            "overflow_x": null,
            "overflow_y": null,
            "padding": null,
            "right": null,
            "top": null,
            "visibility": null,
            "width": null
          }
        },
        "7f375b18d0c9483aa4ac487bfdbfb1d3": {
          "model_module": "@jupyter-widgets/output",
          "model_module_version": "1.0.0",
          "model_name": "OutputModel",
          "state": {
            "_dom_classes": [],
            "_model_module": "@jupyter-widgets/output",
            "_model_module_version": "1.0.0",
            "_model_name": "OutputModel",
            "_view_count": null,
            "_view_module": "@jupyter-widgets/output",
            "_view_module_version": "1.0.0",
            "_view_name": "OutputView",
            "layout": "IPY_MODEL_3993627081d84206b07088062213744f",
            "msg_id": "",
            "outputs": [
              {
                "name": "stdout",
                "output_type": "stream",
                "text": [
                  "\r1/1 [==============================] - ETA: 0s"
                ]
              },
              {
                "name": "stdout",
                "output_type": "stream",
                "text": [
                  "\b\b\b\b\b\b\b\b\b\b\b\b\b\b\b\b\b\b\b\b\b\b\b\b\b\b\b\b\b\b\b\b\b\b\b\b\b\b\b\b\b\b\b\b\b\b\r1/1 [==============================] - 0s 26ms/step\n"
                ]
              },
              {
                "data": {
                  "image/png": "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\n",
                  "text/plain": "<Figure size 144x144 with 1 Axes>"
                },
                "metadata": {
                  "needs_background": "light"
                },
                "output_type": "display_data"
              }
            ]
          }
        },
        "82fd95ec5aaf4d49a603efe6d3f61928": {
          "model_module": "@jupyter-widgets/controls",
          "model_module_version": "1.5.0",
          "model_name": "FloatSliderModel",
          "state": {
            "_dom_classes": [],
            "_model_module": "@jupyter-widgets/controls",
            "_model_module_version": "1.5.0",
            "_model_name": "FloatSliderModel",
            "_view_count": null,
            "_view_module": "@jupyter-widgets/controls",
            "_view_module_version": "1.5.0",
            "_view_name": "FloatSliderView",
            "continuous_update": true,
            "description": "z1",
            "description_tooltip": null,
            "disabled": false,
            "layout": "IPY_MODEL_09db1d00a919485f9de4a0405e9cb857",
            "max": 5,
            "min": -5,
            "orientation": "horizontal",
            "readout": true,
            "readout_format": ".2f",
            "step": 0.1,
            "style": "IPY_MODEL_0b7f328a82874dfe892677e5139c58cf",
            "value": 5
          }
        }
      }
    }
  },
  "nbformat": 4,
  "nbformat_minor": 0
}
