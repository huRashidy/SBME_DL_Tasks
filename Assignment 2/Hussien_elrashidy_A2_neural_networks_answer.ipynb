{
  "cells": [
    {
      "cell_type": "markdown",
      "id": "d2fed8c8-3b58-464a-b89d-df85d934f740",
      "metadata": {
        "id": "d2fed8c8-3b58-464a-b89d-df85d934f740"
      },
      "source": [
        "---\n",
        "# Cairo University Faculty of Engineering\n",
        "## Deep Learning \n",
        "## Assignment 2\n",
        "\n",
        "---"
      ]
    },
    {
      "cell_type": "markdown",
      "id": "9f09594d-0c42-4205-a0af-77097e41f555",
      "metadata": {
        "id": "9f09594d-0c42-4205-a0af-77097e41f555"
      },
      "source": [
        "Please write your full name here\n",
        "- **Name** : Hussin Mohamed Saad ElRashidy\n",
        "\""
      ]
    },
    {
      "cell_type": "code",
      "source": [
        "pip install d2l==1.0.0a1.post0\n"
      ],
      "metadata": {
        "colab": {
          "base_uri": "https://localhost:8080/"
        },
        "id": "ZXwrsMIsR2-y",
        "outputId": "e69ab830-8fb9-407b-d912-4b40cc2c5dfb"
      },
      "id": "ZXwrsMIsR2-y",
      "execution_count": 2,
      "outputs": [
        {
          "output_type": "stream",
          "name": "stdout",
          "text": [
            "Looking in indexes: https://pypi.org/simple, https://us-python.pkg.dev/colab-wheels/public/simple/\n",
            "Collecting d2l==1.0.0a1.post0\n",
            "  Downloading d2l-1.0.0a1.post0-py3-none-any.whl (93 kB)\n",
            "\u001b[K     |████████████████████████████████| 93 kB 1.3 MB/s \n",
            "\u001b[?25hRequirement already satisfied: matplotlib in /usr/local/lib/python3.7/dist-packages (from d2l==1.0.0a1.post0) (3.2.2)\n",
            "Requirement already satisfied: numpy in /usr/local/lib/python3.7/dist-packages (from d2l==1.0.0a1.post0) (1.21.6)\n",
            "Requirement already satisfied: pandas in /usr/local/lib/python3.7/dist-packages (from d2l==1.0.0a1.post0) (1.3.5)\n",
            "Requirement already satisfied: gym in /usr/local/lib/python3.7/dist-packages (from d2l==1.0.0a1.post0) (0.25.2)\n",
            "Collecting matplotlib-inline\n",
            "  Downloading matplotlib_inline-0.1.6-py3-none-any.whl (9.4 kB)\n",
            "Collecting jupyter\n",
            "  Downloading jupyter-1.0.0-py2.py3-none-any.whl (2.7 kB)\n",
            "Requirement already satisfied: requests in /usr/local/lib/python3.7/dist-packages (from d2l==1.0.0a1.post0) (2.23.0)\n",
            "Requirement already satisfied: cloudpickle>=1.2.0 in /usr/local/lib/python3.7/dist-packages (from gym->d2l==1.0.0a1.post0) (1.5.0)\n",
            "Requirement already satisfied: importlib-metadata>=4.8.0 in /usr/local/lib/python3.7/dist-packages (from gym->d2l==1.0.0a1.post0) (4.13.0)\n",
            "Requirement already satisfied: gym-notices>=0.0.4 in /usr/local/lib/python3.7/dist-packages (from gym->d2l==1.0.0a1.post0) (0.0.8)\n",
            "Requirement already satisfied: typing-extensions>=3.6.4 in /usr/local/lib/python3.7/dist-packages (from importlib-metadata>=4.8.0->gym->d2l==1.0.0a1.post0) (4.1.1)\n",
            "Requirement already satisfied: zipp>=0.5 in /usr/local/lib/python3.7/dist-packages (from importlib-metadata>=4.8.0->gym->d2l==1.0.0a1.post0) (3.10.0)\n",
            "Requirement already satisfied: ipywidgets in /usr/local/lib/python3.7/dist-packages (from jupyter->d2l==1.0.0a1.post0) (7.7.1)\n",
            "Requirement already satisfied: jupyter-console in /usr/local/lib/python3.7/dist-packages (from jupyter->d2l==1.0.0a1.post0) (6.1.0)\n",
            "Requirement already satisfied: notebook in /usr/local/lib/python3.7/dist-packages (from jupyter->d2l==1.0.0a1.post0) (5.5.0)\n",
            "Collecting qtconsole\n",
            "  Downloading qtconsole-5.4.0-py3-none-any.whl (121 kB)\n",
            "\u001b[K     |████████████████████████████████| 121 kB 55.5 MB/s \n",
            "\u001b[?25hRequirement already satisfied: nbconvert in /usr/local/lib/python3.7/dist-packages (from jupyter->d2l==1.0.0a1.post0) (5.6.1)\n",
            "Requirement already satisfied: ipykernel in /usr/local/lib/python3.7/dist-packages (from jupyter->d2l==1.0.0a1.post0) (5.3.4)\n",
            "Requirement already satisfied: ipython>=5.0.0 in /usr/local/lib/python3.7/dist-packages (from ipykernel->jupyter->d2l==1.0.0a1.post0) (7.9.0)\n",
            "Requirement already satisfied: traitlets>=4.1.0 in /usr/local/lib/python3.7/dist-packages (from ipykernel->jupyter->d2l==1.0.0a1.post0) (5.1.1)\n",
            "Requirement already satisfied: tornado>=4.2 in /usr/local/lib/python3.7/dist-packages (from ipykernel->jupyter->d2l==1.0.0a1.post0) (5.1.1)\n",
            "Requirement already satisfied: jupyter-client in /usr/local/lib/python3.7/dist-packages (from ipykernel->jupyter->d2l==1.0.0a1.post0) (6.1.12)\n",
            "Requirement already satisfied: pickleshare in /usr/local/lib/python3.7/dist-packages (from ipython>=5.0.0->ipykernel->jupyter->d2l==1.0.0a1.post0) (0.7.5)\n",
            "Requirement already satisfied: setuptools>=18.5 in /usr/local/lib/python3.7/dist-packages (from ipython>=5.0.0->ipykernel->jupyter->d2l==1.0.0a1.post0) (57.4.0)\n",
            "Requirement already satisfied: pygments in /usr/local/lib/python3.7/dist-packages (from ipython>=5.0.0->ipykernel->jupyter->d2l==1.0.0a1.post0) (2.6.1)\n",
            "Requirement already satisfied: pexpect in /usr/local/lib/python3.7/dist-packages (from ipython>=5.0.0->ipykernel->jupyter->d2l==1.0.0a1.post0) (4.8.0)\n",
            "Collecting jedi>=0.10\n",
            "  Downloading jedi-0.18.1-py2.py3-none-any.whl (1.6 MB)\n",
            "\u001b[K     |████████████████████████████████| 1.6 MB 48.2 MB/s \n",
            "\u001b[?25hRequirement already satisfied: prompt-toolkit<2.1.0,>=2.0.0 in /usr/local/lib/python3.7/dist-packages (from ipython>=5.0.0->ipykernel->jupyter->d2l==1.0.0a1.post0) (2.0.10)\n",
            "Requirement already satisfied: backcall in /usr/local/lib/python3.7/dist-packages (from ipython>=5.0.0->ipykernel->jupyter->d2l==1.0.0a1.post0) (0.2.0)\n",
            "Requirement already satisfied: decorator in /usr/local/lib/python3.7/dist-packages (from ipython>=5.0.0->ipykernel->jupyter->d2l==1.0.0a1.post0) (4.4.2)\n",
            "Requirement already satisfied: parso<0.9.0,>=0.8.0 in /usr/local/lib/python3.7/dist-packages (from jedi>=0.10->ipython>=5.0.0->ipykernel->jupyter->d2l==1.0.0a1.post0) (0.8.3)\n",
            "Requirement already satisfied: six>=1.9.0 in /usr/local/lib/python3.7/dist-packages (from prompt-toolkit<2.1.0,>=2.0.0->ipython>=5.0.0->ipykernel->jupyter->d2l==1.0.0a1.post0) (1.15.0)\n",
            "Requirement already satisfied: wcwidth in /usr/local/lib/python3.7/dist-packages (from prompt-toolkit<2.1.0,>=2.0.0->ipython>=5.0.0->ipykernel->jupyter->d2l==1.0.0a1.post0) (0.2.5)\n",
            "Requirement already satisfied: jupyterlab-widgets>=1.0.0 in /usr/local/lib/python3.7/dist-packages (from ipywidgets->jupyter->d2l==1.0.0a1.post0) (3.0.3)\n",
            "Requirement already satisfied: ipython-genutils~=0.2.0 in /usr/local/lib/python3.7/dist-packages (from ipywidgets->jupyter->d2l==1.0.0a1.post0) (0.2.0)\n",
            "Requirement already satisfied: widgetsnbextension~=3.6.0 in /usr/local/lib/python3.7/dist-packages (from ipywidgets->jupyter->d2l==1.0.0a1.post0) (3.6.1)\n",
            "Requirement already satisfied: jupyter-core>=4.4.0 in /usr/local/lib/python3.7/dist-packages (from notebook->jupyter->d2l==1.0.0a1.post0) (4.11.2)\n",
            "Requirement already satisfied: pyzmq>=17 in /usr/local/lib/python3.7/dist-packages (from notebook->jupyter->d2l==1.0.0a1.post0) (23.2.1)\n",
            "Requirement already satisfied: jinja2 in /usr/local/lib/python3.7/dist-packages (from notebook->jupyter->d2l==1.0.0a1.post0) (2.11.3)\n",
            "Requirement already satisfied: terminado>=0.8.1 in /usr/local/lib/python3.7/dist-packages (from notebook->jupyter->d2l==1.0.0a1.post0) (0.13.3)\n",
            "Requirement already satisfied: Send2Trash in /usr/local/lib/python3.7/dist-packages (from notebook->jupyter->d2l==1.0.0a1.post0) (1.8.0)\n",
            "Requirement already satisfied: nbformat in /usr/local/lib/python3.7/dist-packages (from notebook->jupyter->d2l==1.0.0a1.post0) (5.7.0)\n",
            "Requirement already satisfied: python-dateutil>=2.1 in /usr/local/lib/python3.7/dist-packages (from jupyter-client->ipykernel->jupyter->d2l==1.0.0a1.post0) (2.8.2)\n",
            "Requirement already satisfied: ptyprocess in /usr/local/lib/python3.7/dist-packages (from terminado>=0.8.1->notebook->jupyter->d2l==1.0.0a1.post0) (0.7.0)\n",
            "Requirement already satisfied: MarkupSafe>=0.23 in /usr/local/lib/python3.7/dist-packages (from jinja2->notebook->jupyter->d2l==1.0.0a1.post0) (2.0.1)\n",
            "Requirement already satisfied: kiwisolver>=1.0.1 in /usr/local/lib/python3.7/dist-packages (from matplotlib->d2l==1.0.0a1.post0) (1.4.4)\n",
            "Requirement already satisfied: pyparsing!=2.0.4,!=2.1.2,!=2.1.6,>=2.0.1 in /usr/local/lib/python3.7/dist-packages (from matplotlib->d2l==1.0.0a1.post0) (3.0.9)\n",
            "Requirement already satisfied: cycler>=0.10 in /usr/local/lib/python3.7/dist-packages (from matplotlib->d2l==1.0.0a1.post0) (0.11.0)\n",
            "Requirement already satisfied: pandocfilters>=1.4.1 in /usr/local/lib/python3.7/dist-packages (from nbconvert->jupyter->d2l==1.0.0a1.post0) (1.5.0)\n",
            "Requirement already satisfied: bleach in /usr/local/lib/python3.7/dist-packages (from nbconvert->jupyter->d2l==1.0.0a1.post0) (5.0.1)\n",
            "Requirement already satisfied: defusedxml in /usr/local/lib/python3.7/dist-packages (from nbconvert->jupyter->d2l==1.0.0a1.post0) (0.7.1)\n",
            "Requirement already satisfied: mistune<2,>=0.8.1 in /usr/local/lib/python3.7/dist-packages (from nbconvert->jupyter->d2l==1.0.0a1.post0) (0.8.4)\n",
            "Requirement already satisfied: testpath in /usr/local/lib/python3.7/dist-packages (from nbconvert->jupyter->d2l==1.0.0a1.post0) (0.6.0)\n",
            "Requirement already satisfied: entrypoints>=0.2.2 in /usr/local/lib/python3.7/dist-packages (from nbconvert->jupyter->d2l==1.0.0a1.post0) (0.4)\n",
            "Requirement already satisfied: jsonschema>=2.6 in /usr/local/lib/python3.7/dist-packages (from nbformat->notebook->jupyter->d2l==1.0.0a1.post0) (4.3.3)\n",
            "Requirement already satisfied: fastjsonschema in /usr/local/lib/python3.7/dist-packages (from nbformat->notebook->jupyter->d2l==1.0.0a1.post0) (2.16.2)\n",
            "Requirement already satisfied: attrs>=17.4.0 in /usr/local/lib/python3.7/dist-packages (from jsonschema>=2.6->nbformat->notebook->jupyter->d2l==1.0.0a1.post0) (22.1.0)\n",
            "Requirement already satisfied: importlib-resources>=1.4.0 in /usr/local/lib/python3.7/dist-packages (from jsonschema>=2.6->nbformat->notebook->jupyter->d2l==1.0.0a1.post0) (5.10.0)\n",
            "Requirement already satisfied: pyrsistent!=0.17.0,!=0.17.1,!=0.17.2,>=0.14.0 in /usr/local/lib/python3.7/dist-packages (from jsonschema>=2.6->nbformat->notebook->jupyter->d2l==1.0.0a1.post0) (0.18.1)\n",
            "Requirement already satisfied: webencodings in /usr/local/lib/python3.7/dist-packages (from bleach->nbconvert->jupyter->d2l==1.0.0a1.post0) (0.5.1)\n",
            "Requirement already satisfied: pytz>=2017.3 in /usr/local/lib/python3.7/dist-packages (from pandas->d2l==1.0.0a1.post0) (2022.5)\n",
            "Collecting qtpy>=2.0.1\n",
            "  Downloading QtPy-2.2.1-py3-none-any.whl (82 kB)\n",
            "\u001b[K     |████████████████████████████████| 82 kB 894 kB/s \n",
            "\u001b[?25hRequirement already satisfied: packaging in /usr/local/lib/python3.7/dist-packages (from qtpy>=2.0.1->qtconsole->jupyter->d2l==1.0.0a1.post0) (21.3)\n",
            "Requirement already satisfied: idna<3,>=2.5 in /usr/local/lib/python3.7/dist-packages (from requests->d2l==1.0.0a1.post0) (2.10)\n",
            "Requirement already satisfied: chardet<4,>=3.0.2 in /usr/local/lib/python3.7/dist-packages (from requests->d2l==1.0.0a1.post0) (3.0.4)\n",
            "Requirement already satisfied: certifi>=2017.4.17 in /usr/local/lib/python3.7/dist-packages (from requests->d2l==1.0.0a1.post0) (2022.9.24)\n",
            "Requirement already satisfied: urllib3!=1.25.0,!=1.25.1,<1.26,>=1.21.1 in /usr/local/lib/python3.7/dist-packages (from requests->d2l==1.0.0a1.post0) (1.24.3)\n",
            "Installing collected packages: jedi, qtpy, qtconsole, matplotlib-inline, jupyter, d2l\n",
            "Successfully installed d2l-1.0.0a1.post0 jedi-0.18.1 jupyter-1.0.0 matplotlib-inline-0.1.6 qtconsole-5.4.0 qtpy-2.2.1\n"
          ]
        }
      ]
    },
    {
      "cell_type": "code",
      "execution_count": 3,
      "id": "02dc8d6e-7d9a-48c0-a84d-fdd3c63c9c78",
      "metadata": {
        "id": "02dc8d6e-7d9a-48c0-a84d-fdd3c63c9c78"
      },
      "outputs": [],
      "source": [
        "%matplotlib inline\n",
        "import numpy as np\n",
        "import matplotlib.pyplot as plt\n",
        "import random\n",
        "import tensorflow as tf\n",
        "from tensorflow.keras.models import Sequential\n",
        "from tensorflow.keras.layers import Dense\n",
        "from d2l import tensorflow as d2l\n",
        "import pandas as pd\n",
        "import math\n",
        "\n",
        "from sklearn.datasets import make_blobs  #To generate artificial data\n",
        "from keras.optimizers import SGD\n",
        "from keras.utils import to_categorical"
      ]
    },
    {
      "cell_type": "markdown",
      "id": "6055f2a1-24c2-46eb-92a8-b9f387f3dcc2",
      "metadata": {
        "id": "6055f2a1-24c2-46eb-92a8-b9f387f3dcc2",
        "tags": []
      },
      "source": [
        "# Part 1 Computational Graphs\n"
      ]
    },
    {
      "cell_type": "markdown",
      "id": "5ea98a23-c5be-4a87-8a53-588fbdcadf1e",
      "metadata": {
        "id": "5ea98a23-c5be-4a87-8a53-588fbdcadf1e"
      },
      "source": [
        "## Example\n",
        "Suppose that we have a function of the form: $f(x,y) = \\sigma(x) + (x-y)^2$"
      ]
    },
    {
      "cell_type": "markdown",
      "id": "ead972fc-bc4a-4f70-bd22-473a84326027",
      "metadata": {
        "id": "ead972fc-bc4a-4f70-bd22-473a84326027"
      },
      "source": [
        "**SHOW YOUR WORK**"
      ]
    },
    {
      "cell_type": "markdown",
      "id": "4d072290-86f5-4f6c-8e64-0c2b6ee79114",
      "metadata": {
        "id": "4d072290-86f5-4f6c-8e64-0c2b6ee79114"
      },
      "source": [
        "0. **Draw its computational graph with a minimum of 4 operations inside it. Name your intermediate variables and upload a picture of your graph**"
      ]
    },
    {
      "cell_type": "markdown",
      "id": "1dc590ee-33e8-458a-ba81-fd2e6ca01b79",
      "metadata": {
        "id": "1dc590ee-33e8-458a-ba81-fd2e6ca01b79"
      },
      "source": [
        "- Your Answer:\n",
        "    - ![Answer]()"
      ]
    },
    {
      "cell_type": "code",
      "source": [
        "from google.colab import drive\n",
        "drive.mount('/content/drive')"
      ],
      "metadata": {
        "colab": {
          "base_uri": "https://localhost:8080/"
        },
        "id": "UiJpQVFQ6NE2",
        "outputId": "9c30c099-4df6-4575-c253-0337adefb0ab"
      },
      "id": "UiJpQVFQ6NE2",
      "execution_count": null,
      "outputs": [
        {
          "output_type": "stream",
          "name": "stdout",
          "text": [
            "Mounted at /content/drive\n"
          ]
        }
      ]
    },
    {
      "cell_type": "markdown",
      "id": "e95e6d93-ec11-40d6-a639-40fad6e1ad3c",
      "metadata": {
        "id": "e95e6d93-ec11-40d6-a639-40fad6e1ad3c"
      },
      "source": [
        "1. **Compute the forward path for this function. Use intermediate variables you identified in your graph**\n",
        "\n",
        "- f --> final output\n",
        "- Upload a a picture of your graph"
      ]
    },
    {
      "cell_type": "markdown",
      "id": "0f9df23d-f8f6-4408-a2cf-943987324775",
      "metadata": {
        "id": "0f9df23d-f8f6-4408-a2cf-943987324775"
      },
      "source": [
        "- Your Answer:\n",
        "    - ![Answer](https://files.catbox.moe/lz4vmf.jfif)"
      ]
    },
    {
      "cell_type": "markdown",
      "id": "902480a7-16e1-415e-bdea-24fe845774fe",
      "metadata": {
        "id": "902480a7-16e1-415e-bdea-24fe845774fe"
      },
      "source": [
        "\n",
        "2. **Compute the backward path for this function to get:**\n",
        "$$\n",
        "\\nabla f(x,y) = [ \\frac{\\partial f}{\\partial y}, \\frac{\\partial f}{\\partial x} ]\n",
        "$$\n",
        "\n",
        "- Upload a a picture of your graph\n",
        "- **Use intermediate variables**\n",
        "- **Write df/dy and df/dx**\n",
        "- *Hint: Gradients add up at forks. This follows the multivariable chain rule in Calculus, which states that if a variable branches out to different parts, then the gradients that flow back to it will add.*"
      ]
    },
    {
      "cell_type": "markdown",
      "id": "c83b8b27-0cb2-4c2e-9eea-351fc216d952",
      "metadata": {
        "id": "c83b8b27-0cb2-4c2e-9eea-351fc216d952"
      },
      "source": [
        "- Your Answer:\n",
        "    - ![Answer](https://files.catbox.moe/dd1ood.jfif)"
      ]
    },
    {
      "cell_type": "markdown",
      "id": "4f383a40-2b6d-4bb3-bb45-4b6602896480",
      "metadata": {
        "tags": [],
        "id": "4f383a40-2b6d-4bb3-bb45-4b6602896480"
      },
      "source": [
        "# Part 2: Regression"
      ]
    },
    {
      "cell_type": "markdown",
      "id": "0ddb4513-a883-475c-acb4-7daf8a1434a7",
      "metadata": {
        "jp-MarkdownHeadingCollapsed": true,
        "origin_pos": 0,
        "tags": [],
        "id": "0ddb4513-a883-475c-acb4-7daf8a1434a7"
      },
      "source": [
        "In this part, (**we will implement the entire linear regression method from scratch,\n",
        "including the data pipeline, the model,\n",
        "the loss function, and the minibatch stochastic gradient descent optimizer.**)\n",
        "You will rely only on tensors and auto differentiation.\n"
      ]
    },
    {
      "cell_type": "markdown",
      "id": "9885bf7b-0575-456d-a16c-997636bb6b3b",
      "metadata": {
        "id": "9885bf7b-0575-456d-a16c-997636bb6b3b"
      },
      "source": [
        "we will use $n$ to denote\n",
        "the number of examples in our dataset.\n",
        "We index the data examples by $i$, denoting each input\n",
        "as $\\mathbf{x}^{(i)} = [x_1^{(i)}, x_2^{(i)}]^\\top$\n",
        "and the corresponding label as $y^{(i)}$.\n",
        "\n",
        "\n",
        "**Linear Model**\n",
        "\n",
        "When our inputs consist of $d$ features,\n",
        "we express our prediction $\\hat{y}$ (in general the \"hat\" symbol denotes estimates) as\n",
        "\n",
        "$$\\hat{y} = w_1  x_1 + ... + w_d  x_d + b.$$\n",
        "\n",
        "\n",
        "We will often find it convenient\n",
        "to refer to features of our entire dataset of $n$ examples\n",
        "via the *design matrix* $\\mathbf{X} \\in \\mathbb{R}^{n \\times d}$.\n",
        "Here, $\\mathbf{X}$ contains one row for every example\n",
        "and one column for every feature.\n",
        "\n",
        "For a collection of features $\\mathbf{X}$,\n",
        "the predictions $\\hat{\\mathbf{y}} \\in \\mathbb{R}^n$\n",
        "can be expressed via the matrix-vector product:\n",
        "\n",
        "$${\\hat{\\mathbf{y}}} = \\mathbf{X} \\mathbf{w} + b,$$\n",
        "\n",
        "\n",
        "**Loss Function**\n",
        "\n",
        "When our prediction for an example $i$ is $\\hat{y}^{(i)}$\n",
        "and the corresponding true label is $y^{(i)}$,\n",
        "the squared error is given by:\n",
        "\n",
        "$$l^{(i)}(\\mathbf{w}, b) = \\frac{1}{2} \\left(\\hat{y}^{(i)} - y^{(i)}\\right)^2.$$\n",
        "\n",
        "To measure the quality of a model on the entire dataset of $n$ examples,\n",
        "we simply average (or equivalently, sum)\n",
        "the losses on the training set.\n",
        "\n",
        "$$L(\\mathbf{w}, b) =\\frac{1}{n}\\sum_{i=1}^n l^{(i)}(\\mathbf{w}, b) =\\frac{1}{n} \\sum_{i=1}^n \\frac{1}{2}\\left(\\mathbf{w}^\\top \\mathbf{x}^{(i)} + b - y^{(i)}\\right)^2.$$\n",
        "\n",
        "When training the model, we want to find parameters ($\\mathbf{w}^*, b^*$)\n",
        "that minimize the total loss across all training examples:\n",
        "\n",
        "$$\\mathbf{w}^*, b^* = \\operatorname*{argmin}_{\\mathbf{w}, b}\\  L(\\mathbf{w}, b).$$\n"
      ]
    },
    {
      "cell_type": "markdown",
      "id": "eddedadc-6641-4c7a-8134-79549b655a62",
      "metadata": {
        "id": "eddedadc-6641-4c7a-8134-79549b655a62"
      },
      "source": [
        "**Minibatch Stochastic Gradient Descent**\n",
        "\n",
        "We can express the update mathematically as follows\n",
        "($\\partial$ denotes the partial derivative):\n",
        "\n",
        "$$(\\mathbf{w},b) \\leftarrow (\\mathbf{w},b) - \\frac{\\eta}{|\\mathcal{B}|} \\sum_{i \\in \\mathcal{B}} \\partial_{(\\mathbf{w},b)} l^{(i)}(\\mathbf{w},b).$$\n"
      ]
    },
    {
      "cell_type": "markdown",
      "id": "b5b67706-78b0-428a-b984-03e8a44f2daf",
      "metadata": {
        "id": "b5b67706-78b0-428a-b984-03e8a44f2daf"
      },
      "source": [
        "## Synthetic Data, Simple Model\n",
        "### Generating the Dataset\n",
        "\n",
        "To keep things simple, we will [**construct an artificial dataset\n",
        "according to a linear model with additive noise.**]\n",
        "\n",
        "In the following code snippet, we generate a dataset\n",
        "containing 1000 examples, each consisting of 2 features\n",
        "sampled from a standard normal distribution.\n",
        "Thus our synthetic dataset will be a matrix\n",
        "$\\mathbf{X}\\in \\mathbb{R}^{1000 \\times 2}$.\n",
        "\n",
        "(**The true parameters generating our dataset will be\n",
        "$\\mathbf{w} = [2, -3.4]^\\top$ and $b = 4.2$,\n",
        "and**) our synthetic labels will be assigned according\n",
        "to the following linear model with the noise term $\\epsilon$:\n",
        "\n",
        "(**$$\\mathbf{y}= \\mathbf{X} \\mathbf{w} + b + \\mathbf\\epsilon.$$**)"
      ]
    },
    {
      "cell_type": "code",
      "execution_count": 1,
      "id": "6c56cf52-1cbe-4f80-9551-9988b28fe967",
      "metadata": {
        "origin_pos": 6,
        "tab": [
          "tensorflow"
        ],
        "id": "6c56cf52-1cbe-4f80-9551-9988b28fe967"
      },
      "outputs": [],
      "source": [
        "def synthetic_data(w, b, num_examples):  \n",
        "    \"\"\"Generate y = Xw + b + noise.\"\"\"\n",
        "    X = tf.zeros((num_examples, w.shape[0]))\n",
        "    X += tf.random.normal(shape=X.shape)\n",
        "    y = tf.matmul(X, tf.reshape(w, (-1, 1))) + b\n",
        "    y += tf.random.normal(shape=y.shape, stddev=0.01)\n",
        "    y = tf.reshape(y, (-1, 1))\n",
        "    return X, y"
      ]
    },
    {
      "cell_type": "code",
      "execution_count": 4,
      "id": "6f7fc2ce-cdd3-45f0-b632-f5b7fbd38155",
      "metadata": {
        "origin_pos": 7,
        "tab": [
          "tensorflow"
        ],
        "id": "6f7fc2ce-cdd3-45f0-b632-f5b7fbd38155"
      },
      "outputs": [],
      "source": [
        "tf.random.set_seed(5)\n",
        "true_w = tf.Variable([2, -3.4])\n",
        "true_b = 4.2\n",
        "features, labels = synthetic_data(true_w, true_b, 1000)"
      ]
    },
    {
      "cell_type": "code",
      "execution_count": 5,
      "id": "a088e27d-495b-461f-b483-5eaaa97d1dc8",
      "metadata": {
        "origin_pos": 9,
        "tab": [
          "tensorflow"
        ],
        "colab": {
          "base_uri": "https://localhost:8080/"
        },
        "id": "a088e27d-495b-461f-b483-5eaaa97d1dc8",
        "outputId": "3ad7ad8e-4db5-41f4-a9a1-afe0cb576150"
      },
      "outputs": [
        {
          "output_type": "stream",
          "name": "stdout",
          "text": [
            "features: tf.Tensor([-0.18030666 -0.95028627], shape=(2,), dtype=float32) \n",
            "label: tf.Tensor([7.0726256], shape=(1,), dtype=float32)\n"
          ]
        }
      ],
      "source": [
        "print('features:', features[0],'\\nlabel:', labels[0])"
      ]
    },
    {
      "cell_type": "markdown",
      "id": "af9a27cb-fcac-4856-99cb-724fa649c9a9",
      "metadata": {
        "origin_pos": 10,
        "id": "af9a27cb-fcac-4856-99cb-724fa649c9a9"
      },
      "source": [
        "By generating a scatter plot using the second feature `features[:, 1]` and `labels`,\n",
        "we can clearly observe the linear correlation between the two.\n"
      ]
    },
    {
      "cell_type": "code",
      "execution_count": 6,
      "id": "8cbcb65e-1376-4879-8a6c-5dc2dbc4c945",
      "metadata": {
        "origin_pos": 11,
        "tab": [
          "tensorflow"
        ],
        "colab": {
          "base_uri": "https://localhost:8080/",
          "height": 244
        },
        "id": "8cbcb65e-1376-4879-8a6c-5dc2dbc4c945",
        "outputId": "cbf0f962-9a12-47b8-8510-4cbfafc3d67f"
      },
      "outputs": [
        {
          "output_type": "display_data",
          "data": {
            "text/plain": [
              "<Figure size 252x180 with 1 Axes>"
            ],
            "image/svg+xml": "<?xml version=\"1.0\" encoding=\"utf-8\" standalone=\"no\"?>\n<!DOCTYPE svg PUBLIC \"-//W3C//DTD SVG 1.1//EN\"\n  \"http://www.w3.org/Graphics/SVG/1.1/DTD/svg11.dtd\">\n<!-- Created with matplotlib (https://matplotlib.org/) -->\n<svg height=\"166.978125pt\" version=\"1.1\" viewBox=\"0 0 238.052177 166.978125\" width=\"238.052177pt\" xmlns=\"http://www.w3.org/2000/svg\" xmlns:xlink=\"http://www.w3.org/1999/xlink\">\n <defs>\n  <style type=\"text/css\">\n*{stroke-linecap:butt;stroke-linejoin:round;}\n  </style>\n </defs>\n <g id=\"figure_1\">\n  <g id=\"patch_1\">\n   <path d=\"M 0 166.978125 \nL 238.052177 166.978125 \nL 238.052177 0 \nL 0 0 \nz\n\" style=\"fill:none;\"/>\n  </g>\n  <g id=\"axes_1\">\n   <g id=\"patch_2\">\n    <path d=\"M 35.304688 143.1 \nL 230.604688 143.1 \nL 230.604688 7.2 \nL 35.304688 7.2 \nz\n\" style=\"fill:#ffffff;\"/>\n   </g>\n   <g id=\"PathCollection_1\">\n    <defs>\n     <path d=\"M 0 0.5 \nC 0.132602 0.5 0.25979 0.447317 0.353553 0.353553 \nC 0.447317 0.25979 0.5 0.132602 0.5 0 \nC 0.5 -0.132602 0.447317 -0.25979 0.353553 -0.353553 \nC 0.25979 -0.447317 0.132602 -0.5 0 -0.5 \nC -0.132602 -0.5 -0.25979 -0.447317 -0.353553 -0.353553 \nC -0.447317 -0.25979 -0.5 -0.132602 -0.5 0 \nC -0.5 0.132602 -0.447317 0.25979 -0.353553 0.353553 \nC -0.25979 0.447317 -0.132602 0.5 0 0.5 \nz\n\" id=\"m8aeae4ee99\" style=\"stroke:#1f77b4;\"/>\n    </defs>\n    <g clip-path=\"url(#p04eab988d8)\">\n     <use style=\"fill:#1f77b4;stroke:#1f77b4;\" x=\"103.457998\" xlink:href=\"#m8aeae4ee99\" y=\"54.25546\"/>\n     <use style=\"fill:#1f77b4;stroke:#1f77b4;\" x=\"108.670767\" xlink:href=\"#m8aeae4ee99\" y=\"56.259884\"/>\n     <use style=\"fill:#1f77b4;stroke:#1f77b4;\" x=\"111.781997\" xlink:href=\"#m8aeae4ee99\" y=\"45.245211\"/>\n     <use style=\"fill:#1f77b4;stroke:#1f77b4;\" x=\"125.069465\" xlink:href=\"#m8aeae4ee99\" y=\"58.339966\"/>\n     <use style=\"fill:#1f77b4;stroke:#1f77b4;\" x=\"146.435551\" xlink:href=\"#m8aeae4ee99\" y=\"56.934176\"/>\n     <use style=\"fill:#1f77b4;stroke:#1f77b4;\" x=\"151.896613\" xlink:href=\"#m8aeae4ee99\" y=\"71.752691\"/>\n     <use style=\"fill:#1f77b4;stroke:#1f77b4;\" x=\"112.874621\" xlink:href=\"#m8aeae4ee99\" y=\"44.02145\"/>\n     <use style=\"fill:#1f77b4;stroke:#1f77b4;\" x=\"95.917463\" xlink:href=\"#m8aeae4ee99\" y=\"38.996296\"/>\n     <use style=\"fill:#1f77b4;stroke:#1f77b4;\" x=\"158.937374\" xlink:href=\"#m8aeae4ee99\" y=\"96.769017\"/>\n     <use style=\"fill:#1f77b4;stroke:#1f77b4;\" x=\"127.958998\" xlink:href=\"#m8aeae4ee99\" y=\"74.949805\"/>\n     <use style=\"fill:#1f77b4;stroke:#1f77b4;\" x=\"151.369462\" xlink:href=\"#m8aeae4ee99\" y=\"81.395746\"/>\n     <use style=\"fill:#1f77b4;stroke:#1f77b4;\" x=\"128.177048\" xlink:href=\"#m8aeae4ee99\" y=\"72.001112\"/>\n     <use style=\"fill:#1f77b4;stroke:#1f77b4;\" x=\"146.364905\" xlink:href=\"#m8aeae4ee99\" y=\"79.058719\"/>\n     <use style=\"fill:#1f77b4;stroke:#1f77b4;\" x=\"92.673456\" xlink:href=\"#m8aeae4ee99\" y=\"41.106705\"/>\n     <use style=\"fill:#1f77b4;stroke:#1f77b4;\" x=\"155.867169\" xlink:href=\"#m8aeae4ee99\" y=\"91.075923\"/>\n     <use style=\"fill:#1f77b4;stroke:#1f77b4;\" x=\"145.977952\" xlink:href=\"#m8aeae4ee99\" y=\"88.822793\"/>\n     <use style=\"fill:#1f77b4;stroke:#1f77b4;\" x=\"106.333316\" xlink:href=\"#m8aeae4ee99\" y=\"60.911169\"/>\n     <use style=\"fill:#1f77b4;stroke:#1f77b4;\" x=\"103.876424\" xlink:href=\"#m8aeae4ee99\" y=\"57.624645\"/>\n     <use style=\"fill:#1f77b4;stroke:#1f77b4;\" x=\"126.286385\" xlink:href=\"#m8aeae4ee99\" y=\"67.412715\"/>\n     <use style=\"fill:#1f77b4;stroke:#1f77b4;\" x=\"91.705393\" xlink:href=\"#m8aeae4ee99\" y=\"25.643258\"/>\n     <use style=\"fill:#1f77b4;stroke:#1f77b4;\" x=\"156.641159\" xlink:href=\"#m8aeae4ee99\" y=\"95.778747\"/>\n     <use style=\"fill:#1f77b4;stroke:#1f77b4;\" x=\"135.453667\" xlink:href=\"#m8aeae4ee99\" y=\"74.463674\"/>\n     <use style=\"fill:#1f77b4;stroke:#1f77b4;\" x=\"87.925611\" xlink:href=\"#m8aeae4ee99\" y=\"55.988466\"/>\n     <use style=\"fill:#1f77b4;stroke:#1f77b4;\" x=\"123.319297\" xlink:href=\"#m8aeae4ee99\" y=\"70.838346\"/>\n     <use style=\"fill:#1f77b4;stroke:#1f77b4;\" x=\"152.298419\" xlink:href=\"#m8aeae4ee99\" y=\"82.39078\"/>\n     <use style=\"fill:#1f77b4;stroke:#1f77b4;\" x=\"56.039132\" xlink:href=\"#m8aeae4ee99\" y=\"41.130935\"/>\n     <use style=\"fill:#1f77b4;stroke:#1f77b4;\" x=\"77.254375\" xlink:href=\"#m8aeae4ee99\" y=\"48.874821\"/>\n     <use style=\"fill:#1f77b4;stroke:#1f77b4;\" x=\"115.959125\" xlink:href=\"#m8aeae4ee99\" y=\"56.331462\"/>\n     <use style=\"fill:#1f77b4;stroke:#1f77b4;\" x=\"118.579993\" xlink:href=\"#m8aeae4ee99\" y=\"52.893916\"/>\n     <use style=\"fill:#1f77b4;stroke:#1f77b4;\" x=\"95.528495\" xlink:href=\"#m8aeae4ee99\" y=\"48.376409\"/>\n     <use style=\"fill:#1f77b4;stroke:#1f77b4;\" x=\"139.928005\" xlink:href=\"#m8aeae4ee99\" y=\"66.884337\"/>\n     <use style=\"fill:#1f77b4;stroke:#1f77b4;\" x=\"131.855654\" xlink:href=\"#m8aeae4ee99\" y=\"75.978776\"/>\n     <use style=\"fill:#1f77b4;stroke:#1f77b4;\" x=\"117.556774\" xlink:href=\"#m8aeae4ee99\" y=\"54.985524\"/>\n     <use style=\"fill:#1f77b4;stroke:#1f77b4;\" x=\"82.137229\" xlink:href=\"#m8aeae4ee99\" y=\"46.295853\"/>\n     <use style=\"fill:#1f77b4;stroke:#1f77b4;\" x=\"76.942554\" xlink:href=\"#m8aeae4ee99\" y=\"50.174051\"/>\n     <use style=\"fill:#1f77b4;stroke:#1f77b4;\" x=\"119.931521\" xlink:href=\"#m8aeae4ee99\" y=\"59.463312\"/>\n     <use style=\"fill:#1f77b4;stroke:#1f77b4;\" x=\"138.100046\" xlink:href=\"#m8aeae4ee99\" y=\"82.765538\"/>\n     <use style=\"fill:#1f77b4;stroke:#1f77b4;\" x=\"97.561526\" xlink:href=\"#m8aeae4ee99\" y=\"54.337719\"/>\n     <use style=\"fill:#1f77b4;stroke:#1f77b4;\" x=\"98.663332\" xlink:href=\"#m8aeae4ee99\" y=\"53.067017\"/>\n     <use style=\"fill:#1f77b4;stroke:#1f77b4;\" x=\"135.796982\" xlink:href=\"#m8aeae4ee99\" y=\"68.7113\"/>\n     <use style=\"fill:#1f77b4;stroke:#1f77b4;\" x=\"118.901099\" xlink:href=\"#m8aeae4ee99\" y=\"58.894017\"/>\n     <use style=\"fill:#1f77b4;stroke:#1f77b4;\" x=\"111.17525\" xlink:href=\"#m8aeae4ee99\" y=\"66.205976\"/>\n     <use style=\"fill:#1f77b4;stroke:#1f77b4;\" x=\"167.08919\" xlink:href=\"#m8aeae4ee99\" y=\"100.831176\"/>\n     <use style=\"fill:#1f77b4;stroke:#1f77b4;\" x=\"118.534425\" xlink:href=\"#m8aeae4ee99\" y=\"70.172117\"/>\n     <use style=\"fill:#1f77b4;stroke:#1f77b4;\" x=\"154.806286\" xlink:href=\"#m8aeae4ee99\" y=\"87.419923\"/>\n     <use style=\"fill:#1f77b4;stroke:#1f77b4;\" x=\"97.024826\" xlink:href=\"#m8aeae4ee99\" y=\"54.818929\"/>\n     <use style=\"fill:#1f77b4;stroke:#1f77b4;\" x=\"112.266053\" xlink:href=\"#m8aeae4ee99\" y=\"44.603172\"/>\n     <use style=\"fill:#1f77b4;stroke:#1f77b4;\" x=\"185.882073\" xlink:href=\"#m8aeae4ee99\" y=\"94.361965\"/>\n     <use style=\"fill:#1f77b4;stroke:#1f77b4;\" x=\"135.537521\" xlink:href=\"#m8aeae4ee99\" y=\"72.822223\"/>\n     <use style=\"fill:#1f77b4;stroke:#1f77b4;\" x=\"130.307219\" xlink:href=\"#m8aeae4ee99\" y=\"67.607529\"/>\n     <use style=\"fill:#1f77b4;stroke:#1f77b4;\" x=\"142.879279\" xlink:href=\"#m8aeae4ee99\" y=\"78.971449\"/>\n     <use style=\"fill:#1f77b4;stroke:#1f77b4;\" x=\"106.841473\" xlink:href=\"#m8aeae4ee99\" y=\"43.833765\"/>\n     <use style=\"fill:#1f77b4;stroke:#1f77b4;\" x=\"146.939027\" xlink:href=\"#m8aeae4ee99\" y=\"98.135533\"/>\n     <use style=\"fill:#1f77b4;stroke:#1f77b4;\" x=\"127.69702\" xlink:href=\"#m8aeae4ee99\" y=\"64.632581\"/>\n     <use style=\"fill:#1f77b4;stroke:#1f77b4;\" x=\"126.46014\" xlink:href=\"#m8aeae4ee99\" y=\"59.652817\"/>\n     <use style=\"fill:#1f77b4;stroke:#1f77b4;\" x=\"89.282025\" xlink:href=\"#m8aeae4ee99\" y=\"50.559589\"/>\n     <use style=\"fill:#1f77b4;stroke:#1f77b4;\" x=\"98.919047\" xlink:href=\"#m8aeae4ee99\" y=\"43.429453\"/>\n     <use style=\"fill:#1f77b4;stroke:#1f77b4;\" x=\"80.348002\" xlink:href=\"#m8aeae4ee99\" y=\"32.354977\"/>\n     <use style=\"fill:#1f77b4;stroke:#1f77b4;\" x=\"97.28183\" xlink:href=\"#m8aeae4ee99\" y=\"43.363308\"/>\n     <use style=\"fill:#1f77b4;stroke:#1f77b4;\" x=\"169.747279\" xlink:href=\"#m8aeae4ee99\" y=\"90.668193\"/>\n     <use style=\"fill:#1f77b4;stroke:#1f77b4;\" x=\"145.170897\" xlink:href=\"#m8aeae4ee99\" y=\"101.721947\"/>\n     <use style=\"fill:#1f77b4;stroke:#1f77b4;\" x=\"86.38961\" xlink:href=\"#m8aeae4ee99\" y=\"41.752333\"/>\n     <use style=\"fill:#1f77b4;stroke:#1f77b4;\" x=\"141.576291\" xlink:href=\"#m8aeae4ee99\" y=\"80.532836\"/>\n     <use style=\"fill:#1f77b4;stroke:#1f77b4;\" x=\"143.972472\" xlink:href=\"#m8aeae4ee99\" y=\"70.508637\"/>\n     <use style=\"fill:#1f77b4;stroke:#1f77b4;\" x=\"115.886402\" xlink:href=\"#m8aeae4ee99\" y=\"70.176511\"/>\n     <use style=\"fill:#1f77b4;stroke:#1f77b4;\" x=\"140.367046\" xlink:href=\"#m8aeae4ee99\" y=\"64.844843\"/>\n     <use style=\"fill:#1f77b4;stroke:#1f77b4;\" x=\"113.925066\" xlink:href=\"#m8aeae4ee99\" y=\"59.696034\"/>\n     <use style=\"fill:#1f77b4;stroke:#1f77b4;\" x=\"115.484048\" xlink:href=\"#m8aeae4ee99\" y=\"55.176895\"/>\n     <use style=\"fill:#1f77b4;stroke:#1f77b4;\" x=\"115.661426\" xlink:href=\"#m8aeae4ee99\" y=\"56.281664\"/>\n     <use style=\"fill:#1f77b4;stroke:#1f77b4;\" x=\"134.86865\" xlink:href=\"#m8aeae4ee99\" y=\"77.773032\"/>\n     <use style=\"fill:#1f77b4;stroke:#1f77b4;\" x=\"108.304567\" xlink:href=\"#m8aeae4ee99\" y=\"46.620384\"/>\n     <use style=\"fill:#1f77b4;stroke:#1f77b4;\" x=\"148.043819\" xlink:href=\"#m8aeae4ee99\" y=\"80.42492\"/>\n     <use style=\"fill:#1f77b4;stroke:#1f77b4;\" x=\"106.298361\" xlink:href=\"#m8aeae4ee99\" y=\"45.72394\"/>\n     <use style=\"fill:#1f77b4;stroke:#1f77b4;\" x=\"152.053346\" xlink:href=\"#m8aeae4ee99\" y=\"86.792041\"/>\n     <use style=\"fill:#1f77b4;stroke:#1f77b4;\" x=\"90.842738\" xlink:href=\"#m8aeae4ee99\" y=\"62.346326\"/>\n     <use style=\"fill:#1f77b4;stroke:#1f77b4;\" x=\"153.612615\" xlink:href=\"#m8aeae4ee99\" y=\"84.26271\"/>\n     <use style=\"fill:#1f77b4;stroke:#1f77b4;\" x=\"70.547949\" xlink:href=\"#m8aeae4ee99\" y=\"34.858114\"/>\n     <use style=\"fill:#1f77b4;stroke:#1f77b4;\" x=\"139.638087\" xlink:href=\"#m8aeae4ee99\" y=\"83.021947\"/>\n     <use style=\"fill:#1f77b4;stroke:#1f77b4;\" x=\"151.888097\" xlink:href=\"#m8aeae4ee99\" y=\"90.22388\"/>\n     <use style=\"fill:#1f77b4;stroke:#1f77b4;\" x=\"187.438745\" xlink:href=\"#m8aeae4ee99\" y=\"108.651784\"/>\n     <use style=\"fill:#1f77b4;stroke:#1f77b4;\" x=\"57.637938\" xlink:href=\"#m8aeae4ee99\" y=\"40.955526\"/>\n     <use style=\"fill:#1f77b4;stroke:#1f77b4;\" x=\"103.116872\" xlink:href=\"#m8aeae4ee99\" y=\"67.626883\"/>\n     <use style=\"fill:#1f77b4;stroke:#1f77b4;\" x=\"130.279441\" xlink:href=\"#m8aeae4ee99\" y=\"65.787228\"/>\n     <use style=\"fill:#1f77b4;stroke:#1f77b4;\" x=\"120.984324\" xlink:href=\"#m8aeae4ee99\" y=\"75.878974\"/>\n     <use style=\"fill:#1f77b4;stroke:#1f77b4;\" x=\"134.07826\" xlink:href=\"#m8aeae4ee99\" y=\"74.585476\"/>\n     <use style=\"fill:#1f77b4;stroke:#1f77b4;\" x=\"160.544697\" xlink:href=\"#m8aeae4ee99\" y=\"88.164357\"/>\n     <use style=\"fill:#1f77b4;stroke:#1f77b4;\" x=\"202.173554\" xlink:href=\"#m8aeae4ee99\" y=\"110.754701\"/>\n     <use style=\"fill:#1f77b4;stroke:#1f77b4;\" x=\"140.983354\" xlink:href=\"#m8aeae4ee99\" y=\"86.093214\"/>\n     <use style=\"fill:#1f77b4;stroke:#1f77b4;\" x=\"164.539587\" xlink:href=\"#m8aeae4ee99\" y=\"98.022045\"/>\n     <use style=\"fill:#1f77b4;stroke:#1f77b4;\" x=\"133.038829\" xlink:href=\"#m8aeae4ee99\" y=\"80.280425\"/>\n     <use style=\"fill:#1f77b4;stroke:#1f77b4;\" x=\"120.588925\" xlink:href=\"#m8aeae4ee99\" y=\"65.250999\"/>\n     <use style=\"fill:#1f77b4;stroke:#1f77b4;\" x=\"142.455653\" xlink:href=\"#m8aeae4ee99\" y=\"88.773612\"/>\n     <use style=\"fill:#1f77b4;stroke:#1f77b4;\" x=\"98.045357\" xlink:href=\"#m8aeae4ee99\" y=\"59.41372\"/>\n     <use style=\"fill:#1f77b4;stroke:#1f77b4;\" x=\"138.434207\" xlink:href=\"#m8aeae4ee99\" y=\"79.931346\"/>\n     <use style=\"fill:#1f77b4;stroke:#1f77b4;\" x=\"120.007364\" xlink:href=\"#m8aeae4ee99\" y=\"46.251402\"/>\n     <use style=\"fill:#1f77b4;stroke:#1f77b4;\" x=\"141.38134\" xlink:href=\"#m8aeae4ee99\" y=\"59.318833\"/>\n     <use style=\"fill:#1f77b4;stroke:#1f77b4;\" x=\"109.526332\" xlink:href=\"#m8aeae4ee99\" y=\"48.806555\"/>\n     <use style=\"fill:#1f77b4;stroke:#1f77b4;\" x=\"140.161384\" xlink:href=\"#m8aeae4ee99\" y=\"66.380575\"/>\n     <use style=\"fill:#1f77b4;stroke:#1f77b4;\" x=\"163.600302\" xlink:href=\"#m8aeae4ee99\" y=\"84.90051\"/>\n     <use style=\"fill:#1f77b4;stroke:#1f77b4;\" x=\"171.451122\" xlink:href=\"#m8aeae4ee99\" y=\"106.943595\"/>\n     <use style=\"fill:#1f77b4;stroke:#1f77b4;\" x=\"121.035127\" xlink:href=\"#m8aeae4ee99\" y=\"54.303529\"/>\n     <use style=\"fill:#1f77b4;stroke:#1f77b4;\" x=\"123.819011\" xlink:href=\"#m8aeae4ee99\" y=\"74.349835\"/>\n     <use style=\"fill:#1f77b4;stroke:#1f77b4;\" x=\"109.31171\" xlink:href=\"#m8aeae4ee99\" y=\"53.385788\"/>\n     <use style=\"fill:#1f77b4;stroke:#1f77b4;\" x=\"130.954709\" xlink:href=\"#m8aeae4ee99\" y=\"71.649328\"/>\n     <use style=\"fill:#1f77b4;stroke:#1f77b4;\" x=\"106.138441\" xlink:href=\"#m8aeae4ee99\" y=\"57.057106\"/>\n     <use style=\"fill:#1f77b4;stroke:#1f77b4;\" x=\"134.980025\" xlink:href=\"#m8aeae4ee99\" y=\"79.202761\"/>\n     <use style=\"fill:#1f77b4;stroke:#1f77b4;\" x=\"112.232385\" xlink:href=\"#m8aeae4ee99\" y=\"48.124745\"/>\n     <use style=\"fill:#1f77b4;stroke:#1f77b4;\" x=\"140.847078\" xlink:href=\"#m8aeae4ee99\" y=\"76.876773\"/>\n     <use style=\"fill:#1f77b4;stroke:#1f77b4;\" x=\"139.928478\" xlink:href=\"#m8aeae4ee99\" y=\"79.206403\"/>\n     <use style=\"fill:#1f77b4;stroke:#1f77b4;\" x=\"88.408963\" xlink:href=\"#m8aeae4ee99\" y=\"64.151209\"/>\n     <use style=\"fill:#1f77b4;stroke:#1f77b4;\" x=\"147.156238\" xlink:href=\"#m8aeae4ee99\" y=\"61.600071\"/>\n     <use style=\"fill:#1f77b4;stroke:#1f77b4;\" x=\"133.12324\" xlink:href=\"#m8aeae4ee99\" y=\"69.98141\"/>\n     <use style=\"fill:#1f77b4;stroke:#1f77b4;\" x=\"105.631613\" xlink:href=\"#m8aeae4ee99\" y=\"33.281793\"/>\n     <use style=\"fill:#1f77b4;stroke:#1f77b4;\" x=\"121.221183\" xlink:href=\"#m8aeae4ee99\" y=\"72.084656\"/>\n     <use style=\"fill:#1f77b4;stroke:#1f77b4;\" x=\"129.919445\" xlink:href=\"#m8aeae4ee99\" y=\"61.058935\"/>\n     <use style=\"fill:#1f77b4;stroke:#1f77b4;\" x=\"116.760736\" xlink:href=\"#m8aeae4ee99\" y=\"66.41526\"/>\n     <use style=\"fill:#1f77b4;stroke:#1f77b4;\" x=\"152.878055\" xlink:href=\"#m8aeae4ee99\" y=\"87.318937\"/>\n     <use style=\"fill:#1f77b4;stroke:#1f77b4;\" x=\"120.825672\" xlink:href=\"#m8aeae4ee99\" y=\"63.113081\"/>\n     <use style=\"fill:#1f77b4;stroke:#1f77b4;\" x=\"120.373679\" xlink:href=\"#m8aeae4ee99\" y=\"55.462634\"/>\n     <use style=\"fill:#1f77b4;stroke:#1f77b4;\" x=\"123.321788\" xlink:href=\"#m8aeae4ee99\" y=\"54.081045\"/>\n     <use style=\"fill:#1f77b4;stroke:#1f77b4;\" x=\"141.160842\" xlink:href=\"#m8aeae4ee99\" y=\"67.411926\"/>\n     <use style=\"fill:#1f77b4;stroke:#1f77b4;\" x=\"139.073482\" xlink:href=\"#m8aeae4ee99\" y=\"66.602735\"/>\n     <use style=\"fill:#1f77b4;stroke:#1f77b4;\" x=\"101.056929\" xlink:href=\"#m8aeae4ee99\" y=\"54.086568\"/>\n     <use style=\"fill:#1f77b4;stroke:#1f77b4;\" x=\"88.88289\" xlink:href=\"#m8aeae4ee99\" y=\"53.795424\"/>\n     <use style=\"fill:#1f77b4;stroke:#1f77b4;\" x=\"111.153094\" xlink:href=\"#m8aeae4ee99\" y=\"57.417322\"/>\n     <use style=\"fill:#1f77b4;stroke:#1f77b4;\" x=\"146.022688\" xlink:href=\"#m8aeae4ee99\" y=\"83.373886\"/>\n     <use style=\"fill:#1f77b4;stroke:#1f77b4;\" x=\"93.9165\" xlink:href=\"#m8aeae4ee99\" y=\"39.65608\"/>\n     <use style=\"fill:#1f77b4;stroke:#1f77b4;\" x=\"91.207384\" xlink:href=\"#m8aeae4ee99\" y=\"29.873352\"/>\n     <use style=\"fill:#1f77b4;stroke:#1f77b4;\" x=\"123.327204\" xlink:href=\"#m8aeae4ee99\" y=\"63.472593\"/>\n     <use style=\"fill:#1f77b4;stroke:#1f77b4;\" x=\"127.667829\" xlink:href=\"#m8aeae4ee99\" y=\"51.868334\"/>\n     <use style=\"fill:#1f77b4;stroke:#1f77b4;\" x=\"130.581048\" xlink:href=\"#m8aeae4ee99\" y=\"59.000818\"/>\n     <use style=\"fill:#1f77b4;stroke:#1f77b4;\" x=\"157.181084\" xlink:href=\"#m8aeae4ee99\" y=\"69.813895\"/>\n     <use style=\"fill:#1f77b4;stroke:#1f77b4;\" x=\"139.78096\" xlink:href=\"#m8aeae4ee99\" y=\"83.419075\"/>\n     <use style=\"fill:#1f77b4;stroke:#1f77b4;\" x=\"119.127318\" xlink:href=\"#m8aeae4ee99\" y=\"67.364092\"/>\n     <use style=\"fill:#1f77b4;stroke:#1f77b4;\" x=\"123.805889\" xlink:href=\"#m8aeae4ee99\" y=\"65.931909\"/>\n     <use style=\"fill:#1f77b4;stroke:#1f77b4;\" x=\"128.469546\" xlink:href=\"#m8aeae4ee99\" y=\"78.610403\"/>\n     <use style=\"fill:#1f77b4;stroke:#1f77b4;\" x=\"147.915287\" xlink:href=\"#m8aeae4ee99\" y=\"91.309052\"/>\n     <use style=\"fill:#1f77b4;stroke:#1f77b4;\" x=\"83.285323\" xlink:href=\"#m8aeae4ee99\" y=\"28.448438\"/>\n     <use style=\"fill:#1f77b4;stroke:#1f77b4;\" x=\"137.424991\" xlink:href=\"#m8aeae4ee99\" y=\"80.61372\"/>\n     <use style=\"fill:#1f77b4;stroke:#1f77b4;\" x=\"95.00687\" xlink:href=\"#m8aeae4ee99\" y=\"50.177881\"/>\n     <use style=\"fill:#1f77b4;stroke:#1f77b4;\" x=\"102.142875\" xlink:href=\"#m8aeae4ee99\" y=\"51.68097\"/>\n     <use style=\"fill:#1f77b4;stroke:#1f77b4;\" x=\"117.716561\" xlink:href=\"#m8aeae4ee99\" y=\"64.084665\"/>\n     <use style=\"fill:#1f77b4;stroke:#1f77b4;\" x=\"119.436212\" xlink:href=\"#m8aeae4ee99\" y=\"52.747206\"/>\n     <use style=\"fill:#1f77b4;stroke:#1f77b4;\" x=\"118.1939\" xlink:href=\"#m8aeae4ee99\" y=\"62.535929\"/>\n     <use style=\"fill:#1f77b4;stroke:#1f77b4;\" x=\"148.834344\" xlink:href=\"#m8aeae4ee99\" y=\"71.514503\"/>\n     <use style=\"fill:#1f77b4;stroke:#1f77b4;\" x=\"136.918916\" xlink:href=\"#m8aeae4ee99\" y=\"76.999174\"/>\n     <use style=\"fill:#1f77b4;stroke:#1f77b4;\" x=\"162.895511\" xlink:href=\"#m8aeae4ee99\" y=\"101.668217\"/>\n     <use style=\"fill:#1f77b4;stroke:#1f77b4;\" x=\"153.753728\" xlink:href=\"#m8aeae4ee99\" y=\"90.41147\"/>\n     <use style=\"fill:#1f77b4;stroke:#1f77b4;\" x=\"158.107338\" xlink:href=\"#m8aeae4ee99\" y=\"95.834201\"/>\n     <use style=\"fill:#1f77b4;stroke:#1f77b4;\" x=\"143.638719\" xlink:href=\"#m8aeae4ee99\" y=\"82.813933\"/>\n     <use style=\"fill:#1f77b4;stroke:#1f77b4;\" x=\"138.157858\" xlink:href=\"#m8aeae4ee99\" y=\"60.214809\"/>\n     <use style=\"fill:#1f77b4;stroke:#1f77b4;\" x=\"125.583847\" xlink:href=\"#m8aeae4ee99\" y=\"61.426519\"/>\n     <use style=\"fill:#1f77b4;stroke:#1f77b4;\" x=\"60.18366\" xlink:href=\"#m8aeae4ee99\" y=\"22.61011\"/>\n     <use style=\"fill:#1f77b4;stroke:#1f77b4;\" x=\"124.26619\" xlink:href=\"#m8aeae4ee99\" y=\"70.534359\"/>\n     <use style=\"fill:#1f77b4;stroke:#1f77b4;\" x=\"138.781503\" xlink:href=\"#m8aeae4ee99\" y=\"76.589825\"/>\n     <use style=\"fill:#1f77b4;stroke:#1f77b4;\" x=\"148.088258\" xlink:href=\"#m8aeae4ee99\" y=\"93.873118\"/>\n     <use style=\"fill:#1f77b4;stroke:#1f77b4;\" x=\"142.512775\" xlink:href=\"#m8aeae4ee99\" y=\"66.618296\"/>\n     <use style=\"fill:#1f77b4;stroke:#1f77b4;\" x=\"146.776915\" xlink:href=\"#m8aeae4ee99\" y=\"85.05917\"/>\n     <use style=\"fill:#1f77b4;stroke:#1f77b4;\" x=\"114.539376\" xlink:href=\"#m8aeae4ee99\" y=\"54.169436\"/>\n     <use style=\"fill:#1f77b4;stroke:#1f77b4;\" x=\"144.409949\" xlink:href=\"#m8aeae4ee99\" y=\"93.806537\"/>\n     <use style=\"fill:#1f77b4;stroke:#1f77b4;\" x=\"53.788565\" xlink:href=\"#m8aeae4ee99\" y=\"26.593429\"/>\n     <use style=\"fill:#1f77b4;stroke:#1f77b4;\" x=\"144.044516\" xlink:href=\"#m8aeae4ee99\" y=\"75.550871\"/>\n     <use style=\"fill:#1f77b4;stroke:#1f77b4;\" x=\"75.426119\" xlink:href=\"#m8aeae4ee99\" y=\"33.895867\"/>\n     <use style=\"fill:#1f77b4;stroke:#1f77b4;\" x=\"152.555677\" xlink:href=\"#m8aeae4ee99\" y=\"100.313839\"/>\n     <use style=\"fill:#1f77b4;stroke:#1f77b4;\" x=\"111.603271\" xlink:href=\"#m8aeae4ee99\" y=\"78.100766\"/>\n     <use style=\"fill:#1f77b4;stroke:#1f77b4;\" x=\"145.671432\" xlink:href=\"#m8aeae4ee99\" y=\"87.191455\"/>\n     <use style=\"fill:#1f77b4;stroke:#1f77b4;\" x=\"144.59552\" xlink:href=\"#m8aeae4ee99\" y=\"88.027\"/>\n     <use style=\"fill:#1f77b4;stroke:#1f77b4;\" x=\"163.706155\" xlink:href=\"#m8aeae4ee99\" y=\"77.600753\"/>\n     <use style=\"fill:#1f77b4;stroke:#1f77b4;\" x=\"123.583462\" xlink:href=\"#m8aeae4ee99\" y=\"60.281526\"/>\n     <use style=\"fill:#1f77b4;stroke:#1f77b4;\" x=\"124.516948\" xlink:href=\"#m8aeae4ee99\" y=\"82.318791\"/>\n     <use style=\"fill:#1f77b4;stroke:#1f77b4;\" x=\"136.614304\" xlink:href=\"#m8aeae4ee99\" y=\"78.470837\"/>\n     <use style=\"fill:#1f77b4;stroke:#1f77b4;\" x=\"134.520757\" xlink:href=\"#m8aeae4ee99\" y=\"76.52363\"/>\n     <use style=\"fill:#1f77b4;stroke:#1f77b4;\" x=\"158.178284\" xlink:href=\"#m8aeae4ee99\" y=\"87.105258\"/>\n     <use style=\"fill:#1f77b4;stroke:#1f77b4;\" x=\"127.619991\" xlink:href=\"#m8aeae4ee99\" y=\"66.499681\"/>\n     <use style=\"fill:#1f77b4;stroke:#1f77b4;\" x=\"124.58247\" xlink:href=\"#m8aeae4ee99\" y=\"96.747695\"/>\n     <use style=\"fill:#1f77b4;stroke:#1f77b4;\" x=\"128.683704\" xlink:href=\"#m8aeae4ee99\" y=\"71.692743\"/>\n     <use style=\"fill:#1f77b4;stroke:#1f77b4;\" x=\"120.373083\" xlink:href=\"#m8aeae4ee99\" y=\"65.882585\"/>\n     <use style=\"fill:#1f77b4;stroke:#1f77b4;\" x=\"133.368699\" xlink:href=\"#m8aeae4ee99\" y=\"57.068156\"/>\n     <use style=\"fill:#1f77b4;stroke:#1f77b4;\" x=\"88.604639\" xlink:href=\"#m8aeae4ee99\" y=\"43.130958\"/>\n     <use style=\"fill:#1f77b4;stroke:#1f77b4;\" x=\"134.005458\" xlink:href=\"#m8aeae4ee99\" y=\"63.10277\"/>\n     <use style=\"fill:#1f77b4;stroke:#1f77b4;\" x=\"74.426864\" xlink:href=\"#m8aeae4ee99\" y=\"33.395745\"/>\n     <use style=\"fill:#1f77b4;stroke:#1f77b4;\" x=\"130.734505\" xlink:href=\"#m8aeae4ee99\" y=\"65.37466\"/>\n     <use style=\"fill:#1f77b4;stroke:#1f77b4;\" x=\"151.942739\" xlink:href=\"#m8aeae4ee99\" y=\"68.333167\"/>\n     <use style=\"fill:#1f77b4;stroke:#1f77b4;\" x=\"125.392251\" xlink:href=\"#m8aeae4ee99\" y=\"41.909919\"/>\n     <use style=\"fill:#1f77b4;stroke:#1f77b4;\" x=\"134.032758\" xlink:href=\"#m8aeae4ee99\" y=\"74.56334\"/>\n     <use style=\"fill:#1f77b4;stroke:#1f77b4;\" x=\"134.76276\" xlink:href=\"#m8aeae4ee99\" y=\"68.074113\"/>\n     <use style=\"fill:#1f77b4;stroke:#1f77b4;\" x=\"154.163293\" xlink:href=\"#m8aeae4ee99\" y=\"92.580232\"/>\n     <use style=\"fill:#1f77b4;stroke:#1f77b4;\" x=\"129.54981\" xlink:href=\"#m8aeae4ee99\" y=\"77.986456\"/>\n     <use style=\"fill:#1f77b4;stroke:#1f77b4;\" x=\"109.454688\" xlink:href=\"#m8aeae4ee99\" y=\"53.649519\"/>\n     <use style=\"fill:#1f77b4;stroke:#1f77b4;\" x=\"142.301617\" xlink:href=\"#m8aeae4ee99\" y=\"72.020757\"/>\n     <use style=\"fill:#1f77b4;stroke:#1f77b4;\" x=\"121.267077\" xlink:href=\"#m8aeae4ee99\" y=\"62.290759\"/>\n     <use style=\"fill:#1f77b4;stroke:#1f77b4;\" x=\"143.201839\" xlink:href=\"#m8aeae4ee99\" y=\"77.383381\"/>\n     <use style=\"fill:#1f77b4;stroke:#1f77b4;\" x=\"90.422838\" xlink:href=\"#m8aeae4ee99\" y=\"49.521434\"/>\n     <use style=\"fill:#1f77b4;stroke:#1f77b4;\" x=\"127.921821\" xlink:href=\"#m8aeae4ee99\" y=\"91.168605\"/>\n     <use style=\"fill:#1f77b4;stroke:#1f77b4;\" x=\"114.361114\" xlink:href=\"#m8aeae4ee99\" y=\"70.783311\"/>\n     <use style=\"fill:#1f77b4;stroke:#1f77b4;\" x=\"117.257173\" xlink:href=\"#m8aeae4ee99\" y=\"76.712379\"/>\n     <use style=\"fill:#1f77b4;stroke:#1f77b4;\" x=\"173.022643\" xlink:href=\"#m8aeae4ee99\" y=\"117.407694\"/>\n     <use style=\"fill:#1f77b4;stroke:#1f77b4;\" x=\"146.939478\" xlink:href=\"#m8aeae4ee99\" y=\"73.289953\"/>\n     <use style=\"fill:#1f77b4;stroke:#1f77b4;\" x=\"174.229203\" xlink:href=\"#m8aeae4ee99\" y=\"117.918502\"/>\n     <use style=\"fill:#1f77b4;stroke:#1f77b4;\" x=\"106.721523\" xlink:href=\"#m8aeae4ee99\" y=\"53.996171\"/>\n     <use style=\"fill:#1f77b4;stroke:#1f77b4;\" x=\"125.981747\" xlink:href=\"#m8aeae4ee99\" y=\"70.107207\"/>\n     <use style=\"fill:#1f77b4;stroke:#1f77b4;\" x=\"121.479054\" xlink:href=\"#m8aeae4ee99\" y=\"51.676866\"/>\n     <use style=\"fill:#1f77b4;stroke:#1f77b4;\" x=\"131.623789\" xlink:href=\"#m8aeae4ee99\" y=\"72.034668\"/>\n     <use style=\"fill:#1f77b4;stroke:#1f77b4;\" x=\"141.697221\" xlink:href=\"#m8aeae4ee99\" y=\"82.31292\"/>\n     <use style=\"fill:#1f77b4;stroke:#1f77b4;\" x=\"111.022883\" xlink:href=\"#m8aeae4ee99\" y=\"51.064226\"/>\n     <use style=\"fill:#1f77b4;stroke:#1f77b4;\" x=\"107.996616\" xlink:href=\"#m8aeae4ee99\" y=\"35.874051\"/>\n     <use style=\"fill:#1f77b4;stroke:#1f77b4;\" x=\"134.893315\" xlink:href=\"#m8aeae4ee99\" y=\"86.530631\"/>\n     <use style=\"fill:#1f77b4;stroke:#1f77b4;\" x=\"116.638995\" xlink:href=\"#m8aeae4ee99\" y=\"66.160932\"/>\n     <use style=\"fill:#1f77b4;stroke:#1f77b4;\" x=\"140.690914\" xlink:href=\"#m8aeae4ee99\" y=\"70.299222\"/>\n     <use style=\"fill:#1f77b4;stroke:#1f77b4;\" x=\"135.77465\" xlink:href=\"#m8aeae4ee99\" y=\"73.113629\"/>\n     <use style=\"fill:#1f77b4;stroke:#1f77b4;\" x=\"127.021191\" xlink:href=\"#m8aeae4ee99\" y=\"51.16197\"/>\n     <use style=\"fill:#1f77b4;stroke:#1f77b4;\" x=\"141.862747\" xlink:href=\"#m8aeae4ee99\" y=\"73.755574\"/>\n     <use style=\"fill:#1f77b4;stroke:#1f77b4;\" x=\"145.561526\" xlink:href=\"#m8aeae4ee99\" y=\"91.178656\"/>\n     <use style=\"fill:#1f77b4;stroke:#1f77b4;\" x=\"133.221518\" xlink:href=\"#m8aeae4ee99\" y=\"68.157355\"/>\n     <use style=\"fill:#1f77b4;stroke:#1f77b4;\" x=\"87.731421\" xlink:href=\"#m8aeae4ee99\" y=\"49.498235\"/>\n     <use style=\"fill:#1f77b4;stroke:#1f77b4;\" x=\"124.38895\" xlink:href=\"#m8aeae4ee99\" y=\"56.93421\"/>\n     <use style=\"fill:#1f77b4;stroke:#1f77b4;\" x=\"159.982778\" xlink:href=\"#m8aeae4ee99\" y=\"81.34391\"/>\n     <use style=\"fill:#1f77b4;stroke:#1f77b4;\" x=\"188.484908\" xlink:href=\"#m8aeae4ee99\" y=\"97.289343\"/>\n     <use style=\"fill:#1f77b4;stroke:#1f77b4;\" x=\"106.929685\" xlink:href=\"#m8aeae4ee99\" y=\"38.616224\"/>\n     <use style=\"fill:#1f77b4;stroke:#1f77b4;\" x=\"141.300778\" xlink:href=\"#m8aeae4ee99\" y=\"75.41991\"/>\n     <use style=\"fill:#1f77b4;stroke:#1f77b4;\" x=\"154.39119\" xlink:href=\"#m8aeae4ee99\" y=\"80.580653\"/>\n     <use style=\"fill:#1f77b4;stroke:#1f77b4;\" x=\"81.220331\" xlink:href=\"#m8aeae4ee99\" y=\"37.999518\"/>\n     <use style=\"fill:#1f77b4;stroke:#1f77b4;\" x=\"128.442515\" xlink:href=\"#m8aeae4ee99\" y=\"54.056366\"/>\n     <use style=\"fill:#1f77b4;stroke:#1f77b4;\" x=\"125.415276\" xlink:href=\"#m8aeae4ee99\" y=\"73.863496\"/>\n     <use style=\"fill:#1f77b4;stroke:#1f77b4;\" x=\"164.590297\" xlink:href=\"#m8aeae4ee99\" y=\"88.787053\"/>\n     <use style=\"fill:#1f77b4;stroke:#1f77b4;\" x=\"151.23419\" xlink:href=\"#m8aeae4ee99\" y=\"82.845228\"/>\n     <use style=\"fill:#1f77b4;stroke:#1f77b4;\" x=\"131.12124\" xlink:href=\"#m8aeae4ee99\" y=\"67.196819\"/>\n     <use style=\"fill:#1f77b4;stroke:#1f77b4;\" x=\"159.534725\" xlink:href=\"#m8aeae4ee99\" y=\"95.613384\"/>\n     <use style=\"fill:#1f77b4;stroke:#1f77b4;\" x=\"136.950445\" xlink:href=\"#m8aeae4ee99\" y=\"88.736696\"/>\n     <use style=\"fill:#1f77b4;stroke:#1f77b4;\" x=\"127.161759\" xlink:href=\"#m8aeae4ee99\" y=\"81.721512\"/>\n     <use style=\"fill:#1f77b4;stroke:#1f77b4;\" x=\"85.918591\" xlink:href=\"#m8aeae4ee99\" y=\"45.30135\"/>\n     <use style=\"fill:#1f77b4;stroke:#1f77b4;\" x=\"122.089942\" xlink:href=\"#m8aeae4ee99\" y=\"69.636355\"/>\n     <use style=\"fill:#1f77b4;stroke:#1f77b4;\" x=\"134.210121\" xlink:href=\"#m8aeae4ee99\" y=\"74.298346\"/>\n     <use style=\"fill:#1f77b4;stroke:#1f77b4;\" x=\"142.197612\" xlink:href=\"#m8aeae4ee99\" y=\"70.29162\"/>\n     <use style=\"fill:#1f77b4;stroke:#1f77b4;\" x=\"89.378967\" xlink:href=\"#m8aeae4ee99\" y=\"29.394372\"/>\n     <use style=\"fill:#1f77b4;stroke:#1f77b4;\" x=\"146.981523\" xlink:href=\"#m8aeae4ee99\" y=\"96.848341\"/>\n     <use style=\"fill:#1f77b4;stroke:#1f77b4;\" x=\"118.371076\" xlink:href=\"#m8aeae4ee99\" y=\"77.689236\"/>\n     <use style=\"fill:#1f77b4;stroke:#1f77b4;\" x=\"144.724977\" xlink:href=\"#m8aeae4ee99\" y=\"76.312122\"/>\n     <use style=\"fill:#1f77b4;stroke:#1f77b4;\" x=\"123.344145\" xlink:href=\"#m8aeae4ee99\" y=\"55.022113\"/>\n     <use style=\"fill:#1f77b4;stroke:#1f77b4;\" x=\"116.292861\" xlink:href=\"#m8aeae4ee99\" y=\"68.184093\"/>\n     <use style=\"fill:#1f77b4;stroke:#1f77b4;\" x=\"95.794395\" xlink:href=\"#m8aeae4ee99\" y=\"40.095379\"/>\n     <use style=\"fill:#1f77b4;stroke:#1f77b4;\" x=\"103.236212\" xlink:href=\"#m8aeae4ee99\" y=\"51.983298\"/>\n     <use style=\"fill:#1f77b4;stroke:#1f77b4;\" x=\"116.714566\" xlink:href=\"#m8aeae4ee99\" y=\"58.928517\"/>\n     <use style=\"fill:#1f77b4;stroke:#1f77b4;\" x=\"154.420217\" xlink:href=\"#m8aeae4ee99\" y=\"109.170515\"/>\n     <use style=\"fill:#1f77b4;stroke:#1f77b4;\" x=\"137.209349\" xlink:href=\"#m8aeae4ee99\" y=\"79.493915\"/>\n     <use style=\"fill:#1f77b4;stroke:#1f77b4;\" x=\"86.685889\" xlink:href=\"#m8aeae4ee99\" y=\"54.322095\"/>\n     <use style=\"fill:#1f77b4;stroke:#1f77b4;\" x=\"117.053846\" xlink:href=\"#m8aeae4ee99\" y=\"68.586756\"/>\n     <use style=\"fill:#1f77b4;stroke:#1f77b4;\" x=\"132.613709\" xlink:href=\"#m8aeae4ee99\" y=\"72.406417\"/>\n     <use style=\"fill:#1f77b4;stroke:#1f77b4;\" x=\"141.990859\" xlink:href=\"#m8aeae4ee99\" y=\"94.41658\"/>\n     <use style=\"fill:#1f77b4;stroke:#1f77b4;\" x=\"192.273811\" xlink:href=\"#m8aeae4ee99\" y=\"114.656138\"/>\n     <use style=\"fill:#1f77b4;stroke:#1f77b4;\" x=\"164.169984\" xlink:href=\"#m8aeae4ee99\" y=\"82.320921\"/>\n     <use style=\"fill:#1f77b4;stroke:#1f77b4;\" x=\"130.75857\" xlink:href=\"#m8aeae4ee99\" y=\"75.224207\"/>\n     <use style=\"fill:#1f77b4;stroke:#1f77b4;\" x=\"119.98409\" xlink:href=\"#m8aeae4ee99\" y=\"44.540571\"/>\n     <use style=\"fill:#1f77b4;stroke:#1f77b4;\" x=\"132.300583\" xlink:href=\"#m8aeae4ee99\" y=\"57.981044\"/>\n     <use style=\"fill:#1f77b4;stroke:#1f77b4;\" x=\"83.034845\" xlink:href=\"#m8aeae4ee99\" y=\"34.85686\"/>\n     <use style=\"fill:#1f77b4;stroke:#1f77b4;\" x=\"176.04017\" xlink:href=\"#m8aeae4ee99\" y=\"106.306536\"/>\n     <use style=\"fill:#1f77b4;stroke:#1f77b4;\" x=\"154.725021\" xlink:href=\"#m8aeae4ee99\" y=\"71.138009\"/>\n     <use style=\"fill:#1f77b4;stroke:#1f77b4;\" x=\"184.690423\" xlink:href=\"#m8aeae4ee99\" y=\"125.729951\"/>\n     <use style=\"fill:#1f77b4;stroke:#1f77b4;\" x=\"133.802073\" xlink:href=\"#m8aeae4ee99\" y=\"79.599992\"/>\n     <use style=\"fill:#1f77b4;stroke:#1f77b4;\" x=\"158.60238\" xlink:href=\"#m8aeae4ee99\" y=\"99.419751\"/>\n     <use style=\"fill:#1f77b4;stroke:#1f77b4;\" x=\"156.2865\" xlink:href=\"#m8aeae4ee99\" y=\"87.438474\"/>\n     <use style=\"fill:#1f77b4;stroke:#1f77b4;\" x=\"136.167644\" xlink:href=\"#m8aeae4ee99\" y=\"84.189003\"/>\n     <use style=\"fill:#1f77b4;stroke:#1f77b4;\" x=\"99.10213\" xlink:href=\"#m8aeae4ee99\" y=\"45.879356\"/>\n     <use style=\"fill:#1f77b4;stroke:#1f77b4;\" x=\"169.70391\" xlink:href=\"#m8aeae4ee99\" y=\"93.441357\"/>\n     <use style=\"fill:#1f77b4;stroke:#1f77b4;\" x=\"114.259012\" xlink:href=\"#m8aeae4ee99\" y=\"55.443034\"/>\n     <use style=\"fill:#1f77b4;stroke:#1f77b4;\" x=\"165.580629\" xlink:href=\"#m8aeae4ee99\" y=\"102.334063\"/>\n     <use style=\"fill:#1f77b4;stroke:#1f77b4;\" x=\"142.495413\" xlink:href=\"#m8aeae4ee99\" y=\"85.153269\"/>\n     <use style=\"fill:#1f77b4;stroke:#1f77b4;\" x=\"135.81524\" xlink:href=\"#m8aeae4ee99\" y=\"78.624376\"/>\n     <use style=\"fill:#1f77b4;stroke:#1f77b4;\" x=\"105.482897\" xlink:href=\"#m8aeae4ee99\" y=\"69.583891\"/>\n     <use style=\"fill:#1f77b4;stroke:#1f77b4;\" x=\"118.94777\" xlink:href=\"#m8aeae4ee99\" y=\"52.591193\"/>\n     <use style=\"fill:#1f77b4;stroke:#1f77b4;\" x=\"120.020001\" xlink:href=\"#m8aeae4ee99\" y=\"60.093412\"/>\n     <use style=\"fill:#1f77b4;stroke:#1f77b4;\" x=\"134.138178\" xlink:href=\"#m8aeae4ee99\" y=\"87.837792\"/>\n     <use style=\"fill:#1f77b4;stroke:#1f77b4;\" x=\"145.178233\" xlink:href=\"#m8aeae4ee99\" y=\"59.521973\"/>\n     <use style=\"fill:#1f77b4;stroke:#1f77b4;\" x=\"101.052062\" xlink:href=\"#m8aeae4ee99\" y=\"48.507613\"/>\n     <use style=\"fill:#1f77b4;stroke:#1f77b4;\" x=\"117.750867\" xlink:href=\"#m8aeae4ee99\" y=\"72.074916\"/>\n     <use style=\"fill:#1f77b4;stroke:#1f77b4;\" x=\"118.560984\" xlink:href=\"#m8aeae4ee99\" y=\"79.710498\"/>\n     <use style=\"fill:#1f77b4;stroke:#1f77b4;\" x=\"100.650134\" xlink:href=\"#m8aeae4ee99\" y=\"36.475839\"/>\n     <use style=\"fill:#1f77b4;stroke:#1f77b4;\" x=\"95.889552\" xlink:href=\"#m8aeae4ee99\" y=\"38.30998\"/>\n     <use style=\"fill:#1f77b4;stroke:#1f77b4;\" x=\"109.912805\" xlink:href=\"#m8aeae4ee99\" y=\"24.79718\"/>\n     <use style=\"fill:#1f77b4;stroke:#1f77b4;\" x=\"127.202684\" xlink:href=\"#m8aeae4ee99\" y=\"50.738648\"/>\n     <use style=\"fill:#1f77b4;stroke:#1f77b4;\" x=\"82.297827\" xlink:href=\"#m8aeae4ee99\" y=\"36.409995\"/>\n     <use style=\"fill:#1f77b4;stroke:#1f77b4;\" x=\"119.229968\" xlink:href=\"#m8aeae4ee99\" y=\"69.177122\"/>\n     <use style=\"fill:#1f77b4;stroke:#1f77b4;\" x=\"117.129522\" xlink:href=\"#m8aeae4ee99\" y=\"76.89617\"/>\n     <use style=\"fill:#1f77b4;stroke:#1f77b4;\" x=\"134.597966\" xlink:href=\"#m8aeae4ee99\" y=\"72.669366\"/>\n     <use style=\"fill:#1f77b4;stroke:#1f77b4;\" x=\"138.107537\" xlink:href=\"#m8aeae4ee99\" y=\"71.338139\"/>\n     <use style=\"fill:#1f77b4;stroke:#1f77b4;\" x=\"115.892659\" xlink:href=\"#m8aeae4ee99\" y=\"63.838294\"/>\n     <use style=\"fill:#1f77b4;stroke:#1f77b4;\" x=\"152.472471\" xlink:href=\"#m8aeae4ee99\" y=\"72.570343\"/>\n     <use style=\"fill:#1f77b4;stroke:#1f77b4;\" x=\"108.298887\" xlink:href=\"#m8aeae4ee99\" y=\"54.714437\"/>\n     <use style=\"fill:#1f77b4;stroke:#1f77b4;\" x=\"156.96231\" xlink:href=\"#m8aeae4ee99\" y=\"80.339693\"/>\n     <use style=\"fill:#1f77b4;stroke:#1f77b4;\" x=\"142.329194\" xlink:href=\"#m8aeae4ee99\" y=\"91.856339\"/>\n     <use style=\"fill:#1f77b4;stroke:#1f77b4;\" x=\"164.605824\" xlink:href=\"#m8aeae4ee99\" y=\"93.151789\"/>\n     <use style=\"fill:#1f77b4;stroke:#1f77b4;\" x=\"158.291288\" xlink:href=\"#m8aeae4ee99\" y=\"78.351761\"/>\n     <use style=\"fill:#1f77b4;stroke:#1f77b4;\" x=\"141.734801\" xlink:href=\"#m8aeae4ee99\" y=\"89.398213\"/>\n     <use style=\"fill:#1f77b4;stroke:#1f77b4;\" x=\"92.375095\" xlink:href=\"#m8aeae4ee99\" y=\"51.188863\"/>\n     <use style=\"fill:#1f77b4;stroke:#1f77b4;\" x=\"62.732247\" xlink:href=\"#m8aeae4ee99\" y=\"36.185525\"/>\n     <use style=\"fill:#1f77b4;stroke:#1f77b4;\" x=\"142.684337\" xlink:href=\"#m8aeae4ee99\" y=\"74.459354\"/>\n     <use style=\"fill:#1f77b4;stroke:#1f77b4;\" x=\"112.338806\" xlink:href=\"#m8aeae4ee99\" y=\"73.039017\"/>\n     <use style=\"fill:#1f77b4;stroke:#1f77b4;\" x=\"134.616868\" xlink:href=\"#m8aeae4ee99\" y=\"61.684057\"/>\n     <use style=\"fill:#1f77b4;stroke:#1f77b4;\" x=\"164.771914\" xlink:href=\"#m8aeae4ee99\" y=\"84.87216\"/>\n     <use style=\"fill:#1f77b4;stroke:#1f77b4;\" x=\"128.523274\" xlink:href=\"#m8aeae4ee99\" y=\"81.932299\"/>\n     <use style=\"fill:#1f77b4;stroke:#1f77b4;\" x=\"128.558305\" xlink:href=\"#m8aeae4ee99\" y=\"84.451628\"/>\n     <use style=\"fill:#1f77b4;stroke:#1f77b4;\" x=\"135.872301\" xlink:href=\"#m8aeae4ee99\" y=\"78.929927\"/>\n     <use style=\"fill:#1f77b4;stroke:#1f77b4;\" x=\"120.963839\" xlink:href=\"#m8aeae4ee99\" y=\"55.995526\"/>\n     <use style=\"fill:#1f77b4;stroke:#1f77b4;\" x=\"173.232668\" xlink:href=\"#m8aeae4ee99\" y=\"97.398396\"/>\n     <use style=\"fill:#1f77b4;stroke:#1f77b4;\" x=\"141.997335\" xlink:href=\"#m8aeae4ee99\" y=\"86.044867\"/>\n     <use style=\"fill:#1f77b4;stroke:#1f77b4;\" x=\"151.431245\" xlink:href=\"#m8aeae4ee99\" y=\"82.269658\"/>\n     <use style=\"fill:#1f77b4;stroke:#1f77b4;\" x=\"159.360232\" xlink:href=\"#m8aeae4ee99\" y=\"79.34146\"/>\n     <use style=\"fill:#1f77b4;stroke:#1f77b4;\" x=\"141.361673\" xlink:href=\"#m8aeae4ee99\" y=\"77.136599\"/>\n     <use style=\"fill:#1f77b4;stroke:#1f77b4;\" x=\"92.201943\" xlink:href=\"#m8aeae4ee99\" y=\"39.262125\"/>\n     <use style=\"fill:#1f77b4;stroke:#1f77b4;\" x=\"128.961597\" xlink:href=\"#m8aeae4ee99\" y=\"64.693189\"/>\n     <use style=\"fill:#1f77b4;stroke:#1f77b4;\" x=\"117.554712\" xlink:href=\"#m8aeae4ee99\" y=\"61.020157\"/>\n     <use style=\"fill:#1f77b4;stroke:#1f77b4;\" x=\"123.205496\" xlink:href=\"#m8aeae4ee99\" y=\"64.287122\"/>\n     <use style=\"fill:#1f77b4;stroke:#1f77b4;\" x=\"154.369588\" xlink:href=\"#m8aeae4ee99\" y=\"89.47297\"/>\n     <use style=\"fill:#1f77b4;stroke:#1f77b4;\" x=\"117.139129\" xlink:href=\"#m8aeae4ee99\" y=\"62.834317\"/>\n     <use style=\"fill:#1f77b4;stroke:#1f77b4;\" x=\"109.924418\" xlink:href=\"#m8aeae4ee99\" y=\"45.029005\"/>\n     <use style=\"fill:#1f77b4;stroke:#1f77b4;\" x=\"161.241744\" xlink:href=\"#m8aeae4ee99\" y=\"100.76768\"/>\n     <use style=\"fill:#1f77b4;stroke:#1f77b4;\" x=\"141.869441\" xlink:href=\"#m8aeae4ee99\" y=\"84.853913\"/>\n     <use style=\"fill:#1f77b4;stroke:#1f77b4;\" x=\"121.708979\" xlink:href=\"#m8aeae4ee99\" y=\"56.934753\"/>\n     <use style=\"fill:#1f77b4;stroke:#1f77b4;\" x=\"172.6218\" xlink:href=\"#m8aeae4ee99\" y=\"85.223695\"/>\n     <use style=\"fill:#1f77b4;stroke:#1f77b4;\" x=\"165.174539\" xlink:href=\"#m8aeae4ee99\" y=\"87.802182\"/>\n     <use style=\"fill:#1f77b4;stroke:#1f77b4;\" x=\"129.53145\" xlink:href=\"#m8aeae4ee99\" y=\"65.265861\"/>\n     <use style=\"fill:#1f77b4;stroke:#1f77b4;\" x=\"176.66856\" xlink:href=\"#m8aeae4ee99\" y=\"97.029221\"/>\n     <use style=\"fill:#1f77b4;stroke:#1f77b4;\" x=\"101.347932\" xlink:href=\"#m8aeae4ee99\" y=\"51.788029\"/>\n     <use style=\"fill:#1f77b4;stroke:#1f77b4;\" x=\"150.736426\" xlink:href=\"#m8aeae4ee99\" y=\"84.517665\"/>\n     <use style=\"fill:#1f77b4;stroke:#1f77b4;\" x=\"91.979283\" xlink:href=\"#m8aeae4ee99\" y=\"51.523448\"/>\n     <use style=\"fill:#1f77b4;stroke:#1f77b4;\" x=\"104.621726\" xlink:href=\"#m8aeae4ee99\" y=\"56.576491\"/>\n     <use style=\"fill:#1f77b4;stroke:#1f77b4;\" x=\"129.210916\" xlink:href=\"#m8aeae4ee99\" y=\"82.564604\"/>\n     <use style=\"fill:#1f77b4;stroke:#1f77b4;\" x=\"129.928402\" xlink:href=\"#m8aeae4ee99\" y=\"55.326525\"/>\n     <use style=\"fill:#1f77b4;stroke:#1f77b4;\" x=\"109.23786\" xlink:href=\"#m8aeae4ee99\" y=\"61.706911\"/>\n     <use style=\"fill:#1f77b4;stroke:#1f77b4;\" x=\"114.633549\" xlink:href=\"#m8aeae4ee99\" y=\"60.092133\"/>\n     <use style=\"fill:#1f77b4;stroke:#1f77b4;\" x=\"126.258501\" xlink:href=\"#m8aeae4ee99\" y=\"57.062416\"/>\n     <use style=\"fill:#1f77b4;stroke:#1f77b4;\" x=\"112.818868\" xlink:href=\"#m8aeae4ee99\" y=\"64.159345\"/>\n     <use style=\"fill:#1f77b4;stroke:#1f77b4;\" x=\"153.224927\" xlink:href=\"#m8aeae4ee99\" y=\"62.271359\"/>\n     <use style=\"fill:#1f77b4;stroke:#1f77b4;\" x=\"129.984208\" xlink:href=\"#m8aeae4ee99\" y=\"64.06828\"/>\n     <use style=\"fill:#1f77b4;stroke:#1f77b4;\" x=\"143.708564\" xlink:href=\"#m8aeae4ee99\" y=\"72.182536\"/>\n     <use style=\"fill:#1f77b4;stroke:#1f77b4;\" x=\"83.843847\" xlink:href=\"#m8aeae4ee99\" y=\"36.871659\"/>\n     <use style=\"fill:#1f77b4;stroke:#1f77b4;\" x=\"153.713595\" xlink:href=\"#m8aeae4ee99\" y=\"97.500432\"/>\n     <use style=\"fill:#1f77b4;stroke:#1f77b4;\" x=\"173.647539\" xlink:href=\"#m8aeae4ee99\" y=\"115.430704\"/>\n     <use style=\"fill:#1f77b4;stroke:#1f77b4;\" x=\"113.676884\" xlink:href=\"#m8aeae4ee99\" y=\"55.912188\"/>\n     <use style=\"fill:#1f77b4;stroke:#1f77b4;\" x=\"101.444925\" xlink:href=\"#m8aeae4ee99\" y=\"47.699004\"/>\n     <use style=\"fill:#1f77b4;stroke:#1f77b4;\" x=\"117.734333\" xlink:href=\"#m8aeae4ee99\" y=\"41.344524\"/>\n     <use style=\"fill:#1f77b4;stroke:#1f77b4;\" x=\"127.876622\" xlink:href=\"#m8aeae4ee99\" y=\"60.463675\"/>\n     <use style=\"fill:#1f77b4;stroke:#1f77b4;\" x=\"111.828081\" xlink:href=\"#m8aeae4ee99\" y=\"73.674245\"/>\n     <use style=\"fill:#1f77b4;stroke:#1f77b4;\" x=\"139.641644\" xlink:href=\"#m8aeae4ee99\" y=\"71.605621\"/>\n     <use style=\"fill:#1f77b4;stroke:#1f77b4;\" x=\"221.678018\" xlink:href=\"#m8aeae4ee99\" y=\"136.922727\"/>\n     <use style=\"fill:#1f77b4;stroke:#1f77b4;\" x=\"132.497923\" xlink:href=\"#m8aeae4ee99\" y=\"67.304288\"/>\n     <use style=\"fill:#1f77b4;stroke:#1f77b4;\" x=\"120.600202\" xlink:href=\"#m8aeae4ee99\" y=\"65.988632\"/>\n     <use style=\"fill:#1f77b4;stroke:#1f77b4;\" x=\"113.384905\" xlink:href=\"#m8aeae4ee99\" y=\"72.926007\"/>\n     <use style=\"fill:#1f77b4;stroke:#1f77b4;\" x=\"123.252802\" xlink:href=\"#m8aeae4ee99\" y=\"56.309834\"/>\n     <use style=\"fill:#1f77b4;stroke:#1f77b4;\" x=\"122.033797\" xlink:href=\"#m8aeae4ee99\" y=\"70.632228\"/>\n     <use style=\"fill:#1f77b4;stroke:#1f77b4;\" x=\"111.631517\" xlink:href=\"#m8aeae4ee99\" y=\"59.518013\"/>\n     <use style=\"fill:#1f77b4;stroke:#1f77b4;\" x=\"156.707094\" xlink:href=\"#m8aeae4ee99\" y=\"84.703513\"/>\n     <use style=\"fill:#1f77b4;stroke:#1f77b4;\" x=\"150.003296\" xlink:href=\"#m8aeae4ee99\" y=\"72.952247\"/>\n     <use style=\"fill:#1f77b4;stroke:#1f77b4;\" x=\"157.477121\" xlink:href=\"#m8aeae4ee99\" y=\"92.371147\"/>\n     <use style=\"fill:#1f77b4;stroke:#1f77b4;\" x=\"78.014456\" xlink:href=\"#m8aeae4ee99\" y=\"23.214566\"/>\n     <use style=\"fill:#1f77b4;stroke:#1f77b4;\" x=\"114.456767\" xlink:href=\"#m8aeae4ee99\" y=\"47.286187\"/>\n     <use style=\"fill:#1f77b4;stroke:#1f77b4;\" x=\"110.756068\" xlink:href=\"#m8aeae4ee99\" y=\"52.235993\"/>\n     <use style=\"fill:#1f77b4;stroke:#1f77b4;\" x=\"115.780558\" xlink:href=\"#m8aeae4ee99\" y=\"65.212748\"/>\n     <use style=\"fill:#1f77b4;stroke:#1f77b4;\" x=\"142.908341\" xlink:href=\"#m8aeae4ee99\" y=\"93.568942\"/>\n     <use style=\"fill:#1f77b4;stroke:#1f77b4;\" x=\"91.293863\" xlink:href=\"#m8aeae4ee99\" y=\"56.017304\"/>\n     <use style=\"fill:#1f77b4;stroke:#1f77b4;\" x=\"118.950471\" xlink:href=\"#m8aeae4ee99\" y=\"69.174352\"/>\n     <use style=\"fill:#1f77b4;stroke:#1f77b4;\" x=\"94.85157\" xlink:href=\"#m8aeae4ee99\" y=\"46.530351\"/>\n     <use style=\"fill:#1f77b4;stroke:#1f77b4;\" x=\"132.687662\" xlink:href=\"#m8aeae4ee99\" y=\"69.506326\"/>\n     <use style=\"fill:#1f77b4;stroke:#1f77b4;\" x=\"102.383669\" xlink:href=\"#m8aeae4ee99\" y=\"47.367491\"/>\n     <use style=\"fill:#1f77b4;stroke:#1f77b4;\" x=\"100.15566\" xlink:href=\"#m8aeae4ee99\" y=\"50.91392\"/>\n     <use style=\"fill:#1f77b4;stroke:#1f77b4;\" x=\"149.430422\" xlink:href=\"#m8aeae4ee99\" y=\"83.624074\"/>\n     <use style=\"fill:#1f77b4;stroke:#1f77b4;\" x=\"155.210718\" xlink:href=\"#m8aeae4ee99\" y=\"69.507446\"/>\n     <use style=\"fill:#1f77b4;stroke:#1f77b4;\" x=\"141.492157\" xlink:href=\"#m8aeae4ee99\" y=\"92.836971\"/>\n     <use style=\"fill:#1f77b4;stroke:#1f77b4;\" x=\"125.836789\" xlink:href=\"#m8aeae4ee99\" y=\"68.487591\"/>\n     <use style=\"fill:#1f77b4;stroke:#1f77b4;\" x=\"162.838873\" xlink:href=\"#m8aeae4ee99\" y=\"91.24205\"/>\n     <use style=\"fill:#1f77b4;stroke:#1f77b4;\" x=\"110.582414\" xlink:href=\"#m8aeae4ee99\" y=\"47.275502\"/>\n     <use style=\"fill:#1f77b4;stroke:#1f77b4;\" x=\"154.78877\" xlink:href=\"#m8aeae4ee99\" y=\"90.371877\"/>\n     <use style=\"fill:#1f77b4;stroke:#1f77b4;\" x=\"101.985606\" xlink:href=\"#m8aeae4ee99\" y=\"60.675987\"/>\n     <use style=\"fill:#1f77b4;stroke:#1f77b4;\" x=\"161.249557\" xlink:href=\"#m8aeae4ee99\" y=\"95.616667\"/>\n     <use style=\"fill:#1f77b4;stroke:#1f77b4;\" x=\"127.790974\" xlink:href=\"#m8aeae4ee99\" y=\"61.173498\"/>\n     <use style=\"fill:#1f77b4;stroke:#1f77b4;\" x=\"107.75316\" xlink:href=\"#m8aeae4ee99\" y=\"55.755502\"/>\n     <use style=\"fill:#1f77b4;stroke:#1f77b4;\" x=\"83.075173\" xlink:href=\"#m8aeae4ee99\" y=\"55.464297\"/>\n     <use style=\"fill:#1f77b4;stroke:#1f77b4;\" x=\"112.459054\" xlink:href=\"#m8aeae4ee99\" y=\"56.854742\"/>\n     <use style=\"fill:#1f77b4;stroke:#1f77b4;\" x=\"55.882357\" xlink:href=\"#m8aeae4ee99\" y=\"23.800452\"/>\n     <use style=\"fill:#1f77b4;stroke:#1f77b4;\" x=\"106.72799\" xlink:href=\"#m8aeae4ee99\" y=\"58.081643\"/>\n     <use style=\"fill:#1f77b4;stroke:#1f77b4;\" x=\"110.264167\" xlink:href=\"#m8aeae4ee99\" y=\"46.730792\"/>\n     <use style=\"fill:#1f77b4;stroke:#1f77b4;\" x=\"167.469508\" xlink:href=\"#m8aeae4ee99\" y=\"88.771218\"/>\n     <use style=\"fill:#1f77b4;stroke:#1f77b4;\" x=\"117.117542\" xlink:href=\"#m8aeae4ee99\" y=\"67.677144\"/>\n     <use style=\"fill:#1f77b4;stroke:#1f77b4;\" x=\"130.501579\" xlink:href=\"#m8aeae4ee99\" y=\"64.552784\"/>\n     <use style=\"fill:#1f77b4;stroke:#1f77b4;\" x=\"174.109818\" xlink:href=\"#m8aeae4ee99\" y=\"110.556763\"/>\n     <use style=\"fill:#1f77b4;stroke:#1f77b4;\" x=\"125.985473\" xlink:href=\"#m8aeae4ee99\" y=\"85.5322\"/>\n     <use style=\"fill:#1f77b4;stroke:#1f77b4;\" x=\"141.880712\" xlink:href=\"#m8aeae4ee99\" y=\"72.099119\"/>\n     <use style=\"fill:#1f77b4;stroke:#1f77b4;\" x=\"158.859687\" xlink:href=\"#m8aeae4ee99\" y=\"92.157906\"/>\n     <use style=\"fill:#1f77b4;stroke:#1f77b4;\" x=\"134.367867\" xlink:href=\"#m8aeae4ee99\" y=\"71.694346\"/>\n     <use style=\"fill:#1f77b4;stroke:#1f77b4;\" x=\"133.961982\" xlink:href=\"#m8aeae4ee99\" y=\"77.51585\"/>\n     <use style=\"fill:#1f77b4;stroke:#1f77b4;\" x=\"171.746315\" xlink:href=\"#m8aeae4ee99\" y=\"86.27802\"/>\n     <use style=\"fill:#1f77b4;stroke:#1f77b4;\" x=\"121.404174\" xlink:href=\"#m8aeae4ee99\" y=\"47.208596\"/>\n     <use style=\"fill:#1f77b4;stroke:#1f77b4;\" x=\"168.144231\" xlink:href=\"#m8aeae4ee99\" y=\"95.181024\"/>\n     <use style=\"fill:#1f77b4;stroke:#1f77b4;\" x=\"143.965935\" xlink:href=\"#m8aeae4ee99\" y=\"70.893296\"/>\n     <use style=\"fill:#1f77b4;stroke:#1f77b4;\" x=\"88.788771\" xlink:href=\"#m8aeae4ee99\" y=\"61.406585\"/>\n     <use style=\"fill:#1f77b4;stroke:#1f77b4;\" x=\"156.538019\" xlink:href=\"#m8aeae4ee99\" y=\"91.144824\"/>\n     <use style=\"fill:#1f77b4;stroke:#1f77b4;\" x=\"136.948402\" xlink:href=\"#m8aeae4ee99\" y=\"71.826002\"/>\n     <use style=\"fill:#1f77b4;stroke:#1f77b4;\" x=\"81.519152\" xlink:href=\"#m8aeae4ee99\" y=\"32.380817\"/>\n     <use style=\"fill:#1f77b4;stroke:#1f77b4;\" x=\"161.166141\" xlink:href=\"#m8aeae4ee99\" y=\"95.03549\"/>\n     <use style=\"fill:#1f77b4;stroke:#1f77b4;\" x=\"136.502727\" xlink:href=\"#m8aeae4ee99\" y=\"49.940672\"/>\n     <use style=\"fill:#1f77b4;stroke:#1f77b4;\" x=\"114.546503\" xlink:href=\"#m8aeae4ee99\" y=\"77.495532\"/>\n     <use style=\"fill:#1f77b4;stroke:#1f77b4;\" x=\"146.032932\" xlink:href=\"#m8aeae4ee99\" y=\"88.180438\"/>\n     <use style=\"fill:#1f77b4;stroke:#1f77b4;\" x=\"159.659838\" xlink:href=\"#m8aeae4ee99\" y=\"95.022208\"/>\n     <use style=\"fill:#1f77b4;stroke:#1f77b4;\" x=\"76.654339\" xlink:href=\"#m8aeae4ee99\" y=\"47.561524\"/>\n     <use style=\"fill:#1f77b4;stroke:#1f77b4;\" x=\"153.836357\" xlink:href=\"#m8aeae4ee99\" y=\"101.716707\"/>\n     <use style=\"fill:#1f77b4;stroke:#1f77b4;\" x=\"109.18314\" xlink:href=\"#m8aeae4ee99\" y=\"49.627332\"/>\n     <use style=\"fill:#1f77b4;stroke:#1f77b4;\" x=\"90.962428\" xlink:href=\"#m8aeae4ee99\" y=\"44.627712\"/>\n     <use style=\"fill:#1f77b4;stroke:#1f77b4;\" x=\"164.595112\" xlink:href=\"#m8aeae4ee99\" y=\"97.680188\"/>\n     <use style=\"fill:#1f77b4;stroke:#1f77b4;\" x=\"139.092894\" xlink:href=\"#m8aeae4ee99\" y=\"79.242475\"/>\n     <use style=\"fill:#1f77b4;stroke:#1f77b4;\" x=\"119.456403\" xlink:href=\"#m8aeae4ee99\" y=\"64.725984\"/>\n     <use style=\"fill:#1f77b4;stroke:#1f77b4;\" x=\"125.326063\" xlink:href=\"#m8aeae4ee99\" y=\"65.078108\"/>\n     <use style=\"fill:#1f77b4;stroke:#1f77b4;\" x=\"95.156221\" xlink:href=\"#m8aeae4ee99\" y=\"55.228437\"/>\n     <use style=\"fill:#1f77b4;stroke:#1f77b4;\" x=\"122.647692\" xlink:href=\"#m8aeae4ee99\" y=\"67.626785\"/>\n     <use style=\"fill:#1f77b4;stroke:#1f77b4;\" x=\"114.114514\" xlink:href=\"#m8aeae4ee99\" y=\"64.621016\"/>\n     <use style=\"fill:#1f77b4;stroke:#1f77b4;\" x=\"148.66705\" xlink:href=\"#m8aeae4ee99\" y=\"93.970872\"/>\n     <use style=\"fill:#1f77b4;stroke:#1f77b4;\" x=\"117.407048\" xlink:href=\"#m8aeae4ee99\" y=\"74.651006\"/>\n     <use style=\"fill:#1f77b4;stroke:#1f77b4;\" x=\"163.029996\" xlink:href=\"#m8aeae4ee99\" y=\"77.67878\"/>\n     <use style=\"fill:#1f77b4;stroke:#1f77b4;\" x=\"111.397519\" xlink:href=\"#m8aeae4ee99\" y=\"43.829651\"/>\n     <use style=\"fill:#1f77b4;stroke:#1f77b4;\" x=\"130.012477\" xlink:href=\"#m8aeae4ee99\" y=\"83.148\"/>\n     <use style=\"fill:#1f77b4;stroke:#1f77b4;\" x=\"127.84147\" xlink:href=\"#m8aeae4ee99\" y=\"81.078299\"/>\n     <use style=\"fill:#1f77b4;stroke:#1f77b4;\" x=\"111.953145\" xlink:href=\"#m8aeae4ee99\" y=\"66.26113\"/>\n     <use style=\"fill:#1f77b4;stroke:#1f77b4;\" x=\"108.818202\" xlink:href=\"#m8aeae4ee99\" y=\"54.884893\"/>\n     <use style=\"fill:#1f77b4;stroke:#1f77b4;\" x=\"90.34915\" xlink:href=\"#m8aeae4ee99\" y=\"45.047397\"/>\n     <use style=\"fill:#1f77b4;stroke:#1f77b4;\" x=\"106.563138\" xlink:href=\"#m8aeae4ee99\" y=\"57.94273\"/>\n     <use style=\"fill:#1f77b4;stroke:#1f77b4;\" x=\"79.226012\" xlink:href=\"#m8aeae4ee99\" y=\"58.597991\"/>\n     <use style=\"fill:#1f77b4;stroke:#1f77b4;\" x=\"135.172916\" xlink:href=\"#m8aeae4ee99\" y=\"69.663258\"/>\n     <use style=\"fill:#1f77b4;stroke:#1f77b4;\" x=\"116.361229\" xlink:href=\"#m8aeae4ee99\" y=\"65.402732\"/>\n     <use style=\"fill:#1f77b4;stroke:#1f77b4;\" x=\"136.318119\" xlink:href=\"#m8aeae4ee99\" y=\"73.327122\"/>\n     <use style=\"fill:#1f77b4;stroke:#1f77b4;\" x=\"133.496813\" xlink:href=\"#m8aeae4ee99\" y=\"61.654243\"/>\n     <use style=\"fill:#1f77b4;stroke:#1f77b4;\" x=\"115.663804\" xlink:href=\"#m8aeae4ee99\" y=\"72.142438\"/>\n     <use style=\"fill:#1f77b4;stroke:#1f77b4;\" x=\"141.682673\" xlink:href=\"#m8aeae4ee99\" y=\"81.319608\"/>\n     <use style=\"fill:#1f77b4;stroke:#1f77b4;\" x=\"145.583564\" xlink:href=\"#m8aeae4ee99\" y=\"82.189897\"/>\n     <use style=\"fill:#1f77b4;stroke:#1f77b4;\" x=\"154.123232\" xlink:href=\"#m8aeae4ee99\" y=\"97.446296\"/>\n     <use style=\"fill:#1f77b4;stroke:#1f77b4;\" x=\"107.963595\" xlink:href=\"#m8aeae4ee99\" y=\"56.078535\"/>\n     <use style=\"fill:#1f77b4;stroke:#1f77b4;\" x=\"123.236385\" xlink:href=\"#m8aeae4ee99\" y=\"77.441967\"/>\n     <use style=\"fill:#1f77b4;stroke:#1f77b4;\" x=\"61.091964\" xlink:href=\"#m8aeae4ee99\" y=\"23.210644\"/>\n     <use style=\"fill:#1f77b4;stroke:#1f77b4;\" x=\"123.29818\" xlink:href=\"#m8aeae4ee99\" y=\"71.070163\"/>\n     <use style=\"fill:#1f77b4;stroke:#1f77b4;\" x=\"130.821384\" xlink:href=\"#m8aeae4ee99\" y=\"43.928399\"/>\n     <use style=\"fill:#1f77b4;stroke:#1f77b4;\" x=\"156.579558\" xlink:href=\"#m8aeae4ee99\" y=\"87.009775\"/>\n     <use style=\"fill:#1f77b4;stroke:#1f77b4;\" x=\"117.329971\" xlink:href=\"#m8aeae4ee99\" y=\"55.32541\"/>\n     <use style=\"fill:#1f77b4;stroke:#1f77b4;\" x=\"172.380374\" xlink:href=\"#m8aeae4ee99\" y=\"89.967474\"/>\n     <use style=\"fill:#1f77b4;stroke:#1f77b4;\" x=\"193.07177\" xlink:href=\"#m8aeae4ee99\" y=\"97.224473\"/>\n     <use style=\"fill:#1f77b4;stroke:#1f77b4;\" x=\"121.635425\" xlink:href=\"#m8aeae4ee99\" y=\"53.576142\"/>\n     <use style=\"fill:#1f77b4;stroke:#1f77b4;\" x=\"111.310345\" xlink:href=\"#m8aeae4ee99\" y=\"53.323461\"/>\n     <use style=\"fill:#1f77b4;stroke:#1f77b4;\" x=\"120.463004\" xlink:href=\"#m8aeae4ee99\" y=\"74.620816\"/>\n     <use style=\"fill:#1f77b4;stroke:#1f77b4;\" x=\"119.424455\" xlink:href=\"#m8aeae4ee99\" y=\"54.93834\"/>\n     <use style=\"fill:#1f77b4;stroke:#1f77b4;\" x=\"122.816718\" xlink:href=\"#m8aeae4ee99\" y=\"65.038578\"/>\n     <use style=\"fill:#1f77b4;stroke:#1f77b4;\" x=\"172.463781\" xlink:href=\"#m8aeae4ee99\" y=\"110.320881\"/>\n     <use style=\"fill:#1f77b4;stroke:#1f77b4;\" x=\"139.809493\" xlink:href=\"#m8aeae4ee99\" y=\"79.343948\"/>\n     <use style=\"fill:#1f77b4;stroke:#1f77b4;\" x=\"125.757075\" xlink:href=\"#m8aeae4ee99\" y=\"71.091327\"/>\n     <use style=\"fill:#1f77b4;stroke:#1f77b4;\" x=\"149.304372\" xlink:href=\"#m8aeae4ee99\" y=\"78.325284\"/>\n     <use style=\"fill:#1f77b4;stroke:#1f77b4;\" x=\"132.429601\" xlink:href=\"#m8aeae4ee99\" y=\"66.040208\"/>\n     <use style=\"fill:#1f77b4;stroke:#1f77b4;\" x=\"136.738523\" xlink:href=\"#m8aeae4ee99\" y=\"71.848614\"/>\n     <use style=\"fill:#1f77b4;stroke:#1f77b4;\" x=\"121.58864\" xlink:href=\"#m8aeae4ee99\" y=\"67.463316\"/>\n     <use style=\"fill:#1f77b4;stroke:#1f77b4;\" x=\"145.309734\" xlink:href=\"#m8aeae4ee99\" y=\"61.342871\"/>\n     <use style=\"fill:#1f77b4;stroke:#1f77b4;\" x=\"95.375662\" xlink:href=\"#m8aeae4ee99\" y=\"55.424279\"/>\n     <use style=\"fill:#1f77b4;stroke:#1f77b4;\" x=\"162.348027\" xlink:href=\"#m8aeae4ee99\" y=\"76.243569\"/>\n     <use style=\"fill:#1f77b4;stroke:#1f77b4;\" x=\"108.334153\" xlink:href=\"#m8aeae4ee99\" y=\"61.627607\"/>\n     <use style=\"fill:#1f77b4;stroke:#1f77b4;\" x=\"168.677836\" xlink:href=\"#m8aeae4ee99\" y=\"94.554006\"/>\n     <use style=\"fill:#1f77b4;stroke:#1f77b4;\" x=\"112.968114\" xlink:href=\"#m8aeae4ee99\" y=\"63.741056\"/>\n     <use style=\"fill:#1f77b4;stroke:#1f77b4;\" x=\"82.42469\" xlink:href=\"#m8aeae4ee99\" y=\"32.908976\"/>\n     <use style=\"fill:#1f77b4;stroke:#1f77b4;\" x=\"142.33276\" xlink:href=\"#m8aeae4ee99\" y=\"98.364558\"/>\n     <use style=\"fill:#1f77b4;stroke:#1f77b4;\" x=\"92.429182\" xlink:href=\"#m8aeae4ee99\" y=\"43.232574\"/>\n     <use style=\"fill:#1f77b4;stroke:#1f77b4;\" x=\"115.685935\" xlink:href=\"#m8aeae4ee99\" y=\"62.315714\"/>\n     <use style=\"fill:#1f77b4;stroke:#1f77b4;\" x=\"110.454308\" xlink:href=\"#m8aeae4ee99\" y=\"69.261132\"/>\n     <use style=\"fill:#1f77b4;stroke:#1f77b4;\" x=\"153.76175\" xlink:href=\"#m8aeae4ee99\" y=\"64.915632\"/>\n     <use style=\"fill:#1f77b4;stroke:#1f77b4;\" x=\"126.079253\" xlink:href=\"#m8aeae4ee99\" y=\"81.455976\"/>\n     <use style=\"fill:#1f77b4;stroke:#1f77b4;\" x=\"139.80353\" xlink:href=\"#m8aeae4ee99\" y=\"65.258234\"/>\n     <use style=\"fill:#1f77b4;stroke:#1f77b4;\" x=\"132.507885\" xlink:href=\"#m8aeae4ee99\" y=\"74.539095\"/>\n     <use style=\"fill:#1f77b4;stroke:#1f77b4;\" x=\"120.709413\" xlink:href=\"#m8aeae4ee99\" y=\"78.163109\"/>\n     <use style=\"fill:#1f77b4;stroke:#1f77b4;\" x=\"135.74953\" xlink:href=\"#m8aeae4ee99\" y=\"83.684967\"/>\n     <use style=\"fill:#1f77b4;stroke:#1f77b4;\" x=\"101.792865\" xlink:href=\"#m8aeae4ee99\" y=\"37.355422\"/>\n     <use style=\"fill:#1f77b4;stroke:#1f77b4;\" x=\"143.967419\" xlink:href=\"#m8aeae4ee99\" y=\"77.583223\"/>\n     <use style=\"fill:#1f77b4;stroke:#1f77b4;\" x=\"157.576638\" xlink:href=\"#m8aeae4ee99\" y=\"87.49175\"/>\n     <use style=\"fill:#1f77b4;stroke:#1f77b4;\" x=\"86.253717\" xlink:href=\"#m8aeae4ee99\" y=\"41.217684\"/>\n     <use style=\"fill:#1f77b4;stroke:#1f77b4;\" x=\"123.815199\" xlink:href=\"#m8aeae4ee99\" y=\"85.504897\"/>\n     <use style=\"fill:#1f77b4;stroke:#1f77b4;\" x=\"95.104491\" xlink:href=\"#m8aeae4ee99\" y=\"66.51253\"/>\n     <use style=\"fill:#1f77b4;stroke:#1f77b4;\" x=\"118.260764\" xlink:href=\"#m8aeae4ee99\" y=\"74.928661\"/>\n     <use style=\"fill:#1f77b4;stroke:#1f77b4;\" x=\"126.350177\" xlink:href=\"#m8aeae4ee99\" y=\"72.263691\"/>\n     <use style=\"fill:#1f77b4;stroke:#1f77b4;\" x=\"138.217929\" xlink:href=\"#m8aeae4ee99\" y=\"63.596519\"/>\n     <use style=\"fill:#1f77b4;stroke:#1f77b4;\" x=\"121.761078\" xlink:href=\"#m8aeae4ee99\" y=\"59.784416\"/>\n     <use style=\"fill:#1f77b4;stroke:#1f77b4;\" x=\"175.911306\" xlink:href=\"#m8aeae4ee99\" y=\"101.433592\"/>\n     <use style=\"fill:#1f77b4;stroke:#1f77b4;\" x=\"102.472324\" xlink:href=\"#m8aeae4ee99\" y=\"41.261961\"/>\n     <use style=\"fill:#1f77b4;stroke:#1f77b4;\" x=\"131.119572\" xlink:href=\"#m8aeae4ee99\" y=\"82.867505\"/>\n     <use style=\"fill:#1f77b4;stroke:#1f77b4;\" x=\"94.612112\" xlink:href=\"#m8aeae4ee99\" y=\"42.184212\"/>\n     <use style=\"fill:#1f77b4;stroke:#1f77b4;\" x=\"113.823687\" xlink:href=\"#m8aeae4ee99\" y=\"58.346134\"/>\n     <use style=\"fill:#1f77b4;stroke:#1f77b4;\" x=\"101.555662\" xlink:href=\"#m8aeae4ee99\" y=\"65.246085\"/>\n     <use style=\"fill:#1f77b4;stroke:#1f77b4;\" x=\"131.114098\" xlink:href=\"#m8aeae4ee99\" y=\"64.580786\"/>\n     <use style=\"fill:#1f77b4;stroke:#1f77b4;\" x=\"130.537148\" xlink:href=\"#m8aeae4ee99\" y=\"52.487169\"/>\n     <use style=\"fill:#1f77b4;stroke:#1f77b4;\" x=\"151.254957\" xlink:href=\"#m8aeae4ee99\" y=\"87.577933\"/>\n     <use style=\"fill:#1f77b4;stroke:#1f77b4;\" x=\"147.981955\" xlink:href=\"#m8aeae4ee99\" y=\"80.947702\"/>\n     <use style=\"fill:#1f77b4;stroke:#1f77b4;\" x=\"116.289995\" xlink:href=\"#m8aeae4ee99\" y=\"61.269338\"/>\n     <use style=\"fill:#1f77b4;stroke:#1f77b4;\" x=\"75.266466\" xlink:href=\"#m8aeae4ee99\" y=\"47.70646\"/>\n     <use style=\"fill:#1f77b4;stroke:#1f77b4;\" x=\"44.18196\" xlink:href=\"#m8aeae4ee99\" y=\"17.077241\"/>\n     <use style=\"fill:#1f77b4;stroke:#1f77b4;\" x=\"151.464388\" xlink:href=\"#m8aeae4ee99\" y=\"74.959747\"/>\n     <use style=\"fill:#1f77b4;stroke:#1f77b4;\" x=\"95.746802\" xlink:href=\"#m8aeae4ee99\" y=\"35.633254\"/>\n     <use style=\"fill:#1f77b4;stroke:#1f77b4;\" x=\"126.094403\" xlink:href=\"#m8aeae4ee99\" y=\"60.425481\"/>\n     <use style=\"fill:#1f77b4;stroke:#1f77b4;\" x=\"120.672575\" xlink:href=\"#m8aeae4ee99\" y=\"46.291078\"/>\n     <use style=\"fill:#1f77b4;stroke:#1f77b4;\" x=\"74.313479\" xlink:href=\"#m8aeae4ee99\" y=\"29.292223\"/>\n     <use style=\"fill:#1f77b4;stroke:#1f77b4;\" x=\"129.137626\" xlink:href=\"#m8aeae4ee99\" y=\"78.359412\"/>\n     <use style=\"fill:#1f77b4;stroke:#1f77b4;\" x=\"156.239969\" xlink:href=\"#m8aeae4ee99\" y=\"75.197481\"/>\n     <use style=\"fill:#1f77b4;stroke:#1f77b4;\" x=\"162.463225\" xlink:href=\"#m8aeae4ee99\" y=\"91.432418\"/>\n     <use style=\"fill:#1f77b4;stroke:#1f77b4;\" x=\"145.983683\" xlink:href=\"#m8aeae4ee99\" y=\"80.866427\"/>\n     <use style=\"fill:#1f77b4;stroke:#1f77b4;\" x=\"117.750691\" xlink:href=\"#m8aeae4ee99\" y=\"69.068008\"/>\n     <use style=\"fill:#1f77b4;stroke:#1f77b4;\" x=\"130.868663\" xlink:href=\"#m8aeae4ee99\" y=\"70.825544\"/>\n     <use style=\"fill:#1f77b4;stroke:#1f77b4;\" x=\"86.275065\" xlink:href=\"#m8aeae4ee99\" y=\"59.014005\"/>\n     <use style=\"fill:#1f77b4;stroke:#1f77b4;\" x=\"128.593297\" xlink:href=\"#m8aeae4ee99\" y=\"70.761693\"/>\n     <use style=\"fill:#1f77b4;stroke:#1f77b4;\" x=\"110.239186\" xlink:href=\"#m8aeae4ee99\" y=\"40.854161\"/>\n     <use style=\"fill:#1f77b4;stroke:#1f77b4;\" x=\"154.524556\" xlink:href=\"#m8aeae4ee99\" y=\"79.165731\"/>\n     <use style=\"fill:#1f77b4;stroke:#1f77b4;\" x=\"119.940158\" xlink:href=\"#m8aeae4ee99\" y=\"64.036917\"/>\n     <use style=\"fill:#1f77b4;stroke:#1f77b4;\" x=\"183.870779\" xlink:href=\"#m8aeae4ee99\" y=\"105.757477\"/>\n     <use style=\"fill:#1f77b4;stroke:#1f77b4;\" x=\"132.810411\" xlink:href=\"#m8aeae4ee99\" y=\"70.162542\"/>\n     <use style=\"fill:#1f77b4;stroke:#1f77b4;\" x=\"121.1023\" xlink:href=\"#m8aeae4ee99\" y=\"66.509866\"/>\n     <use style=\"fill:#1f77b4;stroke:#1f77b4;\" x=\"129.182713\" xlink:href=\"#m8aeae4ee99\" y=\"62.848393\"/>\n     <use style=\"fill:#1f77b4;stroke:#1f77b4;\" x=\"123.641473\" xlink:href=\"#m8aeae4ee99\" y=\"41.720875\"/>\n     <use style=\"fill:#1f77b4;stroke:#1f77b4;\" x=\"128.236876\" xlink:href=\"#m8aeae4ee99\" y=\"61.433759\"/>\n     <use style=\"fill:#1f77b4;stroke:#1f77b4;\" x=\"142.204959\" xlink:href=\"#m8aeae4ee99\" y=\"98.047064\"/>\n     <use style=\"fill:#1f77b4;stroke:#1f77b4;\" x=\"166.683768\" xlink:href=\"#m8aeae4ee99\" y=\"85.810999\"/>\n     <use style=\"fill:#1f77b4;stroke:#1f77b4;\" x=\"138.955114\" xlink:href=\"#m8aeae4ee99\" y=\"63.728777\"/>\n     <use style=\"fill:#1f77b4;stroke:#1f77b4;\" x=\"88.597965\" xlink:href=\"#m8aeae4ee99\" y=\"47.652355\"/>\n     <use style=\"fill:#1f77b4;stroke:#1f77b4;\" x=\"92.136109\" xlink:href=\"#m8aeae4ee99\" y=\"50.154219\"/>\n     <use style=\"fill:#1f77b4;stroke:#1f77b4;\" x=\"122.407309\" xlink:href=\"#m8aeae4ee99\" y=\"55.660111\"/>\n     <use style=\"fill:#1f77b4;stroke:#1f77b4;\" x=\"138.180194\" xlink:href=\"#m8aeae4ee99\" y=\"84.834904\"/>\n     <use style=\"fill:#1f77b4;stroke:#1f77b4;\" x=\"97.643255\" xlink:href=\"#m8aeae4ee99\" y=\"45.87553\"/>\n     <use style=\"fill:#1f77b4;stroke:#1f77b4;\" x=\"151.106913\" xlink:href=\"#m8aeae4ee99\" y=\"69.680316\"/>\n     <use style=\"fill:#1f77b4;stroke:#1f77b4;\" x=\"146.008027\" xlink:href=\"#m8aeae4ee99\" y=\"73.119447\"/>\n     <use style=\"fill:#1f77b4;stroke:#1f77b4;\" x=\"126.756376\" xlink:href=\"#m8aeae4ee99\" y=\"59.982634\"/>\n     <use style=\"fill:#1f77b4;stroke:#1f77b4;\" x=\"118.17677\" xlink:href=\"#m8aeae4ee99\" y=\"57.533944\"/>\n     <use style=\"fill:#1f77b4;stroke:#1f77b4;\" x=\"119.116873\" xlink:href=\"#m8aeae4ee99\" y=\"74.54963\"/>\n     <use style=\"fill:#1f77b4;stroke:#1f77b4;\" x=\"82.84587\" xlink:href=\"#m8aeae4ee99\" y=\"30.442624\"/>\n     <use style=\"fill:#1f77b4;stroke:#1f77b4;\" x=\"139.128312\" xlink:href=\"#m8aeae4ee99\" y=\"69.885852\"/>\n     <use style=\"fill:#1f77b4;stroke:#1f77b4;\" x=\"130.028038\" xlink:href=\"#m8aeae4ee99\" y=\"65.322639\"/>\n     <use style=\"fill:#1f77b4;stroke:#1f77b4;\" x=\"158.346354\" xlink:href=\"#m8aeae4ee99\" y=\"98.624058\"/>\n     <use style=\"fill:#1f77b4;stroke:#1f77b4;\" x=\"116.78685\" xlink:href=\"#m8aeae4ee99\" y=\"55.516229\"/>\n     <use style=\"fill:#1f77b4;stroke:#1f77b4;\" x=\"108.933092\" xlink:href=\"#m8aeae4ee99\" y=\"50.991414\"/>\n     <use style=\"fill:#1f77b4;stroke:#1f77b4;\" x=\"145.730757\" xlink:href=\"#m8aeae4ee99\" y=\"79.661176\"/>\n     <use style=\"fill:#1f77b4;stroke:#1f77b4;\" x=\"90.688209\" xlink:href=\"#m8aeae4ee99\" y=\"54.102938\"/>\n     <use style=\"fill:#1f77b4;stroke:#1f77b4;\" x=\"66.77703\" xlink:href=\"#m8aeae4ee99\" y=\"33.273388\"/>\n     <use style=\"fill:#1f77b4;stroke:#1f77b4;\" x=\"140.687462\" xlink:href=\"#m8aeae4ee99\" y=\"83.351879\"/>\n     <use style=\"fill:#1f77b4;stroke:#1f77b4;\" x=\"135.235492\" xlink:href=\"#m8aeae4ee99\" y=\"74.059547\"/>\n     <use style=\"fill:#1f77b4;stroke:#1f77b4;\" x=\"168.998646\" xlink:href=\"#m8aeae4ee99\" y=\"84.58095\"/>\n     <use style=\"fill:#1f77b4;stroke:#1f77b4;\" x=\"124.20749\" xlink:href=\"#m8aeae4ee99\" y=\"62.722739\"/>\n     <use style=\"fill:#1f77b4;stroke:#1f77b4;\" x=\"119.080494\" xlink:href=\"#m8aeae4ee99\" y=\"56.694144\"/>\n     <use style=\"fill:#1f77b4;stroke:#1f77b4;\" x=\"161.959179\" xlink:href=\"#m8aeae4ee99\" y=\"93.6558\"/>\n     <use style=\"fill:#1f77b4;stroke:#1f77b4;\" x=\"149.99031\" xlink:href=\"#m8aeae4ee99\" y=\"73.504281\"/>\n     <use style=\"fill:#1f77b4;stroke:#1f77b4;\" x=\"122.656338\" xlink:href=\"#m8aeae4ee99\" y=\"73.679794\"/>\n     <use style=\"fill:#1f77b4;stroke:#1f77b4;\" x=\"135.974545\" xlink:href=\"#m8aeae4ee99\" y=\"75.662573\"/>\n     <use style=\"fill:#1f77b4;stroke:#1f77b4;\" x=\"165.668881\" xlink:href=\"#m8aeae4ee99\" y=\"79.808092\"/>\n     <use style=\"fill:#1f77b4;stroke:#1f77b4;\" x=\"99.485531\" xlink:href=\"#m8aeae4ee99\" y=\"37.146431\"/>\n     <use style=\"fill:#1f77b4;stroke:#1f77b4;\" x=\"148.744683\" xlink:href=\"#m8aeae4ee99\" y=\"87.018472\"/>\n     <use style=\"fill:#1f77b4;stroke:#1f77b4;\" x=\"102.804177\" xlink:href=\"#m8aeae4ee99\" y=\"42.678789\"/>\n     <use style=\"fill:#1f77b4;stroke:#1f77b4;\" x=\"71.913053\" xlink:href=\"#m8aeae4ee99\" y=\"38.776875\"/>\n     <use style=\"fill:#1f77b4;stroke:#1f77b4;\" x=\"136.790366\" xlink:href=\"#m8aeae4ee99\" y=\"78.159907\"/>\n     <use style=\"fill:#1f77b4;stroke:#1f77b4;\" x=\"135.452312\" xlink:href=\"#m8aeae4ee99\" y=\"68.067309\"/>\n     <use style=\"fill:#1f77b4;stroke:#1f77b4;\" x=\"131.53787\" xlink:href=\"#m8aeae4ee99\" y=\"76.542629\"/>\n     <use style=\"fill:#1f77b4;stroke:#1f77b4;\" x=\"93.059029\" xlink:href=\"#m8aeae4ee99\" y=\"58.710682\"/>\n     <use style=\"fill:#1f77b4;stroke:#1f77b4;\" x=\"80.852161\" xlink:href=\"#m8aeae4ee99\" y=\"45.987197\"/>\n     <use style=\"fill:#1f77b4;stroke:#1f77b4;\" x=\"116.536103\" xlink:href=\"#m8aeae4ee99\" y=\"68.131675\"/>\n     <use style=\"fill:#1f77b4;stroke:#1f77b4;\" x=\"118.241634\" xlink:href=\"#m8aeae4ee99\" y=\"67.068323\"/>\n     <use style=\"fill:#1f77b4;stroke:#1f77b4;\" x=\"155.648954\" xlink:href=\"#m8aeae4ee99\" y=\"82.570319\"/>\n     <use style=\"fill:#1f77b4;stroke:#1f77b4;\" x=\"152.084562\" xlink:href=\"#m8aeae4ee99\" y=\"84.583215\"/>\n     <use style=\"fill:#1f77b4;stroke:#1f77b4;\" x=\"136.7732\" xlink:href=\"#m8aeae4ee99\" y=\"85.483363\"/>\n     <use style=\"fill:#1f77b4;stroke:#1f77b4;\" x=\"130.478644\" xlink:href=\"#m8aeae4ee99\" y=\"77.631217\"/>\n     <use style=\"fill:#1f77b4;stroke:#1f77b4;\" x=\"92.215957\" xlink:href=\"#m8aeae4ee99\" y=\"44.854882\"/>\n     <use style=\"fill:#1f77b4;stroke:#1f77b4;\" x=\"119.494164\" xlink:href=\"#m8aeae4ee99\" y=\"58.804849\"/>\n     <use style=\"fill:#1f77b4;stroke:#1f77b4;\" x=\"139.44874\" xlink:href=\"#m8aeae4ee99\" y=\"64.420021\"/>\n     <use style=\"fill:#1f77b4;stroke:#1f77b4;\" x=\"132.885029\" xlink:href=\"#m8aeae4ee99\" y=\"82.853285\"/>\n     <use style=\"fill:#1f77b4;stroke:#1f77b4;\" x=\"112.687843\" xlink:href=\"#m8aeae4ee99\" y=\"53.430084\"/>\n     <use style=\"fill:#1f77b4;stroke:#1f77b4;\" x=\"88.460343\" xlink:href=\"#m8aeae4ee99\" y=\"57.771936\"/>\n     <use style=\"fill:#1f77b4;stroke:#1f77b4;\" x=\"163.334037\" xlink:href=\"#m8aeae4ee99\" y=\"91.604751\"/>\n     <use style=\"fill:#1f77b4;stroke:#1f77b4;\" x=\"173.306521\" xlink:href=\"#m8aeae4ee99\" y=\"110.674756\"/>\n     <use style=\"fill:#1f77b4;stroke:#1f77b4;\" x=\"112.633352\" xlink:href=\"#m8aeae4ee99\" y=\"64.182248\"/>\n     <use style=\"fill:#1f77b4;stroke:#1f77b4;\" x=\"119.069763\" xlink:href=\"#m8aeae4ee99\" y=\"69.203952\"/>\n     <use style=\"fill:#1f77b4;stroke:#1f77b4;\" x=\"107.165774\" xlink:href=\"#m8aeae4ee99\" y=\"54.645604\"/>\n     <use style=\"fill:#1f77b4;stroke:#1f77b4;\" x=\"145.569333\" xlink:href=\"#m8aeae4ee99\" y=\"84.772145\"/>\n     <use style=\"fill:#1f77b4;stroke:#1f77b4;\" x=\"104.381432\" xlink:href=\"#m8aeae4ee99\" y=\"47.668727\"/>\n     <use style=\"fill:#1f77b4;stroke:#1f77b4;\" x=\"125.485897\" xlink:href=\"#m8aeae4ee99\" y=\"73.138703\"/>\n     <use style=\"fill:#1f77b4;stroke:#1f77b4;\" x=\"70.238413\" xlink:href=\"#m8aeae4ee99\" y=\"42.232777\"/>\n     <use style=\"fill:#1f77b4;stroke:#1f77b4;\" x=\"135.691679\" xlink:href=\"#m8aeae4ee99\" y=\"81.480474\"/>\n     <use style=\"fill:#1f77b4;stroke:#1f77b4;\" x=\"168.284719\" xlink:href=\"#m8aeae4ee99\" y=\"89.731618\"/>\n     <use style=\"fill:#1f77b4;stroke:#1f77b4;\" x=\"95.309126\" xlink:href=\"#m8aeae4ee99\" y=\"53.229864\"/>\n     <use style=\"fill:#1f77b4;stroke:#1f77b4;\" x=\"142.297682\" xlink:href=\"#m8aeae4ee99\" y=\"70.103356\"/>\n     <use style=\"fill:#1f77b4;stroke:#1f77b4;\" x=\"135.204935\" xlink:href=\"#m8aeae4ee99\" y=\"66.030453\"/>\n     <use style=\"fill:#1f77b4;stroke:#1f77b4;\" x=\"134.612148\" xlink:href=\"#m8aeae4ee99\" y=\"84.575472\"/>\n     <use style=\"fill:#1f77b4;stroke:#1f77b4;\" x=\"130.832131\" xlink:href=\"#m8aeae4ee99\" y=\"85.138178\"/>\n     <use style=\"fill:#1f77b4;stroke:#1f77b4;\" x=\"171.185551\" xlink:href=\"#m8aeae4ee99\" y=\"102.681594\"/>\n     <use style=\"fill:#1f77b4;stroke:#1f77b4;\" x=\"120.010423\" xlink:href=\"#m8aeae4ee99\" y=\"53.723955\"/>\n     <use style=\"fill:#1f77b4;stroke:#1f77b4;\" x=\"119.502916\" xlink:href=\"#m8aeae4ee99\" y=\"64.944564\"/>\n     <use style=\"fill:#1f77b4;stroke:#1f77b4;\" x=\"118.372212\" xlink:href=\"#m8aeae4ee99\" y=\"63.002769\"/>\n     <use style=\"fill:#1f77b4;stroke:#1f77b4;\" x=\"120.611089\" xlink:href=\"#m8aeae4ee99\" y=\"61.315574\"/>\n     <use style=\"fill:#1f77b4;stroke:#1f77b4;\" x=\"144.043014\" xlink:href=\"#m8aeae4ee99\" y=\"85.062672\"/>\n     <use style=\"fill:#1f77b4;stroke:#1f77b4;\" x=\"115.310999\" xlink:href=\"#m8aeae4ee99\" y=\"73.303924\"/>\n     <use style=\"fill:#1f77b4;stroke:#1f77b4;\" x=\"112.460928\" xlink:href=\"#m8aeae4ee99\" y=\"57.910483\"/>\n     <use style=\"fill:#1f77b4;stroke:#1f77b4;\" x=\"138.840572\" xlink:href=\"#m8aeae4ee99\" y=\"60.44471\"/>\n     <use style=\"fill:#1f77b4;stroke:#1f77b4;\" x=\"125.160123\" xlink:href=\"#m8aeae4ee99\" y=\"71.928785\"/>\n     <use style=\"fill:#1f77b4;stroke:#1f77b4;\" x=\"115.602935\" xlink:href=\"#m8aeae4ee99\" y=\"62.94043\"/>\n     <use style=\"fill:#1f77b4;stroke:#1f77b4;\" x=\"145.252288\" xlink:href=\"#m8aeae4ee99\" y=\"74.729061\"/>\n     <use style=\"fill:#1f77b4;stroke:#1f77b4;\" x=\"117.009152\" xlink:href=\"#m8aeae4ee99\" y=\"59.151968\"/>\n     <use style=\"fill:#1f77b4;stroke:#1f77b4;\" x=\"110.338623\" xlink:href=\"#m8aeae4ee99\" y=\"68.150991\"/>\n     <use style=\"fill:#1f77b4;stroke:#1f77b4;\" x=\"119.111278\" xlink:href=\"#m8aeae4ee99\" y=\"71.829489\"/>\n     <use style=\"fill:#1f77b4;stroke:#1f77b4;\" x=\"126.419642\" xlink:href=\"#m8aeae4ee99\" y=\"75.794825\"/>\n     <use style=\"fill:#1f77b4;stroke:#1f77b4;\" x=\"82.790906\" xlink:href=\"#m8aeae4ee99\" y=\"21.233392\"/>\n     <use style=\"fill:#1f77b4;stroke:#1f77b4;\" x=\"109.599163\" xlink:href=\"#m8aeae4ee99\" y=\"53.854457\"/>\n     <use style=\"fill:#1f77b4;stroke:#1f77b4;\" x=\"119.773027\" xlink:href=\"#m8aeae4ee99\" y=\"48.786763\"/>\n     <use style=\"fill:#1f77b4;stroke:#1f77b4;\" x=\"128.239115\" xlink:href=\"#m8aeae4ee99\" y=\"72.82153\"/>\n     <use style=\"fill:#1f77b4;stroke:#1f77b4;\" x=\"166.587795\" xlink:href=\"#m8aeae4ee99\" y=\"82.440835\"/>\n     <use style=\"fill:#1f77b4;stroke:#1f77b4;\" x=\"144.517819\" xlink:href=\"#m8aeae4ee99\" y=\"77.896304\"/>\n     <use style=\"fill:#1f77b4;stroke:#1f77b4;\" x=\"176.967654\" xlink:href=\"#m8aeae4ee99\" y=\"103.399127\"/>\n     <use style=\"fill:#1f77b4;stroke:#1f77b4;\" x=\"143.922747\" xlink:href=\"#m8aeae4ee99\" y=\"97.209351\"/>\n     <use style=\"fill:#1f77b4;stroke:#1f77b4;\" x=\"133.407721\" xlink:href=\"#m8aeae4ee99\" y=\"80.002366\"/>\n     <use style=\"fill:#1f77b4;stroke:#1f77b4;\" x=\"96.653072\" xlink:href=\"#m8aeae4ee99\" y=\"63.957287\"/>\n     <use style=\"fill:#1f77b4;stroke:#1f77b4;\" x=\"152.406697\" xlink:href=\"#m8aeae4ee99\" y=\"85.091273\"/>\n     <use style=\"fill:#1f77b4;stroke:#1f77b4;\" x=\"90.032279\" xlink:href=\"#m8aeae4ee99\" y=\"50.200428\"/>\n     <use style=\"fill:#1f77b4;stroke:#1f77b4;\" x=\"83.361347\" xlink:href=\"#m8aeae4ee99\" y=\"35.007619\"/>\n     <use style=\"fill:#1f77b4;stroke:#1f77b4;\" x=\"221.727415\" xlink:href=\"#m8aeae4ee99\" y=\"127.726697\"/>\n     <use style=\"fill:#1f77b4;stroke:#1f77b4;\" x=\"131.593745\" xlink:href=\"#m8aeae4ee99\" y=\"83.837503\"/>\n     <use style=\"fill:#1f77b4;stroke:#1f77b4;\" x=\"147.954786\" xlink:href=\"#m8aeae4ee99\" y=\"80.860169\"/>\n     <use style=\"fill:#1f77b4;stroke:#1f77b4;\" x=\"97.496641\" xlink:href=\"#m8aeae4ee99\" y=\"60.460676\"/>\n     <use style=\"fill:#1f77b4;stroke:#1f77b4;\" x=\"115.683514\" xlink:href=\"#m8aeae4ee99\" y=\"55.229755\"/>\n     <use style=\"fill:#1f77b4;stroke:#1f77b4;\" x=\"135.98356\" xlink:href=\"#m8aeae4ee99\" y=\"65.147356\"/>\n     <use style=\"fill:#1f77b4;stroke:#1f77b4;\" x=\"146.898295\" xlink:href=\"#m8aeae4ee99\" y=\"95.379835\"/>\n     <use style=\"fill:#1f77b4;stroke:#1f77b4;\" x=\"97.494057\" xlink:href=\"#m8aeae4ee99\" y=\"38.891935\"/>\n     <use style=\"fill:#1f77b4;stroke:#1f77b4;\" x=\"123.076584\" xlink:href=\"#m8aeae4ee99\" y=\"75.548086\"/>\n     <use style=\"fill:#1f77b4;stroke:#1f77b4;\" x=\"139.085055\" xlink:href=\"#m8aeae4ee99\" y=\"78.07075\"/>\n     <use style=\"fill:#1f77b4;stroke:#1f77b4;\" x=\"112.415792\" xlink:href=\"#m8aeae4ee99\" y=\"66.262722\"/>\n     <use style=\"fill:#1f77b4;stroke:#1f77b4;\" x=\"150.588776\" xlink:href=\"#m8aeae4ee99\" y=\"101.23507\"/>\n     <use style=\"fill:#1f77b4;stroke:#1f77b4;\" x=\"148.655585\" xlink:href=\"#m8aeae4ee99\" y=\"74.506131\"/>\n     <use style=\"fill:#1f77b4;stroke:#1f77b4;\" x=\"128.159198\" xlink:href=\"#m8aeae4ee99\" y=\"71.266631\"/>\n     <use style=\"fill:#1f77b4;stroke:#1f77b4;\" x=\"144.494094\" xlink:href=\"#m8aeae4ee99\" y=\"72.181835\"/>\n     <use style=\"fill:#1f77b4;stroke:#1f77b4;\" x=\"118.110772\" xlink:href=\"#m8aeae4ee99\" y=\"63.458251\"/>\n     <use style=\"fill:#1f77b4;stroke:#1f77b4;\" x=\"89.49601\" xlink:href=\"#m8aeae4ee99\" y=\"38.866273\"/>\n     <use style=\"fill:#1f77b4;stroke:#1f77b4;\" x=\"145.529253\" xlink:href=\"#m8aeae4ee99\" y=\"70.601897\"/>\n     <use style=\"fill:#1f77b4;stroke:#1f77b4;\" x=\"111.876792\" xlink:href=\"#m8aeae4ee99\" y=\"61.620701\"/>\n     <use style=\"fill:#1f77b4;stroke:#1f77b4;\" x=\"117.448426\" xlink:href=\"#m8aeae4ee99\" y=\"70.020161\"/>\n     <use style=\"fill:#1f77b4;stroke:#1f77b4;\" x=\"118.482357\" xlink:href=\"#m8aeae4ee99\" y=\"56.000398\"/>\n     <use style=\"fill:#1f77b4;stroke:#1f77b4;\" x=\"94.363345\" xlink:href=\"#m8aeae4ee99\" y=\"61.122868\"/>\n     <use style=\"fill:#1f77b4;stroke:#1f77b4;\" x=\"146.732792\" xlink:href=\"#m8aeae4ee99\" y=\"76.08881\"/>\n     <use style=\"fill:#1f77b4;stroke:#1f77b4;\" x=\"86.74927\" xlink:href=\"#m8aeae4ee99\" y=\"42.091941\"/>\n     <use style=\"fill:#1f77b4;stroke:#1f77b4;\" x=\"158.073633\" xlink:href=\"#m8aeae4ee99\" y=\"97.022607\"/>\n     <use style=\"fill:#1f77b4;stroke:#1f77b4;\" x=\"140.613705\" xlink:href=\"#m8aeae4ee99\" y=\"54.998255\"/>\n     <use style=\"fill:#1f77b4;stroke:#1f77b4;\" x=\"154.787343\" xlink:href=\"#m8aeae4ee99\" y=\"83.296693\"/>\n     <use style=\"fill:#1f77b4;stroke:#1f77b4;\" x=\"119.908381\" xlink:href=\"#m8aeae4ee99\" y=\"67.499765\"/>\n     <use style=\"fill:#1f77b4;stroke:#1f77b4;\" x=\"181.624352\" xlink:href=\"#m8aeae4ee99\" y=\"118.613478\"/>\n     <use style=\"fill:#1f77b4;stroke:#1f77b4;\" x=\"103.223132\" xlink:href=\"#m8aeae4ee99\" y=\"43.068069\"/>\n     <use style=\"fill:#1f77b4;stroke:#1f77b4;\" x=\"107.969685\" xlink:href=\"#m8aeae4ee99\" y=\"67.121612\"/>\n     <use style=\"fill:#1f77b4;stroke:#1f77b4;\" x=\"96.133392\" xlink:href=\"#m8aeae4ee99\" y=\"57.766536\"/>\n     <use style=\"fill:#1f77b4;stroke:#1f77b4;\" x=\"117.533108\" xlink:href=\"#m8aeae4ee99\" y=\"71.340065\"/>\n     <use style=\"fill:#1f77b4;stroke:#1f77b4;\" x=\"129.447455\" xlink:href=\"#m8aeae4ee99\" y=\"70.583022\"/>\n     <use style=\"fill:#1f77b4;stroke:#1f77b4;\" x=\"49.79556\" xlink:href=\"#m8aeae4ee99\" y=\"24.929684\"/>\n     <use style=\"fill:#1f77b4;stroke:#1f77b4;\" x=\"103.005101\" xlink:href=\"#m8aeae4ee99\" y=\"56.415076\"/>\n     <use style=\"fill:#1f77b4;stroke:#1f77b4;\" x=\"105.907727\" xlink:href=\"#m8aeae4ee99\" y=\"45.881308\"/>\n     <use style=\"fill:#1f77b4;stroke:#1f77b4;\" x=\"121.906274\" xlink:href=\"#m8aeae4ee99\" y=\"65.461945\"/>\n     <use style=\"fill:#1f77b4;stroke:#1f77b4;\" x=\"143.137104\" xlink:href=\"#m8aeae4ee99\" y=\"86.281665\"/>\n     <use style=\"fill:#1f77b4;stroke:#1f77b4;\" x=\"139.801776\" xlink:href=\"#m8aeae4ee99\" y=\"82.730525\"/>\n     <use style=\"fill:#1f77b4;stroke:#1f77b4;\" x=\"160.306178\" xlink:href=\"#m8aeae4ee99\" y=\"92.615835\"/>\n     <use style=\"fill:#1f77b4;stroke:#1f77b4;\" x=\"138.015593\" xlink:href=\"#m8aeae4ee99\" y=\"73.484105\"/>\n     <use style=\"fill:#1f77b4;stroke:#1f77b4;\" x=\"99.310605\" xlink:href=\"#m8aeae4ee99\" y=\"72.936348\"/>\n     <use style=\"fill:#1f77b4;stroke:#1f77b4;\" x=\"132.769776\" xlink:href=\"#m8aeae4ee99\" y=\"76.824778\"/>\n     <use style=\"fill:#1f77b4;stroke:#1f77b4;\" x=\"124.385901\" xlink:href=\"#m8aeae4ee99\" y=\"67.151376\"/>\n     <use style=\"fill:#1f77b4;stroke:#1f77b4;\" x=\"89.293005\" xlink:href=\"#m8aeae4ee99\" y=\"63.3399\"/>\n     <use style=\"fill:#1f77b4;stroke:#1f77b4;\" x=\"96.08882\" xlink:href=\"#m8aeae4ee99\" y=\"41.863886\"/>\n     <use style=\"fill:#1f77b4;stroke:#1f77b4;\" x=\"82.965653\" xlink:href=\"#m8aeae4ee99\" y=\"22.664516\"/>\n     <use style=\"fill:#1f77b4;stroke:#1f77b4;\" x=\"139.225051\" xlink:href=\"#m8aeae4ee99\" y=\"75.454638\"/>\n     <use style=\"fill:#1f77b4;stroke:#1f77b4;\" x=\"172.105326\" xlink:href=\"#m8aeae4ee99\" y=\"100.668951\"/>\n     <use style=\"fill:#1f77b4;stroke:#1f77b4;\" x=\"132.011218\" xlink:href=\"#m8aeae4ee99\" y=\"62.884226\"/>\n     <use style=\"fill:#1f77b4;stroke:#1f77b4;\" x=\"61.311662\" xlink:href=\"#m8aeae4ee99\" y=\"21.440983\"/>\n     <use style=\"fill:#1f77b4;stroke:#1f77b4;\" x=\"99.995239\" xlink:href=\"#m8aeae4ee99\" y=\"49.159772\"/>\n     <use style=\"fill:#1f77b4;stroke:#1f77b4;\" x=\"152.613094\" xlink:href=\"#m8aeae4ee99\" y=\"87.356983\"/>\n     <use style=\"fill:#1f77b4;stroke:#1f77b4;\" x=\"103.149732\" xlink:href=\"#m8aeae4ee99\" y=\"60.534754\"/>\n     <use style=\"fill:#1f77b4;stroke:#1f77b4;\" x=\"77.977233\" xlink:href=\"#m8aeae4ee99\" y=\"47.446514\"/>\n     <use style=\"fill:#1f77b4;stroke:#1f77b4;\" x=\"145.919119\" xlink:href=\"#m8aeae4ee99\" y=\"67.719394\"/>\n     <use style=\"fill:#1f77b4;stroke:#1f77b4;\" x=\"89.076636\" xlink:href=\"#m8aeae4ee99\" y=\"45.636457\"/>\n     <use style=\"fill:#1f77b4;stroke:#1f77b4;\" x=\"128.635471\" xlink:href=\"#m8aeae4ee99\" y=\"70.245412\"/>\n     <use style=\"fill:#1f77b4;stroke:#1f77b4;\" x=\"105.037971\" xlink:href=\"#m8aeae4ee99\" y=\"59.166552\"/>\n     <use style=\"fill:#1f77b4;stroke:#1f77b4;\" x=\"149.146151\" xlink:href=\"#m8aeae4ee99\" y=\"76.597199\"/>\n     <use style=\"fill:#1f77b4;stroke:#1f77b4;\" x=\"154.182583\" xlink:href=\"#m8aeae4ee99\" y=\"90.113629\"/>\n     <use style=\"fill:#1f77b4;stroke:#1f77b4;\" x=\"115.989394\" xlink:href=\"#m8aeae4ee99\" y=\"58.826224\"/>\n     <use style=\"fill:#1f77b4;stroke:#1f77b4;\" x=\"130.494136\" xlink:href=\"#m8aeae4ee99\" y=\"70.808\"/>\n     <use style=\"fill:#1f77b4;stroke:#1f77b4;\" x=\"112.148283\" xlink:href=\"#m8aeae4ee99\" y=\"47.492151\"/>\n     <use style=\"fill:#1f77b4;stroke:#1f77b4;\" x=\"121.159328\" xlink:href=\"#m8aeae4ee99\" y=\"70.37813\"/>\n     <use style=\"fill:#1f77b4;stroke:#1f77b4;\" x=\"136.519457\" xlink:href=\"#m8aeae4ee99\" y=\"74.254687\"/>\n     <use style=\"fill:#1f77b4;stroke:#1f77b4;\" x=\"112.255817\" xlink:href=\"#m8aeae4ee99\" y=\"65.703934\"/>\n     <use style=\"fill:#1f77b4;stroke:#1f77b4;\" x=\"131.818703\" xlink:href=\"#m8aeae4ee99\" y=\"73.586486\"/>\n     <use style=\"fill:#1f77b4;stroke:#1f77b4;\" x=\"94.738113\" xlink:href=\"#m8aeae4ee99\" y=\"47.979786\"/>\n     <use style=\"fill:#1f77b4;stroke:#1f77b4;\" x=\"154.220297\" xlink:href=\"#m8aeae4ee99\" y=\"67.905271\"/>\n     <use style=\"fill:#1f77b4;stroke:#1f77b4;\" x=\"135.043248\" xlink:href=\"#m8aeae4ee99\" y=\"88.733408\"/>\n     <use style=\"fill:#1f77b4;stroke:#1f77b4;\" x=\"104.929686\" xlink:href=\"#m8aeae4ee99\" y=\"61.530734\"/>\n     <use style=\"fill:#1f77b4;stroke:#1f77b4;\" x=\"145.028901\" xlink:href=\"#m8aeae4ee99\" y=\"76.429125\"/>\n     <use style=\"fill:#1f77b4;stroke:#1f77b4;\" x=\"173.790447\" xlink:href=\"#m8aeae4ee99\" y=\"102.857185\"/>\n     <use style=\"fill:#1f77b4;stroke:#1f77b4;\" x=\"135.471135\" xlink:href=\"#m8aeae4ee99\" y=\"68.695778\"/>\n     <use style=\"fill:#1f77b4;stroke:#1f77b4;\" x=\"147.312388\" xlink:href=\"#m8aeae4ee99\" y=\"79.48458\"/>\n     <use style=\"fill:#1f77b4;stroke:#1f77b4;\" x=\"148.098516\" xlink:href=\"#m8aeae4ee99\" y=\"82.707809\"/>\n     <use style=\"fill:#1f77b4;stroke:#1f77b4;\" x=\"143.586322\" xlink:href=\"#m8aeae4ee99\" y=\"86.910149\"/>\n     <use style=\"fill:#1f77b4;stroke:#1f77b4;\" x=\"155.928459\" xlink:href=\"#m8aeae4ee99\" y=\"68.938191\"/>\n     <use style=\"fill:#1f77b4;stroke:#1f77b4;\" x=\"106.726917\" xlink:href=\"#m8aeae4ee99\" y=\"53.225183\"/>\n     <use style=\"fill:#1f77b4;stroke:#1f77b4;\" x=\"157.426734\" xlink:href=\"#m8aeae4ee99\" y=\"87.415221\"/>\n     <use style=\"fill:#1f77b4;stroke:#1f77b4;\" x=\"139.720632\" xlink:href=\"#m8aeae4ee99\" y=\"86.309898\"/>\n     <use style=\"fill:#1f77b4;stroke:#1f77b4;\" x=\"97.149879\" xlink:href=\"#m8aeae4ee99\" y=\"42.922536\"/>\n     <use style=\"fill:#1f77b4;stroke:#1f77b4;\" x=\"92.436489\" xlink:href=\"#m8aeae4ee99\" y=\"42.829434\"/>\n     <use style=\"fill:#1f77b4;stroke:#1f77b4;\" x=\"122.057267\" xlink:href=\"#m8aeae4ee99\" y=\"76.420744\"/>\n     <use style=\"fill:#1f77b4;stroke:#1f77b4;\" x=\"127.95346\" xlink:href=\"#m8aeae4ee99\" y=\"75.879183\"/>\n     <use style=\"fill:#1f77b4;stroke:#1f77b4;\" x=\"80.493919\" xlink:href=\"#m8aeae4ee99\" y=\"25.669531\"/>\n     <use style=\"fill:#1f77b4;stroke:#1f77b4;\" x=\"132.905684\" xlink:href=\"#m8aeae4ee99\" y=\"61.627357\"/>\n     <use style=\"fill:#1f77b4;stroke:#1f77b4;\" x=\"134.983802\" xlink:href=\"#m8aeae4ee99\" y=\"77.181373\"/>\n     <use style=\"fill:#1f77b4;stroke:#1f77b4;\" x=\"110.321162\" xlink:href=\"#m8aeae4ee99\" y=\"48.732772\"/>\n     <use style=\"fill:#1f77b4;stroke:#1f77b4;\" x=\"118.169377\" xlink:href=\"#m8aeae4ee99\" y=\"57.419625\"/>\n     <use style=\"fill:#1f77b4;stroke:#1f77b4;\" x=\"92.428165\" xlink:href=\"#m8aeae4ee99\" y=\"40.626626\"/>\n     <use style=\"fill:#1f77b4;stroke:#1f77b4;\" x=\"165.620253\" xlink:href=\"#m8aeae4ee99\" y=\"92.358387\"/>\n     <use style=\"fill:#1f77b4;stroke:#1f77b4;\" x=\"133.486891\" xlink:href=\"#m8aeae4ee99\" y=\"68.836133\"/>\n     <use style=\"fill:#1f77b4;stroke:#1f77b4;\" x=\"156.654042\" xlink:href=\"#m8aeae4ee99\" y=\"89.154237\"/>\n     <use style=\"fill:#1f77b4;stroke:#1f77b4;\" x=\"113.872213\" xlink:href=\"#m8aeae4ee99\" y=\"39.227548\"/>\n     <use style=\"fill:#1f77b4;stroke:#1f77b4;\" x=\"134.297586\" xlink:href=\"#m8aeae4ee99\" y=\"54.222659\"/>\n     <use style=\"fill:#1f77b4;stroke:#1f77b4;\" x=\"139.697374\" xlink:href=\"#m8aeae4ee99\" y=\"70.240914\"/>\n     <use style=\"fill:#1f77b4;stroke:#1f77b4;\" x=\"112.284457\" xlink:href=\"#m8aeae4ee99\" y=\"56.403823\"/>\n     <use style=\"fill:#1f77b4;stroke:#1f77b4;\" x=\"137.067334\" xlink:href=\"#m8aeae4ee99\" y=\"73.800671\"/>\n     <use style=\"fill:#1f77b4;stroke:#1f77b4;\" x=\"105.031544\" xlink:href=\"#m8aeae4ee99\" y=\"53.231798\"/>\n     <use style=\"fill:#1f77b4;stroke:#1f77b4;\" x=\"154.186846\" xlink:href=\"#m8aeae4ee99\" y=\"94.084049\"/>\n     <use style=\"fill:#1f77b4;stroke:#1f77b4;\" x=\"138.581273\" xlink:href=\"#m8aeae4ee99\" y=\"71.521794\"/>\n     <use style=\"fill:#1f77b4;stroke:#1f77b4;\" x=\"170.953998\" xlink:href=\"#m8aeae4ee99\" y=\"94.764613\"/>\n     <use style=\"fill:#1f77b4;stroke:#1f77b4;\" x=\"143.878068\" xlink:href=\"#m8aeae4ee99\" y=\"80.199731\"/>\n     <use style=\"fill:#1f77b4;stroke:#1f77b4;\" x=\"145.008555\" xlink:href=\"#m8aeae4ee99\" y=\"68.131757\"/>\n     <use style=\"fill:#1f77b4;stroke:#1f77b4;\" x=\"96.556759\" xlink:href=\"#m8aeae4ee99\" y=\"65.246368\"/>\n     <use style=\"fill:#1f77b4;stroke:#1f77b4;\" x=\"172.717462\" xlink:href=\"#m8aeae4ee99\" y=\"99.184268\"/>\n     <use style=\"fill:#1f77b4;stroke:#1f77b4;\" x=\"159.280888\" xlink:href=\"#m8aeae4ee99\" y=\"91.767011\"/>\n     <use style=\"fill:#1f77b4;stroke:#1f77b4;\" x=\"109.04079\" xlink:href=\"#m8aeae4ee99\" y=\"58.634363\"/>\n     <use style=\"fill:#1f77b4;stroke:#1f77b4;\" x=\"109.433937\" xlink:href=\"#m8aeae4ee99\" y=\"66.547517\"/>\n     <use style=\"fill:#1f77b4;stroke:#1f77b4;\" x=\"128.484433\" xlink:href=\"#m8aeae4ee99\" y=\"62.338418\"/>\n     <use style=\"fill:#1f77b4;stroke:#1f77b4;\" x=\"165.987765\" xlink:href=\"#m8aeae4ee99\" y=\"100.59542\"/>\n     <use style=\"fill:#1f77b4;stroke:#1f77b4;\" x=\"111.185899\" xlink:href=\"#m8aeae4ee99\" y=\"77.813289\"/>\n     <use style=\"fill:#1f77b4;stroke:#1f77b4;\" x=\"153.976331\" xlink:href=\"#m8aeae4ee99\" y=\"98.798468\"/>\n     <use style=\"fill:#1f77b4;stroke:#1f77b4;\" x=\"113.719415\" xlink:href=\"#m8aeae4ee99\" y=\"46.206632\"/>\n     <use style=\"fill:#1f77b4;stroke:#1f77b4;\" x=\"132.346518\" xlink:href=\"#m8aeae4ee99\" y=\"81.276825\"/>\n     <use style=\"fill:#1f77b4;stroke:#1f77b4;\" x=\"151.436155\" xlink:href=\"#m8aeae4ee99\" y=\"89.083055\"/>\n     <use style=\"fill:#1f77b4;stroke:#1f77b4;\" x=\"101.793071\" xlink:href=\"#m8aeae4ee99\" y=\"42.029043\"/>\n     <use style=\"fill:#1f77b4;stroke:#1f77b4;\" x=\"114.967607\" xlink:href=\"#m8aeae4ee99\" y=\"62.548728\"/>\n     <use style=\"fill:#1f77b4;stroke:#1f77b4;\" x=\"127.280043\" xlink:href=\"#m8aeae4ee99\" y=\"75.742896\"/>\n     <use style=\"fill:#1f77b4;stroke:#1f77b4;\" x=\"148.46247\" xlink:href=\"#m8aeae4ee99\" y=\"101.538008\"/>\n     <use style=\"fill:#1f77b4;stroke:#1f77b4;\" x=\"132.436667\" xlink:href=\"#m8aeae4ee99\" y=\"68.387599\"/>\n     <use style=\"fill:#1f77b4;stroke:#1f77b4;\" x=\"201.2109\" xlink:href=\"#m8aeae4ee99\" y=\"104.385142\"/>\n     <use style=\"fill:#1f77b4;stroke:#1f77b4;\" x=\"110.970418\" xlink:href=\"#m8aeae4ee99\" y=\"62.683003\"/>\n     <use style=\"fill:#1f77b4;stroke:#1f77b4;\" x=\"121.743563\" xlink:href=\"#m8aeae4ee99\" y=\"79.880729\"/>\n     <use style=\"fill:#1f77b4;stroke:#1f77b4;\" x=\"131.808615\" xlink:href=\"#m8aeae4ee99\" y=\"71.634457\"/>\n     <use style=\"fill:#1f77b4;stroke:#1f77b4;\" x=\"153.913099\" xlink:href=\"#m8aeae4ee99\" y=\"76.162676\"/>\n     <use style=\"fill:#1f77b4;stroke:#1f77b4;\" x=\"102.147302\" xlink:href=\"#m8aeae4ee99\" y=\"66.342365\"/>\n     <use style=\"fill:#1f77b4;stroke:#1f77b4;\" x=\"167.545807\" xlink:href=\"#m8aeae4ee99\" y=\"79.050476\"/>\n     <use style=\"fill:#1f77b4;stroke:#1f77b4;\" x=\"109.253537\" xlink:href=\"#m8aeae4ee99\" y=\"52.962261\"/>\n     <use style=\"fill:#1f77b4;stroke:#1f77b4;\" x=\"114.05151\" xlink:href=\"#m8aeae4ee99\" y=\"62.202676\"/>\n     <use style=\"fill:#1f77b4;stroke:#1f77b4;\" x=\"161.412051\" xlink:href=\"#m8aeae4ee99\" y=\"79.36542\"/>\n     <use style=\"fill:#1f77b4;stroke:#1f77b4;\" x=\"136.180814\" xlink:href=\"#m8aeae4ee99\" y=\"79.973317\"/>\n     <use style=\"fill:#1f77b4;stroke:#1f77b4;\" x=\"113.973097\" xlink:href=\"#m8aeae4ee99\" y=\"62.814349\"/>\n     <use style=\"fill:#1f77b4;stroke:#1f77b4;\" x=\"117.022792\" xlink:href=\"#m8aeae4ee99\" y=\"58.281038\"/>\n     <use style=\"fill:#1f77b4;stroke:#1f77b4;\" x=\"119.714319\" xlink:href=\"#m8aeae4ee99\" y=\"62.747383\"/>\n     <use style=\"fill:#1f77b4;stroke:#1f77b4;\" x=\"107.951065\" xlink:href=\"#m8aeae4ee99\" y=\"44.470741\"/>\n     <use style=\"fill:#1f77b4;stroke:#1f77b4;\" x=\"125.404163\" xlink:href=\"#m8aeae4ee99\" y=\"75.7589\"/>\n     <use style=\"fill:#1f77b4;stroke:#1f77b4;\" x=\"147.249616\" xlink:href=\"#m8aeae4ee99\" y=\"77.43581\"/>\n     <use style=\"fill:#1f77b4;stroke:#1f77b4;\" x=\"163.364096\" xlink:href=\"#m8aeae4ee99\" y=\"88.786061\"/>\n     <use style=\"fill:#1f77b4;stroke:#1f77b4;\" x=\"123.033123\" xlink:href=\"#m8aeae4ee99\" y=\"61.584621\"/>\n     <use style=\"fill:#1f77b4;stroke:#1f77b4;\" x=\"74.89354\" xlink:href=\"#m8aeae4ee99\" y=\"37.446349\"/>\n     <use style=\"fill:#1f77b4;stroke:#1f77b4;\" x=\"120.590412\" xlink:href=\"#m8aeae4ee99\" y=\"64.332227\"/>\n     <use style=\"fill:#1f77b4;stroke:#1f77b4;\" x=\"143.792581\" xlink:href=\"#m8aeae4ee99\" y=\"77.30154\"/>\n     <use style=\"fill:#1f77b4;stroke:#1f77b4;\" x=\"123.781014\" xlink:href=\"#m8aeae4ee99\" y=\"46.612873\"/>\n     <use style=\"fill:#1f77b4;stroke:#1f77b4;\" x=\"117.834509\" xlink:href=\"#m8aeae4ee99\" y=\"51.184186\"/>\n     <use style=\"fill:#1f77b4;stroke:#1f77b4;\" x=\"129.654463\" xlink:href=\"#m8aeae4ee99\" y=\"72.257316\"/>\n     <use style=\"fill:#1f77b4;stroke:#1f77b4;\" x=\"165.329412\" xlink:href=\"#m8aeae4ee99\" y=\"91.737998\"/>\n     <use style=\"fill:#1f77b4;stroke:#1f77b4;\" x=\"147.814703\" xlink:href=\"#m8aeae4ee99\" y=\"79.096712\"/>\n     <use style=\"fill:#1f77b4;stroke:#1f77b4;\" x=\"116.00901\" xlink:href=\"#m8aeae4ee99\" y=\"83.806822\"/>\n     <use style=\"fill:#1f77b4;stroke:#1f77b4;\" x=\"130.315307\" xlink:href=\"#m8aeae4ee99\" y=\"84.358577\"/>\n     <use style=\"fill:#1f77b4;stroke:#1f77b4;\" x=\"152.308883\" xlink:href=\"#m8aeae4ee99\" y=\"94.577568\"/>\n     <use style=\"fill:#1f77b4;stroke:#1f77b4;\" x=\"120.265751\" xlink:href=\"#m8aeae4ee99\" y=\"53.216636\"/>\n     <use style=\"fill:#1f77b4;stroke:#1f77b4;\" x=\"143.65776\" xlink:href=\"#m8aeae4ee99\" y=\"66.283743\"/>\n     <use style=\"fill:#1f77b4;stroke:#1f77b4;\" x=\"139.036027\" xlink:href=\"#m8aeae4ee99\" y=\"69.141261\"/>\n     <use style=\"fill:#1f77b4;stroke:#1f77b4;\" x=\"106.899111\" xlink:href=\"#m8aeae4ee99\" y=\"61.36776\"/>\n     <use style=\"fill:#1f77b4;stroke:#1f77b4;\" x=\"122.4004\" xlink:href=\"#m8aeae4ee99\" y=\"59.904064\"/>\n     <use style=\"fill:#1f77b4;stroke:#1f77b4;\" x=\"161.914616\" xlink:href=\"#m8aeae4ee99\" y=\"76.700018\"/>\n     <use style=\"fill:#1f77b4;stroke:#1f77b4;\" x=\"107.04686\" xlink:href=\"#m8aeae4ee99\" y=\"60.302796\"/>\n     <use style=\"fill:#1f77b4;stroke:#1f77b4;\" x=\"170.103589\" xlink:href=\"#m8aeae4ee99\" y=\"88.581246\"/>\n     <use style=\"fill:#1f77b4;stroke:#1f77b4;\" x=\"102.809464\" xlink:href=\"#m8aeae4ee99\" y=\"51.079043\"/>\n     <use style=\"fill:#1f77b4;stroke:#1f77b4;\" x=\"140.854387\" xlink:href=\"#m8aeae4ee99\" y=\"74.963394\"/>\n     <use style=\"fill:#1f77b4;stroke:#1f77b4;\" x=\"138.592728\" xlink:href=\"#m8aeae4ee99\" y=\"73.585928\"/>\n     <use style=\"fill:#1f77b4;stroke:#1f77b4;\" x=\"149.105941\" xlink:href=\"#m8aeae4ee99\" y=\"74.370702\"/>\n     <use style=\"fill:#1f77b4;stroke:#1f77b4;\" x=\"108.180537\" xlink:href=\"#m8aeae4ee99\" y=\"60.63453\"/>\n     <use style=\"fill:#1f77b4;stroke:#1f77b4;\" x=\"85.84664\" xlink:href=\"#m8aeae4ee99\" y=\"41.99271\"/>\n     <use style=\"fill:#1f77b4;stroke:#1f77b4;\" x=\"121.563249\" xlink:href=\"#m8aeae4ee99\" y=\"54.119396\"/>\n     <use style=\"fill:#1f77b4;stroke:#1f77b4;\" x=\"131.954601\" xlink:href=\"#m8aeae4ee99\" y=\"73.092956\"/>\n     <use style=\"fill:#1f77b4;stroke:#1f77b4;\" x=\"139.982621\" xlink:href=\"#m8aeae4ee99\" y=\"69.480574\"/>\n     <use style=\"fill:#1f77b4;stroke:#1f77b4;\" x=\"133.822752\" xlink:href=\"#m8aeae4ee99\" y=\"87.374777\"/>\n     <use style=\"fill:#1f77b4;stroke:#1f77b4;\" x=\"128.410197\" xlink:href=\"#m8aeae4ee99\" y=\"62.779528\"/>\n     <use style=\"fill:#1f77b4;stroke:#1f77b4;\" x=\"100.636033\" xlink:href=\"#m8aeae4ee99\" y=\"64.281903\"/>\n     <use style=\"fill:#1f77b4;stroke:#1f77b4;\" x=\"122.219713\" xlink:href=\"#m8aeae4ee99\" y=\"65.239386\"/>\n     <use style=\"fill:#1f77b4;stroke:#1f77b4;\" x=\"108.03792\" xlink:href=\"#m8aeae4ee99\" y=\"50.809146\"/>\n     <use style=\"fill:#1f77b4;stroke:#1f77b4;\" x=\"143.04868\" xlink:href=\"#m8aeae4ee99\" y=\"87.224793\"/>\n     <use style=\"fill:#1f77b4;stroke:#1f77b4;\" x=\"159.897818\" xlink:href=\"#m8aeae4ee99\" y=\"90.460304\"/>\n     <use style=\"fill:#1f77b4;stroke:#1f77b4;\" x=\"86.093765\" xlink:href=\"#m8aeae4ee99\" y=\"48.046542\"/>\n     <use style=\"fill:#1f77b4;stroke:#1f77b4;\" x=\"115.426192\" xlink:href=\"#m8aeae4ee99\" y=\"64.955288\"/>\n     <use style=\"fill:#1f77b4;stroke:#1f77b4;\" x=\"145.849992\" xlink:href=\"#m8aeae4ee99\" y=\"93.864425\"/>\n     <use style=\"fill:#1f77b4;stroke:#1f77b4;\" x=\"117.486617\" xlink:href=\"#m8aeae4ee99\" y=\"51.639388\"/>\n     <use style=\"fill:#1f77b4;stroke:#1f77b4;\" x=\"135.620787\" xlink:href=\"#m8aeae4ee99\" y=\"74.360531\"/>\n     <use style=\"fill:#1f77b4;stroke:#1f77b4;\" x=\"105.504121\" xlink:href=\"#m8aeae4ee99\" y=\"55.978987\"/>\n     <use style=\"fill:#1f77b4;stroke:#1f77b4;\" x=\"140.175999\" xlink:href=\"#m8aeae4ee99\" y=\"71.056926\"/>\n     <use style=\"fill:#1f77b4;stroke:#1f77b4;\" x=\"98.498743\" xlink:href=\"#m8aeae4ee99\" y=\"43.052158\"/>\n     <use style=\"fill:#1f77b4;stroke:#1f77b4;\" x=\"135.630923\" xlink:href=\"#m8aeae4ee99\" y=\"71.707286\"/>\n     <use style=\"fill:#1f77b4;stroke:#1f77b4;\" x=\"164.785853\" xlink:href=\"#m8aeae4ee99\" y=\"86.466006\"/>\n     <use style=\"fill:#1f77b4;stroke:#1f77b4;\" x=\"129.524166\" xlink:href=\"#m8aeae4ee99\" y=\"47.769695\"/>\n     <use style=\"fill:#1f77b4;stroke:#1f77b4;\" x=\"160.519487\" xlink:href=\"#m8aeae4ee99\" y=\"113.806312\"/>\n     <use style=\"fill:#1f77b4;stroke:#1f77b4;\" x=\"109.962013\" xlink:href=\"#m8aeae4ee99\" y=\"49.613751\"/>\n     <use style=\"fill:#1f77b4;stroke:#1f77b4;\" x=\"105.586165\" xlink:href=\"#m8aeae4ee99\" y=\"38.218424\"/>\n     <use style=\"fill:#1f77b4;stroke:#1f77b4;\" x=\"121.670837\" xlink:href=\"#m8aeae4ee99\" y=\"52.536605\"/>\n     <use style=\"fill:#1f77b4;stroke:#1f77b4;\" x=\"158.214076\" xlink:href=\"#m8aeae4ee99\" y=\"98.11925\"/>\n     <use style=\"fill:#1f77b4;stroke:#1f77b4;\" x=\"146.379813\" xlink:href=\"#m8aeae4ee99\" y=\"72.895962\"/>\n     <use style=\"fill:#1f77b4;stroke:#1f77b4;\" x=\"112.201336\" xlink:href=\"#m8aeae4ee99\" y=\"53.737456\"/>\n     <use style=\"fill:#1f77b4;stroke:#1f77b4;\" x=\"140.125604\" xlink:href=\"#m8aeae4ee99\" y=\"70.847809\"/>\n     <use style=\"fill:#1f77b4;stroke:#1f77b4;\" x=\"183.749653\" xlink:href=\"#m8aeae4ee99\" y=\"86.445145\"/>\n     <use style=\"fill:#1f77b4;stroke:#1f77b4;\" x=\"137.032997\" xlink:href=\"#m8aeae4ee99\" y=\"80.108835\"/>\n     <use style=\"fill:#1f77b4;stroke:#1f77b4;\" x=\"152.013684\" xlink:href=\"#m8aeae4ee99\" y=\"75.414615\"/>\n     <use style=\"fill:#1f77b4;stroke:#1f77b4;\" x=\"115.457999\" xlink:href=\"#m8aeae4ee99\" y=\"56.48584\"/>\n     <use style=\"fill:#1f77b4;stroke:#1f77b4;\" x=\"110.463147\" xlink:href=\"#m8aeae4ee99\" y=\"56.846417\"/>\n     <use style=\"fill:#1f77b4;stroke:#1f77b4;\" x=\"104.288226\" xlink:href=\"#m8aeae4ee99\" y=\"40.136077\"/>\n     <use style=\"fill:#1f77b4;stroke:#1f77b4;\" x=\"140.633121\" xlink:href=\"#m8aeae4ee99\" y=\"77.489788\"/>\n     <use style=\"fill:#1f77b4;stroke:#1f77b4;\" x=\"99.38412\" xlink:href=\"#m8aeae4ee99\" y=\"56.067451\"/>\n     <use style=\"fill:#1f77b4;stroke:#1f77b4;\" x=\"148.332578\" xlink:href=\"#m8aeae4ee99\" y=\"80.482121\"/>\n     <use style=\"fill:#1f77b4;stroke:#1f77b4;\" x=\"71.501223\" xlink:href=\"#m8aeae4ee99\" y=\"17.325248\"/>\n     <use style=\"fill:#1f77b4;stroke:#1f77b4;\" x=\"109.523329\" xlink:href=\"#m8aeae4ee99\" y=\"62.183492\"/>\n     <use style=\"fill:#1f77b4;stroke:#1f77b4;\" x=\"125.009794\" xlink:href=\"#m8aeae4ee99\" y=\"66.444962\"/>\n     <use style=\"fill:#1f77b4;stroke:#1f77b4;\" x=\"143.456353\" xlink:href=\"#m8aeae4ee99\" y=\"87.687625\"/>\n     <use style=\"fill:#1f77b4;stroke:#1f77b4;\" x=\"133.75032\" xlink:href=\"#m8aeae4ee99\" y=\"79.267076\"/>\n     <use style=\"fill:#1f77b4;stroke:#1f77b4;\" x=\"122.35353\" xlink:href=\"#m8aeae4ee99\" y=\"68.551807\"/>\n     <use style=\"fill:#1f77b4;stroke:#1f77b4;\" x=\"160.007123\" xlink:href=\"#m8aeae4ee99\" y=\"92.274307\"/>\n     <use style=\"fill:#1f77b4;stroke:#1f77b4;\" x=\"113.533723\" xlink:href=\"#m8aeae4ee99\" y=\"66.934486\"/>\n     <use style=\"fill:#1f77b4;stroke:#1f77b4;\" x=\"113.598603\" xlink:href=\"#m8aeae4ee99\" y=\"57.905514\"/>\n     <use style=\"fill:#1f77b4;stroke:#1f77b4;\" x=\"159.188423\" xlink:href=\"#m8aeae4ee99\" y=\"92.720139\"/>\n     <use style=\"fill:#1f77b4;stroke:#1f77b4;\" x=\"163.554229\" xlink:href=\"#m8aeae4ee99\" y=\"93.681388\"/>\n     <use style=\"fill:#1f77b4;stroke:#1f77b4;\" x=\"123.429137\" xlink:href=\"#m8aeae4ee99\" y=\"66.960165\"/>\n     <use style=\"fill:#1f77b4;stroke:#1f77b4;\" x=\"140.364335\" xlink:href=\"#m8aeae4ee99\" y=\"68.850829\"/>\n     <use style=\"fill:#1f77b4;stroke:#1f77b4;\" x=\"138.311147\" xlink:href=\"#m8aeae4ee99\" y=\"68.577468\"/>\n     <use style=\"fill:#1f77b4;stroke:#1f77b4;\" x=\"142.181491\" xlink:href=\"#m8aeae4ee99\" y=\"75.12029\"/>\n     <use style=\"fill:#1f77b4;stroke:#1f77b4;\" x=\"105.969965\" xlink:href=\"#m8aeae4ee99\" y=\"59.687639\"/>\n     <use style=\"fill:#1f77b4;stroke:#1f77b4;\" x=\"123.018659\" xlink:href=\"#m8aeae4ee99\" y=\"47.27137\"/>\n     <use style=\"fill:#1f77b4;stroke:#1f77b4;\" x=\"116.367195\" xlink:href=\"#m8aeae4ee99\" y=\"74.208017\"/>\n     <use style=\"fill:#1f77b4;stroke:#1f77b4;\" x=\"97.1951\" xlink:href=\"#m8aeae4ee99\" y=\"32.610714\"/>\n     <use style=\"fill:#1f77b4;stroke:#1f77b4;\" x=\"102.149375\" xlink:href=\"#m8aeae4ee99\" y=\"54.529176\"/>\n     <use style=\"fill:#1f77b4;stroke:#1f77b4;\" x=\"138.818014\" xlink:href=\"#m8aeae4ee99\" y=\"68.296925\"/>\n     <use style=\"fill:#1f77b4;stroke:#1f77b4;\" x=\"115.237746\" xlink:href=\"#m8aeae4ee99\" y=\"64.833786\"/>\n     <use style=\"fill:#1f77b4;stroke:#1f77b4;\" x=\"136.035984\" xlink:href=\"#m8aeae4ee99\" y=\"85.991083\"/>\n     <use style=\"fill:#1f77b4;stroke:#1f77b4;\" x=\"94.336885\" xlink:href=\"#m8aeae4ee99\" y=\"44.147305\"/>\n     <use style=\"fill:#1f77b4;stroke:#1f77b4;\" x=\"138.438914\" xlink:href=\"#m8aeae4ee99\" y=\"61.753161\"/>\n     <use style=\"fill:#1f77b4;stroke:#1f77b4;\" x=\"146.285375\" xlink:href=\"#m8aeae4ee99\" y=\"98.774059\"/>\n     <use style=\"fill:#1f77b4;stroke:#1f77b4;\" x=\"139.935975\" xlink:href=\"#m8aeae4ee99\" y=\"66.34854\"/>\n     <use style=\"fill:#1f77b4;stroke:#1f77b4;\" x=\"140.628084\" xlink:href=\"#m8aeae4ee99\" y=\"68.914782\"/>\n     <use style=\"fill:#1f77b4;stroke:#1f77b4;\" x=\"130.893936\" xlink:href=\"#m8aeae4ee99\" y=\"69.705027\"/>\n     <use style=\"fill:#1f77b4;stroke:#1f77b4;\" x=\"104.383015\" xlink:href=\"#m8aeae4ee99\" y=\"56.531543\"/>\n     <use style=\"fill:#1f77b4;stroke:#1f77b4;\" x=\"113.152273\" xlink:href=\"#m8aeae4ee99\" y=\"71.029808\"/>\n     <use style=\"fill:#1f77b4;stroke:#1f77b4;\" x=\"108.184898\" xlink:href=\"#m8aeae4ee99\" y=\"46.694933\"/>\n     <use style=\"fill:#1f77b4;stroke:#1f77b4;\" x=\"149.671206\" xlink:href=\"#m8aeae4ee99\" y=\"72.836406\"/>\n     <use style=\"fill:#1f77b4;stroke:#1f77b4;\" x=\"124.242672\" xlink:href=\"#m8aeae4ee99\" y=\"66.166469\"/>\n     <use style=\"fill:#1f77b4;stroke:#1f77b4;\" x=\"97.700049\" xlink:href=\"#m8aeae4ee99\" y=\"46.266712\"/>\n     <use style=\"fill:#1f77b4;stroke:#1f77b4;\" x=\"138.640351\" xlink:href=\"#m8aeae4ee99\" y=\"91.314688\"/>\n     <use style=\"fill:#1f77b4;stroke:#1f77b4;\" x=\"142.038787\" xlink:href=\"#m8aeae4ee99\" y=\"70.559888\"/>\n     <use style=\"fill:#1f77b4;stroke:#1f77b4;\" x=\"133.336768\" xlink:href=\"#m8aeae4ee99\" y=\"70.829481\"/>\n     <use style=\"fill:#1f77b4;stroke:#1f77b4;\" x=\"130.629133\" xlink:href=\"#m8aeae4ee99\" y=\"71.957032\"/>\n     <use style=\"fill:#1f77b4;stroke:#1f77b4;\" x=\"79.088225\" xlink:href=\"#m8aeae4ee99\" y=\"31.59034\"/>\n     <use style=\"fill:#1f77b4;stroke:#1f77b4;\" x=\"164.16638\" xlink:href=\"#m8aeae4ee99\" y=\"87.52778\"/>\n     <use style=\"fill:#1f77b4;stroke:#1f77b4;\" x=\"129.684497\" xlink:href=\"#m8aeae4ee99\" y=\"64.583545\"/>\n     <use style=\"fill:#1f77b4;stroke:#1f77b4;\" x=\"147.024288\" xlink:href=\"#m8aeae4ee99\" y=\"84.231992\"/>\n     <use style=\"fill:#1f77b4;stroke:#1f77b4;\" x=\"153.815284\" xlink:href=\"#m8aeae4ee99\" y=\"97.59588\"/>\n     <use style=\"fill:#1f77b4;stroke:#1f77b4;\" x=\"107.620322\" xlink:href=\"#m8aeae4ee99\" y=\"63.249145\"/>\n     <use style=\"fill:#1f77b4;stroke:#1f77b4;\" x=\"128.001362\" xlink:href=\"#m8aeae4ee99\" y=\"68.374921\"/>\n     <use style=\"fill:#1f77b4;stroke:#1f77b4;\" x=\"126.740634\" xlink:href=\"#m8aeae4ee99\" y=\"86.408008\"/>\n     <use style=\"fill:#1f77b4;stroke:#1f77b4;\" x=\"122.855998\" xlink:href=\"#m8aeae4ee99\" y=\"71.022634\"/>\n     <use style=\"fill:#1f77b4;stroke:#1f77b4;\" x=\"103.120082\" xlink:href=\"#m8aeae4ee99\" y=\"47.162106\"/>\n     <use style=\"fill:#1f77b4;stroke:#1f77b4;\" x=\"104.74583\" xlink:href=\"#m8aeae4ee99\" y=\"65.10939\"/>\n     <use style=\"fill:#1f77b4;stroke:#1f77b4;\" x=\"96.705694\" xlink:href=\"#m8aeae4ee99\" y=\"52.508952\"/>\n     <use style=\"fill:#1f77b4;stroke:#1f77b4;\" x=\"137.405043\" xlink:href=\"#m8aeae4ee99\" y=\"86.153284\"/>\n     <use style=\"fill:#1f77b4;stroke:#1f77b4;\" x=\"169.261612\" xlink:href=\"#m8aeae4ee99\" y=\"107.526199\"/>\n     <use style=\"fill:#1f77b4;stroke:#1f77b4;\" x=\"134.763279\" xlink:href=\"#m8aeae4ee99\" y=\"77.108904\"/>\n     <use style=\"fill:#1f77b4;stroke:#1f77b4;\" x=\"157.86138\" xlink:href=\"#m8aeae4ee99\" y=\"82.600173\"/>\n     <use style=\"fill:#1f77b4;stroke:#1f77b4;\" x=\"113.800861\" xlink:href=\"#m8aeae4ee99\" y=\"79.557594\"/>\n     <use style=\"fill:#1f77b4;stroke:#1f77b4;\" x=\"113.113984\" xlink:href=\"#m8aeae4ee99\" y=\"58.668688\"/>\n     <use style=\"fill:#1f77b4;stroke:#1f77b4;\" x=\"153.747016\" xlink:href=\"#m8aeae4ee99\" y=\"98.548415\"/>\n     <use style=\"fill:#1f77b4;stroke:#1f77b4;\" x=\"95.676042\" xlink:href=\"#m8aeae4ee99\" y=\"48.943871\"/>\n     <use style=\"fill:#1f77b4;stroke:#1f77b4;\" x=\"137.400333\" xlink:href=\"#m8aeae4ee99\" y=\"73.855934\"/>\n     <use style=\"fill:#1f77b4;stroke:#1f77b4;\" x=\"120.359033\" xlink:href=\"#m8aeae4ee99\" y=\"67.268272\"/>\n     <use style=\"fill:#1f77b4;stroke:#1f77b4;\" x=\"118.00607\" xlink:href=\"#m8aeae4ee99\" y=\"69.71087\"/>\n     <use style=\"fill:#1f77b4;stroke:#1f77b4;\" x=\"104.569675\" xlink:href=\"#m8aeae4ee99\" y=\"59.370949\"/>\n     <use style=\"fill:#1f77b4;stroke:#1f77b4;\" x=\"127.932528\" xlink:href=\"#m8aeae4ee99\" y=\"66.608819\"/>\n     <use style=\"fill:#1f77b4;stroke:#1f77b4;\" x=\"103.322741\" xlink:href=\"#m8aeae4ee99\" y=\"47.610344\"/>\n     <use style=\"fill:#1f77b4;stroke:#1f77b4;\" x=\"144.433631\" xlink:href=\"#m8aeae4ee99\" y=\"93.644523\"/>\n     <use style=\"fill:#1f77b4;stroke:#1f77b4;\" x=\"146.982796\" xlink:href=\"#m8aeae4ee99\" y=\"83.327512\"/>\n     <use style=\"fill:#1f77b4;stroke:#1f77b4;\" x=\"104.5601\" xlink:href=\"#m8aeae4ee99\" y=\"66.686785\"/>\n     <use style=\"fill:#1f77b4;stroke:#1f77b4;\" x=\"135.987531\" xlink:href=\"#m8aeae4ee99\" y=\"72.576568\"/>\n     <use style=\"fill:#1f77b4;stroke:#1f77b4;\" x=\"148.765353\" xlink:href=\"#m8aeae4ee99\" y=\"95.923321\"/>\n     <use style=\"fill:#1f77b4;stroke:#1f77b4;\" x=\"140.202927\" xlink:href=\"#m8aeae4ee99\" y=\"64.539828\"/>\n     <use style=\"fill:#1f77b4;stroke:#1f77b4;\" x=\"141.751863\" xlink:href=\"#m8aeae4ee99\" y=\"80.634797\"/>\n     <use style=\"fill:#1f77b4;stroke:#1f77b4;\" x=\"144.097243\" xlink:href=\"#m8aeae4ee99\" y=\"90.274942\"/>\n     <use style=\"fill:#1f77b4;stroke:#1f77b4;\" x=\"161.377733\" xlink:href=\"#m8aeae4ee99\" y=\"86.949387\"/>\n     <use style=\"fill:#1f77b4;stroke:#1f77b4;\" x=\"111.76755\" xlink:href=\"#m8aeae4ee99\" y=\"63.489996\"/>\n     <use style=\"fill:#1f77b4;stroke:#1f77b4;\" x=\"132.31581\" xlink:href=\"#m8aeae4ee99\" y=\"63.022942\"/>\n     <use style=\"fill:#1f77b4;stroke:#1f77b4;\" x=\"91.944849\" xlink:href=\"#m8aeae4ee99\" y=\"65.679807\"/>\n     <use style=\"fill:#1f77b4;stroke:#1f77b4;\" x=\"150.79813\" xlink:href=\"#m8aeae4ee99\" y=\"87.772417\"/>\n     <use style=\"fill:#1f77b4;stroke:#1f77b4;\" x=\"115.05565\" xlink:href=\"#m8aeae4ee99\" y=\"54.872884\"/>\n     <use style=\"fill:#1f77b4;stroke:#1f77b4;\" x=\"145.980319\" xlink:href=\"#m8aeae4ee99\" y=\"85.09054\"/>\n     <use style=\"fill:#1f77b4;stroke:#1f77b4;\" x=\"138.678719\" xlink:href=\"#m8aeae4ee99\" y=\"72.4146\"/>\n     <use style=\"fill:#1f77b4;stroke:#1f77b4;\" x=\"122.552348\" xlink:href=\"#m8aeae4ee99\" y=\"48.904012\"/>\n     <use style=\"fill:#1f77b4;stroke:#1f77b4;\" x=\"167.278321\" xlink:href=\"#m8aeae4ee99\" y=\"80.567607\"/>\n     <use style=\"fill:#1f77b4;stroke:#1f77b4;\" x=\"142.357736\" xlink:href=\"#m8aeae4ee99\" y=\"74.780646\"/>\n     <use style=\"fill:#1f77b4;stroke:#1f77b4;\" x=\"71.950114\" xlink:href=\"#m8aeae4ee99\" y=\"13.377273\"/>\n     <use style=\"fill:#1f77b4;stroke:#1f77b4;\" x=\"145.449942\" xlink:href=\"#m8aeae4ee99\" y=\"66.654362\"/>\n     <use style=\"fill:#1f77b4;stroke:#1f77b4;\" x=\"117.292845\" xlink:href=\"#m8aeae4ee99\" y=\"69.820208\"/>\n     <use style=\"fill:#1f77b4;stroke:#1f77b4;\" x=\"134.680869\" xlink:href=\"#m8aeae4ee99\" y=\"71.429417\"/>\n     <use style=\"fill:#1f77b4;stroke:#1f77b4;\" x=\"155.012012\" xlink:href=\"#m8aeae4ee99\" y=\"83.895509\"/>\n     <use style=\"fill:#1f77b4;stroke:#1f77b4;\" x=\"119.691608\" xlink:href=\"#m8aeae4ee99\" y=\"75.114552\"/>\n     <use style=\"fill:#1f77b4;stroke:#1f77b4;\" x=\"142.375538\" xlink:href=\"#m8aeae4ee99\" y=\"91.61094\"/>\n     <use style=\"fill:#1f77b4;stroke:#1f77b4;\" x=\"174.936262\" xlink:href=\"#m8aeae4ee99\" y=\"100.251637\"/>\n     <use style=\"fill:#1f77b4;stroke:#1f77b4;\" x=\"59.028994\" xlink:href=\"#m8aeae4ee99\" y=\"16.142932\"/>\n     <use style=\"fill:#1f77b4;stroke:#1f77b4;\" x=\"118.304845\" xlink:href=\"#m8aeae4ee99\" y=\"61.377387\"/>\n     <use style=\"fill:#1f77b4;stroke:#1f77b4;\" x=\"114.146086\" xlink:href=\"#m8aeae4ee99\" y=\"49.12202\"/>\n     <use style=\"fill:#1f77b4;stroke:#1f77b4;\" x=\"117.278027\" xlink:href=\"#m8aeae4ee99\" y=\"65.421163\"/>\n     <use style=\"fill:#1f77b4;stroke:#1f77b4;\" x=\"147.151749\" xlink:href=\"#m8aeae4ee99\" y=\"91.196774\"/>\n     <use style=\"fill:#1f77b4;stroke:#1f77b4;\" x=\"97.21544\" xlink:href=\"#m8aeae4ee99\" y=\"53.809641\"/>\n     <use style=\"fill:#1f77b4;stroke:#1f77b4;\" x=\"143.015299\" xlink:href=\"#m8aeae4ee99\" y=\"68.82631\"/>\n     <use style=\"fill:#1f77b4;stroke:#1f77b4;\" x=\"153.636039\" xlink:href=\"#m8aeae4ee99\" y=\"97.673056\"/>\n     <use style=\"fill:#1f77b4;stroke:#1f77b4;\" x=\"121.284685\" xlink:href=\"#m8aeae4ee99\" y=\"67.950356\"/>\n     <use style=\"fill:#1f77b4;stroke:#1f77b4;\" x=\"119.338143\" xlink:href=\"#m8aeae4ee99\" y=\"74.980664\"/>\n     <use style=\"fill:#1f77b4;stroke:#1f77b4;\" x=\"141.863647\" xlink:href=\"#m8aeae4ee99\" y=\"66.720167\"/>\n     <use style=\"fill:#1f77b4;stroke:#1f77b4;\" x=\"121.608228\" xlink:href=\"#m8aeae4ee99\" y=\"67.278962\"/>\n     <use style=\"fill:#1f77b4;stroke:#1f77b4;\" x=\"96.942421\" xlink:href=\"#m8aeae4ee99\" y=\"53.272009\"/>\n     <use style=\"fill:#1f77b4;stroke:#1f77b4;\" x=\"107.96317\" xlink:href=\"#m8aeae4ee99\" y=\"35.902932\"/>\n     <use style=\"fill:#1f77b4;stroke:#1f77b4;\" x=\"89.442054\" xlink:href=\"#m8aeae4ee99\" y=\"37.519061\"/>\n     <use style=\"fill:#1f77b4;stroke:#1f77b4;\" x=\"100.243524\" xlink:href=\"#m8aeae4ee99\" y=\"67.815342\"/>\n     <use style=\"fill:#1f77b4;stroke:#1f77b4;\" x=\"137.285132\" xlink:href=\"#m8aeae4ee99\" y=\"76.769697\"/>\n     <use style=\"fill:#1f77b4;stroke:#1f77b4;\" x=\"84.459414\" xlink:href=\"#m8aeae4ee99\" y=\"34.73194\"/>\n     <use style=\"fill:#1f77b4;stroke:#1f77b4;\" x=\"137.85292\" xlink:href=\"#m8aeae4ee99\" y=\"83.737467\"/>\n     <use style=\"fill:#1f77b4;stroke:#1f77b4;\" x=\"114.976925\" xlink:href=\"#m8aeae4ee99\" y=\"70.467363\"/>\n     <use style=\"fill:#1f77b4;stroke:#1f77b4;\" x=\"123.706404\" xlink:href=\"#m8aeae4ee99\" y=\"75.156541\"/>\n     <use style=\"fill:#1f77b4;stroke:#1f77b4;\" x=\"118.719749\" xlink:href=\"#m8aeae4ee99\" y=\"59.548768\"/>\n     <use style=\"fill:#1f77b4;stroke:#1f77b4;\" x=\"134.282423\" xlink:href=\"#m8aeae4ee99\" y=\"87.64927\"/>\n     <use style=\"fill:#1f77b4;stroke:#1f77b4;\" x=\"90.586733\" xlink:href=\"#m8aeae4ee99\" y=\"43.948752\"/>\n     <use style=\"fill:#1f77b4;stroke:#1f77b4;\" x=\"130.026313\" xlink:href=\"#m8aeae4ee99\" y=\"76.238091\"/>\n     <use style=\"fill:#1f77b4;stroke:#1f77b4;\" x=\"138.765613\" xlink:href=\"#m8aeae4ee99\" y=\"62.130803\"/>\n     <use style=\"fill:#1f77b4;stroke:#1f77b4;\" x=\"124.003263\" xlink:href=\"#m8aeae4ee99\" y=\"54.30791\"/>\n     <use style=\"fill:#1f77b4;stroke:#1f77b4;\" x=\"92.093494\" xlink:href=\"#m8aeae4ee99\" y=\"39.755365\"/>\n     <use style=\"fill:#1f77b4;stroke:#1f77b4;\" x=\"164.776882\" xlink:href=\"#m8aeae4ee99\" y=\"78.434112\"/>\n     <use style=\"fill:#1f77b4;stroke:#1f77b4;\" x=\"158.127933\" xlink:href=\"#m8aeae4ee99\" y=\"72.971257\"/>\n     <use style=\"fill:#1f77b4;stroke:#1f77b4;\" x=\"128.131148\" xlink:href=\"#m8aeae4ee99\" y=\"59.54955\"/>\n     <use style=\"fill:#1f77b4;stroke:#1f77b4;\" x=\"131.45506\" xlink:href=\"#m8aeae4ee99\" y=\"76.440768\"/>\n     <use style=\"fill:#1f77b4;stroke:#1f77b4;\" x=\"110.725817\" xlink:href=\"#m8aeae4ee99\" y=\"61.461938\"/>\n     <use style=\"fill:#1f77b4;stroke:#1f77b4;\" x=\"138.194918\" xlink:href=\"#m8aeae4ee99\" y=\"72.382237\"/>\n     <use style=\"fill:#1f77b4;stroke:#1f77b4;\" x=\"116.068495\" xlink:href=\"#m8aeae4ee99\" y=\"61.763858\"/>\n     <use style=\"fill:#1f77b4;stroke:#1f77b4;\" x=\"105.087574\" xlink:href=\"#m8aeae4ee99\" y=\"52.534299\"/>\n     <use style=\"fill:#1f77b4;stroke:#1f77b4;\" x=\"157.46101\" xlink:href=\"#m8aeae4ee99\" y=\"75.810523\"/>\n     <use style=\"fill:#1f77b4;stroke:#1f77b4;\" x=\"129.95109\" xlink:href=\"#m8aeae4ee99\" y=\"63.720611\"/>\n     <use style=\"fill:#1f77b4;stroke:#1f77b4;\" x=\"105.733057\" xlink:href=\"#m8aeae4ee99\" y=\"54.569185\"/>\n     <use style=\"fill:#1f77b4;stroke:#1f77b4;\" x=\"147.932211\" xlink:href=\"#m8aeae4ee99\" y=\"78.697643\"/>\n     <use style=\"fill:#1f77b4;stroke:#1f77b4;\" x=\"101.438263\" xlink:href=\"#m8aeae4ee99\" y=\"49.093558\"/>\n     <use style=\"fill:#1f77b4;stroke:#1f77b4;\" x=\"112.855397\" xlink:href=\"#m8aeae4ee99\" y=\"59.922773\"/>\n     <use style=\"fill:#1f77b4;stroke:#1f77b4;\" x=\"102.667322\" xlink:href=\"#m8aeae4ee99\" y=\"42.866794\"/>\n     <use style=\"fill:#1f77b4;stroke:#1f77b4;\" x=\"136.462371\" xlink:href=\"#m8aeae4ee99\" y=\"76.760347\"/>\n     <use style=\"fill:#1f77b4;stroke:#1f77b4;\" x=\"141.804439\" xlink:href=\"#m8aeae4ee99\" y=\"84.597262\"/>\n     <use style=\"fill:#1f77b4;stroke:#1f77b4;\" x=\"123.143134\" xlink:href=\"#m8aeae4ee99\" y=\"78.879506\"/>\n     <use style=\"fill:#1f77b4;stroke:#1f77b4;\" x=\"99.710431\" xlink:href=\"#m8aeae4ee99\" y=\"53.915822\"/>\n     <use style=\"fill:#1f77b4;stroke:#1f77b4;\" x=\"159.618541\" xlink:href=\"#m8aeae4ee99\" y=\"87.25201\"/>\n     <use style=\"fill:#1f77b4;stroke:#1f77b4;\" x=\"153.674087\" xlink:href=\"#m8aeae4ee99\" y=\"85.753184\"/>\n     <use style=\"fill:#1f77b4;stroke:#1f77b4;\" x=\"133.055254\" xlink:href=\"#m8aeae4ee99\" y=\"69.605649\"/>\n     <use style=\"fill:#1f77b4;stroke:#1f77b4;\" x=\"124.402996\" xlink:href=\"#m8aeae4ee99\" y=\"60.187891\"/>\n     <use style=\"fill:#1f77b4;stroke:#1f77b4;\" x=\"118.630798\" xlink:href=\"#m8aeae4ee99\" y=\"55.983687\"/>\n     <use style=\"fill:#1f77b4;stroke:#1f77b4;\" x=\"124.936652\" xlink:href=\"#m8aeae4ee99\" y=\"71.157127\"/>\n     <use style=\"fill:#1f77b4;stroke:#1f77b4;\" x=\"174.77815\" xlink:href=\"#m8aeae4ee99\" y=\"99.959334\"/>\n     <use style=\"fill:#1f77b4;stroke:#1f77b4;\" x=\"97.698679\" xlink:href=\"#m8aeae4ee99\" y=\"64.337292\"/>\n     <use style=\"fill:#1f77b4;stroke:#1f77b4;\" x=\"139.867834\" xlink:href=\"#m8aeae4ee99\" y=\"81.054019\"/>\n     <use style=\"fill:#1f77b4;stroke:#1f77b4;\" x=\"124.851538\" xlink:href=\"#m8aeae4ee99\" y=\"45.830285\"/>\n     <use style=\"fill:#1f77b4;stroke:#1f77b4;\" x=\"134.349545\" xlink:href=\"#m8aeae4ee99\" y=\"62.925052\"/>\n     <use style=\"fill:#1f77b4;stroke:#1f77b4;\" x=\"115.193924\" xlink:href=\"#m8aeae4ee99\" y=\"65.465174\"/>\n     <use style=\"fill:#1f77b4;stroke:#1f77b4;\" x=\"157.122106\" xlink:href=\"#m8aeae4ee99\" y=\"81.468884\"/>\n     <use style=\"fill:#1f77b4;stroke:#1f77b4;\" x=\"102.743658\" xlink:href=\"#m8aeae4ee99\" y=\"55.604312\"/>\n     <use style=\"fill:#1f77b4;stroke:#1f77b4;\" x=\"147.202536\" xlink:href=\"#m8aeae4ee99\" y=\"78.120467\"/>\n     <use style=\"fill:#1f77b4;stroke:#1f77b4;\" x=\"125.18782\" xlink:href=\"#m8aeae4ee99\" y=\"56.987882\"/>\n     <use style=\"fill:#1f77b4;stroke:#1f77b4;\" x=\"103.602697\" xlink:href=\"#m8aeae4ee99\" y=\"52.59247\"/>\n     <use style=\"fill:#1f77b4;stroke:#1f77b4;\" x=\"140.637872\" xlink:href=\"#m8aeae4ee99\" y=\"80.252251\"/>\n     <use style=\"fill:#1f77b4;stroke:#1f77b4;\" x=\"171.875422\" xlink:href=\"#m8aeae4ee99\" y=\"100.118583\"/>\n     <use style=\"fill:#1f77b4;stroke:#1f77b4;\" x=\"96.634853\" xlink:href=\"#m8aeae4ee99\" y=\"51.456313\"/>\n     <use style=\"fill:#1f77b4;stroke:#1f77b4;\" x=\"156.973987\" xlink:href=\"#m8aeae4ee99\" y=\"86.354085\"/>\n     <use style=\"fill:#1f77b4;stroke:#1f77b4;\" x=\"160.394275\" xlink:href=\"#m8aeae4ee99\" y=\"106.529165\"/>\n     <use style=\"fill:#1f77b4;stroke:#1f77b4;\" x=\"107.67923\" xlink:href=\"#m8aeae4ee99\" y=\"55.033667\"/>\n     <use style=\"fill:#1f77b4;stroke:#1f77b4;\" x=\"143.651514\" xlink:href=\"#m8aeae4ee99\" y=\"55.917989\"/>\n     <use style=\"fill:#1f77b4;stroke:#1f77b4;\" x=\"109.305346\" xlink:href=\"#m8aeae4ee99\" y=\"64.331682\"/>\n     <use style=\"fill:#1f77b4;stroke:#1f77b4;\" x=\"147.326055\" xlink:href=\"#m8aeae4ee99\" y=\"72.606249\"/>\n     <use style=\"fill:#1f77b4;stroke:#1f77b4;\" x=\"127.980286\" xlink:href=\"#m8aeae4ee99\" y=\"54.727585\"/>\n     <use style=\"fill:#1f77b4;stroke:#1f77b4;\" x=\"104.733737\" xlink:href=\"#m8aeae4ee99\" y=\"63.128644\"/>\n     <use style=\"fill:#1f77b4;stroke:#1f77b4;\" x=\"105.459842\" xlink:href=\"#m8aeae4ee99\" y=\"57.886029\"/>\n     <use style=\"fill:#1f77b4;stroke:#1f77b4;\" x=\"151.606998\" xlink:href=\"#m8aeae4ee99\" y=\"79.530079\"/>\n     <use style=\"fill:#1f77b4;stroke:#1f77b4;\" x=\"91.631825\" xlink:href=\"#m8aeae4ee99\" y=\"42.167074\"/>\n     <use style=\"fill:#1f77b4;stroke:#1f77b4;\" x=\"69.773998\" xlink:href=\"#m8aeae4ee99\" y=\"30.801144\"/>\n     <use style=\"fill:#1f77b4;stroke:#1f77b4;\" x=\"138.80523\" xlink:href=\"#m8aeae4ee99\" y=\"69.083403\"/>\n     <use style=\"fill:#1f77b4;stroke:#1f77b4;\" x=\"151.163655\" xlink:href=\"#m8aeae4ee99\" y=\"88.751112\"/>\n     <use style=\"fill:#1f77b4;stroke:#1f77b4;\" x=\"117.156037\" xlink:href=\"#m8aeae4ee99\" y=\"69.595384\"/>\n     <use style=\"fill:#1f77b4;stroke:#1f77b4;\" x=\"175.323256\" xlink:href=\"#m8aeae4ee99\" y=\"92.231374\"/>\n     <use style=\"fill:#1f77b4;stroke:#1f77b4;\" x=\"184.64513\" xlink:href=\"#m8aeae4ee99\" y=\"106.299414\"/>\n     <use style=\"fill:#1f77b4;stroke:#1f77b4;\" x=\"120.596261\" xlink:href=\"#m8aeae4ee99\" y=\"52.72896\"/>\n     <use style=\"fill:#1f77b4;stroke:#1f77b4;\" x=\"110.423681\" xlink:href=\"#m8aeae4ee99\" y=\"58.880733\"/>\n     <use style=\"fill:#1f77b4;stroke:#1f77b4;\" x=\"126.013911\" xlink:href=\"#m8aeae4ee99\" y=\"47.170881\"/>\n     <use style=\"fill:#1f77b4;stroke:#1f77b4;\" x=\"115.475754\" xlink:href=\"#m8aeae4ee99\" y=\"55.556655\"/>\n    </g>\n   </g>\n   <g id=\"matplotlib.axis_1\">\n    <g id=\"xtick_1\">\n     <g id=\"line2d_1\">\n      <defs>\n       <path d=\"M 0 0 \nL 0 3.5 \n\" id=\"me5017a1a98\" style=\"stroke:#000000;stroke-width:0.8;\"/>\n      </defs>\n      <g>\n       <use style=\"stroke:#000000;stroke-width:0.8;\" x=\"77.118508\" xlink:href=\"#me5017a1a98\" y=\"143.1\"/>\n      </g>\n     </g>\n     <g id=\"text_1\">\n      <!-- −2 -->\n      <defs>\n       <path d=\"M 10.59375 35.5 \nL 73.1875 35.5 \nL 73.1875 27.203125 \nL 10.59375 27.203125 \nz\n\" id=\"DejaVuSans-8722\"/>\n       <path d=\"M 19.1875 8.296875 \nL 53.609375 8.296875 \nL 53.609375 0 \nL 7.328125 0 \nL 7.328125 8.296875 \nQ 12.9375 14.109375 22.625 23.890625 \nQ 32.328125 33.6875 34.8125 36.53125 \nQ 39.546875 41.84375 41.421875 45.53125 \nQ 43.3125 49.21875 43.3125 52.78125 \nQ 43.3125 58.59375 39.234375 62.25 \nQ 35.15625 65.921875 28.609375 65.921875 \nQ 23.96875 65.921875 18.8125 64.3125 \nQ 13.671875 62.703125 7.8125 59.421875 \nL 7.8125 69.390625 \nQ 13.765625 71.78125 18.9375 73 \nQ 24.125 74.21875 28.421875 74.21875 \nQ 39.75 74.21875 46.484375 68.546875 \nQ 53.21875 62.890625 53.21875 53.421875 \nQ 53.21875 48.921875 51.53125 44.890625 \nQ 49.859375 40.875 45.40625 35.40625 \nQ 44.1875 33.984375 37.640625 27.21875 \nQ 31.109375 20.453125 19.1875 8.296875 \nz\n\" id=\"DejaVuSans-50\"/>\n      </defs>\n      <g transform=\"translate(69.747415 157.698438)scale(0.1 -0.1)\">\n       <use xlink:href=\"#DejaVuSans-8722\"/>\n       <use x=\"83.789062\" xlink:href=\"#DejaVuSans-50\"/>\n      </g>\n     </g>\n    </g>\n    <g id=\"xtick_2\">\n     <g id=\"line2d_2\">\n      <g>\n       <use style=\"stroke:#000000;stroke-width:0.8;\" x=\"127.302648\" xlink:href=\"#me5017a1a98\" y=\"143.1\"/>\n      </g>\n     </g>\n     <g id=\"text_2\">\n      <!-- 0 -->\n      <defs>\n       <path d=\"M 31.78125 66.40625 \nQ 24.171875 66.40625 20.328125 58.90625 \nQ 16.5 51.421875 16.5 36.375 \nQ 16.5 21.390625 20.328125 13.890625 \nQ 24.171875 6.390625 31.78125 6.390625 \nQ 39.453125 6.390625 43.28125 13.890625 \nQ 47.125 21.390625 47.125 36.375 \nQ 47.125 51.421875 43.28125 58.90625 \nQ 39.453125 66.40625 31.78125 66.40625 \nz\nM 31.78125 74.21875 \nQ 44.046875 74.21875 50.515625 64.515625 \nQ 56.984375 54.828125 56.984375 36.375 \nQ 56.984375 17.96875 50.515625 8.265625 \nQ 44.046875 -1.421875 31.78125 -1.421875 \nQ 19.53125 -1.421875 13.0625 8.265625 \nQ 6.59375 17.96875 6.59375 36.375 \nQ 6.59375 54.828125 13.0625 64.515625 \nQ 19.53125 74.21875 31.78125 74.21875 \nz\n\" id=\"DejaVuSans-48\"/>\n      </defs>\n      <g transform=\"translate(124.121398 157.698438)scale(0.1 -0.1)\">\n       <use xlink:href=\"#DejaVuSans-48\"/>\n      </g>\n     </g>\n    </g>\n    <g id=\"xtick_3\">\n     <g id=\"line2d_3\">\n      <g>\n       <use style=\"stroke:#000000;stroke-width:0.8;\" x=\"177.486787\" xlink:href=\"#me5017a1a98\" y=\"143.1\"/>\n      </g>\n     </g>\n     <g id=\"text_3\">\n      <!-- 2 -->\n      <g transform=\"translate(174.305537 157.698438)scale(0.1 -0.1)\">\n       <use xlink:href=\"#DejaVuSans-50\"/>\n      </g>\n     </g>\n    </g>\n    <g id=\"xtick_4\">\n     <g id=\"line2d_4\">\n      <g>\n       <use style=\"stroke:#000000;stroke-width:0.8;\" x=\"227.670927\" xlink:href=\"#me5017a1a98\" y=\"143.1\"/>\n      </g>\n     </g>\n     <g id=\"text_4\">\n      <!-- 4 -->\n      <defs>\n       <path d=\"M 37.796875 64.3125 \nL 12.890625 25.390625 \nL 37.796875 25.390625 \nz\nM 35.203125 72.90625 \nL 47.609375 72.90625 \nL 47.609375 25.390625 \nL 58.015625 25.390625 \nL 58.015625 17.1875 \nL 47.609375 17.1875 \nL 47.609375 0 \nL 37.796875 0 \nL 37.796875 17.1875 \nL 4.890625 17.1875 \nL 4.890625 26.703125 \nz\n\" id=\"DejaVuSans-52\"/>\n      </defs>\n      <g transform=\"translate(224.489677 157.698438)scale(0.1 -0.1)\">\n       <use xlink:href=\"#DejaVuSans-52\"/>\n      </g>\n     </g>\n    </g>\n   </g>\n   <g id=\"matplotlib.axis_2\">\n    <g id=\"ytick_1\">\n     <g id=\"line2d_5\">\n      <defs>\n       <path d=\"M 0 0 \nL -3.5 0 \n\" id=\"m9679dc3b4d\" style=\"stroke:#000000;stroke-width:0.8;\"/>\n      </defs>\n      <g>\n       <use style=\"stroke:#000000;stroke-width:0.8;\" x=\"35.304688\" xlink:href=\"#m9679dc3b4d\" y=\"135.896438\"/>\n      </g>\n     </g>\n     <g id=\"text_5\">\n      <!-- −10 -->\n      <defs>\n       <path d=\"M 12.40625 8.296875 \nL 28.515625 8.296875 \nL 28.515625 63.921875 \nL 10.984375 60.40625 \nL 10.984375 69.390625 \nL 28.421875 72.90625 \nL 38.28125 72.90625 \nL 38.28125 8.296875 \nL 54.390625 8.296875 \nL 54.390625 0 \nL 12.40625 0 \nz\n\" id=\"DejaVuSans-49\"/>\n      </defs>\n      <g transform=\"translate(7.2 139.695657)scale(0.1 -0.1)\">\n       <use xlink:href=\"#DejaVuSans-8722\"/>\n       <use x=\"83.789062\" xlink:href=\"#DejaVuSans-49\"/>\n       <use x=\"147.412109\" xlink:href=\"#DejaVuSans-48\"/>\n      </g>\n     </g>\n    </g>\n    <g id=\"ytick_2\">\n     <g id=\"line2d_6\">\n      <g>\n       <use style=\"stroke:#000000;stroke-width:0.8;\" x=\"35.304688\" xlink:href=\"#m9679dc3b4d\" y=\"111.986531\"/>\n      </g>\n     </g>\n     <g id=\"text_6\">\n      <!-- −5 -->\n      <defs>\n       <path d=\"M 10.796875 72.90625 \nL 49.515625 72.90625 \nL 49.515625 64.59375 \nL 19.828125 64.59375 \nL 19.828125 46.734375 \nQ 21.96875 47.46875 24.109375 47.828125 \nQ 26.265625 48.1875 28.421875 48.1875 \nQ 40.625 48.1875 47.75 41.5 \nQ 54.890625 34.8125 54.890625 23.390625 \nQ 54.890625 11.625 47.5625 5.09375 \nQ 40.234375 -1.421875 26.90625 -1.421875 \nQ 22.3125 -1.421875 17.546875 -0.640625 \nQ 12.796875 0.140625 7.71875 1.703125 \nL 7.71875 11.625 \nQ 12.109375 9.234375 16.796875 8.0625 \nQ 21.484375 6.890625 26.703125 6.890625 \nQ 35.15625 6.890625 40.078125 11.328125 \nQ 45.015625 15.765625 45.015625 23.390625 \nQ 45.015625 31 40.078125 35.4375 \nQ 35.15625 39.890625 26.703125 39.890625 \nQ 22.75 39.890625 18.8125 39.015625 \nQ 14.890625 38.140625 10.796875 36.28125 \nz\n\" id=\"DejaVuSans-53\"/>\n      </defs>\n      <g transform=\"translate(13.5625 115.78575)scale(0.1 -0.1)\">\n       <use xlink:href=\"#DejaVuSans-8722\"/>\n       <use x=\"83.789062\" xlink:href=\"#DejaVuSans-53\"/>\n      </g>\n     </g>\n    </g>\n    <g id=\"ytick_3\">\n     <g id=\"line2d_7\">\n      <g>\n       <use style=\"stroke:#000000;stroke-width:0.8;\" x=\"35.304688\" xlink:href=\"#m9679dc3b4d\" y=\"88.076624\"/>\n      </g>\n     </g>\n     <g id=\"text_7\">\n      <!-- 0 -->\n      <g transform=\"translate(21.942187 91.875843)scale(0.1 -0.1)\">\n       <use xlink:href=\"#DejaVuSans-48\"/>\n      </g>\n     </g>\n    </g>\n    <g id=\"ytick_4\">\n     <g id=\"line2d_8\">\n      <g>\n       <use style=\"stroke:#000000;stroke-width:0.8;\" x=\"35.304688\" xlink:href=\"#m9679dc3b4d\" y=\"64.166717\"/>\n      </g>\n     </g>\n     <g id=\"text_8\">\n      <!-- 5 -->\n      <g transform=\"translate(21.942187 67.965936)scale(0.1 -0.1)\">\n       <use xlink:href=\"#DejaVuSans-53\"/>\n      </g>\n     </g>\n    </g>\n    <g id=\"ytick_5\">\n     <g id=\"line2d_9\">\n      <g>\n       <use style=\"stroke:#000000;stroke-width:0.8;\" x=\"35.304688\" xlink:href=\"#m9679dc3b4d\" y=\"40.25681\"/>\n      </g>\n     </g>\n     <g id=\"text_9\">\n      <!-- 10 -->\n      <g transform=\"translate(15.579687 44.056029)scale(0.1 -0.1)\">\n       <use xlink:href=\"#DejaVuSans-49\"/>\n       <use x=\"63.623047\" xlink:href=\"#DejaVuSans-48\"/>\n      </g>\n     </g>\n    </g>\n    <g id=\"ytick_6\">\n     <g id=\"line2d_10\">\n      <g>\n       <use style=\"stroke:#000000;stroke-width:0.8;\" x=\"35.304688\" xlink:href=\"#m9679dc3b4d\" y=\"16.346903\"/>\n      </g>\n     </g>\n     <g id=\"text_10\">\n      <!-- 15 -->\n      <g transform=\"translate(15.579687 20.146122)scale(0.1 -0.1)\">\n       <use xlink:href=\"#DejaVuSans-49\"/>\n       <use x=\"63.623047\" xlink:href=\"#DejaVuSans-53\"/>\n      </g>\n     </g>\n    </g>\n   </g>\n   <g id=\"patch_3\">\n    <path d=\"M 35.304688 143.1 \nL 35.304688 7.2 \n\" style=\"fill:none;stroke:#000000;stroke-linecap:square;stroke-linejoin:miter;stroke-width:0.8;\"/>\n   </g>\n   <g id=\"patch_4\">\n    <path d=\"M 230.604688 143.1 \nL 230.604688 7.2 \n\" style=\"fill:none;stroke:#000000;stroke-linecap:square;stroke-linejoin:miter;stroke-width:0.8;\"/>\n   </g>\n   <g id=\"patch_5\">\n    <path d=\"M 35.304688 143.1 \nL 230.604688 143.1 \n\" style=\"fill:none;stroke:#000000;stroke-linecap:square;stroke-linejoin:miter;stroke-width:0.8;\"/>\n   </g>\n   <g id=\"patch_6\">\n    <path d=\"M 35.304688 7.2 \nL 230.604688 7.2 \n\" style=\"fill:none;stroke:#000000;stroke-linecap:square;stroke-linejoin:miter;stroke-width:0.8;\"/>\n   </g>\n  </g>\n </g>\n <defs>\n  <clipPath id=\"p04eab988d8\">\n   <rect height=\"135.9\" width=\"195.3\" x=\"35.304688\" y=\"7.2\"/>\n  </clipPath>\n </defs>\n</svg>\n"
          },
          "metadata": {
            "needs_background": "light"
          }
        }
      ],
      "source": [
        "d2l.set_figsize()\n",
        "# The semicolon is for displaying the plot only\n",
        "d2l.plt.scatter(features[:, (1)].numpy(), labels.numpy(), 1);"
      ]
    },
    {
      "cell_type": "markdown",
      "id": "36253bc0-ba53-410c-86bb-7a2eb11f9592",
      "metadata": {
        "origin_pos": 5,
        "tags": [],
        "id": "36253bc0-ba53-410c-86bb-7a2eb11f9592"
      },
      "source": [
        "### Reading the Dataset\n",
        "\n",
        "In the following code [**call upon the existing API in a framework to read data.**]\n",
        "We pass in `features` and `labels` as arguments and specify `batch_size`\n",
        "when instantiating a data iterator object.\n",
        "Besides, the boolean value `is_train`\n",
        "indicates whether or not\n",
        "we want the data iterator object to shuffle the data\n",
        "on each epoch (pass through the dataset).\n"
      ]
    },
    {
      "cell_type": "markdown",
      "id": "c28419fa-707f-4a30-8d28-f18ab5d73c31",
      "metadata": {
        "id": "c28419fa-707f-4a30-8d28-f18ab5d73c31"
      },
      "source": [
        "1. **Use the tf function from_tensor_slices to generate a tf dataset object with batch_size as input**\n",
        "2. **Use is_train flag to determine whether to shuffle the dataset or not**"
      ]
    },
    {
      "cell_type": "code",
      "execution_count": 7,
      "id": "53aaab37-4b35-4ff3-9d72-292d260838a9",
      "metadata": {
        "origin_pos": 8,
        "tab": [
          "tensorflow"
        ],
        "id": "53aaab37-4b35-4ff3-9d72-292d260838a9"
      },
      "outputs": [],
      "source": [
        "def load_array(data_arrays, batch_size, is_train=True):  \n",
        "    \"\"\"Construct a TensorFlow data iterator.\"\"\"\n",
        "    #### YOUR CODE HERE ###\n",
        "    dataset = tf.data.Dataset.from_tensor_slices(data_arrays)\n",
        "    dataset = dataset.batch(batch_size)\n",
        "    if is_train == True:\n",
        "      dataset = dataset.shuffle(1100, reshuffle_each_iteration=True)\n",
        "\n",
        "    return dataset"
      ]
    },
    {
      "cell_type": "code",
      "execution_count": 8,
      "id": "1421cf52-54d8-4341-816c-a5d095bfb8c3",
      "metadata": {
        "origin_pos": 9,
        "tab": [
          "tensorflow"
        ],
        "id": "1421cf52-54d8-4341-816c-a5d095bfb8c3"
      },
      "outputs": [],
      "source": [
        "batch_size = 10\n",
        "data_iter = load_array((features, labels), batch_size)"
      ]
    },
    {
      "cell_type": "markdown",
      "id": "d6e0c589-effb-40ba-8149-3309692fed48",
      "metadata": {
        "origin_pos": 10,
        "id": "d6e0c589-effb-40ba-8149-3309692fed48"
      },
      "source": [
        "3. **Use `iter` to construct a Python iterator and use `next` to obtain the first item from the iterator.**\n"
      ]
    },
    {
      "cell_type": "code",
      "execution_count": 9,
      "id": "2144c8a5-c59c-4886-af3b-8f4353e8f7c6",
      "metadata": {
        "origin_pos": 11,
        "tab": [
          "tensorflow"
        ],
        "colab": {
          "base_uri": "https://localhost:8080/"
        },
        "id": "2144c8a5-c59c-4886-af3b-8f4353e8f7c6",
        "outputId": "7667727d-991c-4232-95d3-300fcead5994"
      },
      "outputs": [
        {
          "output_type": "stream",
          "name": "stdout",
          "text": [
            "(<tf.Tensor: shape=(10, 2), dtype=float32, numpy=\n",
            "array([[ 1.3564043e+00, -5.4133570e-01],\n",
            "       [-1.0421329e+00,  2.0101453e-01],\n",
            "       [-5.7323533e-01,  9.6179819e-01],\n",
            "       [ 9.9003541e-01, -1.0166390e+00],\n",
            "       [-2.7223310e-01, -4.9159122e-01],\n",
            "       [-8.1928289e-01, -9.0086297e-04],\n",
            "       [-2.0796096e+00,  8.4328723e-01],\n",
            "       [ 3.0477965e-01,  2.0460723e-01],\n",
            "       [ 1.1995399e+00,  2.9454825e+00],\n",
            "       [-5.4580241e-01, -6.5089208e-01]], dtype=float32)>, <tf.Tensor: shape=(10, 1), dtype=float32, numpy=\n",
            "array([[ 8.755783  ],\n",
            "       [ 1.4219627 ],\n",
            "       [-0.21046317],\n",
            "       [ 9.629394  ],\n",
            "       [ 5.3383512 ],\n",
            "       [ 2.5792086 ],\n",
            "       [-2.8150222 ],\n",
            "       [ 4.1173363 ],\n",
            "       [-3.4104102 ],\n",
            "       [ 5.3102717 ]], dtype=float32)>)\n"
          ]
        }
      ],
      "source": [
        "### YOUR CODE HERE ###\n",
        "iterator = iter(data_iter)\n",
        "print(next(iterator))\n",
        "\n"
      ]
    },
    {
      "cell_type": "markdown",
      "id": "24da4a06-3978-49c2-bcf4-cb4c1ae64f49",
      "metadata": {
        "origin_pos": 15,
        "id": "24da4a06-3978-49c2-bcf4-cb4c1ae64f49"
      },
      "source": [
        "4. **Explain what the output shape in the prvious tensors means:**\n"
      ]
    },
    {
      "cell_type": "markdown",
      "id": "c7eda004-0643-4132-b737-c1f2fc2049d9",
      "metadata": {
        "origin_pos": 16,
        "tab": [
          "tensorflow"
        ],
        "id": "c7eda004-0643-4132-b737-c1f2fc2049d9"
      },
      "source": [
        "**Answer:**\n",
        "\n",
        "they show the first batch (10 elements). first tensor is two features, second tensor is the label array which is one column"
      ]
    },
    {
      "cell_type": "markdown",
      "id": "5c83f595-3746-435e-a824-9b4011a5aa40",
      "metadata": {
        "id": "5c83f595-3746-435e-a824-9b4011a5aa40"
      },
      "source": [
        "5. **How many TOTAL batches can be generated by **ENTIRE** data_iter ?** --> batches in data"
      ]
    },
    {
      "cell_type": "markdown",
      "id": "88eb5391-71a5-45ef-8af3-8f6a33b7793c",
      "metadata": {
        "origin_pos": 16,
        "tab": [
          "tensorflow"
        ],
        "id": "88eb5391-71a5-45ef-8af3-8f6a33b7793c"
      },
      "source": [
        "**Answer:** \n",
        "100 batches can be generated \n",
        "\n",
        "data of size 1000, \n",
        "  batch size =10, \n",
        "  total batches = 100"
      ]
    },
    {
      "cell_type": "markdown",
      "id": "71628cba-f449-4139-a02a-f4b9e6b53545",
      "metadata": {
        "origin_pos": 17,
        "tags": [],
        "id": "71628cba-f449-4139-a02a-f4b9e6b53545"
      },
      "source": [
        "### Initializing Model Parameters\n",
        "\n",
        "6. **Initialize weights by sampling random numbers from a normal distribution with mean 0 and a standard deviation of 0.01, and setting the bias to 0.**\n",
        "\n",
        "Note: For the shapes of the weights and bias, look at the generating a dataset part\n"
      ]
    },
    {
      "cell_type": "code",
      "execution_count": 10,
      "id": "db96e147-7256-4a1e-8c8a-6b89df19f117",
      "metadata": {
        "origin_pos": 20,
        "tab": [
          "tensorflow"
        ],
        "id": "db96e147-7256-4a1e-8c8a-6b89df19f117"
      },
      "outputs": [],
      "source": [
        "## YOUR CODE HERE ##\n",
        "w = tf.Variable(tf.random.normal((2,1) , 0.0 , 0.01))\n",
        "b =  tf.Variable(tf.zeros(1,1))\n"
      ]
    },
    {
      "cell_type": "markdown",
      "id": "09bbcd34-e487-4751-b8ff-a0f932350562",
      "metadata": {
        "origin_pos": 21,
        "id": "09bbcd34-e487-4751-b8ff-a0f932350562"
      },
      "source": [
        "### Defining the Model\n",
        "\n",
        "7. [**define our model, relating its inputs and parameters to its outputs.**]"
      ]
    },
    {
      "cell_type": "code",
      "execution_count": 11,
      "id": "a892f99c-9846-4b4c-bf89-dd552ca2fd26",
      "metadata": {
        "origin_pos": 22,
        "tab": [
          "tensorflow"
        ],
        "id": "a892f99c-9846-4b4c-bf89-dd552ca2fd26"
      },
      "outputs": [],
      "source": [
        "def linreg(X, w, b):  \n",
        "    \"\"\"The linear regression model.\"\"\"\n",
        "    ## YOUR CODE HERE ##\n",
        "    model = tf.matmul(X,w ) + b\n",
        "    return model"
      ]
    },
    {
      "cell_type": "markdown",
      "id": "78acdc39-21c6-4125-b0de-b7a14a9c93eb",
      "metadata": {
        "origin_pos": 23,
        "id": "78acdc39-21c6-4125-b0de-b7a14a9c93eb"
      },
      "source": [
        "### Defining the Loss Function\n",
        "\n",
        "8. (**define the loss function**): the squared loss function\n",
        "as described in Loss Function definition above.\n",
        "\n",
        "Note: In the implementation, you need to transform the true value `y`\n",
        "into the predicted value's shape `y_hat`.\n",
        "The result returned by the following function\n",
        "will also have the same shape as `y_hat`.\n"
      ]
    },
    {
      "cell_type": "code",
      "execution_count": 12,
      "id": "37e04bc2-0d67-4204-b0bf-b99ff8a1d0d3",
      "metadata": {
        "origin_pos": 24,
        "tab": [
          "tensorflow"
        ],
        "id": "37e04bc2-0d67-4204-b0bf-b99ff8a1d0d3"
      },
      "outputs": [],
      "source": [
        "def squared_loss(y_hat, y):  \n",
        "    \"\"\"Squared loss.\"\"\"\n",
        "    ## YOUR CODE HERE ##\n",
        "    y_reshape = tf.reshape(y,(y_hat.shape))\n",
        "    loss = (y_hat-y_reshape)**2\n",
        "    return loss"
      ]
    },
    {
      "cell_type": "markdown",
      "id": "212f6a87-1c81-4aa1-aebe-41334d719398",
      "metadata": {
        "origin_pos": 25,
        "id": "212f6a87-1c81-4aa1-aebe-41334d719398"
      },
      "source": [
        "### Defining the Optimization Algorithm\n",
        "\n",
        "At each step, using one minibatch randomly drawn from our dataset,\n",
        "we will estimate the gradient of the loss with respect to our parameters.\n",
        "Next, we will update our parameters\n",
        "in the direction that may reduce the loss.\n",
        "\n",
        "9. **Filll in the missing function below to apply the minibatch stochastic gradient descent update, given a set of parameters, a learning rate, and a batch size.**\n",
        "\n",
        "Note: use assign_sub\n"
      ]
    },
    {
      "cell_type": "code",
      "execution_count": 13,
      "id": "ddfe9ccd-271e-4fc3-ab9a-3720d6bf4b23",
      "metadata": {
        "origin_pos": 28,
        "tab": [
          "tensorflow"
        ],
        "id": "ddfe9ccd-271e-4fc3-ab9a-3720d6bf4b23"
      },
      "outputs": [],
      "source": [
        "def sgd(params, grads, lr, batch_size):  \n",
        "    \"\"\"Minibatch stochastic gradient descent.\"\"\"\n",
        "    ## YOUR CODE HERE ##\n",
        "    for param, grad in zip(params, grads):\n",
        "       tf.compat.v1.assign_sub(param , lr*grad/batch_size)\n",
        "    return params"
      ]
    },
    {
      "cell_type": "markdown",
      "id": "9016fa58-4d4b-44b1-91a1-6f1e8995c9f7",
      "metadata": {
        "origin_pos": 29,
        "id": "9016fa58-4d4b-44b1-91a1-6f1e8995c9f7"
      },
      "source": [
        "### Training\n",
        "\n",
        "10. **Implement the following loop**\n",
        "\n",
        "* For each epoch :\n",
        "    * Initialize parameters $(\\mathbf{w}, b)$\n",
        "    * Repeat until done\n",
        "        * Compute gradient $\\mathbf{g} \\leftarrow \\partial_{(\\mathbf{w},b)} \\frac{1}{|\\mathcal{B}|} \\sum_{i \\in \\mathcal{B}} l(\\mathbf{x}^{(i)}, y^{(i)}, \\mathbf{w}, b)$\n",
        "        * Update parameters $(\\mathbf{w}, b) \\leftarrow (\\mathbf{w}, b) - \\eta \\mathbf{g}$\n",
        "    * Print the loss at the end of each epoch\n",
        "\n",
        "In each *epoch*,\n",
        "we will iterate through the entire dataset\n",
        "(using the `data_iter` function) once\n",
        "passing through every example in the training dataset\n",
        ".\n",
        "\n",
        "\n",
        "Set the number of epochs `num_epochs` and the learning rate `lr` to 3 and 0.03, respectively."
      ]
    },
    {
      "cell_type": "code",
      "execution_count": 14,
      "id": "50a93813-59c4-48e7-beaf-d27fb707a96f",
      "metadata": {
        "origin_pos": 30,
        "tab": [
          "tensorflow"
        ],
        "id": "50a93813-59c4-48e7-beaf-d27fb707a96f"
      },
      "outputs": [],
      "source": [
        "lr = 0.03\n",
        "num_epochs = 3\n",
        "net = linreg\n",
        "loss = squared_loss"
      ]
    },
    {
      "cell_type": "code",
      "execution_count": 15,
      "id": "7f2d2d6e-1661-4737-b135-887221607b48",
      "metadata": {
        "origin_pos": 33,
        "tab": [
          "tensorflow"
        ],
        "id": "7f2d2d6e-1661-4737-b135-887221607b48",
        "colab": {
          "base_uri": "https://localhost:8080/"
        },
        "outputId": "e2a00b89-1290-4989-ac4b-44563e387d46"
      },
      "outputs": [
        {
          "output_type": "stream",
          "name": "stdout",
          "text": [
            "epoch 1, loss 0.000384\n",
            "<tf.Variable 'Variable:0' shape=(2, 1) dtype=float32, numpy=\n",
            "array([[ 1.9903506],\n",
            "       [-3.3899794]], dtype=float32)> <tf.Variable 'Variable:0' shape=(1,) dtype=float32, numpy=array([4.1896787], dtype=float32)>\n",
            "epoch 2, loss 0.000107\n",
            "<tf.Variable 'Variable:0' shape=(2, 1) dtype=float32, numpy=\n",
            "array([[ 2.001463 ],\n",
            "       [-3.3994346]], dtype=float32)> <tf.Variable 'Variable:0' shape=(1,) dtype=float32, numpy=array([4.1997848], dtype=float32)>\n",
            "epoch 3, loss 0.000107\n",
            "<tf.Variable 'Variable:0' shape=(2, 1) dtype=float32, numpy=\n",
            "array([[ 2.0009267],\n",
            "       [-3.3990777]], dtype=float32)> <tf.Variable 'Variable:0' shape=(1,) dtype=float32, numpy=array([4.199387], dtype=float32)>\n"
          ]
        }
      ],
      "source": [
        "## YOUR CODE HERE ##\n",
        "# w = tf.Variable(w ,dtype=float)\n",
        "# b= tf.Variable(b, dtype=float)\n",
        "for epoch in range(num_epochs):\n",
        "  for X,y in data_iter:\n",
        "      with tf.GradientTape() as tape:\n",
        "        tape.watch([w,b])\n",
        "        ypred = net(X,w,b)\n",
        "        loss_arr = loss(ypred , y)\n",
        "      dw, db = tape.gradient(loss_arr , [w,b])\n",
        "      w,b= sgd([w,b] , [dw , db] ,lr, batch_size)\n",
        "\n",
        "  eloss = loss(net(features,w,b) , labels)\n",
        "  print(f'epoch {epoch + 1}, loss {float(np.mean(eloss)):f}')\n",
        "  print( w ,b )"
      ]
    },
    {
      "cell_type": "code",
      "source": [
        "print(w , b)"
      ],
      "metadata": {
        "colab": {
          "base_uri": "https://localhost:8080/"
        },
        "id": "M4WEgkoH_Foi",
        "outputId": "73d52cef-9320-4208-e625-54a5ae1c344f"
      },
      "id": "M4WEgkoH_Foi",
      "execution_count": 16,
      "outputs": [
        {
          "output_type": "stream",
          "name": "stdout",
          "text": [
            "<tf.Variable 'Variable:0' shape=(2, 1) dtype=float32, numpy=\n",
            "array([[ 2.0009267],\n",
            "       [-3.3990777]], dtype=float32)> <tf.Variable 'Variable:0' shape=(1,) dtype=float32, numpy=array([4.199387], dtype=float32)>\n"
          ]
        }
      ]
    },
    {
      "cell_type": "markdown",
      "id": "393f4953-35dc-46c1-b495-96172232bc3f",
      "metadata": {
        "origin_pos": 34,
        "id": "393f4953-35dc-46c1-b495-96172232bc3f"
      },
      "source": [
        "In this case, because we synthesized the dataset ourselves,\n",
        "we know precisely what the true parameters are.\n",
        "\n",
        "11. [**evaluate our success in training by comparing the true parameters with those that we learned**] through our training loop. They should turn out to be very close to each other.\n"
      ]
    },
    {
      "cell_type": "code",
      "execution_count": 17,
      "id": "c99daff3-745a-43fd-898e-bbf1e3804c78",
      "metadata": {
        "origin_pos": 35,
        "tab": [
          "tensorflow"
        ],
        "id": "c99daff3-745a-43fd-898e-bbf1e3804c78",
        "colab": {
          "base_uri": "https://localhost:8080/"
        },
        "outputId": "63d31355-b46c-47d7-86fa-17c3786a58f1"
      },
      "outputs": [
        {
          "output_type": "stream",
          "name": "stdout",
          "text": [
            "error in estimating w: [[-9.2673302e-04 -5.4009266e+00]\n",
            " [ 5.3990774e+00 -9.2244148e-04]]\n",
            "error in estimating b: [0.00061274]\n"
          ]
        }
      ],
      "source": [
        "## YOUR CODE HERE ##\n",
        "print(f'error in estimating w: {true_w-w}')\n",
        "print(f'error in estimating b: {true_b-b}')"
      ]
    },
    {
      "cell_type": "markdown",
      "id": "3f7b518a-c2ac-4f0e-941b-98d300ed9963",
      "metadata": {
        "id": "3f7b518a-c2ac-4f0e-941b-98d300ed9963"
      },
      "source": [
        "## Part 2  Diabetes Dataset"
      ]
    },
    {
      "cell_type": "markdown",
      "id": "06b07d9c-b52e-4f52-8e70-f7a4bebd63bb",
      "metadata": {
        "id": "06b07d9c-b52e-4f52-8e70-f7a4bebd63bb"
      },
      "source": [
        "In this section, we will use SKLEARN's Diabetes dataset"
      ]
    },
    {
      "cell_type": "markdown",
      "id": "e0cef42e-4494-4f16-b2d2-7cfe68c51e3d",
      "metadata": {
        "id": "e0cef42e-4494-4f16-b2d2-7cfe68c51e3d"
      },
      "source": [
        "### Loading the Dataset"
      ]
    },
    {
      "cell_type": "markdown",
      "id": "2aea7770-afb6-45f2-93b1-b9c72df36bc0",
      "metadata": {
        "id": "2aea7770-afb6-45f2-93b1-b9c72df36bc0"
      },
      "source": [
        "1. **Load the Diabetes dataset from sklearn**"
      ]
    },
    {
      "cell_type": "code",
      "execution_count": 18,
      "id": "f07dc3b6-c48e-4a37-8f73-3500f344e717",
      "metadata": {
        "id": "f07dc3b6-c48e-4a37-8f73-3500f344e717"
      },
      "outputs": [],
      "source": [
        "from sklearn.datasets import load_diabetes\n",
        "## YOUR CODE HERE ##\n",
        "# Load the diabetes dataset\n",
        "dataset = load_diabetes()"
      ]
    },
    {
      "cell_type": "markdown",
      "id": "aa95939c-f94a-4383-9e4b-18c86af1cebf",
      "metadata": {
        "id": "aa95939c-f94a-4383-9e4b-18c86af1cebf"
      },
      "source": [
        "2. **Look at the keys of diabetes_dataset dictionary**"
      ]
    },
    {
      "cell_type": "code",
      "execution_count": 19,
      "id": "1c92cb43-cb3d-47f1-8535-c4439f585412",
      "metadata": {
        "colab": {
          "base_uri": "https://localhost:8080/"
        },
        "id": "1c92cb43-cb3d-47f1-8535-c4439f585412",
        "outputId": "36b766e6-9f5e-476a-f9e4-3aaf3165f816"
      },
      "outputs": [
        {
          "output_type": "stream",
          "name": "stdout",
          "text": [
            "dict_keys(['data', 'target', 'frame', 'DESCR', 'feature_names', 'data_filename', 'target_filename', 'data_module'])\n"
          ]
        }
      ],
      "source": [
        "## YOUR CODE HERE ##\n",
        "\n",
        "### Look at keys to determine the data\n",
        "print(dataset.keys())\n"
      ]
    },
    {
      "cell_type": "markdown",
      "id": "484a2460-7023-4468-9399-3a40d00ba55c",
      "metadata": {
        "id": "484a2460-7023-4468-9399-3a40d00ba55c"
      },
      "source": [
        "3. **Use the key DESCR to understand the dataset**"
      ]
    },
    {
      "cell_type": "code",
      "execution_count": 20,
      "id": "87437737-e0d0-4e18-a841-ab214ed2261b",
      "metadata": {
        "colab": {
          "base_uri": "https://localhost:8080/"
        },
        "id": "87437737-e0d0-4e18-a841-ab214ed2261b",
        "outputId": "45d43ebb-361b-48ab-df16-b5759e194e13"
      },
      "outputs": [
        {
          "output_type": "stream",
          "name": "stdout",
          "text": [
            ".. _diabetes_dataset:\n",
            "\n",
            "Diabetes dataset\n",
            "----------------\n",
            "\n",
            "Ten baseline variables, age, sex, body mass index, average blood\n",
            "pressure, and six blood serum measurements were obtained for each of n =\n",
            "442 diabetes patients, as well as the response of interest, a\n",
            "quantitative measure of disease progression one year after baseline.\n",
            "\n",
            "**Data Set Characteristics:**\n",
            "\n",
            "  :Number of Instances: 442\n",
            "\n",
            "  :Number of Attributes: First 10 columns are numeric predictive values\n",
            "\n",
            "  :Target: Column 11 is a quantitative measure of disease progression one year after baseline\n",
            "\n",
            "  :Attribute Information:\n",
            "      - age     age in years\n",
            "      - sex\n",
            "      - bmi     body mass index\n",
            "      - bp      average blood pressure\n",
            "      - s1      tc, total serum cholesterol\n",
            "      - s2      ldl, low-density lipoproteins\n",
            "      - s3      hdl, high-density lipoproteins\n",
            "      - s4      tch, total cholesterol / HDL\n",
            "      - s5      ltg, possibly log of serum triglycerides level\n",
            "      - s6      glu, blood sugar level\n",
            "\n",
            "Note: Each of these 10 feature variables have been mean centered and scaled by the standard deviation times `n_samples` (i.e. the sum of squares of each column totals 1).\n",
            "\n",
            "Source URL:\n",
            "https://www4.stat.ncsu.edu/~boos/var.select/diabetes.html\n",
            "\n",
            "For more information see:\n",
            "Bradley Efron, Trevor Hastie, Iain Johnstone and Robert Tibshirani (2004) \"Least Angle Regression,\" Annals of Statistics (with discussion), 407-499.\n",
            "(https://web.stanford.edu/~hastie/Papers/LARS/LeastAngle_2002.pdf)\n"
          ]
        }
      ],
      "source": [
        "## YOUR CODE HERE ##\n",
        "print(dataset.DESCR)\n"
      ]
    },
    {
      "cell_type": "markdown",
      "id": "6472180c-ebb8-44f9-8bab-c507e256ef39",
      "metadata": {
        "id": "6472180c-ebb8-44f9-8bab-c507e256ef39"
      },
      "source": [
        "4. **Save the data and target variables in numpy arrays and print their shapes**"
      ]
    },
    {
      "cell_type": "code",
      "execution_count": 21,
      "id": "8fc2a160-b33f-44c5-83a7-08beb821a64a",
      "metadata": {
        "colab": {
          "base_uri": "https://localhost:8080/"
        },
        "id": "8fc2a160-b33f-44c5-83a7-08beb821a64a",
        "outputId": "e8acb195-853f-4224-cd42-88632b91840f"
      },
      "outputs": [
        {
          "output_type": "stream",
          "name": "stdout",
          "text": [
            "The shape of data is: (442, 10)\n",
            "The shape of targets is: (442,)\n",
            "I have f = 10 features!\n",
            "I have m = 442 examples!\n"
          ]
        }
      ],
      "source": [
        "### START CODE HERE ### (≈ 2 lines of code)\n",
        "data = np.array(dataset.data)\n",
        "targets = np.array(dataset.target)\n",
        "### END CODE HERE ###\n",
        "\n",
        "print ('The shape of data is: ' + str(data.shape))\n",
        "print ('The shape of targets is: ' + str(targets.shape))\n",
        "print ('I have f = %d features!' % (data.shape[1]))\n",
        "print ('I have m = %d examples!' % (data.shape[0]))"
      ]
    },
    {
      "cell_type": "code",
      "source": [
        "print(np.unique(targets).shape)"
      ],
      "metadata": {
        "colab": {
          "base_uri": "https://localhost:8080/"
        },
        "id": "aNOxYzeCx4Gl",
        "outputId": "4144f444-714c-4486-e5b4-57bf3a90a3c6"
      },
      "id": "aNOxYzeCx4Gl",
      "execution_count": null,
      "outputs": [
        {
          "output_type": "stream",
          "name": "stdout",
          "text": [
            "(214,)\n"
          ]
        }
      ]
    },
    {
      "cell_type": "markdown",
      "id": "52f4ad51-a6a3-4cfc-9c64-6e7a44545d66",
      "metadata": {
        "id": "52f4ad51-a6a3-4cfc-9c64-6e7a44545d66"
      },
      "source": [
        "5. **What are the ranges of each column in features and the target column?**\n",
        "\n",
        "    - *Hint* you might find it helpful to convert to pandas dataframe and use \".describe\""
      ]
    },
    {
      "cell_type": "code",
      "execution_count": 22,
      "id": "1e4d03cc-c705-4e4e-81f7-6d49a6e86fbd",
      "metadata": {
        "colab": {
          "base_uri": "https://localhost:8080/"
        },
        "id": "1e4d03cc-c705-4e4e-81f7-6d49a6e86fbd",
        "outputId": "2e57bc7f-364c-4f5a-dfa6-fe01e0c8fa3e"
      },
      "outputs": [
        {
          "output_type": "stream",
          "name": "stdout",
          "text": [
            "                  0             1             2             3             4  \\\n",
            "count  4.420000e+02  4.420000e+02  4.420000e+02  4.420000e+02  4.420000e+02   \n",
            "mean  -3.639623e-16  1.309912e-16 -8.013951e-16  1.289818e-16 -9.042540e-17   \n",
            "std    4.761905e-02  4.761905e-02  4.761905e-02  4.761905e-02  4.761905e-02   \n",
            "min   -1.072256e-01 -4.464164e-02 -9.027530e-02 -1.123996e-01 -1.267807e-01   \n",
            "25%   -3.729927e-02 -4.464164e-02 -3.422907e-02 -3.665645e-02 -3.424784e-02   \n",
            "50%    5.383060e-03 -4.464164e-02 -7.283766e-03 -5.670611e-03 -4.320866e-03   \n",
            "75%    3.807591e-02  5.068012e-02  3.124802e-02  3.564384e-02  2.835801e-02   \n",
            "max    1.107267e-01  5.068012e-02  1.705552e-01  1.320442e-01  1.539137e-01   \n",
            "\n",
            "                  5             6             7             8             9  \n",
            "count  4.420000e+02  4.420000e+02  4.420000e+02  4.420000e+02  4.420000e+02  \n",
            "mean   1.301121e-16 -4.563971e-16  3.863174e-16 -3.848103e-16 -3.398488e-16  \n",
            "std    4.761905e-02  4.761905e-02  4.761905e-02  4.761905e-02  4.761905e-02  \n",
            "min   -1.156131e-01 -1.023071e-01 -7.639450e-02 -1.260974e-01 -1.377672e-01  \n",
            "25%   -3.035840e-02 -3.511716e-02 -3.949338e-02 -3.324879e-02 -3.317903e-02  \n",
            "50%   -3.819065e-03 -6.584468e-03 -2.592262e-03 -1.947634e-03 -1.077698e-03  \n",
            "75%    2.984439e-02  2.931150e-02  3.430886e-02  3.243323e-02  2.791705e-02  \n",
            "max    1.987880e-01  1.811791e-01  1.852344e-01  1.335990e-01  1.356118e-01  \n"
          ]
        }
      ],
      "source": [
        "### START CODE HERE ###\n",
        "dataF = pd.DataFrame(dataset.data)\n",
        "s = dataF.describe()\n",
        "print(s)\n",
        "### END CODE HERE ###"
      ]
    },
    {
      "cell_type": "code",
      "source": [
        "dataff = pd.DataFrame(dataset.target)\n",
        "s = dataff.describe()\n",
        "print(s)"
      ],
      "metadata": {
        "colab": {
          "base_uri": "https://localhost:8080/"
        },
        "id": "LPmCh2QvqBhg",
        "outputId": "9889d49b-c8f9-45a6-8cc0-b63376037649"
      },
      "id": "LPmCh2QvqBhg",
      "execution_count": 23,
      "outputs": [
        {
          "output_type": "stream",
          "name": "stdout",
          "text": [
            "                0\n",
            "count  442.000000\n",
            "mean   152.133484\n",
            "std     77.093005\n",
            "min     25.000000\n",
            "25%     87.000000\n",
            "50%    140.500000\n",
            "75%    211.500000\n",
            "max    346.000000\n"
          ]
        }
      ]
    },
    {
      "cell_type": "markdown",
      "id": "742f762c-fe10-42be-a3d6-7cbb4df68c0d",
      "metadata": {
        "id": "742f762c-fe10-42be-a3d6-7cbb4df68c0d"
      },
      "source": [
        "### Preparing the data"
      ]
    },
    {
      "cell_type": "markdown",
      "id": "4c879c44-aec4-4c29-aa2a-76a1d48171e6",
      "metadata": {
        "id": "4c879c44-aec4-4c29-aa2a-76a1d48171e6"
      },
      "source": [
        "6. **Split the data into train and test set using sklearn train_test_split.** Have the test set as 10% of data"
      ]
    },
    {
      "cell_type": "code",
      "execution_count": 24,
      "id": "ced08578-8d2c-4e2b-ae34-4f6fa8f4326d",
      "metadata": {
        "colab": {
          "base_uri": "https://localhost:8080/"
        },
        "id": "ced08578-8d2c-4e2b-ae34-4f6fa8f4326d",
        "outputId": "fdc79820-f119-46f4-b8b1-23e01f6d0678"
      },
      "outputs": [
        {
          "output_type": "stream",
          "name": "stdout",
          "text": [
            "Shape of training data is (397, 10)\n",
            "Shape of training targets is (397,)\n",
            "Shape of test data is (45, 10)\n",
            "Shape of test targets is (45,)\n"
          ]
        }
      ],
      "source": [
        "from sklearn.model_selection import train_test_split\n",
        "np.random.seed(0)\n",
        "### START CODE HERE ###\n",
        "train_data, test_data ,train_targets , test_targets = train_test_split(data,targets,test_size = 0.1, random_state=20)\n",
        "### END CODE HERE ###\n",
        "\n",
        "print(\"Shape of training data is\", train_data.shape)\n",
        "print(\"Shape of training targets is\", train_targets.shape)\n",
        "print(\"Shape of test data is\", test_data.shape)\n",
        "print(\"Shape of test targets is\", test_targets.shape)"
      ]
    },
    {
      "cell_type": "markdown",
      "id": "e18cbdeb-252c-450b-b85a-d35d5989f928",
      "metadata": {
        "id": "e18cbdeb-252c-450b-b85a-d35d5989f928"
      },
      "source": [
        "- *feature-wise normalization*: for each feature in the input data (a column in the input data matrix), we subtract the mean of the feature and divide by the standard deviation, so that the feature is centered around 0 and has a unit standard deviation. This is easily done in NumPy.\n",
        "- **Question:** Shold we normalize features? WHY?\n",
        "    - ANSWER: No we shouldn't , because they are already normalized around zero "
      ]
    },
    {
      "cell_type": "markdown",
      "id": "e679d2b1-eded-4768-8954-c6cdfde3e207",
      "metadata": {
        "id": "e679d2b1-eded-4768-8954-c6cdfde3e207"
      },
      "source": [
        "7. **normalize the targets using standard normalization**\n",
        "\n",
        "Hint: Avoid leak between train and test data !!"
      ]
    },
    {
      "cell_type": "code",
      "execution_count": 25,
      "id": "f18246d4-dbd8-403a-9db9-a72360eaaebb",
      "metadata": {
        "id": "f18246d4-dbd8-403a-9db9-a72360eaaebb",
        "colab": {
          "base_uri": "https://localhost:8080/"
        },
        "outputId": "37116573-863b-4b46-fed8-6c43053de183"
      },
      "outputs": [
        {
          "output_type": "stream",
          "name": "stdout",
          "text": [
            "(397, 10)\n",
            "(397,)\n"
          ]
        }
      ],
      "source": [
        "# ### START CODE HERE ### (≈ 6 lines of code)\n",
        "mean = np.mean(train_targets, axis =0)\n",
        "std = np.std(train_targets , axis=0)\n",
        "train_targets = (train_targets-mean)/std\n",
        "test_targets = (test_targets-mean)/std\n",
        "# ### END CODE HERE ###\n",
        "print(train_data.shape)\n",
        "print(train_targets.shape)"
      ]
    },
    {
      "cell_type": "markdown",
      "id": "130ed50b-010c-488f-b1d0-aa2919fdf01d",
      "metadata": {
        "id": "130ed50b-010c-488f-b1d0-aa2919fdf01d"
      },
      "source": [
        "### Building your model"
      ]
    },
    {
      "cell_type": "markdown",
      "id": "9dca53c6-d8c6-4a93-876e-080cb537e98a",
      "metadata": {
        "id": "9dca53c6-d8c6-4a93-876e-080cb537e98a"
      },
      "source": [
        "7. **Use tf.keras.Sequential to build a model with:**\n",
        "    - 6 hidden layers each having 128 neurons and relu activation.\n",
        "    - 1 output layer\n",
        "    - use input_shape argument to specify input size in 1st layer\n",
        "- **Question:** How many neurons should be in output layer? What should be the activation?\n",
        "    - ANSWER: 1  , linear activation"
      ]
    },
    {
      "cell_type": "code",
      "execution_count": 26,
      "id": "cc9bc68e-d3a4-42c6-b1e1-42c2c97fa651",
      "metadata": {
        "id": "cc9bc68e-d3a4-42c6-b1e1-42c2c97fa651"
      },
      "outputs": [],
      "source": [
        "def build_model(input_shape):\n",
        "    ### START CODE HERE ### ()\n",
        "\n",
        "    model = tf.keras.Sequential([\n",
        "        tf.keras.layers.InputLayer(input_shape = input_shape),\n",
        "        tf.keras.layers.Dense(128, activation = \"relu\"),\n",
        "        tf.keras.layers.Dense(128, activation = \"relu\"),\n",
        "        tf.keras.layers.Dense(128, activation = \"relu\"),\n",
        "        tf.keras.layers.Dense(128, activation = \"relu\"),\n",
        "        tf.keras.layers.Dense(128, activation = \"relu\"),\n",
        "        tf.keras.layers.Dense(128, activation = \"relu\"),\n",
        "        tf.keras.layers.Dense(1, activation = \"linear\")]\n",
        "    )\n",
        "    return model"
      ]
    },
    {
      "cell_type": "code",
      "execution_count": 27,
      "id": "cfe03837-d15a-4879-b9db-0477d01baa23",
      "metadata": {
        "colab": {
          "base_uri": "https://localhost:8080/"
        },
        "id": "cfe03837-d15a-4879-b9db-0477d01baa23",
        "outputId": "efc1553f-1e56-4e0d-d07e-7944ad311737"
      },
      "outputs": [
        {
          "output_type": "stream",
          "name": "stdout",
          "text": [
            "Model: \"sequential\"\n",
            "_________________________________________________________________\n",
            " Layer (type)                Output Shape              Param #   \n",
            "=================================================================\n",
            " dense (Dense)               (None, 128)               1408      \n",
            "                                                                 \n",
            " dense_1 (Dense)             (None, 128)               16512     \n",
            "                                                                 \n",
            " dense_2 (Dense)             (None, 128)               16512     \n",
            "                                                                 \n",
            " dense_3 (Dense)             (None, 128)               16512     \n",
            "                                                                 \n",
            " dense_4 (Dense)             (None, 128)               16512     \n",
            "                                                                 \n",
            " dense_5 (Dense)             (None, 128)               16512     \n",
            "                                                                 \n",
            " dense_6 (Dense)             (None, 1)                 129       \n",
            "                                                                 \n",
            "=================================================================\n",
            "Total params: 84,097\n",
            "Trainable params: 84,097\n",
            "Non-trainable params: 0\n",
            "_________________________________________________________________\n",
            "None\n"
          ]
        }
      ],
      "source": [
        "# Print the model summary\n",
        "input_shape=(train_data.shape[-1],)\n",
        "model = build_model(input_shape)\n",
        "print(model.summary())"
      ]
    },
    {
      "cell_type": "markdown",
      "id": "114f2e34-fa34-4312-bbe8-c929d350c89f",
      "metadata": {
        "id": "114f2e34-fa34-4312-bbe8-c929d350c89f"
      },
      "source": [
        "8. **Compile the model using optimizer=Adam, loss=mean squared loss, metrics=mean absoluute error:**"
      ]
    },
    {
      "cell_type": "code",
      "execution_count": 28,
      "id": "8a438445-aac4-4913-8012-6d7095b09ed1",
      "metadata": {
        "id": "8a438445-aac4-4913-8012-6d7095b09ed1"
      },
      "outputs": [],
      "source": [
        "### START CODE HERE ### ()\n",
        "model.compile(optimizer = tf.optimizers.Adam(),\n",
        "              loss = tf.keras.losses.MeanSquaredError(),\n",
        "              metrics=tf.keras.metrics.MeanAbsoluteError())\n"
      ]
    },
    {
      "cell_type": "markdown",
      "id": "f9eb30a2-e09f-4298-8210-998eb79eb7a9",
      "metadata": {
        "id": "f9eb30a2-e09f-4298-8210-998eb79eb7a9"
      },
      "source": [
        "Note that we compile the model with the mse loss function—mean squared error, the\n",
        "square of the difference between the predictions and the targets. We’re also monitoring a new metric during training: mean absolute error (MAE). It’s the\n",
        "absolute value of the difference between the predictions and the targets."
      ]
    },
    {
      "cell_type": "markdown",
      "id": "36507d6f-cd6d-47fa-b74c-fd7e14c9d9ba",
      "metadata": {
        "id": "36507d6f-cd6d-47fa-b74c-fd7e14c9d9ba"
      },
      "source": [
        "9. **FIT the model using for 100 epochs, 64 batch size and a validation split of 0.15**"
      ]
    },
    {
      "cell_type": "code",
      "execution_count": 29,
      "id": "1f63ab80-1353-4997-aba5-4e6299bee5d7",
      "metadata": {
        "tags": [],
        "colab": {
          "base_uri": "https://localhost:8080/"
        },
        "id": "1f63ab80-1353-4997-aba5-4e6299bee5d7",
        "outputId": "c36fdae8-761c-43c5-f251-7bbc8c76541a"
      },
      "outputs": [
        {
          "output_type": "stream",
          "name": "stdout",
          "text": [
            "Epoch 1/100\n",
            "6/6 [==============================] - 1s 43ms/step - loss: 0.9797 - mean_absolute_error: 0.8472 - val_loss: 1.0231 - val_mean_absolute_error: 0.8745\n",
            "Epoch 2/100\n",
            "6/6 [==============================] - 0s 7ms/step - loss: 0.9012 - mean_absolute_error: 0.8140 - val_loss: 0.8721 - val_mean_absolute_error: 0.8098\n",
            "Epoch 3/100\n",
            "6/6 [==============================] - 0s 7ms/step - loss: 0.6958 - mean_absolute_error: 0.7111 - val_loss: 0.6652 - val_mean_absolute_error: 0.7026\n",
            "Epoch 4/100\n",
            "6/6 [==============================] - 0s 7ms/step - loss: 0.5171 - mean_absolute_error: 0.5819 - val_loss: 0.6362 - val_mean_absolute_error: 0.6700\n",
            "Epoch 5/100\n",
            "6/6 [==============================] - 0s 8ms/step - loss: 0.4485 - mean_absolute_error: 0.5228 - val_loss: 0.5514 - val_mean_absolute_error: 0.6431\n",
            "Epoch 6/100\n",
            "6/6 [==============================] - 0s 8ms/step - loss: 0.4948 - mean_absolute_error: 0.5825 - val_loss: 0.6821 - val_mean_absolute_error: 0.7076\n",
            "Epoch 7/100\n",
            "6/6 [==============================] - 0s 7ms/step - loss: 0.4329 - mean_absolute_error: 0.5278 - val_loss: 0.5807 - val_mean_absolute_error: 0.6213\n",
            "Epoch 8/100\n",
            "6/6 [==============================] - 0s 7ms/step - loss: 0.4854 - mean_absolute_error: 0.5540 - val_loss: 0.6750 - val_mean_absolute_error: 0.6955\n",
            "Epoch 9/100\n",
            "6/6 [==============================] - 0s 7ms/step - loss: 0.4396 - mean_absolute_error: 0.5288 - val_loss: 0.5377 - val_mean_absolute_error: 0.6056\n",
            "Epoch 10/100\n",
            "6/6 [==============================] - 0s 8ms/step - loss: 0.4310 - mean_absolute_error: 0.5282 - val_loss: 0.6012 - val_mean_absolute_error: 0.6582\n",
            "Epoch 11/100\n",
            "6/6 [==============================] - 0s 8ms/step - loss: 0.4131 - mean_absolute_error: 0.5086 - val_loss: 0.5117 - val_mean_absolute_error: 0.5978\n",
            "Epoch 12/100\n",
            "6/6 [==============================] - 0s 8ms/step - loss: 0.4137 - mean_absolute_error: 0.5111 - val_loss: 0.5357 - val_mean_absolute_error: 0.6152\n",
            "Epoch 13/100\n",
            "6/6 [==============================] - 0s 7ms/step - loss: 0.3881 - mean_absolute_error: 0.4938 - val_loss: 0.4975 - val_mean_absolute_error: 0.5929\n",
            "Epoch 14/100\n",
            "6/6 [==============================] - 0s 7ms/step - loss: 0.4012 - mean_absolute_error: 0.4966 - val_loss: 0.4943 - val_mean_absolute_error: 0.5848\n",
            "Epoch 15/100\n",
            "6/6 [==============================] - 0s 7ms/step - loss: 0.3801 - mean_absolute_error: 0.4927 - val_loss: 0.5520 - val_mean_absolute_error: 0.6274\n",
            "Epoch 16/100\n",
            "6/6 [==============================] - 0s 8ms/step - loss: 0.3773 - mean_absolute_error: 0.4823 - val_loss: 0.4929 - val_mean_absolute_error: 0.5849\n",
            "Epoch 17/100\n",
            "6/6 [==============================] - 0s 7ms/step - loss: 0.3706 - mean_absolute_error: 0.4872 - val_loss: 0.6206 - val_mean_absolute_error: 0.6597\n",
            "Epoch 18/100\n",
            "6/6 [==============================] - 0s 7ms/step - loss: 0.4065 - mean_absolute_error: 0.4923 - val_loss: 0.5056 - val_mean_absolute_error: 0.5851\n",
            "Epoch 19/100\n",
            "6/6 [==============================] - 0s 7ms/step - loss: 0.4101 - mean_absolute_error: 0.5136 - val_loss: 0.5384 - val_mean_absolute_error: 0.6177\n",
            "Epoch 20/100\n",
            "6/6 [==============================] - 0s 7ms/step - loss: 0.3672 - mean_absolute_error: 0.4880 - val_loss: 0.4941 - val_mean_absolute_error: 0.5879\n",
            "Epoch 21/100\n",
            "6/6 [==============================] - 0s 7ms/step - loss: 0.3482 - mean_absolute_error: 0.4652 - val_loss: 0.5519 - val_mean_absolute_error: 0.6172\n",
            "Epoch 22/100\n",
            "6/6 [==============================] - 0s 8ms/step - loss: 0.3565 - mean_absolute_error: 0.4695 - val_loss: 0.4996 - val_mean_absolute_error: 0.5841\n",
            "Epoch 23/100\n",
            "6/6 [==============================] - 0s 8ms/step - loss: 0.3440 - mean_absolute_error: 0.4650 - val_loss: 0.5193 - val_mean_absolute_error: 0.5933\n",
            "Epoch 24/100\n",
            "6/6 [==============================] - 0s 7ms/step - loss: 0.3352 - mean_absolute_error: 0.4628 - val_loss: 0.5351 - val_mean_absolute_error: 0.5988\n",
            "Epoch 25/100\n",
            "6/6 [==============================] - 0s 9ms/step - loss: 0.3323 - mean_absolute_error: 0.4505 - val_loss: 0.5140 - val_mean_absolute_error: 0.5895\n",
            "Epoch 26/100\n",
            "6/6 [==============================] - 0s 8ms/step - loss: 0.3334 - mean_absolute_error: 0.4572 - val_loss: 0.5626 - val_mean_absolute_error: 0.6118\n",
            "Epoch 27/100\n",
            "6/6 [==============================] - 0s 8ms/step - loss: 0.3175 - mean_absolute_error: 0.4429 - val_loss: 0.5190 - val_mean_absolute_error: 0.5902\n",
            "Epoch 28/100\n",
            "6/6 [==============================] - 0s 9ms/step - loss: 0.3176 - mean_absolute_error: 0.4469 - val_loss: 0.5383 - val_mean_absolute_error: 0.6042\n",
            "Epoch 29/100\n",
            "6/6 [==============================] - 0s 8ms/step - loss: 0.3210 - mean_absolute_error: 0.4485 - val_loss: 0.5685 - val_mean_absolute_error: 0.6124\n",
            "Epoch 30/100\n",
            "6/6 [==============================] - 0s 7ms/step - loss: 0.2980 - mean_absolute_error: 0.4242 - val_loss: 0.5192 - val_mean_absolute_error: 0.5949\n",
            "Epoch 31/100\n",
            "6/6 [==============================] - 0s 7ms/step - loss: 0.2876 - mean_absolute_error: 0.4230 - val_loss: 0.6722 - val_mean_absolute_error: 0.6554\n",
            "Epoch 32/100\n",
            "6/6 [==============================] - 0s 7ms/step - loss: 0.3693 - mean_absolute_error: 0.4715 - val_loss: 0.5444 - val_mean_absolute_error: 0.6078\n",
            "Epoch 33/100\n",
            "6/6 [==============================] - 0s 8ms/step - loss: 0.3332 - mean_absolute_error: 0.4664 - val_loss: 0.5962 - val_mean_absolute_error: 0.6403\n",
            "Epoch 34/100\n",
            "6/6 [==============================] - 0s 8ms/step - loss: 0.3167 - mean_absolute_error: 0.4515 - val_loss: 0.5698 - val_mean_absolute_error: 0.6091\n",
            "Epoch 35/100\n",
            "6/6 [==============================] - 0s 8ms/step - loss: 0.3002 - mean_absolute_error: 0.4259 - val_loss: 0.5525 - val_mean_absolute_error: 0.6039\n",
            "Epoch 36/100\n",
            "6/6 [==============================] - 0s 7ms/step - loss: 0.2774 - mean_absolute_error: 0.4139 - val_loss: 0.5655 - val_mean_absolute_error: 0.6128\n",
            "Epoch 37/100\n",
            "6/6 [==============================] - 0s 7ms/step - loss: 0.2779 - mean_absolute_error: 0.4177 - val_loss: 0.5725 - val_mean_absolute_error: 0.6247\n",
            "Epoch 38/100\n",
            "6/6 [==============================] - 0s 7ms/step - loss: 0.2788 - mean_absolute_error: 0.4147 - val_loss: 0.5586 - val_mean_absolute_error: 0.6216\n",
            "Epoch 39/100\n",
            "6/6 [==============================] - 0s 9ms/step - loss: 0.2654 - mean_absolute_error: 0.4049 - val_loss: 0.5557 - val_mean_absolute_error: 0.6226\n",
            "Epoch 40/100\n",
            "6/6 [==============================] - 0s 7ms/step - loss: 0.2681 - mean_absolute_error: 0.4116 - val_loss: 0.6531 - val_mean_absolute_error: 0.6456\n",
            "Epoch 41/100\n",
            "6/6 [==============================] - 0s 8ms/step - loss: 0.2581 - mean_absolute_error: 0.3940 - val_loss: 0.5522 - val_mean_absolute_error: 0.6199\n",
            "Epoch 42/100\n",
            "6/6 [==============================] - 0s 7ms/step - loss: 0.2584 - mean_absolute_error: 0.3983 - val_loss: 0.5935 - val_mean_absolute_error: 0.6099\n",
            "Epoch 43/100\n",
            "6/6 [==============================] - 0s 8ms/step - loss: 0.2609 - mean_absolute_error: 0.3983 - val_loss: 0.6291 - val_mean_absolute_error: 0.6291\n",
            "Epoch 44/100\n",
            "6/6 [==============================] - 0s 8ms/step - loss: 0.2661 - mean_absolute_error: 0.4036 - val_loss: 0.5967 - val_mean_absolute_error: 0.6393\n",
            "Epoch 45/100\n",
            "6/6 [==============================] - 0s 8ms/step - loss: 0.2478 - mean_absolute_error: 0.3825 - val_loss: 0.6088 - val_mean_absolute_error: 0.6392\n",
            "Epoch 46/100\n",
            "6/6 [==============================] - 0s 8ms/step - loss: 0.2204 - mean_absolute_error: 0.3633 - val_loss: 0.6252 - val_mean_absolute_error: 0.6263\n",
            "Epoch 47/100\n",
            "6/6 [==============================] - 0s 8ms/step - loss: 0.2300 - mean_absolute_error: 0.3676 - val_loss: 0.5915 - val_mean_absolute_error: 0.6255\n",
            "Epoch 48/100\n",
            "6/6 [==============================] - 0s 7ms/step - loss: 0.2320 - mean_absolute_error: 0.3728 - val_loss: 0.5797 - val_mean_absolute_error: 0.6317\n",
            "Epoch 49/100\n",
            "6/6 [==============================] - 0s 7ms/step - loss: 0.2341 - mean_absolute_error: 0.3735 - val_loss: 0.5927 - val_mean_absolute_error: 0.6355\n",
            "Epoch 50/100\n",
            "6/6 [==============================] - 0s 7ms/step - loss: 0.2057 - mean_absolute_error: 0.3463 - val_loss: 0.6846 - val_mean_absolute_error: 0.6396\n",
            "Epoch 51/100\n",
            "6/6 [==============================] - 0s 7ms/step - loss: 0.2145 - mean_absolute_error: 0.3551 - val_loss: 0.6135 - val_mean_absolute_error: 0.6541\n",
            "Epoch 52/100\n",
            "6/6 [==============================] - 0s 7ms/step - loss: 0.1963 - mean_absolute_error: 0.3443 - val_loss: 0.6404 - val_mean_absolute_error: 0.6693\n",
            "Epoch 53/100\n",
            "6/6 [==============================] - 0s 7ms/step - loss: 0.1836 - mean_absolute_error: 0.3300 - val_loss: 0.6541 - val_mean_absolute_error: 0.6550\n",
            "Epoch 54/100\n",
            "6/6 [==============================] - 0s 7ms/step - loss: 0.1886 - mean_absolute_error: 0.3325 - val_loss: 0.6235 - val_mean_absolute_error: 0.6471\n",
            "Epoch 55/100\n",
            "6/6 [==============================] - 0s 8ms/step - loss: 0.1745 - mean_absolute_error: 0.3240 - val_loss: 0.6405 - val_mean_absolute_error: 0.6718\n",
            "Epoch 56/100\n",
            "6/6 [==============================] - 0s 8ms/step - loss: 0.1805 - mean_absolute_error: 0.3261 - val_loss: 0.6463 - val_mean_absolute_error: 0.6655\n",
            "Epoch 57/100\n",
            "6/6 [==============================] - 0s 11ms/step - loss: 0.1657 - mean_absolute_error: 0.3187 - val_loss: 0.6644 - val_mean_absolute_error: 0.6672\n",
            "Epoch 58/100\n",
            "6/6 [==============================] - 0s 8ms/step - loss: 0.1554 - mean_absolute_error: 0.3046 - val_loss: 0.6517 - val_mean_absolute_error: 0.6566\n",
            "Epoch 59/100\n",
            "6/6 [==============================] - 0s 7ms/step - loss: 0.1504 - mean_absolute_error: 0.2971 - val_loss: 0.6960 - val_mean_absolute_error: 0.6782\n",
            "Epoch 60/100\n",
            "6/6 [==============================] - 0s 8ms/step - loss: 0.1417 - mean_absolute_error: 0.2874 - val_loss: 0.6875 - val_mean_absolute_error: 0.6933\n",
            "Epoch 61/100\n",
            "6/6 [==============================] - 0s 7ms/step - loss: 0.1312 - mean_absolute_error: 0.2728 - val_loss: 0.6914 - val_mean_absolute_error: 0.6829\n",
            "Epoch 62/100\n",
            "6/6 [==============================] - 0s 8ms/step - loss: 0.1309 - mean_absolute_error: 0.2753 - val_loss: 0.7044 - val_mean_absolute_error: 0.7061\n",
            "Epoch 63/100\n",
            "6/6 [==============================] - 0s 7ms/step - loss: 0.1188 - mean_absolute_error: 0.2646 - val_loss: 0.7304 - val_mean_absolute_error: 0.6976\n",
            "Epoch 64/100\n",
            "6/6 [==============================] - 0s 10ms/step - loss: 0.1276 - mean_absolute_error: 0.2731 - val_loss: 0.7248 - val_mean_absolute_error: 0.7126\n",
            "Epoch 65/100\n",
            "6/6 [==============================] - 0s 7ms/step - loss: 0.1676 - mean_absolute_error: 0.3310 - val_loss: 0.6996 - val_mean_absolute_error: 0.6994\n",
            "Epoch 66/100\n",
            "6/6 [==============================] - 0s 8ms/step - loss: 0.1248 - mean_absolute_error: 0.2731 - val_loss: 0.6947 - val_mean_absolute_error: 0.6903\n",
            "Epoch 67/100\n",
            "6/6 [==============================] - 0s 7ms/step - loss: 0.1174 - mean_absolute_error: 0.2605 - val_loss: 0.7279 - val_mean_absolute_error: 0.7143\n",
            "Epoch 68/100\n",
            "6/6 [==============================] - 0s 7ms/step - loss: 0.1221 - mean_absolute_error: 0.2647 - val_loss: 0.7436 - val_mean_absolute_error: 0.7152\n",
            "Epoch 69/100\n",
            "6/6 [==============================] - 0s 7ms/step - loss: 0.1018 - mean_absolute_error: 0.2425 - val_loss: 0.7108 - val_mean_absolute_error: 0.6957\n",
            "Epoch 70/100\n",
            "6/6 [==============================] - 0s 8ms/step - loss: 0.1009 - mean_absolute_error: 0.2368 - val_loss: 0.7537 - val_mean_absolute_error: 0.7074\n",
            "Epoch 71/100\n",
            "6/6 [==============================] - 0s 7ms/step - loss: 0.1151 - mean_absolute_error: 0.2611 - val_loss: 0.7671 - val_mean_absolute_error: 0.7098\n",
            "Epoch 72/100\n",
            "6/6 [==============================] - 0s 7ms/step - loss: 0.1146 - mean_absolute_error: 0.2616 - val_loss: 0.7022 - val_mean_absolute_error: 0.6922\n",
            "Epoch 73/100\n",
            "6/6 [==============================] - 0s 7ms/step - loss: 0.1101 - mean_absolute_error: 0.2531 - val_loss: 0.7031 - val_mean_absolute_error: 0.6812\n",
            "Epoch 74/100\n",
            "6/6 [==============================] - 0s 7ms/step - loss: 0.1087 - mean_absolute_error: 0.2473 - val_loss: 0.7722 - val_mean_absolute_error: 0.7294\n",
            "Epoch 75/100\n",
            "6/6 [==============================] - 0s 8ms/step - loss: 0.1142 - mean_absolute_error: 0.2595 - val_loss: 0.7388 - val_mean_absolute_error: 0.7132\n",
            "Epoch 76/100\n",
            "6/6 [==============================] - 0s 9ms/step - loss: 0.0900 - mean_absolute_error: 0.2233 - val_loss: 0.7143 - val_mean_absolute_error: 0.7003\n",
            "Epoch 77/100\n",
            "6/6 [==============================] - 0s 8ms/step - loss: 0.0898 - mean_absolute_error: 0.2263 - val_loss: 0.7823 - val_mean_absolute_error: 0.7184\n",
            "Epoch 78/100\n",
            "6/6 [==============================] - 0s 12ms/step - loss: 0.0874 - mean_absolute_error: 0.2253 - val_loss: 0.7666 - val_mean_absolute_error: 0.7080\n",
            "Epoch 79/100\n",
            "6/6 [==============================] - 0s 13ms/step - loss: 0.0871 - mean_absolute_error: 0.2262 - val_loss: 0.7555 - val_mean_absolute_error: 0.7139\n",
            "Epoch 80/100\n",
            "6/6 [==============================] - 0s 8ms/step - loss: 0.0846 - mean_absolute_error: 0.2124 - val_loss: 0.7736 - val_mean_absolute_error: 0.7297\n",
            "Epoch 81/100\n",
            "6/6 [==============================] - 0s 8ms/step - loss: 0.0767 - mean_absolute_error: 0.2099 - val_loss: 0.7964 - val_mean_absolute_error: 0.7491\n",
            "Epoch 82/100\n",
            "6/6 [==============================] - 0s 8ms/step - loss: 0.0866 - mean_absolute_error: 0.2283 - val_loss: 0.7824 - val_mean_absolute_error: 0.7414\n",
            "Epoch 83/100\n",
            "6/6 [==============================] - 0s 9ms/step - loss: 0.0990 - mean_absolute_error: 0.2452 - val_loss: 0.7519 - val_mean_absolute_error: 0.7198\n",
            "Epoch 84/100\n",
            "6/6 [==============================] - 0s 8ms/step - loss: 0.0776 - mean_absolute_error: 0.2118 - val_loss: 0.7724 - val_mean_absolute_error: 0.7083\n",
            "Epoch 85/100\n",
            "6/6 [==============================] - 0s 7ms/step - loss: 0.0780 - mean_absolute_error: 0.2099 - val_loss: 0.8613 - val_mean_absolute_error: 0.7468\n",
            "Epoch 86/100\n",
            "6/6 [==============================] - 0s 8ms/step - loss: 0.1009 - mean_absolute_error: 0.2500 - val_loss: 0.7591 - val_mean_absolute_error: 0.6985\n",
            "Epoch 87/100\n",
            "6/6 [==============================] - 0s 7ms/step - loss: 0.0868 - mean_absolute_error: 0.2254 - val_loss: 0.7361 - val_mean_absolute_error: 0.7015\n",
            "Epoch 88/100\n",
            "6/6 [==============================] - 0s 7ms/step - loss: 0.0856 - mean_absolute_error: 0.2280 - val_loss: 0.7351 - val_mean_absolute_error: 0.7141\n",
            "Epoch 89/100\n",
            "6/6 [==============================] - 0s 7ms/step - loss: 0.0857 - mean_absolute_error: 0.2281 - val_loss: 0.7025 - val_mean_absolute_error: 0.6862\n",
            "Epoch 90/100\n",
            "6/6 [==============================] - 0s 7ms/step - loss: 0.0656 - mean_absolute_error: 0.1958 - val_loss: 0.7712 - val_mean_absolute_error: 0.7323\n",
            "Epoch 91/100\n",
            "6/6 [==============================] - 0s 7ms/step - loss: 0.0735 - mean_absolute_error: 0.2092 - val_loss: 0.8026 - val_mean_absolute_error: 0.7496\n",
            "Epoch 92/100\n",
            "6/6 [==============================] - 0s 8ms/step - loss: 0.0681 - mean_absolute_error: 0.2053 - val_loss: 0.7894 - val_mean_absolute_error: 0.7433\n",
            "Epoch 93/100\n",
            "6/6 [==============================] - 0s 11ms/step - loss: 0.0796 - mean_absolute_error: 0.2237 - val_loss: 0.7252 - val_mean_absolute_error: 0.7097\n",
            "Epoch 94/100\n",
            "6/6 [==============================] - 0s 11ms/step - loss: 0.0615 - mean_absolute_error: 0.1847 - val_loss: 0.7598 - val_mean_absolute_error: 0.7279\n",
            "Epoch 95/100\n",
            "6/6 [==============================] - 0s 8ms/step - loss: 0.0554 - mean_absolute_error: 0.1778 - val_loss: 0.8378 - val_mean_absolute_error: 0.7496\n",
            "Epoch 96/100\n",
            "6/6 [==============================] - 0s 8ms/step - loss: 0.0632 - mean_absolute_error: 0.1917 - val_loss: 0.8485 - val_mean_absolute_error: 0.7451\n",
            "Epoch 97/100\n",
            "6/6 [==============================] - 0s 8ms/step - loss: 0.0800 - mean_absolute_error: 0.2204 - val_loss: 0.7705 - val_mean_absolute_error: 0.6977\n",
            "Epoch 98/100\n",
            "6/6 [==============================] - 0s 7ms/step - loss: 0.0636 - mean_absolute_error: 0.1912 - val_loss: 0.7903 - val_mean_absolute_error: 0.7038\n",
            "Epoch 99/100\n",
            "6/6 [==============================] - 0s 7ms/step - loss: 0.0580 - mean_absolute_error: 0.1852 - val_loss: 0.8125 - val_mean_absolute_error: 0.7251\n",
            "Epoch 100/100\n",
            "6/6 [==============================] - 0s 7ms/step - loss: 0.0618 - mean_absolute_error: 0.1948 - val_loss: 0.7768 - val_mean_absolute_error: 0.7051\n"
          ]
        }
      ],
      "source": [
        "### START CODE HERE ### ()\n",
        "history = model.fit(train_data , train_targets , batch_size = 64 , epochs =100 , validation_split=0.15)"
      ]
    },
    {
      "cell_type": "code",
      "execution_count": 30,
      "id": "e2000d08-a40d-4bc8-ac8c-87c30111c670",
      "metadata": {
        "colab": {
          "base_uri": "https://localhost:8080/"
        },
        "id": "e2000d08-a40d-4bc8-ac8c-87c30111c670",
        "outputId": "fbe6cd58-70e7-4077-a2fb-e4c51a876254"
      },
      "outputs": [
        {
          "output_type": "stream",
          "name": "stdout",
          "text": [
            "2/2 - 0s - loss: 1.0240 - mean_absolute_error: 0.7676 - 17ms/epoch - 9ms/step\n"
          ]
        },
        {
          "output_type": "execute_result",
          "data": {
            "text/plain": [
              "[1.0240483283996582, 0.7676451206207275]"
            ]
          },
          "metadata": {},
          "execution_count": 30
        }
      ],
      "source": [
        "# Evaluate the model on the test set\n",
        "\n",
        "model.evaluate(test_data, test_targets, verbose=2)"
      ]
    },
    {
      "cell_type": "code",
      "execution_count": 31,
      "id": "a171c786-ce1f-4004-b096-75b5562bdf15",
      "metadata": {
        "id": "a171c786-ce1f-4004-b096-75b5562bdf15"
      },
      "outputs": [],
      "source": [
        "import matplotlib.pyplot as plt\n",
        "%matplotlib inline"
      ]
    },
    {
      "cell_type": "code",
      "execution_count": 32,
      "id": "3a0de6a8-b049-4221-972e-689b166c71aa",
      "metadata": {
        "colab": {
          "base_uri": "https://localhost:8080/",
          "height": 391
        },
        "id": "3a0de6a8-b049-4221-972e-689b166c71aa",
        "outputId": "be6e615b-67a2-4116-f4b5-7f58adf9a9d9"
      },
      "outputs": [
        {
          "output_type": "display_data",
          "data": {
            "text/plain": [
              "<Figure size 432x288 with 1 Axes>"
            ],
            "image/svg+xml": "<?xml version=\"1.0\" encoding=\"utf-8\" standalone=\"no\"?>\n<!DOCTYPE svg PUBLIC \"-//W3C//DTD SVG 1.1//EN\"\n  \"http://www.w3.org/Graphics/SVG/1.1/DTD/svg11.dtd\">\n<!-- Created with matplotlib (https://matplotlib.org/) -->\n<svg height=\"277.314375pt\" version=\"1.1\" viewBox=\"0 0 385.78125 277.314375\" width=\"385.78125pt\" xmlns=\"http://www.w3.org/2000/svg\" xmlns:xlink=\"http://www.w3.org/1999/xlink\">\n <defs>\n  <style type=\"text/css\">\n*{stroke-linecap:butt;stroke-linejoin:round;}\n  </style>\n </defs>\n <g id=\"figure_1\">\n  <g id=\"patch_1\">\n   <path d=\"M 0 277.314375 \nL 385.78125 277.314375 \nL 385.78125 0 \nL 0 0 \nz\n\" style=\"fill:none;\"/>\n  </g>\n  <g id=\"axes_1\">\n   <g id=\"patch_2\">\n    <path d=\"M 43.78125 239.758125 \nL 378.58125 239.758125 \nL 378.58125 22.318125 \nL 43.78125 22.318125 \nz\n\" style=\"fill:#ffffff;\"/>\n   </g>\n   <g id=\"matplotlib.axis_1\">\n    <g id=\"xtick_1\">\n     <g id=\"line2d_1\">\n      <defs>\n       <path d=\"M 0 0 \nL 0 3.5 \n\" id=\"m2d29a345ac\" style=\"stroke:#000000;stroke-width:0.8;\"/>\n      </defs>\n      <g>\n       <use style=\"stroke:#000000;stroke-width:0.8;\" x=\"58.999432\" xlink:href=\"#m2d29a345ac\" y=\"239.758125\"/>\n      </g>\n     </g>\n     <g id=\"text_1\">\n      <!-- 0 -->\n      <defs>\n       <path d=\"M 31.78125 66.40625 \nQ 24.171875 66.40625 20.328125 58.90625 \nQ 16.5 51.421875 16.5 36.375 \nQ 16.5 21.390625 20.328125 13.890625 \nQ 24.171875 6.390625 31.78125 6.390625 \nQ 39.453125 6.390625 43.28125 13.890625 \nQ 47.125 21.390625 47.125 36.375 \nQ 47.125 51.421875 43.28125 58.90625 \nQ 39.453125 66.40625 31.78125 66.40625 \nz\nM 31.78125 74.21875 \nQ 44.046875 74.21875 50.515625 64.515625 \nQ 56.984375 54.828125 56.984375 36.375 \nQ 56.984375 17.96875 50.515625 8.265625 \nQ 44.046875 -1.421875 31.78125 -1.421875 \nQ 19.53125 -1.421875 13.0625 8.265625 \nQ 6.59375 17.96875 6.59375 36.375 \nQ 6.59375 54.828125 13.0625 64.515625 \nQ 19.53125 74.21875 31.78125 74.21875 \nz\n\" id=\"DejaVuSans-48\"/>\n      </defs>\n      <g transform=\"translate(55.818182 254.356562)scale(0.1 -0.1)\">\n       <use xlink:href=\"#DejaVuSans-48\"/>\n      </g>\n     </g>\n    </g>\n    <g id=\"xtick_2\">\n     <g id=\"line2d_2\">\n      <g>\n       <use style=\"stroke:#000000;stroke-width:0.8;\" x=\"120.487035\" xlink:href=\"#m2d29a345ac\" y=\"239.758125\"/>\n      </g>\n     </g>\n     <g id=\"text_2\">\n      <!-- 20 -->\n      <defs>\n       <path d=\"M 19.1875 8.296875 \nL 53.609375 8.296875 \nL 53.609375 0 \nL 7.328125 0 \nL 7.328125 8.296875 \nQ 12.9375 14.109375 22.625 23.890625 \nQ 32.328125 33.6875 34.8125 36.53125 \nQ 39.546875 41.84375 41.421875 45.53125 \nQ 43.3125 49.21875 43.3125 52.78125 \nQ 43.3125 58.59375 39.234375 62.25 \nQ 35.15625 65.921875 28.609375 65.921875 \nQ 23.96875 65.921875 18.8125 64.3125 \nQ 13.671875 62.703125 7.8125 59.421875 \nL 7.8125 69.390625 \nQ 13.765625 71.78125 18.9375 73 \nQ 24.125 74.21875 28.421875 74.21875 \nQ 39.75 74.21875 46.484375 68.546875 \nQ 53.21875 62.890625 53.21875 53.421875 \nQ 53.21875 48.921875 51.53125 44.890625 \nQ 49.859375 40.875 45.40625 35.40625 \nQ 44.1875 33.984375 37.640625 27.21875 \nQ 31.109375 20.453125 19.1875 8.296875 \nz\n\" id=\"DejaVuSans-50\"/>\n      </defs>\n      <g transform=\"translate(114.124535 254.356562)scale(0.1 -0.1)\">\n       <use xlink:href=\"#DejaVuSans-50\"/>\n       <use x=\"63.623047\" xlink:href=\"#DejaVuSans-48\"/>\n      </g>\n     </g>\n    </g>\n    <g id=\"xtick_3\">\n     <g id=\"line2d_3\">\n      <g>\n       <use style=\"stroke:#000000;stroke-width:0.8;\" x=\"181.974638\" xlink:href=\"#m2d29a345ac\" y=\"239.758125\"/>\n      </g>\n     </g>\n     <g id=\"text_3\">\n      <!-- 40 -->\n      <defs>\n       <path d=\"M 37.796875 64.3125 \nL 12.890625 25.390625 \nL 37.796875 25.390625 \nz\nM 35.203125 72.90625 \nL 47.609375 72.90625 \nL 47.609375 25.390625 \nL 58.015625 25.390625 \nL 58.015625 17.1875 \nL 47.609375 17.1875 \nL 47.609375 0 \nL 37.796875 0 \nL 37.796875 17.1875 \nL 4.890625 17.1875 \nL 4.890625 26.703125 \nz\n\" id=\"DejaVuSans-52\"/>\n      </defs>\n      <g transform=\"translate(175.612138 254.356562)scale(0.1 -0.1)\">\n       <use xlink:href=\"#DejaVuSans-52\"/>\n       <use x=\"63.623047\" xlink:href=\"#DejaVuSans-48\"/>\n      </g>\n     </g>\n    </g>\n    <g id=\"xtick_4\">\n     <g id=\"line2d_4\">\n      <g>\n       <use style=\"stroke:#000000;stroke-width:0.8;\" x=\"243.462242\" xlink:href=\"#m2d29a345ac\" y=\"239.758125\"/>\n      </g>\n     </g>\n     <g id=\"text_4\">\n      <!-- 60 -->\n      <defs>\n       <path d=\"M 33.015625 40.375 \nQ 26.375 40.375 22.484375 35.828125 \nQ 18.609375 31.296875 18.609375 23.390625 \nQ 18.609375 15.53125 22.484375 10.953125 \nQ 26.375 6.390625 33.015625 6.390625 \nQ 39.65625 6.390625 43.53125 10.953125 \nQ 47.40625 15.53125 47.40625 23.390625 \nQ 47.40625 31.296875 43.53125 35.828125 \nQ 39.65625 40.375 33.015625 40.375 \nz\nM 52.59375 71.296875 \nL 52.59375 62.3125 \nQ 48.875 64.0625 45.09375 64.984375 \nQ 41.3125 65.921875 37.59375 65.921875 \nQ 27.828125 65.921875 22.671875 59.328125 \nQ 17.53125 52.734375 16.796875 39.40625 \nQ 19.671875 43.65625 24.015625 45.921875 \nQ 28.375 48.1875 33.59375 48.1875 \nQ 44.578125 48.1875 50.953125 41.515625 \nQ 57.328125 34.859375 57.328125 23.390625 \nQ 57.328125 12.15625 50.6875 5.359375 \nQ 44.046875 -1.421875 33.015625 -1.421875 \nQ 20.359375 -1.421875 13.671875 8.265625 \nQ 6.984375 17.96875 6.984375 36.375 \nQ 6.984375 53.65625 15.1875 63.9375 \nQ 23.390625 74.21875 37.203125 74.21875 \nQ 40.921875 74.21875 44.703125 73.484375 \nQ 48.484375 72.75 52.59375 71.296875 \nz\n\" id=\"DejaVuSans-54\"/>\n      </defs>\n      <g transform=\"translate(237.099742 254.356562)scale(0.1 -0.1)\">\n       <use xlink:href=\"#DejaVuSans-54\"/>\n       <use x=\"63.623047\" xlink:href=\"#DejaVuSans-48\"/>\n      </g>\n     </g>\n    </g>\n    <g id=\"xtick_5\">\n     <g id=\"line2d_5\">\n      <g>\n       <use style=\"stroke:#000000;stroke-width:0.8;\" x=\"304.949845\" xlink:href=\"#m2d29a345ac\" y=\"239.758125\"/>\n      </g>\n     </g>\n     <g id=\"text_5\">\n      <!-- 80 -->\n      <defs>\n       <path d=\"M 31.78125 34.625 \nQ 24.75 34.625 20.71875 30.859375 \nQ 16.703125 27.09375 16.703125 20.515625 \nQ 16.703125 13.921875 20.71875 10.15625 \nQ 24.75 6.390625 31.78125 6.390625 \nQ 38.8125 6.390625 42.859375 10.171875 \nQ 46.921875 13.96875 46.921875 20.515625 \nQ 46.921875 27.09375 42.890625 30.859375 \nQ 38.875 34.625 31.78125 34.625 \nz\nM 21.921875 38.8125 \nQ 15.578125 40.375 12.03125 44.71875 \nQ 8.5 49.078125 8.5 55.328125 \nQ 8.5 64.0625 14.71875 69.140625 \nQ 20.953125 74.21875 31.78125 74.21875 \nQ 42.671875 74.21875 48.875 69.140625 \nQ 55.078125 64.0625 55.078125 55.328125 \nQ 55.078125 49.078125 51.53125 44.71875 \nQ 48 40.375 41.703125 38.8125 \nQ 48.828125 37.15625 52.796875 32.3125 \nQ 56.78125 27.484375 56.78125 20.515625 \nQ 56.78125 9.90625 50.3125 4.234375 \nQ 43.84375 -1.421875 31.78125 -1.421875 \nQ 19.734375 -1.421875 13.25 4.234375 \nQ 6.78125 9.90625 6.78125 20.515625 \nQ 6.78125 27.484375 10.78125 32.3125 \nQ 14.796875 37.15625 21.921875 38.8125 \nz\nM 18.3125 54.390625 \nQ 18.3125 48.734375 21.84375 45.5625 \nQ 25.390625 42.390625 31.78125 42.390625 \nQ 38.140625 42.390625 41.71875 45.5625 \nQ 45.3125 48.734375 45.3125 54.390625 \nQ 45.3125 60.0625 41.71875 63.234375 \nQ 38.140625 66.40625 31.78125 66.40625 \nQ 25.390625 66.40625 21.84375 63.234375 \nQ 18.3125 60.0625 18.3125 54.390625 \nz\n\" id=\"DejaVuSans-56\"/>\n      </defs>\n      <g transform=\"translate(298.587345 254.356562)scale(0.1 -0.1)\">\n       <use xlink:href=\"#DejaVuSans-56\"/>\n       <use x=\"63.623047\" xlink:href=\"#DejaVuSans-48\"/>\n      </g>\n     </g>\n    </g>\n    <g id=\"xtick_6\">\n     <g id=\"line2d_6\">\n      <g>\n       <use style=\"stroke:#000000;stroke-width:0.8;\" x=\"366.437448\" xlink:href=\"#m2d29a345ac\" y=\"239.758125\"/>\n      </g>\n     </g>\n     <g id=\"text_6\">\n      <!-- 100 -->\n      <defs>\n       <path d=\"M 12.40625 8.296875 \nL 28.515625 8.296875 \nL 28.515625 63.921875 \nL 10.984375 60.40625 \nL 10.984375 69.390625 \nL 28.421875 72.90625 \nL 38.28125 72.90625 \nL 38.28125 8.296875 \nL 54.390625 8.296875 \nL 54.390625 0 \nL 12.40625 0 \nz\n\" id=\"DejaVuSans-49\"/>\n      </defs>\n      <g transform=\"translate(356.893698 254.356562)scale(0.1 -0.1)\">\n       <use xlink:href=\"#DejaVuSans-49\"/>\n       <use x=\"63.623047\" xlink:href=\"#DejaVuSans-48\"/>\n       <use x=\"127.246094\" xlink:href=\"#DejaVuSans-48\"/>\n      </g>\n     </g>\n    </g>\n    <g id=\"text_7\">\n     <!-- Epoch -->\n     <defs>\n      <path d=\"M 9.8125 72.90625 \nL 55.90625 72.90625 \nL 55.90625 64.59375 \nL 19.671875 64.59375 \nL 19.671875 43.015625 \nL 54.390625 43.015625 \nL 54.390625 34.71875 \nL 19.671875 34.71875 \nL 19.671875 8.296875 \nL 56.78125 8.296875 \nL 56.78125 0 \nL 9.8125 0 \nz\n\" id=\"DejaVuSans-69\"/>\n      <path d=\"M 18.109375 8.203125 \nL 18.109375 -20.796875 \nL 9.078125 -20.796875 \nL 9.078125 54.6875 \nL 18.109375 54.6875 \nL 18.109375 46.390625 \nQ 20.953125 51.265625 25.265625 53.625 \nQ 29.59375 56 35.59375 56 \nQ 45.5625 56 51.78125 48.09375 \nQ 58.015625 40.1875 58.015625 27.296875 \nQ 58.015625 14.40625 51.78125 6.484375 \nQ 45.5625 -1.421875 35.59375 -1.421875 \nQ 29.59375 -1.421875 25.265625 0.953125 \nQ 20.953125 3.328125 18.109375 8.203125 \nz\nM 48.6875 27.296875 \nQ 48.6875 37.203125 44.609375 42.84375 \nQ 40.53125 48.484375 33.40625 48.484375 \nQ 26.265625 48.484375 22.1875 42.84375 \nQ 18.109375 37.203125 18.109375 27.296875 \nQ 18.109375 17.390625 22.1875 11.75 \nQ 26.265625 6.109375 33.40625 6.109375 \nQ 40.53125 6.109375 44.609375 11.75 \nQ 48.6875 17.390625 48.6875 27.296875 \nz\n\" id=\"DejaVuSans-112\"/>\n      <path d=\"M 30.609375 48.390625 \nQ 23.390625 48.390625 19.1875 42.75 \nQ 14.984375 37.109375 14.984375 27.296875 \nQ 14.984375 17.484375 19.15625 11.84375 \nQ 23.34375 6.203125 30.609375 6.203125 \nQ 37.796875 6.203125 41.984375 11.859375 \nQ 46.1875 17.53125 46.1875 27.296875 \nQ 46.1875 37.015625 41.984375 42.703125 \nQ 37.796875 48.390625 30.609375 48.390625 \nz\nM 30.609375 56 \nQ 42.328125 56 49.015625 48.375 \nQ 55.71875 40.765625 55.71875 27.296875 \nQ 55.71875 13.875 49.015625 6.21875 \nQ 42.328125 -1.421875 30.609375 -1.421875 \nQ 18.84375 -1.421875 12.171875 6.21875 \nQ 5.515625 13.875 5.515625 27.296875 \nQ 5.515625 40.765625 12.171875 48.375 \nQ 18.84375 56 30.609375 56 \nz\n\" id=\"DejaVuSans-111\"/>\n      <path d=\"M 48.78125 52.59375 \nL 48.78125 44.1875 \nQ 44.96875 46.296875 41.140625 47.34375 \nQ 37.3125 48.390625 33.40625 48.390625 \nQ 24.65625 48.390625 19.8125 42.84375 \nQ 14.984375 37.3125 14.984375 27.296875 \nQ 14.984375 17.28125 19.8125 11.734375 \nQ 24.65625 6.203125 33.40625 6.203125 \nQ 37.3125 6.203125 41.140625 7.25 \nQ 44.96875 8.296875 48.78125 10.40625 \nL 48.78125 2.09375 \nQ 45.015625 0.34375 40.984375 -0.53125 \nQ 36.96875 -1.421875 32.421875 -1.421875 \nQ 20.0625 -1.421875 12.78125 6.34375 \nQ 5.515625 14.109375 5.515625 27.296875 \nQ 5.515625 40.671875 12.859375 48.328125 \nQ 20.21875 56 33.015625 56 \nQ 37.15625 56 41.109375 55.140625 \nQ 45.0625 54.296875 48.78125 52.59375 \nz\n\" id=\"DejaVuSans-99\"/>\n      <path d=\"M 54.890625 33.015625 \nL 54.890625 0 \nL 45.90625 0 \nL 45.90625 32.71875 \nQ 45.90625 40.484375 42.875 44.328125 \nQ 39.84375 48.1875 33.796875 48.1875 \nQ 26.515625 48.1875 22.3125 43.546875 \nQ 18.109375 38.921875 18.109375 30.90625 \nL 18.109375 0 \nL 9.078125 0 \nL 9.078125 75.984375 \nL 18.109375 75.984375 \nL 18.109375 46.1875 \nQ 21.34375 51.125 25.703125 53.5625 \nQ 30.078125 56 35.796875 56 \nQ 45.21875 56 50.046875 50.171875 \nQ 54.890625 44.34375 54.890625 33.015625 \nz\n\" id=\"DejaVuSans-104\"/>\n     </defs>\n     <g transform=\"translate(195.870313 268.034687)scale(0.1 -0.1)\">\n      <use xlink:href=\"#DejaVuSans-69\"/>\n      <use x=\"63.183594\" xlink:href=\"#DejaVuSans-112\"/>\n      <use x=\"126.660156\" xlink:href=\"#DejaVuSans-111\"/>\n      <use x=\"187.841797\" xlink:href=\"#DejaVuSans-99\"/>\n      <use x=\"242.822266\" xlink:href=\"#DejaVuSans-104\"/>\n     </g>\n    </g>\n   </g>\n   <g id=\"matplotlib.axis_2\">\n    <g id=\"ytick_1\">\n     <g id=\"line2d_7\">\n      <defs>\n       <path d=\"M 0 0 \nL -3.5 0 \n\" id=\"mb52873c316\" style=\"stroke:#000000;stroke-width:0.8;\"/>\n      </defs>\n      <g>\n       <use style=\"stroke:#000000;stroke-width:0.8;\" x=\"43.78125\" xlink:href=\"#mb52873c316\" y=\"200.345258\"/>\n      </g>\n     </g>\n     <g id=\"text_8\">\n      <!-- 0.2 -->\n      <defs>\n       <path d=\"M 10.6875 12.40625 \nL 21 12.40625 \nL 21 0 \nL 10.6875 0 \nz\n\" id=\"DejaVuSans-46\"/>\n      </defs>\n      <g transform=\"translate(20.878125 204.144477)scale(0.1 -0.1)\">\n       <use xlink:href=\"#DejaVuSans-48\"/>\n       <use x=\"63.623047\" xlink:href=\"#DejaVuSans-46\"/>\n       <use x=\"95.410156\" xlink:href=\"#DejaVuSans-50\"/>\n      </g>\n     </g>\n    </g>\n    <g id=\"ytick_2\">\n     <g id=\"line2d_8\">\n      <g>\n       <use style=\"stroke:#000000;stroke-width:0.8;\" x=\"43.78125\" xlink:href=\"#mb52873c316\" y=\"159.488538\"/>\n      </g>\n     </g>\n     <g id=\"text_9\">\n      <!-- 0.4 -->\n      <g transform=\"translate(20.878125 163.287757)scale(0.1 -0.1)\">\n       <use xlink:href=\"#DejaVuSans-48\"/>\n       <use x=\"63.623047\" xlink:href=\"#DejaVuSans-46\"/>\n       <use x=\"95.410156\" xlink:href=\"#DejaVuSans-52\"/>\n      </g>\n     </g>\n    </g>\n    <g id=\"ytick_3\">\n     <g id=\"line2d_9\">\n      <g>\n       <use style=\"stroke:#000000;stroke-width:0.8;\" x=\"43.78125\" xlink:href=\"#mb52873c316\" y=\"118.631818\"/>\n      </g>\n     </g>\n     <g id=\"text_10\">\n      <!-- 0.6 -->\n      <g transform=\"translate(20.878125 122.431037)scale(0.1 -0.1)\">\n       <use xlink:href=\"#DejaVuSans-48\"/>\n       <use x=\"63.623047\" xlink:href=\"#DejaVuSans-46\"/>\n       <use x=\"95.410156\" xlink:href=\"#DejaVuSans-54\"/>\n      </g>\n     </g>\n    </g>\n    <g id=\"ytick_4\">\n     <g id=\"line2d_10\">\n      <g>\n       <use style=\"stroke:#000000;stroke-width:0.8;\" x=\"43.78125\" xlink:href=\"#mb52873c316\" y=\"77.775098\"/>\n      </g>\n     </g>\n     <g id=\"text_11\">\n      <!-- 0.8 -->\n      <g transform=\"translate(20.878125 81.574317)scale(0.1 -0.1)\">\n       <use xlink:href=\"#DejaVuSans-48\"/>\n       <use x=\"63.623047\" xlink:href=\"#DejaVuSans-46\"/>\n       <use x=\"95.410156\" xlink:href=\"#DejaVuSans-56\"/>\n      </g>\n     </g>\n    </g>\n    <g id=\"ytick_5\">\n     <g id=\"line2d_11\">\n      <g>\n       <use style=\"stroke:#000000;stroke-width:0.8;\" x=\"43.78125\" xlink:href=\"#mb52873c316\" y=\"36.918378\"/>\n      </g>\n     </g>\n     <g id=\"text_12\">\n      <!-- 1.0 -->\n      <g transform=\"translate(20.878125 40.717597)scale(0.1 -0.1)\">\n       <use xlink:href=\"#DejaVuSans-49\"/>\n       <use x=\"63.623047\" xlink:href=\"#DejaVuSans-46\"/>\n       <use x=\"95.410156\" xlink:href=\"#DejaVuSans-48\"/>\n      </g>\n     </g>\n    </g>\n    <g id=\"text_13\">\n     <!-- Loss -->\n     <defs>\n      <path d=\"M 9.8125 72.90625 \nL 19.671875 72.90625 \nL 19.671875 8.296875 \nL 55.171875 8.296875 \nL 55.171875 0 \nL 9.8125 0 \nz\n\" id=\"DejaVuSans-76\"/>\n      <path d=\"M 44.28125 53.078125 \nL 44.28125 44.578125 \nQ 40.484375 46.53125 36.375 47.5 \nQ 32.28125 48.484375 27.875 48.484375 \nQ 21.1875 48.484375 17.84375 46.4375 \nQ 14.5 44.390625 14.5 40.28125 \nQ 14.5 37.15625 16.890625 35.375 \nQ 19.28125 33.59375 26.515625 31.984375 \nL 29.59375 31.296875 \nQ 39.15625 29.25 43.1875 25.515625 \nQ 47.21875 21.78125 47.21875 15.09375 \nQ 47.21875 7.46875 41.1875 3.015625 \nQ 35.15625 -1.421875 24.609375 -1.421875 \nQ 20.21875 -1.421875 15.453125 -0.5625 \nQ 10.6875 0.296875 5.421875 2 \nL 5.421875 11.28125 \nQ 10.40625 8.6875 15.234375 7.390625 \nQ 20.0625 6.109375 24.8125 6.109375 \nQ 31.15625 6.109375 34.5625 8.28125 \nQ 37.984375 10.453125 37.984375 14.40625 \nQ 37.984375 18.0625 35.515625 20.015625 \nQ 33.0625 21.96875 24.703125 23.78125 \nL 21.578125 24.515625 \nQ 13.234375 26.265625 9.515625 29.90625 \nQ 5.8125 33.546875 5.8125 39.890625 \nQ 5.8125 47.609375 11.28125 51.796875 \nQ 16.75 56 26.8125 56 \nQ 31.78125 56 36.171875 55.265625 \nQ 40.578125 54.546875 44.28125 53.078125 \nz\n\" id=\"DejaVuSans-115\"/>\n     </defs>\n     <g transform=\"translate(14.798438 142.005312)rotate(-90)scale(0.1 -0.1)\">\n      <use xlink:href=\"#DejaVuSans-76\"/>\n      <use x=\"53.962891\" xlink:href=\"#DejaVuSans-111\"/>\n      <use x=\"115.144531\" xlink:href=\"#DejaVuSans-115\"/>\n      <use x=\"167.244141\" xlink:href=\"#DejaVuSans-115\"/>\n     </g>\n    </g>\n   </g>\n   <g id=\"line2d_12\">\n    <path clip-path=\"url(#pcda38fd99f)\" d=\"M 58.999432 41.060971 \nL 62.073812 57.107736 \nL 65.148192 99.056212 \nL 68.222572 135.575408 \nL 71.296952 149.582042 \nL 74.371333 140.125003 \nL 77.445713 152.761316 \nL 80.520093 142.03995 \nL 83.594473 151.394033 \nL 86.668853 153.153264 \nL 89.743233 156.8088 \nL 92.817614 156.694105 \nL 95.891994 161.915763 \nL 98.966374 159.233347 \nL 102.040754 163.561468 \nL 105.115134 164.126641 \nL 108.189514 165.501486 \nL 111.263895 158.165313 \nL 114.338275 157.431383 \nL 117.412655 166.18304 \nL 120.487035 170.075824 \nL 123.561415 168.379885 \nL 126.635795 170.935315 \nL 129.710176 172.725461 \nL 132.784556 173.326018 \nL 135.858936 173.088947 \nL 138.933316 176.334137 \nL 142.007696 176.325632 \nL 145.082076 175.62954 \nL 148.156457 180.32533 \nL 151.230837 182.448776 \nL 154.305217 165.762588 \nL 157.379597 173.138547 \nL 160.453977 176.499497 \nL 163.528357 179.878808 \nL 166.602738 184.528036 \nL 169.677118 184.430711 \nL 172.751498 184.240043 \nL 175.825878 186.99106 \nL 178.900258 186.429796 \nL 181.974638 188.484057 \nL 185.049019 188.422926 \nL 188.123399 187.898641 \nL 191.197779 186.839837 \nL 194.272159 190.573325 \nL 197.346539 196.180428 \nL 200.420919 194.208737 \nL 203.4953 193.800221 \nL 206.56968 193.37512 \nL 209.64406 199.18171 \nL 212.71844 197.389256 \nL 215.79282 201.105649 \nL 218.8672 203.695784 \nL 221.941581 202.671615 \nL 225.015961 205.547004 \nL 228.090341 204.321321 \nL 231.164721 207.35858 \nL 234.239101 209.449456 \nL 237.313481 210.482738 \nL 240.387862 212.260252 \nL 243.462242 214.394094 \nL 246.536622 214.471273 \nL 249.611002 216.939715 \nL 252.685382 215.127589 \nL 255.759762 206.965942 \nL 258.834143 215.715243 \nL 261.908523 217.211828 \nL 264.982903 216.250026 \nL 268.057283 220.404462 \nL 271.131663 220.590561 \nL 274.206043 217.681469 \nL 277.280424 217.782575 \nL 280.354804 218.717609 \nL 283.429184 218.990134 \nL 286.503564 217.877301 \nL 289.577944 222.813289 \nL 292.652324 222.849725 \nL 295.726705 223.354554 \nL 298.801085 223.414724 \nL 301.875465 223.918996 \nL 304.949845 225.523769 \nL 308.024225 223.508671 \nL 311.098605 220.973319 \nL 314.172986 225.347132 \nL 317.247366 225.259338 \nL 320.321746 220.588121 \nL 323.396126 223.474246 \nL 326.470506 223.71001 \nL 329.544886 223.70156 \nL 332.619267 227.802637 \nL 335.693647 226.179514 \nL 338.768027 227.296575 \nL 341.842407 224.946977 \nL 344.916787 228.63954 \nL 347.991167 229.874489 \nL 351.065548 228.300825 \nL 354.139928 224.858977 \nL 357.214308 228.210895 \nL 360.288688 229.345785 \nL 363.363068 228.577807 \n\" style=\"fill:none;stroke:#1f77b4;stroke-linecap:square;stroke-width:1.5;\"/>\n   </g>\n   <g id=\"line2d_13\">\n    <path clip-path=\"url(#pcda38fd99f)\" d=\"M 58.999432 32.201761 \nL 62.073812 63.055859 \nL 65.148192 105.321308 \nL 68.222572 111.227033 \nL 71.296952 128.552694 \nL 74.371333 101.867343 \nL 77.445713 122.573351 \nL 80.520093 103.319678 \nL 83.594473 131.352343 \nL 86.668853 118.38908 \nL 89.743233 136.666997 \nL 92.817614 131.773897 \nL 95.891994 139.571763 \nL 98.966374 140.220173 \nL 102.040754 128.438067 \nL 105.115134 140.506875 \nL 108.189514 114.426708 \nL 111.263895 137.908232 \nL 114.338275 131.215092 \nL 117.412655 140.272239 \nL 120.487035 128.465086 \nL 123.561415 139.150544 \nL 126.635795 135.117569 \nL 129.710176 131.884652 \nL 132.784556 136.209097 \nL 135.858936 126.26614 \nL 138.933316 135.187326 \nL 142.007696 131.237034 \nL 145.082076 125.060192 \nL 148.156457 135.136905 \nL 151.230837 103.879104 \nL 154.305217 129.995117 \nL 157.379597 119.406198 \nL 160.453977 124.791767 \nL 163.528357 128.338222 \nL 166.602738 125.683787 \nL 169.677118 124.259774 \nL 172.751498 127.082266 \nL 175.825878 127.685294 \nL 178.900258 107.774335 \nL 181.974638 128.40597 \nL 185.049019 119.955481 \nL 188.123399 112.682399 \nL 191.197779 119.296539 \nL 194.272159 116.840833 \nL 197.346539 113.474611 \nL 200.420919 120.374332 \nL 203.4953 122.77779 \nL 206.56968 120.124329 \nL 209.64406 101.340964 \nL 212.71844 115.867707 \nL 215.79282 110.377654 \nL 218.8672 107.585664 \nL 221.941581 113.828477 \nL 225.015961 110.355433 \nL 228.090341 109.177137 \nL 231.164721 105.482034 \nL 234.239101 108.066151 \nL 237.313481 99.029424 \nL 240.387862 100.757539 \nL 243.462242 99.963185 \nL 246.536622 97.309931 \nL 249.611002 91.999527 \nL 252.685382 93.13954 \nL 255.759762 98.278357 \nL 258.834143 99.286234 \nL 261.908523 92.509383 \nL 264.982903 89.286512 \nL 268.057283 95.989112 \nL 271.131663 87.23569 \nL 274.206043 84.494877 \nL 277.280424 97.754827 \nL 280.354804 97.573595 \nL 283.429184 83.447914 \nL 286.503564 90.269415 \nL 289.577944 95.281087 \nL 292.652324 81.385123 \nL 295.726705 84.593188 \nL 298.801085 86.875456 \nL 301.875465 83.162101 \nL 304.949845 78.504405 \nL 308.024225 81.379059 \nL 311.098605 87.60021 \nL 314.172986 83.40755 \nL 317.247366 65.245563 \nL 320.321746 86.125849 \nL 323.396126 90.835002 \nL 326.470506 91.022906 \nL 329.544886 97.693885 \nL 332.619267 83.661595 \nL 335.693647 77.243067 \nL 338.768027 79.930682 \nL 341.842407 93.047744 \nL 344.916787 85.981244 \nL 347.991167 70.052674 \nL 351.065548 67.859487 \nL 354.139928 83.808392 \nL 357.214308 79.752142 \nL 360.288688 75.231221 \nL 363.363068 82.505545 \n\" style=\"fill:none;stroke:#ff7f0e;stroke-linecap:square;stroke-width:1.5;\"/>\n   </g>\n   <g id=\"patch_3\">\n    <path d=\"M 43.78125 239.758125 \nL 43.78125 22.318125 \n\" style=\"fill:none;stroke:#000000;stroke-linecap:square;stroke-linejoin:miter;stroke-width:0.8;\"/>\n   </g>\n   <g id=\"patch_4\">\n    <path d=\"M 378.58125 239.758125 \nL 378.58125 22.318125 \n\" style=\"fill:none;stroke:#000000;stroke-linecap:square;stroke-linejoin:miter;stroke-width:0.8;\"/>\n   </g>\n   <g id=\"patch_5\">\n    <path d=\"M 43.78125 239.758125 \nL 378.58125 239.758125 \n\" style=\"fill:none;stroke:#000000;stroke-linecap:square;stroke-linejoin:miter;stroke-width:0.8;\"/>\n   </g>\n   <g id=\"patch_6\">\n    <path d=\"M 43.78125 22.318125 \nL 378.58125 22.318125 \n\" style=\"fill:none;stroke:#000000;stroke-linecap:square;stroke-linejoin:miter;stroke-width:0.8;\"/>\n   </g>\n   <g id=\"text_14\">\n    <!-- Loss vs. epochs -->\n    <defs>\n     <path id=\"DejaVuSans-32\"/>\n     <path d=\"M 2.984375 54.6875 \nL 12.5 54.6875 \nL 29.59375 8.796875 \nL 46.6875 54.6875 \nL 56.203125 54.6875 \nL 35.6875 0 \nL 23.484375 0 \nz\n\" id=\"DejaVuSans-118\"/>\n     <path d=\"M 56.203125 29.59375 \nL 56.203125 25.203125 \nL 14.890625 25.203125 \nQ 15.484375 15.921875 20.484375 11.0625 \nQ 25.484375 6.203125 34.421875 6.203125 \nQ 39.59375 6.203125 44.453125 7.46875 \nQ 49.3125 8.734375 54.109375 11.28125 \nL 54.109375 2.78125 \nQ 49.265625 0.734375 44.1875 -0.34375 \nQ 39.109375 -1.421875 33.890625 -1.421875 \nQ 20.796875 -1.421875 13.15625 6.1875 \nQ 5.515625 13.8125 5.515625 26.8125 \nQ 5.515625 40.234375 12.765625 48.109375 \nQ 20.015625 56 32.328125 56 \nQ 43.359375 56 49.78125 48.890625 \nQ 56.203125 41.796875 56.203125 29.59375 \nz\nM 47.21875 32.234375 \nQ 47.125 39.59375 43.09375 43.984375 \nQ 39.0625 48.390625 32.421875 48.390625 \nQ 24.90625 48.390625 20.390625 44.140625 \nQ 15.875 39.890625 15.1875 32.171875 \nz\n\" id=\"DejaVuSans-101\"/>\n    </defs>\n    <g transform=\"translate(164.22375 16.318125)scale(0.12 -0.12)\">\n     <use xlink:href=\"#DejaVuSans-76\"/>\n     <use x=\"53.962891\" xlink:href=\"#DejaVuSans-111\"/>\n     <use x=\"115.144531\" xlink:href=\"#DejaVuSans-115\"/>\n     <use x=\"167.244141\" xlink:href=\"#DejaVuSans-115\"/>\n     <use x=\"219.34375\" xlink:href=\"#DejaVuSans-32\"/>\n     <use x=\"251.130859\" xlink:href=\"#DejaVuSans-118\"/>\n     <use x=\"310.310547\" xlink:href=\"#DejaVuSans-115\"/>\n     <use x=\"362.410156\" xlink:href=\"#DejaVuSans-46\"/>\n     <use x=\"394.197266\" xlink:href=\"#DejaVuSans-32\"/>\n     <use x=\"425.984375\" xlink:href=\"#DejaVuSans-101\"/>\n     <use x=\"487.507812\" xlink:href=\"#DejaVuSans-112\"/>\n     <use x=\"550.984375\" xlink:href=\"#DejaVuSans-111\"/>\n     <use x=\"612.166016\" xlink:href=\"#DejaVuSans-99\"/>\n     <use x=\"667.146484\" xlink:href=\"#DejaVuSans-104\"/>\n     <use x=\"730.525391\" xlink:href=\"#DejaVuSans-115\"/>\n    </g>\n   </g>\n   <g id=\"legend_1\">\n    <g id=\"patch_7\">\n     <path d=\"M 290.2 59.674375 \nL 371.58125 59.674375 \nQ 373.58125 59.674375 373.58125 57.674375 \nL 373.58125 29.318125 \nQ 373.58125 27.318125 371.58125 27.318125 \nL 290.2 27.318125 \nQ 288.2 27.318125 288.2 29.318125 \nL 288.2 57.674375 \nQ 288.2 59.674375 290.2 59.674375 \nz\n\" style=\"fill:#ffffff;opacity:0.8;stroke:#cccccc;stroke-linejoin:miter;\"/>\n    </g>\n    <g id=\"line2d_14\">\n     <path d=\"M 292.2 35.416562 \nL 312.2 35.416562 \n\" style=\"fill:none;stroke:#1f77b4;stroke-linecap:square;stroke-width:1.5;\"/>\n    </g>\n    <g id=\"line2d_15\"/>\n    <g id=\"text_15\">\n     <!-- Training -->\n     <defs>\n      <path d=\"M -0.296875 72.90625 \nL 61.375 72.90625 \nL 61.375 64.59375 \nL 35.5 64.59375 \nL 35.5 0 \nL 25.59375 0 \nL 25.59375 64.59375 \nL -0.296875 64.59375 \nz\n\" id=\"DejaVuSans-84\"/>\n      <path d=\"M 41.109375 46.296875 \nQ 39.59375 47.171875 37.8125 47.578125 \nQ 36.03125 48 33.890625 48 \nQ 26.265625 48 22.1875 43.046875 \nQ 18.109375 38.09375 18.109375 28.8125 \nL 18.109375 0 \nL 9.078125 0 \nL 9.078125 54.6875 \nL 18.109375 54.6875 \nL 18.109375 46.1875 \nQ 20.953125 51.171875 25.484375 53.578125 \nQ 30.03125 56 36.53125 56 \nQ 37.453125 56 38.578125 55.875 \nQ 39.703125 55.765625 41.0625 55.515625 \nz\n\" id=\"DejaVuSans-114\"/>\n      <path d=\"M 34.28125 27.484375 \nQ 23.390625 27.484375 19.1875 25 \nQ 14.984375 22.515625 14.984375 16.5 \nQ 14.984375 11.71875 18.140625 8.90625 \nQ 21.296875 6.109375 26.703125 6.109375 \nQ 34.1875 6.109375 38.703125 11.40625 \nQ 43.21875 16.703125 43.21875 25.484375 \nL 43.21875 27.484375 \nz\nM 52.203125 31.203125 \nL 52.203125 0 \nL 43.21875 0 \nL 43.21875 8.296875 \nQ 40.140625 3.328125 35.546875 0.953125 \nQ 30.953125 -1.421875 24.3125 -1.421875 \nQ 15.921875 -1.421875 10.953125 3.296875 \nQ 6 8.015625 6 15.921875 \nQ 6 25.140625 12.171875 29.828125 \nQ 18.359375 34.515625 30.609375 34.515625 \nL 43.21875 34.515625 \nL 43.21875 35.40625 \nQ 43.21875 41.609375 39.140625 45 \nQ 35.0625 48.390625 27.6875 48.390625 \nQ 23 48.390625 18.546875 47.265625 \nQ 14.109375 46.140625 10.015625 43.890625 \nL 10.015625 52.203125 \nQ 14.9375 54.109375 19.578125 55.046875 \nQ 24.21875 56 28.609375 56 \nQ 40.484375 56 46.34375 49.84375 \nQ 52.203125 43.703125 52.203125 31.203125 \nz\n\" id=\"DejaVuSans-97\"/>\n      <path d=\"M 9.421875 54.6875 \nL 18.40625 54.6875 \nL 18.40625 0 \nL 9.421875 0 \nz\nM 9.421875 75.984375 \nL 18.40625 75.984375 \nL 18.40625 64.59375 \nL 9.421875 64.59375 \nz\n\" id=\"DejaVuSans-105\"/>\n      <path d=\"M 54.890625 33.015625 \nL 54.890625 0 \nL 45.90625 0 \nL 45.90625 32.71875 \nQ 45.90625 40.484375 42.875 44.328125 \nQ 39.84375 48.1875 33.796875 48.1875 \nQ 26.515625 48.1875 22.3125 43.546875 \nQ 18.109375 38.921875 18.109375 30.90625 \nL 18.109375 0 \nL 9.078125 0 \nL 9.078125 54.6875 \nL 18.109375 54.6875 \nL 18.109375 46.1875 \nQ 21.34375 51.125 25.703125 53.5625 \nQ 30.078125 56 35.796875 56 \nQ 45.21875 56 50.046875 50.171875 \nQ 54.890625 44.34375 54.890625 33.015625 \nz\n\" id=\"DejaVuSans-110\"/>\n      <path d=\"M 45.40625 27.984375 \nQ 45.40625 37.75 41.375 43.109375 \nQ 37.359375 48.484375 30.078125 48.484375 \nQ 22.859375 48.484375 18.828125 43.109375 \nQ 14.796875 37.75 14.796875 27.984375 \nQ 14.796875 18.265625 18.828125 12.890625 \nQ 22.859375 7.515625 30.078125 7.515625 \nQ 37.359375 7.515625 41.375 12.890625 \nQ 45.40625 18.265625 45.40625 27.984375 \nz\nM 54.390625 6.78125 \nQ 54.390625 -7.171875 48.1875 -13.984375 \nQ 42 -20.796875 29.203125 -20.796875 \nQ 24.46875 -20.796875 20.265625 -20.09375 \nQ 16.0625 -19.390625 12.109375 -17.921875 \nL 12.109375 -9.1875 \nQ 16.0625 -11.328125 19.921875 -12.34375 \nQ 23.78125 -13.375 27.78125 -13.375 \nQ 36.625 -13.375 41.015625 -8.765625 \nQ 45.40625 -4.15625 45.40625 5.171875 \nL 45.40625 9.625 \nQ 42.625 4.78125 38.28125 2.390625 \nQ 33.9375 0 27.875 0 \nQ 17.828125 0 11.671875 7.65625 \nQ 5.515625 15.328125 5.515625 27.984375 \nQ 5.515625 40.671875 11.671875 48.328125 \nQ 17.828125 56 27.875 56 \nQ 33.9375 56 38.28125 53.609375 \nQ 42.625 51.21875 45.40625 46.390625 \nL 45.40625 54.6875 \nL 54.390625 54.6875 \nz\n\" id=\"DejaVuSans-103\"/>\n     </defs>\n     <g transform=\"translate(320.2 38.916562)scale(0.1 -0.1)\">\n      <use xlink:href=\"#DejaVuSans-84\"/>\n      <use x=\"46.333984\" xlink:href=\"#DejaVuSans-114\"/>\n      <use x=\"87.447266\" xlink:href=\"#DejaVuSans-97\"/>\n      <use x=\"148.726562\" xlink:href=\"#DejaVuSans-105\"/>\n      <use x=\"176.509766\" xlink:href=\"#DejaVuSans-110\"/>\n      <use x=\"239.888672\" xlink:href=\"#DejaVuSans-105\"/>\n      <use x=\"267.671875\" xlink:href=\"#DejaVuSans-110\"/>\n      <use x=\"331.050781\" xlink:href=\"#DejaVuSans-103\"/>\n     </g>\n    </g>\n    <g id=\"line2d_16\">\n     <path d=\"M 292.2 50.094687 \nL 312.2 50.094687 \n\" style=\"fill:none;stroke:#ff7f0e;stroke-linecap:square;stroke-width:1.5;\"/>\n    </g>\n    <g id=\"line2d_17\"/>\n    <g id=\"text_16\">\n     <!-- Validation -->\n     <defs>\n      <path d=\"M 28.609375 0 \nL 0.78125 72.90625 \nL 11.078125 72.90625 \nL 34.1875 11.53125 \nL 57.328125 72.90625 \nL 67.578125 72.90625 \nL 39.796875 0 \nz\n\" id=\"DejaVuSans-86\"/>\n      <path d=\"M 9.421875 75.984375 \nL 18.40625 75.984375 \nL 18.40625 0 \nL 9.421875 0 \nz\n\" id=\"DejaVuSans-108\"/>\n      <path d=\"M 45.40625 46.390625 \nL 45.40625 75.984375 \nL 54.390625 75.984375 \nL 54.390625 0 \nL 45.40625 0 \nL 45.40625 8.203125 \nQ 42.578125 3.328125 38.25 0.953125 \nQ 33.9375 -1.421875 27.875 -1.421875 \nQ 17.96875 -1.421875 11.734375 6.484375 \nQ 5.515625 14.40625 5.515625 27.296875 \nQ 5.515625 40.1875 11.734375 48.09375 \nQ 17.96875 56 27.875 56 \nQ 33.9375 56 38.25 53.625 \nQ 42.578125 51.265625 45.40625 46.390625 \nz\nM 14.796875 27.296875 \nQ 14.796875 17.390625 18.875 11.75 \nQ 22.953125 6.109375 30.078125 6.109375 \nQ 37.203125 6.109375 41.296875 11.75 \nQ 45.40625 17.390625 45.40625 27.296875 \nQ 45.40625 37.203125 41.296875 42.84375 \nQ 37.203125 48.484375 30.078125 48.484375 \nQ 22.953125 48.484375 18.875 42.84375 \nQ 14.796875 37.203125 14.796875 27.296875 \nz\n\" id=\"DejaVuSans-100\"/>\n      <path d=\"M 18.3125 70.21875 \nL 18.3125 54.6875 \nL 36.8125 54.6875 \nL 36.8125 47.703125 \nL 18.3125 47.703125 \nL 18.3125 18.015625 \nQ 18.3125 11.328125 20.140625 9.421875 \nQ 21.96875 7.515625 27.59375 7.515625 \nL 36.8125 7.515625 \nL 36.8125 0 \nL 27.59375 0 \nQ 17.1875 0 13.234375 3.875 \nQ 9.28125 7.765625 9.28125 18.015625 \nL 9.28125 47.703125 \nL 2.6875 47.703125 \nL 2.6875 54.6875 \nL 9.28125 54.6875 \nL 9.28125 70.21875 \nz\n\" id=\"DejaVuSans-116\"/>\n     </defs>\n     <g transform=\"translate(320.2 53.594687)scale(0.1 -0.1)\">\n      <use xlink:href=\"#DejaVuSans-86\"/>\n      <use x=\"60.658203\" xlink:href=\"#DejaVuSans-97\"/>\n      <use x=\"121.9375\" xlink:href=\"#DejaVuSans-108\"/>\n      <use x=\"149.720703\" xlink:href=\"#DejaVuSans-105\"/>\n      <use x=\"177.503906\" xlink:href=\"#DejaVuSans-100\"/>\n      <use x=\"240.980469\" xlink:href=\"#DejaVuSans-97\"/>\n      <use x=\"302.259766\" xlink:href=\"#DejaVuSans-116\"/>\n      <use x=\"341.46875\" xlink:href=\"#DejaVuSans-105\"/>\n      <use x=\"369.251953\" xlink:href=\"#DejaVuSans-111\"/>\n      <use x=\"430.433594\" xlink:href=\"#DejaVuSans-110\"/>\n     </g>\n    </g>\n   </g>\n  </g>\n </g>\n <defs>\n  <clipPath id=\"pcda38fd99f\">\n   <rect height=\"217.44\" width=\"334.8\" x=\"43.78125\" y=\"22.318125\"/>\n  </clipPath>\n </defs>\n</svg>\n"
          },
          "metadata": {
            "needs_background": "light"
          }
        }
      ],
      "source": [
        "# Plot the training and validation loss\n",
        "\n",
        "plt.plot(history.history['loss'])\n",
        "plt.plot(history.history['val_loss'])\n",
        "plt.title('Loss vs. epochs')\n",
        "plt.ylabel('Loss')\n",
        "plt.xlabel('Epoch')\n",
        "plt.legend(['Training', 'Validation'], loc='upper right')\n",
        "plt.show()"
      ]
    },
    {
      "cell_type": "markdown",
      "id": "5fea592c-3cd2-4fb6-b32b-d9da751763fd",
      "metadata": {
        "id": "5fea592c-3cd2-4fb6-b32b-d9da751763fd"
      },
      "source": [
        "9. **Diagnose the learning curve:**\n",
        "    - Why is the validation loss much higher than training loss?\n",
        "    - What's this phenomenon called?\n",
        "    - Mention 3 methods to reduce this."
      ]
    },
    {
      "cell_type": "markdown",
      "id": "b8fd101e-f9d1-49bc-9101-1157932be789",
      "metadata": {
        "id": "b8fd101e-f9d1-49bc-9101-1157932be789"
      },
      "source": [
        "- **answer**:\n",
        "    - the model is too complex to generalize on new data\n",
        "    - overfitting\n",
        "    - reduce layers , dropout , reduce epochs"
      ]
    },
    {
      "cell_type": "markdown",
      "id": "f186ab89-4e72-4379-b458-843fbba8f1ef",
      "metadata": {
        "id": "f186ab89-4e72-4379-b458-843fbba8f1ef"
      },
      "source": [
        "10. **Use one of the methods you mentioned and retrain the model then plot the learning curves**"
      ]
    },
    {
      "cell_type": "code",
      "execution_count": 33,
      "id": "aa69dd9f-6304-4115-a547-8f02caa613bf",
      "metadata": {
        "id": "aa69dd9f-6304-4115-a547-8f02caa613bf",
        "colab": {
          "base_uri": "https://localhost:8080/",
          "height": 1000
        },
        "outputId": "b87e92b5-b62c-45e3-8fc3-6d1d187d9244"
      },
      "outputs": [
        {
          "output_type": "stream",
          "name": "stdout",
          "text": [
            "Model: \"sequential_1\"\n",
            "_________________________________________________________________\n",
            " Layer (type)                Output Shape              Param #   \n",
            "=================================================================\n",
            " dense_7 (Dense)             (None, 128)               1408      \n",
            "                                                                 \n",
            " dense_8 (Dense)             (None, 128)               16512     \n",
            "                                                                 \n",
            " dense_9 (Dense)             (None, 1)                 129       \n",
            "                                                                 \n",
            "=================================================================\n",
            "Total params: 18,049\n",
            "Trainable params: 18,049\n",
            "Non-trainable params: 0\n",
            "_________________________________________________________________\n",
            "None\n",
            "Epoch 1/100\n",
            "6/6 [==============================] - 1s 30ms/step - loss: 0.9716 - mean_absolute_error: 0.8425 - val_loss: 1.0145 - val_mean_absolute_error: 0.8703\n",
            "Epoch 2/100\n",
            "6/6 [==============================] - 0s 8ms/step - loss: 0.9127 - mean_absolute_error: 0.8178 - val_loss: 0.9620 - val_mean_absolute_error: 0.8506\n",
            "Epoch 3/100\n",
            "6/6 [==============================] - 0s 12ms/step - loss: 0.8455 - mean_absolute_error: 0.7856 - val_loss: 0.8972 - val_mean_absolute_error: 0.8259\n",
            "Epoch 4/100\n",
            "6/6 [==============================] - 0s 6ms/step - loss: 0.7615 - mean_absolute_error: 0.7432 - val_loss: 0.8170 - val_mean_absolute_error: 0.7911\n",
            "Epoch 5/100\n",
            "6/6 [==============================] - 0s 6ms/step - loss: 0.6768 - mean_absolute_error: 0.6985 - val_loss: 0.7335 - val_mean_absolute_error: 0.7498\n",
            "Epoch 6/100\n",
            "6/6 [==============================] - 0s 11ms/step - loss: 0.5955 - mean_absolute_error: 0.6531 - val_loss: 0.6800 - val_mean_absolute_error: 0.7153\n",
            "Epoch 7/100\n",
            "6/6 [==============================] - 0s 6ms/step - loss: 0.5366 - mean_absolute_error: 0.6016 - val_loss: 0.6571 - val_mean_absolute_error: 0.6949\n",
            "Epoch 8/100\n",
            "6/6 [==============================] - 0s 7ms/step - loss: 0.5014 - mean_absolute_error: 0.5769 - val_loss: 0.6187 - val_mean_absolute_error: 0.6670\n",
            "Epoch 9/100\n",
            "6/6 [==============================] - 0s 6ms/step - loss: 0.4803 - mean_absolute_error: 0.5642 - val_loss: 0.5966 - val_mean_absolute_error: 0.6555\n",
            "Epoch 10/100\n",
            "6/6 [==============================] - 0s 6ms/step - loss: 0.4484 - mean_absolute_error: 0.5359 - val_loss: 0.5876 - val_mean_absolute_error: 0.6555\n",
            "Epoch 11/100\n",
            "6/6 [==============================] - 0s 6ms/step - loss: 0.4409 - mean_absolute_error: 0.5279 - val_loss: 0.5640 - val_mean_absolute_error: 0.6428\n",
            "Epoch 12/100\n",
            "6/6 [==============================] - 0s 10ms/step - loss: 0.4304 - mean_absolute_error: 0.5240 - val_loss: 0.5473 - val_mean_absolute_error: 0.6264\n",
            "Epoch 13/100\n",
            "6/6 [==============================] - 0s 6ms/step - loss: 0.4358 - mean_absolute_error: 0.5282 - val_loss: 0.5437 - val_mean_absolute_error: 0.6241\n",
            "Epoch 14/100\n",
            "6/6 [==============================] - 0s 8ms/step - loss: 0.4335 - mean_absolute_error: 0.5220 - val_loss: 0.5823 - val_mean_absolute_error: 0.6504\n",
            "Epoch 15/100\n",
            "6/6 [==============================] - 0s 7ms/step - loss: 0.4318 - mean_absolute_error: 0.5208 - val_loss: 0.5426 - val_mean_absolute_error: 0.6193\n",
            "Epoch 16/100\n",
            "6/6 [==============================] - 0s 6ms/step - loss: 0.4231 - mean_absolute_error: 0.5173 - val_loss: 0.5456 - val_mean_absolute_error: 0.6228\n",
            "Epoch 17/100\n",
            "6/6 [==============================] - 0s 6ms/step - loss: 0.4209 - mean_absolute_error: 0.5158 - val_loss: 0.5584 - val_mean_absolute_error: 0.6343\n",
            "Epoch 18/100\n",
            "6/6 [==============================] - 0s 11ms/step - loss: 0.4304 - mean_absolute_error: 0.5188 - val_loss: 0.5649 - val_mean_absolute_error: 0.6373\n",
            "Epoch 19/100\n",
            "6/6 [==============================] - 0s 6ms/step - loss: 0.4140 - mean_absolute_error: 0.5117 - val_loss: 0.5329 - val_mean_absolute_error: 0.6072\n",
            "Epoch 20/100\n",
            "6/6 [==============================] - 0s 6ms/step - loss: 0.4335 - mean_absolute_error: 0.5305 - val_loss: 0.5340 - val_mean_absolute_error: 0.6101\n",
            "Epoch 21/100\n",
            "6/6 [==============================] - 0s 6ms/step - loss: 0.4102 - mean_absolute_error: 0.5092 - val_loss: 0.5888 - val_mean_absolute_error: 0.6520\n",
            "Epoch 22/100\n",
            "6/6 [==============================] - 0s 10ms/step - loss: 0.4306 - mean_absolute_error: 0.5169 - val_loss: 0.5609 - val_mean_absolute_error: 0.6332\n",
            "Epoch 23/100\n",
            "6/6 [==============================] - 0s 6ms/step - loss: 0.4145 - mean_absolute_error: 0.5123 - val_loss: 0.5349 - val_mean_absolute_error: 0.6131\n",
            "Epoch 24/100\n",
            "6/6 [==============================] - 0s 6ms/step - loss: 0.4125 - mean_absolute_error: 0.5135 - val_loss: 0.5436 - val_mean_absolute_error: 0.6220\n",
            "Epoch 25/100\n",
            "6/6 [==============================] - 0s 7ms/step - loss: 0.4100 - mean_absolute_error: 0.5107 - val_loss: 0.5483 - val_mean_absolute_error: 0.6253\n",
            "Epoch 26/100\n",
            "6/6 [==============================] - 0s 10ms/step - loss: 0.4094 - mean_absolute_error: 0.5091 - val_loss: 0.5407 - val_mean_absolute_error: 0.6169\n",
            "Epoch 27/100\n",
            "6/6 [==============================] - 0s 6ms/step - loss: 0.4078 - mean_absolute_error: 0.5088 - val_loss: 0.5346 - val_mean_absolute_error: 0.6109\n",
            "Epoch 28/100\n",
            "6/6 [==============================] - 0s 6ms/step - loss: 0.4076 - mean_absolute_error: 0.5088 - val_loss: 0.5468 - val_mean_absolute_error: 0.6221\n",
            "Epoch 29/100\n",
            "6/6 [==============================] - 0s 10ms/step - loss: 0.4043 - mean_absolute_error: 0.5064 - val_loss: 0.5404 - val_mean_absolute_error: 0.6163\n",
            "Epoch 30/100\n",
            "6/6 [==============================] - 0s 6ms/step - loss: 0.4036 - mean_absolute_error: 0.5064 - val_loss: 0.5348 - val_mean_absolute_error: 0.6117\n",
            "Epoch 31/100\n",
            "6/6 [==============================] - 0s 11ms/step - loss: 0.4067 - mean_absolute_error: 0.5104 - val_loss: 0.5291 - val_mean_absolute_error: 0.6087\n",
            "Epoch 32/100\n",
            "6/6 [==============================] - 0s 6ms/step - loss: 0.4125 - mean_absolute_error: 0.5077 - val_loss: 0.5718 - val_mean_absolute_error: 0.6396\n",
            "Epoch 33/100\n",
            "6/6 [==============================] - 0s 6ms/step - loss: 0.4056 - mean_absolute_error: 0.5052 - val_loss: 0.5232 - val_mean_absolute_error: 0.6026\n",
            "Epoch 34/100\n",
            "6/6 [==============================] - 0s 7ms/step - loss: 0.4018 - mean_absolute_error: 0.5089 - val_loss: 0.5272 - val_mean_absolute_error: 0.6031\n",
            "Epoch 35/100\n",
            "6/6 [==============================] - 0s 7ms/step - loss: 0.3959 - mean_absolute_error: 0.5019 - val_loss: 0.5449 - val_mean_absolute_error: 0.6181\n",
            "Epoch 36/100\n",
            "6/6 [==============================] - 0s 7ms/step - loss: 0.3980 - mean_absolute_error: 0.5002 - val_loss: 0.5498 - val_mean_absolute_error: 0.6227\n",
            "Epoch 37/100\n",
            "6/6 [==============================] - 0s 6ms/step - loss: 0.3957 - mean_absolute_error: 0.5006 - val_loss: 0.5316 - val_mean_absolute_error: 0.6070\n",
            "Epoch 38/100\n",
            "6/6 [==============================] - 0s 7ms/step - loss: 0.3948 - mean_absolute_error: 0.4999 - val_loss: 0.5450 - val_mean_absolute_error: 0.6168\n",
            "Epoch 39/100\n",
            "6/6 [==============================] - 0s 7ms/step - loss: 0.3931 - mean_absolute_error: 0.4983 - val_loss: 0.5315 - val_mean_absolute_error: 0.6053\n",
            "Epoch 40/100\n",
            "6/6 [==============================] - 0s 7ms/step - loss: 0.4007 - mean_absolute_error: 0.5092 - val_loss: 0.5217 - val_mean_absolute_error: 0.5973\n",
            "Epoch 41/100\n",
            "6/6 [==============================] - 0s 10ms/step - loss: 0.3956 - mean_absolute_error: 0.5003 - val_loss: 0.5685 - val_mean_absolute_error: 0.6338\n",
            "Epoch 42/100\n",
            "6/6 [==============================] - 0s 6ms/step - loss: 0.3934 - mean_absolute_error: 0.4981 - val_loss: 0.5244 - val_mean_absolute_error: 0.6016\n",
            "Epoch 43/100\n",
            "6/6 [==============================] - 0s 6ms/step - loss: 0.3913 - mean_absolute_error: 0.5008 - val_loss: 0.5201 - val_mean_absolute_error: 0.5964\n",
            "Epoch 44/100\n",
            "6/6 [==============================] - 0s 6ms/step - loss: 0.3853 - mean_absolute_error: 0.4926 - val_loss: 0.5530 - val_mean_absolute_error: 0.6217\n",
            "Epoch 45/100\n",
            "6/6 [==============================] - 0s 6ms/step - loss: 0.3868 - mean_absolute_error: 0.4922 - val_loss: 0.5397 - val_mean_absolute_error: 0.6102\n",
            "Epoch 46/100\n",
            "6/6 [==============================] - 0s 7ms/step - loss: 0.3816 - mean_absolute_error: 0.4916 - val_loss: 0.5291 - val_mean_absolute_error: 0.6014\n",
            "Epoch 47/100\n",
            "6/6 [==============================] - 0s 7ms/step - loss: 0.3814 - mean_absolute_error: 0.4903 - val_loss: 0.5454 - val_mean_absolute_error: 0.6161\n",
            "Epoch 48/100\n",
            "6/6 [==============================] - 0s 7ms/step - loss: 0.3790 - mean_absolute_error: 0.4887 - val_loss: 0.5258 - val_mean_absolute_error: 0.5990\n",
            "Epoch 49/100\n",
            "6/6 [==============================] - 0s 10ms/step - loss: 0.3776 - mean_absolute_error: 0.4898 - val_loss: 0.5193 - val_mean_absolute_error: 0.5901\n",
            "Epoch 50/100\n",
            "6/6 [==============================] - 0s 6ms/step - loss: 0.3764 - mean_absolute_error: 0.4884 - val_loss: 0.5289 - val_mean_absolute_error: 0.6003\n",
            "Epoch 51/100\n",
            "6/6 [==============================] - 0s 6ms/step - loss: 0.3748 - mean_absolute_error: 0.4870 - val_loss: 0.5308 - val_mean_absolute_error: 0.6020\n",
            "Epoch 52/100\n",
            "6/6 [==============================] - 0s 6ms/step - loss: 0.3760 - mean_absolute_error: 0.4883 - val_loss: 0.5136 - val_mean_absolute_error: 0.5883\n",
            "Epoch 53/100\n",
            "6/6 [==============================] - 0s 8ms/step - loss: 0.3763 - mean_absolute_error: 0.4876 - val_loss: 0.5322 - val_mean_absolute_error: 0.6050\n",
            "Epoch 54/100\n",
            "6/6 [==============================] - 0s 10ms/step - loss: 0.3707 - mean_absolute_error: 0.4833 - val_loss: 0.5283 - val_mean_absolute_error: 0.5980\n",
            "Epoch 55/100\n",
            "6/6 [==============================] - 0s 6ms/step - loss: 0.3705 - mean_absolute_error: 0.4848 - val_loss: 0.5261 - val_mean_absolute_error: 0.5945\n",
            "Epoch 56/100\n",
            "6/6 [==============================] - 0s 7ms/step - loss: 0.3683 - mean_absolute_error: 0.4820 - val_loss: 0.5264 - val_mean_absolute_error: 0.5938\n",
            "Epoch 57/100\n",
            "6/6 [==============================] - 0s 6ms/step - loss: 0.3710 - mean_absolute_error: 0.4840 - val_loss: 0.5210 - val_mean_absolute_error: 0.5902\n",
            "Epoch 58/100\n",
            "6/6 [==============================] - 0s 6ms/step - loss: 0.3647 - mean_absolute_error: 0.4796 - val_loss: 0.5341 - val_mean_absolute_error: 0.6009\n",
            "Epoch 59/100\n",
            "6/6 [==============================] - 0s 6ms/step - loss: 0.3636 - mean_absolute_error: 0.4779 - val_loss: 0.5319 - val_mean_absolute_error: 0.5996\n",
            "Epoch 60/100\n",
            "6/6 [==============================] - 0s 6ms/step - loss: 0.3618 - mean_absolute_error: 0.4773 - val_loss: 0.5245 - val_mean_absolute_error: 0.5946\n",
            "Epoch 61/100\n",
            "6/6 [==============================] - 0s 8ms/step - loss: 0.3596 - mean_absolute_error: 0.4769 - val_loss: 0.5172 - val_mean_absolute_error: 0.5852\n",
            "Epoch 62/100\n",
            "6/6 [==============================] - 0s 6ms/step - loss: 0.3586 - mean_absolute_error: 0.4754 - val_loss: 0.5365 - val_mean_absolute_error: 0.6022\n",
            "Epoch 63/100\n",
            "6/6 [==============================] - 0s 6ms/step - loss: 0.3603 - mean_absolute_error: 0.4743 - val_loss: 0.5354 - val_mean_absolute_error: 0.6003\n",
            "Epoch 64/100\n",
            "6/6 [==============================] - 0s 10ms/step - loss: 0.3556 - mean_absolute_error: 0.4719 - val_loss: 0.5265 - val_mean_absolute_error: 0.5876\n",
            "Epoch 65/100\n",
            "6/6 [==============================] - 0s 7ms/step - loss: 0.3604 - mean_absolute_error: 0.4765 - val_loss: 0.5314 - val_mean_absolute_error: 0.5951\n",
            "Epoch 66/100\n",
            "6/6 [==============================] - 0s 6ms/step - loss: 0.3537 - mean_absolute_error: 0.4704 - val_loss: 0.5256 - val_mean_absolute_error: 0.5952\n",
            "Epoch 67/100\n",
            "6/6 [==============================] - 0s 6ms/step - loss: 0.3525 - mean_absolute_error: 0.4685 - val_loss: 0.5285 - val_mean_absolute_error: 0.5981\n",
            "Epoch 68/100\n",
            "6/6 [==============================] - 0s 10ms/step - loss: 0.3549 - mean_absolute_error: 0.4699 - val_loss: 0.5251 - val_mean_absolute_error: 0.5911\n",
            "Epoch 69/100\n",
            "6/6 [==============================] - 0s 7ms/step - loss: 0.3560 - mean_absolute_error: 0.4694 - val_loss: 0.5417 - val_mean_absolute_error: 0.6050\n",
            "Epoch 70/100\n",
            "6/6 [==============================] - 0s 7ms/step - loss: 0.3515 - mean_absolute_error: 0.4682 - val_loss: 0.5211 - val_mean_absolute_error: 0.5833\n",
            "Epoch 71/100\n",
            "6/6 [==============================] - 0s 6ms/step - loss: 0.3500 - mean_absolute_error: 0.4678 - val_loss: 0.5474 - val_mean_absolute_error: 0.6078\n",
            "Epoch 72/100\n",
            "6/6 [==============================] - 0s 8ms/step - loss: 0.3479 - mean_absolute_error: 0.4679 - val_loss: 0.5139 - val_mean_absolute_error: 0.5772\n",
            "Epoch 73/100\n",
            "6/6 [==============================] - 0s 12ms/step - loss: 0.3464 - mean_absolute_error: 0.4666 - val_loss: 0.5321 - val_mean_absolute_error: 0.5928\n",
            "Epoch 74/100\n",
            "6/6 [==============================] - 0s 6ms/step - loss: 0.3536 - mean_absolute_error: 0.4713 - val_loss: 0.5419 - val_mean_absolute_error: 0.6023\n",
            "Epoch 75/100\n",
            "6/6 [==============================] - 0s 7ms/step - loss: 0.3425 - mean_absolute_error: 0.4637 - val_loss: 0.5094 - val_mean_absolute_error: 0.5759\n",
            "Epoch 76/100\n",
            "6/6 [==============================] - 0s 6ms/step - loss: 0.3439 - mean_absolute_error: 0.4661 - val_loss: 0.5257 - val_mean_absolute_error: 0.5855\n",
            "Epoch 77/100\n",
            "6/6 [==============================] - 0s 7ms/step - loss: 0.3420 - mean_absolute_error: 0.4626 - val_loss: 0.5307 - val_mean_absolute_error: 0.5883\n",
            "Epoch 78/100\n",
            "6/6 [==============================] - 0s 6ms/step - loss: 0.3416 - mean_absolute_error: 0.4639 - val_loss: 0.5399 - val_mean_absolute_error: 0.5962\n",
            "Epoch 79/100\n",
            "6/6 [==============================] - 0s 6ms/step - loss: 0.3380 - mean_absolute_error: 0.4609 - val_loss: 0.5204 - val_mean_absolute_error: 0.5807\n",
            "Epoch 80/100\n",
            "6/6 [==============================] - 0s 10ms/step - loss: 0.3368 - mean_absolute_error: 0.4604 - val_loss: 0.5289 - val_mean_absolute_error: 0.5914\n",
            "Epoch 81/100\n",
            "6/6 [==============================] - 0s 6ms/step - loss: 0.3358 - mean_absolute_error: 0.4587 - val_loss: 0.5283 - val_mean_absolute_error: 0.5898\n",
            "Epoch 82/100\n",
            "6/6 [==============================] - 0s 12ms/step - loss: 0.3336 - mean_absolute_error: 0.4562 - val_loss: 0.5251 - val_mean_absolute_error: 0.5880\n",
            "Epoch 83/100\n",
            "6/6 [==============================] - 0s 10ms/step - loss: 0.3309 - mean_absolute_error: 0.4539 - val_loss: 0.5384 - val_mean_absolute_error: 0.5936\n",
            "Epoch 84/100\n",
            "6/6 [==============================] - 0s 6ms/step - loss: 0.3312 - mean_absolute_error: 0.4532 - val_loss: 0.5369 - val_mean_absolute_error: 0.5912\n",
            "Epoch 85/100\n",
            "6/6 [==============================] - 0s 6ms/step - loss: 0.3299 - mean_absolute_error: 0.4528 - val_loss: 0.5368 - val_mean_absolute_error: 0.5920\n",
            "Epoch 86/100\n",
            "6/6 [==============================] - 0s 6ms/step - loss: 0.3313 - mean_absolute_error: 0.4528 - val_loss: 0.5239 - val_mean_absolute_error: 0.5852\n",
            "Epoch 87/100\n",
            "6/6 [==============================] - 0s 7ms/step - loss: 0.3326 - mean_absolute_error: 0.4560 - val_loss: 0.5193 - val_mean_absolute_error: 0.5815\n",
            "Epoch 88/100\n",
            "6/6 [==============================] - 0s 10ms/step - loss: 0.3269 - mean_absolute_error: 0.4530 - val_loss: 0.5350 - val_mean_absolute_error: 0.5894\n",
            "Epoch 89/100\n",
            "6/6 [==============================] - 0s 6ms/step - loss: 0.3272 - mean_absolute_error: 0.4529 - val_loss: 0.5335 - val_mean_absolute_error: 0.5881\n",
            "Epoch 90/100\n",
            "6/6 [==============================] - 0s 10ms/step - loss: 0.3247 - mean_absolute_error: 0.4499 - val_loss: 0.5284 - val_mean_absolute_error: 0.5837\n",
            "Epoch 91/100\n",
            "6/6 [==============================] - 0s 7ms/step - loss: 0.3260 - mean_absolute_error: 0.4491 - val_loss: 0.5352 - val_mean_absolute_error: 0.5868\n",
            "Epoch 92/100\n",
            "6/6 [==============================] - 0s 6ms/step - loss: 0.3208 - mean_absolute_error: 0.4451 - val_loss: 0.5252 - val_mean_absolute_error: 0.5825\n",
            "Epoch 93/100\n",
            "6/6 [==============================] - 0s 7ms/step - loss: 0.3224 - mean_absolute_error: 0.4471 - val_loss: 0.5393 - val_mean_absolute_error: 0.5921\n",
            "Epoch 94/100\n",
            "6/6 [==============================] - 0s 10ms/step - loss: 0.3228 - mean_absolute_error: 0.4464 - val_loss: 0.5343 - val_mean_absolute_error: 0.5881\n",
            "Epoch 95/100\n",
            "6/6 [==============================] - 0s 6ms/step - loss: 0.3194 - mean_absolute_error: 0.4458 - val_loss: 0.5224 - val_mean_absolute_error: 0.5822\n",
            "Epoch 96/100\n",
            "6/6 [==============================] - 0s 6ms/step - loss: 0.3188 - mean_absolute_error: 0.4464 - val_loss: 0.5430 - val_mean_absolute_error: 0.5935\n",
            "Epoch 97/100\n",
            "6/6 [==============================] - 0s 6ms/step - loss: 0.3182 - mean_absolute_error: 0.4450 - val_loss: 0.5260 - val_mean_absolute_error: 0.5823\n",
            "Epoch 98/100\n",
            "6/6 [==============================] - 0s 6ms/step - loss: 0.3156 - mean_absolute_error: 0.4423 - val_loss: 0.5228 - val_mean_absolute_error: 0.5809\n",
            "Epoch 99/100\n",
            "6/6 [==============================] - 0s 7ms/step - loss: 0.3209 - mean_absolute_error: 0.4431 - val_loss: 0.5278 - val_mean_absolute_error: 0.5841\n",
            "Epoch 100/100\n",
            "6/6 [==============================] - 0s 7ms/step - loss: 0.3207 - mean_absolute_error: 0.4485 - val_loss: 0.5197 - val_mean_absolute_error: 0.5816\n",
            "2/2 - 0s - loss: 0.7539 - mean_absolute_error: 0.6664 - 17ms/epoch - 8ms/step\n"
          ]
        },
        {
          "output_type": "display_data",
          "data": {
            "text/plain": [
              "<Figure size 432x288 with 1 Axes>"
            ],
            "image/svg+xml": "<?xml version=\"1.0\" encoding=\"utf-8\" standalone=\"no\"?>\n<!DOCTYPE svg PUBLIC \"-//W3C//DTD SVG 1.1//EN\"\n  \"http://www.w3.org/Graphics/SVG/1.1/DTD/svg11.dtd\">\n<!-- Created with matplotlib (https://matplotlib.org/) -->\n<svg height=\"277.314375pt\" version=\"1.1\" viewBox=\"0 0 385.78125 277.314375\" width=\"385.78125pt\" xmlns=\"http://www.w3.org/2000/svg\" xmlns:xlink=\"http://www.w3.org/1999/xlink\">\n <defs>\n  <style type=\"text/css\">\n*{stroke-linecap:butt;stroke-linejoin:round;}\n  </style>\n </defs>\n <g id=\"figure_1\">\n  <g id=\"patch_1\">\n   <path d=\"M 0 277.314375 \nL 385.78125 277.314375 \nL 385.78125 0 \nL 0 0 \nz\n\" style=\"fill:none;\"/>\n  </g>\n  <g id=\"axes_1\">\n   <g id=\"patch_2\">\n    <path d=\"M 43.78125 239.758125 \nL 378.58125 239.758125 \nL 378.58125 22.318125 \nL 43.78125 22.318125 \nz\n\" style=\"fill:#ffffff;\"/>\n   </g>\n   <g id=\"matplotlib.axis_1\">\n    <g id=\"xtick_1\">\n     <g id=\"line2d_1\">\n      <defs>\n       <path d=\"M 0 0 \nL 0 3.5 \n\" id=\"m75b82f71bd\" style=\"stroke:#000000;stroke-width:0.8;\"/>\n      </defs>\n      <g>\n       <use style=\"stroke:#000000;stroke-width:0.8;\" x=\"58.999432\" xlink:href=\"#m75b82f71bd\" y=\"239.758125\"/>\n      </g>\n     </g>\n     <g id=\"text_1\">\n      <!-- 0 -->\n      <defs>\n       <path d=\"M 31.78125 66.40625 \nQ 24.171875 66.40625 20.328125 58.90625 \nQ 16.5 51.421875 16.5 36.375 \nQ 16.5 21.390625 20.328125 13.890625 \nQ 24.171875 6.390625 31.78125 6.390625 \nQ 39.453125 6.390625 43.28125 13.890625 \nQ 47.125 21.390625 47.125 36.375 \nQ 47.125 51.421875 43.28125 58.90625 \nQ 39.453125 66.40625 31.78125 66.40625 \nz\nM 31.78125 74.21875 \nQ 44.046875 74.21875 50.515625 64.515625 \nQ 56.984375 54.828125 56.984375 36.375 \nQ 56.984375 17.96875 50.515625 8.265625 \nQ 44.046875 -1.421875 31.78125 -1.421875 \nQ 19.53125 -1.421875 13.0625 8.265625 \nQ 6.59375 17.96875 6.59375 36.375 \nQ 6.59375 54.828125 13.0625 64.515625 \nQ 19.53125 74.21875 31.78125 74.21875 \nz\n\" id=\"DejaVuSans-48\"/>\n      </defs>\n      <g transform=\"translate(55.818182 254.356562)scale(0.1 -0.1)\">\n       <use xlink:href=\"#DejaVuSans-48\"/>\n      </g>\n     </g>\n    </g>\n    <g id=\"xtick_2\">\n     <g id=\"line2d_2\">\n      <g>\n       <use style=\"stroke:#000000;stroke-width:0.8;\" x=\"120.487035\" xlink:href=\"#m75b82f71bd\" y=\"239.758125\"/>\n      </g>\n     </g>\n     <g id=\"text_2\">\n      <!-- 20 -->\n      <defs>\n       <path d=\"M 19.1875 8.296875 \nL 53.609375 8.296875 \nL 53.609375 0 \nL 7.328125 0 \nL 7.328125 8.296875 \nQ 12.9375 14.109375 22.625 23.890625 \nQ 32.328125 33.6875 34.8125 36.53125 \nQ 39.546875 41.84375 41.421875 45.53125 \nQ 43.3125 49.21875 43.3125 52.78125 \nQ 43.3125 58.59375 39.234375 62.25 \nQ 35.15625 65.921875 28.609375 65.921875 \nQ 23.96875 65.921875 18.8125 64.3125 \nQ 13.671875 62.703125 7.8125 59.421875 \nL 7.8125 69.390625 \nQ 13.765625 71.78125 18.9375 73 \nQ 24.125 74.21875 28.421875 74.21875 \nQ 39.75 74.21875 46.484375 68.546875 \nQ 53.21875 62.890625 53.21875 53.421875 \nQ 53.21875 48.921875 51.53125 44.890625 \nQ 49.859375 40.875 45.40625 35.40625 \nQ 44.1875 33.984375 37.640625 27.21875 \nQ 31.109375 20.453125 19.1875 8.296875 \nz\n\" id=\"DejaVuSans-50\"/>\n      </defs>\n      <g transform=\"translate(114.124535 254.356562)scale(0.1 -0.1)\">\n       <use xlink:href=\"#DejaVuSans-50\"/>\n       <use x=\"63.623047\" xlink:href=\"#DejaVuSans-48\"/>\n      </g>\n     </g>\n    </g>\n    <g id=\"xtick_3\">\n     <g id=\"line2d_3\">\n      <g>\n       <use style=\"stroke:#000000;stroke-width:0.8;\" x=\"181.974638\" xlink:href=\"#m75b82f71bd\" y=\"239.758125\"/>\n      </g>\n     </g>\n     <g id=\"text_3\">\n      <!-- 40 -->\n      <defs>\n       <path d=\"M 37.796875 64.3125 \nL 12.890625 25.390625 \nL 37.796875 25.390625 \nz\nM 35.203125 72.90625 \nL 47.609375 72.90625 \nL 47.609375 25.390625 \nL 58.015625 25.390625 \nL 58.015625 17.1875 \nL 47.609375 17.1875 \nL 47.609375 0 \nL 37.796875 0 \nL 37.796875 17.1875 \nL 4.890625 17.1875 \nL 4.890625 26.703125 \nz\n\" id=\"DejaVuSans-52\"/>\n      </defs>\n      <g transform=\"translate(175.612138 254.356562)scale(0.1 -0.1)\">\n       <use xlink:href=\"#DejaVuSans-52\"/>\n       <use x=\"63.623047\" xlink:href=\"#DejaVuSans-48\"/>\n      </g>\n     </g>\n    </g>\n    <g id=\"xtick_4\">\n     <g id=\"line2d_4\">\n      <g>\n       <use style=\"stroke:#000000;stroke-width:0.8;\" x=\"243.462242\" xlink:href=\"#m75b82f71bd\" y=\"239.758125\"/>\n      </g>\n     </g>\n     <g id=\"text_4\">\n      <!-- 60 -->\n      <defs>\n       <path d=\"M 33.015625 40.375 \nQ 26.375 40.375 22.484375 35.828125 \nQ 18.609375 31.296875 18.609375 23.390625 \nQ 18.609375 15.53125 22.484375 10.953125 \nQ 26.375 6.390625 33.015625 6.390625 \nQ 39.65625 6.390625 43.53125 10.953125 \nQ 47.40625 15.53125 47.40625 23.390625 \nQ 47.40625 31.296875 43.53125 35.828125 \nQ 39.65625 40.375 33.015625 40.375 \nz\nM 52.59375 71.296875 \nL 52.59375 62.3125 \nQ 48.875 64.0625 45.09375 64.984375 \nQ 41.3125 65.921875 37.59375 65.921875 \nQ 27.828125 65.921875 22.671875 59.328125 \nQ 17.53125 52.734375 16.796875 39.40625 \nQ 19.671875 43.65625 24.015625 45.921875 \nQ 28.375 48.1875 33.59375 48.1875 \nQ 44.578125 48.1875 50.953125 41.515625 \nQ 57.328125 34.859375 57.328125 23.390625 \nQ 57.328125 12.15625 50.6875 5.359375 \nQ 44.046875 -1.421875 33.015625 -1.421875 \nQ 20.359375 -1.421875 13.671875 8.265625 \nQ 6.984375 17.96875 6.984375 36.375 \nQ 6.984375 53.65625 15.1875 63.9375 \nQ 23.390625 74.21875 37.203125 74.21875 \nQ 40.921875 74.21875 44.703125 73.484375 \nQ 48.484375 72.75 52.59375 71.296875 \nz\n\" id=\"DejaVuSans-54\"/>\n      </defs>\n      <g transform=\"translate(237.099742 254.356562)scale(0.1 -0.1)\">\n       <use xlink:href=\"#DejaVuSans-54\"/>\n       <use x=\"63.623047\" xlink:href=\"#DejaVuSans-48\"/>\n      </g>\n     </g>\n    </g>\n    <g id=\"xtick_5\">\n     <g id=\"line2d_5\">\n      <g>\n       <use style=\"stroke:#000000;stroke-width:0.8;\" x=\"304.949845\" xlink:href=\"#m75b82f71bd\" y=\"239.758125\"/>\n      </g>\n     </g>\n     <g id=\"text_5\">\n      <!-- 80 -->\n      <defs>\n       <path d=\"M 31.78125 34.625 \nQ 24.75 34.625 20.71875 30.859375 \nQ 16.703125 27.09375 16.703125 20.515625 \nQ 16.703125 13.921875 20.71875 10.15625 \nQ 24.75 6.390625 31.78125 6.390625 \nQ 38.8125 6.390625 42.859375 10.171875 \nQ 46.921875 13.96875 46.921875 20.515625 \nQ 46.921875 27.09375 42.890625 30.859375 \nQ 38.875 34.625 31.78125 34.625 \nz\nM 21.921875 38.8125 \nQ 15.578125 40.375 12.03125 44.71875 \nQ 8.5 49.078125 8.5 55.328125 \nQ 8.5 64.0625 14.71875 69.140625 \nQ 20.953125 74.21875 31.78125 74.21875 \nQ 42.671875 74.21875 48.875 69.140625 \nQ 55.078125 64.0625 55.078125 55.328125 \nQ 55.078125 49.078125 51.53125 44.71875 \nQ 48 40.375 41.703125 38.8125 \nQ 48.828125 37.15625 52.796875 32.3125 \nQ 56.78125 27.484375 56.78125 20.515625 \nQ 56.78125 9.90625 50.3125 4.234375 \nQ 43.84375 -1.421875 31.78125 -1.421875 \nQ 19.734375 -1.421875 13.25 4.234375 \nQ 6.78125 9.90625 6.78125 20.515625 \nQ 6.78125 27.484375 10.78125 32.3125 \nQ 14.796875 37.15625 21.921875 38.8125 \nz\nM 18.3125 54.390625 \nQ 18.3125 48.734375 21.84375 45.5625 \nQ 25.390625 42.390625 31.78125 42.390625 \nQ 38.140625 42.390625 41.71875 45.5625 \nQ 45.3125 48.734375 45.3125 54.390625 \nQ 45.3125 60.0625 41.71875 63.234375 \nQ 38.140625 66.40625 31.78125 66.40625 \nQ 25.390625 66.40625 21.84375 63.234375 \nQ 18.3125 60.0625 18.3125 54.390625 \nz\n\" id=\"DejaVuSans-56\"/>\n      </defs>\n      <g transform=\"translate(298.587345 254.356562)scale(0.1 -0.1)\">\n       <use xlink:href=\"#DejaVuSans-56\"/>\n       <use x=\"63.623047\" xlink:href=\"#DejaVuSans-48\"/>\n      </g>\n     </g>\n    </g>\n    <g id=\"xtick_6\">\n     <g id=\"line2d_6\">\n      <g>\n       <use style=\"stroke:#000000;stroke-width:0.8;\" x=\"366.437448\" xlink:href=\"#m75b82f71bd\" y=\"239.758125\"/>\n      </g>\n     </g>\n     <g id=\"text_6\">\n      <!-- 100 -->\n      <defs>\n       <path d=\"M 12.40625 8.296875 \nL 28.515625 8.296875 \nL 28.515625 63.921875 \nL 10.984375 60.40625 \nL 10.984375 69.390625 \nL 28.421875 72.90625 \nL 38.28125 72.90625 \nL 38.28125 8.296875 \nL 54.390625 8.296875 \nL 54.390625 0 \nL 12.40625 0 \nz\n\" id=\"DejaVuSans-49\"/>\n      </defs>\n      <g transform=\"translate(356.893698 254.356562)scale(0.1 -0.1)\">\n       <use xlink:href=\"#DejaVuSans-49\"/>\n       <use x=\"63.623047\" xlink:href=\"#DejaVuSans-48\"/>\n       <use x=\"127.246094\" xlink:href=\"#DejaVuSans-48\"/>\n      </g>\n     </g>\n    </g>\n    <g id=\"text_7\">\n     <!-- Epoch -->\n     <defs>\n      <path d=\"M 9.8125 72.90625 \nL 55.90625 72.90625 \nL 55.90625 64.59375 \nL 19.671875 64.59375 \nL 19.671875 43.015625 \nL 54.390625 43.015625 \nL 54.390625 34.71875 \nL 19.671875 34.71875 \nL 19.671875 8.296875 \nL 56.78125 8.296875 \nL 56.78125 0 \nL 9.8125 0 \nz\n\" id=\"DejaVuSans-69\"/>\n      <path d=\"M 18.109375 8.203125 \nL 18.109375 -20.796875 \nL 9.078125 -20.796875 \nL 9.078125 54.6875 \nL 18.109375 54.6875 \nL 18.109375 46.390625 \nQ 20.953125 51.265625 25.265625 53.625 \nQ 29.59375 56 35.59375 56 \nQ 45.5625 56 51.78125 48.09375 \nQ 58.015625 40.1875 58.015625 27.296875 \nQ 58.015625 14.40625 51.78125 6.484375 \nQ 45.5625 -1.421875 35.59375 -1.421875 \nQ 29.59375 -1.421875 25.265625 0.953125 \nQ 20.953125 3.328125 18.109375 8.203125 \nz\nM 48.6875 27.296875 \nQ 48.6875 37.203125 44.609375 42.84375 \nQ 40.53125 48.484375 33.40625 48.484375 \nQ 26.265625 48.484375 22.1875 42.84375 \nQ 18.109375 37.203125 18.109375 27.296875 \nQ 18.109375 17.390625 22.1875 11.75 \nQ 26.265625 6.109375 33.40625 6.109375 \nQ 40.53125 6.109375 44.609375 11.75 \nQ 48.6875 17.390625 48.6875 27.296875 \nz\n\" id=\"DejaVuSans-112\"/>\n      <path d=\"M 30.609375 48.390625 \nQ 23.390625 48.390625 19.1875 42.75 \nQ 14.984375 37.109375 14.984375 27.296875 \nQ 14.984375 17.484375 19.15625 11.84375 \nQ 23.34375 6.203125 30.609375 6.203125 \nQ 37.796875 6.203125 41.984375 11.859375 \nQ 46.1875 17.53125 46.1875 27.296875 \nQ 46.1875 37.015625 41.984375 42.703125 \nQ 37.796875 48.390625 30.609375 48.390625 \nz\nM 30.609375 56 \nQ 42.328125 56 49.015625 48.375 \nQ 55.71875 40.765625 55.71875 27.296875 \nQ 55.71875 13.875 49.015625 6.21875 \nQ 42.328125 -1.421875 30.609375 -1.421875 \nQ 18.84375 -1.421875 12.171875 6.21875 \nQ 5.515625 13.875 5.515625 27.296875 \nQ 5.515625 40.765625 12.171875 48.375 \nQ 18.84375 56 30.609375 56 \nz\n\" id=\"DejaVuSans-111\"/>\n      <path d=\"M 48.78125 52.59375 \nL 48.78125 44.1875 \nQ 44.96875 46.296875 41.140625 47.34375 \nQ 37.3125 48.390625 33.40625 48.390625 \nQ 24.65625 48.390625 19.8125 42.84375 \nQ 14.984375 37.3125 14.984375 27.296875 \nQ 14.984375 17.28125 19.8125 11.734375 \nQ 24.65625 6.203125 33.40625 6.203125 \nQ 37.3125 6.203125 41.140625 7.25 \nQ 44.96875 8.296875 48.78125 10.40625 \nL 48.78125 2.09375 \nQ 45.015625 0.34375 40.984375 -0.53125 \nQ 36.96875 -1.421875 32.421875 -1.421875 \nQ 20.0625 -1.421875 12.78125 6.34375 \nQ 5.515625 14.109375 5.515625 27.296875 \nQ 5.515625 40.671875 12.859375 48.328125 \nQ 20.21875 56 33.015625 56 \nQ 37.15625 56 41.109375 55.140625 \nQ 45.0625 54.296875 48.78125 52.59375 \nz\n\" id=\"DejaVuSans-99\"/>\n      <path d=\"M 54.890625 33.015625 \nL 54.890625 0 \nL 45.90625 0 \nL 45.90625 32.71875 \nQ 45.90625 40.484375 42.875 44.328125 \nQ 39.84375 48.1875 33.796875 48.1875 \nQ 26.515625 48.1875 22.3125 43.546875 \nQ 18.109375 38.921875 18.109375 30.90625 \nL 18.109375 0 \nL 9.078125 0 \nL 9.078125 75.984375 \nL 18.109375 75.984375 \nL 18.109375 46.1875 \nQ 21.34375 51.125 25.703125 53.5625 \nQ 30.078125 56 35.796875 56 \nQ 45.21875 56 50.046875 50.171875 \nQ 54.890625 44.34375 54.890625 33.015625 \nz\n\" id=\"DejaVuSans-104\"/>\n     </defs>\n     <g transform=\"translate(195.870313 268.034687)scale(0.1 -0.1)\">\n      <use xlink:href=\"#DejaVuSans-69\"/>\n      <use x=\"63.183594\" xlink:href=\"#DejaVuSans-112\"/>\n      <use x=\"126.660156\" xlink:href=\"#DejaVuSans-111\"/>\n      <use x=\"187.841797\" xlink:href=\"#DejaVuSans-99\"/>\n      <use x=\"242.822266\" xlink:href=\"#DejaVuSans-104\"/>\n     </g>\n    </g>\n   </g>\n   <g id=\"matplotlib.axis_2\">\n    <g id=\"ytick_1\">\n     <g id=\"line2d_7\">\n      <defs>\n       <path d=\"M 0 0 \nL -3.5 0 \n\" id=\"m0fbac44ced\" style=\"stroke:#000000;stroke-width:0.8;\"/>\n      </defs>\n      <g>\n       <use style=\"stroke:#000000;stroke-width:0.8;\" x=\"43.78125\" xlink:href=\"#m0fbac44ced\" y=\"234.283795\"/>\n      </g>\n     </g>\n     <g id=\"text_8\">\n      <!-- 0.3 -->\n      <defs>\n       <path d=\"M 10.6875 12.40625 \nL 21 12.40625 \nL 21 0 \nL 10.6875 0 \nz\n\" id=\"DejaVuSans-46\"/>\n       <path d=\"M 40.578125 39.3125 \nQ 47.65625 37.796875 51.625 33 \nQ 55.609375 28.21875 55.609375 21.1875 \nQ 55.609375 10.40625 48.1875 4.484375 \nQ 40.765625 -1.421875 27.09375 -1.421875 \nQ 22.515625 -1.421875 17.65625 -0.515625 \nQ 12.796875 0.390625 7.625 2.203125 \nL 7.625 11.71875 \nQ 11.71875 9.328125 16.59375 8.109375 \nQ 21.484375 6.890625 26.8125 6.890625 \nQ 36.078125 6.890625 40.9375 10.546875 \nQ 45.796875 14.203125 45.796875 21.1875 \nQ 45.796875 27.640625 41.28125 31.265625 \nQ 36.765625 34.90625 28.71875 34.90625 \nL 20.21875 34.90625 \nL 20.21875 43.015625 \nL 29.109375 43.015625 \nQ 36.375 43.015625 40.234375 45.921875 \nQ 44.09375 48.828125 44.09375 54.296875 \nQ 44.09375 59.90625 40.109375 62.90625 \nQ 36.140625 65.921875 28.71875 65.921875 \nQ 24.65625 65.921875 20.015625 65.03125 \nQ 15.375 64.15625 9.8125 62.3125 \nL 9.8125 71.09375 \nQ 15.4375 72.65625 20.34375 73.4375 \nQ 25.25 74.21875 29.59375 74.21875 \nQ 40.828125 74.21875 47.359375 69.109375 \nQ 53.90625 64.015625 53.90625 55.328125 \nQ 53.90625 49.265625 50.4375 45.09375 \nQ 46.96875 40.921875 40.578125 39.3125 \nz\n\" id=\"DejaVuSans-51\"/>\n      </defs>\n      <g transform=\"translate(20.878125 238.083014)scale(0.1 -0.1)\">\n       <use xlink:href=\"#DejaVuSans-48\"/>\n       <use x=\"63.623047\" xlink:href=\"#DejaVuSans-46\"/>\n       <use x=\"95.410156\" xlink:href=\"#DejaVuSans-51\"/>\n      </g>\n     </g>\n    </g>\n    <g id=\"ytick_2\">\n     <g id=\"line2d_8\">\n      <g>\n       <use style=\"stroke:#000000;stroke-width:0.8;\" x=\"43.78125\" xlink:href=\"#m0fbac44ced\" y=\"205.9993\"/>\n      </g>\n     </g>\n     <g id=\"text_9\">\n      <!-- 0.4 -->\n      <g transform=\"translate(20.878125 209.798519)scale(0.1 -0.1)\">\n       <use xlink:href=\"#DejaVuSans-48\"/>\n       <use x=\"63.623047\" xlink:href=\"#DejaVuSans-46\"/>\n       <use x=\"95.410156\" xlink:href=\"#DejaVuSans-52\"/>\n      </g>\n     </g>\n    </g>\n    <g id=\"ytick_3\">\n     <g id=\"line2d_9\">\n      <g>\n       <use style=\"stroke:#000000;stroke-width:0.8;\" x=\"43.78125\" xlink:href=\"#m0fbac44ced\" y=\"177.714805\"/>\n      </g>\n     </g>\n     <g id=\"text_10\">\n      <!-- 0.5 -->\n      <defs>\n       <path d=\"M 10.796875 72.90625 \nL 49.515625 72.90625 \nL 49.515625 64.59375 \nL 19.828125 64.59375 \nL 19.828125 46.734375 \nQ 21.96875 47.46875 24.109375 47.828125 \nQ 26.265625 48.1875 28.421875 48.1875 \nQ 40.625 48.1875 47.75 41.5 \nQ 54.890625 34.8125 54.890625 23.390625 \nQ 54.890625 11.625 47.5625 5.09375 \nQ 40.234375 -1.421875 26.90625 -1.421875 \nQ 22.3125 -1.421875 17.546875 -0.640625 \nQ 12.796875 0.140625 7.71875 1.703125 \nL 7.71875 11.625 \nQ 12.109375 9.234375 16.796875 8.0625 \nQ 21.484375 6.890625 26.703125 6.890625 \nQ 35.15625 6.890625 40.078125 11.328125 \nQ 45.015625 15.765625 45.015625 23.390625 \nQ 45.015625 31 40.078125 35.4375 \nQ 35.15625 39.890625 26.703125 39.890625 \nQ 22.75 39.890625 18.8125 39.015625 \nQ 14.890625 38.140625 10.796875 36.28125 \nz\n\" id=\"DejaVuSans-53\"/>\n      </defs>\n      <g transform=\"translate(20.878125 181.514024)scale(0.1 -0.1)\">\n       <use xlink:href=\"#DejaVuSans-48\"/>\n       <use x=\"63.623047\" xlink:href=\"#DejaVuSans-46\"/>\n       <use x=\"95.410156\" xlink:href=\"#DejaVuSans-53\"/>\n      </g>\n     </g>\n    </g>\n    <g id=\"ytick_4\">\n     <g id=\"line2d_10\">\n      <g>\n       <use style=\"stroke:#000000;stroke-width:0.8;\" x=\"43.78125\" xlink:href=\"#m0fbac44ced\" y=\"149.430311\"/>\n      </g>\n     </g>\n     <g id=\"text_11\">\n      <!-- 0.6 -->\n      <g transform=\"translate(20.878125 153.229529)scale(0.1 -0.1)\">\n       <use xlink:href=\"#DejaVuSans-48\"/>\n       <use x=\"63.623047\" xlink:href=\"#DejaVuSans-46\"/>\n       <use x=\"95.410156\" xlink:href=\"#DejaVuSans-54\"/>\n      </g>\n     </g>\n    </g>\n    <g id=\"ytick_5\">\n     <g id=\"line2d_11\">\n      <g>\n       <use style=\"stroke:#000000;stroke-width:0.8;\" x=\"43.78125\" xlink:href=\"#m0fbac44ced\" y=\"121.145816\"/>\n      </g>\n     </g>\n     <g id=\"text_12\">\n      <!-- 0.7 -->\n      <defs>\n       <path d=\"M 8.203125 72.90625 \nL 55.078125 72.90625 \nL 55.078125 68.703125 \nL 28.609375 0 \nL 18.3125 0 \nL 43.21875 64.59375 \nL 8.203125 64.59375 \nz\n\" id=\"DejaVuSans-55\"/>\n      </defs>\n      <g transform=\"translate(20.878125 124.945034)scale(0.1 -0.1)\">\n       <use xlink:href=\"#DejaVuSans-48\"/>\n       <use x=\"63.623047\" xlink:href=\"#DejaVuSans-46\"/>\n       <use x=\"95.410156\" xlink:href=\"#DejaVuSans-55\"/>\n      </g>\n     </g>\n    </g>\n    <g id=\"ytick_6\">\n     <g id=\"line2d_12\">\n      <g>\n       <use style=\"stroke:#000000;stroke-width:0.8;\" x=\"43.78125\" xlink:href=\"#m0fbac44ced\" y=\"92.861321\"/>\n      </g>\n     </g>\n     <g id=\"text_13\">\n      <!-- 0.8 -->\n      <g transform=\"translate(20.878125 96.660539)scale(0.1 -0.1)\">\n       <use xlink:href=\"#DejaVuSans-48\"/>\n       <use x=\"63.623047\" xlink:href=\"#DejaVuSans-46\"/>\n       <use x=\"95.410156\" xlink:href=\"#DejaVuSans-56\"/>\n      </g>\n     </g>\n    </g>\n    <g id=\"ytick_7\">\n     <g id=\"line2d_13\">\n      <g>\n       <use style=\"stroke:#000000;stroke-width:0.8;\" x=\"43.78125\" xlink:href=\"#m0fbac44ced\" y=\"64.576826\"/>\n      </g>\n     </g>\n     <g id=\"text_14\">\n      <!-- 0.9 -->\n      <defs>\n       <path d=\"M 10.984375 1.515625 \nL 10.984375 10.5 \nQ 14.703125 8.734375 18.5 7.8125 \nQ 22.3125 6.890625 25.984375 6.890625 \nQ 35.75 6.890625 40.890625 13.453125 \nQ 46.046875 20.015625 46.78125 33.40625 \nQ 43.953125 29.203125 39.59375 26.953125 \nQ 35.25 24.703125 29.984375 24.703125 \nQ 19.046875 24.703125 12.671875 31.3125 \nQ 6.296875 37.9375 6.296875 49.421875 \nQ 6.296875 60.640625 12.9375 67.421875 \nQ 19.578125 74.21875 30.609375 74.21875 \nQ 43.265625 74.21875 49.921875 64.515625 \nQ 56.59375 54.828125 56.59375 36.375 \nQ 56.59375 19.140625 48.40625 8.859375 \nQ 40.234375 -1.421875 26.421875 -1.421875 \nQ 22.703125 -1.421875 18.890625 -0.6875 \nQ 15.09375 0.046875 10.984375 1.515625 \nz\nM 30.609375 32.421875 \nQ 37.25 32.421875 41.125 36.953125 \nQ 45.015625 41.5 45.015625 49.421875 \nQ 45.015625 57.28125 41.125 61.84375 \nQ 37.25 66.40625 30.609375 66.40625 \nQ 23.96875 66.40625 20.09375 61.84375 \nQ 16.21875 57.28125 16.21875 49.421875 \nQ 16.21875 41.5 20.09375 36.953125 \nQ 23.96875 32.421875 30.609375 32.421875 \nz\n\" id=\"DejaVuSans-57\"/>\n      </defs>\n      <g transform=\"translate(20.878125 68.376044)scale(0.1 -0.1)\">\n       <use xlink:href=\"#DejaVuSans-48\"/>\n       <use x=\"63.623047\" xlink:href=\"#DejaVuSans-46\"/>\n       <use x=\"95.410156\" xlink:href=\"#DejaVuSans-57\"/>\n      </g>\n     </g>\n    </g>\n    <g id=\"ytick_8\">\n     <g id=\"line2d_14\">\n      <g>\n       <use style=\"stroke:#000000;stroke-width:0.8;\" x=\"43.78125\" xlink:href=\"#m0fbac44ced\" y=\"36.292331\"/>\n      </g>\n     </g>\n     <g id=\"text_15\">\n      <!-- 1.0 -->\n      <g transform=\"translate(20.878125 40.09155)scale(0.1 -0.1)\">\n       <use xlink:href=\"#DejaVuSans-49\"/>\n       <use x=\"63.623047\" xlink:href=\"#DejaVuSans-46\"/>\n       <use x=\"95.410156\" xlink:href=\"#DejaVuSans-48\"/>\n      </g>\n     </g>\n    </g>\n    <g id=\"text_16\">\n     <!-- Loss -->\n     <defs>\n      <path d=\"M 9.8125 72.90625 \nL 19.671875 72.90625 \nL 19.671875 8.296875 \nL 55.171875 8.296875 \nL 55.171875 0 \nL 9.8125 0 \nz\n\" id=\"DejaVuSans-76\"/>\n      <path d=\"M 44.28125 53.078125 \nL 44.28125 44.578125 \nQ 40.484375 46.53125 36.375 47.5 \nQ 32.28125 48.484375 27.875 48.484375 \nQ 21.1875 48.484375 17.84375 46.4375 \nQ 14.5 44.390625 14.5 40.28125 \nQ 14.5 37.15625 16.890625 35.375 \nQ 19.28125 33.59375 26.515625 31.984375 \nL 29.59375 31.296875 \nQ 39.15625 29.25 43.1875 25.515625 \nQ 47.21875 21.78125 47.21875 15.09375 \nQ 47.21875 7.46875 41.1875 3.015625 \nQ 35.15625 -1.421875 24.609375 -1.421875 \nQ 20.21875 -1.421875 15.453125 -0.5625 \nQ 10.6875 0.296875 5.421875 2 \nL 5.421875 11.28125 \nQ 10.40625 8.6875 15.234375 7.390625 \nQ 20.0625 6.109375 24.8125 6.109375 \nQ 31.15625 6.109375 34.5625 8.28125 \nQ 37.984375 10.453125 37.984375 14.40625 \nQ 37.984375 18.0625 35.515625 20.015625 \nQ 33.0625 21.96875 24.703125 23.78125 \nL 21.578125 24.515625 \nQ 13.234375 26.265625 9.515625 29.90625 \nQ 5.8125 33.546875 5.8125 39.890625 \nQ 5.8125 47.609375 11.28125 51.796875 \nQ 16.75 56 26.8125 56 \nQ 31.78125 56 36.171875 55.265625 \nQ 40.578125 54.546875 44.28125 53.078125 \nz\n\" id=\"DejaVuSans-115\"/>\n     </defs>\n     <g transform=\"translate(14.798438 142.005312)rotate(-90)scale(0.1 -0.1)\">\n      <use xlink:href=\"#DejaVuSans-76\"/>\n      <use x=\"53.962891\" xlink:href=\"#DejaVuSans-111\"/>\n      <use x=\"115.144531\" xlink:href=\"#DejaVuSans-115\"/>\n      <use x=\"167.244141\" xlink:href=\"#DejaVuSans-115\"/>\n     </g>\n    </g>\n   </g>\n   <g id=\"line2d_15\">\n    <path clip-path=\"url(#p021f70383d)\" d=\"M 58.999432 44.323999 \nL 62.073812 60.993614 \nL 65.148192 79.990664 \nL 68.222572 103.744799 \nL 71.296952 127.709821 \nL 74.371333 150.71463 \nL 77.445713 167.348588 \nL 80.520093 177.321842 \nL 83.594473 183.282726 \nL 86.668853 192.310417 \nL 89.743233 194.441226 \nL 92.817614 197.41321 \nL 95.891994 195.862446 \nL 98.966374 196.516882 \nL 102.040754 197.011707 \nL 105.115134 199.458528 \nL 108.189514 200.084658 \nL 111.263895 197.410807 \nL 114.338275 202.036149 \nL 117.412655 196.531086 \nL 120.487035 203.125004 \nL 123.561415 197.333847 \nL 126.635795 201.909041 \nL 129.710176 202.457005 \nL 132.784556 203.179096 \nL 135.858936 203.353863 \nL 138.933316 203.802377 \nL 142.007696 203.859941 \nL 145.082076 204.788115 \nL 148.156457 204.98635 \nL 151.230837 204.1085 \nL 154.305217 202.465139 \nL 157.379597 204.422573 \nL 160.453977 205.502114 \nL 163.528357 207.16069 \nL 166.602738 206.578443 \nL 169.677118 207.225208 \nL 172.751498 207.460659 \nL 175.825878 207.950351 \nL 178.900258 205.808119 \nL 181.974638 207.244756 \nL 185.049019 207.85734 \nL 188.123399 208.461891 \nL 191.197779 210.144761 \nL 194.272159 209.742786 \nL 197.346539 211.191486 \nL 200.420919 211.264434 \nL 203.4953 211.936286 \nL 206.56968 212.330084 \nL 209.64406 212.672066 \nL 212.71844 213.139731 \nL 215.79282 212.778428 \nL 218.8672 212.708034 \nL 221.941581 214.286261 \nL 225.015961 214.343918 \nL 228.090341 214.953231 \nL 231.164721 214.212908 \nL 234.239101 215.996804 \nL 237.313481 216.296816 \nL 240.387862 216.795881 \nL 243.462242 217.425155 \nL 246.536622 217.71882 \nL 249.611002 217.231346 \nL 252.685382 218.571036 \nL 255.759762 217.196928 \nL 258.834143 219.081784 \nL 261.908523 219.44693 \nL 264.982903 218.746798 \nL 268.057283 218.4378 \nL 271.131663 219.715492 \nL 274.206043 220.128349 \nL 277.280424 220.731264 \nL 280.354804 221.17016 \nL 283.429184 219.120492 \nL 286.503564 222.259749 \nL 289.577944 221.862866 \nL 292.652324 222.399113 \nL 295.726705 222.520834 \nL 298.801085 223.52875 \nL 301.875465 223.885222 \nL 304.949845 224.145211 \nL 308.024225 224.779105 \nL 311.098605 225.535816 \nL 314.172986 225.463086 \nL 317.247366 225.818134 \nL 320.321746 225.432083 \nL 323.396126 225.054655 \nL 326.470506 226.684959 \nL 329.544886 226.57777 \nL 332.619267 227.306368 \nL 335.693647 226.938718 \nL 338.768027 228.413693 \nL 341.842407 227.960568 \nL 344.916787 227.823472 \nL 347.991167 228.786366 \nL 351.065548 228.969117 \nL 354.139928 229.130169 \nL 357.214308 229.874489 \nL 360.288688 228.36943 \nL 363.363068 228.420192 \n\" style=\"fill:none;stroke:#1f77b4;stroke-linecap:square;stroke-width:1.5;\"/>\n   </g>\n   <g id=\"line2d_16\">\n    <path clip-path=\"url(#p021f70383d)\" d=\"M 58.999432 32.201761 \nL 62.073812 47.041447 \nL 65.148192 65.377865 \nL 68.222572 88.040438 \nL 71.296952 111.676376 \nL 74.371333 126.806422 \nL 77.445713 133.275946 \nL 80.520093 144.145216 \nL 83.594473 150.390299 \nL 86.668853 152.938652 \nL 89.743233 159.619166 \nL 92.817614 164.338403 \nL 95.891994 165.368446 \nL 98.966374 154.43427 \nL 102.040754 165.655451 \nL 105.115134 164.81121 \nL 108.189514 161.207626 \nL 111.263895 159.363063 \nL 114.338275 168.396148 \nL 117.412655 168.09252 \nL 120.487035 152.599452 \nL 123.561415 160.499924 \nL 126.635795 167.85486 \nL 129.710176 165.374313 \nL 132.784556 164.061749 \nL 135.858936 166.199723 \nL 138.933316 167.924319 \nL 142.007696 164.467896 \nL 145.082076 166.294386 \nL 148.156457 167.868566 \nL 151.230837 169.487254 \nL 154.305217 157.400926 \nL 157.379597 171.155119 \nL 160.453977 170.028862 \nL 163.528357 165.006874 \nL 166.602738 163.624986 \nL 169.677118 168.76765 \nL 172.751498 164.975078 \nL 175.825878 168.795046 \nL 178.900258 171.572612 \nL 181.974638 158.337453 \nL 185.049019 170.808653 \nL 188.123399 172.039064 \nL 191.197779 162.729628 \nL 194.272159 166.485987 \nL 197.346539 169.490103 \nL 200.420919 164.864147 \nL 203.4953 170.416043 \nL 206.56968 172.253003 \nL 209.64406 169.536415 \nL 212.71844 169.003708 \nL 215.79282 173.857597 \nL 218.8672 168.618365 \nL 221.941581 169.706655 \nL 225.015961 170.333553 \nL 228.090341 170.245954 \nL 231.164721 171.785692 \nL 234.239101 168.077515 \nL 237.313481 168.69482 \nL 240.387862 170.793007 \nL 243.462242 172.853111 \nL 246.536622 167.392539 \nL 249.611002 167.696639 \nL 252.685382 170.224729 \nL 255.759762 168.841222 \nL 258.834143 170.487474 \nL 261.908523 169.641479 \nL 264.982903 170.603092 \nL 268.057283 165.923508 \nL 271.131663 171.751485 \nL 274.206043 164.315154 \nL 277.280424 173.785677 \nL 280.354804 168.631818 \nL 283.429184 165.867165 \nL 286.503564 175.05375 \nL 289.577944 170.450334 \nL 292.652324 169.041118 \nL 295.726705 166.426863 \nL 298.801085 171.938416 \nL 301.875465 169.542922 \nL 304.949845 169.698496 \nL 308.024225 170.608622 \nL 311.098605 166.855702 \nL 314.172986 167.268576 \nL 317.247366 167.294286 \nL 320.321746 170.956033 \nL 323.396126 172.265209 \nL 326.470506 167.828493 \nL 329.544886 168.230712 \nL 332.619267 169.679327 \nL 335.693647 167.768897 \nL 338.768027 170.584143 \nL 341.842407 166.604741 \nL 344.916787 168.013553 \nL 347.991167 171.36631 \nL 351.065548 165.55531 \nL 354.139928 170.374773 \nL 357.214308 171.269642 \nL 360.288688 169.852822 \nL 363.363068 172.151377 \n\" style=\"fill:none;stroke:#ff7f0e;stroke-linecap:square;stroke-width:1.5;\"/>\n   </g>\n   <g id=\"patch_3\">\n    <path d=\"M 43.78125 239.758125 \nL 43.78125 22.318125 \n\" style=\"fill:none;stroke:#000000;stroke-linecap:square;stroke-linejoin:miter;stroke-width:0.8;\"/>\n   </g>\n   <g id=\"patch_4\">\n    <path d=\"M 378.58125 239.758125 \nL 378.58125 22.318125 \n\" style=\"fill:none;stroke:#000000;stroke-linecap:square;stroke-linejoin:miter;stroke-width:0.8;\"/>\n   </g>\n   <g id=\"patch_5\">\n    <path d=\"M 43.78125 239.758125 \nL 378.58125 239.758125 \n\" style=\"fill:none;stroke:#000000;stroke-linecap:square;stroke-linejoin:miter;stroke-width:0.8;\"/>\n   </g>\n   <g id=\"patch_6\">\n    <path d=\"M 43.78125 22.318125 \nL 378.58125 22.318125 \n\" style=\"fill:none;stroke:#000000;stroke-linecap:square;stroke-linejoin:miter;stroke-width:0.8;\"/>\n   </g>\n   <g id=\"text_17\">\n    <!-- Loss vs. epochs -->\n    <defs>\n     <path id=\"DejaVuSans-32\"/>\n     <path d=\"M 2.984375 54.6875 \nL 12.5 54.6875 \nL 29.59375 8.796875 \nL 46.6875 54.6875 \nL 56.203125 54.6875 \nL 35.6875 0 \nL 23.484375 0 \nz\n\" id=\"DejaVuSans-118\"/>\n     <path d=\"M 56.203125 29.59375 \nL 56.203125 25.203125 \nL 14.890625 25.203125 \nQ 15.484375 15.921875 20.484375 11.0625 \nQ 25.484375 6.203125 34.421875 6.203125 \nQ 39.59375 6.203125 44.453125 7.46875 \nQ 49.3125 8.734375 54.109375 11.28125 \nL 54.109375 2.78125 \nQ 49.265625 0.734375 44.1875 -0.34375 \nQ 39.109375 -1.421875 33.890625 -1.421875 \nQ 20.796875 -1.421875 13.15625 6.1875 \nQ 5.515625 13.8125 5.515625 26.8125 \nQ 5.515625 40.234375 12.765625 48.109375 \nQ 20.015625 56 32.328125 56 \nQ 43.359375 56 49.78125 48.890625 \nQ 56.203125 41.796875 56.203125 29.59375 \nz\nM 47.21875 32.234375 \nQ 47.125 39.59375 43.09375 43.984375 \nQ 39.0625 48.390625 32.421875 48.390625 \nQ 24.90625 48.390625 20.390625 44.140625 \nQ 15.875 39.890625 15.1875 32.171875 \nz\n\" id=\"DejaVuSans-101\"/>\n    </defs>\n    <g transform=\"translate(164.22375 16.318125)scale(0.12 -0.12)\">\n     <use xlink:href=\"#DejaVuSans-76\"/>\n     <use x=\"53.962891\" xlink:href=\"#DejaVuSans-111\"/>\n     <use x=\"115.144531\" xlink:href=\"#DejaVuSans-115\"/>\n     <use x=\"167.244141\" xlink:href=\"#DejaVuSans-115\"/>\n     <use x=\"219.34375\" xlink:href=\"#DejaVuSans-32\"/>\n     <use x=\"251.130859\" xlink:href=\"#DejaVuSans-118\"/>\n     <use x=\"310.310547\" xlink:href=\"#DejaVuSans-115\"/>\n     <use x=\"362.410156\" xlink:href=\"#DejaVuSans-46\"/>\n     <use x=\"394.197266\" xlink:href=\"#DejaVuSans-32\"/>\n     <use x=\"425.984375\" xlink:href=\"#DejaVuSans-101\"/>\n     <use x=\"487.507812\" xlink:href=\"#DejaVuSans-112\"/>\n     <use x=\"550.984375\" xlink:href=\"#DejaVuSans-111\"/>\n     <use x=\"612.166016\" xlink:href=\"#DejaVuSans-99\"/>\n     <use x=\"667.146484\" xlink:href=\"#DejaVuSans-104\"/>\n     <use x=\"730.525391\" xlink:href=\"#DejaVuSans-115\"/>\n    </g>\n   </g>\n   <g id=\"legend_1\">\n    <g id=\"patch_7\">\n     <path d=\"M 290.2 59.674375 \nL 371.58125 59.674375 \nQ 373.58125 59.674375 373.58125 57.674375 \nL 373.58125 29.318125 \nQ 373.58125 27.318125 371.58125 27.318125 \nL 290.2 27.318125 \nQ 288.2 27.318125 288.2 29.318125 \nL 288.2 57.674375 \nQ 288.2 59.674375 290.2 59.674375 \nz\n\" style=\"fill:#ffffff;opacity:0.8;stroke:#cccccc;stroke-linejoin:miter;\"/>\n    </g>\n    <g id=\"line2d_17\">\n     <path d=\"M 292.2 35.416562 \nL 312.2 35.416562 \n\" style=\"fill:none;stroke:#1f77b4;stroke-linecap:square;stroke-width:1.5;\"/>\n    </g>\n    <g id=\"line2d_18\"/>\n    <g id=\"text_18\">\n     <!-- Training -->\n     <defs>\n      <path d=\"M -0.296875 72.90625 \nL 61.375 72.90625 \nL 61.375 64.59375 \nL 35.5 64.59375 \nL 35.5 0 \nL 25.59375 0 \nL 25.59375 64.59375 \nL -0.296875 64.59375 \nz\n\" id=\"DejaVuSans-84\"/>\n      <path d=\"M 41.109375 46.296875 \nQ 39.59375 47.171875 37.8125 47.578125 \nQ 36.03125 48 33.890625 48 \nQ 26.265625 48 22.1875 43.046875 \nQ 18.109375 38.09375 18.109375 28.8125 \nL 18.109375 0 \nL 9.078125 0 \nL 9.078125 54.6875 \nL 18.109375 54.6875 \nL 18.109375 46.1875 \nQ 20.953125 51.171875 25.484375 53.578125 \nQ 30.03125 56 36.53125 56 \nQ 37.453125 56 38.578125 55.875 \nQ 39.703125 55.765625 41.0625 55.515625 \nz\n\" id=\"DejaVuSans-114\"/>\n      <path d=\"M 34.28125 27.484375 \nQ 23.390625 27.484375 19.1875 25 \nQ 14.984375 22.515625 14.984375 16.5 \nQ 14.984375 11.71875 18.140625 8.90625 \nQ 21.296875 6.109375 26.703125 6.109375 \nQ 34.1875 6.109375 38.703125 11.40625 \nQ 43.21875 16.703125 43.21875 25.484375 \nL 43.21875 27.484375 \nz\nM 52.203125 31.203125 \nL 52.203125 0 \nL 43.21875 0 \nL 43.21875 8.296875 \nQ 40.140625 3.328125 35.546875 0.953125 \nQ 30.953125 -1.421875 24.3125 -1.421875 \nQ 15.921875 -1.421875 10.953125 3.296875 \nQ 6 8.015625 6 15.921875 \nQ 6 25.140625 12.171875 29.828125 \nQ 18.359375 34.515625 30.609375 34.515625 \nL 43.21875 34.515625 \nL 43.21875 35.40625 \nQ 43.21875 41.609375 39.140625 45 \nQ 35.0625 48.390625 27.6875 48.390625 \nQ 23 48.390625 18.546875 47.265625 \nQ 14.109375 46.140625 10.015625 43.890625 \nL 10.015625 52.203125 \nQ 14.9375 54.109375 19.578125 55.046875 \nQ 24.21875 56 28.609375 56 \nQ 40.484375 56 46.34375 49.84375 \nQ 52.203125 43.703125 52.203125 31.203125 \nz\n\" id=\"DejaVuSans-97\"/>\n      <path d=\"M 9.421875 54.6875 \nL 18.40625 54.6875 \nL 18.40625 0 \nL 9.421875 0 \nz\nM 9.421875 75.984375 \nL 18.40625 75.984375 \nL 18.40625 64.59375 \nL 9.421875 64.59375 \nz\n\" id=\"DejaVuSans-105\"/>\n      <path d=\"M 54.890625 33.015625 \nL 54.890625 0 \nL 45.90625 0 \nL 45.90625 32.71875 \nQ 45.90625 40.484375 42.875 44.328125 \nQ 39.84375 48.1875 33.796875 48.1875 \nQ 26.515625 48.1875 22.3125 43.546875 \nQ 18.109375 38.921875 18.109375 30.90625 \nL 18.109375 0 \nL 9.078125 0 \nL 9.078125 54.6875 \nL 18.109375 54.6875 \nL 18.109375 46.1875 \nQ 21.34375 51.125 25.703125 53.5625 \nQ 30.078125 56 35.796875 56 \nQ 45.21875 56 50.046875 50.171875 \nQ 54.890625 44.34375 54.890625 33.015625 \nz\n\" id=\"DejaVuSans-110\"/>\n      <path d=\"M 45.40625 27.984375 \nQ 45.40625 37.75 41.375 43.109375 \nQ 37.359375 48.484375 30.078125 48.484375 \nQ 22.859375 48.484375 18.828125 43.109375 \nQ 14.796875 37.75 14.796875 27.984375 \nQ 14.796875 18.265625 18.828125 12.890625 \nQ 22.859375 7.515625 30.078125 7.515625 \nQ 37.359375 7.515625 41.375 12.890625 \nQ 45.40625 18.265625 45.40625 27.984375 \nz\nM 54.390625 6.78125 \nQ 54.390625 -7.171875 48.1875 -13.984375 \nQ 42 -20.796875 29.203125 -20.796875 \nQ 24.46875 -20.796875 20.265625 -20.09375 \nQ 16.0625 -19.390625 12.109375 -17.921875 \nL 12.109375 -9.1875 \nQ 16.0625 -11.328125 19.921875 -12.34375 \nQ 23.78125 -13.375 27.78125 -13.375 \nQ 36.625 -13.375 41.015625 -8.765625 \nQ 45.40625 -4.15625 45.40625 5.171875 \nL 45.40625 9.625 \nQ 42.625 4.78125 38.28125 2.390625 \nQ 33.9375 0 27.875 0 \nQ 17.828125 0 11.671875 7.65625 \nQ 5.515625 15.328125 5.515625 27.984375 \nQ 5.515625 40.671875 11.671875 48.328125 \nQ 17.828125 56 27.875 56 \nQ 33.9375 56 38.28125 53.609375 \nQ 42.625 51.21875 45.40625 46.390625 \nL 45.40625 54.6875 \nL 54.390625 54.6875 \nz\n\" id=\"DejaVuSans-103\"/>\n     </defs>\n     <g transform=\"translate(320.2 38.916562)scale(0.1 -0.1)\">\n      <use xlink:href=\"#DejaVuSans-84\"/>\n      <use x=\"46.333984\" xlink:href=\"#DejaVuSans-114\"/>\n      <use x=\"87.447266\" xlink:href=\"#DejaVuSans-97\"/>\n      <use x=\"148.726562\" xlink:href=\"#DejaVuSans-105\"/>\n      <use x=\"176.509766\" xlink:href=\"#DejaVuSans-110\"/>\n      <use x=\"239.888672\" xlink:href=\"#DejaVuSans-105\"/>\n      <use x=\"267.671875\" xlink:href=\"#DejaVuSans-110\"/>\n      <use x=\"331.050781\" xlink:href=\"#DejaVuSans-103\"/>\n     </g>\n    </g>\n    <g id=\"line2d_19\">\n     <path d=\"M 292.2 50.094687 \nL 312.2 50.094687 \n\" style=\"fill:none;stroke:#ff7f0e;stroke-linecap:square;stroke-width:1.5;\"/>\n    </g>\n    <g id=\"line2d_20\"/>\n    <g id=\"text_19\">\n     <!-- Validation -->\n     <defs>\n      <path d=\"M 28.609375 0 \nL 0.78125 72.90625 \nL 11.078125 72.90625 \nL 34.1875 11.53125 \nL 57.328125 72.90625 \nL 67.578125 72.90625 \nL 39.796875 0 \nz\n\" id=\"DejaVuSans-86\"/>\n      <path d=\"M 9.421875 75.984375 \nL 18.40625 75.984375 \nL 18.40625 0 \nL 9.421875 0 \nz\n\" id=\"DejaVuSans-108\"/>\n      <path d=\"M 45.40625 46.390625 \nL 45.40625 75.984375 \nL 54.390625 75.984375 \nL 54.390625 0 \nL 45.40625 0 \nL 45.40625 8.203125 \nQ 42.578125 3.328125 38.25 0.953125 \nQ 33.9375 -1.421875 27.875 -1.421875 \nQ 17.96875 -1.421875 11.734375 6.484375 \nQ 5.515625 14.40625 5.515625 27.296875 \nQ 5.515625 40.1875 11.734375 48.09375 \nQ 17.96875 56 27.875 56 \nQ 33.9375 56 38.25 53.625 \nQ 42.578125 51.265625 45.40625 46.390625 \nz\nM 14.796875 27.296875 \nQ 14.796875 17.390625 18.875 11.75 \nQ 22.953125 6.109375 30.078125 6.109375 \nQ 37.203125 6.109375 41.296875 11.75 \nQ 45.40625 17.390625 45.40625 27.296875 \nQ 45.40625 37.203125 41.296875 42.84375 \nQ 37.203125 48.484375 30.078125 48.484375 \nQ 22.953125 48.484375 18.875 42.84375 \nQ 14.796875 37.203125 14.796875 27.296875 \nz\n\" id=\"DejaVuSans-100\"/>\n      <path d=\"M 18.3125 70.21875 \nL 18.3125 54.6875 \nL 36.8125 54.6875 \nL 36.8125 47.703125 \nL 18.3125 47.703125 \nL 18.3125 18.015625 \nQ 18.3125 11.328125 20.140625 9.421875 \nQ 21.96875 7.515625 27.59375 7.515625 \nL 36.8125 7.515625 \nL 36.8125 0 \nL 27.59375 0 \nQ 17.1875 0 13.234375 3.875 \nQ 9.28125 7.765625 9.28125 18.015625 \nL 9.28125 47.703125 \nL 2.6875 47.703125 \nL 2.6875 54.6875 \nL 9.28125 54.6875 \nL 9.28125 70.21875 \nz\n\" id=\"DejaVuSans-116\"/>\n     </defs>\n     <g transform=\"translate(320.2 53.594687)scale(0.1 -0.1)\">\n      <use xlink:href=\"#DejaVuSans-86\"/>\n      <use x=\"60.658203\" xlink:href=\"#DejaVuSans-97\"/>\n      <use x=\"121.9375\" xlink:href=\"#DejaVuSans-108\"/>\n      <use x=\"149.720703\" xlink:href=\"#DejaVuSans-105\"/>\n      <use x=\"177.503906\" xlink:href=\"#DejaVuSans-100\"/>\n      <use x=\"240.980469\" xlink:href=\"#DejaVuSans-97\"/>\n      <use x=\"302.259766\" xlink:href=\"#DejaVuSans-116\"/>\n      <use x=\"341.46875\" xlink:href=\"#DejaVuSans-105\"/>\n      <use x=\"369.251953\" xlink:href=\"#DejaVuSans-111\"/>\n      <use x=\"430.433594\" xlink:href=\"#DejaVuSans-110\"/>\n     </g>\n    </g>\n   </g>\n  </g>\n </g>\n <defs>\n  <clipPath id=\"p021f70383d\">\n   <rect height=\"217.44\" width=\"334.8\" x=\"43.78125\" y=\"22.318125\"/>\n  </clipPath>\n </defs>\n</svg>\n"
          },
          "metadata": {
            "needs_background": "light"
          }
        }
      ],
      "source": [
        "#### YOUR CODE HERE\n",
        "def build_model(input_shape):\n",
        "    ### START CODE HERE ### ()\n",
        "\n",
        "    model = tf.keras.Sequential([\n",
        "        tf.keras.layers.InputLayer(input_shape = input_shape),\n",
        "        tf.keras.layers.Dense(128, activation = \"relu\"),\n",
        "        tf.keras.layers.Dense(128, activation = \"relu\"),\n",
        "        tf.keras.layers.Dense(1, activation = \"linear\")]\n",
        "    )\n",
        "    return model\n",
        "# Print the model summary\n",
        "input_shape=(train_data.shape[-1],)\n",
        "model2 = build_model(input_shape)\n",
        "print(model2.summary())\n",
        "model2.compile(optimizer = tf.optimizers.Adam(),\n",
        "              loss = tf.keras.losses.MeanSquaredError(),\n",
        "              metrics=tf.keras.metrics.MeanAbsoluteError())\n",
        "history2 = model2.fit(train_data , train_targets , batch_size = 64 , epochs =100 , validation_split=0.15)\n",
        "model2.evaluate(test_data, test_targets, verbose=2)\n",
        "\n",
        "plt.plot(history2.history['loss'])\n",
        "plt.plot(history2.history['val_loss'])\n",
        "plt.title('Loss vs. epochs')\n",
        "plt.ylabel('Loss')\n",
        "plt.xlabel('Epoch')\n",
        "plt.legend(['Training', 'Validation'], loc='upper right')\n",
        "plt.show()"
      ]
    },
    {
      "cell_type": "markdown",
      "id": "39417149-9f72-4fde-945e-7ea7a649b01f",
      "metadata": {
        "id": "39417149-9f72-4fde-945e-7ea7a649b01f"
      },
      "source": [
        "# Part 3 Batches and Epochs"
      ]
    },
    {
      "cell_type": "markdown",
      "id": "6b167f30-1712-4875-8643-985d6bff5894",
      "metadata": {
        "id": "6b167f30-1712-4875-8643-985d6bff5894"
      },
      "source": [
        "In this part of the assignment we will create a synthetic data to play with. \n",
        "The data will have 2 features and 3 target classes --> multiclass classification problem"
      ]
    },
    {
      "cell_type": "code",
      "execution_count": 34,
      "id": "5478a898-76b8-4764-9194-54920d6889f8",
      "metadata": {
        "id": "5478a898-76b8-4764-9194-54920d6889f8"
      },
      "outputs": [],
      "source": [
        "# prepare train and test dataset\n",
        "def prepare_data():\n",
        "    #  generate classification dataset with 3 centers (labels/classes)\n",
        "    X, y = make_blobs(n_samples=1000, centers=3, n_features=2, cluster_std=2, random_state=2)\n",
        "    \n",
        "    # plot data\n",
        "    for class_value in range(3):\n",
        "        # select indices of points with the class label\n",
        "        row_ix = np.where(y == class_value)\n",
        "        # scatter plot for points with a different color\n",
        "        plt.scatter(X[row_ix, 0], X[row_ix, 1])\n",
        "    # show plot\n",
        "    plt.show()\n",
        "\n",
        "    # one hot encode output variable to convert from integers to binary class\n",
        "    y = to_categorical(y)\n",
        "\n",
        "    # split into train and test\n",
        "    n_train = 500\n",
        "    X_train, X_test = X[:n_train, :], X[n_train:, :]\n",
        "    y_train, y_test = y[:n_train], y[n_train:]\n",
        "    return X_train, y_train, X_test, y_test\n"
      ]
    },
    {
      "cell_type": "code",
      "execution_count": 35,
      "id": "32e2cf07-c958-46c3-a453-f1bead3502b0",
      "metadata": {
        "id": "32e2cf07-c958-46c3-a453-f1bead3502b0",
        "colab": {
          "base_uri": "https://localhost:8080/",
          "height": 353
        },
        "outputId": "239ca6fd-f615-4fe7-cc63-835d703d443b"
      },
      "outputs": [
        {
          "output_type": "display_data",
          "data": {
            "text/plain": [
              "<Figure size 432x288 with 1 Axes>"
            ],
            "image/svg+xml": "<?xml version=\"1.0\" encoding=\"utf-8\" standalone=\"no\"?>\n<!DOCTYPE svg PUBLIC \"-//W3C//DTD SVG 1.1//EN\"\n  \"http://www.w3.org/Graphics/SVG/1.1/DTD/svg11.dtd\">\n<!-- Created with matplotlib (https://matplotlib.org/) -->\n<svg height=\"248.518125pt\" version=\"1.1\" viewBox=\"0 0 386.845312 248.518125\" width=\"386.845312pt\" xmlns=\"http://www.w3.org/2000/svg\" xmlns:xlink=\"http://www.w3.org/1999/xlink\">\n <defs>\n  <style type=\"text/css\">\n*{stroke-linecap:butt;stroke-linejoin:round;}\n  </style>\n </defs>\n <g id=\"figure_1\">\n  <g id=\"patch_1\">\n   <path d=\"M 0 248.518125 \nL 386.845312 248.518125 \nL 386.845312 0 \nL 0 0 \nz\n\" style=\"fill:none;\"/>\n  </g>\n  <g id=\"axes_1\">\n   <g id=\"patch_2\">\n    <path d=\"M 44.845313 224.64 \nL 379.645313 224.64 \nL 379.645313 7.2 \nL 44.845313 7.2 \nz\n\" style=\"fill:#ffffff;\"/>\n   </g>\n   <g id=\"PathCollection_1\">\n    <defs>\n     <path d=\"M 0 3 \nC 0.795609 3 1.55874 2.683901 2.12132 2.12132 \nC 2.683901 1.55874 3 0.795609 3 0 \nC 3 -0.795609 2.683901 -1.55874 2.12132 -2.12132 \nC 1.55874 -2.683901 0.795609 -3 0 -3 \nC -0.795609 -3 -1.55874 -2.683901 -2.12132 -2.12132 \nC -2.683901 -1.55874 -3 -0.795609 -3 0 \nC -3 0.795609 -2.683901 1.55874 -2.12132 2.12132 \nC -1.55874 2.683901 -0.795609 3 0 3 \nz\n\" id=\"m2917ffe60c\" style=\"stroke:#1f77b4;\"/>\n    </defs>\n    <g clip-path=\"url(#p49d5fc2475)\">\n     <use style=\"fill:#1f77b4;stroke:#1f77b4;\" x=\"208.44953\" xlink:href=\"#m2917ffe60c\" y=\"170.101031\"/>\n     <use style=\"fill:#1f77b4;stroke:#1f77b4;\" x=\"91.675862\" xlink:href=\"#m2917ffe60c\" y=\"163.173443\"/>\n     <use style=\"fill:#1f77b4;stroke:#1f77b4;\" x=\"238.32047\" xlink:href=\"#m2917ffe60c\" y=\"153.011495\"/>\n     <use style=\"fill:#1f77b4;stroke:#1f77b4;\" x=\"245.000111\" xlink:href=\"#m2917ffe60c\" y=\"154.787301\"/>\n     <use style=\"fill:#1f77b4;stroke:#1f77b4;\" x=\"218.127123\" xlink:href=\"#m2917ffe60c\" y=\"116.491457\"/>\n     <use style=\"fill:#1f77b4;stroke:#1f77b4;\" x=\"207.525707\" xlink:href=\"#m2917ffe60c\" y=\"147.986339\"/>\n     <use style=\"fill:#1f77b4;stroke:#1f77b4;\" x=\"210.379676\" xlink:href=\"#m2917ffe60c\" y=\"134.023149\"/>\n     <use style=\"fill:#1f77b4;stroke:#1f77b4;\" x=\"203.216686\" xlink:href=\"#m2917ffe60c\" y=\"192.483153\"/>\n     <use style=\"fill:#1f77b4;stroke:#1f77b4;\" x=\"187.326818\" xlink:href=\"#m2917ffe60c\" y=\"173.497708\"/>\n     <use style=\"fill:#1f77b4;stroke:#1f77b4;\" x=\"170.954892\" xlink:href=\"#m2917ffe60c\" y=\"136.765713\"/>\n     <use style=\"fill:#1f77b4;stroke:#1f77b4;\" x=\"179.324795\" xlink:href=\"#m2917ffe60c\" y=\"162.812065\"/>\n     <use style=\"fill:#1f77b4;stroke:#1f77b4;\" x=\"247.1025\" xlink:href=\"#m2917ffe60c\" y=\"196.375382\"/>\n     <use style=\"fill:#1f77b4;stroke:#1f77b4;\" x=\"161.33896\" xlink:href=\"#m2917ffe60c\" y=\"173.140396\"/>\n     <use style=\"fill:#1f77b4;stroke:#1f77b4;\" x=\"154.808607\" xlink:href=\"#m2917ffe60c\" y=\"184.960351\"/>\n     <use style=\"fill:#1f77b4;stroke:#1f77b4;\" x=\"181.323927\" xlink:href=\"#m2917ffe60c\" y=\"152.208239\"/>\n     <use style=\"fill:#1f77b4;stroke:#1f77b4;\" x=\"192.223908\" xlink:href=\"#m2917ffe60c\" y=\"154.289895\"/>\n     <use style=\"fill:#1f77b4;stroke:#1f77b4;\" x=\"176.30981\" xlink:href=\"#m2917ffe60c\" y=\"150.281402\"/>\n     <use style=\"fill:#1f77b4;stroke:#1f77b4;\" x=\"217.205147\" xlink:href=\"#m2917ffe60c\" y=\"160.206489\"/>\n     <use style=\"fill:#1f77b4;stroke:#1f77b4;\" x=\"159.849194\" xlink:href=\"#m2917ffe60c\" y=\"128.341175\"/>\n     <use style=\"fill:#1f77b4;stroke:#1f77b4;\" x=\"181.425453\" xlink:href=\"#m2917ffe60c\" y=\"155.917615\"/>\n     <use style=\"fill:#1f77b4;stroke:#1f77b4;\" x=\"151.574193\" xlink:href=\"#m2917ffe60c\" y=\"127.509114\"/>\n     <use style=\"fill:#1f77b4;stroke:#1f77b4;\" x=\"185.634159\" xlink:href=\"#m2917ffe60c\" y=\"196.504237\"/>\n     <use style=\"fill:#1f77b4;stroke:#1f77b4;\" x=\"267.146053\" xlink:href=\"#m2917ffe60c\" y=\"162.190523\"/>\n     <use style=\"fill:#1f77b4;stroke:#1f77b4;\" x=\"180.73896\" xlink:href=\"#m2917ffe60c\" y=\"166.253356\"/>\n     <use style=\"fill:#1f77b4;stroke:#1f77b4;\" x=\"170.695265\" xlink:href=\"#m2917ffe60c\" y=\"126.86249\"/>\n     <use style=\"fill:#1f77b4;stroke:#1f77b4;\" x=\"208.900434\" xlink:href=\"#m2917ffe60c\" y=\"186.844702\"/>\n     <use style=\"fill:#1f77b4;stroke:#1f77b4;\" x=\"225.208847\" xlink:href=\"#m2917ffe60c\" y=\"174.657644\"/>\n     <use style=\"fill:#1f77b4;stroke:#1f77b4;\" x=\"139.290201\" xlink:href=\"#m2917ffe60c\" y=\"166.585116\"/>\n     <use style=\"fill:#1f77b4;stroke:#1f77b4;\" x=\"225.029269\" xlink:href=\"#m2917ffe60c\" y=\"205.382073\"/>\n     <use style=\"fill:#1f77b4;stroke:#1f77b4;\" x=\"204.466926\" xlink:href=\"#m2917ffe60c\" y=\"200.004756\"/>\n     <use style=\"fill:#1f77b4;stroke:#1f77b4;\" x=\"175.321276\" xlink:href=\"#m2917ffe60c\" y=\"182.925648\"/>\n     <use style=\"fill:#1f77b4;stroke:#1f77b4;\" x=\"208.34466\" xlink:href=\"#m2917ffe60c\" y=\"165.847994\"/>\n     <use style=\"fill:#1f77b4;stroke:#1f77b4;\" x=\"186.738514\" xlink:href=\"#m2917ffe60c\" y=\"200.133183\"/>\n     <use style=\"fill:#1f77b4;stroke:#1f77b4;\" x=\"187.100291\" xlink:href=\"#m2917ffe60c\" y=\"169.640363\"/>\n     <use style=\"fill:#1f77b4;stroke:#1f77b4;\" x=\"172.07794\" xlink:href=\"#m2917ffe60c\" y=\"205.65627\"/>\n     <use style=\"fill:#1f77b4;stroke:#1f77b4;\" x=\"202.036861\" xlink:href=\"#m2917ffe60c\" y=\"200.778953\"/>\n     <use style=\"fill:#1f77b4;stroke:#1f77b4;\" x=\"190.586084\" xlink:href=\"#m2917ffe60c\" y=\"167.710678\"/>\n     <use style=\"fill:#1f77b4;stroke:#1f77b4;\" x=\"196.280428\" xlink:href=\"#m2917ffe60c\" y=\"149.830525\"/>\n     <use style=\"fill:#1f77b4;stroke:#1f77b4;\" x=\"141.177363\" xlink:href=\"#m2917ffe60c\" y=\"104.402006\"/>\n     <use style=\"fill:#1f77b4;stroke:#1f77b4;\" x=\"235.882971\" xlink:href=\"#m2917ffe60c\" y=\"182.88796\"/>\n     <use style=\"fill:#1f77b4;stroke:#1f77b4;\" x=\"220.022894\" xlink:href=\"#m2917ffe60c\" y=\"197.564083\"/>\n     <use style=\"fill:#1f77b4;stroke:#1f77b4;\" x=\"225.931439\" xlink:href=\"#m2917ffe60c\" y=\"158.038944\"/>\n     <use style=\"fill:#1f77b4;stroke:#1f77b4;\" x=\"172.520986\" xlink:href=\"#m2917ffe60c\" y=\"154.853323\"/>\n     <use style=\"fill:#1f77b4;stroke:#1f77b4;\" x=\"200.666497\" xlink:href=\"#m2917ffe60c\" y=\"149.455867\"/>\n     <use style=\"fill:#1f77b4;stroke:#1f77b4;\" x=\"131.933402\" xlink:href=\"#m2917ffe60c\" y=\"150.588495\"/>\n     <use style=\"fill:#1f77b4;stroke:#1f77b4;\" x=\"195.939797\" xlink:href=\"#m2917ffe60c\" y=\"157.841878\"/>\n     <use style=\"fill:#1f77b4;stroke:#1f77b4;\" x=\"191.377084\" xlink:href=\"#m2917ffe60c\" y=\"181.505153\"/>\n     <use style=\"fill:#1f77b4;stroke:#1f77b4;\" x=\"135.046233\" xlink:href=\"#m2917ffe60c\" y=\"167.781353\"/>\n     <use style=\"fill:#1f77b4;stroke:#1f77b4;\" x=\"227.116779\" xlink:href=\"#m2917ffe60c\" y=\"184.360816\"/>\n     <use style=\"fill:#1f77b4;stroke:#1f77b4;\" x=\"152.34175\" xlink:href=\"#m2917ffe60c\" y=\"161.418444\"/>\n     <use style=\"fill:#1f77b4;stroke:#1f77b4;\" x=\"205.842514\" xlink:href=\"#m2917ffe60c\" y=\"121.514032\"/>\n     <use style=\"fill:#1f77b4;stroke:#1f77b4;\" x=\"149.568359\" xlink:href=\"#m2917ffe60c\" y=\"170.303796\"/>\n     <use style=\"fill:#1f77b4;stroke:#1f77b4;\" x=\"184.884223\" xlink:href=\"#m2917ffe60c\" y=\"142.306613\"/>\n     <use style=\"fill:#1f77b4;stroke:#1f77b4;\" x=\"152.042062\" xlink:href=\"#m2917ffe60c\" y=\"166.141283\"/>\n     <use style=\"fill:#1f77b4;stroke:#1f77b4;\" x=\"130.332963\" xlink:href=\"#m2917ffe60c\" y=\"175.60553\"/>\n     <use style=\"fill:#1f77b4;stroke:#1f77b4;\" x=\"216.828076\" xlink:href=\"#m2917ffe60c\" y=\"161.149438\"/>\n     <use style=\"fill:#1f77b4;stroke:#1f77b4;\" x=\"179.100392\" xlink:href=\"#m2917ffe60c\" y=\"159.812414\"/>\n     <use style=\"fill:#1f77b4;stroke:#1f77b4;\" x=\"215.883722\" xlink:href=\"#m2917ffe60c\" y=\"145.952265\"/>\n     <use style=\"fill:#1f77b4;stroke:#1f77b4;\" x=\"217.15922\" xlink:href=\"#m2917ffe60c\" y=\"152.215215\"/>\n     <use style=\"fill:#1f77b4;stroke:#1f77b4;\" x=\"186.487269\" xlink:href=\"#m2917ffe60c\" y=\"170.789115\"/>\n     <use style=\"fill:#1f77b4;stroke:#1f77b4;\" x=\"159.446844\" xlink:href=\"#m2917ffe60c\" y=\"145.226682\"/>\n     <use style=\"fill:#1f77b4;stroke:#1f77b4;\" x=\"161.120689\" xlink:href=\"#m2917ffe60c\" y=\"179.365315\"/>\n     <use style=\"fill:#1f77b4;stroke:#1f77b4;\" x=\"179.484079\" xlink:href=\"#m2917ffe60c\" y=\"93.96133\"/>\n     <use style=\"fill:#1f77b4;stroke:#1f77b4;\" x=\"161.171714\" xlink:href=\"#m2917ffe60c\" y=\"154.172083\"/>\n     <use style=\"fill:#1f77b4;stroke:#1f77b4;\" x=\"136.847196\" xlink:href=\"#m2917ffe60c\" y=\"143.217628\"/>\n     <use style=\"fill:#1f77b4;stroke:#1f77b4;\" x=\"255.731235\" xlink:href=\"#m2917ffe60c\" y=\"152.170328\"/>\n     <use style=\"fill:#1f77b4;stroke:#1f77b4;\" x=\"214.906761\" xlink:href=\"#m2917ffe60c\" y=\"112.448671\"/>\n     <use style=\"fill:#1f77b4;stroke:#1f77b4;\" x=\"230.61631\" xlink:href=\"#m2917ffe60c\" y=\"145.089041\"/>\n     <use style=\"fill:#1f77b4;stroke:#1f77b4;\" x=\"151.980141\" xlink:href=\"#m2917ffe60c\" y=\"177.354629\"/>\n     <use style=\"fill:#1f77b4;stroke:#1f77b4;\" x=\"160.536775\" xlink:href=\"#m2917ffe60c\" y=\"123.948275\"/>\n     <use style=\"fill:#1f77b4;stroke:#1f77b4;\" x=\"250.070416\" xlink:href=\"#m2917ffe60c\" y=\"168.370593\"/>\n     <use style=\"fill:#1f77b4;stroke:#1f77b4;\" x=\"216.551493\" xlink:href=\"#m2917ffe60c\" y=\"162.889452\"/>\n     <use style=\"fill:#1f77b4;stroke:#1f77b4;\" x=\"213.742169\" xlink:href=\"#m2917ffe60c\" y=\"176.29783\"/>\n     <use style=\"fill:#1f77b4;stroke:#1f77b4;\" x=\"195.336805\" xlink:href=\"#m2917ffe60c\" y=\"185.016988\"/>\n     <use style=\"fill:#1f77b4;stroke:#1f77b4;\" x=\"208.39817\" xlink:href=\"#m2917ffe60c\" y=\"149.176859\"/>\n     <use style=\"fill:#1f77b4;stroke:#1f77b4;\" x=\"169.27008\" xlink:href=\"#m2917ffe60c\" y=\"186.499938\"/>\n     <use style=\"fill:#1f77b4;stroke:#1f77b4;\" x=\"223.135709\" xlink:href=\"#m2917ffe60c\" y=\"166.892883\"/>\n     <use style=\"fill:#1f77b4;stroke:#1f77b4;\" x=\"166.931465\" xlink:href=\"#m2917ffe60c\" y=\"180.994317\"/>\n     <use style=\"fill:#1f77b4;stroke:#1f77b4;\" x=\"175.078204\" xlink:href=\"#m2917ffe60c\" y=\"168.219315\"/>\n     <use style=\"fill:#1f77b4;stroke:#1f77b4;\" x=\"238.090546\" xlink:href=\"#m2917ffe60c\" y=\"166.643772\"/>\n     <use style=\"fill:#1f77b4;stroke:#1f77b4;\" x=\"143.175806\" xlink:href=\"#m2917ffe60c\" y=\"204.332346\"/>\n     <use style=\"fill:#1f77b4;stroke:#1f77b4;\" x=\"246.215542\" xlink:href=\"#m2917ffe60c\" y=\"135.310465\"/>\n     <use style=\"fill:#1f77b4;stroke:#1f77b4;\" x=\"211.288955\" xlink:href=\"#m2917ffe60c\" y=\"164.859876\"/>\n     <use style=\"fill:#1f77b4;stroke:#1f77b4;\" x=\"185.732757\" xlink:href=\"#m2917ffe60c\" y=\"158.298775\"/>\n     <use style=\"fill:#1f77b4;stroke:#1f77b4;\" x=\"213.65833\" xlink:href=\"#m2917ffe60c\" y=\"171.718342\"/>\n     <use style=\"fill:#1f77b4;stroke:#1f77b4;\" x=\"170.917782\" xlink:href=\"#m2917ffe60c\" y=\"167.926571\"/>\n     <use style=\"fill:#1f77b4;stroke:#1f77b4;\" x=\"229.507368\" xlink:href=\"#m2917ffe60c\" y=\"129.980914\"/>\n     <use style=\"fill:#1f77b4;stroke:#1f77b4;\" x=\"180.427378\" xlink:href=\"#m2917ffe60c\" y=\"152.471713\"/>\n     <use style=\"fill:#1f77b4;stroke:#1f77b4;\" x=\"207.959818\" xlink:href=\"#m2917ffe60c\" y=\"132.294034\"/>\n     <use style=\"fill:#1f77b4;stroke:#1f77b4;\" x=\"97.585878\" xlink:href=\"#m2917ffe60c\" y=\"122.369788\"/>\n     <use style=\"fill:#1f77b4;stroke:#1f77b4;\" x=\"159.865188\" xlink:href=\"#m2917ffe60c\" y=\"142.399781\"/>\n     <use style=\"fill:#1f77b4;stroke:#1f77b4;\" x=\"171.81358\" xlink:href=\"#m2917ffe60c\" y=\"155.0043\"/>\n     <use style=\"fill:#1f77b4;stroke:#1f77b4;\" x=\"264.180595\" xlink:href=\"#m2917ffe60c\" y=\"151.849345\"/>\n     <use style=\"fill:#1f77b4;stroke:#1f77b4;\" x=\"216.24043\" xlink:href=\"#m2917ffe60c\" y=\"161.661158\"/>\n     <use style=\"fill:#1f77b4;stroke:#1f77b4;\" x=\"266.544715\" xlink:href=\"#m2917ffe60c\" y=\"174.614242\"/>\n     <use style=\"fill:#1f77b4;stroke:#1f77b4;\" x=\"187.816487\" xlink:href=\"#m2917ffe60c\" y=\"198.452526\"/>\n     <use style=\"fill:#1f77b4;stroke:#1f77b4;\" x=\"159.115371\" xlink:href=\"#m2917ffe60c\" y=\"173.80332\"/>\n     <use style=\"fill:#1f77b4;stroke:#1f77b4;\" x=\"215.313082\" xlink:href=\"#m2917ffe60c\" y=\"167.953856\"/>\n     <use style=\"fill:#1f77b4;stroke:#1f77b4;\" x=\"198.533162\" xlink:href=\"#m2917ffe60c\" y=\"145.128797\"/>\n     <use style=\"fill:#1f77b4;stroke:#1f77b4;\" x=\"153.139542\" xlink:href=\"#m2917ffe60c\" y=\"180.571175\"/>\n     <use style=\"fill:#1f77b4;stroke:#1f77b4;\" x=\"161.714805\" xlink:href=\"#m2917ffe60c\" y=\"182.442813\"/>\n     <use style=\"fill:#1f77b4;stroke:#1f77b4;\" x=\"142.723734\" xlink:href=\"#m2917ffe60c\" y=\"177.093752\"/>\n     <use style=\"fill:#1f77b4;stroke:#1f77b4;\" x=\"200.901058\" xlink:href=\"#m2917ffe60c\" y=\"164.598718\"/>\n     <use style=\"fill:#1f77b4;stroke:#1f77b4;\" x=\"220.140494\" xlink:href=\"#m2917ffe60c\" y=\"152.892224\"/>\n     <use style=\"fill:#1f77b4;stroke:#1f77b4;\" x=\"289.197942\" xlink:href=\"#m2917ffe60c\" y=\"170.832366\"/>\n     <use style=\"fill:#1f77b4;stroke:#1f77b4;\" x=\"169.036357\" xlink:href=\"#m2917ffe60c\" y=\"203.974646\"/>\n     <use style=\"fill:#1f77b4;stroke:#1f77b4;\" x=\"110.513408\" xlink:href=\"#m2917ffe60c\" y=\"175.382479\"/>\n     <use style=\"fill:#1f77b4;stroke:#1f77b4;\" x=\"145.865967\" xlink:href=\"#m2917ffe60c\" y=\"162.877512\"/>\n     <use style=\"fill:#1f77b4;stroke:#1f77b4;\" x=\"285.102911\" xlink:href=\"#m2917ffe60c\" y=\"179.859857\"/>\n     <use style=\"fill:#1f77b4;stroke:#1f77b4;\" x=\"177.64967\" xlink:href=\"#m2917ffe60c\" y=\"164.043298\"/>\n     <use style=\"fill:#1f77b4;stroke:#1f77b4;\" x=\"205.380369\" xlink:href=\"#m2917ffe60c\" y=\"178.887214\"/>\n     <use style=\"fill:#1f77b4;stroke:#1f77b4;\" x=\"102.61564\" xlink:href=\"#m2917ffe60c\" y=\"159.981997\"/>\n     <use style=\"fill:#1f77b4;stroke:#1f77b4;\" x=\"237.766987\" xlink:href=\"#m2917ffe60c\" y=\"159.193841\"/>\n     <use style=\"fill:#1f77b4;stroke:#1f77b4;\" x=\"168.671552\" xlink:href=\"#m2917ffe60c\" y=\"143.299676\"/>\n     <use style=\"fill:#1f77b4;stroke:#1f77b4;\" x=\"158.815264\" xlink:href=\"#m2917ffe60c\" y=\"136.192134\"/>\n     <use style=\"fill:#1f77b4;stroke:#1f77b4;\" x=\"225.393752\" xlink:href=\"#m2917ffe60c\" y=\"134.665094\"/>\n     <use style=\"fill:#1f77b4;stroke:#1f77b4;\" x=\"216.910807\" xlink:href=\"#m2917ffe60c\" y=\"162.921503\"/>\n     <use style=\"fill:#1f77b4;stroke:#1f77b4;\" x=\"204.919806\" xlink:href=\"#m2917ffe60c\" y=\"165.426555\"/>\n     <use style=\"fill:#1f77b4;stroke:#1f77b4;\" x=\"221.070686\" xlink:href=\"#m2917ffe60c\" y=\"199.546908\"/>\n     <use style=\"fill:#1f77b4;stroke:#1f77b4;\" x=\"120.184425\" xlink:href=\"#m2917ffe60c\" y=\"208.625578\"/>\n     <use style=\"fill:#1f77b4;stroke:#1f77b4;\" x=\"193.657888\" xlink:href=\"#m2917ffe60c\" y=\"164.191472\"/>\n     <use style=\"fill:#1f77b4;stroke:#1f77b4;\" x=\"213.864482\" xlink:href=\"#m2917ffe60c\" y=\"145.580418\"/>\n     <use style=\"fill:#1f77b4;stroke:#1f77b4;\" x=\"225.588948\" xlink:href=\"#m2917ffe60c\" y=\"154.075763\"/>\n     <use style=\"fill:#1f77b4;stroke:#1f77b4;\" x=\"209.709021\" xlink:href=\"#m2917ffe60c\" y=\"162.458314\"/>\n     <use style=\"fill:#1f77b4;stroke:#1f77b4;\" x=\"127.958572\" xlink:href=\"#m2917ffe60c\" y=\"162.858218\"/>\n     <use style=\"fill:#1f77b4;stroke:#1f77b4;\" x=\"192.411384\" xlink:href=\"#m2917ffe60c\" y=\"146.412172\"/>\n     <use style=\"fill:#1f77b4;stroke:#1f77b4;\" x=\"319.615544\" xlink:href=\"#m2917ffe60c\" y=\"140.567191\"/>\n     <use style=\"fill:#1f77b4;stroke:#1f77b4;\" x=\"167.734136\" xlink:href=\"#m2917ffe60c\" y=\"191.858861\"/>\n     <use style=\"fill:#1f77b4;stroke:#1f77b4;\" x=\"187.612535\" xlink:href=\"#m2917ffe60c\" y=\"149.545621\"/>\n     <use style=\"fill:#1f77b4;stroke:#1f77b4;\" x=\"183.143108\" xlink:href=\"#m2917ffe60c\" y=\"172.226705\"/>\n     <use style=\"fill:#1f77b4;stroke:#1f77b4;\" x=\"206.295038\" xlink:href=\"#m2917ffe60c\" y=\"192.197651\"/>\n     <use style=\"fill:#1f77b4;stroke:#1f77b4;\" x=\"214.953186\" xlink:href=\"#m2917ffe60c\" y=\"179.112107\"/>\n     <use style=\"fill:#1f77b4;stroke:#1f77b4;\" x=\"100.298902\" xlink:href=\"#m2917ffe60c\" y=\"158.82847\"/>\n     <use style=\"fill:#1f77b4;stroke:#1f77b4;\" x=\"224.0258\" xlink:href=\"#m2917ffe60c\" y=\"195.736853\"/>\n     <use style=\"fill:#1f77b4;stroke:#1f77b4;\" x=\"150.531637\" xlink:href=\"#m2917ffe60c\" y=\"150.832007\"/>\n     <use style=\"fill:#1f77b4;stroke:#1f77b4;\" x=\"239.395334\" xlink:href=\"#m2917ffe60c\" y=\"160.77614\"/>\n     <use style=\"fill:#1f77b4;stroke:#1f77b4;\" x=\"220.899195\" xlink:href=\"#m2917ffe60c\" y=\"158.800224\"/>\n     <use style=\"fill:#1f77b4;stroke:#1f77b4;\" x=\"213.440588\" xlink:href=\"#m2917ffe60c\" y=\"168.352862\"/>\n     <use style=\"fill:#1f77b4;stroke:#1f77b4;\" x=\"264.012262\" xlink:href=\"#m2917ffe60c\" y=\"141.220181\"/>\n     <use style=\"fill:#1f77b4;stroke:#1f77b4;\" x=\"153.030284\" xlink:href=\"#m2917ffe60c\" y=\"148.636532\"/>\n     <use style=\"fill:#1f77b4;stroke:#1f77b4;\" x=\"151.552763\" xlink:href=\"#m2917ffe60c\" y=\"175.73042\"/>\n     <use style=\"fill:#1f77b4;stroke:#1f77b4;\" x=\"157.824963\" xlink:href=\"#m2917ffe60c\" y=\"145.577632\"/>\n     <use style=\"fill:#1f77b4;stroke:#1f77b4;\" x=\"180.771575\" xlink:href=\"#m2917ffe60c\" y=\"153.923678\"/>\n     <use style=\"fill:#1f77b4;stroke:#1f77b4;\" x=\"291.625547\" xlink:href=\"#m2917ffe60c\" y=\"192.576732\"/>\n     <use style=\"fill:#1f77b4;stroke:#1f77b4;\" x=\"182.861406\" xlink:href=\"#m2917ffe60c\" y=\"149.769538\"/>\n     <use style=\"fill:#1f77b4;stroke:#1f77b4;\" x=\"179.749052\" xlink:href=\"#m2917ffe60c\" y=\"196.076072\"/>\n     <use style=\"fill:#1f77b4;stroke:#1f77b4;\" x=\"212.703116\" xlink:href=\"#m2917ffe60c\" y=\"128.322218\"/>\n     <use style=\"fill:#1f77b4;stroke:#1f77b4;\" x=\"143.455846\" xlink:href=\"#m2917ffe60c\" y=\"153.493366\"/>\n     <use style=\"fill:#1f77b4;stroke:#1f77b4;\" x=\"205.225942\" xlink:href=\"#m2917ffe60c\" y=\"146.772373\"/>\n     <use style=\"fill:#1f77b4;stroke:#1f77b4;\" x=\"260.591381\" xlink:href=\"#m2917ffe60c\" y=\"170.75022\"/>\n     <use style=\"fill:#1f77b4;stroke:#1f77b4;\" x=\"196.823266\" xlink:href=\"#m2917ffe60c\" y=\"144.340952\"/>\n     <use style=\"fill:#1f77b4;stroke:#1f77b4;\" x=\"212.852958\" xlink:href=\"#m2917ffe60c\" y=\"158.535279\"/>\n     <use style=\"fill:#1f77b4;stroke:#1f77b4;\" x=\"168.660377\" xlink:href=\"#m2917ffe60c\" y=\"131.247046\"/>\n     <use style=\"fill:#1f77b4;stroke:#1f77b4;\" x=\"134.382921\" xlink:href=\"#m2917ffe60c\" y=\"205.546559\"/>\n     <use style=\"fill:#1f77b4;stroke:#1f77b4;\" x=\"233.389074\" xlink:href=\"#m2917ffe60c\" y=\"168.22855\"/>\n     <use style=\"fill:#1f77b4;stroke:#1f77b4;\" x=\"176.011319\" xlink:href=\"#m2917ffe60c\" y=\"153.760336\"/>\n     <use style=\"fill:#1f77b4;stroke:#1f77b4;\" x=\"157.704834\" xlink:href=\"#m2917ffe60c\" y=\"147.846839\"/>\n     <use style=\"fill:#1f77b4;stroke:#1f77b4;\" x=\"221.126843\" xlink:href=\"#m2917ffe60c\" y=\"107.394053\"/>\n     <use style=\"fill:#1f77b4;stroke:#1f77b4;\" x=\"208.960571\" xlink:href=\"#m2917ffe60c\" y=\"167.922434\"/>\n     <use style=\"fill:#1f77b4;stroke:#1f77b4;\" x=\"125.481858\" xlink:href=\"#m2917ffe60c\" y=\"171.884255\"/>\n     <use style=\"fill:#1f77b4;stroke:#1f77b4;\" x=\"283.02686\" xlink:href=\"#m2917ffe60c\" y=\"174.720089\"/>\n     <use style=\"fill:#1f77b4;stroke:#1f77b4;\" x=\"185.248518\" xlink:href=\"#m2917ffe60c\" y=\"186.192297\"/>\n     <use style=\"fill:#1f77b4;stroke:#1f77b4;\" x=\"181.924352\" xlink:href=\"#m2917ffe60c\" y=\"165.841525\"/>\n     <use style=\"fill:#1f77b4;stroke:#1f77b4;\" x=\"199.339749\" xlink:href=\"#m2917ffe60c\" y=\"169.741649\"/>\n     <use style=\"fill:#1f77b4;stroke:#1f77b4;\" x=\"175.767962\" xlink:href=\"#m2917ffe60c\" y=\"187.92801\"/>\n     <use style=\"fill:#1f77b4;stroke:#1f77b4;\" x=\"170.225847\" xlink:href=\"#m2917ffe60c\" y=\"190.880035\"/>\n     <use style=\"fill:#1f77b4;stroke:#1f77b4;\" x=\"172.868931\" xlink:href=\"#m2917ffe60c\" y=\"157.305335\"/>\n     <use style=\"fill:#1f77b4;stroke:#1f77b4;\" x=\"207.752917\" xlink:href=\"#m2917ffe60c\" y=\"144.754694\"/>\n     <use style=\"fill:#1f77b4;stroke:#1f77b4;\" x=\"149.349744\" xlink:href=\"#m2917ffe60c\" y=\"134.96681\"/>\n     <use style=\"fill:#1f77b4;stroke:#1f77b4;\" x=\"194.992396\" xlink:href=\"#m2917ffe60c\" y=\"196.13876\"/>\n     <use style=\"fill:#1f77b4;stroke:#1f77b4;\" x=\"201.274921\" xlink:href=\"#m2917ffe60c\" y=\"179.866561\"/>\n     <use style=\"fill:#1f77b4;stroke:#1f77b4;\" x=\"156.025502\" xlink:href=\"#m2917ffe60c\" y=\"116.82229\"/>\n     <use style=\"fill:#1f77b4;stroke:#1f77b4;\" x=\"223.794008\" xlink:href=\"#m2917ffe60c\" y=\"169.889695\"/>\n     <use style=\"fill:#1f77b4;stroke:#1f77b4;\" x=\"169.164005\" xlink:href=\"#m2917ffe60c\" y=\"163.191971\"/>\n     <use style=\"fill:#1f77b4;stroke:#1f77b4;\" x=\"225.57626\" xlink:href=\"#m2917ffe60c\" y=\"147.807552\"/>\n     <use style=\"fill:#1f77b4;stroke:#1f77b4;\" x=\"252.529824\" xlink:href=\"#m2917ffe60c\" y=\"203.486505\"/>\n     <use style=\"fill:#1f77b4;stroke:#1f77b4;\" x=\"225.234914\" xlink:href=\"#m2917ffe60c\" y=\"171.636671\"/>\n     <use style=\"fill:#1f77b4;stroke:#1f77b4;\" x=\"222.602143\" xlink:href=\"#m2917ffe60c\" y=\"182.374744\"/>\n     <use style=\"fill:#1f77b4;stroke:#1f77b4;\" x=\"236.310253\" xlink:href=\"#m2917ffe60c\" y=\"198.785112\"/>\n     <use style=\"fill:#1f77b4;stroke:#1f77b4;\" x=\"187.449859\" xlink:href=\"#m2917ffe60c\" y=\"153.31912\"/>\n     <use style=\"fill:#1f77b4;stroke:#1f77b4;\" x=\"180.516297\" xlink:href=\"#m2917ffe60c\" y=\"203.831956\"/>\n     <use style=\"fill:#1f77b4;stroke:#1f77b4;\" x=\"197.962367\" xlink:href=\"#m2917ffe60c\" y=\"201.947467\"/>\n     <use style=\"fill:#1f77b4;stroke:#1f77b4;\" x=\"186.47095\" xlink:href=\"#m2917ffe60c\" y=\"162.870541\"/>\n     <use style=\"fill:#1f77b4;stroke:#1f77b4;\" x=\"186.709386\" xlink:href=\"#m2917ffe60c\" y=\"139.524602\"/>\n     <use style=\"fill:#1f77b4;stroke:#1f77b4;\" x=\"165.040116\" xlink:href=\"#m2917ffe60c\" y=\"161.035254\"/>\n     <use style=\"fill:#1f77b4;stroke:#1f77b4;\" x=\"178.241634\" xlink:href=\"#m2917ffe60c\" y=\"190.690145\"/>\n     <use style=\"fill:#1f77b4;stroke:#1f77b4;\" x=\"168.498152\" xlink:href=\"#m2917ffe60c\" y=\"187.858383\"/>\n     <use style=\"fill:#1f77b4;stroke:#1f77b4;\" x=\"170.010007\" xlink:href=\"#m2917ffe60c\" y=\"153.166491\"/>\n     <use style=\"fill:#1f77b4;stroke:#1f77b4;\" x=\"237.216102\" xlink:href=\"#m2917ffe60c\" y=\"153.347152\"/>\n     <use style=\"fill:#1f77b4;stroke:#1f77b4;\" x=\"151.240305\" xlink:href=\"#m2917ffe60c\" y=\"164.978717\"/>\n     <use style=\"fill:#1f77b4;stroke:#1f77b4;\" x=\"236.367898\" xlink:href=\"#m2917ffe60c\" y=\"169.172037\"/>\n     <use style=\"fill:#1f77b4;stroke:#1f77b4;\" x=\"234.333406\" xlink:href=\"#m2917ffe60c\" y=\"143.301526\"/>\n     <use style=\"fill:#1f77b4;stroke:#1f77b4;\" x=\"197.018761\" xlink:href=\"#m2917ffe60c\" y=\"147.068867\"/>\n     <use style=\"fill:#1f77b4;stroke:#1f77b4;\" x=\"262.540286\" xlink:href=\"#m2917ffe60c\" y=\"170.356801\"/>\n     <use style=\"fill:#1f77b4;stroke:#1f77b4;\" x=\"193.064772\" xlink:href=\"#m2917ffe60c\" y=\"156.204315\"/>\n     <use style=\"fill:#1f77b4;stroke:#1f77b4;\" x=\"150.254177\" xlink:href=\"#m2917ffe60c\" y=\"152.011017\"/>\n     <use style=\"fill:#1f77b4;stroke:#1f77b4;\" x=\"166.138408\" xlink:href=\"#m2917ffe60c\" y=\"173.642491\"/>\n     <use style=\"fill:#1f77b4;stroke:#1f77b4;\" x=\"97.043923\" xlink:href=\"#m2917ffe60c\" y=\"131.6231\"/>\n     <use style=\"fill:#1f77b4;stroke:#1f77b4;\" x=\"154.54181\" xlink:href=\"#m2917ffe60c\" y=\"152.025847\"/>\n     <use style=\"fill:#1f77b4;stroke:#1f77b4;\" x=\"155.879125\" xlink:href=\"#m2917ffe60c\" y=\"128.380553\"/>\n     <use style=\"fill:#1f77b4;stroke:#1f77b4;\" x=\"145.560671\" xlink:href=\"#m2917ffe60c\" y=\"141.263004\"/>\n     <use style=\"fill:#1f77b4;stroke:#1f77b4;\" x=\"163.50962\" xlink:href=\"#m2917ffe60c\" y=\"152.18847\"/>\n     <use style=\"fill:#1f77b4;stroke:#1f77b4;\" x=\"266.739871\" xlink:href=\"#m2917ffe60c\" y=\"173.577979\"/>\n     <use style=\"fill:#1f77b4;stroke:#1f77b4;\" x=\"206.634359\" xlink:href=\"#m2917ffe60c\" y=\"120.701816\"/>\n     <use style=\"fill:#1f77b4;stroke:#1f77b4;\" x=\"253.164241\" xlink:href=\"#m2917ffe60c\" y=\"167.948196\"/>\n     <use style=\"fill:#1f77b4;stroke:#1f77b4;\" x=\"116.088116\" xlink:href=\"#m2917ffe60c\" y=\"155.524803\"/>\n     <use style=\"fill:#1f77b4;stroke:#1f77b4;\" x=\"232.839795\" xlink:href=\"#m2917ffe60c\" y=\"112.232246\"/>\n     <use style=\"fill:#1f77b4;stroke:#1f77b4;\" x=\"243.280806\" xlink:href=\"#m2917ffe60c\" y=\"153.479009\"/>\n     <use style=\"fill:#1f77b4;stroke:#1f77b4;\" x=\"267.93498\" xlink:href=\"#m2917ffe60c\" y=\"184.014071\"/>\n     <use style=\"fill:#1f77b4;stroke:#1f77b4;\" x=\"161.717792\" xlink:href=\"#m2917ffe60c\" y=\"175.223692\"/>\n     <use style=\"fill:#1f77b4;stroke:#1f77b4;\" x=\"216.763009\" xlink:href=\"#m2917ffe60c\" y=\"149.536302\"/>\n     <use style=\"fill:#1f77b4;stroke:#1f77b4;\" x=\"198.26347\" xlink:href=\"#m2917ffe60c\" y=\"172.648083\"/>\n     <use style=\"fill:#1f77b4;stroke:#1f77b4;\" x=\"223.658145\" xlink:href=\"#m2917ffe60c\" y=\"139.381105\"/>\n     <use style=\"fill:#1f77b4;stroke:#1f77b4;\" x=\"263.288393\" xlink:href=\"#m2917ffe60c\" y=\"204.985056\"/>\n     <use style=\"fill:#1f77b4;stroke:#1f77b4;\" x=\"181.267527\" xlink:href=\"#m2917ffe60c\" y=\"173.149214\"/>\n     <use style=\"fill:#1f77b4;stroke:#1f77b4;\" x=\"153.256081\" xlink:href=\"#m2917ffe60c\" y=\"186.396621\"/>\n     <use style=\"fill:#1f77b4;stroke:#1f77b4;\" x=\"177.838029\" xlink:href=\"#m2917ffe60c\" y=\"159.79487\"/>\n     <use style=\"fill:#1f77b4;stroke:#1f77b4;\" x=\"249.436853\" xlink:href=\"#m2917ffe60c\" y=\"183.889189\"/>\n     <use style=\"fill:#1f77b4;stroke:#1f77b4;\" x=\"183.634028\" xlink:href=\"#m2917ffe60c\" y=\"175.641679\"/>\n     <use style=\"fill:#1f77b4;stroke:#1f77b4;\" x=\"190.902418\" xlink:href=\"#m2917ffe60c\" y=\"182.220151\"/>\n     <use style=\"fill:#1f77b4;stroke:#1f77b4;\" x=\"190.165739\" xlink:href=\"#m2917ffe60c\" y=\"158.341049\"/>\n     <use style=\"fill:#1f77b4;stroke:#1f77b4;\" x=\"210.131024\" xlink:href=\"#m2917ffe60c\" y=\"152.566533\"/>\n     <use style=\"fill:#1f77b4;stroke:#1f77b4;\" x=\"146.865479\" xlink:href=\"#m2917ffe60c\" y=\"122.827692\"/>\n     <use style=\"fill:#1f77b4;stroke:#1f77b4;\" x=\"203.008753\" xlink:href=\"#m2917ffe60c\" y=\"150.641996\"/>\n     <use style=\"fill:#1f77b4;stroke:#1f77b4;\" x=\"193.008362\" xlink:href=\"#m2917ffe60c\" y=\"136.223054\"/>\n     <use style=\"fill:#1f77b4;stroke:#1f77b4;\" x=\"139.979682\" xlink:href=\"#m2917ffe60c\" y=\"154.683109\"/>\n     <use style=\"fill:#1f77b4;stroke:#1f77b4;\" x=\"237.680843\" xlink:href=\"#m2917ffe60c\" y=\"164.464407\"/>\n     <use style=\"fill:#1f77b4;stroke:#1f77b4;\" x=\"351.429615\" xlink:href=\"#m2917ffe60c\" y=\"143.753698\"/>\n     <use style=\"fill:#1f77b4;stroke:#1f77b4;\" x=\"171.237653\" xlink:href=\"#m2917ffe60c\" y=\"124.316461\"/>\n     <use style=\"fill:#1f77b4;stroke:#1f77b4;\" x=\"194.558537\" xlink:href=\"#m2917ffe60c\" y=\"141.842807\"/>\n     <use style=\"fill:#1f77b4;stroke:#1f77b4;\" x=\"213.042598\" xlink:href=\"#m2917ffe60c\" y=\"187.72729\"/>\n     <use style=\"fill:#1f77b4;stroke:#1f77b4;\" x=\"219.234647\" xlink:href=\"#m2917ffe60c\" y=\"145.588821\"/>\n     <use style=\"fill:#1f77b4;stroke:#1f77b4;\" x=\"163.102835\" xlink:href=\"#m2917ffe60c\" y=\"161.106914\"/>\n     <use style=\"fill:#1f77b4;stroke:#1f77b4;\" x=\"198.390467\" xlink:href=\"#m2917ffe60c\" y=\"179.247997\"/>\n     <use style=\"fill:#1f77b4;stroke:#1f77b4;\" x=\"181.626616\" xlink:href=\"#m2917ffe60c\" y=\"189.955625\"/>\n     <use style=\"fill:#1f77b4;stroke:#1f77b4;\" x=\"193.230605\" xlink:href=\"#m2917ffe60c\" y=\"177.577384\"/>\n     <use style=\"fill:#1f77b4;stroke:#1f77b4;\" x=\"236.898969\" xlink:href=\"#m2917ffe60c\" y=\"193.101641\"/>\n     <use style=\"fill:#1f77b4;stroke:#1f77b4;\" x=\"248.431217\" xlink:href=\"#m2917ffe60c\" y=\"170.736538\"/>\n     <use style=\"fill:#1f77b4;stroke:#1f77b4;\" x=\"185.489185\" xlink:href=\"#m2917ffe60c\" y=\"184.104134\"/>\n     <use style=\"fill:#1f77b4;stroke:#1f77b4;\" x=\"214.431027\" xlink:href=\"#m2917ffe60c\" y=\"173.91371\"/>\n     <use style=\"fill:#1f77b4;stroke:#1f77b4;\" x=\"152.789722\" xlink:href=\"#m2917ffe60c\" y=\"175.121817\"/>\n     <use style=\"fill:#1f77b4;stroke:#1f77b4;\" x=\"196.063051\" xlink:href=\"#m2917ffe60c\" y=\"189.71275\"/>\n     <use style=\"fill:#1f77b4;stroke:#1f77b4;\" x=\"232.135498\" xlink:href=\"#m2917ffe60c\" y=\"169.337037\"/>\n     <use style=\"fill:#1f77b4;stroke:#1f77b4;\" x=\"201.094953\" xlink:href=\"#m2917ffe60c\" y=\"175.319252\"/>\n     <use style=\"fill:#1f77b4;stroke:#1f77b4;\" x=\"235.414609\" xlink:href=\"#m2917ffe60c\" y=\"142.028756\"/>\n     <use style=\"fill:#1f77b4;stroke:#1f77b4;\" x=\"246.850544\" xlink:href=\"#m2917ffe60c\" y=\"158.070412\"/>\n     <use style=\"fill:#1f77b4;stroke:#1f77b4;\" x=\"220.420485\" xlink:href=\"#m2917ffe60c\" y=\"204.499884\"/>\n     <use style=\"fill:#1f77b4;stroke:#1f77b4;\" x=\"201.675097\" xlink:href=\"#m2917ffe60c\" y=\"162.735576\"/>\n     <use style=\"fill:#1f77b4;stroke:#1f77b4;\" x=\"224.414207\" xlink:href=\"#m2917ffe60c\" y=\"134.358644\"/>\n     <use style=\"fill:#1f77b4;stroke:#1f77b4;\" x=\"139.197836\" xlink:href=\"#m2917ffe60c\" y=\"164.493721\"/>\n     <use style=\"fill:#1f77b4;stroke:#1f77b4;\" x=\"243.204103\" xlink:href=\"#m2917ffe60c\" y=\"158.356072\"/>\n     <use style=\"fill:#1f77b4;stroke:#1f77b4;\" x=\"201.579844\" xlink:href=\"#m2917ffe60c\" y=\"131.292538\"/>\n     <use style=\"fill:#1f77b4;stroke:#1f77b4;\" x=\"199.075535\" xlink:href=\"#m2917ffe60c\" y=\"158.68539\"/>\n     <use style=\"fill:#1f77b4;stroke:#1f77b4;\" x=\"193.450846\" xlink:href=\"#m2917ffe60c\" y=\"181.099415\"/>\n     <use style=\"fill:#1f77b4;stroke:#1f77b4;\" x=\"187.026385\" xlink:href=\"#m2917ffe60c\" y=\"191.81001\"/>\n     <use style=\"fill:#1f77b4;stroke:#1f77b4;\" x=\"220.461872\" xlink:href=\"#m2917ffe60c\" y=\"146.386156\"/>\n     <use style=\"fill:#1f77b4;stroke:#1f77b4;\" x=\"200.653328\" xlink:href=\"#m2917ffe60c\" y=\"162.651619\"/>\n     <use style=\"fill:#1f77b4;stroke:#1f77b4;\" x=\"127.04162\" xlink:href=\"#m2917ffe60c\" y=\"139.078373\"/>\n     <use style=\"fill:#1f77b4;stroke:#1f77b4;\" x=\"122.726126\" xlink:href=\"#m2917ffe60c\" y=\"154.194461\"/>\n     <use style=\"fill:#1f77b4;stroke:#1f77b4;\" x=\"153.008535\" xlink:href=\"#m2917ffe60c\" y=\"163.536572\"/>\n     <use style=\"fill:#1f77b4;stroke:#1f77b4;\" x=\"180.490023\" xlink:href=\"#m2917ffe60c\" y=\"162.24402\"/>\n     <use style=\"fill:#1f77b4;stroke:#1f77b4;\" x=\"162.31413\" xlink:href=\"#m2917ffe60c\" y=\"168.305942\"/>\n     <use style=\"fill:#1f77b4;stroke:#1f77b4;\" x=\"223.91398\" xlink:href=\"#m2917ffe60c\" y=\"157.095364\"/>\n     <use style=\"fill:#1f77b4;stroke:#1f77b4;\" x=\"161.921281\" xlink:href=\"#m2917ffe60c\" y=\"159.360822\"/>\n     <use style=\"fill:#1f77b4;stroke:#1f77b4;\" x=\"174.281642\" xlink:href=\"#m2917ffe60c\" y=\"166.718656\"/>\n     <use style=\"fill:#1f77b4;stroke:#1f77b4;\" x=\"160.041767\" xlink:href=\"#m2917ffe60c\" y=\"164.556263\"/>\n     <use style=\"fill:#1f77b4;stroke:#1f77b4;\" x=\"120.676035\" xlink:href=\"#m2917ffe60c\" y=\"186.723978\"/>\n     <use style=\"fill:#1f77b4;stroke:#1f77b4;\" x=\"256.757424\" xlink:href=\"#m2917ffe60c\" y=\"154.594324\"/>\n     <use style=\"fill:#1f77b4;stroke:#1f77b4;\" x=\"235.531744\" xlink:href=\"#m2917ffe60c\" y=\"132.811614\"/>\n     <use style=\"fill:#1f77b4;stroke:#1f77b4;\" x=\"199.545349\" xlink:href=\"#m2917ffe60c\" y=\"144.946482\"/>\n     <use style=\"fill:#1f77b4;stroke:#1f77b4;\" x=\"215.337182\" xlink:href=\"#m2917ffe60c\" y=\"164.728226\"/>\n     <use style=\"fill:#1f77b4;stroke:#1f77b4;\" x=\"122.047331\" xlink:href=\"#m2917ffe60c\" y=\"124.38736\"/>\n     <use style=\"fill:#1f77b4;stroke:#1f77b4;\" x=\"160.639587\" xlink:href=\"#m2917ffe60c\" y=\"198.315994\"/>\n     <use style=\"fill:#1f77b4;stroke:#1f77b4;\" x=\"230.324456\" xlink:href=\"#m2917ffe60c\" y=\"168.57413\"/>\n     <use style=\"fill:#1f77b4;stroke:#1f77b4;\" x=\"170.251055\" xlink:href=\"#m2917ffe60c\" y=\"168.702248\"/>\n     <use style=\"fill:#1f77b4;stroke:#1f77b4;\" x=\"255.958312\" xlink:href=\"#m2917ffe60c\" y=\"146.061271\"/>\n     <use style=\"fill:#1f77b4;stroke:#1f77b4;\" x=\"217.990308\" xlink:href=\"#m2917ffe60c\" y=\"152.340857\"/>\n     <use style=\"fill:#1f77b4;stroke:#1f77b4;\" x=\"140.865755\" xlink:href=\"#m2917ffe60c\" y=\"135.987962\"/>\n     <use style=\"fill:#1f77b4;stroke:#1f77b4;\" x=\"144.634602\" xlink:href=\"#m2917ffe60c\" y=\"145.636375\"/>\n     <use style=\"fill:#1f77b4;stroke:#1f77b4;\" x=\"166.947544\" xlink:href=\"#m2917ffe60c\" y=\"156.121104\"/>\n     <use style=\"fill:#1f77b4;stroke:#1f77b4;\" x=\"221.580819\" xlink:href=\"#m2917ffe60c\" y=\"168.877001\"/>\n     <use style=\"fill:#1f77b4;stroke:#1f77b4;\" x=\"184.982682\" xlink:href=\"#m2917ffe60c\" y=\"205.269072\"/>\n     <use style=\"fill:#1f77b4;stroke:#1f77b4;\" x=\"223.707052\" xlink:href=\"#m2917ffe60c\" y=\"183.69579\"/>\n     <use style=\"fill:#1f77b4;stroke:#1f77b4;\" x=\"203.589457\" xlink:href=\"#m2917ffe60c\" y=\"182.268727\"/>\n     <use style=\"fill:#1f77b4;stroke:#1f77b4;\" x=\"115.437244\" xlink:href=\"#m2917ffe60c\" y=\"160.242986\"/>\n     <use style=\"fill:#1f77b4;stroke:#1f77b4;\" x=\"203.5794\" xlink:href=\"#m2917ffe60c\" y=\"144.892099\"/>\n     <use style=\"fill:#1f77b4;stroke:#1f77b4;\" x=\"193.742944\" xlink:href=\"#m2917ffe60c\" y=\"149.685942\"/>\n     <use style=\"fill:#1f77b4;stroke:#1f77b4;\" x=\"186.978442\" xlink:href=\"#m2917ffe60c\" y=\"185.017763\"/>\n     <use style=\"fill:#1f77b4;stroke:#1f77b4;\" x=\"241.656701\" xlink:href=\"#m2917ffe60c\" y=\"187.736621\"/>\n     <use style=\"fill:#1f77b4;stroke:#1f77b4;\" x=\"222.434584\" xlink:href=\"#m2917ffe60c\" y=\"166.183407\"/>\n     <use style=\"fill:#1f77b4;stroke:#1f77b4;\" x=\"215.338556\" xlink:href=\"#m2917ffe60c\" y=\"173.613894\"/>\n     <use style=\"fill:#1f77b4;stroke:#1f77b4;\" x=\"208.721712\" xlink:href=\"#m2917ffe60c\" y=\"140.468279\"/>\n     <use style=\"fill:#1f77b4;stroke:#1f77b4;\" x=\"213.00329\" xlink:href=\"#m2917ffe60c\" y=\"179.192348\"/>\n     <use style=\"fill:#1f77b4;stroke:#1f77b4;\" x=\"197.56124\" xlink:href=\"#m2917ffe60c\" y=\"212.38972\"/>\n     <use style=\"fill:#1f77b4;stroke:#1f77b4;\" x=\"225.88933\" xlink:href=\"#m2917ffe60c\" y=\"164.029541\"/>\n     <use style=\"fill:#1f77b4;stroke:#1f77b4;\" x=\"144.58324\" xlink:href=\"#m2917ffe60c\" y=\"154.633723\"/>\n     <use style=\"fill:#1f77b4;stroke:#1f77b4;\" x=\"188.056845\" xlink:href=\"#m2917ffe60c\" y=\"129.276437\"/>\n     <use style=\"fill:#1f77b4;stroke:#1f77b4;\" x=\"160.316398\" xlink:href=\"#m2917ffe60c\" y=\"164.920734\"/>\n     <use style=\"fill:#1f77b4;stroke:#1f77b4;\" x=\"191.232219\" xlink:href=\"#m2917ffe60c\" y=\"144.924214\"/>\n     <use style=\"fill:#1f77b4;stroke:#1f77b4;\" x=\"181.710474\" xlink:href=\"#m2917ffe60c\" y=\"144.82003\"/>\n     <use style=\"fill:#1f77b4;stroke:#1f77b4;\" x=\"193.833118\" xlink:href=\"#m2917ffe60c\" y=\"146.208759\"/>\n     <use style=\"fill:#1f77b4;stroke:#1f77b4;\" x=\"251.193911\" xlink:href=\"#m2917ffe60c\" y=\"193.809661\"/>\n     <use style=\"fill:#1f77b4;stroke:#1f77b4;\" x=\"228.944469\" xlink:href=\"#m2917ffe60c\" y=\"134.077463\"/>\n     <use style=\"fill:#1f77b4;stroke:#1f77b4;\" x=\"152.18094\" xlink:href=\"#m2917ffe60c\" y=\"181.584494\"/>\n     <use style=\"fill:#1f77b4;stroke:#1f77b4;\" x=\"281.343898\" xlink:href=\"#m2917ffe60c\" y=\"171.777585\"/>\n     <use style=\"fill:#1f77b4;stroke:#1f77b4;\" x=\"213.654922\" xlink:href=\"#m2917ffe60c\" y=\"153.471787\"/>\n     <use style=\"fill:#1f77b4;stroke:#1f77b4;\" x=\"186.704775\" xlink:href=\"#m2917ffe60c\" y=\"185.908234\"/>\n     <use style=\"fill:#1f77b4;stroke:#1f77b4;\" x=\"238.781401\" xlink:href=\"#m2917ffe60c\" y=\"211.099654\"/>\n     <use style=\"fill:#1f77b4;stroke:#1f77b4;\" x=\"150.20869\" xlink:href=\"#m2917ffe60c\" y=\"176.28137\"/>\n     <use style=\"fill:#1f77b4;stroke:#1f77b4;\" x=\"236.645817\" xlink:href=\"#m2917ffe60c\" y=\"167.063239\"/>\n     <use style=\"fill:#1f77b4;stroke:#1f77b4;\" x=\"188.00142\" xlink:href=\"#m2917ffe60c\" y=\"166.386497\"/>\n     <use style=\"fill:#1f77b4;stroke:#1f77b4;\" x=\"147.879805\" xlink:href=\"#m2917ffe60c\" y=\"171.610572\"/>\n     <use style=\"fill:#1f77b4;stroke:#1f77b4;\" x=\"189.79104\" xlink:href=\"#m2917ffe60c\" y=\"146.985986\"/>\n     <use style=\"fill:#1f77b4;stroke:#1f77b4;\" x=\"243.678122\" xlink:href=\"#m2917ffe60c\" y=\"182.535285\"/>\n     <use style=\"fill:#1f77b4;stroke:#1f77b4;\" x=\"170.594698\" xlink:href=\"#m2917ffe60c\" y=\"160.334446\"/>\n     <use style=\"fill:#1f77b4;stroke:#1f77b4;\" x=\"179.754268\" xlink:href=\"#m2917ffe60c\" y=\"179.86833\"/>\n     <use style=\"fill:#1f77b4;stroke:#1f77b4;\" x=\"208.193982\" xlink:href=\"#m2917ffe60c\" y=\"164.110349\"/>\n     <use style=\"fill:#1f77b4;stroke:#1f77b4;\" x=\"189.776028\" xlink:href=\"#m2917ffe60c\" y=\"143.174244\"/>\n     <use style=\"fill:#1f77b4;stroke:#1f77b4;\" x=\"182.072071\" xlink:href=\"#m2917ffe60c\" y=\"106.211725\"/>\n     <use style=\"fill:#1f77b4;stroke:#1f77b4;\" x=\"137.964065\" xlink:href=\"#m2917ffe60c\" y=\"168.420398\"/>\n     <use style=\"fill:#1f77b4;stroke:#1f77b4;\" x=\"227.164468\" xlink:href=\"#m2917ffe60c\" y=\"148.612267\"/>\n     <use style=\"fill:#1f77b4;stroke:#1f77b4;\" x=\"201.923362\" xlink:href=\"#m2917ffe60c\" y=\"128.189519\"/>\n     <use style=\"fill:#1f77b4;stroke:#1f77b4;\" x=\"183.416463\" xlink:href=\"#m2917ffe60c\" y=\"113.743385\"/>\n     <use style=\"fill:#1f77b4;stroke:#1f77b4;\" x=\"235.070092\" xlink:href=\"#m2917ffe60c\" y=\"151.919136\"/>\n     <use style=\"fill:#1f77b4;stroke:#1f77b4;\" x=\"233.20316\" xlink:href=\"#m2917ffe60c\" y=\"176.589057\"/>\n     <use style=\"fill:#1f77b4;stroke:#1f77b4;\" x=\"163.236251\" xlink:href=\"#m2917ffe60c\" y=\"169.851885\"/>\n     <use style=\"fill:#1f77b4;stroke:#1f77b4;\" x=\"169.384285\" xlink:href=\"#m2917ffe60c\" y=\"150.40854\"/>\n     <use style=\"fill:#1f77b4;stroke:#1f77b4;\" x=\"154.461205\" xlink:href=\"#m2917ffe60c\" y=\"170.764562\"/>\n     <use style=\"fill:#1f77b4;stroke:#1f77b4;\" x=\"181.051599\" xlink:href=\"#m2917ffe60c\" y=\"155.115465\"/>\n     <use style=\"fill:#1f77b4;stroke:#1f77b4;\" x=\"181.757969\" xlink:href=\"#m2917ffe60c\" y=\"115.588138\"/>\n     <use style=\"fill:#1f77b4;stroke:#1f77b4;\" x=\"189.351207\" xlink:href=\"#m2917ffe60c\" y=\"171.828559\"/>\n     <use style=\"fill:#1f77b4;stroke:#1f77b4;\" x=\"233.86685\" xlink:href=\"#m2917ffe60c\" y=\"132.09438\"/>\n     <use style=\"fill:#1f77b4;stroke:#1f77b4;\" x=\"136.134323\" xlink:href=\"#m2917ffe60c\" y=\"214.756364\"/>\n     <use style=\"fill:#1f77b4;stroke:#1f77b4;\" x=\"173.597812\" xlink:href=\"#m2917ffe60c\" y=\"173.778559\"/>\n    </g>\n   </g>\n   <g id=\"PathCollection_2\">\n    <defs>\n     <path d=\"M 0 3 \nC 0.795609 3 1.55874 2.683901 2.12132 2.12132 \nC 2.683901 1.55874 3 0.795609 3 0 \nC 3 -0.795609 2.683901 -1.55874 2.12132 -2.12132 \nC 1.55874 -2.683901 0.795609 -3 0 -3 \nC -0.795609 -3 -1.55874 -2.683901 -2.12132 -2.12132 \nC -2.683901 -1.55874 -3 -0.795609 -3 0 \nC -3 0.795609 -2.683901 1.55874 -2.12132 2.12132 \nC -1.55874 2.683901 -0.795609 3 0 3 \nz\n\" id=\"md166719fb4\" style=\"stroke:#ff7f0e;\"/>\n    </defs>\n    <g clip-path=\"url(#p49d5fc2475)\">\n     <use style=\"fill:#ff7f0e;stroke:#ff7f0e;\" x=\"229.09918\" xlink:href=\"#md166719fb4\" y=\"83.565083\"/>\n     <use style=\"fill:#ff7f0e;stroke:#ff7f0e;\" x=\"204.805717\" xlink:href=\"#md166719fb4\" y=\"103.015169\"/>\n     <use style=\"fill:#ff7f0e;stroke:#ff7f0e;\" x=\"268.755113\" xlink:href=\"#md166719fb4\" y=\"78.562472\"/>\n     <use style=\"fill:#ff7f0e;stroke:#ff7f0e;\" x=\"269.94374\" xlink:href=\"#md166719fb4\" y=\"87.582921\"/>\n     <use style=\"fill:#ff7f0e;stroke:#ff7f0e;\" x=\"228.692079\" xlink:href=\"#md166719fb4\" y=\"63.73928\"/>\n     <use style=\"fill:#ff7f0e;stroke:#ff7f0e;\" x=\"215.939356\" xlink:href=\"#md166719fb4\" y=\"105.337421\"/>\n     <use style=\"fill:#ff7f0e;stroke:#ff7f0e;\" x=\"176.725611\" xlink:href=\"#md166719fb4\" y=\"70.398206\"/>\n     <use style=\"fill:#ff7f0e;stroke:#ff7f0e;\" x=\"208.500882\" xlink:href=\"#md166719fb4\" y=\"81.012803\"/>\n     <use style=\"fill:#ff7f0e;stroke:#ff7f0e;\" x=\"219.745832\" xlink:href=\"#md166719fb4\" y=\"54.704822\"/>\n     <use style=\"fill:#ff7f0e;stroke:#ff7f0e;\" x=\"212.1789\" xlink:href=\"#md166719fb4\" y=\"69.771828\"/>\n     <use style=\"fill:#ff7f0e;stroke:#ff7f0e;\" x=\"230.776257\" xlink:href=\"#md166719fb4\" y=\"50.796077\"/>\n     <use style=\"fill:#ff7f0e;stroke:#ff7f0e;\" x=\"218.446694\" xlink:href=\"#md166719fb4\" y=\"76.151651\"/>\n     <use style=\"fill:#ff7f0e;stroke:#ff7f0e;\" x=\"248.410334\" xlink:href=\"#md166719fb4\" y=\"59.116143\"/>\n     <use style=\"fill:#ff7f0e;stroke:#ff7f0e;\" x=\"174.660285\" xlink:href=\"#md166719fb4\" y=\"61.55393\"/>\n     <use style=\"fill:#ff7f0e;stroke:#ff7f0e;\" x=\"193.469117\" xlink:href=\"#md166719fb4\" y=\"67.793266\"/>\n     <use style=\"fill:#ff7f0e;stroke:#ff7f0e;\" x=\"211.168585\" xlink:href=\"#md166719fb4\" y=\"61.708859\"/>\n     <use style=\"fill:#ff7f0e;stroke:#ff7f0e;\" x=\"204.41726\" xlink:href=\"#md166719fb4\" y=\"108.132011\"/>\n     <use style=\"fill:#ff7f0e;stroke:#ff7f0e;\" x=\"236.822648\" xlink:href=\"#md166719fb4\" y=\"52.86173\"/>\n     <use style=\"fill:#ff7f0e;stroke:#ff7f0e;\" x=\"249.201288\" xlink:href=\"#md166719fb4\" y=\"89.477431\"/>\n     <use style=\"fill:#ff7f0e;stroke:#ff7f0e;\" x=\"229.951965\" xlink:href=\"#md166719fb4\" y=\"69.808444\"/>\n     <use style=\"fill:#ff7f0e;stroke:#ff7f0e;\" x=\"225.961681\" xlink:href=\"#md166719fb4\" y=\"97.819767\"/>\n     <use style=\"fill:#ff7f0e;stroke:#ff7f0e;\" x=\"261.98851\" xlink:href=\"#md166719fb4\" y=\"89.852894\"/>\n     <use style=\"fill:#ff7f0e;stroke:#ff7f0e;\" x=\"237.752027\" xlink:href=\"#md166719fb4\" y=\"63.91794\"/>\n     <use style=\"fill:#ff7f0e;stroke:#ff7f0e;\" x=\"168.756753\" xlink:href=\"#md166719fb4\" y=\"56.649339\"/>\n     <use style=\"fill:#ff7f0e;stroke:#ff7f0e;\" x=\"235.414712\" xlink:href=\"#md166719fb4\" y=\"102.503556\"/>\n     <use style=\"fill:#ff7f0e;stroke:#ff7f0e;\" x=\"206.202629\" xlink:href=\"#md166719fb4\" y=\"41.200603\"/>\n     <use style=\"fill:#ff7f0e;stroke:#ff7f0e;\" x=\"310.88854\" xlink:href=\"#md166719fb4\" y=\"109.440742\"/>\n     <use style=\"fill:#ff7f0e;stroke:#ff7f0e;\" x=\"258.280026\" xlink:href=\"#md166719fb4\" y=\"73.214698\"/>\n     <use style=\"fill:#ff7f0e;stroke:#ff7f0e;\" x=\"258.903775\" xlink:href=\"#md166719fb4\" y=\"95.622869\"/>\n     <use style=\"fill:#ff7f0e;stroke:#ff7f0e;\" x=\"217.304669\" xlink:href=\"#md166719fb4\" y=\"85.128276\"/>\n     <use style=\"fill:#ff7f0e;stroke:#ff7f0e;\" x=\"217.994471\" xlink:href=\"#md166719fb4\" y=\"94.316565\"/>\n     <use style=\"fill:#ff7f0e;stroke:#ff7f0e;\" x=\"174.601842\" xlink:href=\"#md166719fb4\" y=\"85.350454\"/>\n     <use style=\"fill:#ff7f0e;stroke:#ff7f0e;\" x=\"271.903659\" xlink:href=\"#md166719fb4\" y=\"58.354295\"/>\n     <use style=\"fill:#ff7f0e;stroke:#ff7f0e;\" x=\"230.579387\" xlink:href=\"#md166719fb4\" y=\"17.083636\"/>\n     <use style=\"fill:#ff7f0e;stroke:#ff7f0e;\" x=\"231.21622\" xlink:href=\"#md166719fb4\" y=\"72.978583\"/>\n     <use style=\"fill:#ff7f0e;stroke:#ff7f0e;\" x=\"214.168481\" xlink:href=\"#md166719fb4\" y=\"71.642386\"/>\n     <use style=\"fill:#ff7f0e;stroke:#ff7f0e;\" x=\"209.349253\" xlink:href=\"#md166719fb4\" y=\"62.189617\"/>\n     <use style=\"fill:#ff7f0e;stroke:#ff7f0e;\" x=\"238.61403\" xlink:href=\"#md166719fb4\" y=\"91.007262\"/>\n     <use style=\"fill:#ff7f0e;stroke:#ff7f0e;\" x=\"253.838276\" xlink:href=\"#md166719fb4\" y=\"88.942453\"/>\n     <use style=\"fill:#ff7f0e;stroke:#ff7f0e;\" x=\"162.926092\" xlink:href=\"#md166719fb4\" y=\"87.46335\"/>\n     <use style=\"fill:#ff7f0e;stroke:#ff7f0e;\" x=\"201.326943\" xlink:href=\"#md166719fb4\" y=\"37.972273\"/>\n     <use style=\"fill:#ff7f0e;stroke:#ff7f0e;\" x=\"247.073864\" xlink:href=\"#md166719fb4\" y=\"86.421559\"/>\n     <use style=\"fill:#ff7f0e;stroke:#ff7f0e;\" x=\"238.153882\" xlink:href=\"#md166719fb4\" y=\"97.738499\"/>\n     <use style=\"fill:#ff7f0e;stroke:#ff7f0e;\" x=\"277.602907\" xlink:href=\"#md166719fb4\" y=\"67.025745\"/>\n     <use style=\"fill:#ff7f0e;stroke:#ff7f0e;\" x=\"239.433387\" xlink:href=\"#md166719fb4\" y=\"45.795447\"/>\n     <use style=\"fill:#ff7f0e;stroke:#ff7f0e;\" x=\"201.804736\" xlink:href=\"#md166719fb4\" y=\"61.332273\"/>\n     <use style=\"fill:#ff7f0e;stroke:#ff7f0e;\" x=\"242.80296\" xlink:href=\"#md166719fb4\" y=\"100.581776\"/>\n     <use style=\"fill:#ff7f0e;stroke:#ff7f0e;\" x=\"253.382782\" xlink:href=\"#md166719fb4\" y=\"77.244062\"/>\n     <use style=\"fill:#ff7f0e;stroke:#ff7f0e;\" x=\"221.626327\" xlink:href=\"#md166719fb4\" y=\"78.78741\"/>\n     <use style=\"fill:#ff7f0e;stroke:#ff7f0e;\" x=\"245.741029\" xlink:href=\"#md166719fb4\" y=\"74.999285\"/>\n     <use style=\"fill:#ff7f0e;stroke:#ff7f0e;\" x=\"208.981623\" xlink:href=\"#md166719fb4\" y=\"94.232782\"/>\n     <use style=\"fill:#ff7f0e;stroke:#ff7f0e;\" x=\"227.989072\" xlink:href=\"#md166719fb4\" y=\"105.63939\"/>\n     <use style=\"fill:#ff7f0e;stroke:#ff7f0e;\" x=\"251.436357\" xlink:href=\"#md166719fb4\" y=\"105.058191\"/>\n     <use style=\"fill:#ff7f0e;stroke:#ff7f0e;\" x=\"215.180501\" xlink:href=\"#md166719fb4\" y=\"69.346824\"/>\n     <use style=\"fill:#ff7f0e;stroke:#ff7f0e;\" x=\"274.223015\" xlink:href=\"#md166719fb4\" y=\"79.049292\"/>\n     <use style=\"fill:#ff7f0e;stroke:#ff7f0e;\" x=\"248.55872\" xlink:href=\"#md166719fb4\" y=\"92.986731\"/>\n     <use style=\"fill:#ff7f0e;stroke:#ff7f0e;\" x=\"288.064134\" xlink:href=\"#md166719fb4\" y=\"68.403653\"/>\n     <use style=\"fill:#ff7f0e;stroke:#ff7f0e;\" x=\"267.667915\" xlink:href=\"#md166719fb4\" y=\"75.82533\"/>\n     <use style=\"fill:#ff7f0e;stroke:#ff7f0e;\" x=\"194.829616\" xlink:href=\"#md166719fb4\" y=\"86.664243\"/>\n     <use style=\"fill:#ff7f0e;stroke:#ff7f0e;\" x=\"206.13319\" xlink:href=\"#md166719fb4\" y=\"80.114319\"/>\n     <use style=\"fill:#ff7f0e;stroke:#ff7f0e;\" x=\"219.799114\" xlink:href=\"#md166719fb4\" y=\"76.971752\"/>\n     <use style=\"fill:#ff7f0e;stroke:#ff7f0e;\" x=\"250.567057\" xlink:href=\"#md166719fb4\" y=\"77.554461\"/>\n     <use style=\"fill:#ff7f0e;stroke:#ff7f0e;\" x=\"205.079106\" xlink:href=\"#md166719fb4\" y=\"34.406755\"/>\n     <use style=\"fill:#ff7f0e;stroke:#ff7f0e;\" x=\"232.62813\" xlink:href=\"#md166719fb4\" y=\"97.080758\"/>\n     <use style=\"fill:#ff7f0e;stroke:#ff7f0e;\" x=\"218.182896\" xlink:href=\"#md166719fb4\" y=\"42.798882\"/>\n     <use style=\"fill:#ff7f0e;stroke:#ff7f0e;\" x=\"254.261565\" xlink:href=\"#md166719fb4\" y=\"26.382674\"/>\n     <use style=\"fill:#ff7f0e;stroke:#ff7f0e;\" x=\"258.029866\" xlink:href=\"#md166719fb4\" y=\"82.387523\"/>\n     <use style=\"fill:#ff7f0e;stroke:#ff7f0e;\" x=\"228.87826\" xlink:href=\"#md166719fb4\" y=\"48.846627\"/>\n     <use style=\"fill:#ff7f0e;stroke:#ff7f0e;\" x=\"181.230953\" xlink:href=\"#md166719fb4\" y=\"87.23357\"/>\n     <use style=\"fill:#ff7f0e;stroke:#ff7f0e;\" x=\"234.993954\" xlink:href=\"#md166719fb4\" y=\"80.420237\"/>\n     <use style=\"fill:#ff7f0e;stroke:#ff7f0e;\" x=\"291.271205\" xlink:href=\"#md166719fb4\" y=\"84.779283\"/>\n     <use style=\"fill:#ff7f0e;stroke:#ff7f0e;\" x=\"234.422168\" xlink:href=\"#md166719fb4\" y=\"68.748025\"/>\n     <use style=\"fill:#ff7f0e;stroke:#ff7f0e;\" x=\"215.544223\" xlink:href=\"#md166719fb4\" y=\"109.081915\"/>\n     <use style=\"fill:#ff7f0e;stroke:#ff7f0e;\" x=\"268.024368\" xlink:href=\"#md166719fb4\" y=\"110.741487\"/>\n     <use style=\"fill:#ff7f0e;stroke:#ff7f0e;\" x=\"283.430748\" xlink:href=\"#md166719fb4\" y=\"67.797623\"/>\n     <use style=\"fill:#ff7f0e;stroke:#ff7f0e;\" x=\"244.95634\" xlink:href=\"#md166719fb4\" y=\"66.939058\"/>\n     <use style=\"fill:#ff7f0e;stroke:#ff7f0e;\" x=\"248.393821\" xlink:href=\"#md166719fb4\" y=\"99.672301\"/>\n     <use style=\"fill:#ff7f0e;stroke:#ff7f0e;\" x=\"304.587414\" xlink:href=\"#md166719fb4\" y=\"58.799413\"/>\n     <use style=\"fill:#ff7f0e;stroke:#ff7f0e;\" x=\"200.371008\" xlink:href=\"#md166719fb4\" y=\"89.521892\"/>\n     <use style=\"fill:#ff7f0e;stroke:#ff7f0e;\" x=\"187.541977\" xlink:href=\"#md166719fb4\" y=\"68.977678\"/>\n     <use style=\"fill:#ff7f0e;stroke:#ff7f0e;\" x=\"261.803222\" xlink:href=\"#md166719fb4\" y=\"74.985412\"/>\n     <use style=\"fill:#ff7f0e;stroke:#ff7f0e;\" x=\"188.429519\" xlink:href=\"#md166719fb4\" y=\"93.269823\"/>\n     <use style=\"fill:#ff7f0e;stroke:#ff7f0e;\" x=\"167.584415\" xlink:href=\"#md166719fb4\" y=\"30.766683\"/>\n     <use style=\"fill:#ff7f0e;stroke:#ff7f0e;\" x=\"186.155723\" xlink:href=\"#md166719fb4\" y=\"59.574295\"/>\n     <use style=\"fill:#ff7f0e;stroke:#ff7f0e;\" x=\"277.883185\" xlink:href=\"#md166719fb4\" y=\"60.167784\"/>\n     <use style=\"fill:#ff7f0e;stroke:#ff7f0e;\" x=\"180.772341\" xlink:href=\"#md166719fb4\" y=\"52.04118\"/>\n     <use style=\"fill:#ff7f0e;stroke:#ff7f0e;\" x=\"231.338801\" xlink:href=\"#md166719fb4\" y=\"71.161413\"/>\n     <use style=\"fill:#ff7f0e;stroke:#ff7f0e;\" x=\"235.676274\" xlink:href=\"#md166719fb4\" y=\"90.718669\"/>\n     <use style=\"fill:#ff7f0e;stroke:#ff7f0e;\" x=\"216.636716\" xlink:href=\"#md166719fb4\" y=\"79.523047\"/>\n     <use style=\"fill:#ff7f0e;stroke:#ff7f0e;\" x=\"229.454334\" xlink:href=\"#md166719fb4\" y=\"72.843643\"/>\n     <use style=\"fill:#ff7f0e;stroke:#ff7f0e;\" x=\"205.246383\" xlink:href=\"#md166719fb4\" y=\"82.777751\"/>\n     <use style=\"fill:#ff7f0e;stroke:#ff7f0e;\" x=\"230.637919\" xlink:href=\"#md166719fb4\" y=\"79.420505\"/>\n     <use style=\"fill:#ff7f0e;stroke:#ff7f0e;\" x=\"238.746032\" xlink:href=\"#md166719fb4\" y=\"58.325303\"/>\n     <use style=\"fill:#ff7f0e;stroke:#ff7f0e;\" x=\"320.359817\" xlink:href=\"#md166719fb4\" y=\"60.114176\"/>\n     <use style=\"fill:#ff7f0e;stroke:#ff7f0e;\" x=\"201.96456\" xlink:href=\"#md166719fb4\" y=\"85.150882\"/>\n     <use style=\"fill:#ff7f0e;stroke:#ff7f0e;\" x=\"252.921476\" xlink:href=\"#md166719fb4\" y=\"103.647498\"/>\n     <use style=\"fill:#ff7f0e;stroke:#ff7f0e;\" x=\"213.151251\" xlink:href=\"#md166719fb4\" y=\"72.62574\"/>\n     <use style=\"fill:#ff7f0e;stroke:#ff7f0e;\" x=\"250.378799\" xlink:href=\"#md166719fb4\" y=\"74.252288\"/>\n     <use style=\"fill:#ff7f0e;stroke:#ff7f0e;\" x=\"196.78105\" xlink:href=\"#md166719fb4\" y=\"72.60815\"/>\n     <use style=\"fill:#ff7f0e;stroke:#ff7f0e;\" x=\"264.880029\" xlink:href=\"#md166719fb4\" y=\"66.695517\"/>\n     <use style=\"fill:#ff7f0e;stroke:#ff7f0e;\" x=\"200.088271\" xlink:href=\"#md166719fb4\" y=\"53.036352\"/>\n     <use style=\"fill:#ff7f0e;stroke:#ff7f0e;\" x=\"230.146108\" xlink:href=\"#md166719fb4\" y=\"69.298501\"/>\n     <use style=\"fill:#ff7f0e;stroke:#ff7f0e;\" x=\"252.734548\" xlink:href=\"#md166719fb4\" y=\"89.208579\"/>\n     <use style=\"fill:#ff7f0e;stroke:#ff7f0e;\" x=\"247.517505\" xlink:href=\"#md166719fb4\" y=\"103.305011\"/>\n     <use style=\"fill:#ff7f0e;stroke:#ff7f0e;\" x=\"242.702832\" xlink:href=\"#md166719fb4\" y=\"98.162221\"/>\n     <use style=\"fill:#ff7f0e;stroke:#ff7f0e;\" x=\"253.073925\" xlink:href=\"#md166719fb4\" y=\"88.920444\"/>\n     <use style=\"fill:#ff7f0e;stroke:#ff7f0e;\" x=\"211.380549\" xlink:href=\"#md166719fb4\" y=\"70.952688\"/>\n     <use style=\"fill:#ff7f0e;stroke:#ff7f0e;\" x=\"216.112825\" xlink:href=\"#md166719fb4\" y=\"77.599696\"/>\n     <use style=\"fill:#ff7f0e;stroke:#ff7f0e;\" x=\"228.29709\" xlink:href=\"#md166719fb4\" y=\"40.73954\"/>\n     <use style=\"fill:#ff7f0e;stroke:#ff7f0e;\" x=\"204.125983\" xlink:href=\"#md166719fb4\" y=\"44.303601\"/>\n     <use style=\"fill:#ff7f0e;stroke:#ff7f0e;\" x=\"275.802272\" xlink:href=\"#md166719fb4\" y=\"48.687584\"/>\n     <use style=\"fill:#ff7f0e;stroke:#ff7f0e;\" x=\"204.357389\" xlink:href=\"#md166719fb4\" y=\"44.925026\"/>\n     <use style=\"fill:#ff7f0e;stroke:#ff7f0e;\" x=\"253.946174\" xlink:href=\"#md166719fb4\" y=\"95.767318\"/>\n     <use style=\"fill:#ff7f0e;stroke:#ff7f0e;\" x=\"296.421892\" xlink:href=\"#md166719fb4\" y=\"91.300653\"/>\n     <use style=\"fill:#ff7f0e;stroke:#ff7f0e;\" x=\"227.674489\" xlink:href=\"#md166719fb4\" y=\"68.23896\"/>\n     <use style=\"fill:#ff7f0e;stroke:#ff7f0e;\" x=\"364.427131\" xlink:href=\"#md166719fb4\" y=\"104.258217\"/>\n     <use style=\"fill:#ff7f0e;stroke:#ff7f0e;\" x=\"235.338029\" xlink:href=\"#md166719fb4\" y=\"72.766501\"/>\n     <use style=\"fill:#ff7f0e;stroke:#ff7f0e;\" x=\"155.624911\" xlink:href=\"#md166719fb4\" y=\"92.5596\"/>\n     <use style=\"fill:#ff7f0e;stroke:#ff7f0e;\" x=\"251.241136\" xlink:href=\"#md166719fb4\" y=\"27.679325\"/>\n     <use style=\"fill:#ff7f0e;stroke:#ff7f0e;\" x=\"270.974884\" xlink:href=\"#md166719fb4\" y=\"74.336305\"/>\n     <use style=\"fill:#ff7f0e;stroke:#ff7f0e;\" x=\"253.259759\" xlink:href=\"#md166719fb4\" y=\"95.87639\"/>\n     <use style=\"fill:#ff7f0e;stroke:#ff7f0e;\" x=\"225.546117\" xlink:href=\"#md166719fb4\" y=\"102.386575\"/>\n     <use style=\"fill:#ff7f0e;stroke:#ff7f0e;\" x=\"250.208329\" xlink:href=\"#md166719fb4\" y=\"97.391079\"/>\n     <use style=\"fill:#ff7f0e;stroke:#ff7f0e;\" x=\"206.810364\" xlink:href=\"#md166719fb4\" y=\"56.425737\"/>\n     <use style=\"fill:#ff7f0e;stroke:#ff7f0e;\" x=\"250.624881\" xlink:href=\"#md166719fb4\" y=\"82.253123\"/>\n     <use style=\"fill:#ff7f0e;stroke:#ff7f0e;\" x=\"159.286947\" xlink:href=\"#md166719fb4\" y=\"57.902444\"/>\n     <use style=\"fill:#ff7f0e;stroke:#ff7f0e;\" x=\"179.527025\" xlink:href=\"#md166719fb4\" y=\"57.210319\"/>\n     <use style=\"fill:#ff7f0e;stroke:#ff7f0e;\" x=\"222.103415\" xlink:href=\"#md166719fb4\" y=\"74.093619\"/>\n     <use style=\"fill:#ff7f0e;stroke:#ff7f0e;\" x=\"226.133059\" xlink:href=\"#md166719fb4\" y=\"40.379245\"/>\n     <use style=\"fill:#ff7f0e;stroke:#ff7f0e;\" x=\"359.868532\" xlink:href=\"#md166719fb4\" y=\"102.54217\"/>\n     <use style=\"fill:#ff7f0e;stroke:#ff7f0e;\" x=\"202.696933\" xlink:href=\"#md166719fb4\" y=\"74.269627\"/>\n     <use style=\"fill:#ff7f0e;stroke:#ff7f0e;\" x=\"249.705958\" xlink:href=\"#md166719fb4\" y=\"80.633843\"/>\n     <use style=\"fill:#ff7f0e;stroke:#ff7f0e;\" x=\"237.291968\" xlink:href=\"#md166719fb4\" y=\"100.317062\"/>\n     <use style=\"fill:#ff7f0e;stroke:#ff7f0e;\" x=\"284.120093\" xlink:href=\"#md166719fb4\" y=\"94.241654\"/>\n     <use style=\"fill:#ff7f0e;stroke:#ff7f0e;\" x=\"210.57214\" xlink:href=\"#md166719fb4\" y=\"100.847116\"/>\n     <use style=\"fill:#ff7f0e;stroke:#ff7f0e;\" x=\"184.128902\" xlink:href=\"#md166719fb4\" y=\"79.994513\"/>\n     <use style=\"fill:#ff7f0e;stroke:#ff7f0e;\" x=\"219.815915\" xlink:href=\"#md166719fb4\" y=\"89.761574\"/>\n     <use style=\"fill:#ff7f0e;stroke:#ff7f0e;\" x=\"213.99747\" xlink:href=\"#md166719fb4\" y=\"78.622531\"/>\n     <use style=\"fill:#ff7f0e;stroke:#ff7f0e;\" x=\"221.975953\" xlink:href=\"#md166719fb4\" y=\"63.807755\"/>\n     <use style=\"fill:#ff7f0e;stroke:#ff7f0e;\" x=\"175.326091\" xlink:href=\"#md166719fb4\" y=\"56.824202\"/>\n     <use style=\"fill:#ff7f0e;stroke:#ff7f0e;\" x=\"256.76226\" xlink:href=\"#md166719fb4\" y=\"58.38834\"/>\n     <use style=\"fill:#ff7f0e;stroke:#ff7f0e;\" x=\"246.244612\" xlink:href=\"#md166719fb4\" y=\"83.13514\"/>\n     <use style=\"fill:#ff7f0e;stroke:#ff7f0e;\" x=\"253.184627\" xlink:href=\"#md166719fb4\" y=\"75.314575\"/>\n     <use style=\"fill:#ff7f0e;stroke:#ff7f0e;\" x=\"252.180375\" xlink:href=\"#md166719fb4\" y=\"68.490742\"/>\n     <use style=\"fill:#ff7f0e;stroke:#ff7f0e;\" x=\"254.450392\" xlink:href=\"#md166719fb4\" y=\"81.603286\"/>\n     <use style=\"fill:#ff7f0e;stroke:#ff7f0e;\" x=\"218.369277\" xlink:href=\"#md166719fb4\" y=\"95.965359\"/>\n     <use style=\"fill:#ff7f0e;stroke:#ff7f0e;\" x=\"251.731741\" xlink:href=\"#md166719fb4\" y=\"64.500393\"/>\n     <use style=\"fill:#ff7f0e;stroke:#ff7f0e;\" x=\"186.192359\" xlink:href=\"#md166719fb4\" y=\"84.1053\"/>\n     <use style=\"fill:#ff7f0e;stroke:#ff7f0e;\" x=\"231.727403\" xlink:href=\"#md166719fb4\" y=\"41.347975\"/>\n     <use style=\"fill:#ff7f0e;stroke:#ff7f0e;\" x=\"259.483715\" xlink:href=\"#md166719fb4\" y=\"69.980162\"/>\n     <use style=\"fill:#ff7f0e;stroke:#ff7f0e;\" x=\"257.289611\" xlink:href=\"#md166719fb4\" y=\"61.936338\"/>\n     <use style=\"fill:#ff7f0e;stroke:#ff7f0e;\" x=\"271.044848\" xlink:href=\"#md166719fb4\" y=\"66.494072\"/>\n     <use style=\"fill:#ff7f0e;stroke:#ff7f0e;\" x=\"217.016792\" xlink:href=\"#md166719fb4\" y=\"72.395423\"/>\n     <use style=\"fill:#ff7f0e;stroke:#ff7f0e;\" x=\"210.491026\" xlink:href=\"#md166719fb4\" y=\"61.487993\"/>\n     <use style=\"fill:#ff7f0e;stroke:#ff7f0e;\" x=\"280.098593\" xlink:href=\"#md166719fb4\" y=\"89.924512\"/>\n     <use style=\"fill:#ff7f0e;stroke:#ff7f0e;\" x=\"302.222679\" xlink:href=\"#md166719fb4\" y=\"82.171933\"/>\n     <use style=\"fill:#ff7f0e;stroke:#ff7f0e;\" x=\"227.157326\" xlink:href=\"#md166719fb4\" y=\"94.938836\"/>\n     <use style=\"fill:#ff7f0e;stroke:#ff7f0e;\" x=\"252.066361\" xlink:href=\"#md166719fb4\" y=\"50.707108\"/>\n     <use style=\"fill:#ff7f0e;stroke:#ff7f0e;\" x=\"243.716639\" xlink:href=\"#md166719fb4\" y=\"90.334395\"/>\n     <use style=\"fill:#ff7f0e;stroke:#ff7f0e;\" x=\"275.496556\" xlink:href=\"#md166719fb4\" y=\"109.805922\"/>\n     <use style=\"fill:#ff7f0e;stroke:#ff7f0e;\" x=\"268.594912\" xlink:href=\"#md166719fb4\" y=\"72.231551\"/>\n     <use style=\"fill:#ff7f0e;stroke:#ff7f0e;\" x=\"215.541033\" xlink:href=\"#md166719fb4\" y=\"82.289943\"/>\n     <use style=\"fill:#ff7f0e;stroke:#ff7f0e;\" x=\"227.498749\" xlink:href=\"#md166719fb4\" y=\"77.021923\"/>\n     <use style=\"fill:#ff7f0e;stroke:#ff7f0e;\" x=\"247.074701\" xlink:href=\"#md166719fb4\" y=\"101.88688\"/>\n     <use style=\"fill:#ff7f0e;stroke:#ff7f0e;\" x=\"212.451148\" xlink:href=\"#md166719fb4\" y=\"125.780713\"/>\n     <use style=\"fill:#ff7f0e;stroke:#ff7f0e;\" x=\"257.240893\" xlink:href=\"#md166719fb4\" y=\"89.541852\"/>\n     <use style=\"fill:#ff7f0e;stroke:#ff7f0e;\" x=\"228.07301\" xlink:href=\"#md166719fb4\" y=\"97.717548\"/>\n     <use style=\"fill:#ff7f0e;stroke:#ff7f0e;\" x=\"251.690954\" xlink:href=\"#md166719fb4\" y=\"72.363473\"/>\n     <use style=\"fill:#ff7f0e;stroke:#ff7f0e;\" x=\"286.667133\" xlink:href=\"#md166719fb4\" y=\"88.036502\"/>\n     <use style=\"fill:#ff7f0e;stroke:#ff7f0e;\" x=\"229.582117\" xlink:href=\"#md166719fb4\" y=\"59.824861\"/>\n     <use style=\"fill:#ff7f0e;stroke:#ff7f0e;\" x=\"337.294011\" xlink:href=\"#md166719fb4\" y=\"54.190516\"/>\n     <use style=\"fill:#ff7f0e;stroke:#ff7f0e;\" x=\"211.558494\" xlink:href=\"#md166719fb4\" y=\"107.360022\"/>\n     <use style=\"fill:#ff7f0e;stroke:#ff7f0e;\" x=\"158.848835\" xlink:href=\"#md166719fb4\" y=\"63.58407\"/>\n     <use style=\"fill:#ff7f0e;stroke:#ff7f0e;\" x=\"140.867865\" xlink:href=\"#md166719fb4\" y=\"82.941301\"/>\n     <use style=\"fill:#ff7f0e;stroke:#ff7f0e;\" x=\"243.778061\" xlink:href=\"#md166719fb4\" y=\"41.308085\"/>\n     <use style=\"fill:#ff7f0e;stroke:#ff7f0e;\" x=\"301.749191\" xlink:href=\"#md166719fb4\" y=\"102.434383\"/>\n     <use style=\"fill:#ff7f0e;stroke:#ff7f0e;\" x=\"244.088624\" xlink:href=\"#md166719fb4\" y=\"60.352534\"/>\n     <use style=\"fill:#ff7f0e;stroke:#ff7f0e;\" x=\"237.032232\" xlink:href=\"#md166719fb4\" y=\"93.590276\"/>\n     <use style=\"fill:#ff7f0e;stroke:#ff7f0e;\" x=\"220.345443\" xlink:href=\"#md166719fb4\" y=\"108.051774\"/>\n     <use style=\"fill:#ff7f0e;stroke:#ff7f0e;\" x=\"192.673677\" xlink:href=\"#md166719fb4\" y=\"92.750563\"/>\n     <use style=\"fill:#ff7f0e;stroke:#ff7f0e;\" x=\"269.667143\" xlink:href=\"#md166719fb4\" y=\"64.652512\"/>\n     <use style=\"fill:#ff7f0e;stroke:#ff7f0e;\" x=\"240.185014\" xlink:href=\"#md166719fb4\" y=\"67.170322\"/>\n     <use style=\"fill:#ff7f0e;stroke:#ff7f0e;\" x=\"217.020759\" xlink:href=\"#md166719fb4\" y=\"100.903173\"/>\n     <use style=\"fill:#ff7f0e;stroke:#ff7f0e;\" x=\"252.181095\" xlink:href=\"#md166719fb4\" y=\"78.405358\"/>\n     <use style=\"fill:#ff7f0e;stroke:#ff7f0e;\" x=\"254.787655\" xlink:href=\"#md166719fb4\" y=\"30.084419\"/>\n     <use style=\"fill:#ff7f0e;stroke:#ff7f0e;\" x=\"259.282549\" xlink:href=\"#md166719fb4\" y=\"86.045159\"/>\n     <use style=\"fill:#ff7f0e;stroke:#ff7f0e;\" x=\"258.370217\" xlink:href=\"#md166719fb4\" y=\"79.774295\"/>\n     <use style=\"fill:#ff7f0e;stroke:#ff7f0e;\" x=\"196.512186\" xlink:href=\"#md166719fb4\" y=\"79.551064\"/>\n     <use style=\"fill:#ff7f0e;stroke:#ff7f0e;\" x=\"264.10229\" xlink:href=\"#md166719fb4\" y=\"68.476012\"/>\n     <use style=\"fill:#ff7f0e;stroke:#ff7f0e;\" x=\"219.297879\" xlink:href=\"#md166719fb4\" y=\"76.149247\"/>\n     <use style=\"fill:#ff7f0e;stroke:#ff7f0e;\" x=\"220.851119\" xlink:href=\"#md166719fb4\" y=\"115.60928\"/>\n     <use style=\"fill:#ff7f0e;stroke:#ff7f0e;\" x=\"214.181011\" xlink:href=\"#md166719fb4\" y=\"65.165847\"/>\n     <use style=\"fill:#ff7f0e;stroke:#ff7f0e;\" x=\"276.25597\" xlink:href=\"#md166719fb4\" y=\"36.702137\"/>\n     <use style=\"fill:#ff7f0e;stroke:#ff7f0e;\" x=\"251.046528\" xlink:href=\"#md166719fb4\" y=\"100.772463\"/>\n     <use style=\"fill:#ff7f0e;stroke:#ff7f0e;\" x=\"289.709014\" xlink:href=\"#md166719fb4\" y=\"107.149992\"/>\n     <use style=\"fill:#ff7f0e;stroke:#ff7f0e;\" x=\"225.991088\" xlink:href=\"#md166719fb4\" y=\"61.650418\"/>\n     <use style=\"fill:#ff7f0e;stroke:#ff7f0e;\" x=\"230.468828\" xlink:href=\"#md166719fb4\" y=\"82.698844\"/>\n     <use style=\"fill:#ff7f0e;stroke:#ff7f0e;\" x=\"249.33023\" xlink:href=\"#md166719fb4\" y=\"89.876718\"/>\n     <use style=\"fill:#ff7f0e;stroke:#ff7f0e;\" x=\"325.911433\" xlink:href=\"#md166719fb4\" y=\"87.610159\"/>\n     <use style=\"fill:#ff7f0e;stroke:#ff7f0e;\" x=\"231.969738\" xlink:href=\"#md166719fb4\" y=\"79.343794\"/>\n     <use style=\"fill:#ff7f0e;stroke:#ff7f0e;\" x=\"212.197778\" xlink:href=\"#md166719fb4\" y=\"60.580284\"/>\n     <use style=\"fill:#ff7f0e;stroke:#ff7f0e;\" x=\"252.439196\" xlink:href=\"#md166719fb4\" y=\"77.033845\"/>\n     <use style=\"fill:#ff7f0e;stroke:#ff7f0e;\" x=\"266.29147\" xlink:href=\"#md166719fb4\" y=\"60.282611\"/>\n     <use style=\"fill:#ff7f0e;stroke:#ff7f0e;\" x=\"230.039446\" xlink:href=\"#md166719fb4\" y=\"87.412516\"/>\n     <use style=\"fill:#ff7f0e;stroke:#ff7f0e;\" x=\"252.361492\" xlink:href=\"#md166719fb4\" y=\"74.905437\"/>\n     <use style=\"fill:#ff7f0e;stroke:#ff7f0e;\" x=\"196.958783\" xlink:href=\"#md166719fb4\" y=\"93.237587\"/>\n     <use style=\"fill:#ff7f0e;stroke:#ff7f0e;\" x=\"249.699428\" xlink:href=\"#md166719fb4\" y=\"94.247575\"/>\n     <use style=\"fill:#ff7f0e;stroke:#ff7f0e;\" x=\"173.004705\" xlink:href=\"#md166719fb4\" y=\"90.046423\"/>\n     <use style=\"fill:#ff7f0e;stroke:#ff7f0e;\" x=\"214.429499\" xlink:href=\"#md166719fb4\" y=\"66.915639\"/>\n     <use style=\"fill:#ff7f0e;stroke:#ff7f0e;\" x=\"251.864895\" xlink:href=\"#md166719fb4\" y=\"81.273565\"/>\n     <use style=\"fill:#ff7f0e;stroke:#ff7f0e;\" x=\"208.228696\" xlink:href=\"#md166719fb4\" y=\"61.116761\"/>\n     <use style=\"fill:#ff7f0e;stroke:#ff7f0e;\" x=\"270.034408\" xlink:href=\"#md166719fb4\" y=\"51.351605\"/>\n     <use style=\"fill:#ff7f0e;stroke:#ff7f0e;\" x=\"234.238496\" xlink:href=\"#md166719fb4\" y=\"74.955939\"/>\n     <use style=\"fill:#ff7f0e;stroke:#ff7f0e;\" x=\"231.764967\" xlink:href=\"#md166719fb4\" y=\"94.201852\"/>\n     <use style=\"fill:#ff7f0e;stroke:#ff7f0e;\" x=\"249.891129\" xlink:href=\"#md166719fb4\" y=\"41.073009\"/>\n     <use style=\"fill:#ff7f0e;stroke:#ff7f0e;\" x=\"311.935391\" xlink:href=\"#md166719fb4\" y=\"110.41189\"/>\n     <use style=\"fill:#ff7f0e;stroke:#ff7f0e;\" x=\"275.425736\" xlink:href=\"#md166719fb4\" y=\"57.231998\"/>\n     <use style=\"fill:#ff7f0e;stroke:#ff7f0e;\" x=\"352.865535\" xlink:href=\"#md166719fb4\" y=\"70.879917\"/>\n     <use style=\"fill:#ff7f0e;stroke:#ff7f0e;\" x=\"317.171078\" xlink:href=\"#md166719fb4\" y=\"85.012964\"/>\n     <use style=\"fill:#ff7f0e;stroke:#ff7f0e;\" x=\"190.29126\" xlink:href=\"#md166719fb4\" y=\"66.524824\"/>\n     <use style=\"fill:#ff7f0e;stroke:#ff7f0e;\" x=\"228.485314\" xlink:href=\"#md166719fb4\" y=\"76.793079\"/>\n     <use style=\"fill:#ff7f0e;stroke:#ff7f0e;\" x=\"261.336607\" xlink:href=\"#md166719fb4\" y=\"55.605546\"/>\n     <use style=\"fill:#ff7f0e;stroke:#ff7f0e;\" x=\"256.833711\" xlink:href=\"#md166719fb4\" y=\"31.762907\"/>\n     <use style=\"fill:#ff7f0e;stroke:#ff7f0e;\" x=\"214.609517\" xlink:href=\"#md166719fb4\" y=\"67.476003\"/>\n     <use style=\"fill:#ff7f0e;stroke:#ff7f0e;\" x=\"257.36064\" xlink:href=\"#md166719fb4\" y=\"107.122379\"/>\n     <use style=\"fill:#ff7f0e;stroke:#ff7f0e;\" x=\"274.253031\" xlink:href=\"#md166719fb4\" y=\"50.347316\"/>\n     <use style=\"fill:#ff7f0e;stroke:#ff7f0e;\" x=\"222.636724\" xlink:href=\"#md166719fb4\" y=\"48.105781\"/>\n     <use style=\"fill:#ff7f0e;stroke:#ff7f0e;\" x=\"266.310776\" xlink:href=\"#md166719fb4\" y=\"73.3425\"/>\n     <use style=\"fill:#ff7f0e;stroke:#ff7f0e;\" x=\"240.545553\" xlink:href=\"#md166719fb4\" y=\"97.246974\"/>\n     <use style=\"fill:#ff7f0e;stroke:#ff7f0e;\" x=\"184.771573\" xlink:href=\"#md166719fb4\" y=\"50.410863\"/>\n     <use style=\"fill:#ff7f0e;stroke:#ff7f0e;\" x=\"233.388986\" xlink:href=\"#md166719fb4\" y=\"83.227577\"/>\n     <use style=\"fill:#ff7f0e;stroke:#ff7f0e;\" x=\"283.313347\" xlink:href=\"#md166719fb4\" y=\"69.600124\"/>\n     <use style=\"fill:#ff7f0e;stroke:#ff7f0e;\" x=\"239.659326\" xlink:href=\"#md166719fb4\" y=\"95.308994\"/>\n     <use style=\"fill:#ff7f0e;stroke:#ff7f0e;\" x=\"253.632695\" xlink:href=\"#md166719fb4\" y=\"70.08587\"/>\n     <use style=\"fill:#ff7f0e;stroke:#ff7f0e;\" x=\"306.799887\" xlink:href=\"#md166719fb4\" y=\"78.257443\"/>\n     <use style=\"fill:#ff7f0e;stroke:#ff7f0e;\" x=\"250.395006\" xlink:href=\"#md166719fb4\" y=\"56.159427\"/>\n     <use style=\"fill:#ff7f0e;stroke:#ff7f0e;\" x=\"214.335818\" xlink:href=\"#md166719fb4\" y=\"70.869071\"/>\n     <use style=\"fill:#ff7f0e;stroke:#ff7f0e;\" x=\"219.602642\" xlink:href=\"#md166719fb4\" y=\"78.670595\"/>\n     <use style=\"fill:#ff7f0e;stroke:#ff7f0e;\" x=\"168.49092\" xlink:href=\"#md166719fb4\" y=\"89.743812\"/>\n     <use style=\"fill:#ff7f0e;stroke:#ff7f0e;\" x=\"222.528652\" xlink:href=\"#md166719fb4\" y=\"92.930986\"/>\n     <use style=\"fill:#ff7f0e;stroke:#ff7f0e;\" x=\"153.540617\" xlink:href=\"#md166719fb4\" y=\"106.372136\"/>\n     <use style=\"fill:#ff7f0e;stroke:#ff7f0e;\" x=\"249.123765\" xlink:href=\"#md166719fb4\" y=\"61.169628\"/>\n     <use style=\"fill:#ff7f0e;stroke:#ff7f0e;\" x=\"263.855293\" xlink:href=\"#md166719fb4\" y=\"55.259306\"/>\n     <use style=\"fill:#ff7f0e;stroke:#ff7f0e;\" x=\"286.19425\" xlink:href=\"#md166719fb4\" y=\"103.93871\"/>\n     <use style=\"fill:#ff7f0e;stroke:#ff7f0e;\" x=\"286.465814\" xlink:href=\"#md166719fb4\" y=\"92.412584\"/>\n     <use style=\"fill:#ff7f0e;stroke:#ff7f0e;\" x=\"254.118215\" xlink:href=\"#md166719fb4\" y=\"54.028331\"/>\n     <use style=\"fill:#ff7f0e;stroke:#ff7f0e;\" x=\"248.025572\" xlink:href=\"#md166719fb4\" y=\"97.103982\"/>\n     <use style=\"fill:#ff7f0e;stroke:#ff7f0e;\" x=\"193.222846\" xlink:href=\"#md166719fb4\" y=\"59.516916\"/>\n     <use style=\"fill:#ff7f0e;stroke:#ff7f0e;\" x=\"228.380848\" xlink:href=\"#md166719fb4\" y=\"122.044587\"/>\n     <use style=\"fill:#ff7f0e;stroke:#ff7f0e;\" x=\"237.745951\" xlink:href=\"#md166719fb4\" y=\"56.796967\"/>\n     <use style=\"fill:#ff7f0e;stroke:#ff7f0e;\" x=\"215.678266\" xlink:href=\"#md166719fb4\" y=\"62.081095\"/>\n     <use style=\"fill:#ff7f0e;stroke:#ff7f0e;\" x=\"224.056225\" xlink:href=\"#md166719fb4\" y=\"96.78778\"/>\n     <use style=\"fill:#ff7f0e;stroke:#ff7f0e;\" x=\"277.187504\" xlink:href=\"#md166719fb4\" y=\"74.536716\"/>\n     <use style=\"fill:#ff7f0e;stroke:#ff7f0e;\" x=\"267.022427\" xlink:href=\"#md166719fb4\" y=\"51.500632\"/>\n     <use style=\"fill:#ff7f0e;stroke:#ff7f0e;\" x=\"267.239734\" xlink:href=\"#md166719fb4\" y=\"71.496272\"/>\n     <use style=\"fill:#ff7f0e;stroke:#ff7f0e;\" x=\"253.178087\" xlink:href=\"#md166719fb4\" y=\"72.881563\"/>\n     <use style=\"fill:#ff7f0e;stroke:#ff7f0e;\" x=\"259.193973\" xlink:href=\"#md166719fb4\" y=\"79.096835\"/>\n     <use style=\"fill:#ff7f0e;stroke:#ff7f0e;\" x=\"210.761692\" xlink:href=\"#md166719fb4\" y=\"39.039887\"/>\n     <use style=\"fill:#ff7f0e;stroke:#ff7f0e;\" x=\"225.47011\" xlink:href=\"#md166719fb4\" y=\"96.522112\"/>\n     <use style=\"fill:#ff7f0e;stroke:#ff7f0e;\" x=\"273.793153\" xlink:href=\"#md166719fb4\" y=\"73.023687\"/>\n     <use style=\"fill:#ff7f0e;stroke:#ff7f0e;\" x=\"264.092484\" xlink:href=\"#md166719fb4\" y=\"88.416237\"/>\n     <use style=\"fill:#ff7f0e;stroke:#ff7f0e;\" x=\"213.622139\" xlink:href=\"#md166719fb4\" y=\"83.779646\"/>\n     <use style=\"fill:#ff7f0e;stroke:#ff7f0e;\" x=\"246.775195\" xlink:href=\"#md166719fb4\" y=\"107.175327\"/>\n     <use style=\"fill:#ff7f0e;stroke:#ff7f0e;\" x=\"198.425295\" xlink:href=\"#md166719fb4\" y=\"47.585875\"/>\n     <use style=\"fill:#ff7f0e;stroke:#ff7f0e;\" x=\"202.408751\" xlink:href=\"#md166719fb4\" y=\"31.926168\"/>\n     <use style=\"fill:#ff7f0e;stroke:#ff7f0e;\" x=\"245.349843\" xlink:href=\"#md166719fb4\" y=\"69.536872\"/>\n     <use style=\"fill:#ff7f0e;stroke:#ff7f0e;\" x=\"265.315837\" xlink:href=\"#md166719fb4\" y=\"122.113838\"/>\n     <use style=\"fill:#ff7f0e;stroke:#ff7f0e;\" x=\"227.843454\" xlink:href=\"#md166719fb4\" y=\"72.115771\"/>\n     <use style=\"fill:#ff7f0e;stroke:#ff7f0e;\" x=\"173.390194\" xlink:href=\"#md166719fb4\" y=\"69.31219\"/>\n     <use style=\"fill:#ff7f0e;stroke:#ff7f0e;\" x=\"217.489176\" xlink:href=\"#md166719fb4\" y=\"61.737111\"/>\n     <use style=\"fill:#ff7f0e;stroke:#ff7f0e;\" x=\"290.598054\" xlink:href=\"#md166719fb4\" y=\"78.488684\"/>\n     <use style=\"fill:#ff7f0e;stroke:#ff7f0e;\" x=\"153.2033\" xlink:href=\"#md166719fb4\" y=\"61.35025\"/>\n     <use style=\"fill:#ff7f0e;stroke:#ff7f0e;\" x=\"262.883403\" xlink:href=\"#md166719fb4\" y=\"24.408414\"/>\n     <use style=\"fill:#ff7f0e;stroke:#ff7f0e;\" x=\"266.238209\" xlink:href=\"#md166719fb4\" y=\"63.535059\"/>\n     <use style=\"fill:#ff7f0e;stroke:#ff7f0e;\" x=\"225.743972\" xlink:href=\"#md166719fb4\" y=\"57.083463\"/>\n     <use style=\"fill:#ff7f0e;stroke:#ff7f0e;\" x=\"196.250305\" xlink:href=\"#md166719fb4\" y=\"62.21748\"/>\n     <use style=\"fill:#ff7f0e;stroke:#ff7f0e;\" x=\"230.329869\" xlink:href=\"#md166719fb4\" y=\"69.971491\"/>\n     <use style=\"fill:#ff7f0e;stroke:#ff7f0e;\" x=\"276.023499\" xlink:href=\"#md166719fb4\" y=\"71.283958\"/>\n     <use style=\"fill:#ff7f0e;stroke:#ff7f0e;\" x=\"255.454883\" xlink:href=\"#md166719fb4\" y=\"91.006668\"/>\n     <use style=\"fill:#ff7f0e;stroke:#ff7f0e;\" x=\"278.599713\" xlink:href=\"#md166719fb4\" y=\"31.629364\"/>\n     <use style=\"fill:#ff7f0e;stroke:#ff7f0e;\" x=\"220.215231\" xlink:href=\"#md166719fb4\" y=\"86.667094\"/>\n     <use style=\"fill:#ff7f0e;stroke:#ff7f0e;\" x=\"297.886207\" xlink:href=\"#md166719fb4\" y=\"104.041844\"/>\n     <use style=\"fill:#ff7f0e;stroke:#ff7f0e;\" x=\"254.779487\" xlink:href=\"#md166719fb4\" y=\"82.218256\"/>\n     <use style=\"fill:#ff7f0e;stroke:#ff7f0e;\" x=\"257.057784\" xlink:href=\"#md166719fb4\" y=\"59.407869\"/>\n     <use style=\"fill:#ff7f0e;stroke:#ff7f0e;\" x=\"173.134634\" xlink:href=\"#md166719fb4\" y=\"63.484255\"/>\n     <use style=\"fill:#ff7f0e;stroke:#ff7f0e;\" x=\"234.51763\" xlink:href=\"#md166719fb4\" y=\"88.978078\"/>\n     <use style=\"fill:#ff7f0e;stroke:#ff7f0e;\" x=\"253.023522\" xlink:href=\"#md166719fb4\" y=\"73.970587\"/>\n     <use style=\"fill:#ff7f0e;stroke:#ff7f0e;\" x=\"203.354816\" xlink:href=\"#md166719fb4\" y=\"97.002199\"/>\n     <use style=\"fill:#ff7f0e;stroke:#ff7f0e;\" x=\"247.174335\" xlink:href=\"#md166719fb4\" y=\"90.248273\"/>\n     <use style=\"fill:#ff7f0e;stroke:#ff7f0e;\" x=\"194.639655\" xlink:href=\"#md166719fb4\" y=\"68.616642\"/>\n     <use style=\"fill:#ff7f0e;stroke:#ff7f0e;\" x=\"236.256393\" xlink:href=\"#md166719fb4\" y=\"49.15208\"/>\n     <use style=\"fill:#ff7f0e;stroke:#ff7f0e;\" x=\"222.338368\" xlink:href=\"#md166719fb4\" y=\"76.96861\"/>\n     <use style=\"fill:#ff7f0e;stroke:#ff7f0e;\" x=\"296.253772\" xlink:href=\"#md166719fb4\" y=\"95.721145\"/>\n     <use style=\"fill:#ff7f0e;stroke:#ff7f0e;\" x=\"233.684147\" xlink:href=\"#md166719fb4\" y=\"60.679797\"/>\n     <use style=\"fill:#ff7f0e;stroke:#ff7f0e;\" x=\"305.232204\" xlink:href=\"#md166719fb4\" y=\"82.267638\"/>\n     <use style=\"fill:#ff7f0e;stroke:#ff7f0e;\" x=\"226.325171\" xlink:href=\"#md166719fb4\" y=\"73.467313\"/>\n     <use style=\"fill:#ff7f0e;stroke:#ff7f0e;\" x=\"279.41261\" xlink:href=\"#md166719fb4\" y=\"99.731931\"/>\n     <use style=\"fill:#ff7f0e;stroke:#ff7f0e;\" x=\"249.157702\" xlink:href=\"#md166719fb4\" y=\"27.010735\"/>\n     <use style=\"fill:#ff7f0e;stroke:#ff7f0e;\" x=\"183.076966\" xlink:href=\"#md166719fb4\" y=\"83.86244\"/>\n     <use style=\"fill:#ff7f0e;stroke:#ff7f0e;\" x=\"238.71441\" xlink:href=\"#md166719fb4\" y=\"69.919368\"/>\n     <use style=\"fill:#ff7f0e;stroke:#ff7f0e;\" x=\"223.152554\" xlink:href=\"#md166719fb4\" y=\"66.839341\"/>\n     <use style=\"fill:#ff7f0e;stroke:#ff7f0e;\" x=\"271.307632\" xlink:href=\"#md166719fb4\" y=\"70.93867\"/>\n     <use style=\"fill:#ff7f0e;stroke:#ff7f0e;\" x=\"196.516315\" xlink:href=\"#md166719fb4\" y=\"81.092105\"/>\n     <use style=\"fill:#ff7f0e;stroke:#ff7f0e;\" x=\"253.670309\" xlink:href=\"#md166719fb4\" y=\"54.667419\"/>\n     <use style=\"fill:#ff7f0e;stroke:#ff7f0e;\" x=\"163.650761\" xlink:href=\"#md166719fb4\" y=\"83.625284\"/>\n     <use style=\"fill:#ff7f0e;stroke:#ff7f0e;\" x=\"250.978782\" xlink:href=\"#md166719fb4\" y=\"121.278139\"/>\n     <use style=\"fill:#ff7f0e;stroke:#ff7f0e;\" x=\"247.521153\" xlink:href=\"#md166719fb4\" y=\"52.721586\"/>\n     <use style=\"fill:#ff7f0e;stroke:#ff7f0e;\" x=\"258.205473\" xlink:href=\"#md166719fb4\" y=\"61.656463\"/>\n     <use style=\"fill:#ff7f0e;stroke:#ff7f0e;\" x=\"260.388434\" xlink:href=\"#md166719fb4\" y=\"38.848491\"/>\n     <use style=\"fill:#ff7f0e;stroke:#ff7f0e;\" x=\"270.508318\" xlink:href=\"#md166719fb4\" y=\"93.363063\"/>\n     <use style=\"fill:#ff7f0e;stroke:#ff7f0e;\" x=\"225.620327\" xlink:href=\"#md166719fb4\" y=\"86.005463\"/>\n     <use style=\"fill:#ff7f0e;stroke:#ff7f0e;\" x=\"246.688163\" xlink:href=\"#md166719fb4\" y=\"31.967524\"/>\n     <use style=\"fill:#ff7f0e;stroke:#ff7f0e;\" x=\"234.284879\" xlink:href=\"#md166719fb4\" y=\"101.605777\"/>\n     <use style=\"fill:#ff7f0e;stroke:#ff7f0e;\" x=\"268.807164\" xlink:href=\"#md166719fb4\" y=\"100.830931\"/>\n     <use style=\"fill:#ff7f0e;stroke:#ff7f0e;\" x=\"265.347393\" xlink:href=\"#md166719fb4\" y=\"49.026252\"/>\n     <use style=\"fill:#ff7f0e;stroke:#ff7f0e;\" x=\"217.307999\" xlink:href=\"#md166719fb4\" y=\"83.236464\"/>\n     <use style=\"fill:#ff7f0e;stroke:#ff7f0e;\" x=\"256.387049\" xlink:href=\"#md166719fb4\" y=\"79.891405\"/>\n     <use style=\"fill:#ff7f0e;stroke:#ff7f0e;\" x=\"241.227735\" xlink:href=\"#md166719fb4\" y=\"65.719172\"/>\n     <use style=\"fill:#ff7f0e;stroke:#ff7f0e;\" x=\"259.743869\" xlink:href=\"#md166719fb4\" y=\"63.221594\"/>\n     <use style=\"fill:#ff7f0e;stroke:#ff7f0e;\" x=\"312.680479\" xlink:href=\"#md166719fb4\" y=\"44.311808\"/>\n     <use style=\"fill:#ff7f0e;stroke:#ff7f0e;\" x=\"229.594757\" xlink:href=\"#md166719fb4\" y=\"88.311706\"/>\n     <use style=\"fill:#ff7f0e;stroke:#ff7f0e;\" x=\"262.042786\" xlink:href=\"#md166719fb4\" y=\"93.934051\"/>\n     <use style=\"fill:#ff7f0e;stroke:#ff7f0e;\" x=\"248.468109\" xlink:href=\"#md166719fb4\" y=\"65.588587\"/>\n     <use style=\"fill:#ff7f0e;stroke:#ff7f0e;\" x=\"264.309416\" xlink:href=\"#md166719fb4\" y=\"81.685641\"/>\n     <use style=\"fill:#ff7f0e;stroke:#ff7f0e;\" x=\"287.693385\" xlink:href=\"#md166719fb4\" y=\"116.669026\"/>\n     <use style=\"fill:#ff7f0e;stroke:#ff7f0e;\" x=\"195.431603\" xlink:href=\"#md166719fb4\" y=\"78.751542\"/>\n     <use style=\"fill:#ff7f0e;stroke:#ff7f0e;\" x=\"156.634693\" xlink:href=\"#md166719fb4\" y=\"90.096403\"/>\n     <use style=\"fill:#ff7f0e;stroke:#ff7f0e;\" x=\"179.093469\" xlink:href=\"#md166719fb4\" y=\"43.059806\"/>\n     <use style=\"fill:#ff7f0e;stroke:#ff7f0e;\" x=\"261.688033\" xlink:href=\"#md166719fb4\" y=\"94.716864\"/>\n     <use style=\"fill:#ff7f0e;stroke:#ff7f0e;\" x=\"290.795321\" xlink:href=\"#md166719fb4\" y=\"97.275849\"/>\n     <use style=\"fill:#ff7f0e;stroke:#ff7f0e;\" x=\"230.255073\" xlink:href=\"#md166719fb4\" y=\"47.430838\"/>\n     <use style=\"fill:#ff7f0e;stroke:#ff7f0e;\" x=\"304.193177\" xlink:href=\"#md166719fb4\" y=\"123.115993\"/>\n     <use style=\"fill:#ff7f0e;stroke:#ff7f0e;\" x=\"181.327836\" xlink:href=\"#md166719fb4\" y=\"28.976318\"/>\n    </g>\n   </g>\n   <g id=\"PathCollection_3\">\n    <defs>\n     <path d=\"M 0 3 \nC 0.795609 3 1.55874 2.683901 2.12132 2.12132 \nC 2.683901 1.55874 3 0.795609 3 0 \nC 3 -0.795609 2.683901 -1.55874 2.12132 -2.12132 \nC 1.55874 -2.683901 0.795609 -3 0 -3 \nC -0.795609 -3 -1.55874 -2.683901 -2.12132 -2.12132 \nC -2.683901 -1.55874 -3 -0.795609 -3 0 \nC -3 0.795609 -2.683901 1.55874 -2.12132 2.12132 \nC -1.55874 2.683901 -0.795609 3 0 3 \nz\n\" id=\"mcf29394707\" style=\"stroke:#2ca02c;\"/>\n    </defs>\n    <g clip-path=\"url(#p49d5fc2475)\">\n     <use style=\"fill:#2ca02c;stroke:#2ca02c;\" x=\"227.656073\" xlink:href=\"#mcf29394707\" y=\"64.935799\"/>\n     <use style=\"fill:#2ca02c;stroke:#2ca02c;\" x=\"189.722634\" xlink:href=\"#mcf29394707\" y=\"97.362054\"/>\n     <use style=\"fill:#2ca02c;stroke:#2ca02c;\" x=\"178.728702\" xlink:href=\"#mcf29394707\" y=\"142.623406\"/>\n     <use style=\"fill:#2ca02c;stroke:#2ca02c;\" x=\"154.161511\" xlink:href=\"#mcf29394707\" y=\"135.441513\"/>\n     <use style=\"fill:#2ca02c;stroke:#2ca02c;\" x=\"201.828889\" xlink:href=\"#mcf29394707\" y=\"96.007761\"/>\n     <use style=\"fill:#2ca02c;stroke:#2ca02c;\" x=\"216.372057\" xlink:href=\"#mcf29394707\" y=\"121.980929\"/>\n     <use style=\"fill:#2ca02c;stroke:#2ca02c;\" x=\"228.040042\" xlink:href=\"#mcf29394707\" y=\"112.058008\"/>\n     <use style=\"fill:#2ca02c;stroke:#2ca02c;\" x=\"131.942899\" xlink:href=\"#mcf29394707\" y=\"130.751017\"/>\n     <use style=\"fill:#2ca02c;stroke:#2ca02c;\" x=\"177.041753\" xlink:href=\"#mcf29394707\" y=\"110.830751\"/>\n     <use style=\"fill:#2ca02c;stroke:#2ca02c;\" x=\"222.943257\" xlink:href=\"#mcf29394707\" y=\"126.537922\"/>\n     <use style=\"fill:#2ca02c;stroke:#2ca02c;\" x=\"152.093037\" xlink:href=\"#mcf29394707\" y=\"75.59331\"/>\n     <use style=\"fill:#2ca02c;stroke:#2ca02c;\" x=\"207.601368\" xlink:href=\"#mcf29394707\" y=\"65.935346\"/>\n     <use style=\"fill:#2ca02c;stroke:#2ca02c;\" x=\"195.258996\" xlink:href=\"#mcf29394707\" y=\"128.518677\"/>\n     <use style=\"fill:#2ca02c;stroke:#2ca02c;\" x=\"176.280297\" xlink:href=\"#mcf29394707\" y=\"80.743411\"/>\n     <use style=\"fill:#2ca02c;stroke:#2ca02c;\" x=\"95.061255\" xlink:href=\"#mcf29394707\" y=\"48.200522\"/>\n     <use style=\"fill:#2ca02c;stroke:#2ca02c;\" x=\"143.040902\" xlink:href=\"#mcf29394707\" y=\"132.676943\"/>\n     <use style=\"fill:#2ca02c;stroke:#2ca02c;\" x=\"217.348529\" xlink:href=\"#mcf29394707\" y=\"91.465656\"/>\n     <use style=\"fill:#2ca02c;stroke:#2ca02c;\" x=\"237.468653\" xlink:href=\"#mcf29394707\" y=\"108.212397\"/>\n     <use style=\"fill:#2ca02c;stroke:#2ca02c;\" x=\"213.904264\" xlink:href=\"#mcf29394707\" y=\"75.030186\"/>\n     <use style=\"fill:#2ca02c;stroke:#2ca02c;\" x=\"254.296297\" xlink:href=\"#mcf29394707\" y=\"81.236255\"/>\n     <use style=\"fill:#2ca02c;stroke:#2ca02c;\" x=\"192.161177\" xlink:href=\"#mcf29394707\" y=\"134.095287\"/>\n     <use style=\"fill:#2ca02c;stroke:#2ca02c;\" x=\"155.563889\" xlink:href=\"#mcf29394707\" y=\"61.162744\"/>\n     <use style=\"fill:#2ca02c;stroke:#2ca02c;\" x=\"151.590824\" xlink:href=\"#mcf29394707\" y=\"112.055992\"/>\n     <use style=\"fill:#2ca02c;stroke:#2ca02c;\" x=\"220.24861\" xlink:href=\"#mcf29394707\" y=\"91.247003\"/>\n     <use style=\"fill:#2ca02c;stroke:#2ca02c;\" x=\"169.296893\" xlink:href=\"#mcf29394707\" y=\"90.602891\"/>\n     <use style=\"fill:#2ca02c;stroke:#2ca02c;\" x=\"164.57572\" xlink:href=\"#mcf29394707\" y=\"80.374838\"/>\n     <use style=\"fill:#2ca02c;stroke:#2ca02c;\" x=\"207.472927\" xlink:href=\"#mcf29394707\" y=\"96.709499\"/>\n     <use style=\"fill:#2ca02c;stroke:#2ca02c;\" x=\"181.943035\" xlink:href=\"#mcf29394707\" y=\"84.20552\"/>\n     <use style=\"fill:#2ca02c;stroke:#2ca02c;\" x=\"200.315826\" xlink:href=\"#mcf29394707\" y=\"124.350478\"/>\n     <use style=\"fill:#2ca02c;stroke:#2ca02c;\" x=\"227.083272\" xlink:href=\"#mcf29394707\" y=\"121.224249\"/>\n     <use style=\"fill:#2ca02c;stroke:#2ca02c;\" x=\"129.879974\" xlink:href=\"#mcf29394707\" y=\"120.068155\"/>\n     <use style=\"fill:#2ca02c;stroke:#2ca02c;\" x=\"211.211309\" xlink:href=\"#mcf29394707\" y=\"66.844482\"/>\n     <use style=\"fill:#2ca02c;stroke:#2ca02c;\" x=\"206.834143\" xlink:href=\"#mcf29394707\" y=\"99.131271\"/>\n     <use style=\"fill:#2ca02c;stroke:#2ca02c;\" x=\"231.048986\" xlink:href=\"#mcf29394707\" y=\"95.022848\"/>\n     <use style=\"fill:#2ca02c;stroke:#2ca02c;\" x=\"195.25091\" xlink:href=\"#mcf29394707\" y=\"96.836394\"/>\n     <use style=\"fill:#2ca02c;stroke:#2ca02c;\" x=\"267.690558\" xlink:href=\"#mcf29394707\" y=\"118.135916\"/>\n     <use style=\"fill:#2ca02c;stroke:#2ca02c;\" x=\"132.753003\" xlink:href=\"#mcf29394707\" y=\"108.538174\"/>\n     <use style=\"fill:#2ca02c;stroke:#2ca02c;\" x=\"169.164679\" xlink:href=\"#mcf29394707\" y=\"80.160762\"/>\n     <use style=\"fill:#2ca02c;stroke:#2ca02c;\" x=\"203.068459\" xlink:href=\"#mcf29394707\" y=\"50.762308\"/>\n     <use style=\"fill:#2ca02c;stroke:#2ca02c;\" x=\"169.338002\" xlink:href=\"#mcf29394707\" y=\"129.688393\"/>\n     <use style=\"fill:#2ca02c;stroke:#2ca02c;\" x=\"170.487108\" xlink:href=\"#mcf29394707\" y=\"110.042879\"/>\n     <use style=\"fill:#2ca02c;stroke:#2ca02c;\" x=\"195.648252\" xlink:href=\"#mcf29394707\" y=\"89.821144\"/>\n     <use style=\"fill:#2ca02c;stroke:#2ca02c;\" x=\"216.093158\" xlink:href=\"#mcf29394707\" y=\"130.226526\"/>\n     <use style=\"fill:#2ca02c;stroke:#2ca02c;\" x=\"215.141249\" xlink:href=\"#mcf29394707\" y=\"125.600771\"/>\n     <use style=\"fill:#2ca02c;stroke:#2ca02c;\" x=\"225.830695\" xlink:href=\"#mcf29394707\" y=\"116.934977\"/>\n     <use style=\"fill:#2ca02c;stroke:#2ca02c;\" x=\"212.764883\" xlink:href=\"#mcf29394707\" y=\"67.522507\"/>\n     <use style=\"fill:#2ca02c;stroke:#2ca02c;\" x=\"162.958716\" xlink:href=\"#mcf29394707\" y=\"140.432644\"/>\n     <use style=\"fill:#2ca02c;stroke:#2ca02c;\" x=\"131.014795\" xlink:href=\"#mcf29394707\" y=\"96.493487\"/>\n     <use style=\"fill:#2ca02c;stroke:#2ca02c;\" x=\"193.624712\" xlink:href=\"#mcf29394707\" y=\"133.341388\"/>\n     <use style=\"fill:#2ca02c;stroke:#2ca02c;\" x=\"192.862095\" xlink:href=\"#mcf29394707\" y=\"83.718384\"/>\n     <use style=\"fill:#2ca02c;stroke:#2ca02c;\" x=\"166.475076\" xlink:href=\"#mcf29394707\" y=\"87.878092\"/>\n     <use style=\"fill:#2ca02c;stroke:#2ca02c;\" x=\"240.96033\" xlink:href=\"#mcf29394707\" y=\"89.622397\"/>\n     <use style=\"fill:#2ca02c;stroke:#2ca02c;\" x=\"229.960859\" xlink:href=\"#mcf29394707\" y=\"83.410662\"/>\n     <use style=\"fill:#2ca02c;stroke:#2ca02c;\" x=\"220.6818\" xlink:href=\"#mcf29394707\" y=\"104.15744\"/>\n     <use style=\"fill:#2ca02c;stroke:#2ca02c;\" x=\"168.746529\" xlink:href=\"#mcf29394707\" y=\"89.266181\"/>\n     <use style=\"fill:#2ca02c;stroke:#2ca02c;\" x=\"125.481298\" xlink:href=\"#mcf29394707\" y=\"116.189758\"/>\n     <use style=\"fill:#2ca02c;stroke:#2ca02c;\" x=\"159.719149\" xlink:href=\"#mcf29394707\" y=\"95.823786\"/>\n     <use style=\"fill:#2ca02c;stroke:#2ca02c;\" x=\"257.231251\" xlink:href=\"#mcf29394707\" y=\"69.347041\"/>\n     <use style=\"fill:#2ca02c;stroke:#2ca02c;\" x=\"219.087837\" xlink:href=\"#mcf29394707\" y=\"95.047847\"/>\n     <use style=\"fill:#2ca02c;stroke:#2ca02c;\" x=\"200.222848\" xlink:href=\"#mcf29394707\" y=\"93.165917\"/>\n     <use style=\"fill:#2ca02c;stroke:#2ca02c;\" x=\"166.521903\" xlink:href=\"#mcf29394707\" y=\"92.778999\"/>\n     <use style=\"fill:#2ca02c;stroke:#2ca02c;\" x=\"169.201922\" xlink:href=\"#mcf29394707\" y=\"95.785508\"/>\n     <use style=\"fill:#2ca02c;stroke:#2ca02c;\" x=\"235.318141\" xlink:href=\"#mcf29394707\" y=\"112.186254\"/>\n     <use style=\"fill:#2ca02c;stroke:#2ca02c;\" x=\"202.796219\" xlink:href=\"#mcf29394707\" y=\"84.132412\"/>\n     <use style=\"fill:#2ca02c;stroke:#2ca02c;\" x=\"217.59866\" xlink:href=\"#mcf29394707\" y=\"95.263195\"/>\n     <use style=\"fill:#2ca02c;stroke:#2ca02c;\" x=\"176.449264\" xlink:href=\"#mcf29394707\" y=\"103.935509\"/>\n     <use style=\"fill:#2ca02c;stroke:#2ca02c;\" x=\"160.137256\" xlink:href=\"#mcf29394707\" y=\"120.821952\"/>\n     <use style=\"fill:#2ca02c;stroke:#2ca02c;\" x=\"158.252046\" xlink:href=\"#mcf29394707\" y=\"65.400763\"/>\n     <use style=\"fill:#2ca02c;stroke:#2ca02c;\" x=\"172.58798\" xlink:href=\"#mcf29394707\" y=\"91.574653\"/>\n     <use style=\"fill:#2ca02c;stroke:#2ca02c;\" x=\"235.230451\" xlink:href=\"#mcf29394707\" y=\"97.707657\"/>\n     <use style=\"fill:#2ca02c;stroke:#2ca02c;\" x=\"233.583683\" xlink:href=\"#mcf29394707\" y=\"108.95616\"/>\n     <use style=\"fill:#2ca02c;stroke:#2ca02c;\" x=\"207.582943\" xlink:href=\"#mcf29394707\" y=\"91.115226\"/>\n     <use style=\"fill:#2ca02c;stroke:#2ca02c;\" x=\"222.642329\" xlink:href=\"#mcf29394707\" y=\"121.603998\"/>\n     <use style=\"fill:#2ca02c;stroke:#2ca02c;\" x=\"185.059392\" xlink:href=\"#mcf29394707\" y=\"118.88299\"/>\n     <use style=\"fill:#2ca02c;stroke:#2ca02c;\" x=\"266.087787\" xlink:href=\"#mcf29394707\" y=\"86.579778\"/>\n     <use style=\"fill:#2ca02c;stroke:#2ca02c;\" x=\"220.826171\" xlink:href=\"#mcf29394707\" y=\"91.681176\"/>\n     <use style=\"fill:#2ca02c;stroke:#2ca02c;\" x=\"152.761955\" xlink:href=\"#mcf29394707\" y=\"129.433635\"/>\n     <use style=\"fill:#2ca02c;stroke:#2ca02c;\" x=\"219.004559\" xlink:href=\"#mcf29394707\" y=\"99.931775\"/>\n     <use style=\"fill:#2ca02c;stroke:#2ca02c;\" x=\"164.081147\" xlink:href=\"#mcf29394707\" y=\"57.981347\"/>\n     <use style=\"fill:#2ca02c;stroke:#2ca02c;\" x=\"222.494011\" xlink:href=\"#mcf29394707\" y=\"115.065712\"/>\n     <use style=\"fill:#2ca02c;stroke:#2ca02c;\" x=\"218.554239\" xlink:href=\"#mcf29394707\" y=\"101.92167\"/>\n     <use style=\"fill:#2ca02c;stroke:#2ca02c;\" x=\"167.116652\" xlink:href=\"#mcf29394707\" y=\"111.361327\"/>\n     <use style=\"fill:#2ca02c;stroke:#2ca02c;\" x=\"129.049043\" xlink:href=\"#mcf29394707\" y=\"99.316303\"/>\n     <use style=\"fill:#2ca02c;stroke:#2ca02c;\" x=\"147.748171\" xlink:href=\"#mcf29394707\" y=\"101.269033\"/>\n     <use style=\"fill:#2ca02c;stroke:#2ca02c;\" x=\"121.350336\" xlink:href=\"#mcf29394707\" y=\"51.51959\"/>\n     <use style=\"fill:#2ca02c;stroke:#2ca02c;\" x=\"157.448194\" xlink:href=\"#mcf29394707\" y=\"135.512318\"/>\n     <use style=\"fill:#2ca02c;stroke:#2ca02c;\" x=\"203.444967\" xlink:href=\"#mcf29394707\" y=\"103.743683\"/>\n     <use style=\"fill:#2ca02c;stroke:#2ca02c;\" x=\"111.759655\" xlink:href=\"#mcf29394707\" y=\"145.38177\"/>\n     <use style=\"fill:#2ca02c;stroke:#2ca02c;\" x=\"205.223953\" xlink:href=\"#mcf29394707\" y=\"98.893539\"/>\n     <use style=\"fill:#2ca02c;stroke:#2ca02c;\" x=\"122.520462\" xlink:href=\"#mcf29394707\" y=\"135.886916\"/>\n     <use style=\"fill:#2ca02c;stroke:#2ca02c;\" x=\"108.93605\" xlink:href=\"#mcf29394707\" y=\"101.513565\"/>\n     <use style=\"fill:#2ca02c;stroke:#2ca02c;\" x=\"214.456514\" xlink:href=\"#mcf29394707\" y=\"54.184489\"/>\n     <use style=\"fill:#2ca02c;stroke:#2ca02c;\" x=\"161.152399\" xlink:href=\"#mcf29394707\" y=\"77.947553\"/>\n     <use style=\"fill:#2ca02c;stroke:#2ca02c;\" x=\"193.501925\" xlink:href=\"#mcf29394707\" y=\"87.749218\"/>\n     <use style=\"fill:#2ca02c;stroke:#2ca02c;\" x=\"202.350104\" xlink:href=\"#mcf29394707\" y=\"130.546126\"/>\n     <use style=\"fill:#2ca02c;stroke:#2ca02c;\" x=\"206.935387\" xlink:href=\"#mcf29394707\" y=\"58.401731\"/>\n     <use style=\"fill:#2ca02c;stroke:#2ca02c;\" x=\"164.582943\" xlink:href=\"#mcf29394707\" y=\"126.097244\"/>\n     <use style=\"fill:#2ca02c;stroke:#2ca02c;\" x=\"236.960808\" xlink:href=\"#mcf29394707\" y=\"89.018417\"/>\n     <use style=\"fill:#2ca02c;stroke:#2ca02c;\" x=\"145.55085\" xlink:href=\"#mcf29394707\" y=\"97.761263\"/>\n     <use style=\"fill:#2ca02c;stroke:#2ca02c;\" x=\"169.48584\" xlink:href=\"#mcf29394707\" y=\"96.339724\"/>\n     <use style=\"fill:#2ca02c;stroke:#2ca02c;\" x=\"159.531242\" xlink:href=\"#mcf29394707\" y=\"113.380812\"/>\n     <use style=\"fill:#2ca02c;stroke:#2ca02c;\" x=\"212.744825\" xlink:href=\"#mcf29394707\" y=\"127.478022\"/>\n     <use style=\"fill:#2ca02c;stroke:#2ca02c;\" x=\"215.981203\" xlink:href=\"#mcf29394707\" y=\"92.762288\"/>\n     <use style=\"fill:#2ca02c;stroke:#2ca02c;\" x=\"190.686762\" xlink:href=\"#mcf29394707\" y=\"113.360442\"/>\n     <use style=\"fill:#2ca02c;stroke:#2ca02c;\" x=\"129.991212\" xlink:href=\"#mcf29394707\" y=\"107.65186\"/>\n     <use style=\"fill:#2ca02c;stroke:#2ca02c;\" x=\"221.300803\" xlink:href=\"#mcf29394707\" y=\"105.953717\"/>\n     <use style=\"fill:#2ca02c;stroke:#2ca02c;\" x=\"215.203528\" xlink:href=\"#mcf29394707\" y=\"136.724214\"/>\n     <use style=\"fill:#2ca02c;stroke:#2ca02c;\" x=\"131.06927\" xlink:href=\"#mcf29394707\" y=\"99.041598\"/>\n     <use style=\"fill:#2ca02c;stroke:#2ca02c;\" x=\"134.379714\" xlink:href=\"#mcf29394707\" y=\"91.426042\"/>\n     <use style=\"fill:#2ca02c;stroke:#2ca02c;\" x=\"222.510371\" xlink:href=\"#mcf29394707\" y=\"88.661261\"/>\n     <use style=\"fill:#2ca02c;stroke:#2ca02c;\" x=\"165.372854\" xlink:href=\"#mcf29394707\" y=\"120.951596\"/>\n     <use style=\"fill:#2ca02c;stroke:#2ca02c;\" x=\"194.154839\" xlink:href=\"#mcf29394707\" y=\"100.451174\"/>\n     <use style=\"fill:#2ca02c;stroke:#2ca02c;\" x=\"250.096384\" xlink:href=\"#mcf29394707\" y=\"83.133042\"/>\n     <use style=\"fill:#2ca02c;stroke:#2ca02c;\" x=\"153.633658\" xlink:href=\"#mcf29394707\" y=\"109.018305\"/>\n     <use style=\"fill:#2ca02c;stroke:#2ca02c;\" x=\"185.22463\" xlink:href=\"#mcf29394707\" y=\"138.168186\"/>\n     <use style=\"fill:#2ca02c;stroke:#2ca02c;\" x=\"241.666932\" xlink:href=\"#mcf29394707\" y=\"101.196188\"/>\n     <use style=\"fill:#2ca02c;stroke:#2ca02c;\" x=\"203.797661\" xlink:href=\"#mcf29394707\" y=\"80.041145\"/>\n     <use style=\"fill:#2ca02c;stroke:#2ca02c;\" x=\"212.363895\" xlink:href=\"#mcf29394707\" y=\"101.109735\"/>\n     <use style=\"fill:#2ca02c;stroke:#2ca02c;\" x=\"131.152952\" xlink:href=\"#mcf29394707\" y=\"112.857791\"/>\n     <use style=\"fill:#2ca02c;stroke:#2ca02c;\" x=\"238.193146\" xlink:href=\"#mcf29394707\" y=\"104.769083\"/>\n     <use style=\"fill:#2ca02c;stroke:#2ca02c;\" x=\"217.753158\" xlink:href=\"#mcf29394707\" y=\"105.361578\"/>\n     <use style=\"fill:#2ca02c;stroke:#2ca02c;\" x=\"249.911439\" xlink:href=\"#mcf29394707\" y=\"76.162938\"/>\n     <use style=\"fill:#2ca02c;stroke:#2ca02c;\" x=\"235.535878\" xlink:href=\"#mcf29394707\" y=\"71.180161\"/>\n     <use style=\"fill:#2ca02c;stroke:#2ca02c;\" x=\"230.855002\" xlink:href=\"#mcf29394707\" y=\"115.055202\"/>\n     <use style=\"fill:#2ca02c;stroke:#2ca02c;\" x=\"164.047992\" xlink:href=\"#mcf29394707\" y=\"97.180172\"/>\n     <use style=\"fill:#2ca02c;stroke:#2ca02c;\" x=\"181.526934\" xlink:href=\"#mcf29394707\" y=\"80.817853\"/>\n     <use style=\"fill:#2ca02c;stroke:#2ca02c;\" x=\"210.723561\" xlink:href=\"#mcf29394707\" y=\"101.462889\"/>\n     <use style=\"fill:#2ca02c;stroke:#2ca02c;\" x=\"259.50585\" xlink:href=\"#mcf29394707\" y=\"111.969968\"/>\n     <use style=\"fill:#2ca02c;stroke:#2ca02c;\" x=\"116.118317\" xlink:href=\"#mcf29394707\" y=\"163.194906\"/>\n     <use style=\"fill:#2ca02c;stroke:#2ca02c;\" x=\"227.766758\" xlink:href=\"#mcf29394707\" y=\"114.368715\"/>\n     <use style=\"fill:#2ca02c;stroke:#2ca02c;\" x=\"211.974389\" xlink:href=\"#mcf29394707\" y=\"105.192786\"/>\n     <use style=\"fill:#2ca02c;stroke:#2ca02c;\" x=\"214.892772\" xlink:href=\"#mcf29394707\" y=\"99.093139\"/>\n     <use style=\"fill:#2ca02c;stroke:#2ca02c;\" x=\"188.135627\" xlink:href=\"#mcf29394707\" y=\"99.670172\"/>\n     <use style=\"fill:#2ca02c;stroke:#2ca02c;\" x=\"127.254274\" xlink:href=\"#mcf29394707\" y=\"71.327539\"/>\n     <use style=\"fill:#2ca02c;stroke:#2ca02c;\" x=\"224.934402\" xlink:href=\"#mcf29394707\" y=\"103.272933\"/>\n     <use style=\"fill:#2ca02c;stroke:#2ca02c;\" x=\"192.804674\" xlink:href=\"#mcf29394707\" y=\"114.74013\"/>\n     <use style=\"fill:#2ca02c;stroke:#2ca02c;\" x=\"103.622076\" xlink:href=\"#mcf29394707\" y=\"143.265465\"/>\n     <use style=\"fill:#2ca02c;stroke:#2ca02c;\" x=\"185.271441\" xlink:href=\"#mcf29394707\" y=\"98.441543\"/>\n     <use style=\"fill:#2ca02c;stroke:#2ca02c;\" x=\"148.013332\" xlink:href=\"#mcf29394707\" y=\"81.370954\"/>\n     <use style=\"fill:#2ca02c;stroke:#2ca02c;\" x=\"206.646107\" xlink:href=\"#mcf29394707\" y=\"94.931711\"/>\n     <use style=\"fill:#2ca02c;stroke:#2ca02c;\" x=\"185.008331\" xlink:href=\"#mcf29394707\" y=\"83.542996\"/>\n     <use style=\"fill:#2ca02c;stroke:#2ca02c;\" x=\"208.858747\" xlink:href=\"#mcf29394707\" y=\"131.03364\"/>\n     <use style=\"fill:#2ca02c;stroke:#2ca02c;\" x=\"159.880753\" xlink:href=\"#mcf29394707\" y=\"89.493826\"/>\n     <use style=\"fill:#2ca02c;stroke:#2ca02c;\" x=\"235.142292\" xlink:href=\"#mcf29394707\" y=\"110.173347\"/>\n     <use style=\"fill:#2ca02c;stroke:#2ca02c;\" x=\"215.383389\" xlink:href=\"#mcf29394707\" y=\"71.003493\"/>\n     <use style=\"fill:#2ca02c;stroke:#2ca02c;\" x=\"171.916894\" xlink:href=\"#mcf29394707\" y=\"113.908936\"/>\n     <use style=\"fill:#2ca02c;stroke:#2ca02c;\" x=\"205.66002\" xlink:href=\"#mcf29394707\" y=\"117.451276\"/>\n     <use style=\"fill:#2ca02c;stroke:#2ca02c;\" x=\"237.101106\" xlink:href=\"#mcf29394707\" y=\"61.379972\"/>\n     <use style=\"fill:#2ca02c;stroke:#2ca02c;\" x=\"154.68383\" xlink:href=\"#mcf29394707\" y=\"117.304819\"/>\n     <use style=\"fill:#2ca02c;stroke:#2ca02c;\" x=\"122.908242\" xlink:href=\"#mcf29394707\" y=\"111.215892\"/>\n     <use style=\"fill:#2ca02c;stroke:#2ca02c;\" x=\"183.068489\" xlink:href=\"#mcf29394707\" y=\"80.356016\"/>\n     <use style=\"fill:#2ca02c;stroke:#2ca02c;\" x=\"223.838593\" xlink:href=\"#mcf29394707\" y=\"92.710872\"/>\n     <use style=\"fill:#2ca02c;stroke:#2ca02c;\" x=\"196.089783\" xlink:href=\"#mcf29394707\" y=\"107.165794\"/>\n     <use style=\"fill:#2ca02c;stroke:#2ca02c;\" x=\"233.796221\" xlink:href=\"#mcf29394707\" y=\"96.024001\"/>\n     <use style=\"fill:#2ca02c;stroke:#2ca02c;\" x=\"252.365275\" xlink:href=\"#mcf29394707\" y=\"62.088298\"/>\n     <use style=\"fill:#2ca02c;stroke:#2ca02c;\" x=\"231.107386\" xlink:href=\"#mcf29394707\" y=\"98.954487\"/>\n     <use style=\"fill:#2ca02c;stroke:#2ca02c;\" x=\"182.957307\" xlink:href=\"#mcf29394707\" y=\"133.262245\"/>\n     <use style=\"fill:#2ca02c;stroke:#2ca02c;\" x=\"167.462746\" xlink:href=\"#mcf29394707\" y=\"76.817316\"/>\n     <use style=\"fill:#2ca02c;stroke:#2ca02c;\" x=\"212.042072\" xlink:href=\"#mcf29394707\" y=\"99.834806\"/>\n     <use style=\"fill:#2ca02c;stroke:#2ca02c;\" x=\"187.855878\" xlink:href=\"#mcf29394707\" y=\"160.220243\"/>\n     <use style=\"fill:#2ca02c;stroke:#2ca02c;\" x=\"184.924731\" xlink:href=\"#mcf29394707\" y=\"72.457395\"/>\n     <use style=\"fill:#2ca02c;stroke:#2ca02c;\" x=\"200.480863\" xlink:href=\"#mcf29394707\" y=\"82.34083\"/>\n     <use style=\"fill:#2ca02c;stroke:#2ca02c;\" x=\"138.192201\" xlink:href=\"#mcf29394707\" y=\"53.017426\"/>\n     <use style=\"fill:#2ca02c;stroke:#2ca02c;\" x=\"157.615867\" xlink:href=\"#mcf29394707\" y=\"114.210391\"/>\n     <use style=\"fill:#2ca02c;stroke:#2ca02c;\" x=\"221.809731\" xlink:href=\"#mcf29394707\" y=\"145.630256\"/>\n     <use style=\"fill:#2ca02c;stroke:#2ca02c;\" x=\"145.045134\" xlink:href=\"#mcf29394707\" y=\"77.350435\"/>\n     <use style=\"fill:#2ca02c;stroke:#2ca02c;\" x=\"212.867374\" xlink:href=\"#mcf29394707\" y=\"88.657116\"/>\n     <use style=\"fill:#2ca02c;stroke:#2ca02c;\" x=\"205.257573\" xlink:href=\"#mcf29394707\" y=\"159.305065\"/>\n     <use style=\"fill:#2ca02c;stroke:#2ca02c;\" x=\"268.905007\" xlink:href=\"#mcf29394707\" y=\"99.451362\"/>\n     <use style=\"fill:#2ca02c;stroke:#2ca02c;\" x=\"247.088934\" xlink:href=\"#mcf29394707\" y=\"77.088186\"/>\n     <use style=\"fill:#2ca02c;stroke:#2ca02c;\" x=\"171.387976\" xlink:href=\"#mcf29394707\" y=\"89.227166\"/>\n     <use style=\"fill:#2ca02c;stroke:#2ca02c;\" x=\"131.373315\" xlink:href=\"#mcf29394707\" y=\"93.619911\"/>\n     <use style=\"fill:#2ca02c;stroke:#2ca02c;\" x=\"229.643623\" xlink:href=\"#mcf29394707\" y=\"86.358324\"/>\n     <use style=\"fill:#2ca02c;stroke:#2ca02c;\" x=\"196.135292\" xlink:href=\"#mcf29394707\" y=\"120.38784\"/>\n     <use style=\"fill:#2ca02c;stroke:#2ca02c;\" x=\"156.040213\" xlink:href=\"#mcf29394707\" y=\"94.758396\"/>\n     <use style=\"fill:#2ca02c;stroke:#2ca02c;\" x=\"225.554712\" xlink:href=\"#mcf29394707\" y=\"84.357997\"/>\n     <use style=\"fill:#2ca02c;stroke:#2ca02c;\" x=\"165.190584\" xlink:href=\"#mcf29394707\" y=\"117.78444\"/>\n     <use style=\"fill:#2ca02c;stroke:#2ca02c;\" x=\"176.835417\" xlink:href=\"#mcf29394707\" y=\"105.223562\"/>\n     <use style=\"fill:#2ca02c;stroke:#2ca02c;\" x=\"237.094393\" xlink:href=\"#mcf29394707\" y=\"100.00472\"/>\n     <use style=\"fill:#2ca02c;stroke:#2ca02c;\" x=\"182.370884\" xlink:href=\"#mcf29394707\" y=\"125.233807\"/>\n     <use style=\"fill:#2ca02c;stroke:#2ca02c;\" x=\"179.709456\" xlink:href=\"#mcf29394707\" y=\"65.095516\"/>\n     <use style=\"fill:#2ca02c;stroke:#2ca02c;\" x=\"167.145431\" xlink:href=\"#mcf29394707\" y=\"122.677239\"/>\n     <use style=\"fill:#2ca02c;stroke:#2ca02c;\" x=\"106.352145\" xlink:href=\"#mcf29394707\" y=\"124.572728\"/>\n     <use style=\"fill:#2ca02c;stroke:#2ca02c;\" x=\"246.997326\" xlink:href=\"#mcf29394707\" y=\"135.875647\"/>\n     <use style=\"fill:#2ca02c;stroke:#2ca02c;\" x=\"194.208938\" xlink:href=\"#mcf29394707\" y=\"102.731302\"/>\n     <use style=\"fill:#2ca02c;stroke:#2ca02c;\" x=\"216.780919\" xlink:href=\"#mcf29394707\" y=\"78.381279\"/>\n     <use style=\"fill:#2ca02c;stroke:#2ca02c;\" x=\"140.65086\" xlink:href=\"#mcf29394707\" y=\"64.779783\"/>\n     <use style=\"fill:#2ca02c;stroke:#2ca02c;\" x=\"131.36809\" xlink:href=\"#mcf29394707\" y=\"106.151156\"/>\n     <use style=\"fill:#2ca02c;stroke:#2ca02c;\" x=\"201.790161\" xlink:href=\"#mcf29394707\" y=\"107.141899\"/>\n     <use style=\"fill:#2ca02c;stroke:#2ca02c;\" x=\"191.105032\" xlink:href=\"#mcf29394707\" y=\"107.191709\"/>\n     <use style=\"fill:#2ca02c;stroke:#2ca02c;\" x=\"189.966454\" xlink:href=\"#mcf29394707\" y=\"108.935098\"/>\n     <use style=\"fill:#2ca02c;stroke:#2ca02c;\" x=\"198.402149\" xlink:href=\"#mcf29394707\" y=\"98.684052\"/>\n     <use style=\"fill:#2ca02c;stroke:#2ca02c;\" x=\"171.37375\" xlink:href=\"#mcf29394707\" y=\"86.052325\"/>\n     <use style=\"fill:#2ca02c;stroke:#2ca02c;\" x=\"84.13721\" xlink:href=\"#mcf29394707\" y=\"93.857111\"/>\n     <use style=\"fill:#2ca02c;stroke:#2ca02c;\" x=\"177.031784\" xlink:href=\"#mcf29394707\" y=\"87.559772\"/>\n     <use style=\"fill:#2ca02c;stroke:#2ca02c;\" x=\"202.673825\" xlink:href=\"#mcf29394707\" y=\"109.789693\"/>\n     <use style=\"fill:#2ca02c;stroke:#2ca02c;\" x=\"167.10707\" xlink:href=\"#mcf29394707\" y=\"90.847043\"/>\n     <use style=\"fill:#2ca02c;stroke:#2ca02c;\" x=\"197.808213\" xlink:href=\"#mcf29394707\" y=\"121.310384\"/>\n     <use style=\"fill:#2ca02c;stroke:#2ca02c;\" x=\"195.947472\" xlink:href=\"#mcf29394707\" y=\"107.798187\"/>\n     <use style=\"fill:#2ca02c;stroke:#2ca02c;\" x=\"137.737179\" xlink:href=\"#mcf29394707\" y=\"113.308249\"/>\n     <use style=\"fill:#2ca02c;stroke:#2ca02c;\" x=\"142.347508\" xlink:href=\"#mcf29394707\" y=\"73.799814\"/>\n     <use style=\"fill:#2ca02c;stroke:#2ca02c;\" x=\"234.153608\" xlink:href=\"#mcf29394707\" y=\"116.531235\"/>\n     <use style=\"fill:#2ca02c;stroke:#2ca02c;\" x=\"182.08776\" xlink:href=\"#mcf29394707\" y=\"77.444699\"/>\n     <use style=\"fill:#2ca02c;stroke:#2ca02c;\" x=\"199.961858\" xlink:href=\"#mcf29394707\" y=\"78.734005\"/>\n     <use style=\"fill:#2ca02c;stroke:#2ca02c;\" x=\"201.277947\" xlink:href=\"#mcf29394707\" y=\"93.775277\"/>\n     <use style=\"fill:#2ca02c;stroke:#2ca02c;\" x=\"263.403532\" xlink:href=\"#mcf29394707\" y=\"67.532559\"/>\n     <use style=\"fill:#2ca02c;stroke:#2ca02c;\" x=\"242.190415\" xlink:href=\"#mcf29394707\" y=\"111.98737\"/>\n     <use style=\"fill:#2ca02c;stroke:#2ca02c;\" x=\"211.034902\" xlink:href=\"#mcf29394707\" y=\"93.6167\"/>\n     <use style=\"fill:#2ca02c;stroke:#2ca02c;\" x=\"95.131501\" xlink:href=\"#mcf29394707\" y=\"111.615056\"/>\n     <use style=\"fill:#2ca02c;stroke:#2ca02c;\" x=\"210.260013\" xlink:href=\"#mcf29394707\" y=\"100.041932\"/>\n     <use style=\"fill:#2ca02c;stroke:#2ca02c;\" x=\"181.098292\" xlink:href=\"#mcf29394707\" y=\"105.803021\"/>\n     <use style=\"fill:#2ca02c;stroke:#2ca02c;\" x=\"173.413585\" xlink:href=\"#mcf29394707\" y=\"79.729586\"/>\n     <use style=\"fill:#2ca02c;stroke:#2ca02c;\" x=\"177.266754\" xlink:href=\"#mcf29394707\" y=\"75.370701\"/>\n     <use style=\"fill:#2ca02c;stroke:#2ca02c;\" x=\"191.478776\" xlink:href=\"#mcf29394707\" y=\"50.08436\"/>\n     <use style=\"fill:#2ca02c;stroke:#2ca02c;\" x=\"198.875259\" xlink:href=\"#mcf29394707\" y=\"83.163851\"/>\n     <use style=\"fill:#2ca02c;stroke:#2ca02c;\" x=\"164.727509\" xlink:href=\"#mcf29394707\" y=\"95.458805\"/>\n     <use style=\"fill:#2ca02c;stroke:#2ca02c;\" x=\"193.605912\" xlink:href=\"#mcf29394707\" y=\"102.200776\"/>\n     <use style=\"fill:#2ca02c;stroke:#2ca02c;\" x=\"237.101398\" xlink:href=\"#mcf29394707\" y=\"79.673542\"/>\n     <use style=\"fill:#2ca02c;stroke:#2ca02c;\" x=\"162.514134\" xlink:href=\"#mcf29394707\" y=\"114.919592\"/>\n     <use style=\"fill:#2ca02c;stroke:#2ca02c;\" x=\"202.314769\" xlink:href=\"#mcf29394707\" y=\"116.004218\"/>\n     <use style=\"fill:#2ca02c;stroke:#2ca02c;\" x=\"267.389975\" xlink:href=\"#mcf29394707\" y=\"81.419514\"/>\n     <use style=\"fill:#2ca02c;stroke:#2ca02c;\" x=\"264.271267\" xlink:href=\"#mcf29394707\" y=\"75.523311\"/>\n     <use style=\"fill:#2ca02c;stroke:#2ca02c;\" x=\"175.049533\" xlink:href=\"#mcf29394707\" y=\"73.001165\"/>\n     <use style=\"fill:#2ca02c;stroke:#2ca02c;\" x=\"235.626366\" xlink:href=\"#mcf29394707\" y=\"62.681095\"/>\n     <use style=\"fill:#2ca02c;stroke:#2ca02c;\" x=\"233.299705\" xlink:href=\"#mcf29394707\" y=\"133.069761\"/>\n     <use style=\"fill:#2ca02c;stroke:#2ca02c;\" x=\"204.844361\" xlink:href=\"#mcf29394707\" y=\"103.341716\"/>\n     <use style=\"fill:#2ca02c;stroke:#2ca02c;\" x=\"243.25822\" xlink:href=\"#mcf29394707\" y=\"112.309397\"/>\n     <use style=\"fill:#2ca02c;stroke:#2ca02c;\" x=\"113.113259\" xlink:href=\"#mcf29394707\" y=\"112.398294\"/>\n     <use style=\"fill:#2ca02c;stroke:#2ca02c;\" x=\"220.635085\" xlink:href=\"#mcf29394707\" y=\"56.47431\"/>\n     <use style=\"fill:#2ca02c;stroke:#2ca02c;\" x=\"197.781308\" xlink:href=\"#mcf29394707\" y=\"133.526853\"/>\n     <use style=\"fill:#2ca02c;stroke:#2ca02c;\" x=\"123.318053\" xlink:href=\"#mcf29394707\" y=\"72.574592\"/>\n     <use style=\"fill:#2ca02c;stroke:#2ca02c;\" x=\"182.313553\" xlink:href=\"#mcf29394707\" y=\"96.700853\"/>\n     <use style=\"fill:#2ca02c;stroke:#2ca02c;\" x=\"150.995012\" xlink:href=\"#mcf29394707\" y=\"98.65056\"/>\n     <use style=\"fill:#2ca02c;stroke:#2ca02c;\" x=\"181.336793\" xlink:href=\"#mcf29394707\" y=\"94.765444\"/>\n     <use style=\"fill:#2ca02c;stroke:#2ca02c;\" x=\"175.473573\" xlink:href=\"#mcf29394707\" y=\"108.30407\"/>\n     <use style=\"fill:#2ca02c;stroke:#2ca02c;\" x=\"185.690055\" xlink:href=\"#mcf29394707\" y=\"72.94935\"/>\n     <use style=\"fill:#2ca02c;stroke:#2ca02c;\" x=\"169.203357\" xlink:href=\"#mcf29394707\" y=\"129.072813\"/>\n     <use style=\"fill:#2ca02c;stroke:#2ca02c;\" x=\"184.012604\" xlink:href=\"#mcf29394707\" y=\"74.742511\"/>\n     <use style=\"fill:#2ca02c;stroke:#2ca02c;\" x=\"231.30033\" xlink:href=\"#mcf29394707\" y=\"107.278576\"/>\n     <use style=\"fill:#2ca02c;stroke:#2ca02c;\" x=\"129.88891\" xlink:href=\"#mcf29394707\" y=\"122.060633\"/>\n     <use style=\"fill:#2ca02c;stroke:#2ca02c;\" x=\"240.106447\" xlink:href=\"#mcf29394707\" y=\"81.599794\"/>\n     <use style=\"fill:#2ca02c;stroke:#2ca02c;\" x=\"167.956075\" xlink:href=\"#mcf29394707\" y=\"101.503978\"/>\n     <use style=\"fill:#2ca02c;stroke:#2ca02c;\" x=\"236.184706\" xlink:href=\"#mcf29394707\" y=\"78.913801\"/>\n     <use style=\"fill:#2ca02c;stroke:#2ca02c;\" x=\"148.250422\" xlink:href=\"#mcf29394707\" y=\"83.937303\"/>\n     <use style=\"fill:#2ca02c;stroke:#2ca02c;\" x=\"181.371447\" xlink:href=\"#mcf29394707\" y=\"83.354765\"/>\n     <use style=\"fill:#2ca02c;stroke:#2ca02c;\" x=\"161.323077\" xlink:href=\"#mcf29394707\" y=\"60.791284\"/>\n     <use style=\"fill:#2ca02c;stroke:#2ca02c;\" x=\"223.080645\" xlink:href=\"#mcf29394707\" y=\"119.88256\"/>\n     <use style=\"fill:#2ca02c;stroke:#2ca02c;\" x=\"157.740479\" xlink:href=\"#mcf29394707\" y=\"80.083505\"/>\n     <use style=\"fill:#2ca02c;stroke:#2ca02c;\" x=\"212.432522\" xlink:href=\"#mcf29394707\" y=\"89.757136\"/>\n     <use style=\"fill:#2ca02c;stroke:#2ca02c;\" x=\"196.356024\" xlink:href=\"#mcf29394707\" y=\"86.398779\"/>\n     <use style=\"fill:#2ca02c;stroke:#2ca02c;\" x=\"159.183731\" xlink:href=\"#mcf29394707\" y=\"77.828161\"/>\n     <use style=\"fill:#2ca02c;stroke:#2ca02c;\" x=\"149.796862\" xlink:href=\"#mcf29394707\" y=\"91.418104\"/>\n     <use style=\"fill:#2ca02c;stroke:#2ca02c;\" x=\"214.124255\" xlink:href=\"#mcf29394707\" y=\"108.670047\"/>\n     <use style=\"fill:#2ca02c;stroke:#2ca02c;\" x=\"134.68286\" xlink:href=\"#mcf29394707\" y=\"112.330377\"/>\n     <use style=\"fill:#2ca02c;stroke:#2ca02c;\" x=\"244.142031\" xlink:href=\"#mcf29394707\" y=\"113.55758\"/>\n     <use style=\"fill:#2ca02c;stroke:#2ca02c;\" x=\"164.316687\" xlink:href=\"#mcf29394707\" y=\"134.133923\"/>\n     <use style=\"fill:#2ca02c;stroke:#2ca02c;\" x=\"219.23724\" xlink:href=\"#mcf29394707\" y=\"103.638155\"/>\n     <use style=\"fill:#2ca02c;stroke:#2ca02c;\" x=\"213.565044\" xlink:href=\"#mcf29394707\" y=\"80.13209\"/>\n     <use style=\"fill:#2ca02c;stroke:#2ca02c;\" x=\"188.152082\" xlink:href=\"#mcf29394707\" y=\"77.966427\"/>\n     <use style=\"fill:#2ca02c;stroke:#2ca02c;\" x=\"215.327096\" xlink:href=\"#mcf29394707\" y=\"82.403619\"/>\n     <use style=\"fill:#2ca02c;stroke:#2ca02c;\" x=\"125.718044\" xlink:href=\"#mcf29394707\" y=\"97.827986\"/>\n     <use style=\"fill:#2ca02c;stroke:#2ca02c;\" x=\"170.115546\" xlink:href=\"#mcf29394707\" y=\"88.419952\"/>\n     <use style=\"fill:#2ca02c;stroke:#2ca02c;\" x=\"185.590354\" xlink:href=\"#mcf29394707\" y=\"106.690636\"/>\n     <use style=\"fill:#2ca02c;stroke:#2ca02c;\" x=\"191.052141\" xlink:href=\"#mcf29394707\" y=\"72.173768\"/>\n     <use style=\"fill:#2ca02c;stroke:#2ca02c;\" x=\"208.26556\" xlink:href=\"#mcf29394707\" y=\"135.714667\"/>\n     <use style=\"fill:#2ca02c;stroke:#2ca02c;\" x=\"198.699987\" xlink:href=\"#mcf29394707\" y=\"86.65948\"/>\n     <use style=\"fill:#2ca02c;stroke:#2ca02c;\" x=\"187.82286\" xlink:href=\"#mcf29394707\" y=\"101.858698\"/>\n     <use style=\"fill:#2ca02c;stroke:#2ca02c;\" x=\"285.654901\" xlink:href=\"#mcf29394707\" y=\"76.358142\"/>\n     <use style=\"fill:#2ca02c;stroke:#2ca02c;\" x=\"220.945001\" xlink:href=\"#mcf29394707\" y=\"101.640504\"/>\n     <use style=\"fill:#2ca02c;stroke:#2ca02c;\" x=\"192.124371\" xlink:href=\"#mcf29394707\" y=\"90.761469\"/>\n     <use style=\"fill:#2ca02c;stroke:#2ca02c;\" x=\"166.314792\" xlink:href=\"#mcf29394707\" y=\"90.658434\"/>\n     <use style=\"fill:#2ca02c;stroke:#2ca02c;\" x=\"173.33789\" xlink:href=\"#mcf29394707\" y=\"116.093076\"/>\n     <use style=\"fill:#2ca02c;stroke:#2ca02c;\" x=\"218.187266\" xlink:href=\"#mcf29394707\" y=\"110.744064\"/>\n     <use style=\"fill:#2ca02c;stroke:#2ca02c;\" x=\"182.126599\" xlink:href=\"#mcf29394707\" y=\"84.24771\"/>\n     <use style=\"fill:#2ca02c;stroke:#2ca02c;\" x=\"280.439927\" xlink:href=\"#mcf29394707\" y=\"105.55528\"/>\n     <use style=\"fill:#2ca02c;stroke:#2ca02c;\" x=\"256.992551\" xlink:href=\"#mcf29394707\" y=\"94.397228\"/>\n     <use style=\"fill:#2ca02c;stroke:#2ca02c;\" x=\"141.68744\" xlink:href=\"#mcf29394707\" y=\"91.883381\"/>\n     <use style=\"fill:#2ca02c;stroke:#2ca02c;\" x=\"60.063494\" xlink:href=\"#mcf29394707\" y=\"111.814284\"/>\n     <use style=\"fill:#2ca02c;stroke:#2ca02c;\" x=\"199.015321\" xlink:href=\"#mcf29394707\" y=\"57.208798\"/>\n     <use style=\"fill:#2ca02c;stroke:#2ca02c;\" x=\"162.28379\" xlink:href=\"#mcf29394707\" y=\"102.468454\"/>\n     <use style=\"fill:#2ca02c;stroke:#2ca02c;\" x=\"148.390253\" xlink:href=\"#mcf29394707\" y=\"86.807502\"/>\n     <use style=\"fill:#2ca02c;stroke:#2ca02c;\" x=\"197.428371\" xlink:href=\"#mcf29394707\" y=\"99.796133\"/>\n     <use style=\"fill:#2ca02c;stroke:#2ca02c;\" x=\"186.55991\" xlink:href=\"#mcf29394707\" y=\"119.677431\"/>\n     <use style=\"fill:#2ca02c;stroke:#2ca02c;\" x=\"223.546495\" xlink:href=\"#mcf29394707\" y=\"87.090032\"/>\n     <use style=\"fill:#2ca02c;stroke:#2ca02c;\" x=\"181.736761\" xlink:href=\"#mcf29394707\" y=\"105.432596\"/>\n     <use style=\"fill:#2ca02c;stroke:#2ca02c;\" x=\"165.007342\" xlink:href=\"#mcf29394707\" y=\"123.8986\"/>\n     <use style=\"fill:#2ca02c;stroke:#2ca02c;\" x=\"268.934259\" xlink:href=\"#mcf29394707\" y=\"80.982383\"/>\n     <use style=\"fill:#2ca02c;stroke:#2ca02c;\" x=\"166.1642\" xlink:href=\"#mcf29394707\" y=\"93.939337\"/>\n     <use style=\"fill:#2ca02c;stroke:#2ca02c;\" x=\"176.237777\" xlink:href=\"#mcf29394707\" y=\"115.753599\"/>\n     <use style=\"fill:#2ca02c;stroke:#2ca02c;\" x=\"171.34381\" xlink:href=\"#mcf29394707\" y=\"51.095213\"/>\n     <use style=\"fill:#2ca02c;stroke:#2ca02c;\" x=\"291.192562\" xlink:href=\"#mcf29394707\" y=\"77.342354\"/>\n     <use style=\"fill:#2ca02c;stroke:#2ca02c;\" x=\"198.294129\" xlink:href=\"#mcf29394707\" y=\"61.645825\"/>\n     <use style=\"fill:#2ca02c;stroke:#2ca02c;\" x=\"252.583453\" xlink:href=\"#mcf29394707\" y=\"109.896848\"/>\n     <use style=\"fill:#2ca02c;stroke:#2ca02c;\" x=\"231.449443\" xlink:href=\"#mcf29394707\" y=\"100.120167\"/>\n     <use style=\"fill:#2ca02c;stroke:#2ca02c;\" x=\"154.274646\" xlink:href=\"#mcf29394707\" y=\"99.565151\"/>\n     <use style=\"fill:#2ca02c;stroke:#2ca02c;\" x=\"227.258967\" xlink:href=\"#mcf29394707\" y=\"93.116866\"/>\n     <use style=\"fill:#2ca02c;stroke:#2ca02c;\" x=\"239.359309\" xlink:href=\"#mcf29394707\" y=\"89.476507\"/>\n     <use style=\"fill:#2ca02c;stroke:#2ca02c;\" x=\"203.176417\" xlink:href=\"#mcf29394707\" y=\"93.291807\"/>\n     <use style=\"fill:#2ca02c;stroke:#2ca02c;\" x=\"170.968402\" xlink:href=\"#mcf29394707\" y=\"96.072508\"/>\n     <use style=\"fill:#2ca02c;stroke:#2ca02c;\" x=\"193.124023\" xlink:href=\"#mcf29394707\" y=\"97.967829\"/>\n     <use style=\"fill:#2ca02c;stroke:#2ca02c;\" x=\"232.366674\" xlink:href=\"#mcf29394707\" y=\"116.41065\"/>\n     <use style=\"fill:#2ca02c;stroke:#2ca02c;\" x=\"140.81617\" xlink:href=\"#mcf29394707\" y=\"82.702761\"/>\n     <use style=\"fill:#2ca02c;stroke:#2ca02c;\" x=\"197.897151\" xlink:href=\"#mcf29394707\" y=\"81.002067\"/>\n     <use style=\"fill:#2ca02c;stroke:#2ca02c;\" x=\"117.57482\" xlink:href=\"#mcf29394707\" y=\"91.63344\"/>\n     <use style=\"fill:#2ca02c;stroke:#2ca02c;\" x=\"154.666183\" xlink:href=\"#mcf29394707\" y=\"108.065543\"/>\n     <use style=\"fill:#2ca02c;stroke:#2ca02c;\" x=\"159.919842\" xlink:href=\"#mcf29394707\" y=\"96.579902\"/>\n     <use style=\"fill:#2ca02c;stroke:#2ca02c;\" x=\"186.534309\" xlink:href=\"#mcf29394707\" y=\"85.344405\"/>\n     <use style=\"fill:#2ca02c;stroke:#2ca02c;\" x=\"173.80491\" xlink:href=\"#mcf29394707\" y=\"99.020023\"/>\n     <use style=\"fill:#2ca02c;stroke:#2ca02c;\" x=\"169.754711\" xlink:href=\"#mcf29394707\" y=\"96.816105\"/>\n     <use style=\"fill:#2ca02c;stroke:#2ca02c;\" x=\"216.968604\" xlink:href=\"#mcf29394707\" y=\"77.248366\"/>\n     <use style=\"fill:#2ca02c;stroke:#2ca02c;\" x=\"202.200359\" xlink:href=\"#mcf29394707\" y=\"98.638682\"/>\n     <use style=\"fill:#2ca02c;stroke:#2ca02c;\" x=\"254.323322\" xlink:href=\"#mcf29394707\" y=\"73.279306\"/>\n     <use style=\"fill:#2ca02c;stroke:#2ca02c;\" x=\"179.354752\" xlink:href=\"#mcf29394707\" y=\"108.275673\"/>\n     <use style=\"fill:#2ca02c;stroke:#2ca02c;\" x=\"194.50813\" xlink:href=\"#mcf29394707\" y=\"86.072808\"/>\n     <use style=\"fill:#2ca02c;stroke:#2ca02c;\" x=\"184.397025\" xlink:href=\"#mcf29394707\" y=\"111.303564\"/>\n     <use style=\"fill:#2ca02c;stroke:#2ca02c;\" x=\"192.8303\" xlink:href=\"#mcf29394707\" y=\"103.811348\"/>\n     <use style=\"fill:#2ca02c;stroke:#2ca02c;\" x=\"226.515612\" xlink:href=\"#mcf29394707\" y=\"105.870055\"/>\n     <use style=\"fill:#2ca02c;stroke:#2ca02c;\" x=\"173.333009\" xlink:href=\"#mcf29394707\" y=\"106.15022\"/>\n     <use style=\"fill:#2ca02c;stroke:#2ca02c;\" x=\"204.157449\" xlink:href=\"#mcf29394707\" y=\"80.591821\"/>\n     <use style=\"fill:#2ca02c;stroke:#2ca02c;\" x=\"94.439498\" xlink:href=\"#mcf29394707\" y=\"105.381799\"/>\n     <use style=\"fill:#2ca02c;stroke:#2ca02c;\" x=\"220.186421\" xlink:href=\"#mcf29394707\" y=\"95.096076\"/>\n     <use style=\"fill:#2ca02c;stroke:#2ca02c;\" x=\"144.831291\" xlink:href=\"#mcf29394707\" y=\"97.948327\"/>\n     <use style=\"fill:#2ca02c;stroke:#2ca02c;\" x=\"198.531377\" xlink:href=\"#mcf29394707\" y=\"110.472561\"/>\n     <use style=\"fill:#2ca02c;stroke:#2ca02c;\" x=\"219.88749\" xlink:href=\"#mcf29394707\" y=\"90.268639\"/>\n     <use style=\"fill:#2ca02c;stroke:#2ca02c;\" x=\"174.266361\" xlink:href=\"#mcf29394707\" y=\"101.944536\"/>\n     <use style=\"fill:#2ca02c;stroke:#2ca02c;\" x=\"181.097346\" xlink:href=\"#mcf29394707\" y=\"94.659005\"/>\n     <use style=\"fill:#2ca02c;stroke:#2ca02c;\" x=\"195.772422\" xlink:href=\"#mcf29394707\" y=\"89.114323\"/>\n     <use style=\"fill:#2ca02c;stroke:#2ca02c;\" x=\"187.389233\" xlink:href=\"#mcf29394707\" y=\"107.442516\"/>\n     <use style=\"fill:#2ca02c;stroke:#2ca02c;\" x=\"233.162122\" xlink:href=\"#mcf29394707\" y=\"88.473667\"/>\n     <use style=\"fill:#2ca02c;stroke:#2ca02c;\" x=\"178.047938\" xlink:href=\"#mcf29394707\" y=\"103.437502\"/>\n     <use style=\"fill:#2ca02c;stroke:#2ca02c;\" x=\"178.734124\" xlink:href=\"#mcf29394707\" y=\"106.883995\"/>\n     <use style=\"fill:#2ca02c;stroke:#2ca02c;\" x=\"173.991126\" xlink:href=\"#mcf29394707\" y=\"116.028059\"/>\n     <use style=\"fill:#2ca02c;stroke:#2ca02c;\" x=\"132.261664\" xlink:href=\"#mcf29394707\" y=\"94.138947\"/>\n    </g>\n   </g>\n   <g id=\"matplotlib.axis_1\">\n    <g id=\"xtick_1\">\n     <g id=\"line2d_1\">\n      <defs>\n       <path d=\"M 0 0 \nL 0 3.5 \n\" id=\"mebd210ceb4\" style=\"stroke:#000000;stroke-width:0.8;\"/>\n      </defs>\n      <g>\n       <use style=\"stroke:#000000;stroke-width:0.8;\" x=\"64.791469\" xlink:href=\"#mebd210ceb4\" y=\"224.64\"/>\n      </g>\n     </g>\n     <g id=\"text_1\">\n      <!-- −8 -->\n      <defs>\n       <path d=\"M 10.59375 35.5 \nL 73.1875 35.5 \nL 73.1875 27.203125 \nL 10.59375 27.203125 \nz\n\" id=\"DejaVuSans-8722\"/>\n       <path d=\"M 31.78125 34.625 \nQ 24.75 34.625 20.71875 30.859375 \nQ 16.703125 27.09375 16.703125 20.515625 \nQ 16.703125 13.921875 20.71875 10.15625 \nQ 24.75 6.390625 31.78125 6.390625 \nQ 38.8125 6.390625 42.859375 10.171875 \nQ 46.921875 13.96875 46.921875 20.515625 \nQ 46.921875 27.09375 42.890625 30.859375 \nQ 38.875 34.625 31.78125 34.625 \nz\nM 21.921875 38.8125 \nQ 15.578125 40.375 12.03125 44.71875 \nQ 8.5 49.078125 8.5 55.328125 \nQ 8.5 64.0625 14.71875 69.140625 \nQ 20.953125 74.21875 31.78125 74.21875 \nQ 42.671875 74.21875 48.875 69.140625 \nQ 55.078125 64.0625 55.078125 55.328125 \nQ 55.078125 49.078125 51.53125 44.71875 \nQ 48 40.375 41.703125 38.8125 \nQ 48.828125 37.15625 52.796875 32.3125 \nQ 56.78125 27.484375 56.78125 20.515625 \nQ 56.78125 9.90625 50.3125 4.234375 \nQ 43.84375 -1.421875 31.78125 -1.421875 \nQ 19.734375 -1.421875 13.25 4.234375 \nQ 6.78125 9.90625 6.78125 20.515625 \nQ 6.78125 27.484375 10.78125 32.3125 \nQ 14.796875 37.15625 21.921875 38.8125 \nz\nM 18.3125 54.390625 \nQ 18.3125 48.734375 21.84375 45.5625 \nQ 25.390625 42.390625 31.78125 42.390625 \nQ 38.140625 42.390625 41.71875 45.5625 \nQ 45.3125 48.734375 45.3125 54.390625 \nQ 45.3125 60.0625 41.71875 63.234375 \nQ 38.140625 66.40625 31.78125 66.40625 \nQ 25.390625 66.40625 21.84375 63.234375 \nQ 18.3125 60.0625 18.3125 54.390625 \nz\n\" id=\"DejaVuSans-56\"/>\n      </defs>\n      <g transform=\"translate(57.420376 239.238437)scale(0.1 -0.1)\">\n       <use xlink:href=\"#DejaVuSans-8722\"/>\n       <use x=\"83.789062\" xlink:href=\"#DejaVuSans-56\"/>\n      </g>\n     </g>\n    </g>\n    <g id=\"xtick_2\">\n     <g id=\"line2d_2\">\n      <g>\n       <use style=\"stroke:#000000;stroke-width:0.8;\" x=\"103.170355\" xlink:href=\"#mebd210ceb4\" y=\"224.64\"/>\n      </g>\n     </g>\n     <g id=\"text_2\">\n      <!-- −6 -->\n      <defs>\n       <path d=\"M 33.015625 40.375 \nQ 26.375 40.375 22.484375 35.828125 \nQ 18.609375 31.296875 18.609375 23.390625 \nQ 18.609375 15.53125 22.484375 10.953125 \nQ 26.375 6.390625 33.015625 6.390625 \nQ 39.65625 6.390625 43.53125 10.953125 \nQ 47.40625 15.53125 47.40625 23.390625 \nQ 47.40625 31.296875 43.53125 35.828125 \nQ 39.65625 40.375 33.015625 40.375 \nz\nM 52.59375 71.296875 \nL 52.59375 62.3125 \nQ 48.875 64.0625 45.09375 64.984375 \nQ 41.3125 65.921875 37.59375 65.921875 \nQ 27.828125 65.921875 22.671875 59.328125 \nQ 17.53125 52.734375 16.796875 39.40625 \nQ 19.671875 43.65625 24.015625 45.921875 \nQ 28.375 48.1875 33.59375 48.1875 \nQ 44.578125 48.1875 50.953125 41.515625 \nQ 57.328125 34.859375 57.328125 23.390625 \nQ 57.328125 12.15625 50.6875 5.359375 \nQ 44.046875 -1.421875 33.015625 -1.421875 \nQ 20.359375 -1.421875 13.671875 8.265625 \nQ 6.984375 17.96875 6.984375 36.375 \nQ 6.984375 53.65625 15.1875 63.9375 \nQ 23.390625 74.21875 37.203125 74.21875 \nQ 40.921875 74.21875 44.703125 73.484375 \nQ 48.484375 72.75 52.59375 71.296875 \nz\n\" id=\"DejaVuSans-54\"/>\n      </defs>\n      <g transform=\"translate(95.799261 239.238437)scale(0.1 -0.1)\">\n       <use xlink:href=\"#DejaVuSans-8722\"/>\n       <use x=\"83.789062\" xlink:href=\"#DejaVuSans-54\"/>\n      </g>\n     </g>\n    </g>\n    <g id=\"xtick_3\">\n     <g id=\"line2d_3\">\n      <g>\n       <use style=\"stroke:#000000;stroke-width:0.8;\" x=\"141.549241\" xlink:href=\"#mebd210ceb4\" y=\"224.64\"/>\n      </g>\n     </g>\n     <g id=\"text_3\">\n      <!-- −4 -->\n      <defs>\n       <path d=\"M 37.796875 64.3125 \nL 12.890625 25.390625 \nL 37.796875 25.390625 \nz\nM 35.203125 72.90625 \nL 47.609375 72.90625 \nL 47.609375 25.390625 \nL 58.015625 25.390625 \nL 58.015625 17.1875 \nL 47.609375 17.1875 \nL 47.609375 0 \nL 37.796875 0 \nL 37.796875 17.1875 \nL 4.890625 17.1875 \nL 4.890625 26.703125 \nz\n\" id=\"DejaVuSans-52\"/>\n      </defs>\n      <g transform=\"translate(134.178147 239.238437)scale(0.1 -0.1)\">\n       <use xlink:href=\"#DejaVuSans-8722\"/>\n       <use x=\"83.789062\" xlink:href=\"#DejaVuSans-52\"/>\n      </g>\n     </g>\n    </g>\n    <g id=\"xtick_4\">\n     <g id=\"line2d_4\">\n      <g>\n       <use style=\"stroke:#000000;stroke-width:0.8;\" x=\"179.928127\" xlink:href=\"#mebd210ceb4\" y=\"224.64\"/>\n      </g>\n     </g>\n     <g id=\"text_4\">\n      <!-- −2 -->\n      <defs>\n       <path d=\"M 19.1875 8.296875 \nL 53.609375 8.296875 \nL 53.609375 0 \nL 7.328125 0 \nL 7.328125 8.296875 \nQ 12.9375 14.109375 22.625 23.890625 \nQ 32.328125 33.6875 34.8125 36.53125 \nQ 39.546875 41.84375 41.421875 45.53125 \nQ 43.3125 49.21875 43.3125 52.78125 \nQ 43.3125 58.59375 39.234375 62.25 \nQ 35.15625 65.921875 28.609375 65.921875 \nQ 23.96875 65.921875 18.8125 64.3125 \nQ 13.671875 62.703125 7.8125 59.421875 \nL 7.8125 69.390625 \nQ 13.765625 71.78125 18.9375 73 \nQ 24.125 74.21875 28.421875 74.21875 \nQ 39.75 74.21875 46.484375 68.546875 \nQ 53.21875 62.890625 53.21875 53.421875 \nQ 53.21875 48.921875 51.53125 44.890625 \nQ 49.859375 40.875 45.40625 35.40625 \nQ 44.1875 33.984375 37.640625 27.21875 \nQ 31.109375 20.453125 19.1875 8.296875 \nz\n\" id=\"DejaVuSans-50\"/>\n      </defs>\n      <g transform=\"translate(172.557033 239.238437)scale(0.1 -0.1)\">\n       <use xlink:href=\"#DejaVuSans-8722\"/>\n       <use x=\"83.789062\" xlink:href=\"#DejaVuSans-50\"/>\n      </g>\n     </g>\n    </g>\n    <g id=\"xtick_5\">\n     <g id=\"line2d_5\">\n      <g>\n       <use style=\"stroke:#000000;stroke-width:0.8;\" x=\"218.307013\" xlink:href=\"#mebd210ceb4\" y=\"224.64\"/>\n      </g>\n     </g>\n     <g id=\"text_5\">\n      <!-- 0 -->\n      <defs>\n       <path d=\"M 31.78125 66.40625 \nQ 24.171875 66.40625 20.328125 58.90625 \nQ 16.5 51.421875 16.5 36.375 \nQ 16.5 21.390625 20.328125 13.890625 \nQ 24.171875 6.390625 31.78125 6.390625 \nQ 39.453125 6.390625 43.28125 13.890625 \nQ 47.125 21.390625 47.125 36.375 \nQ 47.125 51.421875 43.28125 58.90625 \nQ 39.453125 66.40625 31.78125 66.40625 \nz\nM 31.78125 74.21875 \nQ 44.046875 74.21875 50.515625 64.515625 \nQ 56.984375 54.828125 56.984375 36.375 \nQ 56.984375 17.96875 50.515625 8.265625 \nQ 44.046875 -1.421875 31.78125 -1.421875 \nQ 19.53125 -1.421875 13.0625 8.265625 \nQ 6.59375 17.96875 6.59375 36.375 \nQ 6.59375 54.828125 13.0625 64.515625 \nQ 19.53125 74.21875 31.78125 74.21875 \nz\n\" id=\"DejaVuSans-48\"/>\n      </defs>\n      <g transform=\"translate(215.125763 239.238437)scale(0.1 -0.1)\">\n       <use xlink:href=\"#DejaVuSans-48\"/>\n      </g>\n     </g>\n    </g>\n    <g id=\"xtick_6\">\n     <g id=\"line2d_6\">\n      <g>\n       <use style=\"stroke:#000000;stroke-width:0.8;\" x=\"256.685899\" xlink:href=\"#mebd210ceb4\" y=\"224.64\"/>\n      </g>\n     </g>\n     <g id=\"text_6\">\n      <!-- 2 -->\n      <g transform=\"translate(253.504649 239.238437)scale(0.1 -0.1)\">\n       <use xlink:href=\"#DejaVuSans-50\"/>\n      </g>\n     </g>\n    </g>\n    <g id=\"xtick_7\">\n     <g id=\"line2d_7\">\n      <g>\n       <use style=\"stroke:#000000;stroke-width:0.8;\" x=\"295.064785\" xlink:href=\"#mebd210ceb4\" y=\"224.64\"/>\n      </g>\n     </g>\n     <g id=\"text_7\">\n      <!-- 4 -->\n      <g transform=\"translate(291.883535 239.238437)scale(0.1 -0.1)\">\n       <use xlink:href=\"#DejaVuSans-52\"/>\n      </g>\n     </g>\n    </g>\n    <g id=\"xtick_8\">\n     <g id=\"line2d_8\">\n      <g>\n       <use style=\"stroke:#000000;stroke-width:0.8;\" x=\"333.44367\" xlink:href=\"#mebd210ceb4\" y=\"224.64\"/>\n      </g>\n     </g>\n     <g id=\"text_8\">\n      <!-- 6 -->\n      <g transform=\"translate(330.26242 239.238437)scale(0.1 -0.1)\">\n       <use xlink:href=\"#DejaVuSans-54\"/>\n      </g>\n     </g>\n    </g>\n    <g id=\"xtick_9\">\n     <g id=\"line2d_9\">\n      <g>\n       <use style=\"stroke:#000000;stroke-width:0.8;\" x=\"371.822556\" xlink:href=\"#mebd210ceb4\" y=\"224.64\"/>\n      </g>\n     </g>\n     <g id=\"text_9\">\n      <!-- 8 -->\n      <g transform=\"translate(368.641306 239.238437)scale(0.1 -0.1)\">\n       <use xlink:href=\"#DejaVuSans-56\"/>\n      </g>\n     </g>\n    </g>\n   </g>\n   <g id=\"matplotlib.axis_2\">\n    <g id=\"ytick_1\">\n     <g id=\"line2d_10\">\n      <defs>\n       <path d=\"M 0 0 \nL -3.5 0 \n\" id=\"mb0e8bed32e\" style=\"stroke:#000000;stroke-width:0.8;\"/>\n      </defs>\n      <g>\n       <use style=\"stroke:#000000;stroke-width:0.8;\" x=\"44.845313\" xlink:href=\"#mb0e8bed32e\" y=\"219.944963\"/>\n      </g>\n     </g>\n     <g id=\"text_10\">\n      <!-- −15.0 -->\n      <defs>\n       <path d=\"M 12.40625 8.296875 \nL 28.515625 8.296875 \nL 28.515625 63.921875 \nL 10.984375 60.40625 \nL 10.984375 69.390625 \nL 28.421875 72.90625 \nL 38.28125 72.90625 \nL 38.28125 8.296875 \nL 54.390625 8.296875 \nL 54.390625 0 \nL 12.40625 0 \nz\n\" id=\"DejaVuSans-49\"/>\n       <path d=\"M 10.796875 72.90625 \nL 49.515625 72.90625 \nL 49.515625 64.59375 \nL 19.828125 64.59375 \nL 19.828125 46.734375 \nQ 21.96875 47.46875 24.109375 47.828125 \nQ 26.265625 48.1875 28.421875 48.1875 \nQ 40.625 48.1875 47.75 41.5 \nQ 54.890625 34.8125 54.890625 23.390625 \nQ 54.890625 11.625 47.5625 5.09375 \nQ 40.234375 -1.421875 26.90625 -1.421875 \nQ 22.3125 -1.421875 17.546875 -0.640625 \nQ 12.796875 0.140625 7.71875 1.703125 \nL 7.71875 11.625 \nQ 12.109375 9.234375 16.796875 8.0625 \nQ 21.484375 6.890625 26.703125 6.890625 \nQ 35.15625 6.890625 40.078125 11.328125 \nQ 45.015625 15.765625 45.015625 23.390625 \nQ 45.015625 31 40.078125 35.4375 \nQ 35.15625 39.890625 26.703125 39.890625 \nQ 22.75 39.890625 18.8125 39.015625 \nQ 14.890625 38.140625 10.796875 36.28125 \nz\n\" id=\"DejaVuSans-53\"/>\n       <path d=\"M 10.6875 12.40625 \nL 21 12.40625 \nL 21 0 \nL 10.6875 0 \nz\n\" id=\"DejaVuSans-46\"/>\n      </defs>\n      <g transform=\"translate(7.2 223.744181)scale(0.1 -0.1)\">\n       <use xlink:href=\"#DejaVuSans-8722\"/>\n       <use x=\"83.789062\" xlink:href=\"#DejaVuSans-49\"/>\n       <use x=\"147.412109\" xlink:href=\"#DejaVuSans-53\"/>\n       <use x=\"211.035156\" xlink:href=\"#DejaVuSans-46\"/>\n       <use x=\"242.822266\" xlink:href=\"#DejaVuSans-48\"/>\n      </g>\n     </g>\n    </g>\n    <g id=\"ytick_2\">\n     <g id=\"line2d_11\">\n      <g>\n       <use style=\"stroke:#000000;stroke-width:0.8;\" x=\"44.845313\" xlink:href=\"#mb0e8bed32e\" y=\"193.344714\"/>\n      </g>\n     </g>\n     <g id=\"text_11\">\n      <!-- −12.5 -->\n      <g transform=\"translate(7.2 197.143933)scale(0.1 -0.1)\">\n       <use xlink:href=\"#DejaVuSans-8722\"/>\n       <use x=\"83.789062\" xlink:href=\"#DejaVuSans-49\"/>\n       <use x=\"147.412109\" xlink:href=\"#DejaVuSans-50\"/>\n       <use x=\"211.035156\" xlink:href=\"#DejaVuSans-46\"/>\n       <use x=\"242.822266\" xlink:href=\"#DejaVuSans-53\"/>\n      </g>\n     </g>\n    </g>\n    <g id=\"ytick_3\">\n     <g id=\"line2d_12\">\n      <g>\n       <use style=\"stroke:#000000;stroke-width:0.8;\" x=\"44.845313\" xlink:href=\"#mb0e8bed32e\" y=\"166.744466\"/>\n      </g>\n     </g>\n     <g id=\"text_12\">\n      <!-- −10.0 -->\n      <g transform=\"translate(7.2 170.543685)scale(0.1 -0.1)\">\n       <use xlink:href=\"#DejaVuSans-8722\"/>\n       <use x=\"83.789062\" xlink:href=\"#DejaVuSans-49\"/>\n       <use x=\"147.412109\" xlink:href=\"#DejaVuSans-48\"/>\n       <use x=\"211.035156\" xlink:href=\"#DejaVuSans-46\"/>\n       <use x=\"242.822266\" xlink:href=\"#DejaVuSans-48\"/>\n      </g>\n     </g>\n    </g>\n    <g id=\"ytick_4\">\n     <g id=\"line2d_13\">\n      <g>\n       <use style=\"stroke:#000000;stroke-width:0.8;\" x=\"44.845313\" xlink:href=\"#mb0e8bed32e\" y=\"140.144218\"/>\n      </g>\n     </g>\n     <g id=\"text_13\">\n      <!-- −7.5 -->\n      <defs>\n       <path d=\"M 8.203125 72.90625 \nL 55.078125 72.90625 \nL 55.078125 68.703125 \nL 28.609375 0 \nL 18.3125 0 \nL 43.21875 64.59375 \nL 8.203125 64.59375 \nz\n\" id=\"DejaVuSans-55\"/>\n      </defs>\n      <g transform=\"translate(13.5625 143.943437)scale(0.1 -0.1)\">\n       <use xlink:href=\"#DejaVuSans-8722\"/>\n       <use x=\"83.789062\" xlink:href=\"#DejaVuSans-55\"/>\n       <use x=\"147.412109\" xlink:href=\"#DejaVuSans-46\"/>\n       <use x=\"179.199219\" xlink:href=\"#DejaVuSans-53\"/>\n      </g>\n     </g>\n    </g>\n    <g id=\"ytick_5\">\n     <g id=\"line2d_14\">\n      <g>\n       <use style=\"stroke:#000000;stroke-width:0.8;\" x=\"44.845313\" xlink:href=\"#mb0e8bed32e\" y=\"113.54397\"/>\n      </g>\n     </g>\n     <g id=\"text_14\">\n      <!-- −5.0 -->\n      <g transform=\"translate(13.5625 117.343189)scale(0.1 -0.1)\">\n       <use xlink:href=\"#DejaVuSans-8722\"/>\n       <use x=\"83.789062\" xlink:href=\"#DejaVuSans-53\"/>\n       <use x=\"147.412109\" xlink:href=\"#DejaVuSans-46\"/>\n       <use x=\"179.199219\" xlink:href=\"#DejaVuSans-48\"/>\n      </g>\n     </g>\n    </g>\n    <g id=\"ytick_6\">\n     <g id=\"line2d_15\">\n      <g>\n       <use style=\"stroke:#000000;stroke-width:0.8;\" x=\"44.845313\" xlink:href=\"#mb0e8bed32e\" y=\"86.943722\"/>\n      </g>\n     </g>\n     <g id=\"text_15\">\n      <!-- −2.5 -->\n      <g transform=\"translate(13.5625 90.742941)scale(0.1 -0.1)\">\n       <use xlink:href=\"#DejaVuSans-8722\"/>\n       <use x=\"83.789062\" xlink:href=\"#DejaVuSans-50\"/>\n       <use x=\"147.412109\" xlink:href=\"#DejaVuSans-46\"/>\n       <use x=\"179.199219\" xlink:href=\"#DejaVuSans-53\"/>\n      </g>\n     </g>\n    </g>\n    <g id=\"ytick_7\">\n     <g id=\"line2d_16\">\n      <g>\n       <use style=\"stroke:#000000;stroke-width:0.8;\" x=\"44.845313\" xlink:href=\"#mb0e8bed32e\" y=\"60.343474\"/>\n      </g>\n     </g>\n     <g id=\"text_16\">\n      <!-- 0.0 -->\n      <g transform=\"translate(21.942188 64.142693)scale(0.1 -0.1)\">\n       <use xlink:href=\"#DejaVuSans-48\"/>\n       <use x=\"63.623047\" xlink:href=\"#DejaVuSans-46\"/>\n       <use x=\"95.410156\" xlink:href=\"#DejaVuSans-48\"/>\n      </g>\n     </g>\n    </g>\n    <g id=\"ytick_8\">\n     <g id=\"line2d_17\">\n      <g>\n       <use style=\"stroke:#000000;stroke-width:0.8;\" x=\"44.845313\" xlink:href=\"#mb0e8bed32e\" y=\"33.743226\"/>\n      </g>\n     </g>\n     <g id=\"text_17\">\n      <!-- 2.5 -->\n      <g transform=\"translate(21.942188 37.542445)scale(0.1 -0.1)\">\n       <use xlink:href=\"#DejaVuSans-50\"/>\n       <use x=\"63.623047\" xlink:href=\"#DejaVuSans-46\"/>\n       <use x=\"95.410156\" xlink:href=\"#DejaVuSans-53\"/>\n      </g>\n     </g>\n    </g>\n   </g>\n   <g id=\"patch_3\">\n    <path d=\"M 44.845313 224.64 \nL 44.845313 7.2 \n\" style=\"fill:none;stroke:#000000;stroke-linecap:square;stroke-linejoin:miter;stroke-width:0.8;\"/>\n   </g>\n   <g id=\"patch_4\">\n    <path d=\"M 379.645313 224.64 \nL 379.645313 7.2 \n\" style=\"fill:none;stroke:#000000;stroke-linecap:square;stroke-linejoin:miter;stroke-width:0.8;\"/>\n   </g>\n   <g id=\"patch_5\">\n    <path d=\"M 44.845313 224.64 \nL 379.645313 224.64 \n\" style=\"fill:none;stroke:#000000;stroke-linecap:square;stroke-linejoin:miter;stroke-width:0.8;\"/>\n   </g>\n   <g id=\"patch_6\">\n    <path d=\"M 44.845313 7.2 \nL 379.645313 7.2 \n\" style=\"fill:none;stroke:#000000;stroke-linecap:square;stroke-linejoin:miter;stroke-width:0.8;\"/>\n   </g>\n  </g>\n </g>\n <defs>\n  <clipPath id=\"p49d5fc2475\">\n   <rect height=\"217.44\" width=\"334.8\" x=\"44.845313\" y=\"7.2\"/>\n  </clipPath>\n </defs>\n</svg>\n"
          },
          "metadata": {
            "needs_background": "light"
          }
        }
      ],
      "source": [
        "# prepare dataset\n",
        "X_train, y_train, X_test, y_test = prepare_data()\n"
      ]
    },
    {
      "cell_type": "markdown",
      "id": "780221cc-5e13-4fd9-a940-38d43232c17b",
      "metadata": {
        "id": "780221cc-5e13-4fd9-a940-38d43232c17b"
      },
      "source": [
        "- **Create a model with:**\n",
        "    -  1 hidden dense layer (50 neurons), activation relu, , kernel_initializer he_uniform\n",
        "    - 1 output layer\n",
        "    - compile the model with SGD (learning rate 0.01 and momentum 0.9) optimizer and categorical crossentropy and accuracy inside build function"
      ]
    },
    {
      "cell_type": "code",
      "execution_count": 36,
      "id": "72840561-d883-4b04-85c0-aa3c25d88767",
      "metadata": {
        "id": "72840561-d883-4b04-85c0-aa3c25d88767"
      },
      "outputs": [],
      "source": [
        "def build_model():\n",
        "    \n",
        "    ##### YOUR CODE HERE\n",
        "    # define model\n",
        "   model = tf.keras.Sequential([\n",
        "        tf.keras.layers.Dense(50, activation = \"relu\" , kernel_initializer = 'he_uniform'),\n",
        "        tf.keras.layers.Dense(3, activation = \"softmax\")])\n",
        "\n",
        "    # compile model\n",
        "   model.compile(tf.keras.optimizers.SGD(learning_rate=0.01, momentum=0.9), loss = 'CategoricalCrossentropy' ,metrics = \"accuracy\" )\n",
        "    \n",
        "   return model"
      ]
    },
    {
      "cell_type": "markdown",
      "id": "9f77f064-219f-4130-95d6-6f55c500d8aa",
      "metadata": {
        "id": "9f77f064-219f-4130-95d6-6f55c500d8aa"
      },
      "source": [
        "- Create a function to fit and build the model with different batch sizes"
      ]
    },
    {
      "cell_type": "markdown",
      "id": "36e5cb37-cf36-4f8f-9d2f-2adbeeea41bb",
      "metadata": {
        "id": "36e5cb37-cf36-4f8f-9d2f-2adbeeea41bb"
      },
      "source": [
        "Use epochs = 125"
      ]
    },
    {
      "cell_type": "code",
      "execution_count": 37,
      "id": "8b6d1185-925a-4a4e-9815-29a3ca1a62cf",
      "metadata": {
        "id": "8b6d1185-925a-4a4e-9815-29a3ca1a62cf"
      },
      "outputs": [],
      "source": [
        "# fit a model and plot learning curve\n",
        "def fit_model(X_train, y_train, X_test, y_test, n_batch):\n",
        "    ##### YOUR CODE HERE\n",
        "    # build model\n",
        "    model = build_model()\n",
        "    # fit model\n",
        "    history = model.fit(X_train , y_train , batch_size=n_batch,epochs=125, validation_data=(X_test,y_test))\n",
        "    return history"
      ]
    },
    {
      "cell_type": "markdown",
      "id": "b2539b4f-8829-4df1-9a45-a9c438a37baf",
      "metadata": {
        "id": "b2539b4f-8829-4df1-9a45-a9c438a37baf"
      },
      "source": [
        "### Hyperparameter Tuning"
      ]
    },
    {
      "cell_type": "markdown",
      "id": "fb875222-fd78-4ed5-a33f-a9c085bd5534",
      "metadata": {
        "jp-MarkdownHeadingCollapsed": true,
        "tags": [],
        "id": "fb875222-fd78-4ed5-a33f-a9c085bd5534"
      },
      "source": [
        "#### Batch size"
      ]
    },
    {
      "cell_type": "markdown",
      "id": "3c2c8424-0b59-45be-8bc3-0f310fb8ed30",
      "metadata": {
        "id": "3c2c8424-0b59-45be-8bc3-0f310fb8ed30"
      },
      "source": [
        "##### Size =  1"
      ]
    },
    {
      "cell_type": "markdown",
      "id": "77369330-70e7-41eb-a8ff-40eae827ea7d",
      "metadata": {
        "id": "77369330-70e7-41eb-a8ff-40eae827ea7d"
      },
      "source": [
        "10. **train for 1 batch size**"
      ]
    },
    {
      "cell_type": "code",
      "execution_count": null,
      "id": "a44f1126-7897-4cd8-bdce-b804948df69d",
      "metadata": {
        "id": "a44f1126-7897-4cd8-bdce-b804948df69d",
        "colab": {
          "base_uri": "https://localhost:8080/"
        },
        "outputId": "75694069-8ecb-4cab-ea02-d31a4376f1bb"
      },
      "outputs": [
        {
          "output_type": "stream",
          "name": "stdout",
          "text": [
            "Epoch 1/125\n",
            "500/500 [==============================] - 2s 3ms/step - loss: 1.7597 - accuracy: 0.6300 - val_loss: 0.8504 - val_accuracy: 0.6400\n",
            "Epoch 2/125\n",
            "500/500 [==============================] - 1s 3ms/step - loss: 0.7741 - accuracy: 0.6940 - val_loss: 0.7402 - val_accuracy: 0.5820\n",
            "Epoch 3/125\n",
            "500/500 [==============================] - 1s 3ms/step - loss: 0.8710 - accuracy: 0.6360 - val_loss: 1.0191 - val_accuracy: 0.5300\n",
            "Epoch 4/125\n",
            "500/500 [==============================] - 1s 3ms/step - loss: 0.8193 - accuracy: 0.6120 - val_loss: 0.4932 - val_accuracy: 0.8280\n",
            "Epoch 5/125\n",
            "500/500 [==============================] - 1s 3ms/step - loss: 0.9023 - accuracy: 0.6020 - val_loss: 0.9600 - val_accuracy: 0.5640\n",
            "Epoch 6/125\n",
            "500/500 [==============================] - 1s 2ms/step - loss: 0.8179 - accuracy: 0.6240 - val_loss: 0.7748 - val_accuracy: 0.6600\n",
            "Epoch 7/125\n",
            "500/500 [==============================] - 1s 2ms/step - loss: 0.8689 - accuracy: 0.5840 - val_loss: 0.9437 - val_accuracy: 0.5440\n",
            "Epoch 8/125\n",
            "500/500 [==============================] - 1s 3ms/step - loss: 0.9285 - accuracy: 0.5340 - val_loss: 0.8863 - val_accuracy: 0.6120\n",
            "Epoch 9/125\n",
            "500/500 [==============================] - 1s 2ms/step - loss: 0.8854 - accuracy: 0.6060 - val_loss: 0.9858 - val_accuracy: 0.5740\n",
            "Epoch 10/125\n",
            "500/500 [==============================] - 1s 3ms/step - loss: 0.8213 - accuracy: 0.6540 - val_loss: 0.7631 - val_accuracy: 0.6280\n",
            "Epoch 11/125\n",
            "500/500 [==============================] - 1s 2ms/step - loss: 0.9654 - accuracy: 0.5440 - val_loss: 0.9342 - val_accuracy: 0.5040\n",
            "Epoch 12/125\n",
            "500/500 [==============================] - 1s 3ms/step - loss: 0.9727 - accuracy: 0.5220 - val_loss: 0.8612 - val_accuracy: 0.5860\n",
            "Epoch 13/125\n",
            "500/500 [==============================] - 1s 2ms/step - loss: 0.8313 - accuracy: 0.5920 - val_loss: 0.8374 - val_accuracy: 0.6500\n",
            "Epoch 14/125\n",
            "500/500 [==============================] - 1s 3ms/step - loss: 0.8139 - accuracy: 0.6480 - val_loss: 1.1327 - val_accuracy: 0.5900\n",
            "Epoch 15/125\n",
            "500/500 [==============================] - 1s 2ms/step - loss: 0.9219 - accuracy: 0.5360 - val_loss: 0.8617 - val_accuracy: 0.6400\n",
            "Epoch 16/125\n",
            "500/500 [==============================] - 1s 3ms/step - loss: 1.0312 - accuracy: 0.4960 - val_loss: 1.0027 - val_accuracy: 0.5180\n",
            "Epoch 17/125\n",
            "500/500 [==============================] - 1s 2ms/step - loss: 1.0579 - accuracy: 0.5220 - val_loss: 0.9987 - val_accuracy: 0.4960\n",
            "Epoch 18/125\n",
            "500/500 [==============================] - 1s 3ms/step - loss: 1.0029 - accuracy: 0.4940 - val_loss: 0.9623 - val_accuracy: 0.5520\n",
            "Epoch 19/125\n",
            "500/500 [==============================] - 1s 2ms/step - loss: 0.8876 - accuracy: 0.6000 - val_loss: 0.9618 - val_accuracy: 0.5980\n",
            "Epoch 20/125\n",
            "500/500 [==============================] - 1s 3ms/step - loss: 0.8966 - accuracy: 0.5880 - val_loss: 0.9366 - val_accuracy: 0.5440\n",
            "Epoch 21/125\n",
            "500/500 [==============================] - 2s 3ms/step - loss: 0.9082 - accuracy: 0.6100 - val_loss: 1.4332 - val_accuracy: 0.5680\n",
            "Epoch 22/125\n",
            "500/500 [==============================] - 2s 4ms/step - loss: 0.9848 - accuracy: 0.5400 - val_loss: 0.8109 - val_accuracy: 0.6160\n",
            "Epoch 23/125\n",
            "500/500 [==============================] - 2s 5ms/step - loss: 0.8811 - accuracy: 0.5820 - val_loss: 0.7632 - val_accuracy: 0.6420\n",
            "Epoch 24/125\n",
            "500/500 [==============================] - 2s 4ms/step - loss: 0.8755 - accuracy: 0.5940 - val_loss: 0.8835 - val_accuracy: 0.6300\n",
            "Epoch 25/125\n",
            "500/500 [==============================] - 2s 4ms/step - loss: 1.0008 - accuracy: 0.5260 - val_loss: 0.9964 - val_accuracy: 0.5140\n",
            "Epoch 26/125\n",
            "500/500 [==============================] - 1s 3ms/step - loss: 0.9033 - accuracy: 0.5780 - val_loss: 0.9739 - val_accuracy: 0.5360\n",
            "Epoch 27/125\n",
            "500/500 [==============================] - 1s 2ms/step - loss: 0.8870 - accuracy: 0.5700 - val_loss: 0.8894 - val_accuracy: 0.5500\n",
            "Epoch 28/125\n",
            "500/500 [==============================] - 1s 2ms/step - loss: 0.8731 - accuracy: 0.5880 - val_loss: 0.9575 - val_accuracy: 0.5440\n",
            "Epoch 29/125\n",
            "500/500 [==============================] - 1s 3ms/step - loss: 0.9241 - accuracy: 0.5720 - val_loss: 1.3198 - val_accuracy: 0.5240\n",
            "Epoch 30/125\n",
            "500/500 [==============================] - 1s 3ms/step - loss: 0.9678 - accuracy: 0.5280 - val_loss: 1.0404 - val_accuracy: 0.4240\n",
            "Epoch 31/125\n",
            "500/500 [==============================] - 1s 2ms/step - loss: 0.9941 - accuracy: 0.5180 - val_loss: 0.8843 - val_accuracy: 0.6000\n",
            "Epoch 32/125\n",
            "500/500 [==============================] - 1s 2ms/step - loss: 1.0082 - accuracy: 0.4780 - val_loss: 0.8794 - val_accuracy: 0.5820\n",
            "Epoch 33/125\n",
            "500/500 [==============================] - 1s 3ms/step - loss: 0.9097 - accuracy: 0.5360 - val_loss: 0.8782 - val_accuracy: 0.6620\n",
            "Epoch 34/125\n",
            "500/500 [==============================] - 1s 2ms/step - loss: 1.0198 - accuracy: 0.5160 - val_loss: 0.9608 - val_accuracy: 0.5440\n",
            "Epoch 35/125\n",
            "500/500 [==============================] - 1s 3ms/step - loss: 1.0070 - accuracy: 0.5640 - val_loss: 1.0246 - val_accuracy: 0.5120\n",
            "Epoch 36/125\n",
            "500/500 [==============================] - 1s 2ms/step - loss: 0.9232 - accuracy: 0.5400 - val_loss: 0.7538 - val_accuracy: 0.7040\n",
            "Epoch 37/125\n",
            "500/500 [==============================] - 1s 3ms/step - loss: 0.8827 - accuracy: 0.5740 - val_loss: 0.9943 - val_accuracy: 0.6520\n",
            "Epoch 38/125\n",
            "500/500 [==============================] - 1s 2ms/step - loss: 1.0448 - accuracy: 0.4720 - val_loss: 1.0884 - val_accuracy: 0.4520\n",
            "Epoch 39/125\n",
            "500/500 [==============================] - 1s 3ms/step - loss: 0.9361 - accuracy: 0.5280 - val_loss: 0.9508 - val_accuracy: 0.6460\n",
            "Epoch 40/125\n",
            "500/500 [==============================] - 1s 2ms/step - loss: 1.0068 - accuracy: 0.5500 - val_loss: 1.0666 - val_accuracy: 0.5220\n",
            "Epoch 41/125\n",
            "500/500 [==============================] - 1s 2ms/step - loss: 0.9178 - accuracy: 0.5760 - val_loss: 0.9870 - val_accuracy: 0.6340\n",
            "Epoch 42/125\n",
            "500/500 [==============================] - 1s 3ms/step - loss: 0.9185 - accuracy: 0.6020 - val_loss: 0.7203 - val_accuracy: 0.7000\n",
            "Epoch 43/125\n",
            "500/500 [==============================] - 1s 2ms/step - loss: 0.9533 - accuracy: 0.5980 - val_loss: 0.8207 - val_accuracy: 0.6220\n",
            "Epoch 44/125\n",
            "500/500 [==============================] - 1s 2ms/step - loss: 0.8806 - accuracy: 0.6200 - val_loss: 0.6947 - val_accuracy: 0.7320\n",
            "Epoch 45/125\n",
            "500/500 [==============================] - 2s 4ms/step - loss: 0.8248 - accuracy: 0.6620 - val_loss: 0.7763 - val_accuracy: 0.6880\n",
            "Epoch 46/125\n",
            "500/500 [==============================] - 2s 3ms/step - loss: 0.8340 - accuracy: 0.6140 - val_loss: 0.9166 - val_accuracy: 0.7120\n",
            "Epoch 47/125\n",
            "500/500 [==============================] - 2s 4ms/step - loss: 1.0127 - accuracy: 0.5320 - val_loss: 0.9350 - val_accuracy: 0.4400\n",
            "Epoch 48/125\n",
            "500/500 [==============================] - 2s 4ms/step - loss: 0.9523 - accuracy: 0.6160 - val_loss: 2.5299 - val_accuracy: 0.5540\n",
            "Epoch 49/125\n",
            "500/500 [==============================] - 1s 3ms/step - loss: 0.9159 - accuracy: 0.5600 - val_loss: 1.0964 - val_accuracy: 0.5360\n",
            "Epoch 50/125\n",
            "500/500 [==============================] - 1s 3ms/step - loss: 0.9930 - accuracy: 0.5300 - val_loss: 0.9513 - val_accuracy: 0.6500\n",
            "Epoch 51/125\n",
            "500/500 [==============================] - 2s 4ms/step - loss: 0.9227 - accuracy: 0.5560 - val_loss: 0.8798 - val_accuracy: 0.5940\n",
            "Epoch 52/125\n",
            "500/500 [==============================] - 1s 2ms/step - loss: 0.8985 - accuracy: 0.5480 - val_loss: 0.9350 - val_accuracy: 0.5380\n",
            "Epoch 53/125\n",
            "500/500 [==============================] - 1s 2ms/step - loss: 0.9164 - accuracy: 0.5100 - val_loss: 0.9395 - val_accuracy: 0.5360\n",
            "Epoch 54/125\n",
            "500/500 [==============================] - 1s 3ms/step - loss: 0.8893 - accuracy: 0.5320 - val_loss: 1.0463 - val_accuracy: 0.6520\n",
            "Epoch 55/125\n",
            "500/500 [==============================] - 1s 3ms/step - loss: 0.9928 - accuracy: 0.5700 - val_loss: 0.8986 - val_accuracy: 0.5460\n",
            "Epoch 56/125\n",
            "500/500 [==============================] - 1s 3ms/step - loss: 1.0130 - accuracy: 0.5200 - val_loss: 0.9136 - val_accuracy: 0.5100\n",
            "Epoch 57/125\n",
            "500/500 [==============================] - 1s 2ms/step - loss: 0.9037 - accuracy: 0.5660 - val_loss: 1.0116 - val_accuracy: 0.6120\n",
            "Epoch 58/125\n",
            "500/500 [==============================] - 2s 3ms/step - loss: 0.9436 - accuracy: 0.5740 - val_loss: 0.8082 - val_accuracy: 0.5880\n",
            "Epoch 59/125\n",
            "500/500 [==============================] - 2s 3ms/step - loss: 0.9257 - accuracy: 0.5880 - val_loss: 0.9445 - val_accuracy: 0.5320\n",
            "Epoch 60/125\n",
            "500/500 [==============================] - 2s 5ms/step - loss: 0.8167 - accuracy: 0.6120 - val_loss: 0.8842 - val_accuracy: 0.6380\n",
            "Epoch 61/125\n",
            "500/500 [==============================] - 2s 5ms/step - loss: 0.8470 - accuracy: 0.6480 - val_loss: 0.9996 - val_accuracy: 0.5440\n",
            "Epoch 62/125\n",
            "500/500 [==============================] - 2s 5ms/step - loss: 0.8851 - accuracy: 0.5540 - val_loss: 0.9214 - val_accuracy: 0.5880\n",
            "Epoch 63/125\n",
            "500/500 [==============================] - 2s 4ms/step - loss: 0.9229 - accuracy: 0.5760 - val_loss: 0.9563 - val_accuracy: 0.6240\n",
            "Epoch 64/125\n",
            "500/500 [==============================] - 2s 4ms/step - loss: 0.9448 - accuracy: 0.5380 - val_loss: 0.9610 - val_accuracy: 0.5520\n",
            "Epoch 65/125\n",
            "500/500 [==============================] - 2s 4ms/step - loss: 0.9178 - accuracy: 0.5160 - val_loss: 0.9237 - val_accuracy: 0.5800\n",
            "Epoch 66/125\n",
            "500/500 [==============================] - 1s 3ms/step - loss: 0.9008 - accuracy: 0.5980 - val_loss: 0.6740 - val_accuracy: 0.7300\n",
            "Epoch 67/125\n",
            "500/500 [==============================] - 2s 3ms/step - loss: 0.8746 - accuracy: 0.5820 - val_loss: 1.2594 - val_accuracy: 0.4560\n",
            "Epoch 68/125\n",
            "500/500 [==============================] - 2s 5ms/step - loss: 0.9044 - accuracy: 0.5500 - val_loss: 0.9060 - val_accuracy: 0.5760\n",
            "Epoch 69/125\n",
            "500/500 [==============================] - 1s 3ms/step - loss: 0.9540 - accuracy: 0.5600 - val_loss: 0.6100 - val_accuracy: 0.7920\n",
            "Epoch 70/125\n",
            "500/500 [==============================] - 1s 3ms/step - loss: 0.8894 - accuracy: 0.5580 - val_loss: 0.6870 - val_accuracy: 0.7360\n",
            "Epoch 71/125\n",
            "500/500 [==============================] - 1s 3ms/step - loss: 0.8355 - accuracy: 0.5960 - val_loss: 0.8186 - val_accuracy: 0.5840\n",
            "Epoch 72/125\n",
            "500/500 [==============================] - 1s 3ms/step - loss: 0.9158 - accuracy: 0.5580 - val_loss: 0.9595 - val_accuracy: 0.5000\n",
            "Epoch 73/125\n",
            "500/500 [==============================] - 1s 3ms/step - loss: 0.9645 - accuracy: 0.5260 - val_loss: 1.0116 - val_accuracy: 0.4600\n",
            "Epoch 74/125\n",
            "500/500 [==============================] - 1s 2ms/step - loss: 0.9912 - accuracy: 0.4820 - val_loss: 0.9356 - val_accuracy: 0.4680\n",
            "Epoch 75/125\n",
            "500/500 [==============================] - 1s 2ms/step - loss: 0.9245 - accuracy: 0.5480 - val_loss: 1.0615 - val_accuracy: 0.4720\n",
            "Epoch 76/125\n",
            "500/500 [==============================] - 1s 2ms/step - loss: 1.0185 - accuracy: 0.4900 - val_loss: 1.0085 - val_accuracy: 0.5940\n",
            "Epoch 77/125\n",
            "500/500 [==============================] - 1s 3ms/step - loss: 0.8988 - accuracy: 0.6140 - val_loss: 0.8113 - val_accuracy: 0.6760\n",
            "Epoch 78/125\n",
            "500/500 [==============================] - 1s 3ms/step - loss: 0.8167 - accuracy: 0.6720 - val_loss: 0.8187 - val_accuracy: 0.6220\n",
            "Epoch 79/125\n",
            "500/500 [==============================] - 1s 2ms/step - loss: 0.9440 - accuracy: 0.6420 - val_loss: 1.0056 - val_accuracy: 0.5280\n",
            "Epoch 80/125\n",
            "500/500 [==============================] - 1s 2ms/step - loss: 1.0621 - accuracy: 0.4540 - val_loss: 0.9265 - val_accuracy: 0.5320\n",
            "Epoch 81/125\n",
            "500/500 [==============================] - 1s 3ms/step - loss: 1.0047 - accuracy: 0.4960 - val_loss: 1.0110 - val_accuracy: 0.4760\n",
            "Epoch 82/125\n",
            "500/500 [==============================] - 1s 2ms/step - loss: 0.9979 - accuracy: 0.4880 - val_loss: 1.0978 - val_accuracy: 0.5060\n",
            "Epoch 83/125\n",
            "500/500 [==============================] - 1s 3ms/step - loss: 1.0148 - accuracy: 0.4800 - val_loss: 0.9926 - val_accuracy: 0.4800\n",
            "Epoch 84/125\n",
            "500/500 [==============================] - 1s 3ms/step - loss: 0.9764 - accuracy: 0.4540 - val_loss: 1.1535 - val_accuracy: 0.5360\n",
            "Epoch 85/125\n",
            "500/500 [==============================] - 1s 3ms/step - loss: 1.0160 - accuracy: 0.5040 - val_loss: 0.9890 - val_accuracy: 0.5020\n",
            "Epoch 86/125\n",
            "500/500 [==============================] - 1s 2ms/step - loss: 0.9642 - accuracy: 0.5160 - val_loss: 1.0862 - val_accuracy: 0.5660\n",
            "Epoch 87/125\n",
            "500/500 [==============================] - 1s 3ms/step - loss: 1.0027 - accuracy: 0.5580 - val_loss: 0.9062 - val_accuracy: 0.5260\n",
            "Epoch 88/125\n",
            "500/500 [==============================] - 1s 3ms/step - loss: 1.0088 - accuracy: 0.5160 - val_loss: 1.0429 - val_accuracy: 0.5340\n",
            "Epoch 89/125\n",
            "500/500 [==============================] - 1s 3ms/step - loss: 0.9779 - accuracy: 0.5060 - val_loss: 1.0387 - val_accuracy: 0.6160\n",
            "Epoch 90/125\n",
            "500/500 [==============================] - 1s 3ms/step - loss: 0.8818 - accuracy: 0.5760 - val_loss: 0.9373 - val_accuracy: 0.4900\n",
            "Epoch 91/125\n",
            "500/500 [==============================] - 1s 3ms/step - loss: 0.9587 - accuracy: 0.5600 - val_loss: 1.0373 - val_accuracy: 0.5740\n",
            "Epoch 92/125\n",
            "500/500 [==============================] - 1s 2ms/step - loss: 0.8173 - accuracy: 0.6380 - val_loss: 1.3629 - val_accuracy: 0.3740\n",
            "Epoch 93/125\n",
            "500/500 [==============================] - 1s 2ms/step - loss: 1.0089 - accuracy: 0.5220 - val_loss: 0.9887 - val_accuracy: 0.5360\n",
            "Epoch 94/125\n",
            "500/500 [==============================] - 1s 3ms/step - loss: 0.9626 - accuracy: 0.4900 - val_loss: 1.0663 - val_accuracy: 0.5120\n",
            "Epoch 95/125\n",
            "500/500 [==============================] - 1s 2ms/step - loss: 1.0014 - accuracy: 0.4480 - val_loss: 0.9693 - val_accuracy: 0.4700\n",
            "Epoch 96/125\n",
            "500/500 [==============================] - 1s 3ms/step - loss: 0.9528 - accuracy: 0.4900 - val_loss: 0.8980 - val_accuracy: 0.5100\n",
            "Epoch 97/125\n",
            "500/500 [==============================] - 1s 2ms/step - loss: 0.8535 - accuracy: 0.5800 - val_loss: 0.9255 - val_accuracy: 0.6180\n",
            "Epoch 98/125\n",
            "500/500 [==============================] - 1s 3ms/step - loss: 0.8151 - accuracy: 0.6340 - val_loss: 0.9534 - val_accuracy: 0.5500\n",
            "Epoch 99/125\n",
            "500/500 [==============================] - 1s 3ms/step - loss: 0.8843 - accuracy: 0.5860 - val_loss: 1.0126 - val_accuracy: 0.5080\n",
            "Epoch 100/125\n",
            "500/500 [==============================] - 1s 3ms/step - loss: 0.9455 - accuracy: 0.5680 - val_loss: 1.0791 - val_accuracy: 0.4620\n",
            "Epoch 101/125\n",
            "500/500 [==============================] - 1s 3ms/step - loss: 1.0185 - accuracy: 0.5020 - val_loss: 1.0785 - val_accuracy: 0.4680\n",
            "Epoch 102/125\n",
            "500/500 [==============================] - 1s 3ms/step - loss: 0.9976 - accuracy: 0.5140 - val_loss: 1.0063 - val_accuracy: 0.5020\n",
            "Epoch 103/125\n",
            "500/500 [==============================] - 1s 3ms/step - loss: 1.0217 - accuracy: 0.4700 - val_loss: 1.0940 - val_accuracy: 0.5060\n",
            "Epoch 104/125\n",
            "500/500 [==============================] - 1s 2ms/step - loss: 0.9792 - accuracy: 0.4680 - val_loss: 1.0584 - val_accuracy: 0.4380\n",
            "Epoch 105/125\n",
            "500/500 [==============================] - 1s 3ms/step - loss: 0.8935 - accuracy: 0.5860 - val_loss: 1.2101 - val_accuracy: 0.5420\n",
            "Epoch 106/125\n",
            "500/500 [==============================] - 1s 2ms/step - loss: 0.9461 - accuracy: 0.5820 - val_loss: 0.9850 - val_accuracy: 0.5160\n",
            "Epoch 107/125\n",
            "500/500 [==============================] - 1s 3ms/step - loss: 0.9594 - accuracy: 0.5460 - val_loss: 1.1308 - val_accuracy: 0.5720\n",
            "Epoch 108/125\n",
            "500/500 [==============================] - 1s 2ms/step - loss: 0.9393 - accuracy: 0.6100 - val_loss: 0.8277 - val_accuracy: 0.5800\n",
            "Epoch 109/125\n",
            "500/500 [==============================] - 1s 3ms/step - loss: 0.8657 - accuracy: 0.6420 - val_loss: 1.1014 - val_accuracy: 0.4860\n",
            "Epoch 110/125\n",
            "500/500 [==============================] - 1s 2ms/step - loss: 1.0333 - accuracy: 0.4900 - val_loss: 0.9327 - val_accuracy: 0.5700\n",
            "Epoch 111/125\n",
            "500/500 [==============================] - 1s 3ms/step - loss: 0.9461 - accuracy: 0.5900 - val_loss: 1.6371 - val_accuracy: 0.4980\n",
            "Epoch 112/125\n",
            "500/500 [==============================] - 1s 2ms/step - loss: 0.9208 - accuracy: 0.5900 - val_loss: 0.9117 - val_accuracy: 0.5900\n",
            "Epoch 113/125\n",
            "500/500 [==============================] - 1s 3ms/step - loss: 0.7502 - accuracy: 0.6620 - val_loss: 0.7594 - val_accuracy: 0.6900\n",
            "Epoch 114/125\n",
            "500/500 [==============================] - 1s 2ms/step - loss: 0.9911 - accuracy: 0.6000 - val_loss: 0.7775 - val_accuracy: 0.6520\n",
            "Epoch 115/125\n",
            "500/500 [==============================] - 1s 2ms/step - loss: 0.9387 - accuracy: 0.5600 - val_loss: 0.9556 - val_accuracy: 0.4840\n",
            "Epoch 116/125\n",
            "500/500 [==============================] - 1s 2ms/step - loss: 1.0073 - accuracy: 0.5020 - val_loss: 0.9630 - val_accuracy: 0.5040\n",
            "Epoch 117/125\n",
            "500/500 [==============================] - 1s 2ms/step - loss: 0.9222 - accuracy: 0.5360 - val_loss: 0.9662 - val_accuracy: 0.6520\n",
            "Epoch 118/125\n",
            "500/500 [==============================] - 2s 4ms/step - loss: 0.8712 - accuracy: 0.5540 - val_loss: 0.8489 - val_accuracy: 0.6820\n",
            "Epoch 119/125\n",
            "500/500 [==============================] - 1s 3ms/step - loss: 0.9066 - accuracy: 0.6080 - val_loss: 0.8089 - val_accuracy: 0.6620\n",
            "Epoch 120/125\n",
            "500/500 [==============================] - 1s 3ms/step - loss: 0.8032 - accuracy: 0.6140 - val_loss: 0.7013 - val_accuracy: 0.7460\n",
            "Epoch 121/125\n",
            "500/500 [==============================] - 2s 4ms/step - loss: 0.8379 - accuracy: 0.6360 - val_loss: 0.8260 - val_accuracy: 0.6440\n",
            "Epoch 122/125\n",
            "500/500 [==============================] - 2s 5ms/step - loss: 0.7611 - accuracy: 0.6760 - val_loss: 0.8722 - val_accuracy: 0.6880\n",
            "Epoch 123/125\n",
            "500/500 [==============================] - 2s 3ms/step - loss: 0.8867 - accuracy: 0.6040 - val_loss: 0.9170 - val_accuracy: 0.4860\n",
            "Epoch 124/125\n",
            "500/500 [==============================] - 2s 4ms/step - loss: 0.8643 - accuracy: 0.5940 - val_loss: 0.9151 - val_accuracy: 0.5300\n",
            "Epoch 125/125\n",
            "500/500 [==============================] - 2s 3ms/step - loss: 0.8789 - accuracy: 0.5940 - val_loss: 1.0268 - val_accuracy: 0.5460\n"
          ]
        }
      ],
      "source": [
        "### START CODE HERE ### \n",
        "batch_size =1\n",
        "history = fit_model(X_train, y_train, X_test, y_test,batch_size)\n",
        "###### END CODE HERE"
      ]
    },
    {
      "cell_type": "code",
      "execution_count": null,
      "id": "022e2c92-7a62-49f9-aae2-790c5eae36e4",
      "metadata": {
        "tags": [],
        "id": "022e2c92-7a62-49f9-aae2-790c5eae36e4",
        "colab": {
          "base_uri": "https://localhost:8080/",
          "height": 350
        },
        "outputId": "7ef452b4-de0a-48cb-a859-19f8d656d8d4"
      },
      "outputs": [
        {
          "output_type": "display_data",
          "data": {
            "text/plain": [
              "<Figure size 720x360 with 1 Axes>"
            ],
            "image/png": "[encoded data removed]"
          },
          "metadata": {
            "needs_background": "light"
          }
        }
      ],
      "source": [
        "plt.figure(figsize=(10,5))\n",
        "plt.plot(history.history['loss'])\n",
        "plt.plot(history.history['val_loss'])\n",
        "plt.title('Loss vs. epochs, batch=' +str(batch_size))\n",
        "plt.ylabel('Loss')\n",
        "plt.xlabel('Epoch')\n",
        "plt.legend(['Training', 'Validation'], loc='upper right')\n",
        "plt.show()"
      ]
    },
    {
      "cell_type": "markdown",
      "id": "058a1cdc-e6ec-4fca-b87f-29a161f9986d",
      "metadata": {
        "id": "058a1cdc-e6ec-4fca-b87f-29a161f9986d"
      },
      "source": [
        "- **Diagnose this curve w.r.t learning rate**:\n",
        "    - ANSWER: the validation curve is fluctuating which means too small learning rate\n",
        "- Change learning rate to make this curve better"
      ]
    },
    {
      "cell_type": "code",
      "execution_count": null,
      "id": "74b641cb-d7b1-4806-a4f9-216006e06e77",
      "metadata": {
        "id": "74b641cb-d7b1-4806-a4f9-216006e06e77",
        "colab": {
          "base_uri": "https://localhost:8080/",
          "height": 1000
        },
        "outputId": "92932252-df83-4017-a689-fbbc3909ff22"
      },
      "outputs": [
        {
          "output_type": "stream",
          "name": "stdout",
          "text": [
            "Epoch 1/125\n",
            "500/500 [==============================] - 2s 3ms/step - loss: 1.7309 - accuracy: 0.5700 - val_loss: 1.1638 - val_accuracy: 0.6620\n",
            "Epoch 2/125\n",
            "500/500 [==============================] - 1s 3ms/step - loss: 0.9623 - accuracy: 0.6720 - val_loss: 0.6714 - val_accuracy: 0.7780\n",
            "Epoch 3/125\n",
            "500/500 [==============================] - 1s 3ms/step - loss: 0.6197 - accuracy: 0.7400 - val_loss: 0.5109 - val_accuracy: 0.8180\n",
            "Epoch 4/125\n",
            "500/500 [==============================] - 1s 2ms/step - loss: 0.5807 - accuracy: 0.7540 - val_loss: 0.4918 - val_accuracy: 0.8220\n",
            "Epoch 5/125\n",
            "500/500 [==============================] - 1s 3ms/step - loss: 0.5251 - accuracy: 0.7760 - val_loss: 0.4741 - val_accuracy: 0.8160\n",
            "Epoch 6/125\n",
            "500/500 [==============================] - 1s 3ms/step - loss: 0.5005 - accuracy: 0.7900 - val_loss: 0.5286 - val_accuracy: 0.7660\n",
            "Epoch 7/125\n",
            "500/500 [==============================] - 1s 3ms/step - loss: 0.4832 - accuracy: 0.7840 - val_loss: 0.4646 - val_accuracy: 0.8380\n",
            "Epoch 8/125\n",
            "500/500 [==============================] - 1s 3ms/step - loss: 0.4552 - accuracy: 0.7980 - val_loss: 0.4645 - val_accuracy: 0.8140\n",
            "Epoch 9/125\n",
            "500/500 [==============================] - 1s 3ms/step - loss: 0.4642 - accuracy: 0.7880 - val_loss: 0.5326 - val_accuracy: 0.7820\n",
            "Epoch 10/125\n",
            "500/500 [==============================] - 1s 2ms/step - loss: 0.4697 - accuracy: 0.8040 - val_loss: 0.4448 - val_accuracy: 0.8160\n",
            "Epoch 11/125\n",
            "500/500 [==============================] - 1s 2ms/step - loss: 0.4523 - accuracy: 0.8160 - val_loss: 0.6113 - val_accuracy: 0.7200\n",
            "Epoch 12/125\n",
            "500/500 [==============================] - 1s 3ms/step - loss: 0.4369 - accuracy: 0.8000 - val_loss: 0.4403 - val_accuracy: 0.8180\n",
            "Epoch 13/125\n",
            "500/500 [==============================] - 1s 2ms/step - loss: 0.4406 - accuracy: 0.8200 - val_loss: 0.4296 - val_accuracy: 0.8320\n",
            "Epoch 14/125\n",
            "500/500 [==============================] - 1s 3ms/step - loss: 0.4592 - accuracy: 0.7980 - val_loss: 0.4224 - val_accuracy: 0.8320\n",
            "Epoch 15/125\n",
            "500/500 [==============================] - 1s 3ms/step - loss: 0.4429 - accuracy: 0.8240 - val_loss: 0.4539 - val_accuracy: 0.8160\n",
            "Epoch 16/125\n",
            "500/500 [==============================] - 1s 2ms/step - loss: 0.4407 - accuracy: 0.8000 - val_loss: 0.4370 - val_accuracy: 0.8200\n",
            "Epoch 17/125\n",
            "500/500 [==============================] - 1s 3ms/step - loss: 0.4342 - accuracy: 0.8180 - val_loss: 0.4358 - val_accuracy: 0.8340\n",
            "Epoch 18/125\n",
            "500/500 [==============================] - 1s 2ms/step - loss: 0.4367 - accuracy: 0.7960 - val_loss: 0.4498 - val_accuracy: 0.8180\n",
            "Epoch 19/125\n",
            "500/500 [==============================] - 1s 3ms/step - loss: 0.4651 - accuracy: 0.8020 - val_loss: 0.4303 - val_accuracy: 0.8260\n",
            "Epoch 20/125\n",
            "500/500 [==============================] - 1s 3ms/step - loss: 0.4320 - accuracy: 0.8060 - val_loss: 0.4506 - val_accuracy: 0.8300\n",
            "Epoch 21/125\n",
            "500/500 [==============================] - 1s 2ms/step - loss: 0.4434 - accuracy: 0.7940 - val_loss: 0.4278 - val_accuracy: 0.8340\n",
            "Epoch 22/125\n",
            "500/500 [==============================] - 1s 2ms/step - loss: 0.4302 - accuracy: 0.8060 - val_loss: 0.4301 - val_accuracy: 0.8240\n",
            "Epoch 23/125\n",
            "500/500 [==============================] - 1s 3ms/step - loss: 0.4296 - accuracy: 0.8200 - val_loss: 0.4502 - val_accuracy: 0.8240\n",
            "Epoch 24/125\n",
            "500/500 [==============================] - 1s 2ms/step - loss: 0.4453 - accuracy: 0.8100 - val_loss: 0.4209 - val_accuracy: 0.8220\n",
            "Epoch 25/125\n",
            "500/500 [==============================] - 1s 3ms/step - loss: 0.4303 - accuracy: 0.8140 - val_loss: 0.4660 - val_accuracy: 0.8080\n",
            "Epoch 26/125\n",
            "500/500 [==============================] - 1s 2ms/step - loss: 0.4280 - accuracy: 0.8120 - val_loss: 0.4327 - val_accuracy: 0.8140\n",
            "Epoch 27/125\n",
            "500/500 [==============================] - 1s 2ms/step - loss: 0.4377 - accuracy: 0.8000 - val_loss: 0.4167 - val_accuracy: 0.8300\n",
            "Epoch 28/125\n",
            "500/500 [==============================] - 1s 2ms/step - loss: 0.4253 - accuracy: 0.8220 - val_loss: 0.4278 - val_accuracy: 0.8300\n",
            "Epoch 29/125\n",
            "500/500 [==============================] - 1s 2ms/step - loss: 0.4304 - accuracy: 0.8060 - val_loss: 0.5098 - val_accuracy: 0.7940\n",
            "Epoch 30/125\n",
            "500/500 [==============================] - 1s 3ms/step - loss: 0.4333 - accuracy: 0.8180 - val_loss: 0.4242 - val_accuracy: 0.8200\n",
            "Epoch 31/125\n",
            "500/500 [==============================] - 1s 3ms/step - loss: 0.4342 - accuracy: 0.8180 - val_loss: 0.4167 - val_accuracy: 0.8260\n",
            "Epoch 32/125\n",
            "500/500 [==============================] - 1s 3ms/step - loss: 0.4211 - accuracy: 0.8160 - val_loss: 0.4348 - val_accuracy: 0.8280\n",
            "Epoch 33/125\n",
            "500/500 [==============================] - 1s 3ms/step - loss: 0.4263 - accuracy: 0.8100 - val_loss: 0.4599 - val_accuracy: 0.8100\n",
            "Epoch 34/125\n",
            "500/500 [==============================] - 1s 3ms/step - loss: 0.4343 - accuracy: 0.8020 - val_loss: 0.4185 - val_accuracy: 0.8200\n",
            "Epoch 35/125\n",
            "500/500 [==============================] - 1s 3ms/step - loss: 0.4265 - accuracy: 0.8100 - val_loss: 0.4998 - val_accuracy: 0.7860\n",
            "Epoch 36/125\n",
            "500/500 [==============================] - 1s 3ms/step - loss: 0.4353 - accuracy: 0.7980 - val_loss: 0.4469 - val_accuracy: 0.8220\n",
            "Epoch 37/125\n",
            "500/500 [==============================] - 1s 2ms/step - loss: 0.4201 - accuracy: 0.8200 - val_loss: 0.4632 - val_accuracy: 0.8180\n",
            "Epoch 38/125\n",
            "500/500 [==============================] - 1s 3ms/step - loss: 0.4274 - accuracy: 0.8200 - val_loss: 0.4241 - val_accuracy: 0.8300\n",
            "Epoch 39/125\n",
            "500/500 [==============================] - 1s 3ms/step - loss: 0.4278 - accuracy: 0.8140 - val_loss: 0.4380 - val_accuracy: 0.8280\n",
            "Epoch 40/125\n",
            "500/500 [==============================] - 1s 3ms/step - loss: 0.4300 - accuracy: 0.8100 - val_loss: 0.4906 - val_accuracy: 0.7540\n",
            "Epoch 41/125\n",
            "500/500 [==============================] - 1s 3ms/step - loss: 0.4284 - accuracy: 0.8160 - val_loss: 0.4166 - val_accuracy: 0.8240\n",
            "Epoch 42/125\n",
            "500/500 [==============================] - 1s 3ms/step - loss: 0.4197 - accuracy: 0.8240 - val_loss: 0.4469 - val_accuracy: 0.8300\n",
            "Epoch 43/125\n",
            "500/500 [==============================] - 1s 2ms/step - loss: 0.4231 - accuracy: 0.8160 - val_loss: 0.4141 - val_accuracy: 0.8340\n",
            "Epoch 44/125\n",
            "500/500 [==============================] - 1s 3ms/step - loss: 0.4123 - accuracy: 0.8160 - val_loss: 0.4668 - val_accuracy: 0.8100\n",
            "Epoch 45/125\n",
            "500/500 [==============================] - 1s 2ms/step - loss: 0.4142 - accuracy: 0.8200 - val_loss: 0.4203 - val_accuracy: 0.8340\n",
            "Epoch 46/125\n",
            "500/500 [==============================] - 1s 3ms/step - loss: 0.4246 - accuracy: 0.8120 - val_loss: 0.4166 - val_accuracy: 0.8300\n",
            "Epoch 47/125\n",
            "500/500 [==============================] - 1s 3ms/step - loss: 0.4290 - accuracy: 0.8100 - val_loss: 0.4115 - val_accuracy: 0.8200\n",
            "Epoch 48/125\n",
            "500/500 [==============================] - 1s 3ms/step - loss: 0.4165 - accuracy: 0.8200 - val_loss: 0.4667 - val_accuracy: 0.8220\n",
            "Epoch 49/125\n",
            "500/500 [==============================] - 1s 3ms/step - loss: 0.4196 - accuracy: 0.8140 - val_loss: 0.4492 - val_accuracy: 0.8160\n",
            "Epoch 50/125\n",
            "500/500 [==============================] - 1s 2ms/step - loss: 0.4118 - accuracy: 0.8200 - val_loss: 0.4928 - val_accuracy: 0.7940\n",
            "Epoch 51/125\n",
            "500/500 [==============================] - 1s 2ms/step - loss: 0.4324 - accuracy: 0.8080 - val_loss: 0.4169 - val_accuracy: 0.8240\n",
            "Epoch 52/125\n",
            "500/500 [==============================] - 1s 3ms/step - loss: 0.4142 - accuracy: 0.8140 - val_loss: 0.4389 - val_accuracy: 0.8160\n",
            "Epoch 53/125\n",
            "500/500 [==============================] - 1s 2ms/step - loss: 0.4258 - accuracy: 0.8080 - val_loss: 0.4104 - val_accuracy: 0.8280\n",
            "Epoch 54/125\n",
            "500/500 [==============================] - 1s 3ms/step - loss: 0.4077 - accuracy: 0.8140 - val_loss: 0.4228 - val_accuracy: 0.8280\n",
            "Epoch 55/125\n",
            "500/500 [==============================] - 1s 3ms/step - loss: 0.4090 - accuracy: 0.8080 - val_loss: 0.4306 - val_accuracy: 0.8260\n",
            "Epoch 56/125\n",
            "500/500 [==============================] - 1s 3ms/step - loss: 0.4282 - accuracy: 0.8140 - val_loss: 0.4374 - val_accuracy: 0.8300\n",
            "Epoch 57/125\n",
            "500/500 [==============================] - 1s 3ms/step - loss: 0.4072 - accuracy: 0.8300 - val_loss: 0.4218 - val_accuracy: 0.8240\n",
            "Epoch 58/125\n",
            "500/500 [==============================] - 1s 2ms/step - loss: 0.4036 - accuracy: 0.8260 - val_loss: 0.4757 - val_accuracy: 0.8220\n",
            "Epoch 59/125\n",
            "500/500 [==============================] - 1s 2ms/step - loss: 0.4227 - accuracy: 0.8120 - val_loss: 0.4227 - val_accuracy: 0.8240\n",
            "Epoch 60/125\n",
            "500/500 [==============================] - 1s 2ms/step - loss: 0.4104 - accuracy: 0.8300 - val_loss: 0.4369 - val_accuracy: 0.8280\n",
            "Epoch 61/125\n",
            "500/500 [==============================] - 1s 2ms/step - loss: 0.4241 - accuracy: 0.8120 - val_loss: 0.4259 - val_accuracy: 0.8240\n",
            "Epoch 62/125\n",
            "500/500 [==============================] - 1s 3ms/step - loss: 0.4213 - accuracy: 0.8280 - val_loss: 0.4063 - val_accuracy: 0.8280\n",
            "Epoch 63/125\n",
            "500/500 [==============================] - 1s 2ms/step - loss: 0.4131 - accuracy: 0.8240 - val_loss: 0.4403 - val_accuracy: 0.8200\n",
            "Epoch 64/125\n",
            "500/500 [==============================] - 1s 3ms/step - loss: 0.3971 - accuracy: 0.8260 - val_loss: 0.4769 - val_accuracy: 0.8120\n",
            "Epoch 65/125\n",
            "500/500 [==============================] - 1s 2ms/step - loss: 0.4076 - accuracy: 0.8080 - val_loss: 0.4331 - val_accuracy: 0.8260\n",
            "Epoch 66/125\n",
            "500/500 [==============================] - 1s 3ms/step - loss: 0.4075 - accuracy: 0.8200 - val_loss: 0.4406 - val_accuracy: 0.8220\n",
            "Epoch 67/125\n",
            "500/500 [==============================] - 1s 3ms/step - loss: 0.4070 - accuracy: 0.8240 - val_loss: 0.4716 - val_accuracy: 0.8160\n",
            "Epoch 68/125\n",
            "500/500 [==============================] - 1s 3ms/step - loss: 0.3964 - accuracy: 0.8320 - val_loss: 0.4099 - val_accuracy: 0.8340\n",
            "Epoch 69/125\n",
            "500/500 [==============================] - 2s 5ms/step - loss: 0.4118 - accuracy: 0.8180 - val_loss: 0.4253 - val_accuracy: 0.8220\n",
            "Epoch 70/125\n",
            "500/500 [==============================] - 2s 5ms/step - loss: 0.4028 - accuracy: 0.8340 - val_loss: 0.4156 - val_accuracy: 0.8240\n",
            "Epoch 71/125\n",
            "500/500 [==============================] - 1s 3ms/step - loss: 0.4185 - accuracy: 0.8180 - val_loss: 0.4354 - val_accuracy: 0.8220\n",
            "Epoch 72/125\n",
            "500/500 [==============================] - 1s 3ms/step - loss: 0.4120 - accuracy: 0.8120 - val_loss: 0.4219 - val_accuracy: 0.8320\n",
            "Epoch 73/125\n",
            "500/500 [==============================] - 1s 3ms/step - loss: 0.4183 - accuracy: 0.8160 - val_loss: 0.4635 - val_accuracy: 0.8120\n",
            "Epoch 74/125\n",
            "500/500 [==============================] - 1s 2ms/step - loss: 0.4016 - accuracy: 0.8220 - val_loss: 0.4567 - val_accuracy: 0.8260\n",
            "Epoch 75/125\n",
            "500/500 [==============================] - 1s 3ms/step - loss: 0.4165 - accuracy: 0.8240 - val_loss: 0.4186 - val_accuracy: 0.8220\n",
            "Epoch 76/125\n",
            "500/500 [==============================] - 1s 2ms/step - loss: 0.4077 - accuracy: 0.8160 - val_loss: 0.4733 - val_accuracy: 0.8020\n",
            "Epoch 77/125\n",
            "500/500 [==============================] - 1s 2ms/step - loss: 0.4048 - accuracy: 0.8260 - val_loss: 0.4356 - val_accuracy: 0.8180\n",
            "Epoch 78/125\n",
            "500/500 [==============================] - 1s 3ms/step - loss: 0.4005 - accuracy: 0.8200 - val_loss: 0.4673 - val_accuracy: 0.8120\n",
            "Epoch 79/125\n",
            "500/500 [==============================] - 1s 3ms/step - loss: 0.4060 - accuracy: 0.7940 - val_loss: 0.4980 - val_accuracy: 0.7980\n",
            "Epoch 80/125\n",
            "500/500 [==============================] - 1s 3ms/step - loss: 0.4144 - accuracy: 0.8160 - val_loss: 0.4348 - val_accuracy: 0.8280\n",
            "Epoch 81/125\n",
            "500/500 [==============================] - 1s 2ms/step - loss: 0.4133 - accuracy: 0.8160 - val_loss: 0.4487 - val_accuracy: 0.8180\n",
            "Epoch 82/125\n",
            "500/500 [==============================] - 2s 4ms/step - loss: 0.4179 - accuracy: 0.8240 - val_loss: 0.4319 - val_accuracy: 0.8200\n",
            "Epoch 83/125\n",
            "500/500 [==============================] - 2s 3ms/step - loss: 0.4108 - accuracy: 0.8020 - val_loss: 0.4483 - val_accuracy: 0.8400\n",
            "Epoch 84/125\n",
            "500/500 [==============================] - 1s 3ms/step - loss: 0.4084 - accuracy: 0.8220 - val_loss: 0.4350 - val_accuracy: 0.8260\n",
            "Epoch 85/125\n",
            "500/500 [==============================] - 1s 2ms/step - loss: 0.3956 - accuracy: 0.8080 - val_loss: 0.4738 - val_accuracy: 0.8100\n",
            "Epoch 86/125\n",
            "500/500 [==============================] - 1s 3ms/step - loss: 0.4007 - accuracy: 0.8100 - val_loss: 0.4175 - val_accuracy: 0.8240\n",
            "Epoch 87/125\n",
            "500/500 [==============================] - 1s 3ms/step - loss: 0.4051 - accuracy: 0.8100 - val_loss: 0.4386 - val_accuracy: 0.8220\n",
            "Epoch 88/125\n",
            "500/500 [==============================] - 1s 2ms/step - loss: 0.4075 - accuracy: 0.8080 - val_loss: 0.4304 - val_accuracy: 0.8280\n",
            "Epoch 89/125\n",
            "500/500 [==============================] - 1s 3ms/step - loss: 0.4065 - accuracy: 0.8300 - val_loss: 0.4315 - val_accuracy: 0.8240\n",
            "Epoch 90/125\n",
            "500/500 [==============================] - 1s 3ms/step - loss: 0.3968 - accuracy: 0.8280 - val_loss: 0.4171 - val_accuracy: 0.8300\n",
            "Epoch 91/125\n",
            "500/500 [==============================] - 1s 3ms/step - loss: 0.4047 - accuracy: 0.8160 - val_loss: 0.4393 - val_accuracy: 0.8200\n",
            "Epoch 92/125\n",
            "500/500 [==============================] - 1s 3ms/step - loss: 0.3992 - accuracy: 0.8140 - val_loss: 0.4422 - val_accuracy: 0.8240\n",
            "Epoch 93/125\n",
            "500/500 [==============================] - 2s 5ms/step - loss: 0.4086 - accuracy: 0.8160 - val_loss: 0.4462 - val_accuracy: 0.8300\n",
            "Epoch 94/125\n",
            "500/500 [==============================] - 2s 3ms/step - loss: 0.4019 - accuracy: 0.8260 - val_loss: 0.4854 - val_accuracy: 0.8200\n",
            "Epoch 95/125\n",
            "500/500 [==============================] - 1s 2ms/step - loss: 0.3977 - accuracy: 0.8180 - val_loss: 0.5130 - val_accuracy: 0.7800\n",
            "Epoch 96/125\n",
            "500/500 [==============================] - 1s 3ms/step - loss: 0.4066 - accuracy: 0.8140 - val_loss: 0.4477 - val_accuracy: 0.8200\n",
            "Epoch 97/125\n",
            "500/500 [==============================] - 1s 3ms/step - loss: 0.4112 - accuracy: 0.8200 - val_loss: 0.4467 - val_accuracy: 0.8220\n",
            "Epoch 98/125\n",
            "500/500 [==============================] - 1s 3ms/step - loss: 0.4035 - accuracy: 0.8040 - val_loss: 0.4495 - val_accuracy: 0.8180\n",
            "Epoch 99/125\n",
            "500/500 [==============================] - 1s 3ms/step - loss: 0.3998 - accuracy: 0.8300 - val_loss: 0.4371 - val_accuracy: 0.8320\n",
            "Epoch 100/125\n",
            "500/500 [==============================] - 1s 3ms/step - loss: 0.4095 - accuracy: 0.8080 - val_loss: 0.4756 - val_accuracy: 0.8000\n",
            "Epoch 101/125\n",
            "500/500 [==============================] - 1s 3ms/step - loss: 0.3993 - accuracy: 0.8180 - val_loss: 0.4461 - val_accuracy: 0.8160\n",
            "Epoch 102/125\n",
            "500/500 [==============================] - 1s 2ms/step - loss: 0.4007 - accuracy: 0.8100 - val_loss: 0.4577 - val_accuracy: 0.8240\n",
            "Epoch 103/125\n",
            "500/500 [==============================] - 1s 2ms/step - loss: 0.4070 - accuracy: 0.8340 - val_loss: 0.4740 - val_accuracy: 0.8140\n",
            "Epoch 104/125\n",
            "500/500 [==============================] - 1s 3ms/step - loss: 0.4063 - accuracy: 0.8160 - val_loss: 0.4405 - val_accuracy: 0.8220\n",
            "Epoch 105/125\n",
            "500/500 [==============================] - 1s 2ms/step - loss: 0.4016 - accuracy: 0.8180 - val_loss: 0.4676 - val_accuracy: 0.8120\n",
            "Epoch 106/125\n",
            "500/500 [==============================] - 1s 3ms/step - loss: 0.4047 - accuracy: 0.8320 - val_loss: 0.4334 - val_accuracy: 0.8180\n",
            "Epoch 107/125\n",
            "500/500 [==============================] - 1s 2ms/step - loss: 0.4117 - accuracy: 0.8000 - val_loss: 0.4372 - val_accuracy: 0.8260\n",
            "Epoch 108/125\n",
            "500/500 [==============================] - 1s 3ms/step - loss: 0.4064 - accuracy: 0.8100 - val_loss: 0.4510 - val_accuracy: 0.8140\n",
            "Epoch 109/125\n",
            "500/500 [==============================] - 1s 3ms/step - loss: 0.3989 - accuracy: 0.8280 - val_loss: 0.4732 - val_accuracy: 0.7980\n",
            "Epoch 110/125\n",
            "500/500 [==============================] - 1s 3ms/step - loss: 0.3975 - accuracy: 0.8220 - val_loss: 0.4566 - val_accuracy: 0.8220\n",
            "Epoch 111/125\n",
            "500/500 [==============================] - 1s 2ms/step - loss: 0.3979 - accuracy: 0.8280 - val_loss: 0.4461 - val_accuracy: 0.8220\n",
            "Epoch 112/125\n",
            "500/500 [==============================] - 1s 2ms/step - loss: 0.4012 - accuracy: 0.8300 - val_loss: 0.4438 - val_accuracy: 0.8220\n",
            "Epoch 113/125\n",
            "500/500 [==============================] - 1s 3ms/step - loss: 0.4010 - accuracy: 0.8160 - val_loss: 0.4335 - val_accuracy: 0.8160\n",
            "Epoch 114/125\n",
            "500/500 [==============================] - 1s 3ms/step - loss: 0.3936 - accuracy: 0.8240 - val_loss: 0.4616 - val_accuracy: 0.8380\n",
            "Epoch 115/125\n",
            "500/500 [==============================] - 1s 2ms/step - loss: 0.4097 - accuracy: 0.8160 - val_loss: 0.4383 - val_accuracy: 0.8180\n",
            "Epoch 116/125\n",
            "500/500 [==============================] - 1s 3ms/step - loss: 0.4007 - accuracy: 0.8220 - val_loss: 0.4496 - val_accuracy: 0.8140\n",
            "Epoch 117/125\n",
            "500/500 [==============================] - 1s 3ms/step - loss: 0.3926 - accuracy: 0.8240 - val_loss: 0.4352 - val_accuracy: 0.8260\n",
            "Epoch 118/125\n",
            "500/500 [==============================] - 1s 3ms/step - loss: 0.4048 - accuracy: 0.8220 - val_loss: 0.4418 - val_accuracy: 0.8240\n",
            "Epoch 119/125\n",
            "500/500 [==============================] - 1s 2ms/step - loss: 0.4011 - accuracy: 0.8160 - val_loss: 0.4289 - val_accuracy: 0.8200\n",
            "Epoch 120/125\n",
            "500/500 [==============================] - 1s 3ms/step - loss: 0.3980 - accuracy: 0.8180 - val_loss: 0.4399 - val_accuracy: 0.8200\n",
            "Epoch 121/125\n",
            "500/500 [==============================] - 1s 3ms/step - loss: 0.4086 - accuracy: 0.8180 - val_loss: 0.4740 - val_accuracy: 0.8080\n",
            "Epoch 122/125\n",
            "500/500 [==============================] - 1s 3ms/step - loss: 0.4096 - accuracy: 0.8200 - val_loss: 0.4543 - val_accuracy: 0.8200\n",
            "Epoch 123/125\n",
            "500/500 [==============================] - 1s 3ms/step - loss: 0.3987 - accuracy: 0.8140 - val_loss: 0.4386 - val_accuracy: 0.8220\n",
            "Epoch 124/125\n",
            "500/500 [==============================] - 1s 2ms/step - loss: 0.3991 - accuracy: 0.8100 - val_loss: 0.4363 - val_accuracy: 0.8320\n",
            "Epoch 125/125\n",
            "500/500 [==============================] - 1s 3ms/step - loss: 0.3926 - accuracy: 0.8160 - val_loss: 0.4319 - val_accuracy: 0.8240\n"
          ]
        },
        {
          "output_type": "display_data",
          "data": {
            "text/plain": [
              "<Figure size 720x360 with 1 Axes>"
            ],
            "image/png": "[encoded data removed]"
          },
          "metadata": {
            "needs_background": "light"
          }
        }
      ],
      "source": [
        "### Your answer\n",
        "def build_model():\n",
        "    \n",
        "    ##### YOUR CODE HERE\n",
        "    # define model\n",
        "   model = tf.keras.Sequential([\n",
        "        tf.keras.layers.Dense(50, activation = \"relu\" , kernel_initializer = 'he_uniform'),\n",
        "        tf.keras.layers.Dense(3, activation = \"softmax\")])\n",
        "\n",
        "    # compile model\n",
        "   model.compile(tf.keras.optimizers.SGD(learning_rate=0.001, momentum=0.9), loss = 'CategoricalCrossentropy' ,metrics = \"accuracy\" )\n",
        "    \n",
        "   return model\n",
        "def fit_model(X_train, y_train, X_test, y_test, n_batch):\n",
        "    ##### YOUR CODE HERE\n",
        "    # build model\n",
        "    model = build_model()\n",
        "    # fit model\n",
        "    history = model.fit(X_train , y_train , batch_size=n_batch,epochs=125, validation_data=(X_test,y_test))\n",
        "    return history\n",
        "batch_size =1\n",
        "history = fit_model(X_train, y_train, X_test, y_test,batch_size)\n",
        "plt.figure(figsize=(10,5))\n",
        "plt.plot(history.history['loss'])\n",
        "plt.plot(history.history['val_loss'])\n",
        "plt.title('Loss vs. epochs, batch=' +str(batch_size))\n",
        "plt.ylabel('Loss')\n",
        "plt.xlabel('Epoch')\n",
        "plt.legend(['Training', 'Validation'], loc='upper right')\n",
        "plt.show()"
      ]
    },
    {
      "cell_type": "markdown",
      "id": "ca24463c-6d6d-4dce-b365-1e0a10cbb6b9",
      "metadata": {
        "tags": [],
        "id": "ca24463c-6d6d-4dce-b365-1e0a10cbb6b9"
      },
      "source": [
        "##### Size =  16"
      ]
    },
    {
      "cell_type": "code",
      "source": [
        "def build_model():\n",
        "    \n",
        "    ##### YOUR CODE HERE\n",
        "    # define model\n",
        "   model = tf.keras.Sequential([\n",
        "        tf.keras.layers.Dense(50, activation = \"relu\" , kernel_initializer = 'he_uniform'),\n",
        "        tf.keras.layers.Dense(3, activation = \"softmax\")])\n",
        "\n",
        "    # compile model\n",
        "   model.compile(tf.keras.optimizers.SGD(learning_rate=0.001, momentum=0.9), loss = 'CategoricalCrossentropy' ,metrics = \"accuracy\" )\n",
        "    \n",
        "   return model\n",
        "def fit_model(X_train, y_train, X_test, y_test, n_batch):\n",
        "    ##### YOUR CODE HERE\n",
        "    # build model\n",
        "    model = build_model()\n",
        "    # fit model\n",
        "    history = model.fit(X_train , y_train , batch_size=n_batch,epochs=125, validation_data=(X_test,y_test))\n",
        "    return history"
      ],
      "metadata": {
        "id": "PTj2yWSProCx"
      },
      "id": "PTj2yWSProCx",
      "execution_count": null,
      "outputs": []
    },
    {
      "cell_type": "markdown",
      "id": "c9d3f83a-edf8-4f61-a0fe-db3261ace6ab",
      "metadata": {
        "id": "c9d3f83a-edf8-4f61-a0fe-db3261ace6ab"
      },
      "source": [
        "10. **Retrain for 16 batch size**"
      ]
    },
    {
      "cell_type": "code",
      "execution_count": null,
      "id": "589fd6d3-6c4d-48ed-b5db-9e3d931725d0",
      "metadata": {
        "id": "589fd6d3-6c4d-48ed-b5db-9e3d931725d0",
        "colab": {
          "base_uri": "https://localhost:8080/"
        },
        "outputId": "50cda174-c032-4594-a93c-37160f41c59f"
      },
      "outputs": [
        {
          "output_type": "stream",
          "name": "stdout",
          "text": [
            "Epoch 1/125\n",
            "32/32 [==============================] - 1s 8ms/step - loss: 1.6916 - accuracy: 0.4900 - val_loss: 0.7655 - val_accuracy: 0.6700\n",
            "Epoch 2/125\n",
            "32/32 [==============================] - 0s 4ms/step - loss: 0.8417 - accuracy: 0.6180 - val_loss: 0.8202 - val_accuracy: 0.6480\n",
            "Epoch 3/125\n",
            "32/32 [==============================] - 0s 3ms/step - loss: 0.8697 - accuracy: 0.6180 - val_loss: 0.6753 - val_accuracy: 0.6880\n",
            "Epoch 4/125\n",
            "32/32 [==============================] - 0s 4ms/step - loss: 0.7662 - accuracy: 0.6300 - val_loss: 0.6349 - val_accuracy: 0.7060\n",
            "Epoch 5/125\n",
            "32/32 [==============================] - 0s 4ms/step - loss: 0.7035 - accuracy: 0.6420 - val_loss: 0.6168 - val_accuracy: 0.7180\n",
            "Epoch 6/125\n",
            "32/32 [==============================] - 0s 3ms/step - loss: 0.7378 - accuracy: 0.6540 - val_loss: 0.7067 - val_accuracy: 0.7040\n",
            "Epoch 7/125\n",
            "32/32 [==============================] - 0s 4ms/step - loss: 0.7220 - accuracy: 0.6360 - val_loss: 0.6029 - val_accuracy: 0.7180\n",
            "Epoch 8/125\n",
            "32/32 [==============================] - 0s 4ms/step - loss: 0.6614 - accuracy: 0.6680 - val_loss: 0.5967 - val_accuracy: 0.7320\n",
            "Epoch 9/125\n",
            "32/32 [==============================] - 0s 4ms/step - loss: 0.6514 - accuracy: 0.6780 - val_loss: 0.6342 - val_accuracy: 0.6980\n",
            "Epoch 10/125\n",
            "32/32 [==============================] - 0s 3ms/step - loss: 0.6740 - accuracy: 0.6540 - val_loss: 0.6034 - val_accuracy: 0.7280\n",
            "Epoch 11/125\n",
            "32/32 [==============================] - 0s 4ms/step - loss: 0.7683 - accuracy: 0.6440 - val_loss: 0.6692 - val_accuracy: 0.7140\n",
            "Epoch 12/125\n",
            "32/32 [==============================] - 0s 4ms/step - loss: 0.6691 - accuracy: 0.6800 - val_loss: 0.6941 - val_accuracy: 0.6800\n",
            "Epoch 13/125\n",
            "32/32 [==============================] - 0s 4ms/step - loss: 0.6881 - accuracy: 0.6900 - val_loss: 0.5770 - val_accuracy: 0.7420\n",
            "Epoch 14/125\n",
            "32/32 [==============================] - 0s 4ms/step - loss: 0.6384 - accuracy: 0.7180 - val_loss: 0.5689 - val_accuracy: 0.7680\n",
            "Epoch 15/125\n",
            "32/32 [==============================] - 0s 3ms/step - loss: 0.6347 - accuracy: 0.6940 - val_loss: 0.5861 - val_accuracy: 0.7300\n",
            "Epoch 16/125\n",
            "32/32 [==============================] - 0s 4ms/step - loss: 0.7023 - accuracy: 0.6720 - val_loss: 0.6105 - val_accuracy: 0.7440\n",
            "Epoch 17/125\n",
            "32/32 [==============================] - 0s 3ms/step - loss: 0.6036 - accuracy: 0.7260 - val_loss: 0.7251 - val_accuracy: 0.6740\n",
            "Epoch 18/125\n",
            "32/32 [==============================] - 0s 3ms/step - loss: 0.6969 - accuracy: 0.6760 - val_loss: 0.5534 - val_accuracy: 0.7940\n",
            "Epoch 19/125\n",
            "32/32 [==============================] - 0s 4ms/step - loss: 0.6052 - accuracy: 0.7040 - val_loss: 0.5619 - val_accuracy: 0.7380\n",
            "Epoch 20/125\n",
            "32/32 [==============================] - 0s 4ms/step - loss: 0.5757 - accuracy: 0.7420 - val_loss: 0.5316 - val_accuracy: 0.8040\n",
            "Epoch 21/125\n",
            "32/32 [==============================] - 0s 4ms/step - loss: 0.5763 - accuracy: 0.7400 - val_loss: 0.5738 - val_accuracy: 0.7340\n",
            "Epoch 22/125\n",
            "32/32 [==============================] - 0s 4ms/step - loss: 0.5779 - accuracy: 0.7480 - val_loss: 0.5603 - val_accuracy: 0.8180\n",
            "Epoch 23/125\n",
            "32/32 [==============================] - 0s 4ms/step - loss: 0.5916 - accuracy: 0.7240 - val_loss: 0.5516 - val_accuracy: 0.7480\n",
            "Epoch 24/125\n",
            "32/32 [==============================] - 0s 4ms/step - loss: 0.6245 - accuracy: 0.7240 - val_loss: 0.5379 - val_accuracy: 0.7540\n",
            "Epoch 25/125\n",
            "32/32 [==============================] - 0s 4ms/step - loss: 0.5711 - accuracy: 0.7420 - val_loss: 0.6225 - val_accuracy: 0.7600\n",
            "Epoch 26/125\n",
            "32/32 [==============================] - 0s 3ms/step - loss: 0.5644 - accuracy: 0.7500 - val_loss: 0.5159 - val_accuracy: 0.8100\n",
            "Epoch 27/125\n",
            "32/32 [==============================] - 0s 4ms/step - loss: 0.5574 - accuracy: 0.7440 - val_loss: 0.5108 - val_accuracy: 0.7980\n",
            "Epoch 28/125\n",
            "32/32 [==============================] - 0s 3ms/step - loss: 0.5645 - accuracy: 0.7360 - val_loss: 0.5040 - val_accuracy: 0.8140\n",
            "Epoch 29/125\n",
            "32/32 [==============================] - 0s 4ms/step - loss: 0.5405 - accuracy: 0.7500 - val_loss: 0.5083 - val_accuracy: 0.7900\n",
            "Epoch 30/125\n",
            "32/32 [==============================] - 0s 5ms/step - loss: 0.5407 - accuracy: 0.7700 - val_loss: 0.5354 - val_accuracy: 0.8260\n",
            "Epoch 31/125\n",
            "32/32 [==============================] - 0s 4ms/step - loss: 0.5798 - accuracy: 0.7380 - val_loss: 0.5590 - val_accuracy: 0.7380\n",
            "Epoch 32/125\n",
            "32/32 [==============================] - 0s 3ms/step - loss: 0.5475 - accuracy: 0.7700 - val_loss: 0.5213 - val_accuracy: 0.8080\n",
            "Epoch 33/125\n",
            "32/32 [==============================] - 0s 4ms/step - loss: 0.5494 - accuracy: 0.7360 - val_loss: 0.5247 - val_accuracy: 0.8180\n",
            "Epoch 34/125\n",
            "32/32 [==============================] - 0s 3ms/step - loss: 0.5905 - accuracy: 0.7460 - val_loss: 0.5678 - val_accuracy: 0.7340\n",
            "Epoch 35/125\n",
            "32/32 [==============================] - 0s 4ms/step - loss: 0.5262 - accuracy: 0.7660 - val_loss: 0.4888 - val_accuracy: 0.8080\n",
            "Epoch 36/125\n",
            "32/32 [==============================] - 0s 3ms/step - loss: 0.5154 - accuracy: 0.7780 - val_loss: 0.4833 - val_accuracy: 0.8220\n",
            "Epoch 37/125\n",
            "32/32 [==============================] - 0s 4ms/step - loss: 0.5216 - accuracy: 0.7760 - val_loss: 0.4756 - val_accuracy: 0.8160\n",
            "Epoch 38/125\n",
            "32/32 [==============================] - 0s 3ms/step - loss: 0.5261 - accuracy: 0.7820 - val_loss: 0.4777 - val_accuracy: 0.8220\n",
            "Epoch 39/125\n",
            "32/32 [==============================] - 0s 4ms/step - loss: 0.5073 - accuracy: 0.7760 - val_loss: 0.5081 - val_accuracy: 0.7840\n",
            "Epoch 40/125\n",
            "32/32 [==============================] - 0s 4ms/step - loss: 0.5142 - accuracy: 0.7900 - val_loss: 0.4782 - val_accuracy: 0.8080\n",
            "Epoch 41/125\n",
            "32/32 [==============================] - 0s 4ms/step - loss: 0.5360 - accuracy: 0.7520 - val_loss: 0.4758 - val_accuracy: 0.8180\n",
            "Epoch 42/125\n",
            "32/32 [==============================] - 0s 3ms/step - loss: 0.5372 - accuracy: 0.7540 - val_loss: 0.4729 - val_accuracy: 0.8220\n",
            "Epoch 43/125\n",
            "32/32 [==============================] - 0s 4ms/step - loss: 0.5228 - accuracy: 0.7700 - val_loss: 0.4698 - val_accuracy: 0.8220\n",
            "Epoch 44/125\n",
            "32/32 [==============================] - 0s 3ms/step - loss: 0.5558 - accuracy: 0.7520 - val_loss: 0.4876 - val_accuracy: 0.8020\n",
            "Epoch 45/125\n",
            "32/32 [==============================] - 0s 4ms/step - loss: 0.5218 - accuracy: 0.7640 - val_loss: 0.4837 - val_accuracy: 0.7920\n",
            "Epoch 46/125\n",
            "32/32 [==============================] - 0s 3ms/step - loss: 0.5075 - accuracy: 0.7760 - val_loss: 0.4637 - val_accuracy: 0.8360\n",
            "Epoch 47/125\n",
            "32/32 [==============================] - 0s 4ms/step - loss: 0.5030 - accuracy: 0.7900 - val_loss: 0.4582 - val_accuracy: 0.8220\n",
            "Epoch 48/125\n",
            "32/32 [==============================] - 0s 3ms/step - loss: 0.4926 - accuracy: 0.7820 - val_loss: 0.4565 - val_accuracy: 0.8240\n",
            "Epoch 49/125\n",
            "32/32 [==============================] - 0s 3ms/step - loss: 0.5024 - accuracy: 0.7840 - val_loss: 0.5401 - val_accuracy: 0.7860\n",
            "Epoch 50/125\n",
            "32/32 [==============================] - 0s 4ms/step - loss: 0.5023 - accuracy: 0.7860 - val_loss: 0.4725 - val_accuracy: 0.7980\n",
            "Epoch 51/125\n",
            "32/32 [==============================] - 0s 3ms/step - loss: 0.4714 - accuracy: 0.7980 - val_loss: 0.5306 - val_accuracy: 0.7860\n",
            "Epoch 52/125\n",
            "32/32 [==============================] - 0s 3ms/step - loss: 0.5092 - accuracy: 0.7780 - val_loss: 0.4561 - val_accuracy: 0.8260\n",
            "Epoch 53/125\n",
            "32/32 [==============================] - 0s 4ms/step - loss: 0.4857 - accuracy: 0.8040 - val_loss: 0.5157 - val_accuracy: 0.8020\n",
            "Epoch 54/125\n",
            "32/32 [==============================] - 0s 3ms/step - loss: 0.5021 - accuracy: 0.7700 - val_loss: 0.4698 - val_accuracy: 0.8000\n",
            "Epoch 55/125\n",
            "32/32 [==============================] - 0s 4ms/step - loss: 0.4907 - accuracy: 0.7880 - val_loss: 0.4609 - val_accuracy: 0.8160\n",
            "Epoch 56/125\n",
            "32/32 [==============================] - 0s 3ms/step - loss: 0.4827 - accuracy: 0.8000 - val_loss: 0.4459 - val_accuracy: 0.8200\n",
            "Epoch 57/125\n",
            "32/32 [==============================] - 0s 3ms/step - loss: 0.4784 - accuracy: 0.7920 - val_loss: 0.5120 - val_accuracy: 0.7900\n",
            "Epoch 58/125\n",
            "32/32 [==============================] - 0s 3ms/step - loss: 0.5076 - accuracy: 0.7680 - val_loss: 0.4534 - val_accuracy: 0.8300\n",
            "Epoch 59/125\n",
            "32/32 [==============================] - 0s 3ms/step - loss: 0.4664 - accuracy: 0.7960 - val_loss: 0.4397 - val_accuracy: 0.8340\n",
            "Epoch 60/125\n",
            "32/32 [==============================] - 0s 3ms/step - loss: 0.5049 - accuracy: 0.7900 - val_loss: 0.5208 - val_accuracy: 0.7760\n",
            "Epoch 61/125\n",
            "32/32 [==============================] - 0s 3ms/step - loss: 0.5034 - accuracy: 0.7880 - val_loss: 0.4417 - val_accuracy: 0.8200\n",
            "Epoch 62/125\n",
            "32/32 [==============================] - 0s 4ms/step - loss: 0.4806 - accuracy: 0.8000 - val_loss: 0.4738 - val_accuracy: 0.8080\n",
            "Epoch 63/125\n",
            "32/32 [==============================] - 0s 3ms/step - loss: 0.4531 - accuracy: 0.8140 - val_loss: 0.4398 - val_accuracy: 0.8320\n",
            "Epoch 64/125\n",
            "32/32 [==============================] - 0s 3ms/step - loss: 0.4545 - accuracy: 0.8060 - val_loss: 0.4619 - val_accuracy: 0.8240\n",
            "Epoch 65/125\n",
            "32/32 [==============================] - 0s 4ms/step - loss: 0.4562 - accuracy: 0.7980 - val_loss: 0.4355 - val_accuracy: 0.8240\n",
            "Epoch 66/125\n",
            "32/32 [==============================] - 0s 3ms/step - loss: 0.4609 - accuracy: 0.8080 - val_loss: 0.4358 - val_accuracy: 0.8260\n",
            "Epoch 67/125\n",
            "32/32 [==============================] - 0s 3ms/step - loss: 0.4775 - accuracy: 0.8000 - val_loss: 0.4380 - val_accuracy: 0.8240\n",
            "Epoch 68/125\n",
            "32/32 [==============================] - 0s 4ms/step - loss: 0.4544 - accuracy: 0.8160 - val_loss: 0.4309 - val_accuracy: 0.8340\n",
            "Epoch 69/125\n",
            "32/32 [==============================] - 0s 4ms/step - loss: 0.4496 - accuracy: 0.8060 - val_loss: 0.4367 - val_accuracy: 0.8320\n",
            "Epoch 70/125\n",
            "32/32 [==============================] - 0s 3ms/step - loss: 0.4447 - accuracy: 0.8120 - val_loss: 0.4285 - val_accuracy: 0.8240\n",
            "Epoch 71/125\n",
            "32/32 [==============================] - 0s 4ms/step - loss: 0.4715 - accuracy: 0.8100 - val_loss: 0.4305 - val_accuracy: 0.8220\n",
            "Epoch 72/125\n",
            "32/32 [==============================] - 0s 4ms/step - loss: 0.4445 - accuracy: 0.8140 - val_loss: 0.4308 - val_accuracy: 0.8160\n",
            "Epoch 73/125\n",
            "32/32 [==============================] - 0s 4ms/step - loss: 0.4614 - accuracy: 0.8160 - val_loss: 0.4353 - val_accuracy: 0.8220\n",
            "Epoch 74/125\n",
            "32/32 [==============================] - 0s 3ms/step - loss: 0.4553 - accuracy: 0.8060 - val_loss: 0.4523 - val_accuracy: 0.8120\n",
            "Epoch 75/125\n",
            "32/32 [==============================] - 0s 4ms/step - loss: 0.4590 - accuracy: 0.8180 - val_loss: 0.4267 - val_accuracy: 0.8220\n",
            "Epoch 76/125\n",
            "32/32 [==============================] - 0s 3ms/step - loss: 0.4750 - accuracy: 0.7860 - val_loss: 0.4348 - val_accuracy: 0.8220\n",
            "Epoch 77/125\n",
            "32/32 [==============================] - 0s 4ms/step - loss: 0.4553 - accuracy: 0.8040 - val_loss: 0.4309 - val_accuracy: 0.8260\n",
            "Epoch 78/125\n",
            "32/32 [==============================] - 0s 4ms/step - loss: 0.4434 - accuracy: 0.8180 - val_loss: 0.4166 - val_accuracy: 0.8400\n",
            "Epoch 79/125\n",
            "32/32 [==============================] - 0s 3ms/step - loss: 0.4509 - accuracy: 0.7960 - val_loss: 0.4750 - val_accuracy: 0.7980\n",
            "Epoch 80/125\n",
            "32/32 [==============================] - 0s 4ms/step - loss: 0.4806 - accuracy: 0.7800 - val_loss: 0.4265 - val_accuracy: 0.8220\n",
            "Epoch 81/125\n",
            "32/32 [==============================] - 0s 3ms/step - loss: 0.4658 - accuracy: 0.8020 - val_loss: 0.4336 - val_accuracy: 0.8340\n",
            "Epoch 82/125\n",
            "32/32 [==============================] - 0s 4ms/step - loss: 0.4297 - accuracy: 0.8260 - val_loss: 0.4220 - val_accuracy: 0.8320\n",
            "Epoch 83/125\n",
            "32/32 [==============================] - 0s 4ms/step - loss: 0.4356 - accuracy: 0.8120 - val_loss: 0.4270 - val_accuracy: 0.8180\n",
            "Epoch 84/125\n",
            "32/32 [==============================] - 0s 4ms/step - loss: 0.4501 - accuracy: 0.8120 - val_loss: 0.4564 - val_accuracy: 0.8040\n",
            "Epoch 85/125\n",
            "32/32 [==============================] - 0s 4ms/step - loss: 0.4448 - accuracy: 0.8100 - val_loss: 0.4439 - val_accuracy: 0.8180\n",
            "Epoch 86/125\n",
            "32/32 [==============================] - 0s 5ms/step - loss: 0.4724 - accuracy: 0.7900 - val_loss: 0.4295 - val_accuracy: 0.8320\n",
            "Epoch 87/125\n",
            "32/32 [==============================] - 0s 4ms/step - loss: 0.4340 - accuracy: 0.8180 - val_loss: 0.4241 - val_accuracy: 0.8280\n",
            "Epoch 88/125\n",
            "32/32 [==============================] - 0s 4ms/step - loss: 0.4337 - accuracy: 0.8140 - val_loss: 0.4386 - val_accuracy: 0.8320\n",
            "Epoch 89/125\n",
            "32/32 [==============================] - 0s 4ms/step - loss: 0.4420 - accuracy: 0.8160 - val_loss: 0.4289 - val_accuracy: 0.8340\n",
            "Epoch 90/125\n",
            "32/32 [==============================] - 0s 4ms/step - loss: 0.4530 - accuracy: 0.8160 - val_loss: 0.4470 - val_accuracy: 0.8160\n",
            "Epoch 91/125\n",
            "32/32 [==============================] - 0s 4ms/step - loss: 0.4439 - accuracy: 0.8020 - val_loss: 0.5635 - val_accuracy: 0.7420\n",
            "Epoch 92/125\n",
            "32/32 [==============================] - 0s 3ms/step - loss: 0.4446 - accuracy: 0.8200 - val_loss: 0.4424 - val_accuracy: 0.8300\n",
            "Epoch 93/125\n",
            "32/32 [==============================] - 0s 4ms/step - loss: 0.4456 - accuracy: 0.8060 - val_loss: 0.4184 - val_accuracy: 0.8300\n",
            "Epoch 94/125\n",
            "32/32 [==============================] - 0s 4ms/step - loss: 0.4274 - accuracy: 0.8180 - val_loss: 0.4176 - val_accuracy: 0.8300\n",
            "Epoch 95/125\n",
            "32/32 [==============================] - 0s 3ms/step - loss: 0.4404 - accuracy: 0.8000 - val_loss: 0.4972 - val_accuracy: 0.7860\n",
            "Epoch 96/125\n",
            "32/32 [==============================] - 0s 4ms/step - loss: 0.4470 - accuracy: 0.8060 - val_loss: 0.4798 - val_accuracy: 0.8080\n",
            "Epoch 97/125\n",
            "32/32 [==============================] - 0s 4ms/step - loss: 0.4764 - accuracy: 0.7980 - val_loss: 0.4169 - val_accuracy: 0.8320\n",
            "Epoch 98/125\n",
            "32/32 [==============================] - 0s 3ms/step - loss: 0.4336 - accuracy: 0.8080 - val_loss: 0.4330 - val_accuracy: 0.8280\n",
            "Epoch 99/125\n",
            "32/32 [==============================] - 0s 4ms/step - loss: 0.4361 - accuracy: 0.8080 - val_loss: 0.4136 - val_accuracy: 0.8300\n",
            "Epoch 100/125\n",
            "32/32 [==============================] - 0s 3ms/step - loss: 0.4464 - accuracy: 0.8080 - val_loss: 0.4330 - val_accuracy: 0.8200\n",
            "Epoch 101/125\n",
            "32/32 [==============================] - 0s 4ms/step - loss: 0.4436 - accuracy: 0.8060 - val_loss: 0.4262 - val_accuracy: 0.8260\n",
            "Epoch 102/125\n",
            "32/32 [==============================] - 0s 3ms/step - loss: 0.4476 - accuracy: 0.8180 - val_loss: 0.4222 - val_accuracy: 0.8340\n",
            "Epoch 103/125\n",
            "32/32 [==============================] - 0s 4ms/step - loss: 0.4487 - accuracy: 0.8040 - val_loss: 0.4425 - val_accuracy: 0.8300\n",
            "Epoch 104/125\n",
            "32/32 [==============================] - 0s 4ms/step - loss: 0.4308 - accuracy: 0.8060 - val_loss: 0.4537 - val_accuracy: 0.8080\n",
            "Epoch 105/125\n",
            "32/32 [==============================] - 0s 4ms/step - loss: 0.4480 - accuracy: 0.8160 - val_loss: 0.4318 - val_accuracy: 0.8240\n",
            "Epoch 106/125\n",
            "32/32 [==============================] - 0s 4ms/step - loss: 0.4194 - accuracy: 0.8100 - val_loss: 0.4195 - val_accuracy: 0.8240\n",
            "Epoch 107/125\n",
            "32/32 [==============================] - 0s 3ms/step - loss: 0.4262 - accuracy: 0.8280 - val_loss: 0.4189 - val_accuracy: 0.8280\n",
            "Epoch 108/125\n",
            "32/32 [==============================] - 0s 3ms/step - loss: 0.4336 - accuracy: 0.8220 - val_loss: 0.4145 - val_accuracy: 0.8340\n",
            "Epoch 109/125\n",
            "32/32 [==============================] - 0s 4ms/step - loss: 0.4255 - accuracy: 0.8080 - val_loss: 0.5817 - val_accuracy: 0.7220\n",
            "Epoch 110/125\n",
            "32/32 [==============================] - 0s 3ms/step - loss: 0.4636 - accuracy: 0.8080 - val_loss: 0.4963 - val_accuracy: 0.7860\n",
            "Epoch 111/125\n",
            "32/32 [==============================] - 0s 4ms/step - loss: 0.4473 - accuracy: 0.8020 - val_loss: 0.5320 - val_accuracy: 0.7660\n",
            "Epoch 112/125\n",
            "32/32 [==============================] - 0s 3ms/step - loss: 0.4405 - accuracy: 0.8020 - val_loss: 0.4241 - val_accuracy: 0.8140\n",
            "Epoch 113/125\n",
            "32/32 [==============================] - 0s 4ms/step - loss: 0.4478 - accuracy: 0.7980 - val_loss: 0.4068 - val_accuracy: 0.8400\n",
            "Epoch 114/125\n",
            "32/32 [==============================] - 0s 4ms/step - loss: 0.4153 - accuracy: 0.8280 - val_loss: 0.4563 - val_accuracy: 0.8140\n",
            "Epoch 115/125\n",
            "32/32 [==============================] - 0s 3ms/step - loss: 0.4282 - accuracy: 0.8140 - val_loss: 0.4483 - val_accuracy: 0.8160\n",
            "Epoch 116/125\n",
            "32/32 [==============================] - 0s 3ms/step - loss: 0.4342 - accuracy: 0.8120 - val_loss: 0.4191 - val_accuracy: 0.8240\n",
            "Epoch 117/125\n",
            "32/32 [==============================] - 0s 4ms/step - loss: 0.4469 - accuracy: 0.8060 - val_loss: 0.4099 - val_accuracy: 0.8340\n",
            "Epoch 118/125\n",
            "32/32 [==============================] - 0s 4ms/step - loss: 0.4414 - accuracy: 0.8180 - val_loss: 0.4456 - val_accuracy: 0.8200\n",
            "Epoch 119/125\n",
            "32/32 [==============================] - 0s 4ms/step - loss: 0.4720 - accuracy: 0.7960 - val_loss: 0.4117 - val_accuracy: 0.8300\n",
            "Epoch 120/125\n",
            "32/32 [==============================] - 0s 4ms/step - loss: 0.4265 - accuracy: 0.8220 - val_loss: 0.4273 - val_accuracy: 0.8200\n",
            "Epoch 121/125\n",
            "32/32 [==============================] - 0s 3ms/step - loss: 0.4258 - accuracy: 0.8220 - val_loss: 0.4022 - val_accuracy: 0.8300\n",
            "Epoch 122/125\n",
            "32/32 [==============================] - 0s 4ms/step - loss: 0.4282 - accuracy: 0.8200 - val_loss: 0.4062 - val_accuracy: 0.8360\n",
            "Epoch 123/125\n",
            "32/32 [==============================] - 0s 3ms/step - loss: 0.4120 - accuracy: 0.8240 - val_loss: 0.4144 - val_accuracy: 0.8200\n",
            "Epoch 124/125\n",
            "32/32 [==============================] - 0s 4ms/step - loss: 0.4129 - accuracy: 0.8360 - val_loss: 0.4147 - val_accuracy: 0.8340\n",
            "Epoch 125/125\n",
            "32/32 [==============================] - 0s 4ms/step - loss: 0.4131 - accuracy: 0.8180 - val_loss: 0.4045 - val_accuracy: 0.8400\n"
          ]
        }
      ],
      "source": [
        "### START CODE HERE ### \n",
        "batch_size =16\n",
        "history = fit_model(X_train, y_train, X_test, y_test,batch_size)\n",
        "###### END CODE HERE"
      ]
    },
    {
      "cell_type": "code",
      "execution_count": null,
      "id": "be8533d7-34a0-4072-a9f3-600ddb9e58df",
      "metadata": {
        "tags": [],
        "id": "be8533d7-34a0-4072-a9f3-600ddb9e58df",
        "colab": {
          "base_uri": "https://localhost:8080/",
          "height": 350
        },
        "outputId": "280b30e6-67bc-4ae0-f3b5-349bd7eca5cd"
      },
      "outputs": [
        {
          "output_type": "display_data",
          "data": {
            "text/plain": [
              "<Figure size 720x360 with 1 Axes>"
            ],
            "image/png": "[encoded data removed]"
          },
          "metadata": {
            "needs_background": "light"
          }
        }
      ],
      "source": [
        "plt.figure(figsize=(10,5))\n",
        "plt.plot(history.history['loss'])\n",
        "plt.plot(history.history['val_loss'])\n",
        "plt.title('Loss vs. epochs, batch=' +str(batch_size))\n",
        "plt.ylabel('Loss')\n",
        "plt.xlabel('Epoch')\n",
        "plt.legend(['Training', 'Validation'], loc='upper right')\n",
        "plt.show()"
      ]
    },
    {
      "cell_type": "markdown",
      "id": "a7c4cd41-4aa3-4a8e-a6bb-3c7862c25787",
      "metadata": {
        "id": "a7c4cd41-4aa3-4a8e-a6bb-3c7862c25787"
      },
      "source": [
        "##### Size =  128"
      ]
    },
    {
      "cell_type": "markdown",
      "id": "55ae315d-ccfd-42aa-9e02-b2ba042756ec",
      "metadata": {
        "id": "55ae315d-ccfd-42aa-9e02-b2ba042756ec"
      },
      "source": [
        "10. **Retrain for 128 batch size**"
      ]
    },
    {
      "cell_type": "code",
      "execution_count": null,
      "id": "220b57cc-c220-424f-b3df-25eff109f718",
      "metadata": {
        "id": "220b57cc-c220-424f-b3df-25eff109f718",
        "colab": {
          "base_uri": "https://localhost:8080/"
        },
        "outputId": "f8ebd1ad-9bd8-45b3-998e-3b5bbf034b48"
      },
      "outputs": [
        {
          "output_type": "stream",
          "name": "stdout",
          "text": [
            "Epoch 1/125\n",
            "4/4 [==============================] - 1s 58ms/step - loss: 1.4558 - accuracy: 0.4900 - val_loss: 0.9320 - val_accuracy: 0.6620\n",
            "Epoch 2/125\n",
            "4/4 [==============================] - 0s 10ms/step - loss: 1.0036 - accuracy: 0.5900 - val_loss: 1.1421 - val_accuracy: 0.5340\n",
            "Epoch 3/125\n",
            "4/4 [==============================] - 0s 10ms/step - loss: 1.1664 - accuracy: 0.5320 - val_loss: 1.0205 - val_accuracy: 0.6120\n",
            "Epoch 4/125\n",
            "4/4 [==============================] - 0s 15ms/step - loss: 0.9414 - accuracy: 0.5980 - val_loss: 0.8863 - val_accuracy: 0.6540\n",
            "Epoch 5/125\n",
            "4/4 [==============================] - 0s 10ms/step - loss: 0.9347 - accuracy: 0.5740 - val_loss: 0.9024 - val_accuracy: 0.6420\n",
            "Epoch 6/125\n",
            "4/4 [==============================] - 0s 11ms/step - loss: 0.8586 - accuracy: 0.6120 - val_loss: 0.8351 - val_accuracy: 0.6520\n",
            "Epoch 7/125\n",
            "4/4 [==============================] - 0s 9ms/step - loss: 0.8389 - accuracy: 0.6260 - val_loss: 0.8187 - val_accuracy: 0.6620\n",
            "Epoch 8/125\n",
            "4/4 [==============================] - 0s 16ms/step - loss: 0.7934 - accuracy: 0.6360 - val_loss: 0.7818 - val_accuracy: 0.7040\n",
            "Epoch 9/125\n",
            "4/4 [==============================] - 0s 10ms/step - loss: 0.7732 - accuracy: 0.6540 - val_loss: 0.7680 - val_accuracy: 0.6880\n",
            "Epoch 10/125\n",
            "4/4 [==============================] - 0s 9ms/step - loss: 0.7485 - accuracy: 0.6400 - val_loss: 0.7542 - val_accuracy: 0.6680\n",
            "Epoch 11/125\n",
            "4/4 [==============================] - 0s 10ms/step - loss: 0.7475 - accuracy: 0.6280 - val_loss: 0.7410 - val_accuracy: 0.6740\n",
            "Epoch 12/125\n",
            "4/4 [==============================] - 0s 10ms/step - loss: 0.7230 - accuracy: 0.6480 - val_loss: 0.7389 - val_accuracy: 0.6920\n",
            "Epoch 13/125\n",
            "4/4 [==============================] - 0s 9ms/step - loss: 0.7277 - accuracy: 0.6600 - val_loss: 0.7270 - val_accuracy: 0.6860\n",
            "Epoch 14/125\n",
            "4/4 [==============================] - 0s 18ms/step - loss: 0.7148 - accuracy: 0.6380 - val_loss: 0.7209 - val_accuracy: 0.6660\n",
            "Epoch 15/125\n",
            "4/4 [==============================] - 0s 11ms/step - loss: 0.7174 - accuracy: 0.6380 - val_loss: 0.7136 - val_accuracy: 0.6680\n",
            "Epoch 16/125\n",
            "4/4 [==============================] - 0s 10ms/step - loss: 0.7090 - accuracy: 0.6500 - val_loss: 0.7160 - val_accuracy: 0.6900\n",
            "Epoch 17/125\n",
            "4/4 [==============================] - 0s 10ms/step - loss: 0.7065 - accuracy: 0.6560 - val_loss: 0.7054 - val_accuracy: 0.6840\n",
            "Epoch 18/125\n",
            "4/4 [==============================] - 0s 9ms/step - loss: 0.7007 - accuracy: 0.6440 - val_loss: 0.7024 - val_accuracy: 0.6720\n",
            "Epoch 19/125\n",
            "4/4 [==============================] - 0s 10ms/step - loss: 0.6996 - accuracy: 0.6400 - val_loss: 0.6977 - val_accuracy: 0.6760\n",
            "Epoch 20/125\n",
            "4/4 [==============================] - 0s 15ms/step - loss: 0.6962 - accuracy: 0.6500 - val_loss: 0.7013 - val_accuracy: 0.6900\n",
            "Epoch 21/125\n",
            "4/4 [==============================] - 0s 15ms/step - loss: 0.6934 - accuracy: 0.6540 - val_loss: 0.6920 - val_accuracy: 0.6840\n",
            "Epoch 22/125\n",
            "4/4 [==============================] - 0s 10ms/step - loss: 0.6882 - accuracy: 0.6500 - val_loss: 0.6892 - val_accuracy: 0.6720\n",
            "Epoch 23/125\n",
            "4/4 [==============================] - 0s 9ms/step - loss: 0.6891 - accuracy: 0.6400 - val_loss: 0.6866 - val_accuracy: 0.6800\n",
            "Epoch 24/125\n",
            "4/4 [==============================] - 0s 12ms/step - loss: 0.6838 - accuracy: 0.6520 - val_loss: 0.6861 - val_accuracy: 0.6880\n",
            "Epoch 25/125\n",
            "4/4 [==============================] - 0s 10ms/step - loss: 0.6843 - accuracy: 0.6540 - val_loss: 0.6859 - val_accuracy: 0.6920\n",
            "Epoch 26/125\n",
            "4/4 [==============================] - 0s 10ms/step - loss: 0.6821 - accuracy: 0.6520 - val_loss: 0.6798 - val_accuracy: 0.6800\n",
            "Epoch 27/125\n",
            "4/4 [==============================] - 0s 10ms/step - loss: 0.6814 - accuracy: 0.6480 - val_loss: 0.6778 - val_accuracy: 0.6780\n",
            "Epoch 28/125\n",
            "4/4 [==============================] - 0s 10ms/step - loss: 0.6780 - accuracy: 0.6500 - val_loss: 0.6767 - val_accuracy: 0.6880\n",
            "Epoch 29/125\n",
            "4/4 [==============================] - 0s 10ms/step - loss: 0.6781 - accuracy: 0.6600 - val_loss: 0.6773 - val_accuracy: 0.6980\n",
            "Epoch 30/125\n",
            "4/4 [==============================] - 0s 10ms/step - loss: 0.6748 - accuracy: 0.6580 - val_loss: 0.6717 - val_accuracy: 0.6840\n",
            "Epoch 31/125\n",
            "4/4 [==============================] - 0s 10ms/step - loss: 0.6745 - accuracy: 0.6500 - val_loss: 0.6699 - val_accuracy: 0.6820\n",
            "Epoch 32/125\n",
            "4/4 [==============================] - 0s 9ms/step - loss: 0.6719 - accuracy: 0.6540 - val_loss: 0.6694 - val_accuracy: 0.6960\n",
            "Epoch 33/125\n",
            "4/4 [==============================] - 0s 14ms/step - loss: 0.6709 - accuracy: 0.6600 - val_loss: 0.6681 - val_accuracy: 0.6980\n",
            "Epoch 34/125\n",
            "4/4 [==============================] - 0s 10ms/step - loss: 0.6697 - accuracy: 0.6560 - val_loss: 0.6648 - val_accuracy: 0.6900\n",
            "Epoch 35/125\n",
            "4/4 [==============================] - 0s 10ms/step - loss: 0.6675 - accuracy: 0.6580 - val_loss: 0.6634 - val_accuracy: 0.6940\n",
            "Epoch 36/125\n",
            "4/4 [==============================] - 0s 15ms/step - loss: 0.6662 - accuracy: 0.6560 - val_loss: 0.6619 - val_accuracy: 0.6940\n",
            "Epoch 37/125\n",
            "4/4 [==============================] - 0s 16ms/step - loss: 0.6666 - accuracy: 0.6580 - val_loss: 0.6608 - val_accuracy: 0.6980\n",
            "Epoch 38/125\n",
            "4/4 [==============================] - 0s 10ms/step - loss: 0.6636 - accuracy: 0.6580 - val_loss: 0.6583 - val_accuracy: 0.6960\n",
            "Epoch 39/125\n",
            "4/4 [==============================] - 0s 12ms/step - loss: 0.6625 - accuracy: 0.6580 - val_loss: 0.6570 - val_accuracy: 0.6980\n",
            "Epoch 40/125\n",
            "4/4 [==============================] - 0s 10ms/step - loss: 0.6623 - accuracy: 0.6600 - val_loss: 0.6569 - val_accuracy: 0.7040\n",
            "Epoch 41/125\n",
            "4/4 [==============================] - 0s 10ms/step - loss: 0.6598 - accuracy: 0.6600 - val_loss: 0.6542 - val_accuracy: 0.6980\n",
            "Epoch 42/125\n",
            "4/4 [==============================] - 0s 10ms/step - loss: 0.6596 - accuracy: 0.6580 - val_loss: 0.6529 - val_accuracy: 0.7040\n",
            "Epoch 43/125\n",
            "4/4 [==============================] - 0s 15ms/step - loss: 0.6581 - accuracy: 0.6580 - val_loss: 0.6525 - val_accuracy: 0.7040\n",
            "Epoch 44/125\n",
            "4/4 [==============================] - 0s 10ms/step - loss: 0.6566 - accuracy: 0.6600 - val_loss: 0.6509 - val_accuracy: 0.7040\n",
            "Epoch 45/125\n",
            "4/4 [==============================] - 0s 15ms/step - loss: 0.6563 - accuracy: 0.6560 - val_loss: 0.6486 - val_accuracy: 0.7020\n",
            "Epoch 46/125\n",
            "4/4 [==============================] - 0s 9ms/step - loss: 0.6549 - accuracy: 0.6580 - val_loss: 0.6483 - val_accuracy: 0.7160\n",
            "Epoch 47/125\n",
            "4/4 [==============================] - 0s 11ms/step - loss: 0.6561 - accuracy: 0.6560 - val_loss: 0.6459 - val_accuracy: 0.7040\n",
            "Epoch 48/125\n",
            "4/4 [==============================] - 0s 10ms/step - loss: 0.6527 - accuracy: 0.6660 - val_loss: 0.6467 - val_accuracy: 0.7160\n",
            "Epoch 49/125\n",
            "4/4 [==============================] - 0s 16ms/step - loss: 0.6517 - accuracy: 0.6660 - val_loss: 0.6438 - val_accuracy: 0.7120\n",
            "Epoch 50/125\n",
            "4/4 [==============================] - 0s 11ms/step - loss: 0.6505 - accuracy: 0.6620 - val_loss: 0.6421 - val_accuracy: 0.7100\n",
            "Epoch 51/125\n",
            "4/4 [==============================] - 0s 11ms/step - loss: 0.6500 - accuracy: 0.6660 - val_loss: 0.6427 - val_accuracy: 0.7160\n",
            "Epoch 52/125\n",
            "4/4 [==============================] - 0s 10ms/step - loss: 0.6492 - accuracy: 0.6640 - val_loss: 0.6397 - val_accuracy: 0.7120\n",
            "Epoch 53/125\n",
            "4/4 [==============================] - 0s 10ms/step - loss: 0.6476 - accuracy: 0.6580 - val_loss: 0.6388 - val_accuracy: 0.7120\n",
            "Epoch 54/125\n",
            "4/4 [==============================] - 0s 10ms/step - loss: 0.6456 - accuracy: 0.6680 - val_loss: 0.6393 - val_accuracy: 0.7160\n",
            "Epoch 55/125\n",
            "4/4 [==============================] - 0s 10ms/step - loss: 0.6457 - accuracy: 0.6660 - val_loss: 0.6370 - val_accuracy: 0.7160\n",
            "Epoch 56/125\n",
            "4/4 [==============================] - 0s 10ms/step - loss: 0.6438 - accuracy: 0.6680 - val_loss: 0.6356 - val_accuracy: 0.7160\n",
            "Epoch 57/125\n",
            "4/4 [==============================] - 0s 10ms/step - loss: 0.6430 - accuracy: 0.6680 - val_loss: 0.6343 - val_accuracy: 0.7160\n",
            "Epoch 58/125\n",
            "4/4 [==============================] - 0s 10ms/step - loss: 0.6420 - accuracy: 0.6680 - val_loss: 0.6328 - val_accuracy: 0.7120\n",
            "Epoch 59/125\n",
            "4/4 [==============================] - 0s 11ms/step - loss: 0.6413 - accuracy: 0.6680 - val_loss: 0.6319 - val_accuracy: 0.7160\n",
            "Epoch 60/125\n",
            "4/4 [==============================] - 0s 19ms/step - loss: 0.6404 - accuracy: 0.6680 - val_loss: 0.6323 - val_accuracy: 0.7180\n",
            "Epoch 61/125\n",
            "4/4 [==============================] - 0s 10ms/step - loss: 0.6404 - accuracy: 0.6740 - val_loss: 0.6295 - val_accuracy: 0.7140\n",
            "Epoch 62/125\n",
            "4/4 [==============================] - 0s 10ms/step - loss: 0.6381 - accuracy: 0.6700 - val_loss: 0.6287 - val_accuracy: 0.7160\n",
            "Epoch 63/125\n",
            "4/4 [==============================] - 0s 10ms/step - loss: 0.6387 - accuracy: 0.6720 - val_loss: 0.6299 - val_accuracy: 0.7220\n",
            "Epoch 64/125\n",
            "4/4 [==============================] - 0s 10ms/step - loss: 0.6381 - accuracy: 0.6700 - val_loss: 0.6265 - val_accuracy: 0.7180\n",
            "Epoch 65/125\n",
            "4/4 [==============================] - 0s 10ms/step - loss: 0.6359 - accuracy: 0.6680 - val_loss: 0.6254 - val_accuracy: 0.7200\n",
            "Epoch 66/125\n",
            "4/4 [==============================] - 0s 16ms/step - loss: 0.6348 - accuracy: 0.6720 - val_loss: 0.6257 - val_accuracy: 0.7220\n",
            "Epoch 67/125\n",
            "4/4 [==============================] - 0s 12ms/step - loss: 0.6338 - accuracy: 0.6760 - val_loss: 0.6237 - val_accuracy: 0.7200\n",
            "Epoch 68/125\n",
            "4/4 [==============================] - 0s 11ms/step - loss: 0.6337 - accuracy: 0.6700 - val_loss: 0.6221 - val_accuracy: 0.7220\n",
            "Epoch 69/125\n",
            "4/4 [==============================] - 0s 10ms/step - loss: 0.6324 - accuracy: 0.6740 - val_loss: 0.6225 - val_accuracy: 0.7220\n",
            "Epoch 70/125\n",
            "4/4 [==============================] - 0s 16ms/step - loss: 0.6311 - accuracy: 0.6860 - val_loss: 0.6212 - val_accuracy: 0.7220\n",
            "Epoch 71/125\n",
            "4/4 [==============================] - 0s 16ms/step - loss: 0.6324 - accuracy: 0.6740 - val_loss: 0.6191 - val_accuracy: 0.7180\n",
            "Epoch 72/125\n",
            "4/4 [==============================] - 0s 16ms/step - loss: 0.6294 - accuracy: 0.6680 - val_loss: 0.6191 - val_accuracy: 0.7220\n",
            "Epoch 73/125\n",
            "4/4 [==============================] - 0s 10ms/step - loss: 0.6283 - accuracy: 0.6900 - val_loss: 0.6215 - val_accuracy: 0.7320\n",
            "Epoch 74/125\n",
            "4/4 [==============================] - 0s 10ms/step - loss: 0.6286 - accuracy: 0.6920 - val_loss: 0.6175 - val_accuracy: 0.7240\n",
            "Epoch 75/125\n",
            "4/4 [==============================] - 0s 10ms/step - loss: 0.6259 - accuracy: 0.6840 - val_loss: 0.6153 - val_accuracy: 0.7220\n",
            "Epoch 76/125\n",
            "4/4 [==============================] - 0s 15ms/step - loss: 0.6260 - accuracy: 0.6740 - val_loss: 0.6144 - val_accuracy: 0.7220\n",
            "Epoch 77/125\n",
            "4/4 [==============================] - 0s 10ms/step - loss: 0.6246 - accuracy: 0.6740 - val_loss: 0.6145 - val_accuracy: 0.7240\n",
            "Epoch 78/125\n",
            "4/4 [==============================] - 0s 10ms/step - loss: 0.6248 - accuracy: 0.6920 - val_loss: 0.6145 - val_accuracy: 0.7300\n",
            "Epoch 79/125\n",
            "4/4 [==============================] - 0s 10ms/step - loss: 0.6227 - accuracy: 0.6860 - val_loss: 0.6118 - val_accuracy: 0.7260\n",
            "Epoch 80/125\n",
            "4/4 [==============================] - 0s 11ms/step - loss: 0.6227 - accuracy: 0.6780 - val_loss: 0.6108 - val_accuracy: 0.7240\n",
            "Epoch 81/125\n",
            "4/4 [==============================] - 0s 15ms/step - loss: 0.6217 - accuracy: 0.6800 - val_loss: 0.6102 - val_accuracy: 0.7220\n",
            "Epoch 82/125\n",
            "4/4 [==============================] - 0s 17ms/step - loss: 0.6207 - accuracy: 0.6880 - val_loss: 0.6110 - val_accuracy: 0.7320\n",
            "Epoch 83/125\n",
            "4/4 [==============================] - 0s 11ms/step - loss: 0.6202 - accuracy: 0.6960 - val_loss: 0.6094 - val_accuracy: 0.7300\n",
            "Epoch 84/125\n",
            "4/4 [==============================] - 0s 16ms/step - loss: 0.6189 - accuracy: 0.6920 - val_loss: 0.6079 - val_accuracy: 0.7320\n",
            "Epoch 85/125\n",
            "4/4 [==============================] - 0s 10ms/step - loss: 0.6186 - accuracy: 0.6860 - val_loss: 0.6062 - val_accuracy: 0.7240\n",
            "Epoch 86/125\n",
            "4/4 [==============================] - 0s 11ms/step - loss: 0.6174 - accuracy: 0.6860 - val_loss: 0.6065 - val_accuracy: 0.7300\n",
            "Epoch 87/125\n",
            "4/4 [==============================] - 0s 10ms/step - loss: 0.6167 - accuracy: 0.6940 - val_loss: 0.6068 - val_accuracy: 0.7340\n",
            "Epoch 88/125\n",
            "4/4 [==============================] - 0s 11ms/step - loss: 0.6156 - accuracy: 0.6980 - val_loss: 0.6041 - val_accuracy: 0.7320\n",
            "Epoch 89/125\n",
            "4/4 [==============================] - 0s 10ms/step - loss: 0.6150 - accuracy: 0.6880 - val_loss: 0.6029 - val_accuracy: 0.7240\n",
            "Epoch 90/125\n",
            "4/4 [==============================] - 0s 11ms/step - loss: 0.6147 - accuracy: 0.6880 - val_loss: 0.6034 - val_accuracy: 0.7320\n",
            "Epoch 91/125\n",
            "4/4 [==============================] - 0s 11ms/step - loss: 0.6133 - accuracy: 0.6960 - val_loss: 0.6021 - val_accuracy: 0.7320\n",
            "Epoch 92/125\n",
            "4/4 [==============================] - 0s 12ms/step - loss: 0.6125 - accuracy: 0.7000 - val_loss: 0.6013 - val_accuracy: 0.7320\n",
            "Epoch 93/125\n",
            "4/4 [==============================] - 0s 11ms/step - loss: 0.6117 - accuracy: 0.7000 - val_loss: 0.5997 - val_accuracy: 0.7320\n",
            "Epoch 94/125\n",
            "4/4 [==============================] - 0s 13ms/step - loss: 0.6110 - accuracy: 0.6980 - val_loss: 0.5996 - val_accuracy: 0.7360\n",
            "Epoch 95/125\n",
            "4/4 [==============================] - 0s 12ms/step - loss: 0.6106 - accuracy: 0.7040 - val_loss: 0.5989 - val_accuracy: 0.7340\n",
            "Epoch 96/125\n",
            "4/4 [==============================] - 0s 11ms/step - loss: 0.6098 - accuracy: 0.7100 - val_loss: 0.5983 - val_accuracy: 0.7360\n",
            "Epoch 97/125\n",
            "4/4 [==============================] - 0s 11ms/step - loss: 0.6086 - accuracy: 0.7080 - val_loss: 0.5971 - val_accuracy: 0.7360\n",
            "Epoch 98/125\n",
            "4/4 [==============================] - 0s 11ms/step - loss: 0.6084 - accuracy: 0.6980 - val_loss: 0.5957 - val_accuracy: 0.7340\n",
            "Epoch 99/125\n",
            "4/4 [==============================] - 0s 12ms/step - loss: 0.6074 - accuracy: 0.7020 - val_loss: 0.5956 - val_accuracy: 0.7380\n",
            "Epoch 100/125\n",
            "4/4 [==============================] - 0s 11ms/step - loss: 0.6065 - accuracy: 0.7060 - val_loss: 0.5960 - val_accuracy: 0.7440\n",
            "Epoch 101/125\n",
            "4/4 [==============================] - 0s 10ms/step - loss: 0.6061 - accuracy: 0.7080 - val_loss: 0.5944 - val_accuracy: 0.7440\n",
            "Epoch 102/125\n",
            "4/4 [==============================] - 0s 12ms/step - loss: 0.6049 - accuracy: 0.7060 - val_loss: 0.5932 - val_accuracy: 0.7400\n",
            "Epoch 103/125\n",
            "4/4 [==============================] - 0s 10ms/step - loss: 0.6043 - accuracy: 0.7060 - val_loss: 0.5922 - val_accuracy: 0.7380\n",
            "Epoch 104/125\n",
            "4/4 [==============================] - 0s 18ms/step - loss: 0.6040 - accuracy: 0.7080 - val_loss: 0.5917 - val_accuracy: 0.7420\n",
            "Epoch 105/125\n",
            "4/4 [==============================] - 0s 11ms/step - loss: 0.6028 - accuracy: 0.7080 - val_loss: 0.5911 - val_accuracy: 0.7440\n",
            "Epoch 106/125\n",
            "4/4 [==============================] - 0s 11ms/step - loss: 0.6021 - accuracy: 0.7120 - val_loss: 0.5906 - val_accuracy: 0.7480\n",
            "Epoch 107/125\n",
            "4/4 [==============================] - 0s 11ms/step - loss: 0.6022 - accuracy: 0.7100 - val_loss: 0.5892 - val_accuracy: 0.7400\n",
            "Epoch 108/125\n",
            "4/4 [==============================] - 0s 13ms/step - loss: 0.6012 - accuracy: 0.7100 - val_loss: 0.5901 - val_accuracy: 0.7480\n",
            "Epoch 109/125\n",
            "4/4 [==============================] - 0s 10ms/step - loss: 0.6003 - accuracy: 0.7100 - val_loss: 0.5880 - val_accuracy: 0.7440\n",
            "Epoch 110/125\n",
            "4/4 [==============================] - 0s 16ms/step - loss: 0.5992 - accuracy: 0.7080 - val_loss: 0.5876 - val_accuracy: 0.7480\n",
            "Epoch 111/125\n",
            "4/4 [==============================] - 0s 10ms/step - loss: 0.5984 - accuracy: 0.7120 - val_loss: 0.5866 - val_accuracy: 0.7480\n",
            "Epoch 112/125\n",
            "4/4 [==============================] - 0s 16ms/step - loss: 0.5976 - accuracy: 0.7100 - val_loss: 0.5860 - val_accuracy: 0.7480\n",
            "Epoch 113/125\n",
            "4/4 [==============================] - 0s 10ms/step - loss: 0.5970 - accuracy: 0.7160 - val_loss: 0.5856 - val_accuracy: 0.7480\n",
            "Epoch 114/125\n",
            "4/4 [==============================] - 0s 11ms/step - loss: 0.5967 - accuracy: 0.7160 - val_loss: 0.5846 - val_accuracy: 0.7480\n",
            "Epoch 115/125\n",
            "4/4 [==============================] - 0s 15ms/step - loss: 0.5958 - accuracy: 0.7140 - val_loss: 0.5838 - val_accuracy: 0.7480\n",
            "Epoch 116/125\n",
            "4/4 [==============================] - 0s 10ms/step - loss: 0.5969 - accuracy: 0.7180 - val_loss: 0.5855 - val_accuracy: 0.7520\n",
            "Epoch 117/125\n",
            "4/4 [==============================] - 0s 10ms/step - loss: 0.5952 - accuracy: 0.7200 - val_loss: 0.5820 - val_accuracy: 0.7460\n",
            "Epoch 118/125\n",
            "4/4 [==============================] - 0s 16ms/step - loss: 0.5938 - accuracy: 0.7120 - val_loss: 0.5813 - val_accuracy: 0.7460\n",
            "Epoch 119/125\n",
            "4/4 [==============================] - 0s 13ms/step - loss: 0.5931 - accuracy: 0.7200 - val_loss: 0.5816 - val_accuracy: 0.7540\n",
            "Epoch 120/125\n",
            "4/4 [==============================] - 0s 10ms/step - loss: 0.5927 - accuracy: 0.7260 - val_loss: 0.5809 - val_accuracy: 0.7540\n",
            "Epoch 121/125\n",
            "4/4 [==============================] - 0s 15ms/step - loss: 0.5918 - accuracy: 0.7280 - val_loss: 0.5800 - val_accuracy: 0.7540\n",
            "Epoch 122/125\n",
            "4/4 [==============================] - 0s 10ms/step - loss: 0.5911 - accuracy: 0.7260 - val_loss: 0.5789 - val_accuracy: 0.7520\n",
            "Epoch 123/125\n",
            "4/4 [==============================] - 0s 10ms/step - loss: 0.5905 - accuracy: 0.7200 - val_loss: 0.5780 - val_accuracy: 0.7500\n",
            "Epoch 124/125\n",
            "4/4 [==============================] - 0s 10ms/step - loss: 0.5899 - accuracy: 0.7240 - val_loss: 0.5778 - val_accuracy: 0.7540\n",
            "Epoch 125/125\n",
            "4/4 [==============================] - 0s 15ms/step - loss: 0.5896 - accuracy: 0.7300 - val_loss: 0.5783 - val_accuracy: 0.7580\n"
          ]
        }
      ],
      "source": [
        "### START CODE HERE ### \n",
        "batch_size =128\n",
        "history = fit_model(X_train, y_train, X_test, y_test,batch_size)\n",
        "###### END CODE HERE"
      ]
    },
    {
      "cell_type": "code",
      "execution_count": null,
      "id": "7e9a46f6-a1ce-4922-b48f-3c6f54ae4515",
      "metadata": {
        "tags": [],
        "id": "7e9a46f6-a1ce-4922-b48f-3c6f54ae4515",
        "colab": {
          "base_uri": "https://localhost:8080/",
          "height": 350
        },
        "outputId": "cad1d9bd-98cd-47ee-8582-13fde649c563"
      },
      "outputs": [
        {
          "output_type": "display_data",
          "data": {
            "text/plain": [
              "<Figure size 720x360 with 1 Axes>"
            ],
            "image/png": "[encoded data removed]"
          },
          "metadata": {
            "needs_background": "light"
          }
        }
      ],
      "source": [
        "plt.figure(figsize=(10,5))\n",
        "plt.plot(history.history['loss'])\n",
        "plt.plot(history.history['val_loss'])\n",
        "plt.title('Loss vs. epochs, batch=' +str(batch_size))\n",
        "plt.ylabel('Loss')\n",
        "plt.xlabel('Epoch')\n",
        "plt.legend(['Training', 'Validation'], loc='upper right')\n",
        "plt.show()"
      ]
    },
    {
      "cell_type": "markdown",
      "id": "c0c037e6-a554-454d-8d87-e009aefd826c",
      "metadata": {
        "id": "c0c037e6-a554-454d-8d87-e009aefd826c"
      },
      "source": [
        "##### Size =  Data"
      ]
    },
    {
      "cell_type": "markdown",
      "id": "f067cc9d-4c8e-434d-970e-5395914df5f1",
      "metadata": {
        "id": "f067cc9d-4c8e-434d-970e-5395914df5f1"
      },
      "source": [
        "10. **Retrain for length of data batch size**"
      ]
    },
    {
      "cell_type": "code",
      "execution_count": null,
      "id": "c6bcbb54-5017-4030-97a8-8a70bf2204ce",
      "metadata": {
        "id": "c6bcbb54-5017-4030-97a8-8a70bf2204ce",
        "colab": {
          "base_uri": "https://localhost:8080/"
        },
        "outputId": "cea80665-33ac-4677-a85e-23b4c970d564"
      },
      "outputs": [
        {
          "output_type": "stream",
          "name": "stdout",
          "text": [
            "Epoch 1/125\n",
            "1/1 [==============================] - 0s 482ms/step - loss: 1.8007 - accuracy: 0.3420 - val_loss: 1.8170 - val_accuracy: 0.3260\n",
            "Epoch 2/125\n",
            "1/1 [==============================] - 0s 28ms/step - loss: 1.7578 - accuracy: 0.3420 - val_loss: 1.7421 - val_accuracy: 0.3260\n",
            "Epoch 3/125\n",
            "1/1 [==============================] - 0s 28ms/step - loss: 1.6815 - accuracy: 0.3420 - val_loss: 1.6477 - val_accuracy: 0.3260\n",
            "Epoch 4/125\n",
            "1/1 [==============================] - 0s 33ms/step - loss: 1.5850 - accuracy: 0.3420 - val_loss: 1.5499 - val_accuracy: 0.3260\n",
            "Epoch 5/125\n",
            "1/1 [==============================] - 0s 26ms/step - loss: 1.4846 - accuracy: 0.3420 - val_loss: 1.4656 - val_accuracy: 0.2740\n",
            "Epoch 6/125\n",
            "1/1 [==============================] - 0s 27ms/step - loss: 1.3989 - accuracy: 0.3160 - val_loss: 1.4087 - val_accuracy: 0.3960\n",
            "Epoch 7/125\n",
            "1/1 [==============================] - 0s 28ms/step - loss: 1.3448 - accuracy: 0.3780 - val_loss: 1.3800 - val_accuracy: 0.3660\n",
            "Epoch 8/125\n",
            "1/1 [==============================] - 0s 47ms/step - loss: 1.3239 - accuracy: 0.3360 - val_loss: 1.3629 - val_accuracy: 0.3720\n",
            "Epoch 9/125\n",
            "1/1 [==============================] - 0s 27ms/step - loss: 1.3169 - accuracy: 0.3580 - val_loss: 1.3388 - val_accuracy: 0.4040\n",
            "Epoch 10/125\n",
            "1/1 [==============================] - 0s 27ms/step - loss: 1.3016 - accuracy: 0.3760 - val_loss: 1.2988 - val_accuracy: 0.3940\n",
            "Epoch 11/125\n",
            "1/1 [==============================] - 0s 26ms/step - loss: 1.2677 - accuracy: 0.3720 - val_loss: 1.2457 - val_accuracy: 0.4040\n",
            "Epoch 12/125\n",
            "1/1 [==============================] - 0s 27ms/step - loss: 1.2179 - accuracy: 0.3800 - val_loss: 1.1900 - val_accuracy: 0.4200\n",
            "Epoch 13/125\n",
            "1/1 [==============================] - 0s 27ms/step - loss: 1.1644 - accuracy: 0.3860 - val_loss: 1.1426 - val_accuracy: 0.4420\n",
            "Epoch 14/125\n",
            "1/1 [==============================] - 0s 27ms/step - loss: 1.1207 - accuracy: 0.4180 - val_loss: 1.1077 - val_accuracy: 0.4640\n",
            "Epoch 15/125\n",
            "1/1 [==============================] - 0s 31ms/step - loss: 1.0928 - accuracy: 0.4380 - val_loss: 1.0805 - val_accuracy: 0.4480\n",
            "Epoch 16/125\n",
            "1/1 [==============================] - 0s 29ms/step - loss: 1.0754 - accuracy: 0.4360 - val_loss: 1.0528 - val_accuracy: 0.4040\n",
            "Epoch 17/125\n",
            "1/1 [==============================] - 0s 29ms/step - loss: 1.0585 - accuracy: 0.4020 - val_loss: 1.0192 - val_accuracy: 0.3980\n",
            "Epoch 18/125\n",
            "1/1 [==============================] - 0s 24ms/step - loss: 1.0350 - accuracy: 0.4080 - val_loss: 0.9796 - val_accuracy: 0.4820\n",
            "Epoch 19/125\n",
            "1/1 [==============================] - 0s 25ms/step - loss: 1.0037 - accuracy: 0.4720 - val_loss: 0.9381 - val_accuracy: 0.5380\n",
            "Epoch 20/125\n",
            "1/1 [==============================] - 0s 28ms/step - loss: 0.9682 - accuracy: 0.5280 - val_loss: 0.9008 - val_accuracy: 0.5840\n",
            "Epoch 21/125\n",
            "1/1 [==============================] - 0s 34ms/step - loss: 0.9349 - accuracy: 0.5580 - val_loss: 0.8731 - val_accuracy: 0.6500\n",
            "Epoch 22/125\n",
            "1/1 [==============================] - 0s 35ms/step - loss: 0.9101 - accuracy: 0.5980 - val_loss: 0.8570 - val_accuracy: 0.6700\n",
            "Epoch 23/125\n",
            "1/1 [==============================] - 0s 28ms/step - loss: 0.8963 - accuracy: 0.6000 - val_loss: 0.8496 - val_accuracy: 0.6700\n",
            "Epoch 24/125\n",
            "1/1 [==============================] - 0s 32ms/step - loss: 0.8910 - accuracy: 0.5940 - val_loss: 0.8446 - val_accuracy: 0.6820\n",
            "Epoch 25/125\n",
            "1/1 [==============================] - 0s 24ms/step - loss: 0.8873 - accuracy: 0.5920 - val_loss: 0.8363 - val_accuracy: 0.6800\n",
            "Epoch 26/125\n",
            "1/1 [==============================] - 0s 25ms/step - loss: 0.8796 - accuracy: 0.5960 - val_loss: 0.8232 - val_accuracy: 0.6820\n",
            "Epoch 27/125\n",
            "1/1 [==============================] - 0s 27ms/step - loss: 0.8667 - accuracy: 0.6060 - val_loss: 0.8081 - val_accuracy: 0.6880\n",
            "Epoch 28/125\n",
            "1/1 [==============================] - 0s 32ms/step - loss: 0.8519 - accuracy: 0.6240 - val_loss: 0.7947 - val_accuracy: 0.6740\n",
            "Epoch 29/125\n",
            "1/1 [==============================] - 0s 32ms/step - loss: 0.8392 - accuracy: 0.6020 - val_loss: 0.7847 - val_accuracy: 0.6500\n",
            "Epoch 30/125\n",
            "1/1 [==============================] - 0s 42ms/step - loss: 0.8304 - accuracy: 0.5880 - val_loss: 0.7775 - val_accuracy: 0.6360\n",
            "Epoch 31/125\n",
            "1/1 [==============================] - 0s 31ms/step - loss: 0.8244 - accuracy: 0.5780 - val_loss: 0.7713 - val_accuracy: 0.6340\n",
            "Epoch 32/125\n",
            "1/1 [==============================] - 0s 29ms/step - loss: 0.8191 - accuracy: 0.5740 - val_loss: 0.7644 - val_accuracy: 0.6340\n",
            "Epoch 33/125\n",
            "1/1 [==============================] - 0s 26ms/step - loss: 0.8126 - accuracy: 0.5800 - val_loss: 0.7564 - val_accuracy: 0.6380\n",
            "Epoch 34/125\n",
            "1/1 [==============================] - 0s 31ms/step - loss: 0.8043 - accuracy: 0.5940 - val_loss: 0.7479 - val_accuracy: 0.6580\n",
            "Epoch 35/125\n",
            "1/1 [==============================] - 0s 25ms/step - loss: 0.7949 - accuracy: 0.6100 - val_loss: 0.7399 - val_accuracy: 0.6620\n",
            "Epoch 36/125\n",
            "1/1 [==============================] - 0s 25ms/step - loss: 0.7858 - accuracy: 0.6180 - val_loss: 0.7335 - val_accuracy: 0.6800\n",
            "Epoch 37/125\n",
            "1/1 [==============================] - 0s 26ms/step - loss: 0.7784 - accuracy: 0.6340 - val_loss: 0.7290 - val_accuracy: 0.6960\n",
            "Epoch 38/125\n",
            "1/1 [==============================] - 0s 27ms/step - loss: 0.7731 - accuracy: 0.6500 - val_loss: 0.7258 - val_accuracy: 0.7040\n",
            "Epoch 39/125\n",
            "1/1 [==============================] - 0s 26ms/step - loss: 0.7695 - accuracy: 0.6660 - val_loss: 0.7227 - val_accuracy: 0.7060\n",
            "Epoch 40/125\n",
            "1/1 [==============================] - 0s 25ms/step - loss: 0.7661 - accuracy: 0.6700 - val_loss: 0.7187 - val_accuracy: 0.7060\n",
            "Epoch 41/125\n",
            "1/1 [==============================] - 0s 46ms/step - loss: 0.7619 - accuracy: 0.6720 - val_loss: 0.7136 - val_accuracy: 0.7080\n",
            "Epoch 42/125\n",
            "1/1 [==============================] - 0s 29ms/step - loss: 0.7569 - accuracy: 0.6680 - val_loss: 0.7082 - val_accuracy: 0.7040\n",
            "Epoch 43/125\n",
            "1/1 [==============================] - 0s 27ms/step - loss: 0.7516 - accuracy: 0.6620 - val_loss: 0.7031 - val_accuracy: 0.7000\n",
            "Epoch 44/125\n",
            "1/1 [==============================] - 0s 31ms/step - loss: 0.7468 - accuracy: 0.6540 - val_loss: 0.6989 - val_accuracy: 0.6860\n",
            "Epoch 45/125\n",
            "1/1 [==============================] - 0s 27ms/step - loss: 0.7430 - accuracy: 0.6480 - val_loss: 0.6953 - val_accuracy: 0.6780\n",
            "Epoch 46/125\n",
            "1/1 [==============================] - 0s 28ms/step - loss: 0.7399 - accuracy: 0.6460 - val_loss: 0.6922 - val_accuracy: 0.6780\n",
            "Epoch 47/125\n",
            "1/1 [==============================] - 0s 36ms/step - loss: 0.7370 - accuracy: 0.6400 - val_loss: 0.6890 - val_accuracy: 0.6740\n",
            "Epoch 48/125\n",
            "1/1 [==============================] - 0s 27ms/step - loss: 0.7339 - accuracy: 0.6380 - val_loss: 0.6857 - val_accuracy: 0.6800\n",
            "Epoch 49/125\n",
            "1/1 [==============================] - 0s 26ms/step - loss: 0.7305 - accuracy: 0.6400 - val_loss: 0.6825 - val_accuracy: 0.6820\n",
            "Epoch 50/125\n",
            "1/1 [==============================] - 0s 28ms/step - loss: 0.7269 - accuracy: 0.6460 - val_loss: 0.6795 - val_accuracy: 0.6880\n",
            "Epoch 51/125\n",
            "1/1 [==============================] - 0s 26ms/step - loss: 0.7234 - accuracy: 0.6560 - val_loss: 0.6769 - val_accuracy: 0.6920\n",
            "Epoch 52/125\n",
            "1/1 [==============================] - 0s 29ms/step - loss: 0.7202 - accuracy: 0.6520 - val_loss: 0.6748 - val_accuracy: 0.6960\n",
            "Epoch 53/125\n",
            "1/1 [==============================] - 0s 32ms/step - loss: 0.7176 - accuracy: 0.6560 - val_loss: 0.6730 - val_accuracy: 0.7000\n",
            "Epoch 54/125\n",
            "1/1 [==============================] - 0s 27ms/step - loss: 0.7154 - accuracy: 0.6600 - val_loss: 0.6712 - val_accuracy: 0.7000\n",
            "Epoch 55/125\n",
            "1/1 [==============================] - 0s 27ms/step - loss: 0.7134 - accuracy: 0.6680 - val_loss: 0.6692 - val_accuracy: 0.7000\n",
            "Epoch 56/125\n",
            "1/1 [==============================] - 0s 29ms/step - loss: 0.7113 - accuracy: 0.6680 - val_loss: 0.6671 - val_accuracy: 0.7020\n",
            "Epoch 57/125\n",
            "1/1 [==============================] - 0s 30ms/step - loss: 0.7091 - accuracy: 0.6660 - val_loss: 0.6649 - val_accuracy: 0.7020\n",
            "Epoch 58/125\n",
            "1/1 [==============================] - 0s 28ms/step - loss: 0.7070 - accuracy: 0.6620 - val_loss: 0.6627 - val_accuracy: 0.6960\n",
            "Epoch 59/125\n",
            "1/1 [==============================] - 0s 40ms/step - loss: 0.7051 - accuracy: 0.6580 - val_loss: 0.6608 - val_accuracy: 0.6900\n",
            "Epoch 60/125\n",
            "1/1 [==============================] - 0s 30ms/step - loss: 0.7034 - accuracy: 0.6540 - val_loss: 0.6591 - val_accuracy: 0.6880\n",
            "Epoch 61/125\n",
            "1/1 [==============================] - 0s 34ms/step - loss: 0.7019 - accuracy: 0.6520 - val_loss: 0.6576 - val_accuracy: 0.6880\n",
            "Epoch 62/125\n",
            "1/1 [==============================] - 0s 28ms/step - loss: 0.7005 - accuracy: 0.6540 - val_loss: 0.6562 - val_accuracy: 0.6860\n",
            "Epoch 63/125\n",
            "1/1 [==============================] - 0s 28ms/step - loss: 0.6992 - accuracy: 0.6540 - val_loss: 0.6549 - val_accuracy: 0.6880\n",
            "Epoch 64/125\n",
            "1/1 [==============================] - 0s 28ms/step - loss: 0.6979 - accuracy: 0.6540 - val_loss: 0.6537 - val_accuracy: 0.6880\n",
            "Epoch 65/125\n",
            "1/1 [==============================] - 0s 50ms/step - loss: 0.6965 - accuracy: 0.6500 - val_loss: 0.6526 - val_accuracy: 0.6880\n",
            "Epoch 66/125\n",
            "1/1 [==============================] - 0s 29ms/step - loss: 0.6952 - accuracy: 0.6520 - val_loss: 0.6516 - val_accuracy: 0.6940\n",
            "Epoch 67/125\n",
            "1/1 [==============================] - 0s 30ms/step - loss: 0.6939 - accuracy: 0.6580 - val_loss: 0.6507 - val_accuracy: 0.6940\n",
            "Epoch 68/125\n",
            "1/1 [==============================] - 0s 30ms/step - loss: 0.6928 - accuracy: 0.6580 - val_loss: 0.6499 - val_accuracy: 0.6980\n",
            "Epoch 69/125\n",
            "1/1 [==============================] - 0s 36ms/step - loss: 0.6918 - accuracy: 0.6620 - val_loss: 0.6491 - val_accuracy: 0.6980\n",
            "Epoch 70/125\n",
            "1/1 [==============================] - 0s 26ms/step - loss: 0.6908 - accuracy: 0.6620 - val_loss: 0.6482 - val_accuracy: 0.6980\n",
            "Epoch 71/125\n",
            "1/1 [==============================] - 0s 26ms/step - loss: 0.6899 - accuracy: 0.6620 - val_loss: 0.6473 - val_accuracy: 0.6980\n",
            "Epoch 72/125\n",
            "1/1 [==============================] - 0s 26ms/step - loss: 0.6890 - accuracy: 0.6640 - val_loss: 0.6463 - val_accuracy: 0.6980\n",
            "Epoch 73/125\n",
            "1/1 [==============================] - 0s 32ms/step - loss: 0.6881 - accuracy: 0.6620 - val_loss: 0.6453 - val_accuracy: 0.6980\n",
            "Epoch 74/125\n",
            "1/1 [==============================] - 0s 28ms/step - loss: 0.6872 - accuracy: 0.6620 - val_loss: 0.6444 - val_accuracy: 0.6960\n",
            "Epoch 75/125\n",
            "1/1 [==============================] - 0s 25ms/step - loss: 0.6863 - accuracy: 0.6600 - val_loss: 0.6435 - val_accuracy: 0.6960\n",
            "Epoch 76/125\n",
            "1/1 [==============================] - 0s 26ms/step - loss: 0.6855 - accuracy: 0.6600 - val_loss: 0.6426 - val_accuracy: 0.6920\n",
            "Epoch 77/125\n",
            "1/1 [==============================] - 0s 30ms/step - loss: 0.6848 - accuracy: 0.6600 - val_loss: 0.6418 - val_accuracy: 0.6920\n",
            "Epoch 78/125\n",
            "1/1 [==============================] - 0s 29ms/step - loss: 0.6841 - accuracy: 0.6600 - val_loss: 0.6411 - val_accuracy: 0.6920\n",
            "Epoch 79/125\n",
            "1/1 [==============================] - 0s 33ms/step - loss: 0.6834 - accuracy: 0.6600 - val_loss: 0.6404 - val_accuracy: 0.6940\n",
            "Epoch 80/125\n",
            "1/1 [==============================] - 0s 31ms/step - loss: 0.6826 - accuracy: 0.6600 - val_loss: 0.6398 - val_accuracy: 0.6940\n",
            "Epoch 81/125\n",
            "1/1 [==============================] - 0s 32ms/step - loss: 0.6819 - accuracy: 0.6600 - val_loss: 0.6392 - val_accuracy: 0.6940\n",
            "Epoch 82/125\n",
            "1/1 [==============================] - 0s 28ms/step - loss: 0.6812 - accuracy: 0.6600 - val_loss: 0.6387 - val_accuracy: 0.6960\n",
            "Epoch 83/125\n",
            "1/1 [==============================] - 0s 29ms/step - loss: 0.6805 - accuracy: 0.6600 - val_loss: 0.6381 - val_accuracy: 0.6960\n",
            "Epoch 84/125\n",
            "1/1 [==============================] - 0s 30ms/step - loss: 0.6799 - accuracy: 0.6640 - val_loss: 0.6376 - val_accuracy: 0.6940\n",
            "Epoch 85/125\n",
            "1/1 [==============================] - 0s 26ms/step - loss: 0.6792 - accuracy: 0.6640 - val_loss: 0.6371 - val_accuracy: 0.6920\n",
            "Epoch 86/125\n",
            "1/1 [==============================] - 0s 27ms/step - loss: 0.6786 - accuracy: 0.6660 - val_loss: 0.6365 - val_accuracy: 0.6920\n",
            "Epoch 87/125\n",
            "1/1 [==============================] - 0s 31ms/step - loss: 0.6779 - accuracy: 0.6660 - val_loss: 0.6359 - val_accuracy: 0.6940\n",
            "Epoch 88/125\n",
            "1/1 [==============================] - 0s 36ms/step - loss: 0.6773 - accuracy: 0.6660 - val_loss: 0.6353 - val_accuracy: 0.6940\n",
            "Epoch 89/125\n",
            "1/1 [==============================] - 0s 29ms/step - loss: 0.6767 - accuracy: 0.6660 - val_loss: 0.6347 - val_accuracy: 0.6960\n",
            "Epoch 90/125\n",
            "1/1 [==============================] - 0s 47ms/step - loss: 0.6761 - accuracy: 0.6660 - val_loss: 0.6340 - val_accuracy: 0.6980\n",
            "Epoch 91/125\n",
            "1/1 [==============================] - 0s 29ms/step - loss: 0.6755 - accuracy: 0.6660 - val_loss: 0.6335 - val_accuracy: 0.6980\n",
            "Epoch 92/125\n",
            "1/1 [==============================] - 0s 30ms/step - loss: 0.6749 - accuracy: 0.6660 - val_loss: 0.6329 - val_accuracy: 0.6980\n",
            "Epoch 93/125\n",
            "1/1 [==============================] - 0s 29ms/step - loss: 0.6744 - accuracy: 0.6660 - val_loss: 0.6323 - val_accuracy: 0.6980\n",
            "Epoch 94/125\n",
            "1/1 [==============================] - 0s 30ms/step - loss: 0.6738 - accuracy: 0.6640 - val_loss: 0.6318 - val_accuracy: 0.6980\n",
            "Epoch 95/125\n",
            "1/1 [==============================] - 0s 27ms/step - loss: 0.6733 - accuracy: 0.6640 - val_loss: 0.6314 - val_accuracy: 0.6980\n",
            "Epoch 96/125\n",
            "1/1 [==============================] - 0s 28ms/step - loss: 0.6727 - accuracy: 0.6660 - val_loss: 0.6309 - val_accuracy: 0.6980\n",
            "Epoch 97/125\n",
            "1/1 [==============================] - 0s 28ms/step - loss: 0.6722 - accuracy: 0.6660 - val_loss: 0.6305 - val_accuracy: 0.6960\n",
            "Epoch 98/125\n",
            "1/1 [==============================] - 0s 28ms/step - loss: 0.6717 - accuracy: 0.6660 - val_loss: 0.6300 - val_accuracy: 0.6960\n",
            "Epoch 99/125\n",
            "1/1 [==============================] - 0s 29ms/step - loss: 0.6711 - accuracy: 0.6660 - val_loss: 0.6296 - val_accuracy: 0.6940\n",
            "Epoch 100/125\n",
            "1/1 [==============================] - 0s 25ms/step - loss: 0.6706 - accuracy: 0.6660 - val_loss: 0.6292 - val_accuracy: 0.6940\n",
            "Epoch 101/125\n",
            "1/1 [==============================] - 0s 32ms/step - loss: 0.6701 - accuracy: 0.6660 - val_loss: 0.6288 - val_accuracy: 0.6940\n",
            "Epoch 102/125\n",
            "1/1 [==============================] - 0s 32ms/step - loss: 0.6696 - accuracy: 0.6680 - val_loss: 0.6283 - val_accuracy: 0.6960\n",
            "Epoch 103/125\n",
            "1/1 [==============================] - 0s 25ms/step - loss: 0.6692 - accuracy: 0.6680 - val_loss: 0.6279 - val_accuracy: 0.6960\n",
            "Epoch 104/125\n",
            "1/1 [==============================] - 0s 25ms/step - loss: 0.6687 - accuracy: 0.6680 - val_loss: 0.6274 - val_accuracy: 0.6960\n",
            "Epoch 105/125\n",
            "1/1 [==============================] - 0s 26ms/step - loss: 0.6682 - accuracy: 0.6680 - val_loss: 0.6270 - val_accuracy: 0.6960\n",
            "Epoch 106/125\n",
            "1/1 [==============================] - 0s 43ms/step - loss: 0.6677 - accuracy: 0.6680 - val_loss: 0.6265 - val_accuracy: 0.6960\n",
            "Epoch 107/125\n",
            "1/1 [==============================] - 0s 30ms/step - loss: 0.6673 - accuracy: 0.6680 - val_loss: 0.6261 - val_accuracy: 0.6960\n",
            "Epoch 108/125\n",
            "1/1 [==============================] - 0s 30ms/step - loss: 0.6668 - accuracy: 0.6680 - val_loss: 0.6257 - val_accuracy: 0.6960\n",
            "Epoch 109/125\n",
            "1/1 [==============================] - 0s 27ms/step - loss: 0.6664 - accuracy: 0.6680 - val_loss: 0.6253 - val_accuracy: 0.6960\n",
            "Epoch 110/125\n",
            "1/1 [==============================] - 0s 28ms/step - loss: 0.6659 - accuracy: 0.6680 - val_loss: 0.6249 - val_accuracy: 0.6960\n",
            "Epoch 111/125\n",
            "1/1 [==============================] - 0s 49ms/step - loss: 0.6655 - accuracy: 0.6680 - val_loss: 0.6245 - val_accuracy: 0.6960\n",
            "Epoch 112/125\n",
            "1/1 [==============================] - 0s 30ms/step - loss: 0.6651 - accuracy: 0.6680 - val_loss: 0.6242 - val_accuracy: 0.6960\n",
            "Epoch 113/125\n",
            "1/1 [==============================] - 0s 30ms/step - loss: 0.6646 - accuracy: 0.6680 - val_loss: 0.6238 - val_accuracy: 0.6960\n",
            "Epoch 114/125\n",
            "1/1 [==============================] - 0s 36ms/step - loss: 0.6642 - accuracy: 0.6680 - val_loss: 0.6235 - val_accuracy: 0.6960\n",
            "Epoch 115/125\n",
            "1/1 [==============================] - 0s 29ms/step - loss: 0.6638 - accuracy: 0.6680 - val_loss: 0.6232 - val_accuracy: 0.6980\n",
            "Epoch 116/125\n",
            "1/1 [==============================] - 0s 29ms/step - loss: 0.6634 - accuracy: 0.6700 - val_loss: 0.6228 - val_accuracy: 0.7000\n",
            "Epoch 117/125\n",
            "1/1 [==============================] - 0s 47ms/step - loss: 0.6630 - accuracy: 0.6700 - val_loss: 0.6225 - val_accuracy: 0.7000\n",
            "Epoch 118/125\n",
            "1/1 [==============================] - 0s 30ms/step - loss: 0.6626 - accuracy: 0.6700 - val_loss: 0.6221 - val_accuracy: 0.7000\n",
            "Epoch 119/125\n",
            "1/1 [==============================] - 0s 29ms/step - loss: 0.6622 - accuracy: 0.6700 - val_loss: 0.6218 - val_accuracy: 0.7000\n",
            "Epoch 120/125\n",
            "1/1 [==============================] - 0s 29ms/step - loss: 0.6618 - accuracy: 0.6700 - val_loss: 0.6215 - val_accuracy: 0.7000\n",
            "Epoch 121/125\n",
            "1/1 [==============================] - 0s 30ms/step - loss: 0.6614 - accuracy: 0.6700 - val_loss: 0.6211 - val_accuracy: 0.7000\n",
            "Epoch 122/125\n",
            "1/1 [==============================] - 0s 31ms/step - loss: 0.6610 - accuracy: 0.6700 - val_loss: 0.6208 - val_accuracy: 0.7000\n",
            "Epoch 123/125\n",
            "1/1 [==============================] - 0s 26ms/step - loss: 0.6606 - accuracy: 0.6700 - val_loss: 0.6204 - val_accuracy: 0.7000\n",
            "Epoch 124/125\n",
            "1/1 [==============================] - 0s 27ms/step - loss: 0.6603 - accuracy: 0.6700 - val_loss: 0.6201 - val_accuracy: 0.7000\n",
            "Epoch 125/125\n",
            "1/1 [==============================] - 0s 29ms/step - loss: 0.6599 - accuracy: 0.6700 - val_loss: 0.6198 - val_accuracy: 0.7000\n"
          ]
        }
      ],
      "source": [
        "### START CODE HERE ### \n",
        "batch_size =1000\n",
        "history = fit_model(X_train, y_train, X_test, y_test,batch_size)\n",
        "###### END CODE HERE"
      ]
    },
    {
      "cell_type": "code",
      "execution_count": null,
      "id": "eca79f36-f9b9-444d-950b-5c3d55dfc307",
      "metadata": {
        "tags": [],
        "id": "eca79f36-f9b9-444d-950b-5c3d55dfc307",
        "colab": {
          "base_uri": "https://localhost:8080/",
          "height": 350
        },
        "outputId": "8cdf31aa-9e58-4759-ffa7-45a2cc66e8da"
      },
      "outputs": [
        {
          "output_type": "display_data",
          "data": {
            "text/plain": [
              "<Figure size 720x360 with 1 Axes>"
            ],
            "image/png": "[encoded data removed]"
          },
          "metadata": {
            "needs_background": "light"
          }
        }
      ],
      "source": [
        "plt.figure(figsize=(10,5))\n",
        "plt.plot(history.history['loss'])\n",
        "plt.plot(history.history['val_loss'])\n",
        "plt.title('Loss vs. epochs, batch=' +str(batch_size))\n",
        "plt.ylabel('Loss')\n",
        "plt.xlabel('Epoch')\n",
        "plt.legend(['Training', 'Validation'], loc='upper right')\n",
        "plt.show()"
      ]
    },
    {
      "cell_type": "markdown",
      "id": "d58d23e3-89c6-4596-80d3-33b98d895eb1",
      "metadata": {
        "id": "d58d23e3-89c6-4596-80d3-33b98d895eb1"
      },
      "source": [
        "10. **What effect does changing batch size have on learning in terms of convergence and fluctuations?**\n",
        "\n",
        "**Answer:**\n",
        "the effect is less fluctuation but less convergence with the increase of batch size"
      ]
    },
    {
      "cell_type": "markdown",
      "id": "ac0b0cdb-78c2-4239-bbb9-4bea511b52b1",
      "metadata": {
        "jp-MarkdownHeadingCollapsed": true,
        "tags": [],
        "id": "ac0b0cdb-78c2-4239-bbb9-4bea511b52b1"
      },
      "source": [
        "#### Learning Rate"
      ]
    },
    {
      "cell_type": "markdown",
      "id": "c7be280d-068a-4695-b716-c1ef97d4d6f4",
      "metadata": {
        "id": "c7be280d-068a-4695-b716-c1ef97d4d6f4"
      },
      "source": [
        "batch size 64"
      ]
    },
    {
      "cell_type": "markdown",
      "id": "2970cd51-b911-455a-b6c3-17f477415759",
      "metadata": {
        "id": "2970cd51-b911-455a-b6c3-17f477415759"
      },
      "source": [
        "- **Use same code for build_model above, add an argument learning rate to change learning rate of optmizer**"
      ]
    },
    {
      "cell_type": "code",
      "execution_count": null,
      "id": "939ebb69-e520-4d68-9fa7-ce00f0257629",
      "metadata": {
        "id": "939ebb69-e520-4d68-9fa7-ce00f0257629"
      },
      "outputs": [],
      "source": [
        "def build_model(lr):\n",
        "    \n",
        "    ##### YOUR CODE HERE\n",
        "    # define model\n",
        "    model = tf.keras.Sequential([\n",
        "          tf.keras.layers.Dense(50, activation = \"relu\" , kernel_initializer = 'he_uniform'),\n",
        "          tf.keras.layers.Dense(3, activation = \"softmax\")])\n",
        "\n",
        "      # compile model\n",
        "    model.compile(tf.keras.optimizers.SGD(learning_rate=lr, momentum=0.9), loss = 'CategoricalCrossentropy' ,metrics = \"accuracy\" )    \n",
        "    # compile model  \n",
        "    return model\n",
        "def fit_model(X_train, y_train, X_test, y_test, n_batch):\n",
        "    ##### YOUR CODE HERE\n",
        "    # build model\n",
        "    model = build_model(lr)\n",
        "    # fit model\n",
        "    history = model.fit(X_train , y_train , batch_size=n_batch,epochs=125, validation_data=(X_test,y_test))\n",
        "    return history"
      ]
    },
    {
      "cell_type": "markdown",
      "id": "72f1ebf6-5bcb-4e2b-bee7-3eb282fd88b1",
      "metadata": {
        "id": "72f1ebf6-5bcb-4e2b-bee7-3eb282fd88b1"
      },
      "source": [
        "##### LR =  0.00001"
      ]
    },
    {
      "cell_type": "markdown",
      "id": "739eab80-d78f-4ca3-9992-42096088cf7a",
      "metadata": {
        "id": "739eab80-d78f-4ca3-9992-42096088cf7a"
      },
      "source": [
        "10. **Retrain for 0.00001 LR**"
      ]
    },
    {
      "cell_type": "code",
      "execution_count": null,
      "id": "fb2ad280-97f1-4c16-9aad-d99c96780472",
      "metadata": {
        "tags": [],
        "id": "fb2ad280-97f1-4c16-9aad-d99c96780472",
        "colab": {
          "base_uri": "https://localhost:8080/"
        },
        "outputId": "35934fdc-ceb8-4df8-afae-e983c35cec56"
      },
      "outputs": [
        {
          "output_type": "stream",
          "name": "stdout",
          "text": [
            "Epoch 1/125\n",
            "8/8 [==============================] - 1s 24ms/step - loss: 9.2220 - accuracy: 0.3120 - val_loss: 8.4686 - val_accuracy: 0.3320\n",
            "Epoch 2/125\n",
            "8/8 [==============================] - 0s 7ms/step - loss: 8.6805 - accuracy: 0.3120 - val_loss: 7.7944 - val_accuracy: 0.3360\n",
            "Epoch 3/125\n",
            "8/8 [==============================] - 0s 8ms/step - loss: 7.8753 - accuracy: 0.3140 - val_loss: 6.9865 - val_accuracy: 0.3360\n",
            "Epoch 4/125\n",
            "8/8 [==============================] - 0s 7ms/step - loss: 6.9979 - accuracy: 0.3120 - val_loss: 6.1036 - val_accuracy: 0.3360\n",
            "Epoch 5/125\n",
            "8/8 [==============================] - 0s 5ms/step - loss: 6.0340 - accuracy: 0.3120 - val_loss: 5.2333 - val_accuracy: 0.3360\n",
            "Epoch 6/125\n",
            "8/8 [==============================] - 0s 6ms/step - loss: 5.1100 - accuracy: 0.3080 - val_loss: 4.3774 - val_accuracy: 0.3340\n",
            "Epoch 7/125\n",
            "8/8 [==============================] - 0s 5ms/step - loss: 4.2098 - accuracy: 0.2980 - val_loss: 3.5913 - val_accuracy: 0.3200\n",
            "Epoch 8/125\n",
            "8/8 [==============================] - 0s 7ms/step - loss: 3.4021 - accuracy: 0.3000 - val_loss: 2.9294 - val_accuracy: 0.3400\n",
            "Epoch 9/125\n",
            "8/8 [==============================] - 0s 5ms/step - loss: 2.7756 - accuracy: 0.3440 - val_loss: 2.4460 - val_accuracy: 0.4020\n",
            "Epoch 10/125\n",
            "8/8 [==============================] - 0s 9ms/step - loss: 2.3579 - accuracy: 0.4120 - val_loss: 2.1462 - val_accuracy: 0.4740\n",
            "Epoch 11/125\n",
            "8/8 [==============================] - 0s 8ms/step - loss: 2.1080 - accuracy: 0.4500 - val_loss: 1.9589 - val_accuracy: 0.4960\n",
            "Epoch 12/125\n",
            "8/8 [==============================] - 0s 5ms/step - loss: 1.9428 - accuracy: 0.4720 - val_loss: 1.8282 - val_accuracy: 0.5000\n",
            "Epoch 13/125\n",
            "8/8 [==============================] - 0s 6ms/step - loss: 1.8271 - accuracy: 0.4860 - val_loss: 1.7225 - val_accuracy: 0.5060\n",
            "Epoch 14/125\n",
            "8/8 [==============================] - 0s 6ms/step - loss: 1.7300 - accuracy: 0.5000 - val_loss: 1.6304 - val_accuracy: 0.5100\n",
            "Epoch 15/125\n",
            "8/8 [==============================] - 0s 6ms/step - loss: 1.6422 - accuracy: 0.5020 - val_loss: 1.5480 - val_accuracy: 0.5140\n",
            "Epoch 16/125\n",
            "8/8 [==============================] - 0s 7ms/step - loss: 1.5614 - accuracy: 0.5120 - val_loss: 1.4722 - val_accuracy: 0.5160\n",
            "Epoch 17/125\n",
            "8/8 [==============================] - 0s 7ms/step - loss: 1.4869 - accuracy: 0.5140 - val_loss: 1.4002 - val_accuracy: 0.5240\n",
            "Epoch 18/125\n",
            "8/8 [==============================] - 0s 7ms/step - loss: 1.4139 - accuracy: 0.5140 - val_loss: 1.3342 - val_accuracy: 0.5220\n",
            "Epoch 19/125\n",
            "8/8 [==============================] - 0s 6ms/step - loss: 1.3460 - accuracy: 0.5200 - val_loss: 1.2728 - val_accuracy: 0.5240\n",
            "Epoch 20/125\n",
            "8/8 [==============================] - 0s 7ms/step - loss: 1.2849 - accuracy: 0.5180 - val_loss: 1.2156 - val_accuracy: 0.5300\n",
            "Epoch 21/125\n",
            "8/8 [==============================] - 0s 6ms/step - loss: 1.2259 - accuracy: 0.5240 - val_loss: 1.1657 - val_accuracy: 0.5320\n",
            "Epoch 22/125\n",
            "8/8 [==============================] - 0s 6ms/step - loss: 1.1738 - accuracy: 0.5260 - val_loss: 1.1224 - val_accuracy: 0.5340\n",
            "Epoch 23/125\n",
            "8/8 [==============================] - 0s 5ms/step - loss: 1.1317 - accuracy: 0.5280 - val_loss: 1.0847 - val_accuracy: 0.5360\n",
            "Epoch 24/125\n",
            "8/8 [==============================] - 0s 7ms/step - loss: 1.0914 - accuracy: 0.5300 - val_loss: 1.0549 - val_accuracy: 0.5400\n",
            "Epoch 25/125\n",
            "8/8 [==============================] - 0s 8ms/step - loss: 1.0626 - accuracy: 0.5340 - val_loss: 1.0316 - val_accuracy: 0.5420\n",
            "Epoch 26/125\n",
            "8/8 [==============================] - 0s 6ms/step - loss: 1.0385 - accuracy: 0.5360 - val_loss: 1.0138 - val_accuracy: 0.5400\n",
            "Epoch 27/125\n",
            "8/8 [==============================] - 0s 6ms/step - loss: 1.0208 - accuracy: 0.5400 - val_loss: 1.0003 - val_accuracy: 0.5340\n",
            "Epoch 28/125\n",
            "8/8 [==============================] - 0s 6ms/step - loss: 1.0077 - accuracy: 0.5460 - val_loss: 0.9892 - val_accuracy: 0.5380\n",
            "Epoch 29/125\n",
            "8/8 [==============================] - 0s 7ms/step - loss: 0.9965 - accuracy: 0.5480 - val_loss: 0.9807 - val_accuracy: 0.5420\n",
            "Epoch 30/125\n",
            "8/8 [==============================] - 0s 6ms/step - loss: 0.9882 - accuracy: 0.5460 - val_loss: 0.9729 - val_accuracy: 0.5440\n",
            "Epoch 31/125\n",
            "8/8 [==============================] - 0s 7ms/step - loss: 0.9812 - accuracy: 0.5480 - val_loss: 0.9654 - val_accuracy: 0.5480\n",
            "Epoch 32/125\n",
            "8/8 [==============================] - 0s 8ms/step - loss: 0.9743 - accuracy: 0.5500 - val_loss: 0.9582 - val_accuracy: 0.5520\n",
            "Epoch 33/125\n",
            "8/8 [==============================] - 0s 6ms/step - loss: 0.9678 - accuracy: 0.5500 - val_loss: 0.9519 - val_accuracy: 0.5560\n",
            "Epoch 34/125\n",
            "8/8 [==============================] - 0s 6ms/step - loss: 0.9627 - accuracy: 0.5500 - val_loss: 0.9456 - val_accuracy: 0.5600\n",
            "Epoch 35/125\n",
            "8/8 [==============================] - 0s 6ms/step - loss: 0.9573 - accuracy: 0.5520 - val_loss: 0.9393 - val_accuracy: 0.5600\n",
            "Epoch 36/125\n",
            "8/8 [==============================] - 0s 6ms/step - loss: 0.9524 - accuracy: 0.5540 - val_loss: 0.9334 - val_accuracy: 0.5580\n",
            "Epoch 37/125\n",
            "8/8 [==============================] - 0s 7ms/step - loss: 0.9479 - accuracy: 0.5580 - val_loss: 0.9283 - val_accuracy: 0.5620\n",
            "Epoch 38/125\n",
            "8/8 [==============================] - 0s 6ms/step - loss: 0.9434 - accuracy: 0.5620 - val_loss: 0.9229 - val_accuracy: 0.5660\n",
            "Epoch 39/125\n",
            "8/8 [==============================] - 0s 6ms/step - loss: 0.9387 - accuracy: 0.5640 - val_loss: 0.9181 - val_accuracy: 0.5680\n",
            "Epoch 40/125\n",
            "8/8 [==============================] - 0s 6ms/step - loss: 0.9347 - accuracy: 0.5660 - val_loss: 0.9135 - val_accuracy: 0.5720\n",
            "Epoch 41/125\n",
            "8/8 [==============================] - 0s 8ms/step - loss: 0.9309 - accuracy: 0.5680 - val_loss: 0.9087 - val_accuracy: 0.5740\n",
            "Epoch 42/125\n",
            "8/8 [==============================] - 0s 5ms/step - loss: 0.9274 - accuracy: 0.5720 - val_loss: 0.9043 - val_accuracy: 0.5760\n",
            "Epoch 43/125\n",
            "8/8 [==============================] - 0s 5ms/step - loss: 0.9235 - accuracy: 0.5740 - val_loss: 0.9006 - val_accuracy: 0.5800\n",
            "Epoch 44/125\n",
            "8/8 [==============================] - 0s 6ms/step - loss: 0.9202 - accuracy: 0.5800 - val_loss: 0.8962 - val_accuracy: 0.5820\n",
            "Epoch 45/125\n",
            "8/8 [==============================] - 0s 6ms/step - loss: 0.9167 - accuracy: 0.5820 - val_loss: 0.8927 - val_accuracy: 0.5900\n",
            "Epoch 46/125\n",
            "8/8 [==============================] - 0s 6ms/step - loss: 0.9137 - accuracy: 0.5860 - val_loss: 0.8885 - val_accuracy: 0.5920\n",
            "Epoch 47/125\n",
            "8/8 [==============================] - 0s 6ms/step - loss: 0.9104 - accuracy: 0.5920 - val_loss: 0.8847 - val_accuracy: 0.5940\n",
            "Epoch 48/125\n",
            "8/8 [==============================] - 0s 8ms/step - loss: 0.9074 - accuracy: 0.5920 - val_loss: 0.8814 - val_accuracy: 0.6000\n",
            "Epoch 49/125\n",
            "8/8 [==============================] - 0s 6ms/step - loss: 0.9047 - accuracy: 0.5960 - val_loss: 0.8774 - val_accuracy: 0.6020\n",
            "Epoch 50/125\n",
            "8/8 [==============================] - 0s 7ms/step - loss: 0.9016 - accuracy: 0.6000 - val_loss: 0.8744 - val_accuracy: 0.6100\n",
            "Epoch 51/125\n",
            "8/8 [==============================] - 0s 8ms/step - loss: 0.8991 - accuracy: 0.6000 - val_loss: 0.8716 - val_accuracy: 0.6100\n",
            "Epoch 52/125\n",
            "8/8 [==============================] - 0s 7ms/step - loss: 0.8963 - accuracy: 0.6000 - val_loss: 0.8681 - val_accuracy: 0.6100\n",
            "Epoch 53/125\n",
            "8/8 [==============================] - 0s 7ms/step - loss: 0.8938 - accuracy: 0.6000 - val_loss: 0.8651 - val_accuracy: 0.6140\n",
            "Epoch 54/125\n",
            "8/8 [==============================] - 0s 6ms/step - loss: 0.8912 - accuracy: 0.6000 - val_loss: 0.8617 - val_accuracy: 0.6140\n",
            "Epoch 55/125\n",
            "8/8 [==============================] - 0s 6ms/step - loss: 0.8887 - accuracy: 0.6020 - val_loss: 0.8591 - val_accuracy: 0.6140\n",
            "Epoch 56/125\n",
            "8/8 [==============================] - 0s 6ms/step - loss: 0.8863 - accuracy: 0.6060 - val_loss: 0.8563 - val_accuracy: 0.6140\n",
            "Epoch 57/125\n",
            "8/8 [==============================] - 0s 6ms/step - loss: 0.8842 - accuracy: 0.6080 - val_loss: 0.8532 - val_accuracy: 0.6140\n",
            "Epoch 58/125\n",
            "8/8 [==============================] - 0s 8ms/step - loss: 0.8819 - accuracy: 0.6060 - val_loss: 0.8505 - val_accuracy: 0.6200\n",
            "Epoch 59/125\n",
            "8/8 [==============================] - 0s 7ms/step - loss: 0.8797 - accuracy: 0.6080 - val_loss: 0.8480 - val_accuracy: 0.6220\n",
            "Epoch 60/125\n",
            "8/8 [==============================] - 0s 6ms/step - loss: 0.8776 - accuracy: 0.6080 - val_loss: 0.8459 - val_accuracy: 0.6240\n",
            "Epoch 61/125\n",
            "8/8 [==============================] - 0s 6ms/step - loss: 0.8757 - accuracy: 0.6100 - val_loss: 0.8432 - val_accuracy: 0.6220\n",
            "Epoch 62/125\n",
            "8/8 [==============================] - 0s 8ms/step - loss: 0.8734 - accuracy: 0.6140 - val_loss: 0.8410 - val_accuracy: 0.6240\n",
            "Epoch 63/125\n",
            "8/8 [==============================] - 0s 6ms/step - loss: 0.8717 - accuracy: 0.6180 - val_loss: 0.8387 - val_accuracy: 0.6240\n",
            "Epoch 64/125\n",
            "8/8 [==============================] - 0s 6ms/step - loss: 0.8697 - accuracy: 0.6180 - val_loss: 0.8364 - val_accuracy: 0.6260\n",
            "Epoch 65/125\n",
            "8/8 [==============================] - 0s 6ms/step - loss: 0.8679 - accuracy: 0.6180 - val_loss: 0.8340 - val_accuracy: 0.6260\n",
            "Epoch 66/125\n",
            "8/8 [==============================] - 0s 6ms/step - loss: 0.8661 - accuracy: 0.6160 - val_loss: 0.8316 - val_accuracy: 0.6280\n",
            "Epoch 67/125\n",
            "8/8 [==============================] - 0s 7ms/step - loss: 0.8643 - accuracy: 0.6160 - val_loss: 0.8294 - val_accuracy: 0.6280\n",
            "Epoch 68/125\n",
            "8/8 [==============================] - 0s 6ms/step - loss: 0.8626 - accuracy: 0.6160 - val_loss: 0.8276 - val_accuracy: 0.6280\n",
            "Epoch 69/125\n",
            "8/8 [==============================] - 0s 7ms/step - loss: 0.8609 - accuracy: 0.6160 - val_loss: 0.8255 - val_accuracy: 0.6280\n",
            "Epoch 70/125\n",
            "8/8 [==============================] - 0s 7ms/step - loss: 0.8595 - accuracy: 0.6160 - val_loss: 0.8232 - val_accuracy: 0.6280\n",
            "Epoch 71/125\n",
            "8/8 [==============================] - 0s 6ms/step - loss: 0.8575 - accuracy: 0.6160 - val_loss: 0.8216 - val_accuracy: 0.6300\n",
            "Epoch 72/125\n",
            "8/8 [==============================] - 0s 6ms/step - loss: 0.8562 - accuracy: 0.6120 - val_loss: 0.8199 - val_accuracy: 0.6320\n",
            "Epoch 73/125\n",
            "8/8 [==============================] - 0s 7ms/step - loss: 0.8546 - accuracy: 0.6100 - val_loss: 0.8181 - val_accuracy: 0.6320\n",
            "Epoch 74/125\n",
            "8/8 [==============================] - 0s 7ms/step - loss: 0.8531 - accuracy: 0.6120 - val_loss: 0.8162 - val_accuracy: 0.6320\n",
            "Epoch 75/125\n",
            "8/8 [==============================] - 0s 6ms/step - loss: 0.8518 - accuracy: 0.6140 - val_loss: 0.8144 - val_accuracy: 0.6340\n",
            "Epoch 76/125\n",
            "8/8 [==============================] - 0s 6ms/step - loss: 0.8503 - accuracy: 0.6120 - val_loss: 0.8128 - val_accuracy: 0.6340\n",
            "Epoch 77/125\n",
            "8/8 [==============================] - 0s 6ms/step - loss: 0.8491 - accuracy: 0.6160 - val_loss: 0.8106 - val_accuracy: 0.6360\n",
            "Epoch 78/125\n",
            "8/8 [==============================] - 0s 7ms/step - loss: 0.8474 - accuracy: 0.6200 - val_loss: 0.8093 - val_accuracy: 0.6380\n",
            "Epoch 79/125\n",
            "8/8 [==============================] - 0s 8ms/step - loss: 0.8462 - accuracy: 0.6220 - val_loss: 0.8078 - val_accuracy: 0.6360\n",
            "Epoch 80/125\n",
            "8/8 [==============================] - 0s 6ms/step - loss: 0.8451 - accuracy: 0.6220 - val_loss: 0.8064 - val_accuracy: 0.6380\n",
            "Epoch 81/125\n",
            "8/8 [==============================] - 0s 6ms/step - loss: 0.8438 - accuracy: 0.6220 - val_loss: 0.8049 - val_accuracy: 0.6400\n",
            "Epoch 82/125\n",
            "8/8 [==============================] - 0s 7ms/step - loss: 0.8425 - accuracy: 0.6220 - val_loss: 0.8036 - val_accuracy: 0.6400\n",
            "Epoch 83/125\n",
            "8/8 [==============================] - 0s 7ms/step - loss: 0.8413 - accuracy: 0.6220 - val_loss: 0.8021 - val_accuracy: 0.6380\n",
            "Epoch 84/125\n",
            "8/8 [==============================] - 0s 6ms/step - loss: 0.8402 - accuracy: 0.6220 - val_loss: 0.8009 - val_accuracy: 0.6400\n",
            "Epoch 85/125\n",
            "8/8 [==============================] - 0s 6ms/step - loss: 0.8390 - accuracy: 0.6220 - val_loss: 0.7993 - val_accuracy: 0.6400\n",
            "Epoch 86/125\n",
            "8/8 [==============================] - 0s 6ms/step - loss: 0.8378 - accuracy: 0.6200 - val_loss: 0.7977 - val_accuracy: 0.6400\n",
            "Epoch 87/125\n",
            "8/8 [==============================] - 0s 7ms/step - loss: 0.8367 - accuracy: 0.6200 - val_loss: 0.7964 - val_accuracy: 0.6420\n",
            "Epoch 88/125\n",
            "8/8 [==============================] - 0s 6ms/step - loss: 0.8357 - accuracy: 0.6200 - val_loss: 0.7950 - val_accuracy: 0.6420\n",
            "Epoch 89/125\n",
            "8/8 [==============================] - 0s 7ms/step - loss: 0.8346 - accuracy: 0.6200 - val_loss: 0.7936 - val_accuracy: 0.6440\n",
            "Epoch 90/125\n",
            "8/8 [==============================] - 0s 8ms/step - loss: 0.8337 - accuracy: 0.6220 - val_loss: 0.7924 - val_accuracy: 0.6440\n",
            "Epoch 91/125\n",
            "8/8 [==============================] - 0s 5ms/step - loss: 0.8325 - accuracy: 0.6220 - val_loss: 0.7910 - val_accuracy: 0.6440\n",
            "Epoch 92/125\n",
            "8/8 [==============================] - 0s 6ms/step - loss: 0.8315 - accuracy: 0.6200 - val_loss: 0.7898 - val_accuracy: 0.6440\n",
            "Epoch 93/125\n",
            "8/8 [==============================] - 0s 7ms/step - loss: 0.8305 - accuracy: 0.6180 - val_loss: 0.7886 - val_accuracy: 0.6460\n",
            "Epoch 94/125\n",
            "8/8 [==============================] - 0s 7ms/step - loss: 0.8296 - accuracy: 0.6180 - val_loss: 0.7872 - val_accuracy: 0.6500\n",
            "Epoch 95/125\n",
            "8/8 [==============================] - 0s 7ms/step - loss: 0.8286 - accuracy: 0.6200 - val_loss: 0.7861 - val_accuracy: 0.6480\n",
            "Epoch 96/125\n",
            "8/8 [==============================] - 0s 7ms/step - loss: 0.8277 - accuracy: 0.6200 - val_loss: 0.7850 - val_accuracy: 0.6480\n",
            "Epoch 97/125\n",
            "8/8 [==============================] - 0s 6ms/step - loss: 0.8268 - accuracy: 0.6200 - val_loss: 0.7840 - val_accuracy: 0.6480\n",
            "Epoch 98/125\n",
            "8/8 [==============================] - 0s 5ms/step - loss: 0.8259 - accuracy: 0.6220 - val_loss: 0.7830 - val_accuracy: 0.6480\n",
            "Epoch 99/125\n",
            "8/8 [==============================] - 0s 6ms/step - loss: 0.8249 - accuracy: 0.6200 - val_loss: 0.7820 - val_accuracy: 0.6500\n",
            "Epoch 100/125\n",
            "8/8 [==============================] - 0s 6ms/step - loss: 0.8241 - accuracy: 0.6200 - val_loss: 0.7807 - val_accuracy: 0.6520\n",
            "Epoch 101/125\n",
            "8/8 [==============================] - 0s 6ms/step - loss: 0.8233 - accuracy: 0.6220 - val_loss: 0.7795 - val_accuracy: 0.6520\n",
            "Epoch 102/125\n",
            "8/8 [==============================] - 0s 6ms/step - loss: 0.8223 - accuracy: 0.6220 - val_loss: 0.7787 - val_accuracy: 0.6520\n",
            "Epoch 103/125\n",
            "8/8 [==============================] - 0s 6ms/step - loss: 0.8215 - accuracy: 0.6200 - val_loss: 0.7777 - val_accuracy: 0.6540\n",
            "Epoch 104/125\n",
            "8/8 [==============================] - 0s 7ms/step - loss: 0.8207 - accuracy: 0.6200 - val_loss: 0.7764 - val_accuracy: 0.6520\n",
            "Epoch 105/125\n",
            "8/8 [==============================] - 0s 8ms/step - loss: 0.8198 - accuracy: 0.6240 - val_loss: 0.7755 - val_accuracy: 0.6560\n",
            "Epoch 106/125\n",
            "8/8 [==============================] - 0s 6ms/step - loss: 0.8191 - accuracy: 0.6220 - val_loss: 0.7749 - val_accuracy: 0.6540\n",
            "Epoch 107/125\n",
            "8/8 [==============================] - 0s 8ms/step - loss: 0.8184 - accuracy: 0.6200 - val_loss: 0.7743 - val_accuracy: 0.6560\n",
            "Epoch 108/125\n",
            "8/8 [==============================] - 0s 7ms/step - loss: 0.8176 - accuracy: 0.6220 - val_loss: 0.7731 - val_accuracy: 0.6560\n",
            "Epoch 109/125\n",
            "8/8 [==============================] - 0s 6ms/step - loss: 0.8168 - accuracy: 0.6240 - val_loss: 0.7719 - val_accuracy: 0.6560\n",
            "Epoch 110/125\n",
            "8/8 [==============================] - 0s 8ms/step - loss: 0.8160 - accuracy: 0.6260 - val_loss: 0.7711 - val_accuracy: 0.6560\n",
            "Epoch 111/125\n",
            "8/8 [==============================] - 0s 7ms/step - loss: 0.8152 - accuracy: 0.6260 - val_loss: 0.7703 - val_accuracy: 0.6580\n",
            "Epoch 112/125\n",
            "8/8 [==============================] - 0s 7ms/step - loss: 0.8147 - accuracy: 0.6260 - val_loss: 0.7691 - val_accuracy: 0.6580\n",
            "Epoch 113/125\n",
            "8/8 [==============================] - 0s 6ms/step - loss: 0.8139 - accuracy: 0.6280 - val_loss: 0.7686 - val_accuracy: 0.6580\n",
            "Epoch 114/125\n",
            "8/8 [==============================] - 0s 7ms/step - loss: 0.8132 - accuracy: 0.6300 - val_loss: 0.7675 - val_accuracy: 0.6580\n",
            "Epoch 115/125\n",
            "8/8 [==============================] - 0s 7ms/step - loss: 0.8125 - accuracy: 0.6320 - val_loss: 0.7668 - val_accuracy: 0.6580\n",
            "Epoch 116/125\n",
            "8/8 [==============================] - 0s 6ms/step - loss: 0.8118 - accuracy: 0.6320 - val_loss: 0.7660 - val_accuracy: 0.6580\n",
            "Epoch 117/125\n",
            "8/8 [==============================] - 0s 6ms/step - loss: 0.8110 - accuracy: 0.6320 - val_loss: 0.7653 - val_accuracy: 0.6580\n",
            "Epoch 118/125\n",
            "8/8 [==============================] - 0s 6ms/step - loss: 0.8104 - accuracy: 0.6320 - val_loss: 0.7645 - val_accuracy: 0.6580\n",
            "Epoch 119/125\n",
            "8/8 [==============================] - 0s 6ms/step - loss: 0.8097 - accuracy: 0.6280 - val_loss: 0.7636 - val_accuracy: 0.6580\n",
            "Epoch 120/125\n",
            "8/8 [==============================] - 0s 8ms/step - loss: 0.8091 - accuracy: 0.6280 - val_loss: 0.7628 - val_accuracy: 0.6600\n",
            "Epoch 121/125\n",
            "8/8 [==============================] - 0s 6ms/step - loss: 0.8084 - accuracy: 0.6280 - val_loss: 0.7619 - val_accuracy: 0.6620\n",
            "Epoch 122/125\n",
            "8/8 [==============================] - 0s 5ms/step - loss: 0.8078 - accuracy: 0.6280 - val_loss: 0.7612 - val_accuracy: 0.6620\n",
            "Epoch 123/125\n",
            "8/8 [==============================] - 0s 7ms/step - loss: 0.8072 - accuracy: 0.6280 - val_loss: 0.7606 - val_accuracy: 0.6620\n",
            "Epoch 124/125\n",
            "8/8 [==============================] - 0s 7ms/step - loss: 0.8065 - accuracy: 0.6300 - val_loss: 0.7598 - val_accuracy: 0.6640\n",
            "Epoch 125/125\n",
            "8/8 [==============================] - 0s 7ms/step - loss: 0.8062 - accuracy: 0.6280 - val_loss: 0.7588 - val_accuracy: 0.6660\n",
            "Model: \"sequential_17\"\n",
            "_________________________________________________________________\n",
            " Layer (type)                Output Shape              Param #   \n",
            "=================================================================\n",
            " dense_35 (Dense)            (None, 50)                150       \n",
            "                                                                 \n",
            " dense_36 (Dense)            (None, 3)                 153       \n",
            "                                                                 \n",
            "=================================================================\n",
            "Total params: 303\n",
            "Trainable params: 303\n",
            "Non-trainable params: 0\n",
            "_________________________________________________________________\n",
            "None\n"
          ]
        }
      ],
      "source": [
        "### START CODE HERE ### ()\n",
        "# Print the model summary\n",
        "model = build_model(0.00001)\n",
        "history = model.fit(X_train, y_train, batch_size = 64 , epochs = 125 , validation_data = (X_test, y_test))\n",
        "print(model.summary())\n"
      ]
    },
    {
      "cell_type": "code",
      "execution_count": null,
      "id": "6f5e459c-4f1e-4bf3-88d7-3a7af2f789eb",
      "metadata": {
        "id": "6f5e459c-4f1e-4bf3-88d7-3a7af2f789eb",
        "colab": {
          "base_uri": "https://localhost:8080/",
          "height": 350
        },
        "outputId": "4e86a10d-7ed9-4603-b806-4241fafbd46b"
      },
      "outputs": [
        {
          "output_type": "display_data",
          "data": {
            "text/plain": [
              "<Figure size 720x360 with 1 Axes>"
            ],
            "image/png": "[encoded data removed]"
          },
          "metadata": {
            "needs_background": "light"
          }
        }
      ],
      "source": [
        "plt.figure(figsize=(10,5))\n",
        "plt.plot(history.history['loss'])\n",
        "plt.plot(history.history['val_loss'])\n",
        "plt.title('Loss vs. epochs, batch=' +str(batch_size))\n",
        "plt.ylabel('Loss')\n",
        "plt.xlabel('Epoch')\n",
        "plt.legend(['Training', 'Validation'], loc='upper right')\n",
        "plt.show()"
      ]
    },
    {
      "cell_type": "markdown",
      "id": "467481cd-d773-479b-837b-94b0cd4c056a",
      "metadata": {
        "id": "467481cd-d773-479b-837b-94b0cd4c056a"
      },
      "source": [
        "##### LR =  0.001"
      ]
    },
    {
      "cell_type": "markdown",
      "id": "bd885be3-5ac4-4bad-80eb-7a9e1850a3e5",
      "metadata": {
        "id": "bd885be3-5ac4-4bad-80eb-7a9e1850a3e5"
      },
      "source": [
        "10. **Retrain for 0.001 LR**"
      ]
    },
    {
      "cell_type": "code",
      "execution_count": null,
      "id": "afa0d071-55ed-42e5-bd40-ef410c33128f",
      "metadata": {
        "tags": [],
        "id": "afa0d071-55ed-42e5-bd40-ef410c33128f",
        "colab": {
          "base_uri": "https://localhost:8080/"
        },
        "outputId": "d14f123f-4fe9-4e71-b679-2689e1b091f7"
      },
      "outputs": [
        {
          "output_type": "stream",
          "name": "stdout",
          "text": [
            "Epoch 1/125\n",
            "8/8 [==============================] - 1s 26ms/step - loss: 1.5224 - accuracy: 0.4440 - val_loss: 1.2879 - val_accuracy: 0.3980\n",
            "Epoch 2/125\n",
            "8/8 [==============================] - 0s 9ms/step - loss: 1.0005 - accuracy: 0.4700 - val_loss: 0.7726 - val_accuracy: 0.5480\n",
            "Epoch 3/125\n",
            "8/8 [==============================] - 0s 6ms/step - loss: 0.7871 - accuracy: 0.5760 - val_loss: 0.7268 - val_accuracy: 0.6580\n",
            "Epoch 4/125\n",
            "8/8 [==============================] - 0s 7ms/step - loss: 0.7855 - accuracy: 0.6120 - val_loss: 0.7174 - val_accuracy: 0.6860\n",
            "Epoch 5/125\n",
            "8/8 [==============================] - 0s 6ms/step - loss: 0.7627 - accuracy: 0.6200 - val_loss: 0.7020 - val_accuracy: 0.6940\n",
            "Epoch 6/125\n",
            "8/8 [==============================] - 0s 8ms/step - loss: 0.7387 - accuracy: 0.6280 - val_loss: 0.6865 - val_accuracy: 0.6440\n",
            "Epoch 7/125\n",
            "8/8 [==============================] - 0s 8ms/step - loss: 0.7224 - accuracy: 0.6220 - val_loss: 0.6770 - val_accuracy: 0.6660\n",
            "Epoch 8/125\n",
            "8/8 [==============================] - 0s 6ms/step - loss: 0.7145 - accuracy: 0.6300 - val_loss: 0.6698 - val_accuracy: 0.6440\n",
            "Epoch 9/125\n",
            "8/8 [==============================] - 0s 8ms/step - loss: 0.7090 - accuracy: 0.6160 - val_loss: 0.6635 - val_accuracy: 0.6800\n",
            "Epoch 10/125\n",
            "8/8 [==============================] - 0s 9ms/step - loss: 0.7034 - accuracy: 0.6340 - val_loss: 0.6570 - val_accuracy: 0.6840\n",
            "Epoch 11/125\n",
            "8/8 [==============================] - 0s 6ms/step - loss: 0.6954 - accuracy: 0.6580 - val_loss: 0.6526 - val_accuracy: 0.7040\n",
            "Epoch 12/125\n",
            "8/8 [==============================] - 0s 6ms/step - loss: 0.6909 - accuracy: 0.6700 - val_loss: 0.6463 - val_accuracy: 0.7020\n",
            "Epoch 13/125\n",
            "8/8 [==============================] - 0s 6ms/step - loss: 0.6855 - accuracy: 0.6600 - val_loss: 0.6428 - val_accuracy: 0.7080\n",
            "Epoch 14/125\n",
            "8/8 [==============================] - 0s 6ms/step - loss: 0.6827 - accuracy: 0.6740 - val_loss: 0.6390 - val_accuracy: 0.6940\n",
            "Epoch 15/125\n",
            "8/8 [==============================] - 0s 6ms/step - loss: 0.6783 - accuracy: 0.6600 - val_loss: 0.6358 - val_accuracy: 0.6960\n",
            "Epoch 16/125\n",
            "8/8 [==============================] - 0s 6ms/step - loss: 0.6768 - accuracy: 0.6660 - val_loss: 0.6329 - val_accuracy: 0.6960\n",
            "Epoch 17/125\n",
            "8/8 [==============================] - 0s 7ms/step - loss: 0.6720 - accuracy: 0.6600 - val_loss: 0.6304 - val_accuracy: 0.7120\n",
            "Epoch 18/125\n",
            "8/8 [==============================] - 0s 7ms/step - loss: 0.6706 - accuracy: 0.6680 - val_loss: 0.6268 - val_accuracy: 0.7040\n",
            "Epoch 19/125\n",
            "8/8 [==============================] - 0s 7ms/step - loss: 0.6727 - accuracy: 0.6500 - val_loss: 0.6264 - val_accuracy: 0.7140\n",
            "Epoch 20/125\n",
            "8/8 [==============================] - 0s 6ms/step - loss: 0.6674 - accuracy: 0.6660 - val_loss: 0.6220 - val_accuracy: 0.6980\n",
            "Epoch 21/125\n",
            "8/8 [==============================] - 0s 6ms/step - loss: 0.6629 - accuracy: 0.6620 - val_loss: 0.6212 - val_accuracy: 0.7160\n",
            "Epoch 22/125\n",
            "8/8 [==============================] - 0s 6ms/step - loss: 0.6603 - accuracy: 0.6700 - val_loss: 0.6181 - val_accuracy: 0.7160\n",
            "Epoch 23/125\n",
            "8/8 [==============================] - 0s 7ms/step - loss: 0.6590 - accuracy: 0.6640 - val_loss: 0.6161 - val_accuracy: 0.7180\n",
            "Epoch 24/125\n",
            "8/8 [==============================] - 0s 7ms/step - loss: 0.6562 - accuracy: 0.6700 - val_loss: 0.6142 - val_accuracy: 0.7100\n",
            "Epoch 25/125\n",
            "8/8 [==============================] - 0s 7ms/step - loss: 0.6519 - accuracy: 0.6680 - val_loss: 0.6128 - val_accuracy: 0.7180\n",
            "Epoch 26/125\n",
            "8/8 [==============================] - 0s 7ms/step - loss: 0.6504 - accuracy: 0.6780 - val_loss: 0.6097 - val_accuracy: 0.7120\n",
            "Epoch 27/125\n",
            "8/8 [==============================] - 0s 7ms/step - loss: 0.6485 - accuracy: 0.6620 - val_loss: 0.6080 - val_accuracy: 0.7200\n",
            "Epoch 28/125\n",
            "8/8 [==============================] - 0s 7ms/step - loss: 0.6466 - accuracy: 0.6660 - val_loss: 0.6087 - val_accuracy: 0.7240\n",
            "Epoch 29/125\n",
            "8/8 [==============================] - 0s 6ms/step - loss: 0.6474 - accuracy: 0.6820 - val_loss: 0.6051 - val_accuracy: 0.7080\n",
            "Epoch 30/125\n",
            "8/8 [==============================] - 0s 6ms/step - loss: 0.6434 - accuracy: 0.6740 - val_loss: 0.6051 - val_accuracy: 0.7300\n",
            "Epoch 31/125\n",
            "8/8 [==============================] - 0s 6ms/step - loss: 0.6393 - accuracy: 0.6700 - val_loss: 0.6012 - val_accuracy: 0.7160\n",
            "Epoch 32/125\n",
            "8/8 [==============================] - 0s 6ms/step - loss: 0.6375 - accuracy: 0.6720 - val_loss: 0.6004 - val_accuracy: 0.7300\n",
            "Epoch 33/125\n",
            "8/8 [==============================] - 0s 6ms/step - loss: 0.6428 - accuracy: 0.6760 - val_loss: 0.6000 - val_accuracy: 0.7140\n",
            "Epoch 34/125\n",
            "8/8 [==============================] - 0s 6ms/step - loss: 0.6385 - accuracy: 0.6700 - val_loss: 0.6005 - val_accuracy: 0.7420\n",
            "Epoch 35/125\n",
            "8/8 [==============================] - 0s 7ms/step - loss: 0.6369 - accuracy: 0.6780 - val_loss: 0.5957 - val_accuracy: 0.7240\n",
            "Epoch 36/125\n",
            "8/8 [==============================] - 0s 7ms/step - loss: 0.6357 - accuracy: 0.6620 - val_loss: 0.5944 - val_accuracy: 0.7320\n",
            "Epoch 37/125\n",
            "8/8 [==============================] - 0s 7ms/step - loss: 0.6286 - accuracy: 0.6820 - val_loss: 0.5923 - val_accuracy: 0.7320\n",
            "Epoch 38/125\n",
            "8/8 [==============================] - 0s 6ms/step - loss: 0.6273 - accuracy: 0.6780 - val_loss: 0.5926 - val_accuracy: 0.7400\n",
            "Epoch 39/125\n",
            "8/8 [==============================] - 0s 6ms/step - loss: 0.6261 - accuracy: 0.6820 - val_loss: 0.5895 - val_accuracy: 0.7340\n",
            "Epoch 40/125\n",
            "8/8 [==============================] - 0s 8ms/step - loss: 0.6249 - accuracy: 0.6740 - val_loss: 0.5883 - val_accuracy: 0.7360\n",
            "Epoch 41/125\n",
            "8/8 [==============================] - 0s 8ms/step - loss: 0.6214 - accuracy: 0.6880 - val_loss: 0.5910 - val_accuracy: 0.7540\n",
            "Epoch 42/125\n",
            "8/8 [==============================] - 0s 7ms/step - loss: 0.6249 - accuracy: 0.6860 - val_loss: 0.5852 - val_accuracy: 0.7360\n",
            "Epoch 43/125\n",
            "8/8 [==============================] - 0s 6ms/step - loss: 0.6202 - accuracy: 0.6980 - val_loss: 0.5850 - val_accuracy: 0.7480\n",
            "Epoch 44/125\n",
            "8/8 [==============================] - 0s 6ms/step - loss: 0.6192 - accuracy: 0.6840 - val_loss: 0.5830 - val_accuracy: 0.7360\n",
            "Epoch 45/125\n",
            "8/8 [==============================] - 0s 5ms/step - loss: 0.6190 - accuracy: 0.6960 - val_loss: 0.5825 - val_accuracy: 0.7440\n",
            "Epoch 46/125\n",
            "8/8 [==============================] - 0s 7ms/step - loss: 0.6157 - accuracy: 0.6800 - val_loss: 0.5808 - val_accuracy: 0.7520\n",
            "Epoch 47/125\n",
            "8/8 [==============================] - 0s 6ms/step - loss: 0.6124 - accuracy: 0.7000 - val_loss: 0.5808 - val_accuracy: 0.7480\n",
            "Epoch 48/125\n",
            "8/8 [==============================] - 0s 5ms/step - loss: 0.6117 - accuracy: 0.6940 - val_loss: 0.5781 - val_accuracy: 0.7460\n",
            "Epoch 49/125\n",
            "8/8 [==============================] - 0s 7ms/step - loss: 0.6112 - accuracy: 0.6940 - val_loss: 0.5779 - val_accuracy: 0.7520\n",
            "Epoch 50/125\n",
            "8/8 [==============================] - 0s 8ms/step - loss: 0.6099 - accuracy: 0.7180 - val_loss: 0.5778 - val_accuracy: 0.7580\n",
            "Epoch 51/125\n",
            "8/8 [==============================] - 0s 6ms/step - loss: 0.6095 - accuracy: 0.6960 - val_loss: 0.5744 - val_accuracy: 0.7480\n",
            "Epoch 52/125\n",
            "8/8 [==============================] - 0s 7ms/step - loss: 0.6156 - accuracy: 0.7220 - val_loss: 0.5730 - val_accuracy: 0.7500\n",
            "Epoch 53/125\n",
            "8/8 [==============================] - 0s 6ms/step - loss: 0.6141 - accuracy: 0.6800 - val_loss: 0.5735 - val_accuracy: 0.7580\n",
            "Epoch 54/125\n",
            "8/8 [==============================] - 0s 6ms/step - loss: 0.6086 - accuracy: 0.7120 - val_loss: 0.5709 - val_accuracy: 0.7500\n",
            "Epoch 55/125\n",
            "8/8 [==============================] - 0s 6ms/step - loss: 0.6022 - accuracy: 0.6940 - val_loss: 0.5725 - val_accuracy: 0.7620\n",
            "Epoch 56/125\n",
            "8/8 [==============================] - 0s 7ms/step - loss: 0.6028 - accuracy: 0.7140 - val_loss: 0.5687 - val_accuracy: 0.7500\n",
            "Epoch 57/125\n",
            "8/8 [==============================] - 0s 6ms/step - loss: 0.5995 - accuracy: 0.7000 - val_loss: 0.5689 - val_accuracy: 0.7600\n",
            "Epoch 58/125\n",
            "8/8 [==============================] - 0s 6ms/step - loss: 0.5980 - accuracy: 0.7160 - val_loss: 0.5673 - val_accuracy: 0.7600\n",
            "Epoch 59/125\n",
            "8/8 [==============================] - 0s 6ms/step - loss: 0.5966 - accuracy: 0.7160 - val_loss: 0.5653 - val_accuracy: 0.7580\n",
            "Epoch 60/125\n",
            "8/8 [==============================] - 0s 7ms/step - loss: 0.5971 - accuracy: 0.7220 - val_loss: 0.5654 - val_accuracy: 0.7680\n",
            "Epoch 61/125\n",
            "8/8 [==============================] - 0s 6ms/step - loss: 0.5959 - accuracy: 0.7100 - val_loss: 0.5650 - val_accuracy: 0.7700\n",
            "Epoch 62/125\n",
            "8/8 [==============================] - 0s 5ms/step - loss: 0.5949 - accuracy: 0.7320 - val_loss: 0.5622 - val_accuracy: 0.7580\n",
            "Epoch 63/125\n",
            "8/8 [==============================] - 0s 7ms/step - loss: 0.5922 - accuracy: 0.7200 - val_loss: 0.5623 - val_accuracy: 0.7700\n",
            "Epoch 64/125\n",
            "8/8 [==============================] - 0s 7ms/step - loss: 0.5907 - accuracy: 0.7160 - val_loss: 0.5606 - val_accuracy: 0.7700\n",
            "Epoch 65/125\n",
            "8/8 [==============================] - 0s 6ms/step - loss: 0.5891 - accuracy: 0.7300 - val_loss: 0.5600 - val_accuracy: 0.7780\n",
            "Epoch 66/125\n",
            "8/8 [==============================] - 0s 6ms/step - loss: 0.5877 - accuracy: 0.7260 - val_loss: 0.5596 - val_accuracy: 0.7780\n",
            "Epoch 67/125\n",
            "8/8 [==============================] - 0s 6ms/step - loss: 0.5862 - accuracy: 0.7240 - val_loss: 0.5571 - val_accuracy: 0.7660\n",
            "Epoch 68/125\n",
            "8/8 [==============================] - 0s 6ms/step - loss: 0.5868 - accuracy: 0.7320 - val_loss: 0.5580 - val_accuracy: 0.7840\n",
            "Epoch 69/125\n",
            "8/8 [==============================] - 0s 6ms/step - loss: 0.5880 - accuracy: 0.7240 - val_loss: 0.5557 - val_accuracy: 0.7820\n",
            "Epoch 70/125\n",
            "8/8 [==============================] - 0s 6ms/step - loss: 0.5866 - accuracy: 0.7340 - val_loss: 0.5538 - val_accuracy: 0.7660\n",
            "Epoch 71/125\n",
            "8/8 [==============================] - 0s 6ms/step - loss: 0.5841 - accuracy: 0.7200 - val_loss: 0.5536 - val_accuracy: 0.7800\n",
            "Epoch 72/125\n",
            "8/8 [==============================] - 0s 6ms/step - loss: 0.5805 - accuracy: 0.7340 - val_loss: 0.5548 - val_accuracy: 0.7860\n",
            "Epoch 73/125\n",
            "8/8 [==============================] - 0s 5ms/step - loss: 0.5797 - accuracy: 0.7340 - val_loss: 0.5514 - val_accuracy: 0.7840\n",
            "Epoch 74/125\n",
            "8/8 [==============================] - 0s 6ms/step - loss: 0.5807 - accuracy: 0.7400 - val_loss: 0.5536 - val_accuracy: 0.7900\n",
            "Epoch 75/125\n",
            "8/8 [==============================] - 0s 6ms/step - loss: 0.5819 - accuracy: 0.7360 - val_loss: 0.5494 - val_accuracy: 0.7840\n",
            "Epoch 76/125\n",
            "8/8 [==============================] - 0s 6ms/step - loss: 0.5755 - accuracy: 0.7500 - val_loss: 0.5522 - val_accuracy: 0.7960\n",
            "Epoch 77/125\n",
            "8/8 [==============================] - 0s 6ms/step - loss: 0.5755 - accuracy: 0.7440 - val_loss: 0.5478 - val_accuracy: 0.7820\n",
            "Epoch 78/125\n",
            "8/8 [==============================] - 0s 6ms/step - loss: 0.5770 - accuracy: 0.7480 - val_loss: 0.5515 - val_accuracy: 0.7980\n",
            "Epoch 79/125\n",
            "8/8 [==============================] - 0s 6ms/step - loss: 0.5735 - accuracy: 0.7580 - val_loss: 0.5455 - val_accuracy: 0.7840\n",
            "Epoch 80/125\n",
            "8/8 [==============================] - 0s 6ms/step - loss: 0.5742 - accuracy: 0.7360 - val_loss: 0.5464 - val_accuracy: 0.7940\n",
            "Epoch 81/125\n",
            "8/8 [==============================] - 0s 7ms/step - loss: 0.5722 - accuracy: 0.7520 - val_loss: 0.5439 - val_accuracy: 0.7840\n",
            "Epoch 82/125\n",
            "8/8 [==============================] - 0s 6ms/step - loss: 0.5692 - accuracy: 0.7540 - val_loss: 0.5461 - val_accuracy: 0.8020\n",
            "Epoch 83/125\n",
            "8/8 [==============================] - 0s 8ms/step - loss: 0.5702 - accuracy: 0.7460 - val_loss: 0.5419 - val_accuracy: 0.7920\n",
            "Epoch 84/125\n",
            "8/8 [==============================] - 0s 7ms/step - loss: 0.5700 - accuracy: 0.7560 - val_loss: 0.5415 - val_accuracy: 0.7920\n",
            "Epoch 85/125\n",
            "8/8 [==============================] - 0s 6ms/step - loss: 0.5722 - accuracy: 0.7560 - val_loss: 0.5414 - val_accuracy: 0.7920\n",
            "Epoch 86/125\n",
            "8/8 [==============================] - 0s 9ms/step - loss: 0.5689 - accuracy: 0.7320 - val_loss: 0.5394 - val_accuracy: 0.7900\n",
            "Epoch 87/125\n",
            "8/8 [==============================] - 0s 6ms/step - loss: 0.5646 - accuracy: 0.7600 - val_loss: 0.5485 - val_accuracy: 0.8100\n",
            "Epoch 88/125\n",
            "8/8 [==============================] - 0s 6ms/step - loss: 0.5666 - accuracy: 0.7640 - val_loss: 0.5375 - val_accuracy: 0.7780\n",
            "Epoch 89/125\n",
            "8/8 [==============================] - 0s 6ms/step - loss: 0.5651 - accuracy: 0.7380 - val_loss: 0.5381 - val_accuracy: 0.8060\n",
            "Epoch 90/125\n",
            "8/8 [==============================] - 0s 6ms/step - loss: 0.5652 - accuracy: 0.7520 - val_loss: 0.5358 - val_accuracy: 0.7900\n",
            "Epoch 91/125\n",
            "8/8 [==============================] - 0s 8ms/step - loss: 0.5639 - accuracy: 0.7460 - val_loss: 0.5364 - val_accuracy: 0.8040\n",
            "Epoch 92/125\n",
            "8/8 [==============================] - 0s 6ms/step - loss: 0.5599 - accuracy: 0.7640 - val_loss: 0.5346 - val_accuracy: 0.8020\n",
            "Epoch 93/125\n",
            "8/8 [==============================] - 0s 6ms/step - loss: 0.5578 - accuracy: 0.7640 - val_loss: 0.5346 - val_accuracy: 0.8040\n",
            "Epoch 94/125\n",
            "8/8 [==============================] - 0s 6ms/step - loss: 0.5572 - accuracy: 0.7560 - val_loss: 0.5329 - val_accuracy: 0.8040\n",
            "Epoch 95/125\n",
            "8/8 [==============================] - 0s 6ms/step - loss: 0.5555 - accuracy: 0.7640 - val_loss: 0.5331 - val_accuracy: 0.8060\n",
            "Epoch 96/125\n",
            "8/8 [==============================] - 0s 6ms/step - loss: 0.5553 - accuracy: 0.7640 - val_loss: 0.5304 - val_accuracy: 0.8020\n",
            "Epoch 97/125\n",
            "8/8 [==============================] - 0s 6ms/step - loss: 0.5540 - accuracy: 0.7600 - val_loss: 0.5315 - val_accuracy: 0.8080\n",
            "Epoch 98/125\n",
            "8/8 [==============================] - 0s 6ms/step - loss: 0.5553 - accuracy: 0.7640 - val_loss: 0.5283 - val_accuracy: 0.7960\n",
            "Epoch 99/125\n",
            "8/8 [==============================] - 0s 6ms/step - loss: 0.5538 - accuracy: 0.7640 - val_loss: 0.5289 - val_accuracy: 0.8080\n",
            "Epoch 100/125\n",
            "8/8 [==============================] - 0s 6ms/step - loss: 0.5563 - accuracy: 0.7680 - val_loss: 0.5265 - val_accuracy: 0.7960\n",
            "Epoch 101/125\n",
            "8/8 [==============================] - 0s 7ms/step - loss: 0.5504 - accuracy: 0.7680 - val_loss: 0.5264 - val_accuracy: 0.8040\n",
            "Epoch 102/125\n",
            "8/8 [==============================] - 0s 8ms/step - loss: 0.5496 - accuracy: 0.7660 - val_loss: 0.5277 - val_accuracy: 0.8140\n",
            "Epoch 103/125\n",
            "8/8 [==============================] - 0s 6ms/step - loss: 0.5499 - accuracy: 0.7680 - val_loss: 0.5259 - val_accuracy: 0.8120\n",
            "Epoch 104/125\n",
            "8/8 [==============================] - 0s 6ms/step - loss: 0.5485 - accuracy: 0.7680 - val_loss: 0.5246 - val_accuracy: 0.8100\n",
            "Epoch 105/125\n",
            "8/8 [==============================] - 0s 7ms/step - loss: 0.5459 - accuracy: 0.7700 - val_loss: 0.5228 - val_accuracy: 0.8000\n",
            "Epoch 106/125\n",
            "8/8 [==============================] - 0s 7ms/step - loss: 0.5454 - accuracy: 0.7700 - val_loss: 0.5235 - val_accuracy: 0.8160\n",
            "Epoch 107/125\n",
            "8/8 [==============================] - 0s 6ms/step - loss: 0.5473 - accuracy: 0.7660 - val_loss: 0.5229 - val_accuracy: 0.8140\n",
            "Epoch 108/125\n",
            "8/8 [==============================] - 0s 6ms/step - loss: 0.5481 - accuracy: 0.7560 - val_loss: 0.5217 - val_accuracy: 0.8160\n",
            "Epoch 109/125\n",
            "8/8 [==============================] - 0s 6ms/step - loss: 0.5458 - accuracy: 0.7700 - val_loss: 0.5203 - val_accuracy: 0.8120\n",
            "Epoch 110/125\n",
            "8/8 [==============================] - 0s 6ms/step - loss: 0.5442 - accuracy: 0.7780 - val_loss: 0.5222 - val_accuracy: 0.8160\n",
            "Epoch 111/125\n",
            "8/8 [==============================] - 0s 6ms/step - loss: 0.5434 - accuracy: 0.7700 - val_loss: 0.5178 - val_accuracy: 0.8000\n",
            "Epoch 112/125\n",
            "8/8 [==============================] - 0s 6ms/step - loss: 0.5411 - accuracy: 0.7760 - val_loss: 0.5226 - val_accuracy: 0.8200\n",
            "Epoch 113/125\n",
            "8/8 [==============================] - 0s 7ms/step - loss: 0.5424 - accuracy: 0.7720 - val_loss: 0.5185 - val_accuracy: 0.8180\n",
            "Epoch 114/125\n",
            "8/8 [==============================] - 0s 6ms/step - loss: 0.5402 - accuracy: 0.7740 - val_loss: 0.5163 - val_accuracy: 0.8140\n",
            "Epoch 115/125\n",
            "8/8 [==============================] - 0s 6ms/step - loss: 0.5414 - accuracy: 0.7640 - val_loss: 0.5162 - val_accuracy: 0.8120\n",
            "Epoch 116/125\n",
            "8/8 [==============================] - 0s 6ms/step - loss: 0.5401 - accuracy: 0.7780 - val_loss: 0.5159 - val_accuracy: 0.8160\n",
            "Epoch 117/125\n",
            "8/8 [==============================] - 0s 6ms/step - loss: 0.5374 - accuracy: 0.7680 - val_loss: 0.5136 - val_accuracy: 0.8120\n",
            "Epoch 118/125\n",
            "8/8 [==============================] - 0s 6ms/step - loss: 0.5372 - accuracy: 0.7760 - val_loss: 0.5146 - val_accuracy: 0.8140\n",
            "Epoch 119/125\n",
            "8/8 [==============================] - 0s 6ms/step - loss: 0.5348 - accuracy: 0.7740 - val_loss: 0.5119 - val_accuracy: 0.8180\n",
            "Epoch 120/125\n",
            "8/8 [==============================] - 0s 8ms/step - loss: 0.5336 - accuracy: 0.7740 - val_loss: 0.5131 - val_accuracy: 0.8180\n",
            "Epoch 121/125\n",
            "8/8 [==============================] - 0s 6ms/step - loss: 0.5344 - accuracy: 0.7760 - val_loss: 0.5104 - val_accuracy: 0.8000\n",
            "Epoch 122/125\n",
            "8/8 [==============================] - 0s 6ms/step - loss: 0.5327 - accuracy: 0.7700 - val_loss: 0.5114 - val_accuracy: 0.8180\n",
            "Epoch 123/125\n",
            "8/8 [==============================] - 0s 6ms/step - loss: 0.5312 - accuracy: 0.7760 - val_loss: 0.5119 - val_accuracy: 0.8200\n",
            "Epoch 124/125\n",
            "8/8 [==============================] - 0s 7ms/step - loss: 0.5304 - accuracy: 0.7740 - val_loss: 0.5087 - val_accuracy: 0.8140\n",
            "Epoch 125/125\n",
            "8/8 [==============================] - 0s 6ms/step - loss: 0.5351 - accuracy: 0.7660 - val_loss: 0.5118 - val_accuracy: 0.8200\n",
            "Model: \"sequential_18\"\n",
            "_________________________________________________________________\n",
            " Layer (type)                Output Shape              Param #   \n",
            "=================================================================\n",
            " dense_37 (Dense)            (None, 50)                150       \n",
            "                                                                 \n",
            " dense_38 (Dense)            (None, 3)                 153       \n",
            "                                                                 \n",
            "=================================================================\n",
            "Total params: 303\n",
            "Trainable params: 303\n",
            "Non-trainable params: 0\n",
            "_________________________________________________________________\n",
            "None\n"
          ]
        }
      ],
      "source": [
        "### START CODE HERE ### ()\n",
        "model = build_model(0.001)\n",
        "history = model.fit(X_train, y_train, batch_size = 64 , epochs = 125 , validation_data = (X_test, y_test))\n",
        "print(model.summary())"
      ]
    },
    {
      "cell_type": "code",
      "execution_count": null,
      "id": "53bf0abf-a145-4081-aa0b-e4ffe73c9357",
      "metadata": {
        "id": "53bf0abf-a145-4081-aa0b-e4ffe73c9357",
        "colab": {
          "base_uri": "https://localhost:8080/",
          "height": 350
        },
        "outputId": "ddc8cdb8-2e01-4ffd-c37e-387134d53ec9"
      },
      "outputs": [
        {
          "output_type": "display_data",
          "data": {
            "text/plain": [
              "<Figure size 720x360 with 1 Axes>"
            ],
            "image/png": "[encoded data removed]"
          },
          "metadata": {
            "needs_background": "light"
          }
        }
      ],
      "source": [
        "plt.figure(figsize=(10,5))\n",
        "plt.plot(history.history['loss'])\n",
        "plt.plot(history.history['val_loss'])\n",
        "plt.title('Loss vs. epochs, batch=' +str(batch_size))\n",
        "plt.ylabel('Loss')\n",
        "plt.xlabel('Epoch')\n",
        "plt.legend(['Training', 'Validation'], loc='upper right')\n",
        "plt.show()"
      ]
    },
    {
      "cell_type": "markdown",
      "id": "9c476d8f-d9d5-49e9-bcb1-c47f3505d456",
      "metadata": {
        "id": "9c476d8f-d9d5-49e9-bcb1-c47f3505d456"
      },
      "source": [
        "##### LR =  0.1"
      ]
    },
    {
      "cell_type": "markdown",
      "id": "5538b4df-7c6b-4d4d-9cbd-e7b14e57a8d6",
      "metadata": {
        "id": "5538b4df-7c6b-4d4d-9cbd-e7b14e57a8d6"
      },
      "source": [
        "10. **Retrain for 0.1 LR**"
      ]
    },
    {
      "cell_type": "code",
      "execution_count": null,
      "id": "2c320fde-e42b-4d0a-941c-86b2c5817c66",
      "metadata": {
        "tags": [],
        "id": "2c320fde-e42b-4d0a-941c-86b2c5817c66",
        "colab": {
          "base_uri": "https://localhost:8080/"
        },
        "outputId": "6de5abf4-1a04-4848-ddd5-382d9072ab65"
      },
      "outputs": [
        {
          "output_type": "stream",
          "name": "stdout",
          "text": [
            "Epoch 1/125\n",
            "8/8 [==============================] - 1s 30ms/step - loss: 11.0988 - accuracy: 0.4000 - val_loss: 2.0170 - val_accuracy: 0.5360\n",
            "Epoch 2/125\n",
            "8/8 [==============================] - 0s 7ms/step - loss: 1.6121 - accuracy: 0.5520 - val_loss: 1.0984 - val_accuracy: 0.7840\n",
            "Epoch 3/125\n",
            "8/8 [==============================] - 0s 7ms/step - loss: 0.9207 - accuracy: 0.7040 - val_loss: 0.8466 - val_accuracy: 0.8240\n",
            "Epoch 4/125\n",
            "8/8 [==============================] - 0s 6ms/step - loss: 0.8243 - accuracy: 0.7500 - val_loss: 0.6411 - val_accuracy: 0.7820\n",
            "Epoch 5/125\n",
            "8/8 [==============================] - 0s 7ms/step - loss: 0.7617 - accuracy: 0.7240 - val_loss: 0.5891 - val_accuracy: 0.8080\n",
            "Epoch 6/125\n",
            "8/8 [==============================] - 0s 7ms/step - loss: 0.6124 - accuracy: 0.7980 - val_loss: 0.5276 - val_accuracy: 0.8180\n",
            "Epoch 7/125\n",
            "8/8 [==============================] - 0s 11ms/step - loss: 0.5795 - accuracy: 0.7940 - val_loss: 0.4860 - val_accuracy: 0.8220\n",
            "Epoch 8/125\n",
            "8/8 [==============================] - 0s 6ms/step - loss: 0.5243 - accuracy: 0.8100 - val_loss: 0.4768 - val_accuracy: 0.8240\n",
            "Epoch 9/125\n",
            "8/8 [==============================] - 0s 6ms/step - loss: 0.5380 - accuracy: 0.7980 - val_loss: 0.7113 - val_accuracy: 0.6800\n",
            "Epoch 10/125\n",
            "8/8 [==============================] - 0s 7ms/step - loss: 0.6225 - accuracy: 0.7480 - val_loss: 0.4841 - val_accuracy: 0.7940\n",
            "Epoch 11/125\n",
            "8/8 [==============================] - 0s 6ms/step - loss: 0.5406 - accuracy: 0.7620 - val_loss: 0.4476 - val_accuracy: 0.8240\n",
            "Epoch 12/125\n",
            "8/8 [==============================] - 0s 7ms/step - loss: 0.5620 - accuracy: 0.7820 - val_loss: 0.4830 - val_accuracy: 0.7940\n",
            "Epoch 13/125\n",
            "8/8 [==============================] - 0s 7ms/step - loss: 0.4922 - accuracy: 0.7900 - val_loss: 0.4263 - val_accuracy: 0.8340\n",
            "Epoch 14/125\n",
            "8/8 [==============================] - 0s 8ms/step - loss: 0.4562 - accuracy: 0.8160 - val_loss: 0.4292 - val_accuracy: 0.8220\n",
            "Epoch 15/125\n",
            "8/8 [==============================] - 0s 8ms/step - loss: 0.5077 - accuracy: 0.7840 - val_loss: 0.4667 - val_accuracy: 0.8080\n",
            "Epoch 16/125\n",
            "8/8 [==============================] - 0s 6ms/step - loss: 0.4968 - accuracy: 0.7920 - val_loss: 0.4748 - val_accuracy: 0.8160\n",
            "Epoch 17/125\n",
            "8/8 [==============================] - 0s 6ms/step - loss: 0.4871 - accuracy: 0.8020 - val_loss: 0.4245 - val_accuracy: 0.8340\n",
            "Epoch 18/125\n",
            "8/8 [==============================] - 0s 8ms/step - loss: 0.4574 - accuracy: 0.8100 - val_loss: 0.4165 - val_accuracy: 0.8340\n",
            "Epoch 19/125\n",
            "8/8 [==============================] - 0s 7ms/step - loss: 0.4663 - accuracy: 0.7980 - val_loss: 0.4268 - val_accuracy: 0.8280\n",
            "Epoch 20/125\n",
            "8/8 [==============================] - 0s 8ms/step - loss: 0.4725 - accuracy: 0.7740 - val_loss: 0.4145 - val_accuracy: 0.8320\n",
            "Epoch 21/125\n",
            "8/8 [==============================] - 0s 6ms/step - loss: 0.4508 - accuracy: 0.8000 - val_loss: 0.4277 - val_accuracy: 0.8280\n",
            "Epoch 22/125\n",
            "8/8 [==============================] - 0s 7ms/step - loss: 0.4606 - accuracy: 0.8160 - val_loss: 0.4078 - val_accuracy: 0.8340\n",
            "Epoch 23/125\n",
            "8/8 [==============================] - 0s 7ms/step - loss: 0.4092 - accuracy: 0.8220 - val_loss: 0.4604 - val_accuracy: 0.8220\n",
            "Epoch 24/125\n",
            "8/8 [==============================] - 0s 7ms/step - loss: 0.4231 - accuracy: 0.8120 - val_loss: 0.4142 - val_accuracy: 0.8220\n",
            "Epoch 25/125\n",
            "8/8 [==============================] - 0s 9ms/step - loss: 0.3978 - accuracy: 0.8240 - val_loss: 0.4232 - val_accuracy: 0.8220\n",
            "Epoch 26/125\n",
            "8/8 [==============================] - 0s 6ms/step - loss: 0.4013 - accuracy: 0.8160 - val_loss: 0.4185 - val_accuracy: 0.8240\n",
            "Epoch 27/125\n",
            "8/8 [==============================] - 0s 6ms/step - loss: 0.3885 - accuracy: 0.8340 - val_loss: 0.4039 - val_accuracy: 0.8340\n",
            "Epoch 28/125\n",
            "8/8 [==============================] - 0s 6ms/step - loss: 0.3981 - accuracy: 0.8260 - val_loss: 0.4030 - val_accuracy: 0.8240\n",
            "Epoch 29/125\n",
            "8/8 [==============================] - 0s 6ms/step - loss: 0.3966 - accuracy: 0.8320 - val_loss: 0.4925 - val_accuracy: 0.7760\n",
            "Epoch 30/125\n",
            "8/8 [==============================] - 0s 6ms/step - loss: 0.4311 - accuracy: 0.7980 - val_loss: 0.4443 - val_accuracy: 0.8120\n",
            "Epoch 31/125\n",
            "8/8 [==============================] - 0s 6ms/step - loss: 0.4047 - accuracy: 0.8300 - val_loss: 0.4158 - val_accuracy: 0.8220\n",
            "Epoch 32/125\n",
            "8/8 [==============================] - 0s 6ms/step - loss: 0.4091 - accuracy: 0.8100 - val_loss: 0.4289 - val_accuracy: 0.8200\n",
            "Epoch 33/125\n",
            "8/8 [==============================] - 0s 6ms/step - loss: 0.4061 - accuracy: 0.8280 - val_loss: 0.4094 - val_accuracy: 0.8240\n",
            "Epoch 34/125\n",
            "8/8 [==============================] - 0s 7ms/step - loss: 0.3975 - accuracy: 0.8340 - val_loss: 0.4314 - val_accuracy: 0.8200\n",
            "Epoch 35/125\n",
            "8/8 [==============================] - 0s 6ms/step - loss: 0.4071 - accuracy: 0.8140 - val_loss: 0.4211 - val_accuracy: 0.8220\n",
            "Epoch 36/125\n",
            "8/8 [==============================] - 0s 6ms/step - loss: 0.3894 - accuracy: 0.8280 - val_loss: 0.3977 - val_accuracy: 0.8340\n",
            "Epoch 37/125\n",
            "8/8 [==============================] - 0s 6ms/step - loss: 0.3879 - accuracy: 0.8340 - val_loss: 0.4050 - val_accuracy: 0.8320\n",
            "Epoch 38/125\n",
            "8/8 [==============================] - 0s 6ms/step - loss: 0.3889 - accuracy: 0.8220 - val_loss: 0.4073 - val_accuracy: 0.8260\n",
            "Epoch 39/125\n",
            "8/8 [==============================] - 0s 6ms/step - loss: 0.3951 - accuracy: 0.8300 - val_loss: 0.4050 - val_accuracy: 0.8300\n",
            "Epoch 40/125\n",
            "8/8 [==============================] - 0s 6ms/step - loss: 0.3923 - accuracy: 0.8240 - val_loss: 0.4337 - val_accuracy: 0.8220\n",
            "Epoch 41/125\n",
            "8/8 [==============================] - 0s 5ms/step - loss: 0.4428 - accuracy: 0.8160 - val_loss: 0.4095 - val_accuracy: 0.8260\n",
            "Epoch 42/125\n",
            "8/8 [==============================] - 0s 7ms/step - loss: 0.3920 - accuracy: 0.8340 - val_loss: 0.4138 - val_accuracy: 0.8260\n",
            "Epoch 43/125\n",
            "8/8 [==============================] - 0s 7ms/step - loss: 0.3947 - accuracy: 0.8400 - val_loss: 0.4298 - val_accuracy: 0.8180\n",
            "Epoch 44/125\n",
            "8/8 [==============================] - 0s 6ms/step - loss: 0.3875 - accuracy: 0.8320 - val_loss: 0.4811 - val_accuracy: 0.7900\n",
            "Epoch 45/125\n",
            "8/8 [==============================] - 0s 7ms/step - loss: 0.4050 - accuracy: 0.8200 - val_loss: 0.4093 - val_accuracy: 0.8240\n",
            "Epoch 46/125\n",
            "8/8 [==============================] - 0s 8ms/step - loss: 0.3879 - accuracy: 0.8260 - val_loss: 0.4206 - val_accuracy: 0.8260\n",
            "Epoch 47/125\n",
            "8/8 [==============================] - 0s 7ms/step - loss: 0.3915 - accuracy: 0.8320 - val_loss: 0.4288 - val_accuracy: 0.8160\n",
            "Epoch 48/125\n",
            "8/8 [==============================] - 0s 7ms/step - loss: 0.3910 - accuracy: 0.8340 - val_loss: 0.4388 - val_accuracy: 0.8120\n",
            "Epoch 49/125\n",
            "8/8 [==============================] - 0s 6ms/step - loss: 0.3996 - accuracy: 0.8320 - val_loss: 0.4589 - val_accuracy: 0.8060\n",
            "Epoch 50/125\n",
            "8/8 [==============================] - 0s 6ms/step - loss: 0.4105 - accuracy: 0.8200 - val_loss: 0.4228 - val_accuracy: 0.8200\n",
            "Epoch 51/125\n",
            "8/8 [==============================] - 0s 8ms/step - loss: 0.4127 - accuracy: 0.8180 - val_loss: 0.4325 - val_accuracy: 0.8200\n",
            "Epoch 52/125\n",
            "8/8 [==============================] - 0s 7ms/step - loss: 0.4193 - accuracy: 0.8200 - val_loss: 0.4216 - val_accuracy: 0.8200\n",
            "Epoch 53/125\n",
            "8/8 [==============================] - 0s 6ms/step - loss: 0.4068 - accuracy: 0.8280 - val_loss: 0.4269 - val_accuracy: 0.8180\n",
            "Epoch 54/125\n",
            "8/8 [==============================] - 0s 6ms/step - loss: 0.4339 - accuracy: 0.8000 - val_loss: 0.5003 - val_accuracy: 0.8000\n",
            "Epoch 55/125\n",
            "8/8 [==============================] - 0s 6ms/step - loss: 0.4638 - accuracy: 0.7980 - val_loss: 0.4251 - val_accuracy: 0.8240\n",
            "Epoch 56/125\n",
            "8/8 [==============================] - 0s 6ms/step - loss: 0.4386 - accuracy: 0.7960 - val_loss: 0.4183 - val_accuracy: 0.8200\n",
            "Epoch 57/125\n",
            "8/8 [==============================] - 0s 6ms/step - loss: 0.4112 - accuracy: 0.8080 - val_loss: 0.4222 - val_accuracy: 0.8240\n",
            "Epoch 58/125\n",
            "8/8 [==============================] - 0s 8ms/step - loss: 0.3879 - accuracy: 0.8280 - val_loss: 0.4290 - val_accuracy: 0.8320\n",
            "Epoch 59/125\n",
            "8/8 [==============================] - 0s 6ms/step - loss: 0.4016 - accuracy: 0.8340 - val_loss: 0.3993 - val_accuracy: 0.8300\n",
            "Epoch 60/125\n",
            "8/8 [==============================] - 0s 7ms/step - loss: 0.3847 - accuracy: 0.8340 - val_loss: 0.4225 - val_accuracy: 0.8280\n",
            "Epoch 61/125\n",
            "8/8 [==============================] - 0s 7ms/step - loss: 0.3863 - accuracy: 0.8320 - val_loss: 0.4438 - val_accuracy: 0.8160\n",
            "Epoch 62/125\n",
            "8/8 [==============================] - 0s 6ms/step - loss: 0.3961 - accuracy: 0.8200 - val_loss: 0.4455 - val_accuracy: 0.8080\n",
            "Epoch 63/125\n",
            "8/8 [==============================] - 0s 6ms/step - loss: 0.4024 - accuracy: 0.8240 - val_loss: 0.4265 - val_accuracy: 0.8160\n",
            "Epoch 64/125\n",
            "8/8 [==============================] - 0s 6ms/step - loss: 0.3989 - accuracy: 0.8360 - val_loss: 0.4501 - val_accuracy: 0.8100\n",
            "Epoch 65/125\n",
            "8/8 [==============================] - 0s 7ms/step - loss: 0.3881 - accuracy: 0.8240 - val_loss: 0.4054 - val_accuracy: 0.8280\n",
            "Epoch 66/125\n",
            "8/8 [==============================] - 0s 8ms/step - loss: 0.4117 - accuracy: 0.8260 - val_loss: 0.4170 - val_accuracy: 0.8300\n",
            "Epoch 67/125\n",
            "8/8 [==============================] - 0s 27ms/step - loss: 0.3984 - accuracy: 0.8280 - val_loss: 0.4618 - val_accuracy: 0.8160\n",
            "Epoch 68/125\n",
            "8/8 [==============================] - 0s 25ms/step - loss: 0.4329 - accuracy: 0.8160 - val_loss: 0.4098 - val_accuracy: 0.8300\n",
            "Epoch 69/125\n",
            "8/8 [==============================] - 0s 25ms/step - loss: 0.4302 - accuracy: 0.8200 - val_loss: 0.4225 - val_accuracy: 0.8280\n",
            "Epoch 70/125\n",
            "8/8 [==============================] - 0s 22ms/step - loss: 0.3892 - accuracy: 0.8200 - val_loss: 0.4310 - val_accuracy: 0.8160\n",
            "Epoch 71/125\n",
            "8/8 [==============================] - 0s 21ms/step - loss: 0.3982 - accuracy: 0.8240 - val_loss: 0.4276 - val_accuracy: 0.8180\n",
            "Epoch 72/125\n",
            "8/8 [==============================] - 0s 21ms/step - loss: 0.3919 - accuracy: 0.8280 - val_loss: 0.4364 - val_accuracy: 0.8140\n",
            "Epoch 73/125\n",
            "8/8 [==============================] - 0s 10ms/step - loss: 0.3870 - accuracy: 0.8220 - val_loss: 0.4111 - val_accuracy: 0.8260\n",
            "Epoch 74/125\n",
            "8/8 [==============================] - 0s 21ms/step - loss: 0.3852 - accuracy: 0.8340 - val_loss: 0.4135 - val_accuracy: 0.8300\n",
            "Epoch 75/125\n",
            "8/8 [==============================] - 0s 13ms/step - loss: 0.3798 - accuracy: 0.8340 - val_loss: 0.4498 - val_accuracy: 0.8060\n",
            "Epoch 76/125\n",
            "8/8 [==============================] - 0s 7ms/step - loss: 0.3711 - accuracy: 0.8380 - val_loss: 0.4314 - val_accuracy: 0.8260\n",
            "Epoch 77/125\n",
            "8/8 [==============================] - 0s 7ms/step - loss: 0.4167 - accuracy: 0.8220 - val_loss: 0.4774 - val_accuracy: 0.8020\n",
            "Epoch 78/125\n",
            "8/8 [==============================] - 0s 8ms/step - loss: 0.4411 - accuracy: 0.8160 - val_loss: 0.4286 - val_accuracy: 0.8300\n",
            "Epoch 79/125\n",
            "8/8 [==============================] - 0s 6ms/step - loss: 0.4072 - accuracy: 0.8240 - val_loss: 0.4146 - val_accuracy: 0.8220\n",
            "Epoch 80/125\n",
            "8/8 [==============================] - 0s 7ms/step - loss: 0.4237 - accuracy: 0.8020 - val_loss: 0.4420 - val_accuracy: 0.8100\n",
            "Epoch 81/125\n",
            "8/8 [==============================] - 0s 6ms/step - loss: 0.4192 - accuracy: 0.8380 - val_loss: 0.4257 - val_accuracy: 0.8200\n",
            "Epoch 82/125\n",
            "8/8 [==============================] - 0s 6ms/step - loss: 0.3845 - accuracy: 0.8340 - val_loss: 0.4312 - val_accuracy: 0.8220\n",
            "Epoch 83/125\n",
            "8/8 [==============================] - 0s 7ms/step - loss: 0.3895 - accuracy: 0.8220 - val_loss: 0.4288 - val_accuracy: 0.8180\n",
            "Epoch 84/125\n",
            "8/8 [==============================] - 0s 8ms/step - loss: 0.3951 - accuracy: 0.8280 - val_loss: 0.4166 - val_accuracy: 0.8220\n",
            "Epoch 85/125\n",
            "8/8 [==============================] - 0s 6ms/step - loss: 0.3884 - accuracy: 0.8220 - val_loss: 0.4213 - val_accuracy: 0.8240\n",
            "Epoch 86/125\n",
            "8/8 [==============================] - 0s 6ms/step - loss: 0.3917 - accuracy: 0.8360 - val_loss: 0.4171 - val_accuracy: 0.8160\n",
            "Epoch 87/125\n",
            "8/8 [==============================] - 0s 6ms/step - loss: 0.3935 - accuracy: 0.8360 - val_loss: 0.4293 - val_accuracy: 0.8300\n",
            "Epoch 88/125\n",
            "8/8 [==============================] - 0s 6ms/step - loss: 0.4229 - accuracy: 0.8140 - val_loss: 0.5409 - val_accuracy: 0.7920\n",
            "Epoch 89/125\n",
            "8/8 [==============================] - 0s 6ms/step - loss: 0.4752 - accuracy: 0.7880 - val_loss: 0.4224 - val_accuracy: 0.8300\n",
            "Epoch 90/125\n",
            "8/8 [==============================] - 0s 6ms/step - loss: 0.4150 - accuracy: 0.8200 - val_loss: 0.4373 - val_accuracy: 0.8260\n",
            "Epoch 91/125\n",
            "8/8 [==============================] - 0s 6ms/step - loss: 0.3825 - accuracy: 0.8360 - val_loss: 0.4320 - val_accuracy: 0.8200\n",
            "Epoch 92/125\n",
            "8/8 [==============================] - 0s 7ms/step - loss: 0.3902 - accuracy: 0.8380 - val_loss: 0.4385 - val_accuracy: 0.8200\n",
            "Epoch 93/125\n",
            "8/8 [==============================] - 0s 7ms/step - loss: 0.4154 - accuracy: 0.8160 - val_loss: 0.4221 - val_accuracy: 0.8180\n",
            "Epoch 94/125\n",
            "8/8 [==============================] - 0s 6ms/step - loss: 0.4081 - accuracy: 0.8260 - val_loss: 0.4414 - val_accuracy: 0.8160\n",
            "Epoch 95/125\n",
            "8/8 [==============================] - 0s 6ms/step - loss: 0.4319 - accuracy: 0.8140 - val_loss: 0.4207 - val_accuracy: 0.8300\n",
            "Epoch 96/125\n",
            "8/8 [==============================] - 0s 6ms/step - loss: 0.3977 - accuracy: 0.8220 - val_loss: 0.4393 - val_accuracy: 0.8200\n",
            "Epoch 97/125\n",
            "8/8 [==============================] - 0s 7ms/step - loss: 0.4044 - accuracy: 0.8300 - val_loss: 0.4300 - val_accuracy: 0.8160\n",
            "Epoch 98/125\n",
            "8/8 [==============================] - 0s 8ms/step - loss: 0.4199 - accuracy: 0.8180 - val_loss: 0.4541 - val_accuracy: 0.8240\n",
            "Epoch 99/125\n",
            "8/8 [==============================] - 0s 8ms/step - loss: 0.4051 - accuracy: 0.8180 - val_loss: 0.4318 - val_accuracy: 0.8240\n",
            "Epoch 100/125\n",
            "8/8 [==============================] - 0s 6ms/step - loss: 0.4009 - accuracy: 0.8320 - val_loss: 0.4375 - val_accuracy: 0.8180\n",
            "Epoch 101/125\n",
            "8/8 [==============================] - 0s 5ms/step - loss: 0.3919 - accuracy: 0.8240 - val_loss: 0.4187 - val_accuracy: 0.8200\n",
            "Epoch 102/125\n",
            "8/8 [==============================] - 0s 6ms/step - loss: 0.3822 - accuracy: 0.8500 - val_loss: 0.4351 - val_accuracy: 0.8220\n",
            "Epoch 103/125\n",
            "8/8 [==============================] - 0s 6ms/step - loss: 0.3857 - accuracy: 0.8240 - val_loss: 0.4622 - val_accuracy: 0.8100\n",
            "Epoch 104/125\n",
            "8/8 [==============================] - 0s 6ms/step - loss: 0.3841 - accuracy: 0.8420 - val_loss: 0.4370 - val_accuracy: 0.8180\n",
            "Epoch 105/125\n",
            "8/8 [==============================] - 0s 6ms/step - loss: 0.3897 - accuracy: 0.8260 - val_loss: 0.4281 - val_accuracy: 0.8220\n",
            "Epoch 106/125\n",
            "8/8 [==============================] - 0s 6ms/step - loss: 0.3946 - accuracy: 0.8360 - val_loss: 0.4967 - val_accuracy: 0.7960\n",
            "Epoch 107/125\n",
            "8/8 [==============================] - 0s 7ms/step - loss: 0.4295 - accuracy: 0.8180 - val_loss: 0.4962 - val_accuracy: 0.7980\n",
            "Epoch 108/125\n",
            "8/8 [==============================] - 0s 6ms/step - loss: 0.4306 - accuracy: 0.8100 - val_loss: 0.4404 - val_accuracy: 0.8200\n",
            "Epoch 109/125\n",
            "8/8 [==============================] - 0s 7ms/step - loss: 0.3793 - accuracy: 0.8440 - val_loss: 0.4246 - val_accuracy: 0.8240\n",
            "Epoch 110/125\n",
            "8/8 [==============================] - 0s 8ms/step - loss: 0.3862 - accuracy: 0.8360 - val_loss: 0.4361 - val_accuracy: 0.8220\n",
            "Epoch 111/125\n",
            "8/8 [==============================] - 0s 6ms/step - loss: 0.3781 - accuracy: 0.8460 - val_loss: 0.4270 - val_accuracy: 0.8200\n",
            "Epoch 112/125\n",
            "8/8 [==============================] - 0s 7ms/step - loss: 0.3883 - accuracy: 0.8360 - val_loss: 0.4385 - val_accuracy: 0.8180\n",
            "Epoch 113/125\n",
            "8/8 [==============================] - 0s 6ms/step - loss: 0.3859 - accuracy: 0.8300 - val_loss: 0.4876 - val_accuracy: 0.8040\n",
            "Epoch 114/125\n",
            "8/8 [==============================] - 0s 8ms/step - loss: 0.4279 - accuracy: 0.8020 - val_loss: 0.4384 - val_accuracy: 0.8200\n",
            "Epoch 115/125\n",
            "8/8 [==============================] - 0s 6ms/step - loss: 0.3886 - accuracy: 0.8380 - val_loss: 0.4454 - val_accuracy: 0.8220\n",
            "Epoch 116/125\n",
            "8/8 [==============================] - 0s 6ms/step - loss: 0.4088 - accuracy: 0.8360 - val_loss: 0.4517 - val_accuracy: 0.8180\n",
            "Epoch 117/125\n",
            "8/8 [==============================] - 0s 7ms/step - loss: 0.4181 - accuracy: 0.8120 - val_loss: 0.4426 - val_accuracy: 0.8240\n",
            "Epoch 118/125\n",
            "8/8 [==============================] - 0s 8ms/step - loss: 0.3968 - accuracy: 0.8400 - val_loss: 0.4867 - val_accuracy: 0.8040\n",
            "Epoch 119/125\n",
            "8/8 [==============================] - 0s 6ms/step - loss: 0.3936 - accuracy: 0.8340 - val_loss: 0.4378 - val_accuracy: 0.8160\n",
            "Epoch 120/125\n",
            "8/8 [==============================] - 0s 6ms/step - loss: 0.3758 - accuracy: 0.8440 - val_loss: 0.4575 - val_accuracy: 0.8320\n",
            "Epoch 121/125\n",
            "8/8 [==============================] - 0s 8ms/step - loss: 0.3906 - accuracy: 0.8340 - val_loss: 0.4618 - val_accuracy: 0.8080\n",
            "Epoch 122/125\n",
            "8/8 [==============================] - 0s 6ms/step - loss: 0.3905 - accuracy: 0.8260 - val_loss: 0.4418 - val_accuracy: 0.8160\n",
            "Epoch 123/125\n",
            "8/8 [==============================] - 0s 6ms/step - loss: 0.3809 - accuracy: 0.8360 - val_loss: 0.4450 - val_accuracy: 0.8140\n",
            "Epoch 124/125\n",
            "8/8 [==============================] - 0s 7ms/step - loss: 0.3839 - accuracy: 0.8240 - val_loss: 0.4398 - val_accuracy: 0.8280\n",
            "Epoch 125/125\n",
            "8/8 [==============================] - 0s 7ms/step - loss: 0.3813 - accuracy: 0.8320 - val_loss: 0.4553 - val_accuracy: 0.8140\n",
            "Model: \"sequential_19\"\n",
            "_________________________________________________________________\n",
            " Layer (type)                Output Shape              Param #   \n",
            "=================================================================\n",
            " dense_39 (Dense)            (None, 50)                150       \n",
            "                                                                 \n",
            " dense_40 (Dense)            (None, 3)                 153       \n",
            "                                                                 \n",
            "=================================================================\n",
            "Total params: 303\n",
            "Trainable params: 303\n",
            "Non-trainable params: 0\n",
            "_________________________________________________________________\n",
            "None\n"
          ]
        }
      ],
      "source": [
        "### START CODE HERE ### ()\n",
        "model = build_model(0.1)\n",
        "history = model.fit(X_train, y_train, batch_size = 64 , epochs = 125 , validation_data = (X_test, y_test))\n",
        "print(model.summary())"
      ]
    },
    {
      "cell_type": "code",
      "execution_count": null,
      "id": "abadecd9-9a79-45c0-8540-bf16d8b4bc27",
      "metadata": {
        "id": "abadecd9-9a79-45c0-8540-bf16d8b4bc27",
        "colab": {
          "base_uri": "https://localhost:8080/",
          "height": 350
        },
        "outputId": "25baf965-9f79-45a1-c9a2-336ff9ee1ba9"
      },
      "outputs": [
        {
          "output_type": "display_data",
          "data": {
            "text/plain": [
              "<Figure size 720x360 with 1 Axes>"
            ],
            "image/png": "[encoded data removed]"
          },
          "metadata": {
            "needs_background": "light"
          }
        }
      ],
      "source": [
        "plt.figure(figsize=(10,5))\n",
        "plt.plot(history.history['loss'])\n",
        "plt.plot(history.history['val_loss'])\n",
        "plt.title('Loss vs. epochs, batch=' +str(batch_size))\n",
        "plt.ylabel('Loss')\n",
        "plt.xlabel('Epoch')\n",
        "plt.legend(['Training', 'Validation'], loc='upper right')\n",
        "plt.show()"
      ]
    },
    {
      "cell_type": "markdown",
      "id": "1c665798-8db4-4b7f-a242-b34f3d0d317d",
      "metadata": {
        "id": "1c665798-8db4-4b7f-a242-b34f3d0d317d"
      },
      "source": [
        "10. **What effect does changing learning rate have on learning?**\n",
        "\n",
        "**Answer:**\n",
        "increasing learning rate increase convergence and reduce loss highly"
      ]
    },
    {
      "cell_type": "code",
      "execution_count": null,
      "id": "d412834b-4486-446d-94c7-9d0c06a4419c",
      "metadata": {
        "id": "d412834b-4486-446d-94c7-9d0c06a4419c"
      },
      "outputs": [],
      "source": []
    }
  ],
  "metadata": {
    "kernelspec": {
      "display_name": "Python 3",
      "language": "python",
      "name": "python3"
    },
    "language_info": {
      "codemirror_mode": {
        "name": "ipython",
        "version": 3
      },
      "file_extension": ".py",
      "mimetype": "text/x-python",
      "name": "python",
      "nbconvert_exporter": "python",
      "pygments_lexer": "ipython3",
      "version": "3.8.8"
    },
    "colab": {
      "provenance": [],
      "collapsed_sections": []
    }
  },
  "nbformat": 4,
  "nbformat_minor": 5
}
